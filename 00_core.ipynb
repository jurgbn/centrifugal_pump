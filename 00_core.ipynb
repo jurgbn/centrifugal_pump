{
 "cells": [
  {
   "cell_type": "code",
   "execution_count": 407,
   "metadata": {
    "pycharm": {
     "name": "#%%\n"
    }
   },
   "outputs": [],
   "source": [
    "#| default_exp centrifugal_pump"
   ]
  },
  {
   "cell_type": "markdown",
   "metadata": {
    "pycharm": {
     "name": "#%% md\n"
    }
   },
   "source": [
    "# centrifugal_pump--Design and performance\n",
    "\n",
    "> A basic API for preliminary design and performance evaluation of centrifugal pumps"
   ]
  },
  {
   "cell_type": "code",
   "execution_count": 408,
   "metadata": {
    "pycharm": {
     "name": "#%%\n"
    }
   },
   "outputs": [],
   "source": [
    "#|hide\n",
    "from nbdev.showdoc import *"
   ]
  },
  {
   "cell_type": "markdown",
   "source": [
    "> Pump initial parameters"
   ],
   "metadata": {
    "collapsed": false,
    "pycharm": {
     "name": "#%% md\n"
    }
   }
  },
  {
   "cell_type": "markdown",
   "source": [
    "Pump performance specification:"
   ],
   "metadata": {
    "collapsed": false,
    "pycharm": {
     "name": "#%% md\n"
    }
   }
  },
  {
   "cell_type": "code",
   "execution_count": 409,
   "outputs": [],
   "source": [
    "pump_flow = 0.0054\n",
    "pump_head = 8\n",
    "pump_rpm = 1200"
   ],
   "metadata": {
    "collapsed": false,
    "pycharm": {
     "name": "#%%\n"
    }
   }
  },
  {
   "cell_type": "markdown",
   "source": [
    "Pump design input parameters"
   ],
   "metadata": {
    "collapsed": false,
    "pycharm": {
     "name": "#%% md\n"
    }
   }
  },
  {
   "cell_type": "code",
   "execution_count": 410,
   "outputs": [],
   "source": [
    "blade_outlet_angle = 30\n",
    "number_of_blades = 6\n",
    "inlet_impeller_hub_diameter = 0\n",
    "incidence = 0"
   ],
   "metadata": {
    "collapsed": false,
    "pycharm": {
     "name": "#%%\n"
    }
   }
  },
  {
   "cell_type": "code",
   "execution_count": 411,
   "outputs": [],
   "source": [
    "#|export\n",
    "from dataclasses import dataclass\n",
    "import numpy as np\n",
    "\n",
    "@dataclass\n",
    "class CentrifugalPumpSpecification:\n",
    "        impeller_inner_diameter: float\n",
    "        impeller_outer_diameter: float\n",
    "        inlet_blade_height: float\n",
    "        outlet_blade_height: float\n",
    "        blade_clearance: float\n",
    "        blade_thickness: float\n",
    "        number_of_impeller_blades: int\n",
    "        roughness: float\n",
    "        blade_inlet_angle_rad: float\n",
    "        blade_outlet_angle_rad: float\n",
    "        volute_throat_area: float\n",
    "        volute_height: float\n",
    "        diffuser_area_ratio: float\n",
    "        inlet_flow_angle_rad: float\n",
    "        diameter_size_check: bool = False\n",
    "        blade_height_size_check: bool = False\n",
    "        Kw: float = 0.0\n",
    "        Ks: float = 0.0\n",
    "        Kw_check: bool = False\n",
    "        Ks_check: bool = False\n"
   ],
   "metadata": {
    "collapsed": false,
    "pycharm": {
     "name": "#%%\n"
    }
   }
  },
  {
   "cell_type": "code",
   "execution_count": 412,
   "outputs": [],
   "source": [
    "#|export\n",
    "import matplotlib.pyplot as plt\n",
    "\n",
    "\n",
    "class PumpDesign:\n",
    "    def __init__(self,\n",
    "                 fluid: str,\n",
    "                 n_d: float,\n",
    "                 Q_d: float,\n",
    "                 H_d: float,\n",
    "                 head_coefficient: float = 0.5,\n",
    "                 flow_coefficient_phi: float = 0,\n",
    "                 epsilon: float=0.045e-3):\n",
    "        self.fluid = fluid\n",
    "        self.n_d = n_d\n",
    "        self.Q_d = Q_d\n",
    "        self.H_d = H_d\n",
    "        self.nq = n_d * np.sqrt(Q_d) / (H_d ** (3 / 4))\n",
    "        if flow_coefficient_phi == 0:\n",
    "            self.flow_coefficient_phi = 3.7838e-3 * self.nq - 0.02919\n",
    "        else:\n",
    "            self.flow_coefficient_phi=flow_coefficient_phi\n",
    "        self.epsilon = epsilon\n",
    "        self.head_coefficient_psi = head_coefficient\n",
    "\n",
    "    def pump_design(self,\n",
    "                    blade_outlet_angle_deg,\n",
    "                    number_of_blades,\n",
    "                    inlet_impeller_hub_diameter,\n",
    "                    incidence,\n",
    "                    plot_figure = False,\n",
    "                    flow_inlet_angle_deg = 90,\n",
    "                    blade_thickness = 8e-3,\n",
    "                    volute_height=5e-3,\n",
    "                    diffusor_area_ratio=2,\n",
    "                    blade_clearance = 0.05e-3) -> CentrifugalPumpSpecification:\n",
    "\n",
    "        t = blade_thickness\n",
    "        z = number_of_blades\n",
    "        dh1 = inlet_impeller_hub_diameter\n",
    "        i = incidence\n",
    "        b3 = volute_height\n",
    "        AR = diffusor_area_ratio\n",
    "        s = blade_clearance\n",
    "        beta2 = np.deg2rad(blade_outlet_angle_deg)\n",
    "        alpha1 = np.deg2rad(flow_inlet_angle_deg)\n",
    "\n",
    "        g = 9.81\n",
    "        omega_d = self.n_d / 60 * 2 * np.pi\n",
    "        d2 = 2 / omega_d * np.sqrt(g * self.H_d / self.head_coefficient_psi)\n",
    "        u2 = omega_d * d2 / 2\n",
    "\n",
    "        b2 = self.Q_d / (self.flow_coefficient_phi * u2 * (np.pi * d2 - t * z))\n",
    "        A2 = np.pi * d2 * b2 - t * z * b2\n",
    "        c2m = self.Q_d / A2\n",
    "\n",
    "\n",
    "        ns = 51.55 * self.nq\n",
    "\n",
    "        Kd = 1e-13 * ns ** 3 - 7e-9 * ns ** 2 + 1e-4 * ns + 0.2661\n",
    "        d1 = Kd * d2\n",
    "        b1 = (d1 - dh1) / 2\n",
    "        A1 = np.pi * ((dh1 + d1) / 2) * b1 - t * z * b1\n",
    "        c1m = self.Q_d / A1\n",
    "\n",
    "        u1 = omega_d * d1 / 2\n",
    "        c_theta_1 = c1m / np.tan(alpha1)\n",
    "        w_theta_1 = u1 - c_theta_1\n",
    "        beta1 = np.arctan(c1m / w_theta_1) + i\n",
    "        w1 = np.sqrt(c1m ** 2 + w_theta_1 ** 2)\n",
    "        sigma = 1 - np.sin(beta2) / (z ** 0.7)\n",
    "        w_theta_2 = c2m / np.tan(beta2)\n",
    "        w2 = np.sqrt(c2m ** 2 + w_theta_2 ** 2)\n",
    "        c_theta_2 = u2 - w_theta_2\n",
    "        c_theta_2_slip = sigma * (u2 - w_theta_2)\n",
    "\n",
    "        c2m_check = w_theta_2 * np.tan(beta2)\n",
    "        diameter_size_check = d1 < d2\n",
    "        blade_height_size_check = b2 < b1\n",
    "\n",
    "        Kw = (w1 - w2) / w1\n",
    "        Ks = (u2 - u1) / c_theta_2\n",
    "\n",
    "        L0 = 1/360 * c_theta_2_slip * d2/2\n",
    "        A4 = 0\n",
    "\n",
    "        theta_list = []\n",
    "        d_n_list = []\n",
    "        d_1_list = []\n",
    "        d_2_list = []\n",
    "        for theta in range(1, 360, 1):\n",
    "            coeff_1 = np.pi * L0 * 360**2 /(16 * self.Q_d * theta)\n",
    "            coeff_2 = -(2 * np.pi * L0 * 360**2 * d2 / (16 * self.Q_d * theta) + 1 / 4)\n",
    "            coeff_3 = (d2**2 * np.pi * L0 * 360**2 / (16 * self.Q_d * theta) - d2/4)\n",
    "            d_n_root = np.roots([coeff_1, coeff_2, coeff_3])\n",
    "            d_n = d_n_root[0]\n",
    "            c_theta_n = L0 * 360 / (d2/2 + (d_n - d2) / 4)\n",
    "            d_v = (d_n - d2) / 2\n",
    "            A4 = np.pi * (d_v/2)**2\n",
    "            theta_list.append(theta/(360/(2*np.pi)))\n",
    "            d_n_list.append(max(d_n/2, d2/2 + b3))\n",
    "            d_2_list.append(d2/2)\n",
    "            d_1_list.append(d1/2)\n",
    "\n",
    "        if plot_figure:\n",
    "            fig, ax = plt.subplots(subplot_kw={'projection': 'polar'})\n",
    "            ax.plot(theta_list, d_n_list)\n",
    "            ax.plot(theta_list, d_1_list)\n",
    "            ax.plot(theta_list, d_2_list)\n",
    "            # ax.set_rmax(0.25)\n",
    "            ax.set_rlabel_position(-22.5)  # Move radial labels away from plotted line\n",
    "            ax.grid(True)\n",
    "\n",
    "            ax.set_title(\"A line plot on a polar axis\", va='bottom')\n",
    "            plt.show()\n",
    "\n",
    "        pump_design_parameters = CentrifugalPumpSpecification(\n",
    "        impeller_inner_diameter = d1,\n",
    "        impeller_outer_diameter = d2,\n",
    "        inlet_blade_height = b1,\n",
    "        outlet_blade_height = b2,\n",
    "        volute_height = b3,\n",
    "        blade_clearance = s,\n",
    "        blade_thickness = t,\n",
    "        number_of_impeller_blades = z,\n",
    "        roughness = self.epsilon,\n",
    "        blade_inlet_angle_rad= beta1,\n",
    "        blade_outlet_angle_rad = beta2,\n",
    "        inlet_flow_angle_rad = alpha1,\n",
    "        volute_throat_area = A4,\n",
    "        diffuser_area_ratio=AR,\n",
    "        diameter_size_check=diameter_size_check,\n",
    "        blade_height_size_check=blade_height_size_check,\n",
    "        Kw=Kw,\n",
    "        Ks=Ks,\n",
    "        Kw_check=Kw<0.25,\n",
    "        Ks_check=Ks<0.9)\n",
    "\n",
    "\n",
    "        return pump_design_parameters\n"
   ],
   "metadata": {
    "collapsed": false,
    "pycharm": {
     "name": "#%%\n"
    }
   }
  },
  {
   "cell_type": "code",
   "execution_count": 413,
   "outputs": [
    {
     "data": {
      "text/plain": "<Figure size 640x480 with 1 Axes>",
      "image/png": "[encoded data removed]"
     },
     "metadata": {},
     "output_type": "display_data"
    }
   ],
   "source": [
    "design = PumpDesign(fluid=\"INCOMP::Water\", Q_d=pump_flow, H_d=pump_head, n_d=pump_rpm, flow_coefficient_phi=0.8)\n",
    "pump = design.pump_design(blade_outlet_angle_deg=blade_outlet_angle,\n",
    "                            number_of_blades=number_of_blades,\n",
    "                            inlet_impeller_hub_diameter=inlet_impeller_hub_diameter,\n",
    "                            incidence=0,\n",
    "                            plot_figure=True)\n"
   ],
   "metadata": {
    "collapsed": false,
    "pycharm": {
     "name": "#%%\n"
    }
   }
  },
  {
   "cell_type": "markdown",
   "source": [
    "> Pump design evaluation\n",
    "\n",
    "Pump design data:"
   ],
   "metadata": {
    "collapsed": false,
    "pycharm": {
     "name": "#%% md\n"
    }
   }
  },
  {
   "cell_type": "code",
   "execution_count": 414,
   "outputs": [
    {
     "name": "stdout",
     "output_type": "stream",
     "text": [
      "Inlet blade angle: 87\n",
      "Outlet blade angle: 30\n",
      "Impeller inner diameter: 35.0 mm\n",
      "Impeller outer diameter 100.0 mm\n",
      "Inlet blade height 18.0 mm\n",
      "Outlet blade height 4.0 mm\n"
     ]
    }
   ],
   "source": [
    "print('Inlet blade angle: {}'.format(round(np.rad2deg(pump.blade_inlet_angle_rad)), 2))\n",
    "print('Outlet blade angle: {}'.format(round(np.rad2deg(pump.blade_outlet_angle_rad)), 2))\n",
    "print('Impeller inner diameter: {} mm'.format(round(pump.impeller_inner_diameter, 3) * 1000))\n",
    "print('Impeller outer diameter {} mm'.format(round(pump.impeller_outer_diameter,3) * 1000))\n",
    "print('Inlet blade height {} mm'.format(round(pump.inlet_blade_height, 3) * 1000))\n",
    "print('Outlet blade height {} mm'.format(round(pump.outlet_blade_height, 3) * 1000))"
   ],
   "metadata": {
    "collapsed": false,
    "pycharm": {
     "name": "#%%\n"
    }
   }
  },
  {
   "cell_type": "markdown",
   "source": [
    "Requirements:\n",
    "Inner blade diameter should be smaller than outer blade diameter"
   ],
   "metadata": {
    "collapsed": false,
    "pycharm": {
     "name": "#%% md\n"
    }
   }
  },
  {
   "cell_type": "code",
   "execution_count": 415,
   "outputs": [
    {
     "name": "stdout",
     "output_type": "stream",
     "text": [
      "0.035 < 0.1 is True\n"
     ]
    }
   ],
   "source": [
    "print('{} < {} is {}'.format(round(pump.impeller_inner_diameter, 3), round(pump.impeller_outer_diameter, 3), pump.diameter_size_check))"
   ],
   "metadata": {
    "collapsed": false,
    "pycharm": {
     "name": "#%%\n"
    }
   }
  },
  {
   "cell_type": "markdown",
   "source": [
    "Inlet blade height have to be larger than the outlet blade height"
   ],
   "metadata": {
    "collapsed": false,
    "pycharm": {
     "name": "#%% md\n"
    }
   }
  },
  {
   "cell_type": "code",
   "execution_count": 416,
   "outputs": [
    {
     "name": "stdout",
     "output_type": "stream",
     "text": [
      "0.018 > 0.004 is True\n"
     ]
    }
   ],
   "source": [
    "print('{} > {} is {}'.format(round(pump.inlet_blade_height, 3), round(pump.outlet_blade_height, 3), pump.blade_height_size_check))"
   ],
   "metadata": {
    "collapsed": false,
    "pycharm": {
     "name": "#%%\n"
    }
   }
  },
  {
   "cell_type": "markdown",
   "source": [
    "Small relative velocities: Kw < 0.25"
   ],
   "metadata": {
    "collapsed": false,
    "pycharm": {
     "name": "#%% md\n"
    }
   }
  },
  {
   "cell_type": "code",
   "execution_count": 417,
   "outputs": [
    {
     "name": "stdout",
     "output_type": "stream",
     "text": [
      "0.749 < 0.25 is False\n"
     ]
    }
   ],
   "source": [
    "print('{} < 0.25 is {}'.format(round(pump.Kw, 3), pump.Kw_check))"
   ],
   "metadata": {
    "collapsed": false,
    "pycharm": {
     "name": "#%%\n"
    }
   }
  },
  {
   "cell_type": "markdown",
   "source": [
    "Stability factor: Ks < 0.9"
   ],
   "metadata": {
    "collapsed": false,
    "pycharm": {
     "name": "#%% md\n"
    }
   }
  },
  {
   "cell_type": "code",
   "execution_count": 418,
   "outputs": [
    {
     "name": "stdout",
     "output_type": "stream",
     "text": [
      "-1.672 < 0.9 is True\n"
     ]
    }
   ],
   "source": [
    "print('{} < 0.9 is {}'.format(round(pump.Ks, 3), pump.Ks_check))\n",
    "\n"
   ],
   "metadata": {
    "collapsed": false,
    "pycharm": {
     "name": "#%%\n"
    }
   }
  },
  {
   "cell_type": "code",
   "execution_count": 419,
   "outputs": [],
   "source": [
    "#|export\n",
    "from CoolProp.CoolProp import PropsSI\n",
    "from scipy.optimize import root_scalar\n",
    "from collections import namedtuple\n",
    "import pandas as pd\n",
    "import plotly.express as px\n",
    "\n",
    "class CentrifugalPump:\n",
    "    def __init__(self, fluid: str, temperature: float, data: CentrifugalPumpSpecification):\n",
    "        self.g = 9.81\n",
    "        self.P = 101325\n",
    "        self.T = temperature\n",
    "        self.fluid = fluid\n",
    "        self.d1 = data.impeller_inner_diameter\n",
    "        self.d2 = data.impeller_outer_diameter\n",
    "        self.b1 = data.inlet_blade_height\n",
    "        self.b2 = data.outlet_blade_height\n",
    "        self.b3 = data.volute_height\n",
    "        self.s = data.blade_clearance\n",
    "        self.t = data.blade_thickness\n",
    "        self.z = data.number_of_impeller_blades\n",
    "        self.epsilon = data.roughness\n",
    "        self.beta1 = data.blade_inlet_angle_rad\n",
    "        self.beta2 = data.blade_outlet_angle_rad\n",
    "        self.alpha1 = data.inlet_flow_angle_rad\n",
    "        self.r1 = self.d1 / 2\n",
    "        self.r2 = self.d2 / 2\n",
    "        self.A1 = np.pi * self.d1 * self.b1\n",
    "        self.A2 = np.pi * self.d2 * self.b2\n",
    "        self.A1r = self.A1 - self.t * self.z * self.b1\n",
    "        self.A2r = self.A2 - self.t * self.z * self.b2\n",
    "        self.A4 = data.volute_throat_area\n",
    "        self.A5 = self.A4 * data.diffuser_area_ratio\n",
    "\n",
    "    def _friction_colebrook(self, f, dh, Re):\n",
    "        res = 1 / np.sqrt(f) + 2 * np.log10(\n",
    "            (self.epsilon / dh) / 3.7 + 2.51 / (Re * np.sqrt(f))\n",
    "        )\n",
    "        return res\n",
    "\n",
    "    def _friction_factor(self, a1, a2, temperature, v_avg):\n",
    "        dh = 2 * (a2 * self.b2 + a1 * self.b1) / (a1 + a2 + self.b1 + self.b1)\n",
    "        v = PropsSI(\"V\", \"T\", temperature, \"P\", self.P, self.fluid)\n",
    "        rho = PropsSI('D', 'T', temperature, 'P', self.P, self.fluid)\n",
    "        Re = rho * v_avg * dh / v\n",
    "        f0 = 0.25 * (np.log((self.epsilon / dh) / 3.7 + 5.74 / Re ** 0.9)) ** (-2)\n",
    "        f = root_scalar(\n",
    "            method=\"bisect\",\n",
    "            f=self._friction_colebrook,\n",
    "            x0=f0,\n",
    "            args=(dh, Re),\n",
    "            bracket=[0.0001, 300],\n",
    "        ).root\n",
    "        return f\n",
    "\n",
    "    def _pump_friction_loss(self, v1: float, v2: float, temperature: float):\n",
    "        L = (self.d2 - self.d1) / (2 * np.sin(self.beta2))\n",
    "        a1 = np.pi * self.d1 / self.z * np.sin(self.beta1)\n",
    "        a2 = np.pi * self.d2 / self.z * np.sin(self.beta2)\n",
    "        dh = 2 * (a2 * self.b2 + a1 * self.b1) / (a1 + a2 + self.b1 + self.b1)\n",
    "        v_avg = (v1 + v2) / 2\n",
    "        f = self._friction_factor(a1=a1, a2=a2, temperature=temperature, v_avg=v_avg)\n",
    "        Hl_f = f * L * v_avg ** 2 / (dh * 2 * self.g)\n",
    "\n",
    "        return Hl_f\n",
    "\n",
    "    def _pump_incidence_loss(self, beta1, beta1_fl, w1):\n",
    "        lmda = np.sin(beta1_fl) / np.sin(2 * beta1_fl - beta1) - np.sqrt(\n",
    "            (np.sin(beta1_fl) ** 2 - np.sin(beta1) * np.sin(2 * beta1_fl - beta1))\n",
    "            / (np.sin(2 * beta1_fl - beta1)) ** 2\n",
    "        )\n",
    "        Hl_inc = (\n",
    "            w1 ** 2\n",
    "            / (2 * self.g)\n",
    "            * (1 / lmda) ** 2\n",
    "            * (1 - lmda * np.sin(beta1_fl) / np.sin(beta1)) ** 2\n",
    "        )\n",
    "        return Hl_inc\n",
    "\n",
    "    def _pump_leak_loss_open(self, Hth):\n",
    "        a2 = np.pi * self.d2 / self.z * np.sin(self.beta2)\n",
    "        nq = 20\n",
    "        Hl_leak_ratio = (2.5 * self.s / self.d2) / (\n",
    "            np.sqrt(self.b2 / self.d2 * (1 - self.d1 / self.d2))\n",
    "            * (self.t / a2)\n",
    "            * nq ** 0.1\n",
    "            * np.sin(self.beta2) ** 1.2\n",
    "            * np.sin(self.beta1) ** 0.4\n",
    "        )\n",
    "        return Hl_leak_ratio * Hth\n",
    "\n",
    "    def _pump_leak_loss_closed(self, Q, Hth, omega, w1: float, w2: float, temperature: float):\n",
    "        Hl_stat = Hth - (omega / 2) ** 2 * (self.d2 ** 2 - self.d1 ** 2) / (8 * self.g)\n",
    "        a1 = np.pi * self.d1 / self.z * np.sin(self.beta1)\n",
    "        a2 = np.pi * self.d2 / self.z * np.sin(self.beta2)\n",
    "        w_avg = (w1 + w2) / 2\n",
    "        f = self._friction_factor(a1=a1, a2=a2, temperature=temperature, v_avg=w_avg)\n",
    "        L_gap = (self.d2 - self.d1) / 2\n",
    "        v_gap = np.sqrt(2 * self.g * Hl_stat / (f * L_gap / self.s + 0.5 + 0.5))\n",
    "        A_gap = np.pi * self.d2 * self.s\n",
    "        Q_leak = v_gap * A_gap\n",
    "        eta_vol = Q / (Q + Q_leak)\n",
    "        return eta_vol\n",
    "\n",
    "    def _pump_diffusion_loss(self, w1):\n",
    "        Hl_d = 0.25 * w1 ** 2 / (2 * self.g)\n",
    "        return Hl_d\n",
    "\n",
    "    def _volute_friction_loss(self, Q, temperature):\n",
    "        dh_volute = 4 * self.A4 / (4 * self.b3)\n",
    "        d3 = self.d2 + 2 * self.b3\n",
    "        c4m = Q / self.A4\n",
    "        v = PropsSI(\"V\", \"T\", temperature, \"P\", self.P, self.fluid)\n",
    "        rho = PropsSI('D', 'T', temperature, 'P', self.P, self.fluid)\n",
    "        Re = rho * c4m * dh_volute / v\n",
    "        f0 = 0.25 * (np.log((self.epsilon / dh_volute) / 3.7 + 5.74 / Re ** 0.9)) ** (\n",
    "            -2\n",
    "        )\n",
    "        f = root_scalar(\n",
    "            method=\"bisect\",\n",
    "            f=self._friction_colebrook,\n",
    "            x0=f0,\n",
    "            args=(dh_volute, Re),\n",
    "            bracket=[0.0001, 100],\n",
    "        ).root\n",
    "\n",
    "        Hl_f_v = f * (4 * d3 * self.b3 * c4m ** 2) / (dh_volute ** 2 * 2 * self.g)\n",
    "        return Hl_f_v\n",
    "\n",
    "    def _volute_radial_loss(self, c2r):\n",
    "        Hl_radial_v = c2r ** 2 / (2 * self.g)\n",
    "        return Hl_radial_v\n",
    "\n",
    "    def _volute_head_loss(self, Q, c_theta_2):\n",
    "        c4m = Q / self.A4\n",
    "        d4 = self.d2 + self.b3 + np.sqrt(self.A4 / np.pi) / 2\n",
    "        c_theta_4 = c_theta_2 * self.d2 / d4\n",
    "        Hl_h_v = 0.8 * (c_theta_4 ** 2 - c4m ** 2) / (2 * self.g)\n",
    "        return Hl_h_v\n",
    "\n",
    "    def _volute_diffuser_loss(self, Q):\n",
    "        cp = 2 * ((self.A4 / self.A5) - (self.A4 / self.A5) ** 2)\n",
    "        delta_diff = 1 - cp\n",
    "        c4m = Q / self.A4\n",
    "        Hl_diff_v = delta_diff * c4m ** 2 / (2 * self.g)\n",
    "        return Hl_diff_v\n",
    "\n",
    "    def _power_disk_friction(self, temperature, u2):\n",
    "        v = PropsSI(\"V\", \"T\", temperature, \"P\", self.P, self.fluid)\n",
    "        rho = PropsSI('D', 'T', temperature, 'P', self.P, self.fluid)\n",
    "        k = 7.3e-4 * (2 * v * 1e6 / (u2 * self.d2)) ** (1 / 8)\n",
    "        P_disk = k * rho * u2 ** 3 * self.d2 * (self.d2 + 5 * self.s)\n",
    "        return P_disk\n",
    "\n",
    "    def pump_head(self, Q, n, temperature):\n",
    "        omega = n / 60 * 2 * np.pi\n",
    "\n",
    "        c1m = Q / self.A1r\n",
    "        c2m = Q / self.A2r\n",
    "\n",
    "        u1 = omega * self.r1\n",
    "        u2 = omega * self.r2\n",
    "\n",
    "        c_theta_1 = c1m / np.tan(self.alpha1)\n",
    "        c1 = np.sqrt(c1m ** 2 + c_theta_1 ** 2)\n",
    "        w_theta_1 = u1 - c_theta_1\n",
    "        w1 = np.sqrt(c1m ** 2 + w_theta_1 ** 2)\n",
    "        beta1_fl = np.arctan(c1m / w_theta_1)\n",
    "        incidence = self.beta1 - beta1_fl\n",
    "\n",
    "        sigma = 1 - np.sin(self.beta2) / (self.z ** 0.7)\n",
    "\n",
    "        w_theta_2 = c2m / np.tan(self.beta2)\n",
    "        w2 = np.sqrt(c2m ** 2 + w_theta_2 ** 2)\n",
    "        c_theta_2_slip = sigma * (u2 - w_theta_2)\n",
    "        w_theta_2_slip = u2 - c_theta_2_slip\n",
    "        beta2_fl = np.arctan(c2m / w_theta_2_slip)\n",
    "\n",
    "        Hth = 1 / self.g * (u2 * c_theta_2_slip - u1 * c_theta_1)\n",
    "        Hl_f = self._pump_friction_loss(v1=w1, v2=w2, temperature=temperature)\n",
    "        Hl_inc = self._pump_incidence_loss(beta1=self.beta1, beta1_fl=beta1_fl, w1=w1)\n",
    "        Hl_leak = self._pump_leak_loss_open(Hth=Hth)\n",
    "        Hl_d = self._pump_diffusion_loss(w1=w1)\n",
    "        Hl_f_v = self._volute_friction_loss(Q=Q, temperature=temperature)\n",
    "        Hl_r_v = self._volute_radial_loss(c2r=c2m)\n",
    "        Hl_h_v = self._volute_head_loss(Q=Q, c_theta_2=c_theta_2_slip)\n",
    "        Hl_diff_v = self._volute_diffuser_loss(Q=Q)\n",
    "        H_out = (\n",
    "            Hth - Hl_f - Hl_inc - Hl_leak - Hl_d - Hl_f_v - Hl_r_v - Hl_h_v - Hl_diff_v\n",
    "        )\n",
    "\n",
    "        rho = PropsSI('D', 'T', temperature, 'P', self.P, self.fluid)\n",
    "\n",
    "        P_disk = self._power_disk_friction(temperature=temperature, u2=u2)\n",
    "        P_hyd = Hth * self.g * rho * Q\n",
    "        P_out = H_out * self.g * rho * Q\n",
    "        P_in = P_hyd + P_disk\n",
    "        eta = P_out / P_in\n",
    "\n",
    "        PumpPerformance = namedtuple('PumpPerformance', ['head',\n",
    "                                                         'head_incidence',\n",
    "                                                         'head_theoretical',\n",
    "                                                         'pump_friction_loss',\n",
    "                                                         'pump_incidence_loss',\n",
    "                                                         'pump_diffusion_loss',\n",
    "                                                         'volute_friction_loss',\n",
    "                                                         'volute_radial_loss',\n",
    "                                                         'volute_head_loss',\n",
    "                                                         'volute_diffuser_loss',\n",
    "                                                         'power_in',\n",
    "                                                         'power_out',\n",
    "                                                         'pump_efficiency'])\n",
    "\n",
    "        return PumpPerformance(H_out,\n",
    "                               np.rad2deg(self.beta1 - beta1_fl),\n",
    "                               Hth,\n",
    "                               Hl_f,\n",
    "                               Hl_inc,\n",
    "                               Hl_d,\n",
    "                               Hl_f_v,\n",
    "                               Hl_r_v,\n",
    "                               Hl_h_v,\n",
    "                               Hl_diff_v,\n",
    "                               P_in,\n",
    "                               P_out,\n",
    "                               eta)\n",
    "\n",
    "    def create_performance_figures(self, min_Q, max_Q, dQ, min_n, max_n, dn):\n",
    "        n = []\n",
    "        Q = []\n",
    "        H = []\n",
    "        Hth = []\n",
    "        inc_loss = []\n",
    "        inc = []\n",
    "        Hl_f = []\n",
    "        Hl_d = []\n",
    "        Hl_f_v = []\n",
    "        Hl_r_v = []\n",
    "        Hl_h_v = []\n",
    "        Hl_diff_v = []\n",
    "        power_in = []\n",
    "        power_out = []\n",
    "        eta = []\n",
    "        for speed in np.arange(min_n, max_n, dn):\n",
    "            for flow in np.arange(min_Q, max_Q, dQ):\n",
    "                pump_performance = pump.pump_head(Q=flow, n=speed, temperature=self.T)\n",
    "                n.append(speed)\n",
    "                Q.append(flow * 1000 * 60)\n",
    "                H.append(pump_performance.head)\n",
    "                Hth.append(pump_performance.head_theoretical)\n",
    "                inc_loss.append(pump_performance.pump_incidence_loss)\n",
    "                inc.append(pump_performance.head_incidence)\n",
    "                Hl_f.append(pump_performance.pump_friction_loss)\n",
    "                Hl_d.append(pump_performance.pump_diffusion_loss)\n",
    "                Hl_f_v.append(pump_performance.volute_friction_loss)\n",
    "                Hl_r_v.append(pump_performance.volute_radial_loss)\n",
    "                Hl_h_v.append(pump_performance.volute_head_loss)\n",
    "                Hl_diff_v.append(pump_performance.volute_diffuser_loss)\n",
    "                power_in.append(pump_performance.power_in / 1000)\n",
    "                power_out.append(pump_performance.power_out / 1000)\n",
    "                eta.append(pump_performance.pump_efficiency)\n",
    "        pump_dict = {'Speed':n, 'Flow [l/min]':Q, 'Head [m]':H, 'Head theoretical':Hth, 'Incidence loss':inc_loss, 'Incidence':inc, 'Head loss friction':Hl_f, 'Head loss volute friction':Hl_f_v, 'Head loss volute radial':Hl_r_v, 'Head loss volute':Hl_h_v, 'Head loss volute diffusor': Hl_diff_v, 'Power in':power_in, 'Power out': power_out, 'Pump efficiency':eta}\n",
    "        pump_df = pd.DataFrame(data=pump_dict)\n",
    "\n",
    "        self.fig_flow_head_th = px.line(pump_df, x=\"Flow [l/min]\", y='Head theoretical', color=\"Speed\", title=\"Pump theoretical head\")\n",
    "        self.fig_flow_head_th.show()\n",
    "\n",
    "        self.fig_flow_head = px.line(pump_df, x=\"Flow [l/min]\", y=\"Head [m]\", color=\"Speed\", title=\"Pump head\")\n",
    "        self.fig_flow_head.show()\n",
    "\n",
    "        self.fig_flow_eta = px.line(pump_df, x=\"Flow [l/min]\", y='Pump efficiency', color=\"Speed\", title=\"Pump efficiency\")\n",
    "        self.fig_flow_eta.update_yaxes(range=[0, 1])\n",
    "        self.fig_flow_eta.show()\n",
    "\n",
    "        self.fig_flow_incloss = px.line(pump_df, x=\"Flow [l/min]\", y='Incidence loss', color=\"Speed\", title=\"Incidence loss\")\n",
    "        self.fig_flow_incloss.show()\n",
    "\n",
    "        self.fig_flow_friction = px.line(pump_df, x=\"Flow [l/min]\", y='Head loss friction', color=\"Speed\", title=\"Friction loss\")\n",
    "        self.fig_flow_friction.show()\n",
    "\n",
    "        self.fig_flow_volute_friction = px.line(pump_df, x=\"Flow [l/min]\", y='Head loss volute friction', color=\"Speed\", title=\"Volute friction loss\")\n",
    "        self.fig_flow_volute_friction.show()\n",
    "\n",
    "        self.fig_flow_volute_radial= px.line(pump_df, x=\"Flow [l/min]\", y='Head loss volute radial', color=\"Speed\", title=\"Volute radial loss\")\n",
    "        self.fig_flow_volute_radial.show()\n",
    "\n",
    "        self.fig_flow_volute_head= px.line(pump_df, x=\"Flow [l/min]\", y='Head loss volute', color=\"Speed\", title=\"Volute head loss\")\n",
    "        self.fig_flow_volute_head.show()\n",
    "\n",
    "        self.fig_flow_volute_diffusor= px.line(pump_df, x=\"Flow [l/min]\", y='Head loss volute diffusor', color=\"Speed\", title=\"Volute diffusor loss\")\n",
    "        self.fig_flow_volute_diffusor.show()\n",
    "\n",
    "\n",
    "\n"
   ],
   "metadata": {
    "collapsed": false,
    "pycharm": {
     "name": "#%%\n"
    }
   }
  },
  {
   "cell_type": "code",
   "execution_count": 420,
   "outputs": [
    {
     "name": "stderr",
     "output_type": "stream",
     "text": [
      "C:\\Users\\jni\\Documents\\git\\CentrifugalPumpDesignPerformance\\venv\\lib\\site-packages\\scipy\\optimize\\_zeros_py.py:556: ComplexWarning:\n",
      "\n",
      "Casting complex values to real discards the imaginary part\n",
      "\n"
     ]
    },
    {
     "data": {
      "application/vnd.plotly.v1+json": {
       "data": [
        {
         "hovertemplate": "Speed=500<br>Flow [l/min]=%{x}<br>Head theoretical=%{y}<extra></extra>",
         "legendgroup": "500",
         "line": {
          "color": "#636efa",
          "dash": "solid"
         },
         "marker": {
          "symbol": "circle"
         },
         "mode": "lines",
         "name": "500",
         "orientation": "v",
         "showlegend": true,
         "x": [
          6.0,
          12.0,
          18.000000000000004,
          24.0,
          30.0,
          36.00000000000001,
          42.00000000000001,
          48.0,
          54.00000000000001,
          60.0,
          66.0,
          72.00000000000001,
          78.00000000000001,
          84.00000000000001,
          90.0,
          96.0,
          102.00000000000001,
          108.00000000000001,
          114.00000000000001,
          120.0,
          126.0,
          132.0,
          138.0,
          144.0,
          150.0,
          156.0,
          162.0,
          168.0,
          174.0,
          180.0,
          186.0,
          192.0,
          198.0,
          204.0,
          210.0,
          216.0,
          222.0,
          228.0,
          234.0,
          240.0,
          246.00000000000003,
          252.0,
          258.00000000000006,
          264.0,
          270.00000000000006,
          276.00000000000006,
          282.0,
          288.00000000000006,
          294.0,
          300.0,
          306.00000000000006,
          312.00000000000006,
          318.00000000000006,
          324.0,
          330.00000000000006,
          336.00000000000006,
          342.0,
          348.00000000000006,
          354.0,
          360.0,
          366.00000000000006,
          372.00000000000006,
          378.00000000000006,
          384.0,
          390.00000000000006,
          396.00000000000006,
          402.0,
          408.00000000000006,
          414.0,
          420.00000000000006,
          426.00000000000006,
          432.00000000000006,
          438.00000000000006,
          444.0,
          450.00000000000006,
          456.00000000000006,
          462.0,
          468.00000000000006,
          474.0,
          480.0,
          486.0,
          491.99999999999994,
          498.00000000000006,
          504.0,
          510.0,
          516.0,
          522.0,
          528.0,
          534.0,
          540.0,
          546.0,
          552.0,
          557.9999999999999,
          564.0,
          570.0,
          576.0,
          582.0000000000001,
          587.9999999999999,
          593.9999999999999
         ],
         "xaxis": "x",
         "y": [
          0.5587175625116013,
          0.5220514363316345,
          0.4853853101516677,
          0.44871918397170074,
          0.412053057791734,
          0.3753869316117671,
          0.33872080543180016,
          0.3020546792518333,
          0.2653885530718665,
          0.2287224268918997,
          0.1920563007119328,
          0.155390174531966,
          0.11872404835199905,
          0.08205792217203217,
          0.04539179599206538,
          0.0087256698120985,
          -0.027940456367868287,
          -0.06460658254783527,
          -0.10127270872780215,
          -0.13793883490776884,
          -0.1746049610877356,
          -0.21127108726770258,
          -0.24793721344766947,
          -0.2846033396276362,
          -0.321269465807603,
          -0.3579355919875699,
          -0.3946017181675368,
          -0.4312678443475037,
          -0.4679339705274704,
          -0.5046000967074376,
          -0.5412662228874042,
          -0.5779323490673712,
          -0.6145984752473379,
          -0.6512646014273048,
          -0.6879307276072717,
          -0.7245968537872385,
          -0.7612629799672054,
          -0.7979291061471723,
          -0.8345952323271391,
          -0.8712613585071057,
          -0.907927484687073,
          -0.9445936108670399,
          -0.9812597370470069,
          -1.0179258632269734,
          -1.0545919894069407,
          -1.0912581155869074,
          -1.1279242417668742,
          -1.1645903679468408,
          -1.2012564941268076,
          -1.2379226203067744,
          -1.2745887464867414,
          -1.3112548726667084,
          -1.3479209988466752,
          -1.3845871250266417,
          -1.421253251206609,
          -1.457919377386576,
          -1.4945855035665425,
          -1.5312516297465093,
          -1.5679177559264765,
          -1.604583882106443,
          -1.6412500082864103,
          -1.677916134466377,
          -1.7145822606463441,
          -1.7512483868263105,
          -1.7879145130062775,
          -1.8245806391862442,
          -1.861246765366211,
          -1.8979128915461776,
          -1.9345790177261448,
          -1.971245143906112,
          -2.0079112700860784,
          -2.0445773962660456,
          -2.0812435224460124,
          -2.1179096486259787,
          -2.154575774805946,
          -2.1912419009859128,
          -2.22790802716588,
          -2.2645741533458463,
          -2.3012402795258136,
          -2.3379064057057795,
          -2.3745725318857467,
          -2.411238658065713,
          -2.4479047842456807,
          -2.484570910425647,
          -2.5212370366056143,
          -2.557903162785581,
          -2.5945692889655474,
          -2.631235415145515,
          -2.6679015413254814,
          -2.7045676675054486,
          -2.741233793685416,
          -2.7778999198653826,
          -2.814566046045349,
          -2.8512321722253158,
          -2.887898298405283,
          -2.9245644245852493,
          -2.961230550765216,
          -2.997896676945183,
          -3.0345628031251497
         ],
         "yaxis": "y",
         "type": "scatter"
        },
        {
         "hovertemplate": "Speed=1000<br>Flow [l/min]=%{x}<br>Head theoretical=%{y}<extra></extra>",
         "legendgroup": "1000",
         "line": {
          "color": "#EF553B",
          "dash": "solid"
         },
         "marker": {
          "symbol": "circle"
         },
         "mode": "lines",
         "name": "1000",
         "orientation": "v",
         "showlegend": true,
         "x": [
          6.0,
          12.0,
          18.000000000000004,
          24.0,
          30.0,
          36.00000000000001,
          42.00000000000001,
          48.0,
          54.00000000000001,
          60.0,
          66.0,
          72.00000000000001,
          78.00000000000001,
          84.00000000000001,
          90.0,
          96.0,
          102.00000000000001,
          108.00000000000001,
          114.00000000000001,
          120.0,
          126.0,
          132.0,
          138.0,
          144.0,
          150.0,
          156.0,
          162.0,
          168.0,
          174.0,
          180.0,
          186.0,
          192.0,
          198.0,
          204.0,
          210.0,
          216.0,
          222.0,
          228.0,
          234.0,
          240.0,
          246.00000000000003,
          252.0,
          258.00000000000006,
          264.0,
          270.00000000000006,
          276.00000000000006,
          282.0,
          288.00000000000006,
          294.0,
          300.0,
          306.00000000000006,
          312.00000000000006,
          318.00000000000006,
          324.0,
          330.00000000000006,
          336.00000000000006,
          342.0,
          348.00000000000006,
          354.0,
          360.0,
          366.00000000000006,
          372.00000000000006,
          378.00000000000006,
          384.0,
          390.00000000000006,
          396.00000000000006,
          402.0,
          408.00000000000006,
          414.0,
          420.00000000000006,
          426.00000000000006,
          432.00000000000006,
          438.00000000000006,
          444.0,
          450.00000000000006,
          456.00000000000006,
          462.0,
          468.00000000000006,
          474.0,
          480.0,
          486.0,
          491.99999999999994,
          498.00000000000006,
          504.0,
          510.0,
          516.0,
          522.0,
          528.0,
          534.0,
          540.0,
          546.0,
          552.0,
          557.9999999999999,
          564.0,
          570.0,
          576.0,
          582.0000000000001,
          587.9999999999999,
          593.9999999999999
         ],
         "xaxis": "x",
         "y": [
          2.3082025024063393,
          2.2348702500464053,
          2.1615379976864717,
          2.088205745326538,
          2.0148734929666046,
          1.9415412406066708,
          1.8682089882467368,
          1.794876735886803,
          1.7215444835268694,
          1.648212231166936,
          1.574879978807002,
          1.5015477264470685,
          1.4282154740871347,
          1.3548832217272007,
          1.2815509693672673,
          1.2082187170073333,
          1.1348864646474,
          1.061554212287466,
          0.9882219599275321,
          0.9148897075675988,
          0.8415574552076652,
          0.7682252028477312,
          0.6948929504877974,
          0.6215606981278641,
          0.5482284457679304,
          0.47489619340799655,
          0.4015639410480628,
          0.328231688688129,
          0.25489943632819567,
          0.18156718396826152,
          0.10823493160832777,
          0.034902679248394,
          -0.03842957311153936,
          -0.11176182547147315,
          -0.18509407783140688,
          -0.25842633019134065,
          -0.3317585825512744,
          -0.4050908349112082,
          -0.47842308727114186,
          -0.5517553396310754,
          -0.6250875919910094,
          -0.6984198443509432,
          -0.7717520967108774,
          -0.8450843490708103,
          -0.9184166014307446,
          -0.9917488537906782,
          -1.0650811061506116,
          -1.138413358510545,
          -1.2117456108704792,
          -1.285077863230412,
          -1.3584101155903463,
          -1.4317423679502803,
          -1.5050746203102137,
          -1.5784068726701472,
          -1.6517391250300815,
          -1.7250713773900155,
          -1.7984036297499488,
          -1.8717358821098822,
          -1.9450681344698166,
          -2.01840038682975,
          -2.091732639189684,
          -2.1650648915496182,
          -2.2383971439095514,
          -2.311729396269485,
          -2.385061648629418,
          -2.4583939009893525,
          -2.5317261533492856,
          -2.605058405709219,
          -2.6783906580691537,
          -2.7517229104290872,
          -2.8250551627890204,
          -2.898387415148955,
          -2.9717196675088884,
          -3.0450519198688215,
          -3.118384172228756,
          -3.19171642458869,
          -3.265048676948623,
          -3.3383809293085562,
          -3.41171318166849,
          -3.485045434028423,
          -3.5583776863883565,
          -3.6317099387482896,
          -3.705042191108224,
          -3.7783744434681577,
          -3.851706695828093,
          -3.925038948188026,
          -3.9983712005479584,
          -4.071703452907894,
          -4.145035705267826,
          -4.21836795762776,
          -4.291700209987694,
          -4.365032462347629,
          -4.4383647147075616,
          -4.511696967067497,
          -4.58502921942743,
          -4.658361471787362,
          -4.731693724147296,
          -4.80502597650723,
          -4.878358228867163
         ],
         "yaxis": "y",
         "type": "scatter"
        },
        {
         "hovertemplate": "Speed=1500<br>Flow [l/min]=%{x}<br>Head theoretical=%{y}<extra></extra>",
         "legendgroup": "1500",
         "line": {
          "color": "#00cc96",
          "dash": "solid"
         },
         "marker": {
          "symbol": "circle"
         },
         "mode": "lines",
         "name": "1500",
         "orientation": "v",
         "showlegend": true,
         "x": [
          6.0,
          12.0,
          18.000000000000004,
          24.0,
          30.0,
          36.00000000000001,
          42.00000000000001,
          48.0,
          54.00000000000001,
          60.0,
          66.0,
          72.00000000000001,
          78.00000000000001,
          84.00000000000001,
          90.0,
          96.0,
          102.00000000000001,
          108.00000000000001,
          114.00000000000001,
          120.0,
          126.0,
          132.0,
          138.0,
          144.0,
          150.0,
          156.0,
          162.0,
          168.0,
          174.0,
          180.0,
          186.0,
          192.0,
          198.0,
          204.0,
          210.0,
          216.0,
          222.0,
          228.0,
          234.0,
          240.0,
          246.00000000000003,
          252.0,
          258.00000000000006,
          264.0,
          270.00000000000006,
          276.00000000000006,
          282.0,
          288.00000000000006,
          294.0,
          300.0,
          306.00000000000006,
          312.00000000000006,
          318.00000000000006,
          324.0,
          330.00000000000006,
          336.00000000000006,
          342.0,
          348.00000000000006,
          354.0,
          360.0,
          366.00000000000006,
          372.00000000000006,
          378.00000000000006,
          384.0,
          390.00000000000006,
          396.00000000000006,
          402.0,
          408.00000000000006,
          414.0,
          420.00000000000006,
          426.00000000000006,
          432.00000000000006,
          438.00000000000006,
          444.0,
          450.00000000000006,
          456.00000000000006,
          462.0,
          468.00000000000006,
          474.0,
          480.0,
          486.0,
          491.99999999999994,
          498.00000000000006,
          504.0,
          510.0,
          516.0,
          522.0,
          528.0,
          534.0,
          540.0,
          546.0,
          552.0,
          557.9999999999999,
          564.0,
          570.0,
          576.0,
          582.0000000000001,
          587.9999999999999,
          593.9999999999999
         ],
         "xaxis": "x",
         "y": [
          5.248454819684212,
          5.138456441144311,
          5.028458062604411,
          4.918459684064511,
          4.80846130552461,
          4.69846292698471,
          4.588464548444809,
          4.478466169904908,
          4.368467791365007,
          4.258469412825107,
          4.1484710342852065,
          4.038472655745307,
          3.9284742772054058,
          3.8184758986655045,
          3.7084775201256046,
          3.5984791415857034,
          3.488480763045803,
          3.378482384505903,
          3.2684840059660023,
          3.158485627426102,
          3.0484872488862016,
          2.938488870346301,
          2.8284904918064,
          2.7184921132664996,
          2.6084937347265993,
          2.4984953561866985,
          2.388496977646798,
          2.2784985991068973,
          2.1685002205669974,
          2.058501842027096,
          1.9485034634871954,
          1.8385050849472948,
          1.7285067064073947,
          1.6185083278674943,
          1.5085099493275935,
          1.398511570787693,
          1.2885131922477924,
          1.1785148137078918,
          1.068516435167991,
          0.958518056628091,
          0.8485196780881898,
          0.7385212995482889,
          0.6285229210083879,
          0.5185245424684884,
          0.40852616392858715,
          0.2985277853886865,
          0.18852940684878652,
          0.07853102830888647,
          -0.031467350231014754,
          -0.14146572877091415,
          -0.2514641073108154,
          -0.3614624858507166,
          -0.4714608643906167,
          -0.5814592429305167,
          -0.691457621470418,
          -0.8014560000103191,
          -0.911454378550219,
          -1.021452757090119,
          -1.1314511356300205,
          -1.2414495141699207,
          -1.351447892709822,
          -1.4614462712497232,
          -1.571444649789623,
          -1.681443028329523,
          -1.7914414068694229,
          -1.9014397854093246,
          -2.0114381639492245,
          -2.1214365424891244,
          -2.2314349210290256,
          -2.341433299568927,
          -2.4514316781088272,
          -2.561430056648728,
          -2.6714284351886284,
          -2.781426813728528,
          -2.8914251922684295,
          -3.0014235708083308,
          -3.1114219493482307,
          -3.2214203278881306,
          -3.331418706428031,
          -3.441417084967931,
          -3.5514154635078308,
          -3.6614138420477307,
          -3.7714122205876324,
          -3.8814105991275323,
          -3.9914089776674344,
          -4.101407356207334,
          -4.211405734747233,
          -4.321404113287136,
          -4.431402491827036,
          -4.541400870366936,
          -4.651399248906838,
          -4.761397627446739,
          -4.871396005986639,
          -4.981394384526539,
          -5.091392763066439,
          -5.201391141606338,
          -5.31138952014624,
          -5.42138789868614,
          -5.531386277226041
         ],
         "yaxis": "y",
         "type": "scatter"
        },
        {
         "hovertemplate": "Speed=2000<br>Flow [l/min]=%{x}<br>Head theoretical=%{y}<extra></extra>",
         "legendgroup": "2000",
         "line": {
          "color": "#ab63fa",
          "dash": "solid"
         },
         "marker": {
          "symbol": "circle"
         },
         "mode": "lines",
         "name": "2000",
         "orientation": "v",
         "showlegend": true,
         "x": [
          6.0,
          12.0,
          18.000000000000004,
          24.0,
          30.0,
          36.00000000000001,
          42.00000000000001,
          48.0,
          54.00000000000001,
          60.0,
          66.0,
          72.00000000000001,
          78.00000000000001,
          84.00000000000001,
          90.0,
          96.0,
          102.00000000000001,
          108.00000000000001,
          114.00000000000001,
          120.0,
          126.0,
          132.0,
          138.0,
          144.0,
          150.0,
          156.0,
          162.0,
          168.0,
          174.0,
          180.0,
          186.0,
          192.0,
          198.0,
          204.0,
          210.0,
          216.0,
          222.0,
          228.0,
          234.0,
          240.0,
          246.00000000000003,
          252.0,
          258.00000000000006,
          264.0,
          270.00000000000006,
          276.00000000000006,
          282.0,
          288.00000000000006,
          294.0,
          300.0,
          306.00000000000006,
          312.00000000000006,
          318.00000000000006,
          324.0,
          330.00000000000006,
          336.00000000000006,
          342.0,
          348.00000000000006,
          354.0,
          360.0,
          366.00000000000006,
          372.00000000000006,
          378.00000000000006,
          384.0,
          390.00000000000006,
          396.00000000000006,
          402.0,
          408.00000000000006,
          414.0,
          420.00000000000006,
          426.00000000000006,
          432.00000000000006,
          438.00000000000006,
          444.0,
          450.00000000000006,
          456.00000000000006,
          462.0,
          468.00000000000006,
          474.0,
          480.0,
          486.0,
          491.99999999999994,
          498.00000000000006,
          504.0,
          510.0,
          516.0,
          522.0,
          528.0,
          534.0,
          540.0,
          546.0,
          552.0,
          557.9999999999999,
          564.0,
          570.0,
          576.0,
          582.0000000000001,
          587.9999999999999,
          593.9999999999999
         ],
         "xaxis": "x",
         "y": [
          9.379474514345224,
          9.232810009625357,
          9.086145504905488,
          8.939481000185621,
          8.792816495465754,
          8.646151990745887,
          8.49948748602602,
          8.352822981306153,
          8.206158476586284,
          8.059493971866418,
          7.912829467146549,
          7.766164962426683,
          7.619500457706814,
          7.472835952986947,
          7.326171448267081,
          7.179506943547212,
          7.032842438827345,
          6.886177934107478,
          6.7395134293876096,
          6.592848924667744,
          6.446184419947876,
          6.299519915228008,
          6.15285541050814,
          6.006190905788274,
          5.859526401068406,
          5.71286189634854,
          5.5661973916286716,
          5.4195328869088035,
          5.272868382188937,
          5.126203877469069,
          4.9795393727492,
          4.832874868029333,
          4.686210363309467,
          4.5395458585896,
          4.392881353869733,
          4.246216849149865,
          4.099552344429997,
          3.9528878397101295,
          3.806223334990262,
          3.659558830270395,
          3.512894325550527,
          3.3662298208306596,
          3.219565316110791,
          3.072900811390925,
          2.9262363066710564,
          2.7795718019511892,
          2.6329072972313226,
          2.486242792511456,
          2.339578287791587,
          2.1929137830717216,
          2.046249278351853,
          1.8995847736319849,
          1.7529202689121182,
          1.6062557641922512,
          1.4595912594723828,
          1.3129267547525147,
          1.166262250032648,
          1.0195977453127811,
          0.8729332405929128,
          0.7262687358730461,
          0.5796042311531778,
          0.43293972643330947,
          0.2862752217134427,
          0.139610716993576,
          -0.007053787726290719,
          -0.15371829244615906,
          -0.3003827971660258,
          -0.4470473018858926,
          -0.5937118066057608,
          -0.7403763113256293,
          -0.887040816045496,
          -1.0337053207653644,
          -1.1803698254852308,
          -1.3270343302050975,
          -1.473698834924966,
          -1.6203633396448345,
          -1.7670278443647007,
          -1.9136923490845674,
          -2.0603568538044343,
          -2.2070213585243015,
          -2.353685863244168,
          -2.5003503679640344,
          -2.647014872683903,
          -2.7936793774037696,
          -2.9403438821236394,
          -3.087008386843506,
          -3.233672891563371,
          -3.3803373962832413,
          -3.527001901003108,
          -3.6736664057229746,
          -3.820330910442845,
          -3.9669954151627116,
          -4.113659919882578,
          -4.260324424602446,
          -4.4069889293223135,
          -4.553653434042179,
          -4.700317938762047,
          -4.846982443481913,
          -4.99364694820178
         ],
         "yaxis": "y",
         "type": "scatter"
        },
        {
         "hovertemplate": "Speed=2500<br>Flow [l/min]=%{x}<br>Head theoretical=%{y}<extra></extra>",
         "legendgroup": "2500",
         "line": {
          "color": "#FFA15A",
          "dash": "solid"
         },
         "marker": {
          "symbol": "circle"
         },
         "mode": "lines",
         "name": "2500",
         "orientation": "v",
         "showlegend": true,
         "x": [
          6.0,
          12.0,
          18.000000000000004,
          24.0,
          30.0,
          36.00000000000001,
          42.00000000000001,
          48.0,
          54.00000000000001,
          60.0,
          66.0,
          72.00000000000001,
          78.00000000000001,
          84.00000000000001,
          90.0,
          96.0,
          102.00000000000001,
          108.00000000000001,
          114.00000000000001,
          120.0,
          126.0,
          132.0,
          138.0,
          144.0,
          150.0,
          156.0,
          162.0,
          168.0,
          174.0,
          180.0,
          186.0,
          192.0,
          198.0,
          204.0,
          210.0,
          216.0,
          222.0,
          228.0,
          234.0,
          240.0,
          246.00000000000003,
          252.0,
          258.00000000000006,
          264.0,
          270.00000000000006,
          276.00000000000006,
          282.0,
          288.00000000000006,
          294.0,
          300.0,
          306.00000000000006,
          312.00000000000006,
          318.00000000000006,
          324.0,
          330.00000000000006,
          336.00000000000006,
          342.0,
          348.00000000000006,
          354.0,
          360.0,
          366.00000000000006,
          372.00000000000006,
          378.00000000000006,
          384.0,
          390.00000000000006,
          396.00000000000006,
          402.0,
          408.00000000000006,
          414.0,
          420.00000000000006,
          426.00000000000006,
          432.00000000000006,
          438.00000000000006,
          444.0,
          450.00000000000006,
          456.00000000000006,
          462.0,
          468.00000000000006,
          474.0,
          480.0,
          486.0,
          491.99999999999994,
          498.00000000000006,
          504.0,
          510.0,
          516.0,
          522.0,
          528.0,
          534.0,
          540.0,
          546.0,
          552.0,
          557.9999999999999,
          564.0,
          570.0,
          576.0,
          582.0000000000001,
          587.9999999999999,
          593.9999999999999
         ],
         "xaxis": "x",
         "y": [
          14.701261586389368,
          14.517930955489534,
          14.3346003245897,
          14.151269693689864,
          13.96793906279003,
          13.784608431890195,
          13.601277800990362,
          13.417947170090528,
          13.234616539190693,
          13.05128590829086,
          12.867955277391024,
          12.68462464649119,
          12.501294015591355,
          12.317963384691522,
          12.134632753791687,
          11.951302122891855,
          11.76797149199202,
          11.584640861092186,
          11.40131023019235,
          11.217979599292516,
          11.034648968392682,
          10.851318337492849,
          10.667987706593014,
          10.48465707569318,
          10.301326444793345,
          10.117995813893511,
          9.934665182993678,
          9.751334552093843,
          9.56800392119401,
          9.384673290294174,
          9.20134265939434,
          9.018012028494505,
          8.834681397594672,
          8.651350766694836,
          8.468020135795003,
          8.284689504895168,
          8.101358873995334,
          7.9180282430955,
          7.734697612195665,
          7.551366981295833,
          7.368036350395997,
          7.184705719496161,
          7.001375088596327,
          6.818044457696495,
          6.63471382679666,
          6.451383195896825,
          6.268052564996991,
          6.084721934097158,
          5.901391303197322,
          5.71806067229749,
          5.534730041397654,
          5.3513994104978195,
          5.168068779597985,
          4.984738148698153,
          4.801407517798317,
          4.618076886898482,
          4.434746255998649,
          4.251415625098815,
          4.06808499419898,
          3.884754363299146,
          3.701423732399311,
          3.5180931014994754,
          3.3347624705996415,
          3.1514318396998084,
          2.9681012087999754,
          2.78477057790014,
          2.6014399470003067,
          2.4181093161004736,
          2.234778685200638,
          2.0514480543008022,
          1.8681174234009688,
          1.6847867925011333,
          1.5014561616013002,
          1.3181255307014668,
          1.1347948998016313,
          0.951464268901796,
          0.7681336380019625,
          0.5848030071021292,
          0.4014723762022958,
          0.21814174530246241,
          0.034811114402629094,
          -0.14851951649720427,
          -0.33185014739703966,
          -0.5151807782968729,
          -0.6985114091967104,
          -0.8818420400965438,
          -1.0651726709963751,
          -1.2485033018962126,
          -1.431833932796046,
          -1.6151645636958794,
          -1.7984951945957173,
          -1.9818258254955505,
          -2.165156456395384,
          -2.348487087295219,
          -2.531817718195052,
          -2.7151483490948842,
          -2.898478979994719,
          -3.0818096108945525,
          -3.265140241794386
         ],
         "yaxis": "y",
         "type": "scatter"
        }
       ],
       "layout": {
        "template": {
         "data": {
          "histogram2dcontour": [
           {
            "type": "histogram2dcontour",
            "colorbar": {
             "outlinewidth": 0,
             "ticks": ""
            },
            "colorscale": [
             [
              0.0,
              "#0d0887"
             ],
             [
              0.1111111111111111,
              "#46039f"
             ],
             [
              0.2222222222222222,
              "#7201a8"
             ],
             [
              0.3333333333333333,
              "#9c179e"
             ],
             [
              0.4444444444444444,
              "#bd3786"
             ],
             [
              0.5555555555555556,
              "#d8576b"
             ],
             [
              0.6666666666666666,
              "#ed7953"
             ],
             [
              0.7777777777777778,
              "#fb9f3a"
             ],
             [
              0.8888888888888888,
              "#fdca26"
             ],
             [
              1.0,
              "#f0f921"
             ]
            ]
           }
          ],
          "choropleth": [
           {
            "type": "choropleth",
            "colorbar": {
             "outlinewidth": 0,
             "ticks": ""
            }
           }
          ],
          "histogram2d": [
           {
            "type": "histogram2d",
            "colorbar": {
             "outlinewidth": 0,
             "ticks": ""
            },
            "colorscale": [
             [
              0.0,
              "#0d0887"
             ],
             [
              0.1111111111111111,
              "#46039f"
             ],
             [
              0.2222222222222222,
              "#7201a8"
             ],
             [
              0.3333333333333333,
              "#9c179e"
             ],
             [
              0.4444444444444444,
              "#bd3786"
             ],
             [
              0.5555555555555556,
              "#d8576b"
             ],
             [
              0.6666666666666666,
              "#ed7953"
             ],
             [
              0.7777777777777778,
              "#fb9f3a"
             ],
             [
              0.8888888888888888,
              "#fdca26"
             ],
             [
              1.0,
              "#f0f921"
             ]
            ]
           }
          ],
          "heatmap": [
           {
            "type": "heatmap",
            "colorbar": {
             "outlinewidth": 0,
             "ticks": ""
            },
            "colorscale": [
             [
              0.0,
              "#0d0887"
             ],
             [
              0.1111111111111111,
              "#46039f"
             ],
             [
              0.2222222222222222,
              "#7201a8"
             ],
             [
              0.3333333333333333,
              "#9c179e"
             ],
             [
              0.4444444444444444,
              "#bd3786"
             ],
             [
              0.5555555555555556,
              "#d8576b"
             ],
             [
              0.6666666666666666,
              "#ed7953"
             ],
             [
              0.7777777777777778,
              "#fb9f3a"
             ],
             [
              0.8888888888888888,
              "#fdca26"
             ],
             [
              1.0,
              "#f0f921"
             ]
            ]
           }
          ],
          "heatmapgl": [
           {
            "type": "heatmapgl",
            "colorbar": {
             "outlinewidth": 0,
             "ticks": ""
            },
            "colorscale": [
             [
              0.0,
              "#0d0887"
             ],
             [
              0.1111111111111111,
              "#46039f"
             ],
             [
              0.2222222222222222,
              "#7201a8"
             ],
             [
              0.3333333333333333,
              "#9c179e"
             ],
             [
              0.4444444444444444,
              "#bd3786"
             ],
             [
              0.5555555555555556,
              "#d8576b"
             ],
             [
              0.6666666666666666,
              "#ed7953"
             ],
             [
              0.7777777777777778,
              "#fb9f3a"
             ],
             [
              0.8888888888888888,
              "#fdca26"
             ],
             [
              1.0,
              "#f0f921"
             ]
            ]
           }
          ],
          "contourcarpet": [
           {
            "type": "contourcarpet",
            "colorbar": {
             "outlinewidth": 0,
             "ticks": ""
            }
           }
          ],
          "contour": [
           {
            "type": "contour",
            "colorbar": {
             "outlinewidth": 0,
             "ticks": ""
            },
            "colorscale": [
             [
              0.0,
              "#0d0887"
             ],
             [
              0.1111111111111111,
              "#46039f"
             ],
             [
              0.2222222222222222,
              "#7201a8"
             ],
             [
              0.3333333333333333,
              "#9c179e"
             ],
             [
              0.4444444444444444,
              "#bd3786"
             ],
             [
              0.5555555555555556,
              "#d8576b"
             ],
             [
              0.6666666666666666,
              "#ed7953"
             ],
             [
              0.7777777777777778,
              "#fb9f3a"
             ],
             [
              0.8888888888888888,
              "#fdca26"
             ],
             [
              1.0,
              "#f0f921"
             ]
            ]
           }
          ],
          "surface": [
           {
            "type": "surface",
            "colorbar": {
             "outlinewidth": 0,
             "ticks": ""
            },
            "colorscale": [
             [
              0.0,
              "#0d0887"
             ],
             [
              0.1111111111111111,
              "#46039f"
             ],
             [
              0.2222222222222222,
              "#7201a8"
             ],
             [
              0.3333333333333333,
              "#9c179e"
             ],
             [
              0.4444444444444444,
              "#bd3786"
             ],
             [
              0.5555555555555556,
              "#d8576b"
             ],
             [
              0.6666666666666666,
              "#ed7953"
             ],
             [
              0.7777777777777778,
              "#fb9f3a"
             ],
             [
              0.8888888888888888,
              "#fdca26"
             ],
             [
              1.0,
              "#f0f921"
             ]
            ]
           }
          ],
          "mesh3d": [
           {
            "type": "mesh3d",
            "colorbar": {
             "outlinewidth": 0,
             "ticks": ""
            }
           }
          ],
          "scatter": [
           {
            "marker": {
             "line": {
              "color": "#283442"
             }
            },
            "type": "scatter"
           }
          ],
          "parcoords": [
           {
            "type": "parcoords",
            "line": {
             "colorbar": {
              "outlinewidth": 0,
              "ticks": ""
             }
            }
           }
          ],
          "scatterpolargl": [
           {
            "type": "scatterpolargl",
            "marker": {
             "colorbar": {
              "outlinewidth": 0,
              "ticks": ""
             }
            }
           }
          ],
          "bar": [
           {
            "error_x": {
             "color": "#f2f5fa"
            },
            "error_y": {
             "color": "#f2f5fa"
            },
            "marker": {
             "line": {
              "color": "rgb(17,17,17)",
              "width": 0.5
             },
             "pattern": {
              "fillmode": "overlay",
              "size": 10,
              "solidity": 0.2
             }
            },
            "type": "bar"
           }
          ],
          "scattergeo": [
           {
            "type": "scattergeo",
            "marker": {
             "colorbar": {
              "outlinewidth": 0,
              "ticks": ""
             }
            }
           }
          ],
          "scatterpolar": [
           {
            "type": "scatterpolar",
            "marker": {
             "colorbar": {
              "outlinewidth": 0,
              "ticks": ""
             }
            }
           }
          ],
          "histogram": [
           {
            "marker": {
             "pattern": {
              "fillmode": "overlay",
              "size": 10,
              "solidity": 0.2
             }
            },
            "type": "histogram"
           }
          ],
          "scattergl": [
           {
            "marker": {
             "line": {
              "color": "#283442"
             }
            },
            "type": "scattergl"
           }
          ],
          "scatter3d": [
           {
            "type": "scatter3d",
            "line": {
             "colorbar": {
              "outlinewidth": 0,
              "ticks": ""
             }
            },
            "marker": {
             "colorbar": {
              "outlinewidth": 0,
              "ticks": ""
             }
            }
           }
          ],
          "scattermapbox": [
           {
            "type": "scattermapbox",
            "marker": {
             "colorbar": {
              "outlinewidth": 0,
              "ticks": ""
             }
            }
           }
          ],
          "scatterternary": [
           {
            "type": "scatterternary",
            "marker": {
             "colorbar": {
              "outlinewidth": 0,
              "ticks": ""
             }
            }
           }
          ],
          "scattercarpet": [
           {
            "type": "scattercarpet",
            "marker": {
             "colorbar": {
              "outlinewidth": 0,
              "ticks": ""
             }
            }
           }
          ],
          "carpet": [
           {
            "aaxis": {
             "endlinecolor": "#A2B1C6",
             "gridcolor": "#506784",
             "linecolor": "#506784",
             "minorgridcolor": "#506784",
             "startlinecolor": "#A2B1C6"
            },
            "baxis": {
             "endlinecolor": "#A2B1C6",
             "gridcolor": "#506784",
             "linecolor": "#506784",
             "minorgridcolor": "#506784",
             "startlinecolor": "#A2B1C6"
            },
            "type": "carpet"
           }
          ],
          "table": [
           {
            "cells": {
             "fill": {
              "color": "#506784"
             },
             "line": {
              "color": "rgb(17,17,17)"
             }
            },
            "header": {
             "fill": {
              "color": "#2a3f5f"
             },
             "line": {
              "color": "rgb(17,17,17)"
             }
            },
            "type": "table"
           }
          ],
          "barpolar": [
           {
            "marker": {
             "line": {
              "color": "rgb(17,17,17)",
              "width": 0.5
             },
             "pattern": {
              "fillmode": "overlay",
              "size": 10,
              "solidity": 0.2
             }
            },
            "type": "barpolar"
           }
          ],
          "pie": [
           {
            "automargin": true,
            "type": "pie"
           }
          ]
         },
         "layout": {
          "autotypenumbers": "strict",
          "colorway": [
           "#636efa",
           "#EF553B",
           "#00cc96",
           "#ab63fa",
           "#FFA15A",
           "#19d3f3",
           "#FF6692",
           "#B6E880",
           "#FF97FF",
           "#FECB52"
          ],
          "font": {
           "color": "#f2f5fa"
          },
          "hovermode": "closest",
          "hoverlabel": {
           "align": "left"
          },
          "paper_bgcolor": "rgb(17,17,17)",
          "plot_bgcolor": "rgb(17,17,17)",
          "polar": {
           "bgcolor": "rgb(17,17,17)",
           "angularaxis": {
            "gridcolor": "#506784",
            "linecolor": "#506784",
            "ticks": ""
           },
           "radialaxis": {
            "gridcolor": "#506784",
            "linecolor": "#506784",
            "ticks": ""
           }
          },
          "ternary": {
           "bgcolor": "rgb(17,17,17)",
           "aaxis": {
            "gridcolor": "#506784",
            "linecolor": "#506784",
            "ticks": ""
           },
           "baxis": {
            "gridcolor": "#506784",
            "linecolor": "#506784",
            "ticks": ""
           },
           "caxis": {
            "gridcolor": "#506784",
            "linecolor": "#506784",
            "ticks": ""
           }
          },
          "coloraxis": {
           "colorbar": {
            "outlinewidth": 0,
            "ticks": ""
           }
          },
          "colorscale": {
           "sequential": [
            [
             0.0,
             "#0d0887"
            ],
            [
             0.1111111111111111,
             "#46039f"
            ],
            [
             0.2222222222222222,
             "#7201a8"
            ],
            [
             0.3333333333333333,
             "#9c179e"
            ],
            [
             0.4444444444444444,
             "#bd3786"
            ],
            [
             0.5555555555555556,
             "#d8576b"
            ],
            [
             0.6666666666666666,
             "#ed7953"
            ],
            [
             0.7777777777777778,
             "#fb9f3a"
            ],
            [
             0.8888888888888888,
             "#fdca26"
            ],
            [
             1.0,
             "#f0f921"
            ]
           ],
           "sequentialminus": [
            [
             0.0,
             "#0d0887"
            ],
            [
             0.1111111111111111,
             "#46039f"
            ],
            [
             0.2222222222222222,
             "#7201a8"
            ],
            [
             0.3333333333333333,
             "#9c179e"
            ],
            [
             0.4444444444444444,
             "#bd3786"
            ],
            [
             0.5555555555555556,
             "#d8576b"
            ],
            [
             0.6666666666666666,
             "#ed7953"
            ],
            [
             0.7777777777777778,
             "#fb9f3a"
            ],
            [
             0.8888888888888888,
             "#fdca26"
            ],
            [
             1.0,
             "#f0f921"
            ]
           ],
           "diverging": [
            [
             0,
             "#8e0152"
            ],
            [
             0.1,
             "#c51b7d"
            ],
            [
             0.2,
             "#de77ae"
            ],
            [
             0.3,
             "#f1b6da"
            ],
            [
             0.4,
             "#fde0ef"
            ],
            [
             0.5,
             "#f7f7f7"
            ],
            [
             0.6,
             "#e6f5d0"
            ],
            [
             0.7,
             "#b8e186"
            ],
            [
             0.8,
             "#7fbc41"
            ],
            [
             0.9,
             "#4d9221"
            ],
            [
             1,
             "#276419"
            ]
           ]
          },
          "xaxis": {
           "gridcolor": "#283442",
           "linecolor": "#506784",
           "ticks": "",
           "title": {
            "standoff": 15
           },
           "zerolinecolor": "#283442",
           "automargin": true,
           "zerolinewidth": 2
          },
          "yaxis": {
           "gridcolor": "#283442",
           "linecolor": "#506784",
           "ticks": "",
           "title": {
            "standoff": 15
           },
           "zerolinecolor": "#283442",
           "automargin": true,
           "zerolinewidth": 2
          },
          "scene": {
           "xaxis": {
            "backgroundcolor": "rgb(17,17,17)",
            "gridcolor": "#506784",
            "linecolor": "#506784",
            "showbackground": true,
            "ticks": "",
            "zerolinecolor": "#C8D4E3",
            "gridwidth": 2
           },
           "yaxis": {
            "backgroundcolor": "rgb(17,17,17)",
            "gridcolor": "#506784",
            "linecolor": "#506784",
            "showbackground": true,
            "ticks": "",
            "zerolinecolor": "#C8D4E3",
            "gridwidth": 2
           },
           "zaxis": {
            "backgroundcolor": "rgb(17,17,17)",
            "gridcolor": "#506784",
            "linecolor": "#506784",
            "showbackground": true,
            "ticks": "",
            "zerolinecolor": "#C8D4E3",
            "gridwidth": 2
           }
          },
          "shapedefaults": {
           "line": {
            "color": "#f2f5fa"
           }
          },
          "annotationdefaults": {
           "arrowcolor": "#f2f5fa",
           "arrowhead": 0,
           "arrowwidth": 1
          },
          "geo": {
           "bgcolor": "rgb(17,17,17)",
           "landcolor": "rgb(17,17,17)",
           "subunitcolor": "#506784",
           "showland": true,
           "showlakes": true,
           "lakecolor": "rgb(17,17,17)"
          },
          "title": {
           "x": 0.05
          },
          "updatemenudefaults": {
           "bgcolor": "#506784",
           "borderwidth": 0
          },
          "sliderdefaults": {
           "bgcolor": "#C8D4E3",
           "borderwidth": 1,
           "bordercolor": "rgb(17,17,17)",
           "tickwidth": 0
          },
          "mapbox": {
           "style": "dark"
          }
         }
        },
        "xaxis": {
         "anchor": "y",
         "domain": [
          0.0,
          1.0
         ],
         "title": {
          "text": "Flow [l/min]"
         }
        },
        "yaxis": {
         "anchor": "x",
         "domain": [
          0.0,
          1.0
         ],
         "title": {
          "text": "Head theoretical"
         }
        },
        "legend": {
         "title": {
          "text": "Speed"
         },
         "tracegroupgap": 0
        },
        "title": {
         "text": "Pump theoretical head"
        }
       },
       "config": {
        "plotlyServerURL": "https://plot.ly"
       }
      },
      "text/html": "<div>                            <div id=\"0630c212-1ee6-412e-951d-bcc6810dbb9f\" class=\"plotly-graph-div\" style=\"height:525px; width:100%;\"></div>            <script type=\"text/javascript\">                require([\"plotly\"], function(Plotly) {                    window.PLOTLYENV=window.PLOTLYENV || {};                                    if (document.getElementById(\"0630c212-1ee6-412e-951d-bcc6810dbb9f\")) {                    Plotly.newPlot(                        \"0630c212-1ee6-412e-951d-bcc6810dbb9f\",                        [{\"hovertemplate\":\"Speed=500<br>Flow [l/min]=%{x}<br>Head theoretical=%{y}<extra></extra>\",\"legendgroup\":\"500\",\"line\":{\"color\":\"#636efa\",\"dash\":\"solid\"},\"marker\":{\"symbol\":\"circle\"},\"mode\":\"lines\",\"name\":\"500\",\"orientation\":\"v\",\"showlegend\":true,\"x\":[6.0,12.0,18.000000000000004,24.0,30.0,36.00000000000001,42.00000000000001,48.0,54.00000000000001,60.0,66.0,72.00000000000001,78.00000000000001,84.00000000000001,90.0,96.0,102.00000000000001,108.00000000000001,114.00000000000001,120.0,126.0,132.0,138.0,144.0,150.0,156.0,162.0,168.0,174.0,180.0,186.0,192.0,198.0,204.0,210.0,216.0,222.0,228.0,234.0,240.0,246.00000000000003,252.0,258.00000000000006,264.0,270.00000000000006,276.00000000000006,282.0,288.00000000000006,294.0,300.0,306.00000000000006,312.00000000000006,318.00000000000006,324.0,330.00000000000006,336.00000000000006,342.0,348.00000000000006,354.0,360.0,366.00000000000006,372.00000000000006,378.00000000000006,384.0,390.00000000000006,396.00000000000006,402.0,408.00000000000006,414.0,420.00000000000006,426.00000000000006,432.00000000000006,438.00000000000006,444.0,450.00000000000006,456.00000000000006,462.0,468.00000000000006,474.0,480.0,486.0,491.99999999999994,498.00000000000006,504.0,510.0,516.0,522.0,528.0,534.0,540.0,546.0,552.0,557.9999999999999,564.0,570.0,576.0,582.0000000000001,587.9999999999999,593.9999999999999],\"xaxis\":\"x\",\"y\":[0.5587175625116013,0.5220514363316345,0.4853853101516677,0.44871918397170074,0.412053057791734,0.3753869316117671,0.33872080543180016,0.3020546792518333,0.2653885530718665,0.2287224268918997,0.1920563007119328,0.155390174531966,0.11872404835199905,0.08205792217203217,0.04539179599206538,0.0087256698120985,-0.027940456367868287,-0.06460658254783527,-0.10127270872780215,-0.13793883490776884,-0.1746049610877356,-0.21127108726770258,-0.24793721344766947,-0.2846033396276362,-0.321269465807603,-0.3579355919875699,-0.3946017181675368,-0.4312678443475037,-0.4679339705274704,-0.5046000967074376,-0.5412662228874042,-0.5779323490673712,-0.6145984752473379,-0.6512646014273048,-0.6879307276072717,-0.7245968537872385,-0.7612629799672054,-0.7979291061471723,-0.8345952323271391,-0.8712613585071057,-0.907927484687073,-0.9445936108670399,-0.9812597370470069,-1.0179258632269734,-1.0545919894069407,-1.0912581155869074,-1.1279242417668742,-1.1645903679468408,-1.2012564941268076,-1.2379226203067744,-1.2745887464867414,-1.3112548726667084,-1.3479209988466752,-1.3845871250266417,-1.421253251206609,-1.457919377386576,-1.4945855035665425,-1.5312516297465093,-1.5679177559264765,-1.604583882106443,-1.6412500082864103,-1.677916134466377,-1.7145822606463441,-1.7512483868263105,-1.7879145130062775,-1.8245806391862442,-1.861246765366211,-1.8979128915461776,-1.9345790177261448,-1.971245143906112,-2.0079112700860784,-2.0445773962660456,-2.0812435224460124,-2.1179096486259787,-2.154575774805946,-2.1912419009859128,-2.22790802716588,-2.2645741533458463,-2.3012402795258136,-2.3379064057057795,-2.3745725318857467,-2.411238658065713,-2.4479047842456807,-2.484570910425647,-2.5212370366056143,-2.557903162785581,-2.5945692889655474,-2.631235415145515,-2.6679015413254814,-2.7045676675054486,-2.741233793685416,-2.7778999198653826,-2.814566046045349,-2.8512321722253158,-2.887898298405283,-2.9245644245852493,-2.961230550765216,-2.997896676945183,-3.0345628031251497],\"yaxis\":\"y\",\"type\":\"scatter\"},{\"hovertemplate\":\"Speed=1000<br>Flow [l/min]=%{x}<br>Head theoretical=%{y}<extra></extra>\",\"legendgroup\":\"1000\",\"line\":{\"color\":\"#EF553B\",\"dash\":\"solid\"},\"marker\":{\"symbol\":\"circle\"},\"mode\":\"lines\",\"name\":\"1000\",\"orientation\":\"v\",\"showlegend\":true,\"x\":[6.0,12.0,18.000000000000004,24.0,30.0,36.00000000000001,42.00000000000001,48.0,54.00000000000001,60.0,66.0,72.00000000000001,78.00000000000001,84.00000000000001,90.0,96.0,102.00000000000001,108.00000000000001,114.00000000000001,120.0,126.0,132.0,138.0,144.0,150.0,156.0,162.0,168.0,174.0,180.0,186.0,192.0,198.0,204.0,210.0,216.0,222.0,228.0,234.0,240.0,246.00000000000003,252.0,258.00000000000006,264.0,270.00000000000006,276.00000000000006,282.0,288.00000000000006,294.0,300.0,306.00000000000006,312.00000000000006,318.00000000000006,324.0,330.00000000000006,336.00000000000006,342.0,348.00000000000006,354.0,360.0,366.00000000000006,372.00000000000006,378.00000000000006,384.0,390.00000000000006,396.00000000000006,402.0,408.00000000000006,414.0,420.00000000000006,426.00000000000006,432.00000000000006,438.00000000000006,444.0,450.00000000000006,456.00000000000006,462.0,468.00000000000006,474.0,480.0,486.0,491.99999999999994,498.00000000000006,504.0,510.0,516.0,522.0,528.0,534.0,540.0,546.0,552.0,557.9999999999999,564.0,570.0,576.0,582.0000000000001,587.9999999999999,593.9999999999999],\"xaxis\":\"x\",\"y\":[2.3082025024063393,2.2348702500464053,2.1615379976864717,2.088205745326538,2.0148734929666046,1.9415412406066708,1.8682089882467368,1.794876735886803,1.7215444835268694,1.648212231166936,1.574879978807002,1.5015477264470685,1.4282154740871347,1.3548832217272007,1.2815509693672673,1.2082187170073333,1.1348864646474,1.061554212287466,0.9882219599275321,0.9148897075675988,0.8415574552076652,0.7682252028477312,0.6948929504877974,0.6215606981278641,0.5482284457679304,0.47489619340799655,0.4015639410480628,0.328231688688129,0.25489943632819567,0.18156718396826152,0.10823493160832777,0.034902679248394,-0.03842957311153936,-0.11176182547147315,-0.18509407783140688,-0.25842633019134065,-0.3317585825512744,-0.4050908349112082,-0.47842308727114186,-0.5517553396310754,-0.6250875919910094,-0.6984198443509432,-0.7717520967108774,-0.8450843490708103,-0.9184166014307446,-0.9917488537906782,-1.0650811061506116,-1.138413358510545,-1.2117456108704792,-1.285077863230412,-1.3584101155903463,-1.4317423679502803,-1.5050746203102137,-1.5784068726701472,-1.6517391250300815,-1.7250713773900155,-1.7984036297499488,-1.8717358821098822,-1.9450681344698166,-2.01840038682975,-2.091732639189684,-2.1650648915496182,-2.2383971439095514,-2.311729396269485,-2.385061648629418,-2.4583939009893525,-2.5317261533492856,-2.605058405709219,-2.6783906580691537,-2.7517229104290872,-2.8250551627890204,-2.898387415148955,-2.9717196675088884,-3.0450519198688215,-3.118384172228756,-3.19171642458869,-3.265048676948623,-3.3383809293085562,-3.41171318166849,-3.485045434028423,-3.5583776863883565,-3.6317099387482896,-3.705042191108224,-3.7783744434681577,-3.851706695828093,-3.925038948188026,-3.9983712005479584,-4.071703452907894,-4.145035705267826,-4.21836795762776,-4.291700209987694,-4.365032462347629,-4.4383647147075616,-4.511696967067497,-4.58502921942743,-4.658361471787362,-4.731693724147296,-4.80502597650723,-4.878358228867163],\"yaxis\":\"y\",\"type\":\"scatter\"},{\"hovertemplate\":\"Speed=1500<br>Flow [l/min]=%{x}<br>Head theoretical=%{y}<extra></extra>\",\"legendgroup\":\"1500\",\"line\":{\"color\":\"#00cc96\",\"dash\":\"solid\"},\"marker\":{\"symbol\":\"circle\"},\"mode\":\"lines\",\"name\":\"1500\",\"orientation\":\"v\",\"showlegend\":true,\"x\":[6.0,12.0,18.000000000000004,24.0,30.0,36.00000000000001,42.00000000000001,48.0,54.00000000000001,60.0,66.0,72.00000000000001,78.00000000000001,84.00000000000001,90.0,96.0,102.00000000000001,108.00000000000001,114.00000000000001,120.0,126.0,132.0,138.0,144.0,150.0,156.0,162.0,168.0,174.0,180.0,186.0,192.0,198.0,204.0,210.0,216.0,222.0,228.0,234.0,240.0,246.00000000000003,252.0,258.00000000000006,264.0,270.00000000000006,276.00000000000006,282.0,288.00000000000006,294.0,300.0,306.00000000000006,312.00000000000006,318.00000000000006,324.0,330.00000000000006,336.00000000000006,342.0,348.00000000000006,354.0,360.0,366.00000000000006,372.00000000000006,378.00000000000006,384.0,390.00000000000006,396.00000000000006,402.0,408.00000000000006,414.0,420.00000000000006,426.00000000000006,432.00000000000006,438.00000000000006,444.0,450.00000000000006,456.00000000000006,462.0,468.00000000000006,474.0,480.0,486.0,491.99999999999994,498.00000000000006,504.0,510.0,516.0,522.0,528.0,534.0,540.0,546.0,552.0,557.9999999999999,564.0,570.0,576.0,582.0000000000001,587.9999999999999,593.9999999999999],\"xaxis\":\"x\",\"y\":[5.248454819684212,5.138456441144311,5.028458062604411,4.918459684064511,4.80846130552461,4.69846292698471,4.588464548444809,4.478466169904908,4.368467791365007,4.258469412825107,4.1484710342852065,4.038472655745307,3.9284742772054058,3.8184758986655045,3.7084775201256046,3.5984791415857034,3.488480763045803,3.378482384505903,3.2684840059660023,3.158485627426102,3.0484872488862016,2.938488870346301,2.8284904918064,2.7184921132664996,2.6084937347265993,2.4984953561866985,2.388496977646798,2.2784985991068973,2.1685002205669974,2.058501842027096,1.9485034634871954,1.8385050849472948,1.7285067064073947,1.6185083278674943,1.5085099493275935,1.398511570787693,1.2885131922477924,1.1785148137078918,1.068516435167991,0.958518056628091,0.8485196780881898,0.7385212995482889,0.6285229210083879,0.5185245424684884,0.40852616392858715,0.2985277853886865,0.18852940684878652,0.07853102830888647,-0.031467350231014754,-0.14146572877091415,-0.2514641073108154,-0.3614624858507166,-0.4714608643906167,-0.5814592429305167,-0.691457621470418,-0.8014560000103191,-0.911454378550219,-1.021452757090119,-1.1314511356300205,-1.2414495141699207,-1.351447892709822,-1.4614462712497232,-1.571444649789623,-1.681443028329523,-1.7914414068694229,-1.9014397854093246,-2.0114381639492245,-2.1214365424891244,-2.2314349210290256,-2.341433299568927,-2.4514316781088272,-2.561430056648728,-2.6714284351886284,-2.781426813728528,-2.8914251922684295,-3.0014235708083308,-3.1114219493482307,-3.2214203278881306,-3.331418706428031,-3.441417084967931,-3.5514154635078308,-3.6614138420477307,-3.7714122205876324,-3.8814105991275323,-3.9914089776674344,-4.101407356207334,-4.211405734747233,-4.321404113287136,-4.431402491827036,-4.541400870366936,-4.651399248906838,-4.761397627446739,-4.871396005986639,-4.981394384526539,-5.091392763066439,-5.201391141606338,-5.31138952014624,-5.42138789868614,-5.531386277226041],\"yaxis\":\"y\",\"type\":\"scatter\"},{\"hovertemplate\":\"Speed=2000<br>Flow [l/min]=%{x}<br>Head theoretical=%{y}<extra></extra>\",\"legendgroup\":\"2000\",\"line\":{\"color\":\"#ab63fa\",\"dash\":\"solid\"},\"marker\":{\"symbol\":\"circle\"},\"mode\":\"lines\",\"name\":\"2000\",\"orientation\":\"v\",\"showlegend\":true,\"x\":[6.0,12.0,18.000000000000004,24.0,30.0,36.00000000000001,42.00000000000001,48.0,54.00000000000001,60.0,66.0,72.00000000000001,78.00000000000001,84.00000000000001,90.0,96.0,102.00000000000001,108.00000000000001,114.00000000000001,120.0,126.0,132.0,138.0,144.0,150.0,156.0,162.0,168.0,174.0,180.0,186.0,192.0,198.0,204.0,210.0,216.0,222.0,228.0,234.0,240.0,246.00000000000003,252.0,258.00000000000006,264.0,270.00000000000006,276.00000000000006,282.0,288.00000000000006,294.0,300.0,306.00000000000006,312.00000000000006,318.00000000000006,324.0,330.00000000000006,336.00000000000006,342.0,348.00000000000006,354.0,360.0,366.00000000000006,372.00000000000006,378.00000000000006,384.0,390.00000000000006,396.00000000000006,402.0,408.00000000000006,414.0,420.00000000000006,426.00000000000006,432.00000000000006,438.00000000000006,444.0,450.00000000000006,456.00000000000006,462.0,468.00000000000006,474.0,480.0,486.0,491.99999999999994,498.00000000000006,504.0,510.0,516.0,522.0,528.0,534.0,540.0,546.0,552.0,557.9999999999999,564.0,570.0,576.0,582.0000000000001,587.9999999999999,593.9999999999999],\"xaxis\":\"x\",\"y\":[9.379474514345224,9.232810009625357,9.086145504905488,8.939481000185621,8.792816495465754,8.646151990745887,8.49948748602602,8.352822981306153,8.206158476586284,8.059493971866418,7.912829467146549,7.766164962426683,7.619500457706814,7.472835952986947,7.326171448267081,7.179506943547212,7.032842438827345,6.886177934107478,6.7395134293876096,6.592848924667744,6.446184419947876,6.299519915228008,6.15285541050814,6.006190905788274,5.859526401068406,5.71286189634854,5.5661973916286716,5.4195328869088035,5.272868382188937,5.126203877469069,4.9795393727492,4.832874868029333,4.686210363309467,4.5395458585896,4.392881353869733,4.246216849149865,4.099552344429997,3.9528878397101295,3.806223334990262,3.659558830270395,3.512894325550527,3.3662298208306596,3.219565316110791,3.072900811390925,2.9262363066710564,2.7795718019511892,2.6329072972313226,2.486242792511456,2.339578287791587,2.1929137830717216,2.046249278351853,1.8995847736319849,1.7529202689121182,1.6062557641922512,1.4595912594723828,1.3129267547525147,1.166262250032648,1.0195977453127811,0.8729332405929128,0.7262687358730461,0.5796042311531778,0.43293972643330947,0.2862752217134427,0.139610716993576,-0.007053787726290719,-0.15371829244615906,-0.3003827971660258,-0.4470473018858926,-0.5937118066057608,-0.7403763113256293,-0.887040816045496,-1.0337053207653644,-1.1803698254852308,-1.3270343302050975,-1.473698834924966,-1.6203633396448345,-1.7670278443647007,-1.9136923490845674,-2.0603568538044343,-2.2070213585243015,-2.353685863244168,-2.5003503679640344,-2.647014872683903,-2.7936793774037696,-2.9403438821236394,-3.087008386843506,-3.233672891563371,-3.3803373962832413,-3.527001901003108,-3.6736664057229746,-3.820330910442845,-3.9669954151627116,-4.113659919882578,-4.260324424602446,-4.4069889293223135,-4.553653434042179,-4.700317938762047,-4.846982443481913,-4.99364694820178],\"yaxis\":\"y\",\"type\":\"scatter\"},{\"hovertemplate\":\"Speed=2500<br>Flow [l/min]=%{x}<br>Head theoretical=%{y}<extra></extra>\",\"legendgroup\":\"2500\",\"line\":{\"color\":\"#FFA15A\",\"dash\":\"solid\"},\"marker\":{\"symbol\":\"circle\"},\"mode\":\"lines\",\"name\":\"2500\",\"orientation\":\"v\",\"showlegend\":true,\"x\":[6.0,12.0,18.000000000000004,24.0,30.0,36.00000000000001,42.00000000000001,48.0,54.00000000000001,60.0,66.0,72.00000000000001,78.00000000000001,84.00000000000001,90.0,96.0,102.00000000000001,108.00000000000001,114.00000000000001,120.0,126.0,132.0,138.0,144.0,150.0,156.0,162.0,168.0,174.0,180.0,186.0,192.0,198.0,204.0,210.0,216.0,222.0,228.0,234.0,240.0,246.00000000000003,252.0,258.00000000000006,264.0,270.00000000000006,276.00000000000006,282.0,288.00000000000006,294.0,300.0,306.00000000000006,312.00000000000006,318.00000000000006,324.0,330.00000000000006,336.00000000000006,342.0,348.00000000000006,354.0,360.0,366.00000000000006,372.00000000000006,378.00000000000006,384.0,390.00000000000006,396.00000000000006,402.0,408.00000000000006,414.0,420.00000000000006,426.00000000000006,432.00000000000006,438.00000000000006,444.0,450.00000000000006,456.00000000000006,462.0,468.00000000000006,474.0,480.0,486.0,491.99999999999994,498.00000000000006,504.0,510.0,516.0,522.0,528.0,534.0,540.0,546.0,552.0,557.9999999999999,564.0,570.0,576.0,582.0000000000001,587.9999999999999,593.9999999999999],\"xaxis\":\"x\",\"y\":[14.701261586389368,14.517930955489534,14.3346003245897,14.151269693689864,13.96793906279003,13.784608431890195,13.601277800990362,13.417947170090528,13.234616539190693,13.05128590829086,12.867955277391024,12.68462464649119,12.501294015591355,12.317963384691522,12.134632753791687,11.951302122891855,11.76797149199202,11.584640861092186,11.40131023019235,11.217979599292516,11.034648968392682,10.851318337492849,10.667987706593014,10.48465707569318,10.301326444793345,10.117995813893511,9.934665182993678,9.751334552093843,9.56800392119401,9.384673290294174,9.20134265939434,9.018012028494505,8.834681397594672,8.651350766694836,8.468020135795003,8.284689504895168,8.101358873995334,7.9180282430955,7.734697612195665,7.551366981295833,7.368036350395997,7.184705719496161,7.001375088596327,6.818044457696495,6.63471382679666,6.451383195896825,6.268052564996991,6.084721934097158,5.901391303197322,5.71806067229749,5.534730041397654,5.3513994104978195,5.168068779597985,4.984738148698153,4.801407517798317,4.618076886898482,4.434746255998649,4.251415625098815,4.06808499419898,3.884754363299146,3.701423732399311,3.5180931014994754,3.3347624705996415,3.1514318396998084,2.9681012087999754,2.78477057790014,2.6014399470003067,2.4181093161004736,2.234778685200638,2.0514480543008022,1.8681174234009688,1.6847867925011333,1.5014561616013002,1.3181255307014668,1.1347948998016313,0.951464268901796,0.7681336380019625,0.5848030071021292,0.4014723762022958,0.21814174530246241,0.034811114402629094,-0.14851951649720427,-0.33185014739703966,-0.5151807782968729,-0.6985114091967104,-0.8818420400965438,-1.0651726709963751,-1.2485033018962126,-1.431833932796046,-1.6151645636958794,-1.7984951945957173,-1.9818258254955505,-2.165156456395384,-2.348487087295219,-2.531817718195052,-2.7151483490948842,-2.898478979994719,-3.0818096108945525,-3.265140241794386],\"yaxis\":\"y\",\"type\":\"scatter\"}],                        {\"template\":{\"data\":{\"histogram2dcontour\":[{\"type\":\"histogram2dcontour\",\"colorbar\":{\"outlinewidth\":0,\"ticks\":\"\"},\"colorscale\":[[0.0,\"#0d0887\"],[0.1111111111111111,\"#46039f\"],[0.2222222222222222,\"#7201a8\"],[0.3333333333333333,\"#9c179e\"],[0.4444444444444444,\"#bd3786\"],[0.5555555555555556,\"#d8576b\"],[0.6666666666666666,\"#ed7953\"],[0.7777777777777778,\"#fb9f3a\"],[0.8888888888888888,\"#fdca26\"],[1.0,\"#f0f921\"]]}],\"choropleth\":[{\"type\":\"choropleth\",\"colorbar\":{\"outlinewidth\":0,\"ticks\":\"\"}}],\"histogram2d\":[{\"type\":\"histogram2d\",\"colorbar\":{\"outlinewidth\":0,\"ticks\":\"\"},\"colorscale\":[[0.0,\"#0d0887\"],[0.1111111111111111,\"#46039f\"],[0.2222222222222222,\"#7201a8\"],[0.3333333333333333,\"#9c179e\"],[0.4444444444444444,\"#bd3786\"],[0.5555555555555556,\"#d8576b\"],[0.6666666666666666,\"#ed7953\"],[0.7777777777777778,\"#fb9f3a\"],[0.8888888888888888,\"#fdca26\"],[1.0,\"#f0f921\"]]}],\"heatmap\":[{\"type\":\"heatmap\",\"colorbar\":{\"outlinewidth\":0,\"ticks\":\"\"},\"colorscale\":[[0.0,\"#0d0887\"],[0.1111111111111111,\"#46039f\"],[0.2222222222222222,\"#7201a8\"],[0.3333333333333333,\"#9c179e\"],[0.4444444444444444,\"#bd3786\"],[0.5555555555555556,\"#d8576b\"],[0.6666666666666666,\"#ed7953\"],[0.7777777777777778,\"#fb9f3a\"],[0.8888888888888888,\"#fdca26\"],[1.0,\"#f0f921\"]]}],\"heatmapgl\":[{\"type\":\"heatmapgl\",\"colorbar\":{\"outlinewidth\":0,\"ticks\":\"\"},\"colorscale\":[[0.0,\"#0d0887\"],[0.1111111111111111,\"#46039f\"],[0.2222222222222222,\"#7201a8\"],[0.3333333333333333,\"#9c179e\"],[0.4444444444444444,\"#bd3786\"],[0.5555555555555556,\"#d8576b\"],[0.6666666666666666,\"#ed7953\"],[0.7777777777777778,\"#fb9f3a\"],[0.8888888888888888,\"#fdca26\"],[1.0,\"#f0f921\"]]}],\"contourcarpet\":[{\"type\":\"contourcarpet\",\"colorbar\":{\"outlinewidth\":0,\"ticks\":\"\"}}],\"contour\":[{\"type\":\"contour\",\"colorbar\":{\"outlinewidth\":0,\"ticks\":\"\"},\"colorscale\":[[0.0,\"#0d0887\"],[0.1111111111111111,\"#46039f\"],[0.2222222222222222,\"#7201a8\"],[0.3333333333333333,\"#9c179e\"],[0.4444444444444444,\"#bd3786\"],[0.5555555555555556,\"#d8576b\"],[0.6666666666666666,\"#ed7953\"],[0.7777777777777778,\"#fb9f3a\"],[0.8888888888888888,\"#fdca26\"],[1.0,\"#f0f921\"]]}],\"surface\":[{\"type\":\"surface\",\"colorbar\":{\"outlinewidth\":0,\"ticks\":\"\"},\"colorscale\":[[0.0,\"#0d0887\"],[0.1111111111111111,\"#46039f\"],[0.2222222222222222,\"#7201a8\"],[0.3333333333333333,\"#9c179e\"],[0.4444444444444444,\"#bd3786\"],[0.5555555555555556,\"#d8576b\"],[0.6666666666666666,\"#ed7953\"],[0.7777777777777778,\"#fb9f3a\"],[0.8888888888888888,\"#fdca26\"],[1.0,\"#f0f921\"]]}],\"mesh3d\":[{\"type\":\"mesh3d\",\"colorbar\":{\"outlinewidth\":0,\"ticks\":\"\"}}],\"scatter\":[{\"marker\":{\"line\":{\"color\":\"#283442\"}},\"type\":\"scatter\"}],\"parcoords\":[{\"type\":\"parcoords\",\"line\":{\"colorbar\":{\"outlinewidth\":0,\"ticks\":\"\"}}}],\"scatterpolargl\":[{\"type\":\"scatterpolargl\",\"marker\":{\"colorbar\":{\"outlinewidth\":0,\"ticks\":\"\"}}}],\"bar\":[{\"error_x\":{\"color\":\"#f2f5fa\"},\"error_y\":{\"color\":\"#f2f5fa\"},\"marker\":{\"line\":{\"color\":\"rgb(17,17,17)\",\"width\":0.5},\"pattern\":{\"fillmode\":\"overlay\",\"size\":10,\"solidity\":0.2}},\"type\":\"bar\"}],\"scattergeo\":[{\"type\":\"scattergeo\",\"marker\":{\"colorbar\":{\"outlinewidth\":0,\"ticks\":\"\"}}}],\"scatterpolar\":[{\"type\":\"scatterpolar\",\"marker\":{\"colorbar\":{\"outlinewidth\":0,\"ticks\":\"\"}}}],\"histogram\":[{\"marker\":{\"pattern\":{\"fillmode\":\"overlay\",\"size\":10,\"solidity\":0.2}},\"type\":\"histogram\"}],\"scattergl\":[{\"marker\":{\"line\":{\"color\":\"#283442\"}},\"type\":\"scattergl\"}],\"scatter3d\":[{\"type\":\"scatter3d\",\"line\":{\"colorbar\":{\"outlinewidth\":0,\"ticks\":\"\"}},\"marker\":{\"colorbar\":{\"outlinewidth\":0,\"ticks\":\"\"}}}],\"scattermapbox\":[{\"type\":\"scattermapbox\",\"marker\":{\"colorbar\":{\"outlinewidth\":0,\"ticks\":\"\"}}}],\"scatterternary\":[{\"type\":\"scatterternary\",\"marker\":{\"colorbar\":{\"outlinewidth\":0,\"ticks\":\"\"}}}],\"scattercarpet\":[{\"type\":\"scattercarpet\",\"marker\":{\"colorbar\":{\"outlinewidth\":0,\"ticks\":\"\"}}}],\"carpet\":[{\"aaxis\":{\"endlinecolor\":\"#A2B1C6\",\"gridcolor\":\"#506784\",\"linecolor\":\"#506784\",\"minorgridcolor\":\"#506784\",\"startlinecolor\":\"#A2B1C6\"},\"baxis\":{\"endlinecolor\":\"#A2B1C6\",\"gridcolor\":\"#506784\",\"linecolor\":\"#506784\",\"minorgridcolor\":\"#506784\",\"startlinecolor\":\"#A2B1C6\"},\"type\":\"carpet\"}],\"table\":[{\"cells\":{\"fill\":{\"color\":\"#506784\"},\"line\":{\"color\":\"rgb(17,17,17)\"}},\"header\":{\"fill\":{\"color\":\"#2a3f5f\"},\"line\":{\"color\":\"rgb(17,17,17)\"}},\"type\":\"table\"}],\"barpolar\":[{\"marker\":{\"line\":{\"color\":\"rgb(17,17,17)\",\"width\":0.5},\"pattern\":{\"fillmode\":\"overlay\",\"size\":10,\"solidity\":0.2}},\"type\":\"barpolar\"}],\"pie\":[{\"automargin\":true,\"type\":\"pie\"}]},\"layout\":{\"autotypenumbers\":\"strict\",\"colorway\":[\"#636efa\",\"#EF553B\",\"#00cc96\",\"#ab63fa\",\"#FFA15A\",\"#19d3f3\",\"#FF6692\",\"#B6E880\",\"#FF97FF\",\"#FECB52\"],\"font\":{\"color\":\"#f2f5fa\"},\"hovermode\":\"closest\",\"hoverlabel\":{\"align\":\"left\"},\"paper_bgcolor\":\"rgb(17,17,17)\",\"plot_bgcolor\":\"rgb(17,17,17)\",\"polar\":{\"bgcolor\":\"rgb(17,17,17)\",\"angularaxis\":{\"gridcolor\":\"#506784\",\"linecolor\":\"#506784\",\"ticks\":\"\"},\"radialaxis\":{\"gridcolor\":\"#506784\",\"linecolor\":\"#506784\",\"ticks\":\"\"}},\"ternary\":{\"bgcolor\":\"rgb(17,17,17)\",\"aaxis\":{\"gridcolor\":\"#506784\",\"linecolor\":\"#506784\",\"ticks\":\"\"},\"baxis\":{\"gridcolor\":\"#506784\",\"linecolor\":\"#506784\",\"ticks\":\"\"},\"caxis\":{\"gridcolor\":\"#506784\",\"linecolor\":\"#506784\",\"ticks\":\"\"}},\"coloraxis\":{\"colorbar\":{\"outlinewidth\":0,\"ticks\":\"\"}},\"colorscale\":{\"sequential\":[[0.0,\"#0d0887\"],[0.1111111111111111,\"#46039f\"],[0.2222222222222222,\"#7201a8\"],[0.3333333333333333,\"#9c179e\"],[0.4444444444444444,\"#bd3786\"],[0.5555555555555556,\"#d8576b\"],[0.6666666666666666,\"#ed7953\"],[0.7777777777777778,\"#fb9f3a\"],[0.8888888888888888,\"#fdca26\"],[1.0,\"#f0f921\"]],\"sequentialminus\":[[0.0,\"#0d0887\"],[0.1111111111111111,\"#46039f\"],[0.2222222222222222,\"#7201a8\"],[0.3333333333333333,\"#9c179e\"],[0.4444444444444444,\"#bd3786\"],[0.5555555555555556,\"#d8576b\"],[0.6666666666666666,\"#ed7953\"],[0.7777777777777778,\"#fb9f3a\"],[0.8888888888888888,\"#fdca26\"],[1.0,\"#f0f921\"]],\"diverging\":[[0,\"#8e0152\"],[0.1,\"#c51b7d\"],[0.2,\"#de77ae\"],[0.3,\"#f1b6da\"],[0.4,\"#fde0ef\"],[0.5,\"#f7f7f7\"],[0.6,\"#e6f5d0\"],[0.7,\"#b8e186\"],[0.8,\"#7fbc41\"],[0.9,\"#4d9221\"],[1,\"#276419\"]]},\"xaxis\":{\"gridcolor\":\"#283442\",\"linecolor\":\"#506784\",\"ticks\":\"\",\"title\":{\"standoff\":15},\"zerolinecolor\":\"#283442\",\"automargin\":true,\"zerolinewidth\":2},\"yaxis\":{\"gridcolor\":\"#283442\",\"linecolor\":\"#506784\",\"ticks\":\"\",\"title\":{\"standoff\":15},\"zerolinecolor\":\"#283442\",\"automargin\":true,\"zerolinewidth\":2},\"scene\":{\"xaxis\":{\"backgroundcolor\":\"rgb(17,17,17)\",\"gridcolor\":\"#506784\",\"linecolor\":\"#506784\",\"showbackground\":true,\"ticks\":\"\",\"zerolinecolor\":\"#C8D4E3\",\"gridwidth\":2},\"yaxis\":{\"backgroundcolor\":\"rgb(17,17,17)\",\"gridcolor\":\"#506784\",\"linecolor\":\"#506784\",\"showbackground\":true,\"ticks\":\"\",\"zerolinecolor\":\"#C8D4E3\",\"gridwidth\":2},\"zaxis\":{\"backgroundcolor\":\"rgb(17,17,17)\",\"gridcolor\":\"#506784\",\"linecolor\":\"#506784\",\"showbackground\":true,\"ticks\":\"\",\"zerolinecolor\":\"#C8D4E3\",\"gridwidth\":2}},\"shapedefaults\":{\"line\":{\"color\":\"#f2f5fa\"}},\"annotationdefaults\":{\"arrowcolor\":\"#f2f5fa\",\"arrowhead\":0,\"arrowwidth\":1},\"geo\":{\"bgcolor\":\"rgb(17,17,17)\",\"landcolor\":\"rgb(17,17,17)\",\"subunitcolor\":\"#506784\",\"showland\":true,\"showlakes\":true,\"lakecolor\":\"rgb(17,17,17)\"},\"title\":{\"x\":0.05},\"updatemenudefaults\":{\"bgcolor\":\"#506784\",\"borderwidth\":0},\"sliderdefaults\":{\"bgcolor\":\"#C8D4E3\",\"borderwidth\":1,\"bordercolor\":\"rgb(17,17,17)\",\"tickwidth\":0},\"mapbox\":{\"style\":\"dark\"}}},\"xaxis\":{\"anchor\":\"y\",\"domain\":[0.0,1.0],\"title\":{\"text\":\"Flow [l/min]\"}},\"yaxis\":{\"anchor\":\"x\",\"domain\":[0.0,1.0],\"title\":{\"text\":\"Head theoretical\"}},\"legend\":{\"title\":{\"text\":\"Speed\"},\"tracegroupgap\":0},\"title\":{\"text\":\"Pump theoretical head\"}},                        {\"responsive\": true}                    ).then(function(){\n                            \nvar gd = document.getElementById('0630c212-1ee6-412e-951d-bcc6810dbb9f');\nvar x = new MutationObserver(function (mutations, observer) {{\n        var display = window.getComputedStyle(gd).display;\n        if (!display || display === 'none') {{\n            console.log([gd, 'removed!']);\n            Plotly.purge(gd);\n            observer.disconnect();\n        }}\n}});\n\n// Listen for the removal of the full notebook cells\nvar notebookContainer = gd.closest('#notebook-container');\nif (notebookContainer) {{\n    x.observe(notebookContainer, {childList: true});\n}}\n\n// Listen for the clearing of the current output cell\nvar outputEl = gd.closest('.output');\nif (outputEl) {{\n    x.observe(outputEl, {childList: true});\n}}\n\n                        })                };                });            </script>        </div>"
     },
     "metadata": {},
     "output_type": "display_data"
    },
    {
     "ename": "TypeError",
     "evalue": "Object of type complex is not JSON serializable",
     "output_type": "error",
     "traceback": [
      "\u001B[1;31m---------------------------------------------------------------------------\u001B[0m",
      "\u001B[1;31mTypeError\u001B[0m                                 Traceback (most recent call last)",
      "Input \u001B[1;32mIn [420]\u001B[0m, in \u001B[0;36m<cell line: 2>\u001B[1;34m()\u001B[0m\n\u001B[0;32m      1\u001B[0m pump \u001B[38;5;241m=\u001B[39m CentrifugalPump(fluid\u001B[38;5;241m=\u001B[39m\u001B[38;5;124m\"\u001B[39m\u001B[38;5;124mINCOMP::Water\u001B[39m\u001B[38;5;124m\"\u001B[39m, temperature\u001B[38;5;241m=\u001B[39m\u001B[38;5;241m300\u001B[39m, data\u001B[38;5;241m=\u001B[39mpump)\n\u001B[1;32m----> 2\u001B[0m \u001B[43mpump\u001B[49m\u001B[38;5;241;43m.\u001B[39;49m\u001B[43mcreate_performance_figures\u001B[49m\u001B[43m(\u001B[49m\u001B[38;5;241;43m0.0001\u001B[39;49m\u001B[43m,\u001B[49m\u001B[38;5;241;43m0.01\u001B[39;49m\u001B[43m,\u001B[49m\u001B[38;5;241;43m0.0001\u001B[39;49m\u001B[43m,\u001B[49m\u001B[38;5;241;43m500\u001B[39;49m\u001B[43m,\u001B[49m\u001B[38;5;241;43m3000\u001B[39;49m\u001B[43m,\u001B[49m\u001B[38;5;241;43m500\u001B[39;49m\u001B[43m)\u001B[49m\n",
      "Input \u001B[1;32mIn [419]\u001B[0m, in \u001B[0;36mCentrifugalPump.create_performance_figures\u001B[1;34m(self, min_Q, max_Q, dQ, min_n, max_n, dn)\u001B[0m\n\u001B[0;32m    266\u001B[0m \u001B[38;5;28mself\u001B[39m\u001B[38;5;241m.\u001B[39mfig_flow_head_th\u001B[38;5;241m.\u001B[39mshow()\n\u001B[0;32m    268\u001B[0m \u001B[38;5;28mself\u001B[39m\u001B[38;5;241m.\u001B[39mfig_flow_head \u001B[38;5;241m=\u001B[39m px\u001B[38;5;241m.\u001B[39mline(pump_df, x\u001B[38;5;241m=\u001B[39m\u001B[38;5;124m\"\u001B[39m\u001B[38;5;124mFlow [l/min]\u001B[39m\u001B[38;5;124m\"\u001B[39m, y\u001B[38;5;241m=\u001B[39m\u001B[38;5;124m\"\u001B[39m\u001B[38;5;124mHead [m]\u001B[39m\u001B[38;5;124m\"\u001B[39m, color\u001B[38;5;241m=\u001B[39m\u001B[38;5;124m\"\u001B[39m\u001B[38;5;124mSpeed\u001B[39m\u001B[38;5;124m\"\u001B[39m, title\u001B[38;5;241m=\u001B[39m\u001B[38;5;124m\"\u001B[39m\u001B[38;5;124mPump head\u001B[39m\u001B[38;5;124m\"\u001B[39m)\n\u001B[1;32m--> 269\u001B[0m \u001B[38;5;28;43mself\u001B[39;49m\u001B[38;5;241;43m.\u001B[39;49m\u001B[43mfig_flow_head\u001B[49m\u001B[38;5;241;43m.\u001B[39;49m\u001B[43mshow\u001B[49m\u001B[43m(\u001B[49m\u001B[43m)\u001B[49m\n\u001B[0;32m    271\u001B[0m \u001B[38;5;28mself\u001B[39m\u001B[38;5;241m.\u001B[39mfig_flow_eta \u001B[38;5;241m=\u001B[39m px\u001B[38;5;241m.\u001B[39mline(pump_df, x\u001B[38;5;241m=\u001B[39m\u001B[38;5;124m\"\u001B[39m\u001B[38;5;124mFlow [l/min]\u001B[39m\u001B[38;5;124m\"\u001B[39m, y\u001B[38;5;241m=\u001B[39m\u001B[38;5;124m'\u001B[39m\u001B[38;5;124mPump efficiency\u001B[39m\u001B[38;5;124m'\u001B[39m, color\u001B[38;5;241m=\u001B[39m\u001B[38;5;124m\"\u001B[39m\u001B[38;5;124mSpeed\u001B[39m\u001B[38;5;124m\"\u001B[39m, title\u001B[38;5;241m=\u001B[39m\u001B[38;5;124m\"\u001B[39m\u001B[38;5;124mPump efficiency\u001B[39m\u001B[38;5;124m\"\u001B[39m)\n\u001B[0;32m    272\u001B[0m \u001B[38;5;28mself\u001B[39m\u001B[38;5;241m.\u001B[39mfig_flow_eta\u001B[38;5;241m.\u001B[39mupdate_yaxes(\u001B[38;5;28mrange\u001B[39m\u001B[38;5;241m=\u001B[39m[\u001B[38;5;241m0\u001B[39m, \u001B[38;5;241m1\u001B[39m])\n",
      "File \u001B[1;32m~\\Documents\\git\\CentrifugalPumpDesignPerformance\\venv\\lib\\site-packages\\plotly\\basedatatypes.py:3398\u001B[0m, in \u001B[0;36mBaseFigure.show\u001B[1;34m(self, *args, **kwargs)\u001B[0m\n\u001B[0;32m   3365\u001B[0m \u001B[38;5;124;03m\"\"\"\u001B[39;00m\n\u001B[0;32m   3366\u001B[0m \u001B[38;5;124;03mShow a figure using either the default renderer(s) or the renderer(s)\u001B[39;00m\n\u001B[0;32m   3367\u001B[0m \u001B[38;5;124;03mspecified by the renderer argument\u001B[39;00m\n\u001B[1;32m   (...)\u001B[0m\n\u001B[0;32m   3394\u001B[0m \u001B[38;5;124;03mNone\u001B[39;00m\n\u001B[0;32m   3395\u001B[0m \u001B[38;5;124;03m\"\"\"\u001B[39;00m\n\u001B[0;32m   3396\u001B[0m \u001B[38;5;28;01mimport\u001B[39;00m \u001B[38;5;21;01mplotly\u001B[39;00m\u001B[38;5;21;01m.\u001B[39;00m\u001B[38;5;21;01mio\u001B[39;00m \u001B[38;5;28;01mas\u001B[39;00m \u001B[38;5;21;01mpio\u001B[39;00m\n\u001B[1;32m-> 3398\u001B[0m \u001B[38;5;28;01mreturn\u001B[39;00m pio\u001B[38;5;241m.\u001B[39mshow(\u001B[38;5;28mself\u001B[39m, \u001B[38;5;241m*\u001B[39margs, \u001B[38;5;241m*\u001B[39m\u001B[38;5;241m*\u001B[39mkwargs)\n",
      "File \u001B[1;32m~\\Documents\\git\\CentrifugalPumpDesignPerformance\\venv\\lib\\site-packages\\plotly\\io\\_renderers.py:388\u001B[0m, in \u001B[0;36mshow\u001B[1;34m(fig, renderer, validate, **kwargs)\u001B[0m\n\u001B[0;32m    385\u001B[0m fig_dict \u001B[38;5;241m=\u001B[39m validate_coerce_fig_to_dict(fig, validate)\n\u001B[0;32m    387\u001B[0m \u001B[38;5;66;03m# Mimetype renderers\u001B[39;00m\n\u001B[1;32m--> 388\u001B[0m bundle \u001B[38;5;241m=\u001B[39m renderers\u001B[38;5;241m.\u001B[39m_build_mime_bundle(fig_dict, renderers_string\u001B[38;5;241m=\u001B[39mrenderer, \u001B[38;5;241m*\u001B[39m\u001B[38;5;241m*\u001B[39mkwargs)\n\u001B[0;32m    389\u001B[0m \u001B[38;5;28;01mif\u001B[39;00m bundle:\n\u001B[0;32m    390\u001B[0m     \u001B[38;5;28;01mif\u001B[39;00m \u001B[38;5;129;01mnot\u001B[39;00m ipython_display:\n",
      "File \u001B[1;32m~\\Documents\\git\\CentrifugalPumpDesignPerformance\\venv\\lib\\site-packages\\plotly\\io\\_renderers.py:296\u001B[0m, in \u001B[0;36mRenderersConfig._build_mime_bundle\u001B[1;34m(self, fig_dict, renderers_string, **kwargs)\u001B[0m\n\u001B[0;32m    293\u001B[0m             \u001B[38;5;28;01mif\u001B[39;00m \u001B[38;5;28mhasattr\u001B[39m(renderer, k):\n\u001B[0;32m    294\u001B[0m                 \u001B[38;5;28msetattr\u001B[39m(renderer, k, v)\n\u001B[1;32m--> 296\u001B[0m         bundle\u001B[38;5;241m.\u001B[39mupdate(\u001B[43mrenderer\u001B[49m\u001B[38;5;241;43m.\u001B[39;49m\u001B[43mto_mimebundle\u001B[49m\u001B[43m(\u001B[49m\u001B[43mfig_dict\u001B[49m\u001B[43m)\u001B[49m)\n\u001B[0;32m    298\u001B[0m \u001B[38;5;28;01mreturn\u001B[39;00m bundle\n",
      "File \u001B[1;32m~\\Documents\\git\\CentrifugalPumpDesignPerformance\\venv\\lib\\site-packages\\plotly\\io\\_base_renderers.py:95\u001B[0m, in \u001B[0;36mPlotlyRenderer.to_mimebundle\u001B[1;34m(self, fig_dict)\u001B[0m\n\u001B[0;32m     91\u001B[0m \u001B[38;5;28;01mif\u001B[39;00m config:\n\u001B[0;32m     92\u001B[0m     fig_dict[\u001B[38;5;124m\"\u001B[39m\u001B[38;5;124mconfig\u001B[39m\u001B[38;5;124m\"\u001B[39m] \u001B[38;5;241m=\u001B[39m config\n\u001B[0;32m     94\u001B[0m json_compatible_fig_dict \u001B[38;5;241m=\u001B[39m json\u001B[38;5;241m.\u001B[39mloads(\n\u001B[1;32m---> 95\u001B[0m     \u001B[43mto_json\u001B[49m\u001B[43m(\u001B[49m\u001B[43mfig_dict\u001B[49m\u001B[43m,\u001B[49m\u001B[43m \u001B[49m\u001B[43mvalidate\u001B[49m\u001B[38;5;241;43m=\u001B[39;49m\u001B[38;5;28;43;01mFalse\u001B[39;49;00m\u001B[43m,\u001B[49m\u001B[43m \u001B[49m\u001B[43mremove_uids\u001B[49m\u001B[38;5;241;43m=\u001B[39;49m\u001B[38;5;28;43;01mFalse\u001B[39;49;00m\u001B[43m)\u001B[49m\n\u001B[0;32m     96\u001B[0m )\n\u001B[0;32m     98\u001B[0m \u001B[38;5;28;01mreturn\u001B[39;00m {\u001B[38;5;124m\"\u001B[39m\u001B[38;5;124mapplication/vnd.plotly.v1+json\u001B[39m\u001B[38;5;124m\"\u001B[39m: json_compatible_fig_dict}\n",
      "File \u001B[1;32m~\\Documents\\git\\CentrifugalPumpDesignPerformance\\venv\\lib\\site-packages\\plotly\\io\\_json.py:199\u001B[0m, in \u001B[0;36mto_json\u001B[1;34m(fig, validate, pretty, remove_uids, engine)\u001B[0m\n\u001B[0;32m    196\u001B[0m     \u001B[38;5;28;01mfor\u001B[39;00m trace \u001B[38;5;129;01min\u001B[39;00m fig_dict\u001B[38;5;241m.\u001B[39mget(\u001B[38;5;124m\"\u001B[39m\u001B[38;5;124mdata\u001B[39m\u001B[38;5;124m\"\u001B[39m, []):\n\u001B[0;32m    197\u001B[0m         trace\u001B[38;5;241m.\u001B[39mpop(\u001B[38;5;124m\"\u001B[39m\u001B[38;5;124muid\u001B[39m\u001B[38;5;124m\"\u001B[39m, \u001B[38;5;28;01mNone\u001B[39;00m)\n\u001B[1;32m--> 199\u001B[0m \u001B[38;5;28;01mreturn\u001B[39;00m \u001B[43mto_json_plotly\u001B[49m\u001B[43m(\u001B[49m\u001B[43mfig_dict\u001B[49m\u001B[43m,\u001B[49m\u001B[43m \u001B[49m\u001B[43mpretty\u001B[49m\u001B[38;5;241;43m=\u001B[39;49m\u001B[43mpretty\u001B[49m\u001B[43m,\u001B[49m\u001B[43m \u001B[49m\u001B[43mengine\u001B[49m\u001B[38;5;241;43m=\u001B[39;49m\u001B[43mengine\u001B[49m\u001B[43m)\u001B[49m\n",
      "File \u001B[1;32m~\\Documents\\git\\CentrifugalPumpDesignPerformance\\venv\\lib\\site-packages\\plotly\\io\\_json.py:123\u001B[0m, in \u001B[0;36mto_json_plotly\u001B[1;34m(plotly_object, pretty, engine)\u001B[0m\n\u001B[0;32m    119\u001B[0m         opts[\u001B[38;5;124m\"\u001B[39m\u001B[38;5;124mseparators\u001B[39m\u001B[38;5;124m\"\u001B[39m] \u001B[38;5;241m=\u001B[39m (\u001B[38;5;124m\"\u001B[39m\u001B[38;5;124m,\u001B[39m\u001B[38;5;124m\"\u001B[39m, \u001B[38;5;124m\"\u001B[39m\u001B[38;5;124m:\u001B[39m\u001B[38;5;124m\"\u001B[39m)\n\u001B[0;32m    121\u001B[0m     \u001B[38;5;28;01mfrom\u001B[39;00m \u001B[38;5;21;01m_plotly_utils\u001B[39;00m\u001B[38;5;21;01m.\u001B[39;00m\u001B[38;5;21;01mutils\u001B[39;00m \u001B[38;5;28;01mimport\u001B[39;00m PlotlyJSONEncoder\n\u001B[1;32m--> 123\u001B[0m     \u001B[38;5;28;01mreturn\u001B[39;00m json\u001B[38;5;241m.\u001B[39mdumps(plotly_object, \u001B[38;5;28mcls\u001B[39m\u001B[38;5;241m=\u001B[39mPlotlyJSONEncoder, \u001B[38;5;241m*\u001B[39m\u001B[38;5;241m*\u001B[39mopts)\n\u001B[0;32m    124\u001B[0m \u001B[38;5;28;01melif\u001B[39;00m engine \u001B[38;5;241m==\u001B[39m \u001B[38;5;124m\"\u001B[39m\u001B[38;5;124morjson\u001B[39m\u001B[38;5;124m\"\u001B[39m:\n\u001B[0;32m    125\u001B[0m     JsonConfig\u001B[38;5;241m.\u001B[39mvalidate_orjson()\n",
      "File \u001B[1;32m~\\AppData\\Local\\Programs\\Python\\Python310\\lib\\json\\__init__.py:238\u001B[0m, in \u001B[0;36mdumps\u001B[1;34m(obj, skipkeys, ensure_ascii, check_circular, allow_nan, cls, indent, separators, default, sort_keys, **kw)\u001B[0m\n\u001B[0;32m    232\u001B[0m \u001B[38;5;28;01mif\u001B[39;00m \u001B[38;5;28mcls\u001B[39m \u001B[38;5;129;01mis\u001B[39;00m \u001B[38;5;28;01mNone\u001B[39;00m:\n\u001B[0;32m    233\u001B[0m     \u001B[38;5;28mcls\u001B[39m \u001B[38;5;241m=\u001B[39m JSONEncoder\n\u001B[0;32m    234\u001B[0m \u001B[38;5;28;01mreturn\u001B[39;00m \u001B[38;5;28;43mcls\u001B[39;49m\u001B[43m(\u001B[49m\n\u001B[0;32m    235\u001B[0m \u001B[43m    \u001B[49m\u001B[43mskipkeys\u001B[49m\u001B[38;5;241;43m=\u001B[39;49m\u001B[43mskipkeys\u001B[49m\u001B[43m,\u001B[49m\u001B[43m \u001B[49m\u001B[43mensure_ascii\u001B[49m\u001B[38;5;241;43m=\u001B[39;49m\u001B[43mensure_ascii\u001B[49m\u001B[43m,\u001B[49m\n\u001B[0;32m    236\u001B[0m \u001B[43m    \u001B[49m\u001B[43mcheck_circular\u001B[49m\u001B[38;5;241;43m=\u001B[39;49m\u001B[43mcheck_circular\u001B[49m\u001B[43m,\u001B[49m\u001B[43m \u001B[49m\u001B[43mallow_nan\u001B[49m\u001B[38;5;241;43m=\u001B[39;49m\u001B[43mallow_nan\u001B[49m\u001B[43m,\u001B[49m\u001B[43m \u001B[49m\u001B[43mindent\u001B[49m\u001B[38;5;241;43m=\u001B[39;49m\u001B[43mindent\u001B[49m\u001B[43m,\u001B[49m\n\u001B[0;32m    237\u001B[0m \u001B[43m    \u001B[49m\u001B[43mseparators\u001B[49m\u001B[38;5;241;43m=\u001B[39;49m\u001B[43mseparators\u001B[49m\u001B[43m,\u001B[49m\u001B[43m \u001B[49m\u001B[43mdefault\u001B[49m\u001B[38;5;241;43m=\u001B[39;49m\u001B[43mdefault\u001B[49m\u001B[43m,\u001B[49m\u001B[43m \u001B[49m\u001B[43msort_keys\u001B[49m\u001B[38;5;241;43m=\u001B[39;49m\u001B[43msort_keys\u001B[49m\u001B[43m,\u001B[49m\n\u001B[1;32m--> 238\u001B[0m \u001B[43m    \u001B[49m\u001B[38;5;241;43m*\u001B[39;49m\u001B[38;5;241;43m*\u001B[39;49m\u001B[43mkw\u001B[49m\u001B[43m)\u001B[49m\u001B[38;5;241;43m.\u001B[39;49m\u001B[43mencode\u001B[49m\u001B[43m(\u001B[49m\u001B[43mobj\u001B[49m\u001B[43m)\u001B[49m\n",
      "File \u001B[1;32m~\\Documents\\git\\CentrifugalPumpDesignPerformance\\venv\\lib\\site-packages\\_plotly_utils\\utils.py:59\u001B[0m, in \u001B[0;36mPlotlyJSONEncoder.encode\u001B[1;34m(self, o)\u001B[0m\n\u001B[0;32m     52\u001B[0m \u001B[38;5;124;03m\"\"\"\u001B[39;00m\n\u001B[0;32m     53\u001B[0m \u001B[38;5;124;03mLoad and then dump the result using parse_constant kwarg\u001B[39;00m\n\u001B[0;32m     54\u001B[0m \n\u001B[0;32m     55\u001B[0m \u001B[38;5;124;03mNote that setting invalid separators will cause a failure at this step.\u001B[39;00m\n\u001B[0;32m     56\u001B[0m \n\u001B[0;32m     57\u001B[0m \u001B[38;5;124;03m\"\"\"\u001B[39;00m\n\u001B[0;32m     58\u001B[0m \u001B[38;5;66;03m# this will raise errors in a normal-expected way\u001B[39;00m\n\u001B[1;32m---> 59\u001B[0m encoded_o \u001B[38;5;241m=\u001B[39m \u001B[38;5;28;43msuper\u001B[39;49m\u001B[43m(\u001B[49m\u001B[43mPlotlyJSONEncoder\u001B[49m\u001B[43m,\u001B[49m\u001B[43m \u001B[49m\u001B[38;5;28;43mself\u001B[39;49m\u001B[43m)\u001B[49m\u001B[38;5;241;43m.\u001B[39;49m\u001B[43mencode\u001B[49m\u001B[43m(\u001B[49m\u001B[43mo\u001B[49m\u001B[43m)\u001B[49m\n\u001B[0;32m     60\u001B[0m \u001B[38;5;66;03m# Brute force guessing whether NaN or Infinity values are in the string\u001B[39;00m\n\u001B[0;32m     61\u001B[0m \u001B[38;5;66;03m# We catch false positive cases (e.g. strings such as titles, labels etc.)\u001B[39;00m\n\u001B[0;32m     62\u001B[0m \u001B[38;5;66;03m# but this is ok since the intention is to skip the decoding / reencoding\u001B[39;00m\n\u001B[0;32m     63\u001B[0m \u001B[38;5;66;03m# step when it's completely safe\u001B[39;00m\n\u001B[0;32m     65\u001B[0m \u001B[38;5;28;01mif\u001B[39;00m \u001B[38;5;129;01mnot\u001B[39;00m (\u001B[38;5;124m\"\u001B[39m\u001B[38;5;124mNaN\u001B[39m\u001B[38;5;124m\"\u001B[39m \u001B[38;5;129;01min\u001B[39;00m encoded_o \u001B[38;5;129;01mor\u001B[39;00m \u001B[38;5;124m\"\u001B[39m\u001B[38;5;124mInfinity\u001B[39m\u001B[38;5;124m\"\u001B[39m \u001B[38;5;129;01min\u001B[39;00m encoded_o):\n",
      "File \u001B[1;32m~\\AppData\\Local\\Programs\\Python\\Python310\\lib\\json\\encoder.py:199\u001B[0m, in \u001B[0;36mJSONEncoder.encode\u001B[1;34m(self, o)\u001B[0m\n\u001B[0;32m    195\u001B[0m         \u001B[38;5;28;01mreturn\u001B[39;00m encode_basestring(o)\n\u001B[0;32m    196\u001B[0m \u001B[38;5;66;03m# This doesn't pass the iterator directly to ''.join() because the\u001B[39;00m\n\u001B[0;32m    197\u001B[0m \u001B[38;5;66;03m# exceptions aren't as detailed.  The list call should be roughly\u001B[39;00m\n\u001B[0;32m    198\u001B[0m \u001B[38;5;66;03m# equivalent to the PySequence_Fast that ''.join() would do.\u001B[39;00m\n\u001B[1;32m--> 199\u001B[0m chunks \u001B[38;5;241m=\u001B[39m \u001B[38;5;28;43mself\u001B[39;49m\u001B[38;5;241;43m.\u001B[39;49m\u001B[43miterencode\u001B[49m\u001B[43m(\u001B[49m\u001B[43mo\u001B[49m\u001B[43m,\u001B[49m\u001B[43m \u001B[49m\u001B[43m_one_shot\u001B[49m\u001B[38;5;241;43m=\u001B[39;49m\u001B[38;5;28;43;01mTrue\u001B[39;49;00m\u001B[43m)\u001B[49m\n\u001B[0;32m    200\u001B[0m \u001B[38;5;28;01mif\u001B[39;00m \u001B[38;5;129;01mnot\u001B[39;00m \u001B[38;5;28misinstance\u001B[39m(chunks, (\u001B[38;5;28mlist\u001B[39m, \u001B[38;5;28mtuple\u001B[39m)):\n\u001B[0;32m    201\u001B[0m     chunks \u001B[38;5;241m=\u001B[39m \u001B[38;5;28mlist\u001B[39m(chunks)\n",
      "File \u001B[1;32m~\\AppData\\Local\\Programs\\Python\\Python310\\lib\\json\\encoder.py:257\u001B[0m, in \u001B[0;36mJSONEncoder.iterencode\u001B[1;34m(self, o, _one_shot)\u001B[0m\n\u001B[0;32m    252\u001B[0m \u001B[38;5;28;01melse\u001B[39;00m:\n\u001B[0;32m    253\u001B[0m     _iterencode \u001B[38;5;241m=\u001B[39m _make_iterencode(\n\u001B[0;32m    254\u001B[0m         markers, \u001B[38;5;28mself\u001B[39m\u001B[38;5;241m.\u001B[39mdefault, _encoder, \u001B[38;5;28mself\u001B[39m\u001B[38;5;241m.\u001B[39mindent, floatstr,\n\u001B[0;32m    255\u001B[0m         \u001B[38;5;28mself\u001B[39m\u001B[38;5;241m.\u001B[39mkey_separator, \u001B[38;5;28mself\u001B[39m\u001B[38;5;241m.\u001B[39mitem_separator, \u001B[38;5;28mself\u001B[39m\u001B[38;5;241m.\u001B[39msort_keys,\n\u001B[0;32m    256\u001B[0m         \u001B[38;5;28mself\u001B[39m\u001B[38;5;241m.\u001B[39mskipkeys, _one_shot)\n\u001B[1;32m--> 257\u001B[0m \u001B[38;5;28;01mreturn\u001B[39;00m \u001B[43m_iterencode\u001B[49m\u001B[43m(\u001B[49m\u001B[43mo\u001B[49m\u001B[43m,\u001B[49m\u001B[43m \u001B[49m\u001B[38;5;241;43m0\u001B[39;49m\u001B[43m)\u001B[49m\n",
      "File \u001B[1;32m~\\Documents\\git\\CentrifugalPumpDesignPerformance\\venv\\lib\\site-packages\\_plotly_utils\\utils.py:136\u001B[0m, in \u001B[0;36mPlotlyJSONEncoder.default\u001B[1;34m(self, obj)\u001B[0m\n\u001B[0;32m    134\u001B[0m     \u001B[38;5;28;01mexcept\u001B[39;00m NotEncodable:\n\u001B[0;32m    135\u001B[0m         \u001B[38;5;28;01mpass\u001B[39;00m\n\u001B[1;32m--> 136\u001B[0m \u001B[38;5;28;01mreturn\u001B[39;00m \u001B[43m_json\u001B[49m\u001B[38;5;241;43m.\u001B[39;49m\u001B[43mJSONEncoder\u001B[49m\u001B[38;5;241;43m.\u001B[39;49m\u001B[43mdefault\u001B[49m\u001B[43m(\u001B[49m\u001B[38;5;28;43mself\u001B[39;49m\u001B[43m,\u001B[49m\u001B[43m \u001B[49m\u001B[43mobj\u001B[49m\u001B[43m)\u001B[49m\n",
      "File \u001B[1;32m~\\AppData\\Local\\Programs\\Python\\Python310\\lib\\json\\encoder.py:179\u001B[0m, in \u001B[0;36mJSONEncoder.default\u001B[1;34m(self, o)\u001B[0m\n\u001B[0;32m    160\u001B[0m \u001B[38;5;28;01mdef\u001B[39;00m \u001B[38;5;21mdefault\u001B[39m(\u001B[38;5;28mself\u001B[39m, o):\n\u001B[0;32m    161\u001B[0m     \u001B[38;5;124;03m\"\"\"Implement this method in a subclass such that it returns\u001B[39;00m\n\u001B[0;32m    162\u001B[0m \u001B[38;5;124;03m    a serializable object for ``o``, or calls the base implementation\u001B[39;00m\n\u001B[0;32m    163\u001B[0m \u001B[38;5;124;03m    (to raise a ``TypeError``).\u001B[39;00m\n\u001B[1;32m   (...)\u001B[0m\n\u001B[0;32m    177\u001B[0m \n\u001B[0;32m    178\u001B[0m \u001B[38;5;124;03m    \"\"\"\u001B[39;00m\n\u001B[1;32m--> 179\u001B[0m     \u001B[38;5;28;01mraise\u001B[39;00m \u001B[38;5;167;01mTypeError\u001B[39;00m(\u001B[38;5;124mf\u001B[39m\u001B[38;5;124m'\u001B[39m\u001B[38;5;124mObject of type \u001B[39m\u001B[38;5;132;01m{\u001B[39;00mo\u001B[38;5;241m.\u001B[39m\u001B[38;5;18m__class__\u001B[39m\u001B[38;5;241m.\u001B[39m\u001B[38;5;18m__name__\u001B[39m\u001B[38;5;132;01m}\u001B[39;00m\u001B[38;5;124m \u001B[39m\u001B[38;5;124m'\u001B[39m\n\u001B[0;32m    180\u001B[0m                     \u001B[38;5;124mf\u001B[39m\u001B[38;5;124m'\u001B[39m\u001B[38;5;124mis not JSON serializable\u001B[39m\u001B[38;5;124m'\u001B[39m)\n",
      "\u001B[1;31mTypeError\u001B[0m: Object of type complex is not JSON serializable"
     ]
    }
   ],
   "source": [
    "pump = CentrifugalPump(fluid=\"INCOMP::Water\", temperature=300, data=pump)\n",
    "pump.create_performance_figures(0.0001,0.01,0.0001,500,3000,500)"
   ],
   "metadata": {
    "collapsed": false,
    "pycharm": {
     "name": "#%%\n"
    }
   }
  },
  {
   "cell_type": "code",
   "execution_count": null,
   "outputs": [],
   "source": [
    "\n",
    "\n",
    "\n",
    "\n",
    "results = pump.pump_head(Q=pump_flow, n=pump_rpm, temperature=300)\n",
    "\n"
   ],
   "metadata": {
    "collapsed": false,
    "pycharm": {
     "name": "#%%\n"
    }
   }
  },
  {
   "cell_type": "code",
   "execution_count": null,
   "outputs": [],
   "source": [
    "\n"
   ],
   "metadata": {
    "collapsed": false,
    "pycharm": {
     "name": "#%%\n"
    }
   }
  }
 ],
 "metadata": {
  "kernelspec": {
   "display_name": "Python 3 (ipykernel)",
   "language": "python",
   "name": "python3"
  }
 },
 "nbformat": 4,
 "nbformat_minor": 4
}