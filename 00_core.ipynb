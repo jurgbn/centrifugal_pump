{
 "cells": [
  {
   "cell_type": "code",
   "execution_count": 884,
   "metadata": {
    "pycharm": {
     "name": "#%%\n"
    }
   },
   "outputs": [],
   "source": [
    "#| default_exp centrifugal_pump"
   ]
  },
  {
   "cell_type": "markdown",
   "metadata": {
    "pycharm": {
     "name": "#%% md\n"
    }
   },
   "source": [
    "# centrifugal_pump--Design and performance\n",
    "\n",
    "> A basic API for preliminary design and performance evaluation of centrifugal pumps"
   ]
  },
  {
   "cell_type": "code",
   "execution_count": 885,
   "metadata": {
    "pycharm": {
     "name": "#%%\n"
    }
   },
   "outputs": [],
   "source": [
    "#|hide\n",
    "from nbdev.showdoc import *"
   ]
  },
  {
   "cell_type": "markdown",
   "source": [
    "> Pump initial parameters"
   ],
   "metadata": {
    "collapsed": false,
    "pycharm": {
     "name": "#%% md\n"
    }
   }
  },
  {
   "cell_type": "markdown",
   "source": [
    "Pump performance specification:"
   ],
   "metadata": {
    "collapsed": false,
    "pycharm": {
     "name": "#%% md\n"
    }
   }
  },
  {
   "cell_type": "code",
   "execution_count": 886,
   "outputs": [],
   "source": [
    "pump_flow = 0.0054\n",
    "pump_head = 8\n",
    "pump_rpm = 1200"
   ],
   "metadata": {
    "collapsed": false,
    "pycharm": {
     "name": "#%%\n"
    }
   }
  },
  {
   "cell_type": "markdown",
   "source": [
    "Pump design input parameters"
   ],
   "metadata": {
    "collapsed": false,
    "pycharm": {
     "name": "#%% md\n"
    }
   }
  },
  {
   "cell_type": "code",
   "execution_count": 887,
   "outputs": [],
   "source": [
    "blade_outlet_angle = 30\n",
    "number_of_blades = 6\n",
    "inlet_impeller_hub_diameter = 0.025\n",
    "incidence = 0"
   ],
   "metadata": {
    "collapsed": false,
    "pycharm": {
     "name": "#%%\n"
    }
   }
  },
  {
   "cell_type": "code",
   "execution_count": 888,
   "outputs": [],
   "source": [
    "#|export\n",
    "from dataclasses import dataclass\n",
    "import numpy as np\n",
    "\n",
    "@dataclass\n",
    "class CentrifugalPumpSpecification:\n",
    "        impeller_inner_diameter: float\n",
    "        impeller_outer_diameter: float\n",
    "        inlet_blade_height: float\n",
    "        outlet_blade_height: float\n",
    "        impeller_inlet_area: float\n",
    "        impeller_outlet_area: float\n",
    "        blade_clearance: float\n",
    "        blade_thickness: float\n",
    "        number_of_impeller_blades: int\n",
    "        roughness: float\n",
    "        blade_inlet_angle_rad: float\n",
    "        blade_outlet_angle_rad: float\n",
    "        volute_throat_area: float\n",
    "        volute_height: float\n",
    "        diffuser_area_ratio: float\n",
    "        inlet_flow_angle_rad: float\n",
    "        diameter_size_check: bool = False\n",
    "        blade_height_size_check: bool = False\n",
    "        Kw: float = 0.0\n",
    "        Ks: float = 0.0\n",
    "        Kw_check: bool = False\n",
    "        Ks_check: bool = False\n"
   ],
   "metadata": {
    "collapsed": false,
    "pycharm": {
     "name": "#%%\n"
    }
   }
  },
  {
   "cell_type": "code",
   "execution_count": 889,
   "outputs": [],
   "source": [
    "#|export\n",
    "import matplotlib.pyplot as plt\n",
    "\n",
    "\n",
    "class PumpDesign:\n",
    "    def __init__(self,\n",
    "                 fluid: str,\n",
    "                 n_d: float,\n",
    "                 Q_d: float,\n",
    "                 H_d: float,\n",
    "                 head_coefficient: float = 0.5,\n",
    "                 flow_coefficient_phi: float = 0,\n",
    "                 epsilon: float=0.045e-3):\n",
    "        self.fluid = fluid\n",
    "        self.n_d = n_d\n",
    "        self.Q_d = Q_d\n",
    "        self.H_d = H_d\n",
    "        self.nq = n_d * np.sqrt(Q_d) / (H_d ** (3 / 4))\n",
    "        if flow_coefficient_phi == 0:\n",
    "            self.flow_coefficient_phi = 3.7838e-3 * self.nq - 0.02919\n",
    "        else:\n",
    "            self.flow_coefficient_phi=flow_coefficient_phi\n",
    "        self.epsilon = epsilon\n",
    "        self.head_coefficient_psi = head_coefficient\n",
    "\n",
    "    def pump_design(self,\n",
    "                    blade_outlet_angle_deg,\n",
    "                    number_of_blades,\n",
    "                    inlet_impeller_hub_diameter,\n",
    "                    incidence,\n",
    "                    plot_figure = False,\n",
    "                    flow_inlet_angle_deg = 90,\n",
    "                    blade_thickness = 8e-3,\n",
    "                    volute_height=5e-3,\n",
    "                    diffusor_area_ratio=2,\n",
    "                    blade_clearance = 0.05e-3) -> CentrifugalPumpSpecification:\n",
    "\n",
    "        t = blade_thickness\n",
    "        z = number_of_blades\n",
    "        dh1 = inlet_impeller_hub_diameter\n",
    "        i = incidence\n",
    "        b3 = volute_height\n",
    "        AR = diffusor_area_ratio\n",
    "        s = blade_clearance\n",
    "        beta2 = np.deg2rad(blade_outlet_angle_deg)\n",
    "        alpha1 = np.deg2rad(flow_inlet_angle_deg)\n",
    "\n",
    "        g = 9.81\n",
    "        omega_d = self.n_d / 60 * 2 * np.pi\n",
    "        d2 = 2 / omega_d * np.sqrt(g * self.H_d / self.head_coefficient_psi)\n",
    "        u2 = omega_d * d2 / 2\n",
    "\n",
    "        b2 = self.Q_d / (self.flow_coefficient_phi * u2 * (np.pi * d2 - t * z))\n",
    "        A2 = np.pi * d2 * b2 - t * z * b2\n",
    "        c2m = self.Q_d / A2\n",
    "\n",
    "\n",
    "        ns = 51.55 * self.nq\n",
    "\n",
    "        Kd = 1e-13 * ns ** 3 - 7e-9 * ns ** 2 + 1e-4 * ns + 0.2661\n",
    "        d1 = Kd * d2\n",
    "        b1 = (d1 - dh1) / 2\n",
    "        A1 = np.pi * d1 * b1 - t * z * b1\n",
    "        c1m = self.Q_d / A1\n",
    "\n",
    "        u1 = omega_d * d1 / 2\n",
    "        c_theta_1 = c1m / np.tan(alpha1)\n",
    "        w_theta_1 = u1 - c_theta_1\n",
    "        beta1 = np.arctan(c1m / w_theta_1) + i\n",
    "        w1 = np.sqrt(c1m ** 2 + w_theta_1 ** 2)\n",
    "        sigma = 1 - np.sin(beta2) / (z ** 0.7)\n",
    "        w_theta_2 = c2m / np.tan(beta2)\n",
    "        w2 = np.sqrt(c2m ** 2 + w_theta_2 ** 2)\n",
    "        c_theta_2 = u2 - w_theta_2\n",
    "        c_theta_2_slip = sigma * (u2 - w_theta_2)\n",
    "\n",
    "        c2m_check = w_theta_2 * np.tan(beta2)\n",
    "        diameter_size_check = d1 < d2\n",
    "        blade_height_size_check = b2 < b1\n",
    "\n",
    "        Kw = (w1 - w2) / w1\n",
    "        Ks = (u2 - u1) / c_theta_2\n",
    "\n",
    "        L0 = 1/360 * c_theta_2_slip * d2/2\n",
    "        A4_check = self.Q_d / c_theta_2_slip * 1.25\n",
    "        A4 = 0\n",
    "\n",
    "        theta_list = []\n",
    "        d_n_list = []\n",
    "        d_1_list = []\n",
    "        d_2_list = []\n",
    "        for theta in range(1, 360, 1):\n",
    "            coeff_1 = np.pi * L0 * 360**2 /(16 * self.Q_d * theta)\n",
    "            coeff_2 = -(2 * np.pi * L0 * 360**2 * d2 / (16 * self.Q_d * theta) + 1 / 4)\n",
    "            coeff_3 = (d2**2 * np.pi * L0 * 360**2 / (16 * self.Q_d * theta) - d2/4)\n",
    "            \"\"\"coeff_1 = np.pi * c_theta_2_slip * d2/2\n",
    "            coeff_2 = - theta / (2 * np.pi) * self.Q_d\n",
    "            coeff_3 = - d2 / 2 * theta / (2 * np.pi) * self.Q_d\"\"\"\n",
    "            d_n_root = np.roots([coeff_1, coeff_2, coeff_3])\n",
    "            d_n = d_n_root[0]\n",
    "            c_theta_n = L0 * 360 / (d2/2 + (d_n - d2) / 4)\n",
    "            d_v = (d_n - d2) / 2\n",
    "            A4 = np.pi * (d_v * 1.25 /2)**2\n",
    "            theta_list.append(theta/(360/(2*np.pi)))\n",
    "            d_n_list.append(max(d_n/2 * 1.25, d2/2 + b3))\n",
    "            d_2_list.append(d2/2)\n",
    "            d_1_list.append(d1/2)\n",
    "\n",
    "\n",
    "        if plot_figure:\n",
    "            fig, ax = plt.subplots(subplot_kw={'projection': 'polar'})\n",
    "            ax.plot(theta_list, d_n_list)\n",
    "            ax.plot(theta_list, d_1_list)\n",
    "            ax.plot(theta_list, d_2_list)\n",
    "            # ax.set_rmax(0.25)\n",
    "            ax.set_rlabel_position(-22.5)  # Move radial labels away from plotted line\n",
    "            ax.grid(True)\n",
    "\n",
    "            ax.set_title(\"A line plot on a polar axis\", va='bottom')\n",
    "            plt.show()\n",
    "\n",
    "        print(c_theta_2_slip)\n",
    "        print(c2m)\n",
    "        print(A4)\n",
    "        print(A4_check)\n",
    "        pump_design_parameters = CentrifugalPumpSpecification(\n",
    "        impeller_inner_diameter = d1,\n",
    "        impeller_outer_diameter = d2,\n",
    "        inlet_blade_height = b1,\n",
    "        outlet_blade_height = b2,\n",
    "        impeller_inlet_area= A1,\n",
    "        impeller_outlet_area = A2,\n",
    "        volute_height = b3,\n",
    "        blade_clearance = s,\n",
    "        blade_thickness = t,\n",
    "        number_of_impeller_blades = z,\n",
    "        roughness = self.epsilon,\n",
    "        blade_inlet_angle_rad= beta1,\n",
    "        blade_outlet_angle_rad = beta2,\n",
    "        inlet_flow_angle_rad = alpha1,\n",
    "        volute_throat_area = A4,\n",
    "        diffuser_area_ratio=AR,\n",
    "        diameter_size_check=diameter_size_check,\n",
    "        blade_height_size_check=blade_height_size_check,\n",
    "        Kw=Kw,\n",
    "        Ks=Ks,\n",
    "        Kw_check=Kw<0.25,\n",
    "        Ks_check=Ks<0.9)\n",
    "\n",
    "        return pump_design_parameters\n"
   ],
   "metadata": {
    "collapsed": false,
    "pycharm": {
     "name": "#%%\n"
    }
   }
  },
  {
   "cell_type": "code",
   "execution_count": 890,
   "outputs": [
    {
     "data": {
      "text/plain": "<Figure size 432x288 with 1 Axes>",
      "image/png": "[encoded data removed]"
     },
     "metadata": {
      "needs_background": "light"
     },
     "output_type": "display_data"
    },
    {
     "name": "stdout",
     "output_type": "stream",
     "text": [
      "9.252879453675567\n",
      "1.0022694248554127\n",
      "0.0010422515956835248\n",
      "0.0007295026411825418\n"
     ]
    }
   ],
   "source": [
    "design = PumpDesign(fluid=\"INCOMP::Water\", Q_d=pump_flow, H_d=pump_head, n_d=pump_rpm, flow_coefficient_phi=0.08)\n",
    "pump = design.pump_design(blade_outlet_angle_deg=blade_outlet_angle,\n",
    "                            number_of_blades=number_of_blades,\n",
    "                            inlet_impeller_hub_diameter=inlet_impeller_hub_diameter,\n",
    "                            incidence=0,\n",
    "                            plot_figure=True)\n"
   ],
   "metadata": {
    "collapsed": false,
    "pycharm": {
     "name": "#%%\n"
    }
   }
  },
  {
   "cell_type": "markdown",
   "source": [
    "> Pump design evaluation\n",
    "\n",
    "Pump design data:"
   ],
   "metadata": {
    "collapsed": false,
    "pycharm": {
     "name": "#%% md\n"
    }
   }
  },
  {
   "cell_type": "code",
   "execution_count": 891,
   "outputs": [
    {
     "name": "stdout",
     "output_type": "stream",
     "text": [
      "Inlet blade angle: 17\n",
      "Outlet blade angle: 30\n",
      "Impeller inner diameter: 71.0 mm\n",
      "Impeller outer diameter 199.0 mm\n",
      "Inlet blade height 23.0 mm\n",
      "Outlet blade height 9.0 mm\n",
      "Impeller inlet area 0.004 m2\n",
      "Impeller outlet area 0.0054 m2\n",
      "Volute throat 0.00104 m2\n"
     ]
    }
   ],
   "source": [
    "print('Inlet blade angle: {}'.format(round(np.rad2deg(pump.blade_inlet_angle_rad)), 2))\n",
    "print('Outlet blade angle: {}'.format(round(np.rad2deg(pump.blade_outlet_angle_rad)), 2))\n",
    "print('Impeller inner diameter: {} mm'.format(round(pump.impeller_inner_diameter, 3) * 1000))\n",
    "print('Impeller outer diameter {} mm'.format(round(pump.impeller_outer_diameter,3) * 1000))\n",
    "print('Inlet blade height {} mm'.format(round(pump.inlet_blade_height, 3) * 1000))\n",
    "print('Outlet blade height {} mm'.format(round(pump.outlet_blade_height, 3) * 1000))\n",
    "print('Impeller inlet area {} m2'.format(round(pump.impeller_inlet_area, 4)))\n",
    "print('Impeller outlet area {} m2'.format(round(pump.impeller_outlet_area, 4)))\n",
    "print('Volute throat {} m2'.format(round(pump.volute_throat_area, 5)))"
   ],
   "metadata": {
    "collapsed": false,
    "pycharm": {
     "name": "#%%\n"
    }
   }
  },
  {
   "cell_type": "markdown",
   "source": [
    "Requirements:\n",
    "Inner blade diameter should be smaller than outer blade diameter"
   ],
   "metadata": {
    "collapsed": false,
    "pycharm": {
     "name": "#%% md\n"
    }
   }
  },
  {
   "cell_type": "code",
   "execution_count": 892,
   "outputs": [
    {
     "name": "stdout",
     "output_type": "stream",
     "text": [
      "0.071 < 0.199 is True\n"
     ]
    }
   ],
   "source": [
    "print('{} < {} is {}'.format(round(pump.impeller_inner_diameter, 3), round(pump.impeller_outer_diameter, 3), pump.diameter_size_check))"
   ],
   "metadata": {
    "collapsed": false,
    "pycharm": {
     "name": "#%%\n"
    }
   }
  },
  {
   "cell_type": "markdown",
   "source": [
    "Inlet blade height have to be larger than the outlet blade height"
   ],
   "metadata": {
    "collapsed": false,
    "pycharm": {
     "name": "#%% md\n"
    }
   }
  },
  {
   "cell_type": "code",
   "execution_count": 893,
   "outputs": [
    {
     "name": "stdout",
     "output_type": "stream",
     "text": [
      "0.023 > 0.009 is True\n"
     ]
    }
   ],
   "source": [
    "print('{} > {} is {}'.format(round(pump.inlet_blade_height, 3), round(pump.outlet_blade_height, 3), pump.blade_height_size_check))"
   ],
   "metadata": {
    "collapsed": false,
    "pycharm": {
     "name": "#%%\n"
    }
   }
  },
  {
   "cell_type": "markdown",
   "source": [
    "Small relative velocities: Kw < 0.25"
   ],
   "metadata": {
    "collapsed": false,
    "pycharm": {
     "name": "#%% md\n"
    }
   }
  },
  {
   "cell_type": "code",
   "execution_count": 894,
   "outputs": [
    {
     "name": "stdout",
     "output_type": "stream",
     "text": [
      "0.569 < 0.25 is False\n"
     ]
    }
   ],
   "source": [
    "print('{} < 0.25 is {}'.format(round(pump.Kw, 3), pump.Kw_check))"
   ],
   "metadata": {
    "collapsed": false,
    "pycharm": {
     "name": "#%%\n"
    }
   }
  },
  {
   "cell_type": "markdown",
   "source": [
    "Stability factor: Ks < 0.9"
   ],
   "metadata": {
    "collapsed": false,
    "pycharm": {
     "name": "#%% md\n"
    }
   }
  },
  {
   "cell_type": "code",
   "execution_count": 895,
   "outputs": [
    {
     "name": "stdout",
     "output_type": "stream",
     "text": [
      "0.748 < 0.9 is True\n"
     ]
    }
   ],
   "source": [
    "print('{} < 0.9 is {}'.format(round(pump.Ks, 3), pump.Ks_check))\n",
    "\n"
   ],
   "metadata": {
    "collapsed": false,
    "pycharm": {
     "name": "#%%\n"
    }
   }
  },
  {
   "cell_type": "code",
   "execution_count": 896,
   "outputs": [],
   "source": [
    "#|export\n",
    "from CoolProp.CoolProp import PropsSI\n",
    "from scipy.optimize import root_scalar\n",
    "from collections import namedtuple\n",
    "import pandas as pd\n",
    "import plotly.express as px\n",
    "\n",
    "class CentrifugalPump:\n",
    "    def __init__(self, fluid: str, temperature: float, data: CentrifugalPumpSpecification):\n",
    "        self.g = 9.81\n",
    "        self.P = 101325\n",
    "        self.T = temperature\n",
    "        self.fluid = fluid\n",
    "        self.d1 = data.impeller_inner_diameter\n",
    "        self.d2 = data.impeller_outer_diameter\n",
    "        self.b1 = data.inlet_blade_height\n",
    "        self.b2 = data.outlet_blade_height\n",
    "        self.b3 = data.volute_height\n",
    "        self.s = data.blade_clearance\n",
    "        self.t = data.blade_thickness\n",
    "        self.z = data.number_of_impeller_blades\n",
    "        self.epsilon = data.roughness\n",
    "        self.beta1 = data.blade_inlet_angle_rad\n",
    "        self.beta2 = data.blade_outlet_angle_rad\n",
    "        self.alpha1 = data.inlet_flow_angle_rad\n",
    "        self.r1 = self.d1 / 2\n",
    "        self.r2 = self.d2 / 2\n",
    "        self.A1 = np.pi * self.d1 * self.b1\n",
    "        self.A2 = np.pi * self.d2 * self.b2\n",
    "        self.A1r = self.A1 - self.t * self.z * self.b1\n",
    "        self.A2r = self.A2 - self.t * self.z * self.b2\n",
    "        self.A4 = data.volute_throat_area\n",
    "        self.A5 = self.A4 * data.diffuser_area_ratio\n",
    "\n",
    "        print(self.A4)\n",
    "\n",
    "    def _friction_colebrook(self, f, dh, Re):\n",
    "        res = 1 / np.sqrt(f) + 2 * np.log10(\n",
    "            (self.epsilon / dh) / 3.7 + 2.51 / (Re * np.sqrt(f))\n",
    "        )\n",
    "        return res\n",
    "\n",
    "    def _friction_factor(self, a1, a2, temperature, v_avg):\n",
    "        dh = 2 * (a2 * self.b2 + a1 * self.b1) / (a1 + a2 + self.b1 + self.b1)\n",
    "        v = PropsSI(\"V\", \"T\", temperature, \"P\", self.P, self.fluid)\n",
    "        rho = PropsSI('D', 'T', temperature, 'P', self.P, self.fluid)\n",
    "        Re = rho * v_avg * dh / v\n",
    "        f0 = 0.25 * (np.log((self.epsilon / dh) / 3.7 + 5.74 / Re ** 0.9)) ** (-2)\n",
    "        f = root_scalar(\n",
    "            method=\"bisect\",\n",
    "            f=self._friction_colebrook,\n",
    "            x0=f0,\n",
    "            args=(dh, Re),\n",
    "            bracket=[0.0001, 300],\n",
    "        ).root\n",
    "        return f\n",
    "\n",
    "    def _pump_friction_loss(self, v1: float, v2: float, temperature: float):\n",
    "        L = (self.d2 - self.d1) / (2 * np.sin(self.beta2))\n",
    "        a1 = np.pi * self.d1 / self.z * np.sin(self.beta1)\n",
    "        a2 = np.pi * self.d2 / self.z * np.sin(self.beta2)\n",
    "        dh = 2 * (a2 * self.b2 + a1 * self.b1) / (a1 + a2 + self.b1 + self.b1)\n",
    "        v_avg = (v1 + v2) / 2\n",
    "        f = self._friction_factor(a1=a1, a2=a2, temperature=temperature, v_avg=v_avg)\n",
    "        Hl_f = f * L * v_avg ** 2 / (dh * 2 * self.g)\n",
    "\n",
    "        return Hl_f\n",
    "\n",
    "    def _pump_incidence_loss(self, beta1, beta1_fl, w1):\n",
    "        lmda = np.sin(beta1_fl) / np.sin(2 * beta1_fl - beta1) - np.sqrt(\n",
    "            (np.sin(beta1_fl) ** 2 - np.sin(beta1) * np.sin(2 * beta1_fl - beta1))\n",
    "            / (np.sin(2 * beta1_fl - beta1)) ** 2\n",
    "        )\n",
    "        Hl_inc = (\n",
    "            w1 ** 2\n",
    "            / (2 * self.g)\n",
    "            * (1 / lmda) ** 2\n",
    "            * (1 - lmda * np.sin(beta1_fl) / np.sin(beta1)) ** 2\n",
    "        )\n",
    "        return Hl_inc\n",
    "\n",
    "    def _pump_leak_loss_open(self, Hth):\n",
    "        a2 = np.pi * self.d2 / self.z * np.sin(self.beta2)\n",
    "        nq = 20\n",
    "        Hl_leak_ratio = (2.5 * self.s / self.d2) / (\n",
    "            np.sqrt(self.b2 / self.d2 * (1 - self.d1 / self.d2))\n",
    "            * (self.t / a2)\n",
    "            * nq ** 0.1\n",
    "            * np.sin(self.beta2) ** 1.2\n",
    "            * np.sin(self.beta1) ** 0.4\n",
    "        )\n",
    "        return Hl_leak_ratio * Hth\n",
    "\n",
    "    def _pump_leak_loss_closed(self, Q, Hth, omega, w1: float, w2: float, temperature: float):\n",
    "        Hl_stat = Hth - (omega / 2) ** 2 * (self.d2 ** 2 - self.d1 ** 2) / (8 * self.g)\n",
    "        a1 = np.pi * self.d1 / self.z * np.sin(self.beta1)\n",
    "        a2 = np.pi * self.d2 / self.z * np.sin(self.beta2)\n",
    "        w_avg = (w1 + w2) / 2\n",
    "        f = self._friction_factor(a1=a1, a2=a2, temperature=temperature, v_avg=w_avg)\n",
    "        L_gap = (self.d2 - self.d1) / 2\n",
    "        v_gap = np.sqrt(2 * self.g * Hl_stat / (f * L_gap / self.s + 0.5 + 0.5))\n",
    "        A_gap = np.pi * self.d2 * self.s\n",
    "        Q_leak = v_gap * A_gap\n",
    "        eta_vol = Q / (Q + Q_leak)\n",
    "        return eta_vol\n",
    "\n",
    "    def _pump_diffusion_loss(self, w1):\n",
    "        Hl_d = 0.25 * w1 ** 2 / (2 * self.g)\n",
    "        return Hl_d\n",
    "\n",
    "    def _volute_friction_loss(self, Q, temperature):\n",
    "        dh_volute = 4 * self.A4 / (4 * self.b3)\n",
    "        d3 = self.d2 + 2 * self.b3\n",
    "        c4m = Q / self.A4\n",
    "        v = PropsSI(\"V\", \"T\", temperature, \"P\", self.P, self.fluid)\n",
    "        rho = PropsSI('D', 'T', temperature, 'P', self.P, self.fluid)\n",
    "        Re = rho * c4m * dh_volute / v\n",
    "        f0 = 0.25 * (np.log((self.epsilon / dh_volute) / 3.7 + 5.74 / Re ** 0.9)) ** (\n",
    "            -2\n",
    "        )\n",
    "        f = root_scalar(\n",
    "            method=\"bisect\",\n",
    "            f=self._friction_colebrook,\n",
    "            x0=f0,\n",
    "            args=(dh_volute, Re),\n",
    "            bracket=[0.0001, 100],\n",
    "        ).root\n",
    "\n",
    "        Hl_f_v = f * (4 * d3 * self.b3 * c4m ** 2) / (dh_volute ** 2 * 2 * self.g)\n",
    "        return Hl_f_v\n",
    "\n",
    "    def _volute_radial_loss(self, c2r):\n",
    "        Hl_radial_v = c2r ** 2 / (2 * self.g)\n",
    "        return Hl_radial_v\n",
    "\n",
    "    def _volute_head_loss(self, Q, c_theta_2):\n",
    "        c4m = Q / self.A4\n",
    "        d4 = self.d2 + self.b3 + np.sqrt(self.A4 / np.pi) * 2\n",
    "        c_theta_4 = c_theta_2 * self.d2 / d4\n",
    "        Hl_h_v = 0.8 * (c_theta_4 ** 2 - c4m ** 2) / (2 * self.g)\n",
    "        return Hl_h_v\n",
    "\n",
    "    def _volute_diffuser_loss(self, Q):\n",
    "        cp = 2 * ((self.A4 / self.A5) - (self.A4 / self.A5) ** 2)\n",
    "        delta_diff = 1 - cp\n",
    "        c4m = Q / self.A4\n",
    "        Hl_diff_v = delta_diff * c4m ** 2 / (2 * self.g)\n",
    "        return Hl_diff_v\n",
    "\n",
    "    def _power_disk_friction(self, temperature, u2):\n",
    "        v = PropsSI(\"V\", \"T\", temperature, \"P\", self.P, self.fluid)\n",
    "        rho = PropsSI('D', 'T', temperature, 'P', self.P, self.fluid)\n",
    "        k = 7.3e-4 * (2 * v * 1e6 / (u2 * self.d2)) ** (1 / 8)\n",
    "        P_disk = k * rho * u2 ** 3 * self.d2 * (self.d2 + 5 * self.s)\n",
    "        return P_disk\n",
    "\n",
    "    def pump_head(self, Q, n, temperature):\n",
    "        omega = n / 60 * 2 * np.pi\n",
    "\n",
    "        c1m = Q / self.A1r\n",
    "        c2m = Q / self.A2r\n",
    "\n",
    "        u1 = omega * self.r1\n",
    "        u2 = omega * self.r2\n",
    "\n",
    "        c_theta_1 = c1m / np.tan(self.alpha1)\n",
    "        c1 = np.sqrt(c1m ** 2 + c_theta_1 ** 2)\n",
    "        w_theta_1 = u1 - c_theta_1\n",
    "        w1 = np.sqrt(c1m ** 2 + w_theta_1 ** 2)\n",
    "        beta1_fl = np.arctan(c1m / w_theta_1)\n",
    "        incidence = self.beta1 - beta1_fl\n",
    "\n",
    "        sigma = 1 - np.sin(self.beta2) / (self.z ** 0.7)\n",
    "\n",
    "        w_theta_2 = c2m / np.tan(self.beta2)\n",
    "        w2 = np.sqrt(c2m ** 2 + w_theta_2 ** 2)\n",
    "        c_theta_2_slip = sigma * (u2 - w_theta_2)\n",
    "        w_theta_2_slip = u2 - c_theta_2_slip\n",
    "        beta2_fl = np.arctan(c2m / w_theta_2_slip)\n",
    "\n",
    "        Hth = 1 / self.g * (u2 * c_theta_2_slip - u1 * c_theta_1)\n",
    "        Hl_f = self._pump_friction_loss(v1=w1, v2=w2, temperature=temperature)\n",
    "        Hl_inc = self._pump_incidence_loss(beta1=self.beta1, beta1_fl=beta1_fl, w1=w1)\n",
    "        Hl_leak = self._pump_leak_loss_open(Hth=Hth)\n",
    "        Hl_d = self._pump_diffusion_loss(w1=w1)\n",
    "        Hl_f_v = self._volute_friction_loss(Q=Q, temperature=temperature)\n",
    "        Hl_r_v = self._volute_radial_loss(c2r=c2m)\n",
    "        Hl_h_v = self._volute_head_loss(Q=Q, c_theta_2=c_theta_2_slip)\n",
    "        Hl_diff_v = self._volute_diffuser_loss(Q=Q)\n",
    "        \"\"\"H_out = (\n",
    "            Hth - Hl_f - Hl_inc - Hl_leak - Hl_d - Hl_f_v - Hl_r_v - Hl_h_v - Hl_diff_v\n",
    "        )\"\"\"\n",
    "        H_out = (\n",
    "            Hth - Hl_f - Hl_inc - Hl_leak - Hl_d - Hl_f_v - Hl_r_v- Hl_diff_v\n",
    "        )\n",
    "\n",
    "        rho = PropsSI('D', 'T', temperature, 'P', self.P, self.fluid)\n",
    "\n",
    "        P_disk = self._power_disk_friction(temperature=temperature, u2=u2)\n",
    "        P_hyd = Hth * self.g * rho * Q\n",
    "        P_out = H_out * self.g * rho * Q\n",
    "        P_in = P_hyd + P_disk\n",
    "        eta = P_out / P_in\n",
    "\n",
    "        PumpPerformance = namedtuple('PumpPerformance', ['head',\n",
    "                                                         'head_incidence',\n",
    "                                                         'head_theoretical',\n",
    "                                                         'pump_friction_loss',\n",
    "                                                         'pump_incidence_loss',\n",
    "                                                         'pump_diffusion_loss',\n",
    "                                                         'volute_friction_loss',\n",
    "                                                         'volute_radial_loss',\n",
    "                                                         'volute_head_loss',\n",
    "                                                         'volute_diffuser_loss',\n",
    "                                                         'power_in',\n",
    "                                                         'power_out',\n",
    "                                                         'pump_efficiency'])\n",
    "\n",
    "        return PumpPerformance(H_out,\n",
    "                               np.rad2deg(self.beta1 - beta1_fl),\n",
    "                               Hth,\n",
    "                               Hl_f,\n",
    "                               Hl_inc,\n",
    "                               Hl_d,\n",
    "                               Hl_f_v,\n",
    "                               Hl_r_v,\n",
    "                               Hl_h_v,\n",
    "                               Hl_diff_v,\n",
    "                               P_in,\n",
    "                               P_out,\n",
    "                               eta)\n",
    "\n",
    "    def create_performance_figures(self, min_Q, max_Q, dQ, min_n, max_n, dn):\n",
    "        n = []\n",
    "        Q = []\n",
    "        H = []\n",
    "        Hth = []\n",
    "        inc_loss = []\n",
    "        inc = []\n",
    "        Hl_f = []\n",
    "        Hl_d = []\n",
    "        Hl_f_v = []\n",
    "        Hl_r_v = []\n",
    "        Hl_h_v = []\n",
    "        Hl_diff_v = []\n",
    "        power_in = []\n",
    "        power_out = []\n",
    "        eta = []\n",
    "        for speed in np.arange(min_n, max_n, dn):\n",
    "            for flow in np.arange(min_Q, max_Q, dQ):\n",
    "                pump_performance = pump.pump_head(Q=flow, n=speed, temperature=self.T)\n",
    "                n.append(speed)\n",
    "                Q.append(flow * 1000 * 60)\n",
    "                H.append(pump_performance.head)\n",
    "                Hth.append(pump_performance.head_theoretical)\n",
    "                inc_loss.append(pump_performance.pump_incidence_loss)\n",
    "                inc.append(pump_performance.head_incidence)\n",
    "                Hl_f.append(pump_performance.pump_friction_loss)\n",
    "                Hl_d.append(pump_performance.pump_diffusion_loss)\n",
    "                Hl_f_v.append(pump_performance.volute_friction_loss)\n",
    "                Hl_r_v.append(pump_performance.volute_radial_loss)\n",
    "                Hl_h_v.append(pump_performance.volute_head_loss)\n",
    "                Hl_diff_v.append(pump_performance.volute_diffuser_loss)\n",
    "                power_in.append(pump_performance.power_in / 1000)\n",
    "                power_out.append(pump_performance.power_out / 1000)\n",
    "                eta.append(pump_performance.pump_efficiency)\n",
    "        pump_dict = {'Speed':n, 'Flow [l/min]':Q, 'Head [m]':H, 'Head theoretical':Hth, 'Incidence loss':inc_loss, 'Incidence':inc, 'Head loss friction':Hl_f, 'Head loss volute friction':Hl_f_v, 'Head loss volute radial':Hl_r_v, 'Head loss volute':Hl_h_v, 'Head loss volute diffusor': Hl_diff_v, 'Power in':power_in, 'Power out': power_out, 'Pump efficiency':eta}\n",
    "        pump_df = pd.DataFrame(data=pump_dict)\n",
    "\n",
    "        self.fig_flow_head_th = px.line(pump_df, x=\"Flow [l/min]\", y='Head theoretical', color=\"Speed\", title=\"Pump theoretical head\")\n",
    "        self.fig_flow_head_th.show()\n",
    "\n",
    "        self.fig_flow_head = px.line(pump_df, x=\"Flow [l/min]\", y=\"Head [m]\", color=\"Speed\", title=\"Pump head\")\n",
    "        self.fig_flow_head.show()\n",
    "\n",
    "        self.fig_flow_power_in = px.line(pump_df, x=\"Flow [l/min]\", y=\"Power in\", color=\"Speed\", title=\"Power in\")\n",
    "        self.fig_flow_power_in.show()\n",
    "\n",
    "        self.fig_flow_power_out = px.line(pump_df, x=\"Flow [l/min]\", y=\"Power out\", color=\"Speed\", title=\"Power out\")\n",
    "        self.fig_flow_power_out.show()\n",
    "\n",
    "        self.fig_flow_eta = px.line(pump_df, x=\"Flow [l/min]\", y='Pump efficiency', color=\"Speed\", title=\"Pump efficiency\")\n",
    "        self.fig_flow_eta.update_yaxes(range=[0, 1])\n",
    "        self.fig_flow_eta.show()\n",
    "\n",
    "        self.fig_flow_incloss = px.line(pump_df, x=\"Flow [l/min]\", y='Incidence loss', color=\"Speed\", title=\"Incidence loss\")\n",
    "        self.fig_flow_incloss.show()\n",
    "\n",
    "        self.fig_flow_friction = px.line(pump_df, x=\"Flow [l/min]\", y='Head loss friction', color=\"Speed\", title=\"Friction loss\")\n",
    "        self.fig_flow_friction.show()\n",
    "\n",
    "        self.fig_flow_volute_friction = px.line(pump_df, x=\"Flow [l/min]\", y='Head loss volute friction', color=\"Speed\", title=\"Volute friction loss\")\n",
    "        self.fig_flow_volute_friction.show()\n",
    "\n",
    "        self.fig_flow_volute_radial= px.line(pump_df, x=\"Flow [l/min]\", y='Head loss volute radial', color=\"Speed\", title=\"Volute radial loss\")\n",
    "        self.fig_flow_volute_radial.show()\n",
    "\n",
    "        self.fig_flow_volute_head= px.line(pump_df, x=\"Flow [l/min]\", y='Head loss volute', color=\"Speed\", title=\"Volute head loss\")\n",
    "        self.fig_flow_volute_head.show()\n",
    "\n",
    "        self.fig_flow_volute_diffusor= px.line(pump_df, x=\"Flow [l/min]\", y='Head loss volute diffusor', color=\"Speed\", title=\"Volute diffusor loss\")\n",
    "        self.fig_flow_volute_diffusor.show()\n",
    "\n",
    "\n",
    "\n"
   ],
   "metadata": {
    "collapsed": false,
    "pycharm": {
     "name": "#%%\n"
    }
   }
  },
  {
   "cell_type": "code",
   "execution_count": 897,
   "outputs": [
    {
     "name": "stdout",
     "output_type": "stream",
     "text": [
      "0.0010422515956835248\n"
     ]
    },
    {
     "data": {
      "application/vnd.plotly.v1+json": {
       "data": [
        {
         "hovertemplate": "Speed=1200<br>Flow [l/min]=%{x}<br>Head theoretical=%{y}<extra></extra>",
         "legendgroup": "1200",
         "line": {
          "color": "#636efa",
          "dash": "solid"
         },
         "marker": {
          "symbol": "circle"
         },
         "mode": "lines",
         "name": "1200",
         "orientation": "v",
         "showlegend": true,
         "x": [
          6.0,
          12.0,
          18.000000000000004,
          24.0,
          30.0,
          36.00000000000001,
          42.00000000000001,
          48.0,
          54.00000000000001,
          60.0,
          66.0,
          72.00000000000001,
          78.00000000000001,
          84.00000000000001,
          90.0,
          96.0,
          102.00000000000001,
          108.00000000000001,
          114.00000000000001,
          120.0,
          126.0,
          132.0,
          138.0,
          144.0,
          150.0,
          156.0,
          162.0,
          168.0,
          174.0,
          180.0,
          186.0,
          192.0,
          198.0,
          204.0,
          210.0,
          216.0,
          222.0,
          228.0,
          234.0,
          240.0,
          246.00000000000003,
          252.0,
          258.00000000000006,
          264.0,
          270.00000000000006,
          276.00000000000006,
          282.0,
          288.00000000000006,
          294.0,
          300.0,
          306.00000000000006,
          312.00000000000006,
          318.00000000000006,
          324.0,
          330.00000000000006,
          336.00000000000006,
          342.0,
          348.00000000000006,
          354.0,
          360.0,
          366.00000000000006,
          372.00000000000006,
          378.00000000000006,
          384.0,
          390.00000000000006,
          396.00000000000006,
          402.0,
          408.00000000000006,
          414.0,
          420.00000000000006,
          426.00000000000006,
          432.00000000000006,
          438.00000000000006,
          444.0,
          450.00000000000006,
          456.00000000000006,
          462.0,
          468.00000000000006,
          474.0,
          480.0,
          486.0,
          491.99999999999994,
          498.00000000000006,
          504.0,
          510.0,
          516.0,
          522.0,
          528.0,
          534.0,
          540.0,
          546.0,
          552.0,
          557.9999999999999,
          564.0,
          570.0,
          576.0,
          582.0000000000001,
          587.9999999999999,
          593.9999999999999,
          600.0,
          606.0,
          612.0000000000001,
          618.0,
          624.0,
          630.0,
          636.0,
          642.0,
          648.0,
          654.0,
          660.0,
          666.0,
          672.0,
          677.9999999999999,
          684.0,
          690.0,
          696.0,
          702.0000000000001,
          707.9999999999999,
          713.9999999999999,
          720.0,
          726.0,
          732.0000000000001,
          738.0,
          744.0,
          750.0,
          756.0,
          762.0,
          768.0,
          774.0,
          780.0,
          786.0000000000001,
          792.0,
          797.9999999999999,
          804.0,
          810.0,
          816.0,
          822.0000000000001,
          827.9999999999999,
          834.0,
          840.0,
          846.0,
          852.0000000000001,
          858.0,
          864.0,
          870.0,
          876.0,
          882.0,
          888.0,
          894.0,
          900.0,
          906.0000000000001,
          912.0,
          917.9999999999999,
          924.0,
          930.0,
          936.0,
          942.0000000000002,
          948.0,
          954.0,
          960.0,
          966.0000000000001,
          972.0,
          977.9999999999998,
          984.0000000000001,
          990.0,
          996.0000000000001,
          1002.0,
          1008.0,
          1014.0000000000001,
          1020.0,
          1026.0,
          1032.0,
          1038.0,
          1044.0,
          1050.0,
          1056.0,
          1062.0,
          1068.0,
          1074.0,
          1080.0,
          1086.0,
          1092.0,
          1098.0,
          1104.0,
          1110.0,
          1116.0,
          1122.0000000000002,
          1128.0,
          1134.0,
          1140.0,
          1145.9999999999998,
          1152.0000000000002,
          1158.0,
          1164.0000000000002,
          1170.0,
          1175.9999999999998,
          1182.0,
          1188.0,
          1194.0000000000002
         ],
         "xaxis": "x",
         "y": [
          13.682440706320959,
          13.64724122518819,
          13.612041744055423,
          13.576842262922654,
          13.541642781789887,
          13.50644330065712,
          13.471243819524352,
          13.43604433839158,
          13.400844857258814,
          13.365645376126045,
          13.330445894993275,
          13.295246413860509,
          13.260046932727743,
          13.224847451594973,
          13.189647970462204,
          13.154448489329436,
          13.119249008196668,
          13.0840495270639,
          13.048850045931133,
          13.013650564798363,
          12.978451083665597,
          12.943251602532825,
          12.90805212140006,
          12.87285264026729,
          12.837653159134522,
          12.802453678001756,
          12.767254196868986,
          12.732054715736218,
          12.696855234603449,
          12.661655753470683,
          12.626456272337915,
          12.591256791205147,
          12.556057310072378,
          12.520857828939612,
          12.485658347806842,
          12.450458866674074,
          12.415259385541304,
          12.380059904408538,
          12.344860423275767,
          12.309660942143001,
          12.274461461010231,
          12.239261979877464,
          12.204062498744696,
          12.168863017611928,
          12.13366353647916,
          12.098464055346392,
          12.063264574213623,
          12.028065093080857,
          11.992865611948087,
          11.95766613081532,
          11.92246664968255,
          11.887267168549783,
          11.852067687417012,
          11.816868206284246,
          11.78166872515148,
          11.746469244018709,
          11.711269762885943,
          11.676070281753175,
          11.640870800620407,
          11.605671319487636,
          11.570471838354868,
          11.535272357222102,
          11.500072876089332,
          11.464873394956564,
          11.429673913823796,
          11.394474432691029,
          11.359274951558259,
          11.324075470425491,
          11.288875989292725,
          11.253676508159954,
          11.218477027027188,
          11.18327754589442,
          11.148078064761654,
          11.11287858362888,
          11.077679102496115,
          11.042479621363347,
          11.007280140230577,
          10.972080659097807,
          10.936881177965041,
          10.901681696832274,
          10.866482215699504,
          10.831282734566738,
          10.79608325343397,
          10.760883772301202,
          10.725684291168433,
          10.690484810035665,
          10.655285328902897,
          10.62008584777013,
          10.58488636663736,
          10.549686885504594,
          10.514487404371822,
          10.479287923239056,
          10.44408844210629,
          10.408888960973519,
          10.37368947984075,
          10.338489998707983,
          10.303290517575217,
          10.268091036442447,
          10.232891555309678,
          10.197692074176912,
          10.162492593044144,
          10.127293111911374,
          10.092093630778605,
          10.056894149645837,
          10.02169466851307,
          9.986495187380301,
          9.951295706247533,
          9.916096225114766,
          9.880896743981998,
          9.84569726284923,
          9.810497781716462,
          9.775298300583692,
          9.740098819450926,
          9.704899338318157,
          9.669699857185389,
          9.63450037605262,
          9.599300894919853,
          9.564101413787082,
          9.528901932654316,
          9.493702451521546,
          9.458502970388778,
          9.42330348925601,
          9.388104008123243,
          9.352904526990475,
          9.317705045857707,
          9.28250556472494,
          9.247306083592171,
          9.212106602459402,
          9.176907121326634,
          9.141707640193866,
          9.106508159061098,
          9.071308677928327,
          9.036109196795561,
          9.000909715662793,
          8.965710234530025,
          8.930510753397257,
          8.895311272264488,
          8.860111791131722,
          8.824912309998952,
          8.789712828866184,
          8.754513347733415,
          8.719313866600649,
          8.684114385467879,
          8.64891490433511,
          8.613715423202343,
          8.578515942069574,
          8.543316460936806,
          8.508116979804038,
          8.472917498671272,
          8.437718017538504,
          8.402518536405733,
          8.367319055272967,
          8.332119574140199,
          8.29692009300743,
          8.261720611874662,
          8.226521130741894,
          8.191321649609124,
          8.156122168476356,
          8.120922687343588,
          8.08572320621082,
          8.050523725078053,
          8.015324243945285,
          7.980124762812516,
          7.944925281679748,
          7.90972580054698,
          7.874526319414212,
          7.839326838281444,
          7.804127357148676,
          7.768927876015907,
          7.733728394883139,
          7.698528913750371,
          7.663329432617602,
          7.628129951484834,
          7.592930470352067,
          7.557730989219297,
          7.522531508086529,
          7.487332026953762,
          7.452132545820994,
          7.4169330646882266,
          7.381733583555459,
          7.346534102422689,
          7.311334621289921,
          7.2761351401571535,
          7.240935659024385,
          7.205736177891617,
          7.170536696758847,
          7.1353372156260795,
          7.100137734493312,
          7.064938253360544,
          7.029738772227778,
          6.994539291095007,
          6.959339809962239,
          6.924140328829472,
          6.888940847696704,
          6.853741366563934,
          6.818541885431166,
          6.7833424042984,
          6.74814292316563,
          6.712943442032862
         ],
         "yaxis": "y",
         "type": "scatter"
        },
        {
         "hovertemplate": "Speed=1800<br>Flow [l/min]=%{x}<br>Head theoretical=%{y}<extra></extra>",
         "legendgroup": "1800",
         "line": {
          "color": "#EF553B",
          "dash": "solid"
         },
         "marker": {
          "symbol": "circle"
         },
         "mode": "lines",
         "name": "1800",
         "orientation": "v",
         "showlegend": true,
         "x": [
          6.0,
          12.0,
          18.000000000000004,
          24.0,
          30.0,
          36.00000000000001,
          42.00000000000001,
          48.0,
          54.00000000000001,
          60.0,
          66.0,
          72.00000000000001,
          78.00000000000001,
          84.00000000000001,
          90.0,
          96.0,
          102.00000000000001,
          108.00000000000001,
          114.00000000000001,
          120.0,
          126.0,
          132.0,
          138.0,
          144.0,
          150.0,
          156.0,
          162.0,
          168.0,
          174.0,
          180.0,
          186.0,
          192.0,
          198.0,
          204.0,
          210.0,
          216.0,
          222.0,
          228.0,
          234.0,
          240.0,
          246.00000000000003,
          252.0,
          258.00000000000006,
          264.0,
          270.00000000000006,
          276.00000000000006,
          282.0,
          288.00000000000006,
          294.0,
          300.0,
          306.00000000000006,
          312.00000000000006,
          318.00000000000006,
          324.0,
          330.00000000000006,
          336.00000000000006,
          342.0,
          348.00000000000006,
          354.0,
          360.0,
          366.00000000000006,
          372.00000000000006,
          378.00000000000006,
          384.0,
          390.00000000000006,
          396.00000000000006,
          402.0,
          408.00000000000006,
          414.0,
          420.00000000000006,
          426.00000000000006,
          432.00000000000006,
          438.00000000000006,
          444.0,
          450.00000000000006,
          456.00000000000006,
          462.0,
          468.00000000000006,
          474.0,
          480.0,
          486.0,
          491.99999999999994,
          498.00000000000006,
          504.0,
          510.0,
          516.0,
          522.0,
          528.0,
          534.0,
          540.0,
          546.0,
          552.0,
          557.9999999999999,
          564.0,
          570.0,
          576.0,
          582.0000000000001,
          587.9999999999999,
          593.9999999999999,
          600.0,
          606.0,
          612.0000000000001,
          618.0,
          624.0,
          630.0,
          636.0,
          642.0,
          648.0,
          654.0,
          660.0,
          666.0,
          672.0,
          677.9999999999999,
          684.0,
          690.0,
          696.0,
          702.0000000000001,
          707.9999999999999,
          713.9999999999999,
          720.0,
          726.0,
          732.0000000000001,
          738.0,
          744.0,
          750.0,
          756.0,
          762.0,
          768.0,
          774.0,
          780.0,
          786.0000000000001,
          792.0,
          797.9999999999999,
          804.0,
          810.0,
          816.0,
          822.0000000000001,
          827.9999999999999,
          834.0,
          840.0,
          846.0,
          852.0000000000001,
          858.0,
          864.0,
          870.0,
          876.0,
          882.0,
          888.0,
          894.0,
          900.0,
          906.0000000000001,
          912.0,
          917.9999999999999,
          924.0,
          930.0,
          936.0,
          942.0000000000002,
          948.0,
          954.0,
          960.0,
          966.0000000000001,
          972.0,
          977.9999999999998,
          984.0000000000001,
          990.0,
          996.0000000000001,
          1002.0,
          1008.0,
          1014.0000000000001,
          1020.0,
          1026.0,
          1032.0,
          1038.0,
          1044.0,
          1050.0,
          1056.0,
          1062.0,
          1068.0,
          1074.0,
          1080.0,
          1086.0,
          1092.0,
          1098.0,
          1104.0,
          1110.0,
          1116.0,
          1122.0000000000002,
          1128.0,
          1134.0,
          1140.0,
          1145.9999999999998,
          1152.0000000000002,
          1158.0,
          1164.0000000000002,
          1170.0,
          1175.9999999999998,
          1182.0,
          1188.0,
          1194.0000000000002
         ],
         "xaxis": "x",
         "y": [
          30.811891200071727,
          30.759091978372577,
          30.706292756673424,
          30.653493534974267,
          30.60069431327512,
          30.54789509157597,
          30.495095869876813,
          30.442296648177663,
          30.38949742647851,
          30.33669820477936,
          30.283898983080203,
          30.231099761381056,
          30.1783005396819,
          30.12550131798275,
          30.072702096283596,
          30.01990287458444,
          29.96710365288529,
          29.914304431186142,
          29.861505209486985,
          29.80870598778783,
          29.755906766088682,
          29.703107544389532,
          29.650308322690375,
          29.597509100991225,
          29.54470987929208,
          29.49191065759292,
          29.43911143589377,
          29.386312214194618,
          29.333512992495468,
          29.28071377079631,
          29.22791454909716,
          29.175115327398007,
          29.122316105698857,
          29.069516883999704,
          29.016717662300554,
          28.963918440601397,
          28.911119218902243,
          28.858319997203093,
          28.805520775503943,
          28.752721553804786,
          28.69992233210564,
          28.64712311040649,
          28.59432388870734,
          28.54152466700818,
          28.48872544530903,
          28.43592622360988,
          28.383127001910726,
          28.33032778021157,
          28.27752855851242,
          28.22472933681327,
          28.171930115114115,
          28.119130893414958,
          28.06633167171581,
          28.013532450016655,
          27.960733228317505,
          27.907934006618355,
          27.8551347849192,
          27.80233556322005,
          27.7495363415209,
          27.69673711982174,
          27.64393789812259,
          27.59113867642344,
          27.53833945472429,
          27.48554023302514,
          27.43274101132598,
          27.37994178962683,
          27.32714256792768,
          27.274343346228527,
          27.22154412452937,
          27.168744902830223,
          27.115945681131073,
          27.063146459431916,
          27.010347237732763,
          26.957548016033613,
          26.904748794334463,
          26.851949572635313,
          26.799150350936163,
          26.746351129237002,
          26.693551907537852,
          26.640752685838702,
          26.587953464139556,
          26.5351542424404,
          26.482355020741245,
          26.429555799042095,
          26.376756577342938,
          26.323957355643785,
          26.271158133944635,
          26.218358912245485,
          26.165559690546328,
          26.11276046884718,
          26.059961247148024,
          26.007162025448874,
          25.954362803749724,
          25.90156358205057,
          25.848764360351417,
          25.795965138652267,
          25.743165916953114,
          25.69036669525396,
          25.637567473554807,
          25.584768251855657,
          25.531969030156507,
          25.479169808457353,
          25.426370586758196,
          25.373571365059046,
          25.320772143359896,
          25.267972921660743,
          25.215173699961593,
          25.162374478262436,
          25.109575256563286,
          25.056776034864136,
          25.003976813164982,
          24.95117759146583,
          24.89837836976668,
          24.84557914806752,
          24.79277992636837,
          24.73998070466922,
          24.687181482970068,
          24.634382261270915,
          24.581583039571765,
          24.52878381787261,
          24.475984596173458,
          24.423185374474308,
          24.370386152775158,
          24.317586931075997,
          24.26478770937685,
          24.2119884876777,
          24.159189265978544,
          24.10639004427939,
          24.053590822580244,
          24.000791600881094,
          23.947992379181933,
          23.895193157482783,
          23.842393935783633,
          23.78959471408448,
          23.73679549238533,
          23.68399627068618,
          23.631197048987023,
          23.57839782728787,
          23.52559860558872,
          23.47279938388957,
          23.420000162190412,
          23.367200940491262,
          23.31440171879211,
          23.261602497092955,
          23.208803275393805,
          23.156004053694655,
          23.103204831995505,
          23.050405610296348,
          22.997606388597195,
          22.944807166898045,
          22.89200794519889,
          22.83920872349974,
          22.786409501800584,
          22.733610280101434,
          22.680811058402284,
          22.62801183670313,
          22.575212615003977,
          22.522413393304827,
          22.469614171605674,
          22.41681494990652,
          22.36401572820737,
          22.311216506508217,
          22.258417284809067,
          22.205618063109913,
          22.15281884141076,
          22.100019619711606,
          22.047220398012456,
          21.994421176313306,
          21.941621954614146,
          21.888822732914996,
          21.83602351121585,
          21.783224289516696,
          21.730425067817542,
          21.67762584611839,
          21.624826624419242,
          21.57202740272008,
          21.51922818102093,
          21.46642895932178,
          21.413629737622628,
          21.360830515923478,
          21.30803129422432,
          21.25523207252517,
          21.202432850826018,
          21.149633629126868,
          21.09683440742772,
          21.044035185728564,
          20.99123596402941,
          20.93843674233026,
          20.885637520631107,
          20.832838298931954,
          20.780039077232804,
          20.727239855533654,
          20.674440633834497,
          20.621641412135347,
          20.568842190436193,
          20.516042968737043,
          20.46324374703789,
          20.410444525338733,
          20.357645303639583
         ],
         "yaxis": "y",
         "type": "scatter"
        }
       ],
       "layout": {
        "template": {
         "data": {
          "histogram2dcontour": [
           {
            "type": "histogram2dcontour",
            "colorbar": {
             "outlinewidth": 0,
             "ticks": ""
            },
            "colorscale": [
             [
              0.0,
              "#0d0887"
             ],
             [
              0.1111111111111111,
              "#46039f"
             ],
             [
              0.2222222222222222,
              "#7201a8"
             ],
             [
              0.3333333333333333,
              "#9c179e"
             ],
             [
              0.4444444444444444,
              "#bd3786"
             ],
             [
              0.5555555555555556,
              "#d8576b"
             ],
             [
              0.6666666666666666,
              "#ed7953"
             ],
             [
              0.7777777777777778,
              "#fb9f3a"
             ],
             [
              0.8888888888888888,
              "#fdca26"
             ],
             [
              1.0,
              "#f0f921"
             ]
            ]
           }
          ],
          "choropleth": [
           {
            "type": "choropleth",
            "colorbar": {
             "outlinewidth": 0,
             "ticks": ""
            }
           }
          ],
          "histogram2d": [
           {
            "type": "histogram2d",
            "colorbar": {
             "outlinewidth": 0,
             "ticks": ""
            },
            "colorscale": [
             [
              0.0,
              "#0d0887"
             ],
             [
              0.1111111111111111,
              "#46039f"
             ],
             [
              0.2222222222222222,
              "#7201a8"
             ],
             [
              0.3333333333333333,
              "#9c179e"
             ],
             [
              0.4444444444444444,
              "#bd3786"
             ],
             [
              0.5555555555555556,
              "#d8576b"
             ],
             [
              0.6666666666666666,
              "#ed7953"
             ],
             [
              0.7777777777777778,
              "#fb9f3a"
             ],
             [
              0.8888888888888888,
              "#fdca26"
             ],
             [
              1.0,
              "#f0f921"
             ]
            ]
           }
          ],
          "heatmap": [
           {
            "type": "heatmap",
            "colorbar": {
             "outlinewidth": 0,
             "ticks": ""
            },
            "colorscale": [
             [
              0.0,
              "#0d0887"
             ],
             [
              0.1111111111111111,
              "#46039f"
             ],
             [
              0.2222222222222222,
              "#7201a8"
             ],
             [
              0.3333333333333333,
              "#9c179e"
             ],
             [
              0.4444444444444444,
              "#bd3786"
             ],
             [
              0.5555555555555556,
              "#d8576b"
             ],
             [
              0.6666666666666666,
              "#ed7953"
             ],
             [
              0.7777777777777778,
              "#fb9f3a"
             ],
             [
              0.8888888888888888,
              "#fdca26"
             ],
             [
              1.0,
              "#f0f921"
             ]
            ]
           }
          ],
          "heatmapgl": [
           {
            "type": "heatmapgl",
            "colorbar": {
             "outlinewidth": 0,
             "ticks": ""
            },
            "colorscale": [
             [
              0.0,
              "#0d0887"
             ],
             [
              0.1111111111111111,
              "#46039f"
             ],
             [
              0.2222222222222222,
              "#7201a8"
             ],
             [
              0.3333333333333333,
              "#9c179e"
             ],
             [
              0.4444444444444444,
              "#bd3786"
             ],
             [
              0.5555555555555556,
              "#d8576b"
             ],
             [
              0.6666666666666666,
              "#ed7953"
             ],
             [
              0.7777777777777778,
              "#fb9f3a"
             ],
             [
              0.8888888888888888,
              "#fdca26"
             ],
             [
              1.0,
              "#f0f921"
             ]
            ]
           }
          ],
          "contourcarpet": [
           {
            "type": "contourcarpet",
            "colorbar": {
             "outlinewidth": 0,
             "ticks": ""
            }
           }
          ],
          "contour": [
           {
            "type": "contour",
            "colorbar": {
             "outlinewidth": 0,
             "ticks": ""
            },
            "colorscale": [
             [
              0.0,
              "#0d0887"
             ],
             [
              0.1111111111111111,
              "#46039f"
             ],
             [
              0.2222222222222222,
              "#7201a8"
             ],
             [
              0.3333333333333333,
              "#9c179e"
             ],
             [
              0.4444444444444444,
              "#bd3786"
             ],
             [
              0.5555555555555556,
              "#d8576b"
             ],
             [
              0.6666666666666666,
              "#ed7953"
             ],
             [
              0.7777777777777778,
              "#fb9f3a"
             ],
             [
              0.8888888888888888,
              "#fdca26"
             ],
             [
              1.0,
              "#f0f921"
             ]
            ]
           }
          ],
          "surface": [
           {
            "type": "surface",
            "colorbar": {
             "outlinewidth": 0,
             "ticks": ""
            },
            "colorscale": [
             [
              0.0,
              "#0d0887"
             ],
             [
              0.1111111111111111,
              "#46039f"
             ],
             [
              0.2222222222222222,
              "#7201a8"
             ],
             [
              0.3333333333333333,
              "#9c179e"
             ],
             [
              0.4444444444444444,
              "#bd3786"
             ],
             [
              0.5555555555555556,
              "#d8576b"
             ],
             [
              0.6666666666666666,
              "#ed7953"
             ],
             [
              0.7777777777777778,
              "#fb9f3a"
             ],
             [
              0.8888888888888888,
              "#fdca26"
             ],
             [
              1.0,
              "#f0f921"
             ]
            ]
           }
          ],
          "mesh3d": [
           {
            "type": "mesh3d",
            "colorbar": {
             "outlinewidth": 0,
             "ticks": ""
            }
           }
          ],
          "scatter": [
           {
            "marker": {
             "line": {
              "color": "#283442"
             }
            },
            "type": "scatter"
           }
          ],
          "parcoords": [
           {
            "type": "parcoords",
            "line": {
             "colorbar": {
              "outlinewidth": 0,
              "ticks": ""
             }
            }
           }
          ],
          "scatterpolargl": [
           {
            "type": "scatterpolargl",
            "marker": {
             "colorbar": {
              "outlinewidth": 0,
              "ticks": ""
             }
            }
           }
          ],
          "bar": [
           {
            "error_x": {
             "color": "#f2f5fa"
            },
            "error_y": {
             "color": "#f2f5fa"
            },
            "marker": {
             "line": {
              "color": "rgb(17,17,17)",
              "width": 0.5
             },
             "pattern": {
              "fillmode": "overlay",
              "size": 10,
              "solidity": 0.2
             }
            },
            "type": "bar"
           }
          ],
          "scattergeo": [
           {
            "type": "scattergeo",
            "marker": {
             "colorbar": {
              "outlinewidth": 0,
              "ticks": ""
             }
            }
           }
          ],
          "scatterpolar": [
           {
            "type": "scatterpolar",
            "marker": {
             "colorbar": {
              "outlinewidth": 0,
              "ticks": ""
             }
            }
           }
          ],
          "histogram": [
           {
            "marker": {
             "pattern": {
              "fillmode": "overlay",
              "size": 10,
              "solidity": 0.2
             }
            },
            "type": "histogram"
           }
          ],
          "scattergl": [
           {
            "marker": {
             "line": {
              "color": "#283442"
             }
            },
            "type": "scattergl"
           }
          ],
          "scatter3d": [
           {
            "type": "scatter3d",
            "line": {
             "colorbar": {
              "outlinewidth": 0,
              "ticks": ""
             }
            },
            "marker": {
             "colorbar": {
              "outlinewidth": 0,
              "ticks": ""
             }
            }
           }
          ],
          "scattermapbox": [
           {
            "type": "scattermapbox",
            "marker": {
             "colorbar": {
              "outlinewidth": 0,
              "ticks": ""
             }
            }
           }
          ],
          "scatterternary": [
           {
            "type": "scatterternary",
            "marker": {
             "colorbar": {
              "outlinewidth": 0,
              "ticks": ""
             }
            }
           }
          ],
          "scattercarpet": [
           {
            "type": "scattercarpet",
            "marker": {
             "colorbar": {
              "outlinewidth": 0,
              "ticks": ""
             }
            }
           }
          ],
          "carpet": [
           {
            "aaxis": {
             "endlinecolor": "#A2B1C6",
             "gridcolor": "#506784",
             "linecolor": "#506784",
             "minorgridcolor": "#506784",
             "startlinecolor": "#A2B1C6"
            },
            "baxis": {
             "endlinecolor": "#A2B1C6",
             "gridcolor": "#506784",
             "linecolor": "#506784",
             "minorgridcolor": "#506784",
             "startlinecolor": "#A2B1C6"
            },
            "type": "carpet"
           }
          ],
          "table": [
           {
            "cells": {
             "fill": {
              "color": "#506784"
             },
             "line": {
              "color": "rgb(17,17,17)"
             }
            },
            "header": {
             "fill": {
              "color": "#2a3f5f"
             },
             "line": {
              "color": "rgb(17,17,17)"
             }
            },
            "type": "table"
           }
          ],
          "barpolar": [
           {
            "marker": {
             "line": {
              "color": "rgb(17,17,17)",
              "width": 0.5
             },
             "pattern": {
              "fillmode": "overlay",
              "size": 10,
              "solidity": 0.2
             }
            },
            "type": "barpolar"
           }
          ],
          "pie": [
           {
            "automargin": true,
            "type": "pie"
           }
          ]
         },
         "layout": {
          "autotypenumbers": "strict",
          "colorway": [
           "#636efa",
           "#EF553B",
           "#00cc96",
           "#ab63fa",
           "#FFA15A",
           "#19d3f3",
           "#FF6692",
           "#B6E880",
           "#FF97FF",
           "#FECB52"
          ],
          "font": {
           "color": "#f2f5fa"
          },
          "hovermode": "closest",
          "hoverlabel": {
           "align": "left"
          },
          "paper_bgcolor": "rgb(17,17,17)",
          "plot_bgcolor": "rgb(17,17,17)",
          "polar": {
           "bgcolor": "rgb(17,17,17)",
           "angularaxis": {
            "gridcolor": "#506784",
            "linecolor": "#506784",
            "ticks": ""
           },
           "radialaxis": {
            "gridcolor": "#506784",
            "linecolor": "#506784",
            "ticks": ""
           }
          },
          "ternary": {
           "bgcolor": "rgb(17,17,17)",
           "aaxis": {
            "gridcolor": "#506784",
            "linecolor": "#506784",
            "ticks": ""
           },
           "baxis": {
            "gridcolor": "#506784",
            "linecolor": "#506784",
            "ticks": ""
           },
           "caxis": {
            "gridcolor": "#506784",
            "linecolor": "#506784",
            "ticks": ""
           }
          },
          "coloraxis": {
           "colorbar": {
            "outlinewidth": 0,
            "ticks": ""
           }
          },
          "colorscale": {
           "sequential": [
            [
             0.0,
             "#0d0887"
            ],
            [
             0.1111111111111111,
             "#46039f"
            ],
            [
             0.2222222222222222,
             "#7201a8"
            ],
            [
             0.3333333333333333,
             "#9c179e"
            ],
            [
             0.4444444444444444,
             "#bd3786"
            ],
            [
             0.5555555555555556,
             "#d8576b"
            ],
            [
             0.6666666666666666,
             "#ed7953"
            ],
            [
             0.7777777777777778,
             "#fb9f3a"
            ],
            [
             0.8888888888888888,
             "#fdca26"
            ],
            [
             1.0,
             "#f0f921"
            ]
           ],
           "sequentialminus": [
            [
             0.0,
             "#0d0887"
            ],
            [
             0.1111111111111111,
             "#46039f"
            ],
            [
             0.2222222222222222,
             "#7201a8"
            ],
            [
             0.3333333333333333,
             "#9c179e"
            ],
            [
             0.4444444444444444,
             "#bd3786"
            ],
            [
             0.5555555555555556,
             "#d8576b"
            ],
            [
             0.6666666666666666,
             "#ed7953"
            ],
            [
             0.7777777777777778,
             "#fb9f3a"
            ],
            [
             0.8888888888888888,
             "#fdca26"
            ],
            [
             1.0,
             "#f0f921"
            ]
           ],
           "diverging": [
            [
             0,
             "#8e0152"
            ],
            [
             0.1,
             "#c51b7d"
            ],
            [
             0.2,
             "#de77ae"
            ],
            [
             0.3,
             "#f1b6da"
            ],
            [
             0.4,
             "#fde0ef"
            ],
            [
             0.5,
             "#f7f7f7"
            ],
            [
             0.6,
             "#e6f5d0"
            ],
            [
             0.7,
             "#b8e186"
            ],
            [
             0.8,
             "#7fbc41"
            ],
            [
             0.9,
             "#4d9221"
            ],
            [
             1,
             "#276419"
            ]
           ]
          },
          "xaxis": {
           "gridcolor": "#283442",
           "linecolor": "#506784",
           "ticks": "",
           "title": {
            "standoff": 15
           },
           "zerolinecolor": "#283442",
           "automargin": true,
           "zerolinewidth": 2
          },
          "yaxis": {
           "gridcolor": "#283442",
           "linecolor": "#506784",
           "ticks": "",
           "title": {
            "standoff": 15
           },
           "zerolinecolor": "#283442",
           "automargin": true,
           "zerolinewidth": 2
          },
          "scene": {
           "xaxis": {
            "backgroundcolor": "rgb(17,17,17)",
            "gridcolor": "#506784",
            "linecolor": "#506784",
            "showbackground": true,
            "ticks": "",
            "zerolinecolor": "#C8D4E3",
            "gridwidth": 2
           },
           "yaxis": {
            "backgroundcolor": "rgb(17,17,17)",
            "gridcolor": "#506784",
            "linecolor": "#506784",
            "showbackground": true,
            "ticks": "",
            "zerolinecolor": "#C8D4E3",
            "gridwidth": 2
           },
           "zaxis": {
            "backgroundcolor": "rgb(17,17,17)",
            "gridcolor": "#506784",
            "linecolor": "#506784",
            "showbackground": true,
            "ticks": "",
            "zerolinecolor": "#C8D4E3",
            "gridwidth": 2
           }
          },
          "shapedefaults": {
           "line": {
            "color": "#f2f5fa"
           }
          },
          "annotationdefaults": {
           "arrowcolor": "#f2f5fa",
           "arrowhead": 0,
           "arrowwidth": 1
          },
          "geo": {
           "bgcolor": "rgb(17,17,17)",
           "landcolor": "rgb(17,17,17)",
           "subunitcolor": "#506784",
           "showland": true,
           "showlakes": true,
           "lakecolor": "rgb(17,17,17)"
          },
          "title": {
           "x": 0.05
          },
          "updatemenudefaults": {
           "bgcolor": "#506784",
           "borderwidth": 0
          },
          "sliderdefaults": {
           "bgcolor": "#C8D4E3",
           "borderwidth": 1,
           "bordercolor": "rgb(17,17,17)",
           "tickwidth": 0
          },
          "mapbox": {
           "style": "dark"
          }
         }
        },
        "xaxis": {
         "anchor": "y",
         "domain": [
          0.0,
          1.0
         ],
         "title": {
          "text": "Flow [l/min]"
         }
        },
        "yaxis": {
         "anchor": "x",
         "domain": [
          0.0,
          1.0
         ],
         "title": {
          "text": "Head theoretical"
         }
        },
        "legend": {
         "title": {
          "text": "Speed"
         },
         "tracegroupgap": 0
        },
        "title": {
         "text": "Pump theoretical head"
        }
       },
       "config": {
        "plotlyServerURL": "https://plot.ly"
       }
      },
      "text/html": "<div>                            <div id=\"10508d60-abd7-434a-ab40-20b023923133\" class=\"plotly-graph-div\" style=\"height:525px; width:100%;\"></div>            <script type=\"text/javascript\">                require([\"plotly\"], function(Plotly) {                    window.PLOTLYENV=window.PLOTLYENV || {};                                    if (document.getElementById(\"10508d60-abd7-434a-ab40-20b023923133\")) {                    Plotly.newPlot(                        \"10508d60-abd7-434a-ab40-20b023923133\",                        [{\"hovertemplate\":\"Speed=1200<br>Flow [l/min]=%{x}<br>Head theoretical=%{y}<extra></extra>\",\"legendgroup\":\"1200\",\"line\":{\"color\":\"#636efa\",\"dash\":\"solid\"},\"marker\":{\"symbol\":\"circle\"},\"mode\":\"lines\",\"name\":\"1200\",\"orientation\":\"v\",\"showlegend\":true,\"x\":[6.0,12.0,18.000000000000004,24.0,30.0,36.00000000000001,42.00000000000001,48.0,54.00000000000001,60.0,66.0,72.00000000000001,78.00000000000001,84.00000000000001,90.0,96.0,102.00000000000001,108.00000000000001,114.00000000000001,120.0,126.0,132.0,138.0,144.0,150.0,156.0,162.0,168.0,174.0,180.0,186.0,192.0,198.0,204.0,210.0,216.0,222.0,228.0,234.0,240.0,246.00000000000003,252.0,258.00000000000006,264.0,270.00000000000006,276.00000000000006,282.0,288.00000000000006,294.0,300.0,306.00000000000006,312.00000000000006,318.00000000000006,324.0,330.00000000000006,336.00000000000006,342.0,348.00000000000006,354.0,360.0,366.00000000000006,372.00000000000006,378.00000000000006,384.0,390.00000000000006,396.00000000000006,402.0,408.00000000000006,414.0,420.00000000000006,426.00000000000006,432.00000000000006,438.00000000000006,444.0,450.00000000000006,456.00000000000006,462.0,468.00000000000006,474.0,480.0,486.0,491.99999999999994,498.00000000000006,504.0,510.0,516.0,522.0,528.0,534.0,540.0,546.0,552.0,557.9999999999999,564.0,570.0,576.0,582.0000000000001,587.9999999999999,593.9999999999999,600.0,606.0,612.0000000000001,618.0,624.0,630.0,636.0,642.0,648.0,654.0,660.0,666.0,672.0,677.9999999999999,684.0,690.0,696.0,702.0000000000001,707.9999999999999,713.9999999999999,720.0,726.0,732.0000000000001,738.0,744.0,750.0,756.0,762.0,768.0,774.0,780.0,786.0000000000001,792.0,797.9999999999999,804.0,810.0,816.0,822.0000000000001,827.9999999999999,834.0,840.0,846.0,852.0000000000001,858.0,864.0,870.0,876.0,882.0,888.0,894.0,900.0,906.0000000000001,912.0,917.9999999999999,924.0,930.0,936.0,942.0000000000002,948.0,954.0,960.0,966.0000000000001,972.0,977.9999999999998,984.0000000000001,990.0,996.0000000000001,1002.0,1008.0,1014.0000000000001,1020.0,1026.0,1032.0,1038.0,1044.0,1050.0,1056.0,1062.0,1068.0,1074.0,1080.0,1086.0,1092.0,1098.0,1104.0,1110.0,1116.0,1122.0000000000002,1128.0,1134.0,1140.0,1145.9999999999998,1152.0000000000002,1158.0,1164.0000000000002,1170.0,1175.9999999999998,1182.0,1188.0,1194.0000000000002],\"xaxis\":\"x\",\"y\":[13.682440706320959,13.64724122518819,13.612041744055423,13.576842262922654,13.541642781789887,13.50644330065712,13.471243819524352,13.43604433839158,13.400844857258814,13.365645376126045,13.330445894993275,13.295246413860509,13.260046932727743,13.224847451594973,13.189647970462204,13.154448489329436,13.119249008196668,13.0840495270639,13.048850045931133,13.013650564798363,12.978451083665597,12.943251602532825,12.90805212140006,12.87285264026729,12.837653159134522,12.802453678001756,12.767254196868986,12.732054715736218,12.696855234603449,12.661655753470683,12.626456272337915,12.591256791205147,12.556057310072378,12.520857828939612,12.485658347806842,12.450458866674074,12.415259385541304,12.380059904408538,12.344860423275767,12.309660942143001,12.274461461010231,12.239261979877464,12.204062498744696,12.168863017611928,12.13366353647916,12.098464055346392,12.063264574213623,12.028065093080857,11.992865611948087,11.95766613081532,11.92246664968255,11.887267168549783,11.852067687417012,11.816868206284246,11.78166872515148,11.746469244018709,11.711269762885943,11.676070281753175,11.640870800620407,11.605671319487636,11.570471838354868,11.535272357222102,11.500072876089332,11.464873394956564,11.429673913823796,11.394474432691029,11.359274951558259,11.324075470425491,11.288875989292725,11.253676508159954,11.218477027027188,11.18327754589442,11.148078064761654,11.11287858362888,11.077679102496115,11.042479621363347,11.007280140230577,10.972080659097807,10.936881177965041,10.901681696832274,10.866482215699504,10.831282734566738,10.79608325343397,10.760883772301202,10.725684291168433,10.690484810035665,10.655285328902897,10.62008584777013,10.58488636663736,10.549686885504594,10.514487404371822,10.479287923239056,10.44408844210629,10.408888960973519,10.37368947984075,10.338489998707983,10.303290517575217,10.268091036442447,10.232891555309678,10.197692074176912,10.162492593044144,10.127293111911374,10.092093630778605,10.056894149645837,10.02169466851307,9.986495187380301,9.951295706247533,9.916096225114766,9.880896743981998,9.84569726284923,9.810497781716462,9.775298300583692,9.740098819450926,9.704899338318157,9.669699857185389,9.63450037605262,9.599300894919853,9.564101413787082,9.528901932654316,9.493702451521546,9.458502970388778,9.42330348925601,9.388104008123243,9.352904526990475,9.317705045857707,9.28250556472494,9.247306083592171,9.212106602459402,9.176907121326634,9.141707640193866,9.106508159061098,9.071308677928327,9.036109196795561,9.000909715662793,8.965710234530025,8.930510753397257,8.895311272264488,8.860111791131722,8.824912309998952,8.789712828866184,8.754513347733415,8.719313866600649,8.684114385467879,8.64891490433511,8.613715423202343,8.578515942069574,8.543316460936806,8.508116979804038,8.472917498671272,8.437718017538504,8.402518536405733,8.367319055272967,8.332119574140199,8.29692009300743,8.261720611874662,8.226521130741894,8.191321649609124,8.156122168476356,8.120922687343588,8.08572320621082,8.050523725078053,8.015324243945285,7.980124762812516,7.944925281679748,7.90972580054698,7.874526319414212,7.839326838281444,7.804127357148676,7.768927876015907,7.733728394883139,7.698528913750371,7.663329432617602,7.628129951484834,7.592930470352067,7.557730989219297,7.522531508086529,7.487332026953762,7.452132545820994,7.4169330646882266,7.381733583555459,7.346534102422689,7.311334621289921,7.2761351401571535,7.240935659024385,7.205736177891617,7.170536696758847,7.1353372156260795,7.100137734493312,7.064938253360544,7.029738772227778,6.994539291095007,6.959339809962239,6.924140328829472,6.888940847696704,6.853741366563934,6.818541885431166,6.7833424042984,6.74814292316563,6.712943442032862],\"yaxis\":\"y\",\"type\":\"scatter\"},{\"hovertemplate\":\"Speed=1800<br>Flow [l/min]=%{x}<br>Head theoretical=%{y}<extra></extra>\",\"legendgroup\":\"1800\",\"line\":{\"color\":\"#EF553B\",\"dash\":\"solid\"},\"marker\":{\"symbol\":\"circle\"},\"mode\":\"lines\",\"name\":\"1800\",\"orientation\":\"v\",\"showlegend\":true,\"x\":[6.0,12.0,18.000000000000004,24.0,30.0,36.00000000000001,42.00000000000001,48.0,54.00000000000001,60.0,66.0,72.00000000000001,78.00000000000001,84.00000000000001,90.0,96.0,102.00000000000001,108.00000000000001,114.00000000000001,120.0,126.0,132.0,138.0,144.0,150.0,156.0,162.0,168.0,174.0,180.0,186.0,192.0,198.0,204.0,210.0,216.0,222.0,228.0,234.0,240.0,246.00000000000003,252.0,258.00000000000006,264.0,270.00000000000006,276.00000000000006,282.0,288.00000000000006,294.0,300.0,306.00000000000006,312.00000000000006,318.00000000000006,324.0,330.00000000000006,336.00000000000006,342.0,348.00000000000006,354.0,360.0,366.00000000000006,372.00000000000006,378.00000000000006,384.0,390.00000000000006,396.00000000000006,402.0,408.00000000000006,414.0,420.00000000000006,426.00000000000006,432.00000000000006,438.00000000000006,444.0,450.00000000000006,456.00000000000006,462.0,468.00000000000006,474.0,480.0,486.0,491.99999999999994,498.00000000000006,504.0,510.0,516.0,522.0,528.0,534.0,540.0,546.0,552.0,557.9999999999999,564.0,570.0,576.0,582.0000000000001,587.9999999999999,593.9999999999999,600.0,606.0,612.0000000000001,618.0,624.0,630.0,636.0,642.0,648.0,654.0,660.0,666.0,672.0,677.9999999999999,684.0,690.0,696.0,702.0000000000001,707.9999999999999,713.9999999999999,720.0,726.0,732.0000000000001,738.0,744.0,750.0,756.0,762.0,768.0,774.0,780.0,786.0000000000001,792.0,797.9999999999999,804.0,810.0,816.0,822.0000000000001,827.9999999999999,834.0,840.0,846.0,852.0000000000001,858.0,864.0,870.0,876.0,882.0,888.0,894.0,900.0,906.0000000000001,912.0,917.9999999999999,924.0,930.0,936.0,942.0000000000002,948.0,954.0,960.0,966.0000000000001,972.0,977.9999999999998,984.0000000000001,990.0,996.0000000000001,1002.0,1008.0,1014.0000000000001,1020.0,1026.0,1032.0,1038.0,1044.0,1050.0,1056.0,1062.0,1068.0,1074.0,1080.0,1086.0,1092.0,1098.0,1104.0,1110.0,1116.0,1122.0000000000002,1128.0,1134.0,1140.0,1145.9999999999998,1152.0000000000002,1158.0,1164.0000000000002,1170.0,1175.9999999999998,1182.0,1188.0,1194.0000000000002],\"xaxis\":\"x\",\"y\":[30.811891200071727,30.759091978372577,30.706292756673424,30.653493534974267,30.60069431327512,30.54789509157597,30.495095869876813,30.442296648177663,30.38949742647851,30.33669820477936,30.283898983080203,30.231099761381056,30.1783005396819,30.12550131798275,30.072702096283596,30.01990287458444,29.96710365288529,29.914304431186142,29.861505209486985,29.80870598778783,29.755906766088682,29.703107544389532,29.650308322690375,29.597509100991225,29.54470987929208,29.49191065759292,29.43911143589377,29.386312214194618,29.333512992495468,29.28071377079631,29.22791454909716,29.175115327398007,29.122316105698857,29.069516883999704,29.016717662300554,28.963918440601397,28.911119218902243,28.858319997203093,28.805520775503943,28.752721553804786,28.69992233210564,28.64712311040649,28.59432388870734,28.54152466700818,28.48872544530903,28.43592622360988,28.383127001910726,28.33032778021157,28.27752855851242,28.22472933681327,28.171930115114115,28.119130893414958,28.06633167171581,28.013532450016655,27.960733228317505,27.907934006618355,27.8551347849192,27.80233556322005,27.7495363415209,27.69673711982174,27.64393789812259,27.59113867642344,27.53833945472429,27.48554023302514,27.43274101132598,27.37994178962683,27.32714256792768,27.274343346228527,27.22154412452937,27.168744902830223,27.115945681131073,27.063146459431916,27.010347237732763,26.957548016033613,26.904748794334463,26.851949572635313,26.799150350936163,26.746351129237002,26.693551907537852,26.640752685838702,26.587953464139556,26.5351542424404,26.482355020741245,26.429555799042095,26.376756577342938,26.323957355643785,26.271158133944635,26.218358912245485,26.165559690546328,26.11276046884718,26.059961247148024,26.007162025448874,25.954362803749724,25.90156358205057,25.848764360351417,25.795965138652267,25.743165916953114,25.69036669525396,25.637567473554807,25.584768251855657,25.531969030156507,25.479169808457353,25.426370586758196,25.373571365059046,25.320772143359896,25.267972921660743,25.215173699961593,25.162374478262436,25.109575256563286,25.056776034864136,25.003976813164982,24.95117759146583,24.89837836976668,24.84557914806752,24.79277992636837,24.73998070466922,24.687181482970068,24.634382261270915,24.581583039571765,24.52878381787261,24.475984596173458,24.423185374474308,24.370386152775158,24.317586931075997,24.26478770937685,24.2119884876777,24.159189265978544,24.10639004427939,24.053590822580244,24.000791600881094,23.947992379181933,23.895193157482783,23.842393935783633,23.78959471408448,23.73679549238533,23.68399627068618,23.631197048987023,23.57839782728787,23.52559860558872,23.47279938388957,23.420000162190412,23.367200940491262,23.31440171879211,23.261602497092955,23.208803275393805,23.156004053694655,23.103204831995505,23.050405610296348,22.997606388597195,22.944807166898045,22.89200794519889,22.83920872349974,22.786409501800584,22.733610280101434,22.680811058402284,22.62801183670313,22.575212615003977,22.522413393304827,22.469614171605674,22.41681494990652,22.36401572820737,22.311216506508217,22.258417284809067,22.205618063109913,22.15281884141076,22.100019619711606,22.047220398012456,21.994421176313306,21.941621954614146,21.888822732914996,21.83602351121585,21.783224289516696,21.730425067817542,21.67762584611839,21.624826624419242,21.57202740272008,21.51922818102093,21.46642895932178,21.413629737622628,21.360830515923478,21.30803129422432,21.25523207252517,21.202432850826018,21.149633629126868,21.09683440742772,21.044035185728564,20.99123596402941,20.93843674233026,20.885637520631107,20.832838298931954,20.780039077232804,20.727239855533654,20.674440633834497,20.621641412135347,20.568842190436193,20.516042968737043,20.46324374703789,20.410444525338733,20.357645303639583],\"yaxis\":\"y\",\"type\":\"scatter\"}],                        {\"template\":{\"data\":{\"histogram2dcontour\":[{\"type\":\"histogram2dcontour\",\"colorbar\":{\"outlinewidth\":0,\"ticks\":\"\"},\"colorscale\":[[0.0,\"#0d0887\"],[0.1111111111111111,\"#46039f\"],[0.2222222222222222,\"#7201a8\"],[0.3333333333333333,\"#9c179e\"],[0.4444444444444444,\"#bd3786\"],[0.5555555555555556,\"#d8576b\"],[0.6666666666666666,\"#ed7953\"],[0.7777777777777778,\"#fb9f3a\"],[0.8888888888888888,\"#fdca26\"],[1.0,\"#f0f921\"]]}],\"choropleth\":[{\"type\":\"choropleth\",\"colorbar\":{\"outlinewidth\":0,\"ticks\":\"\"}}],\"histogram2d\":[{\"type\":\"histogram2d\",\"colorbar\":{\"outlinewidth\":0,\"ticks\":\"\"},\"colorscale\":[[0.0,\"#0d0887\"],[0.1111111111111111,\"#46039f\"],[0.2222222222222222,\"#7201a8\"],[0.3333333333333333,\"#9c179e\"],[0.4444444444444444,\"#bd3786\"],[0.5555555555555556,\"#d8576b\"],[0.6666666666666666,\"#ed7953\"],[0.7777777777777778,\"#fb9f3a\"],[0.8888888888888888,\"#fdca26\"],[1.0,\"#f0f921\"]]}],\"heatmap\":[{\"type\":\"heatmap\",\"colorbar\":{\"outlinewidth\":0,\"ticks\":\"\"},\"colorscale\":[[0.0,\"#0d0887\"],[0.1111111111111111,\"#46039f\"],[0.2222222222222222,\"#7201a8\"],[0.3333333333333333,\"#9c179e\"],[0.4444444444444444,\"#bd3786\"],[0.5555555555555556,\"#d8576b\"],[0.6666666666666666,\"#ed7953\"],[0.7777777777777778,\"#fb9f3a\"],[0.8888888888888888,\"#fdca26\"],[1.0,\"#f0f921\"]]}],\"heatmapgl\":[{\"type\":\"heatmapgl\",\"colorbar\":{\"outlinewidth\":0,\"ticks\":\"\"},\"colorscale\":[[0.0,\"#0d0887\"],[0.1111111111111111,\"#46039f\"],[0.2222222222222222,\"#7201a8\"],[0.3333333333333333,\"#9c179e\"],[0.4444444444444444,\"#bd3786\"],[0.5555555555555556,\"#d8576b\"],[0.6666666666666666,\"#ed7953\"],[0.7777777777777778,\"#fb9f3a\"],[0.8888888888888888,\"#fdca26\"],[1.0,\"#f0f921\"]]}],\"contourcarpet\":[{\"type\":\"contourcarpet\",\"colorbar\":{\"outlinewidth\":0,\"ticks\":\"\"}}],\"contour\":[{\"type\":\"contour\",\"colorbar\":{\"outlinewidth\":0,\"ticks\":\"\"},\"colorscale\":[[0.0,\"#0d0887\"],[0.1111111111111111,\"#46039f\"],[0.2222222222222222,\"#7201a8\"],[0.3333333333333333,\"#9c179e\"],[0.4444444444444444,\"#bd3786\"],[0.5555555555555556,\"#d8576b\"],[0.6666666666666666,\"#ed7953\"],[0.7777777777777778,\"#fb9f3a\"],[0.8888888888888888,\"#fdca26\"],[1.0,\"#f0f921\"]]}],\"surface\":[{\"type\":\"surface\",\"colorbar\":{\"outlinewidth\":0,\"ticks\":\"\"},\"colorscale\":[[0.0,\"#0d0887\"],[0.1111111111111111,\"#46039f\"],[0.2222222222222222,\"#7201a8\"],[0.3333333333333333,\"#9c179e\"],[0.4444444444444444,\"#bd3786\"],[0.5555555555555556,\"#d8576b\"],[0.6666666666666666,\"#ed7953\"],[0.7777777777777778,\"#fb9f3a\"],[0.8888888888888888,\"#fdca26\"],[1.0,\"#f0f921\"]]}],\"mesh3d\":[{\"type\":\"mesh3d\",\"colorbar\":{\"outlinewidth\":0,\"ticks\":\"\"}}],\"scatter\":[{\"marker\":{\"line\":{\"color\":\"#283442\"}},\"type\":\"scatter\"}],\"parcoords\":[{\"type\":\"parcoords\",\"line\":{\"colorbar\":{\"outlinewidth\":0,\"ticks\":\"\"}}}],\"scatterpolargl\":[{\"type\":\"scatterpolargl\",\"marker\":{\"colorbar\":{\"outlinewidth\":0,\"ticks\":\"\"}}}],\"bar\":[{\"error_x\":{\"color\":\"#f2f5fa\"},\"error_y\":{\"color\":\"#f2f5fa\"},\"marker\":{\"line\":{\"color\":\"rgb(17,17,17)\",\"width\":0.5},\"pattern\":{\"fillmode\":\"overlay\",\"size\":10,\"solidity\":0.2}},\"type\":\"bar\"}],\"scattergeo\":[{\"type\":\"scattergeo\",\"marker\":{\"colorbar\":{\"outlinewidth\":0,\"ticks\":\"\"}}}],\"scatterpolar\":[{\"type\":\"scatterpolar\",\"marker\":{\"colorbar\":{\"outlinewidth\":0,\"ticks\":\"\"}}}],\"histogram\":[{\"marker\":{\"pattern\":{\"fillmode\":\"overlay\",\"size\":10,\"solidity\":0.2}},\"type\":\"histogram\"}],\"scattergl\":[{\"marker\":{\"line\":{\"color\":\"#283442\"}},\"type\":\"scattergl\"}],\"scatter3d\":[{\"type\":\"scatter3d\",\"line\":{\"colorbar\":{\"outlinewidth\":0,\"ticks\":\"\"}},\"marker\":{\"colorbar\":{\"outlinewidth\":0,\"ticks\":\"\"}}}],\"scattermapbox\":[{\"type\":\"scattermapbox\",\"marker\":{\"colorbar\":{\"outlinewidth\":0,\"ticks\":\"\"}}}],\"scatterternary\":[{\"type\":\"scatterternary\",\"marker\":{\"colorbar\":{\"outlinewidth\":0,\"ticks\":\"\"}}}],\"scattercarpet\":[{\"type\":\"scattercarpet\",\"marker\":{\"colorbar\":{\"outlinewidth\":0,\"ticks\":\"\"}}}],\"carpet\":[{\"aaxis\":{\"endlinecolor\":\"#A2B1C6\",\"gridcolor\":\"#506784\",\"linecolor\":\"#506784\",\"minorgridcolor\":\"#506784\",\"startlinecolor\":\"#A2B1C6\"},\"baxis\":{\"endlinecolor\":\"#A2B1C6\",\"gridcolor\":\"#506784\",\"linecolor\":\"#506784\",\"minorgridcolor\":\"#506784\",\"startlinecolor\":\"#A2B1C6\"},\"type\":\"carpet\"}],\"table\":[{\"cells\":{\"fill\":{\"color\":\"#506784\"},\"line\":{\"color\":\"rgb(17,17,17)\"}},\"header\":{\"fill\":{\"color\":\"#2a3f5f\"},\"line\":{\"color\":\"rgb(17,17,17)\"}},\"type\":\"table\"}],\"barpolar\":[{\"marker\":{\"line\":{\"color\":\"rgb(17,17,17)\",\"width\":0.5},\"pattern\":{\"fillmode\":\"overlay\",\"size\":10,\"solidity\":0.2}},\"type\":\"barpolar\"}],\"pie\":[{\"automargin\":true,\"type\":\"pie\"}]},\"layout\":{\"autotypenumbers\":\"strict\",\"colorway\":[\"#636efa\",\"#EF553B\",\"#00cc96\",\"#ab63fa\",\"#FFA15A\",\"#19d3f3\",\"#FF6692\",\"#B6E880\",\"#FF97FF\",\"#FECB52\"],\"font\":{\"color\":\"#f2f5fa\"},\"hovermode\":\"closest\",\"hoverlabel\":{\"align\":\"left\"},\"paper_bgcolor\":\"rgb(17,17,17)\",\"plot_bgcolor\":\"rgb(17,17,17)\",\"polar\":{\"bgcolor\":\"rgb(17,17,17)\",\"angularaxis\":{\"gridcolor\":\"#506784\",\"linecolor\":\"#506784\",\"ticks\":\"\"},\"radialaxis\":{\"gridcolor\":\"#506784\",\"linecolor\":\"#506784\",\"ticks\":\"\"}},\"ternary\":{\"bgcolor\":\"rgb(17,17,17)\",\"aaxis\":{\"gridcolor\":\"#506784\",\"linecolor\":\"#506784\",\"ticks\":\"\"},\"baxis\":{\"gridcolor\":\"#506784\",\"linecolor\":\"#506784\",\"ticks\":\"\"},\"caxis\":{\"gridcolor\":\"#506784\",\"linecolor\":\"#506784\",\"ticks\":\"\"}},\"coloraxis\":{\"colorbar\":{\"outlinewidth\":0,\"ticks\":\"\"}},\"colorscale\":{\"sequential\":[[0.0,\"#0d0887\"],[0.1111111111111111,\"#46039f\"],[0.2222222222222222,\"#7201a8\"],[0.3333333333333333,\"#9c179e\"],[0.4444444444444444,\"#bd3786\"],[0.5555555555555556,\"#d8576b\"],[0.6666666666666666,\"#ed7953\"],[0.7777777777777778,\"#fb9f3a\"],[0.8888888888888888,\"#fdca26\"],[1.0,\"#f0f921\"]],\"sequentialminus\":[[0.0,\"#0d0887\"],[0.1111111111111111,\"#46039f\"],[0.2222222222222222,\"#7201a8\"],[0.3333333333333333,\"#9c179e\"],[0.4444444444444444,\"#bd3786\"],[0.5555555555555556,\"#d8576b\"],[0.6666666666666666,\"#ed7953\"],[0.7777777777777778,\"#fb9f3a\"],[0.8888888888888888,\"#fdca26\"],[1.0,\"#f0f921\"]],\"diverging\":[[0,\"#8e0152\"],[0.1,\"#c51b7d\"],[0.2,\"#de77ae\"],[0.3,\"#f1b6da\"],[0.4,\"#fde0ef\"],[0.5,\"#f7f7f7\"],[0.6,\"#e6f5d0\"],[0.7,\"#b8e186\"],[0.8,\"#7fbc41\"],[0.9,\"#4d9221\"],[1,\"#276419\"]]},\"xaxis\":{\"gridcolor\":\"#283442\",\"linecolor\":\"#506784\",\"ticks\":\"\",\"title\":{\"standoff\":15},\"zerolinecolor\":\"#283442\",\"automargin\":true,\"zerolinewidth\":2},\"yaxis\":{\"gridcolor\":\"#283442\",\"linecolor\":\"#506784\",\"ticks\":\"\",\"title\":{\"standoff\":15},\"zerolinecolor\":\"#283442\",\"automargin\":true,\"zerolinewidth\":2},\"scene\":{\"xaxis\":{\"backgroundcolor\":\"rgb(17,17,17)\",\"gridcolor\":\"#506784\",\"linecolor\":\"#506784\",\"showbackground\":true,\"ticks\":\"\",\"zerolinecolor\":\"#C8D4E3\",\"gridwidth\":2},\"yaxis\":{\"backgroundcolor\":\"rgb(17,17,17)\",\"gridcolor\":\"#506784\",\"linecolor\":\"#506784\",\"showbackground\":true,\"ticks\":\"\",\"zerolinecolor\":\"#C8D4E3\",\"gridwidth\":2},\"zaxis\":{\"backgroundcolor\":\"rgb(17,17,17)\",\"gridcolor\":\"#506784\",\"linecolor\":\"#506784\",\"showbackground\":true,\"ticks\":\"\",\"zerolinecolor\":\"#C8D4E3\",\"gridwidth\":2}},\"shapedefaults\":{\"line\":{\"color\":\"#f2f5fa\"}},\"annotationdefaults\":{\"arrowcolor\":\"#f2f5fa\",\"arrowhead\":0,\"arrowwidth\":1},\"geo\":{\"bgcolor\":\"rgb(17,17,17)\",\"landcolor\":\"rgb(17,17,17)\",\"subunitcolor\":\"#506784\",\"showland\":true,\"showlakes\":true,\"lakecolor\":\"rgb(17,17,17)\"},\"title\":{\"x\":0.05},\"updatemenudefaults\":{\"bgcolor\":\"#506784\",\"borderwidth\":0},\"sliderdefaults\":{\"bgcolor\":\"#C8D4E3\",\"borderwidth\":1,\"bordercolor\":\"rgb(17,17,17)\",\"tickwidth\":0},\"mapbox\":{\"style\":\"dark\"}}},\"xaxis\":{\"anchor\":\"y\",\"domain\":[0.0,1.0],\"title\":{\"text\":\"Flow [l/min]\"}},\"yaxis\":{\"anchor\":\"x\",\"domain\":[0.0,1.0],\"title\":{\"text\":\"Head theoretical\"}},\"legend\":{\"title\":{\"text\":\"Speed\"},\"tracegroupgap\":0},\"title\":{\"text\":\"Pump theoretical head\"}},                        {\"responsive\": true}                    ).then(function(){\n                            \nvar gd = document.getElementById('10508d60-abd7-434a-ab40-20b023923133');\nvar x = new MutationObserver(function (mutations, observer) {{\n        var display = window.getComputedStyle(gd).display;\n        if (!display || display === 'none') {{\n            console.log([gd, 'removed!']);\n            Plotly.purge(gd);\n            observer.disconnect();\n        }}\n}});\n\n// Listen for the removal of the full notebook cells\nvar notebookContainer = gd.closest('#notebook-container');\nif (notebookContainer) {{\n    x.observe(notebookContainer, {childList: true});\n}}\n\n// Listen for the clearing of the current output cell\nvar outputEl = gd.closest('.output');\nif (outputEl) {{\n    x.observe(outputEl, {childList: true});\n}}\n\n                        })                };                });            </script>        </div>"
     },
     "metadata": {},
     "output_type": "display_data"
    },
    {
     "data": {
      "application/vnd.plotly.v1+json": {
       "data": [
        {
         "hovertemplate": "Speed=1200<br>Flow [l/min]=%{x}<br>Head [m]=%{y}<extra></extra>",
         "legendgroup": "1200",
         "line": {
          "color": "#636efa",
          "dash": "solid"
         },
         "marker": {
          "symbol": "circle"
         },
         "mode": "lines",
         "name": "1200",
         "orientation": "v",
         "showlegend": true,
         "x": [
          6.0,
          12.0,
          18.000000000000004,
          24.0,
          30.0,
          36.00000000000001,
          42.00000000000001,
          48.0,
          54.00000000000001,
          60.0,
          66.0,
          72.00000000000001,
          78.00000000000001,
          84.00000000000001,
          90.0,
          96.0,
          102.00000000000001,
          108.00000000000001,
          114.00000000000001,
          120.0,
          126.0,
          132.0,
          138.0,
          144.0,
          150.0,
          156.0,
          162.0,
          168.0,
          174.0,
          180.0,
          186.0,
          192.0,
          198.0,
          204.0,
          210.0,
          216.0,
          222.0,
          228.0,
          234.0,
          240.0,
          246.00000000000003,
          252.0,
          258.00000000000006,
          264.0,
          270.00000000000006,
          276.00000000000006,
          282.0,
          288.00000000000006,
          294.0,
          300.0,
          306.00000000000006,
          312.00000000000006,
          318.00000000000006,
          324.0,
          330.00000000000006,
          336.00000000000006,
          342.0,
          348.00000000000006,
          354.0,
          360.0,
          366.00000000000006,
          372.00000000000006,
          378.00000000000006,
          384.0,
          390.00000000000006,
          396.00000000000006,
          402.0,
          408.00000000000006,
          414.0,
          420.00000000000006,
          426.00000000000006,
          432.00000000000006,
          438.00000000000006,
          444.0,
          450.00000000000006,
          456.00000000000006,
          462.0,
          468.00000000000006,
          474.0,
          480.0,
          486.0,
          491.99999999999994,
          498.00000000000006,
          504.0,
          510.0,
          516.0,
          522.0,
          528.0,
          534.0,
          540.0,
          546.0,
          552.0,
          557.9999999999999,
          564.0,
          570.0,
          576.0,
          582.0000000000001,
          587.9999999999999,
          593.9999999999999,
          600.0,
          606.0,
          612.0000000000001,
          618.0,
          624.0,
          630.0,
          636.0,
          642.0,
          648.0,
          654.0,
          660.0,
          666.0,
          672.0,
          677.9999999999999,
          684.0,
          690.0,
          696.0,
          702.0000000000001,
          707.9999999999999,
          713.9999999999999,
          720.0,
          726.0,
          732.0000000000001,
          738.0,
          744.0,
          750.0,
          756.0,
          762.0,
          768.0,
          774.0,
          780.0,
          786.0000000000001,
          792.0,
          797.9999999999999,
          804.0,
          810.0,
          816.0,
          822.0000000000001,
          827.9999999999999,
          834.0,
          840.0,
          846.0,
          852.0000000000001,
          858.0,
          864.0,
          870.0,
          876.0,
          882.0,
          888.0,
          894.0,
          900.0,
          906.0000000000001,
          912.0,
          917.9999999999999,
          924.0,
          930.0,
          936.0,
          942.0000000000002,
          948.0,
          954.0,
          960.0,
          966.0000000000001,
          972.0,
          977.9999999999998,
          984.0000000000001,
          990.0,
          996.0000000000001,
          1002.0,
          1008.0,
          1014.0000000000001,
          1020.0,
          1026.0,
          1032.0,
          1038.0,
          1044.0,
          1050.0,
          1056.0,
          1062.0,
          1068.0,
          1074.0,
          1080.0,
          1086.0,
          1092.0,
          1098.0,
          1104.0,
          1110.0,
          1116.0,
          1122.0000000000002,
          1128.0,
          1134.0,
          1140.0,
          1145.9999999999998,
          1152.0000000000002,
          1158.0,
          1164.0000000000002,
          1170.0,
          1175.9999999999998,
          1182.0,
          1188.0,
          1194.0000000000002
         ],
         "xaxis": "x",
         "y": [
          11.481589571384944,
          11.48312520829596,
          11.48343262144303,
          11.48251177887863,
          11.480362617279228,
          11.4769850592725,
          11.472379019900725,
          11.466544409638475,
          11.459481136075839,
          11.451189104851265,
          11.441668220279274,
          11.43091838577472,
          11.418939504128158,
          11.405731477694378,
          11.391294208585565,
          11.37562759874596,
          11.358731550078272,
          11.340605964493587,
          11.321250743980837,
          11.300665790667132,
          11.278851006835636,
          11.255806294993873,
          11.23153155788879,
          11.206026698516222,
          11.17929162018732,
          11.151326226542187,
          11.122130421529047,
          11.091704109481825,
          11.06004719512074,
          11.027159583534008,
          10.993041180255291,
          10.957691891218316,
          10.921111622826665,
          10.883300281922617,
          10.84425777583125,
          10.803984012361328,
          10.762478899796703,
          10.719742346957787,
          10.67577426317543,
          10.630574558287746,
          10.584143142712714,
          10.536479927381173,
          10.487584823798551,
          10.437457744043764,
          10.386098600753183,
          10.333507307178238,
          10.279683777128664,
          10.224627925038803,
          10.168339665942245,
          10.110818915485838,
          10.052065589933745,
          9.992079606192236,
          9.930860881782257,
          9.868409334874027,
          9.804724884267818,
          9.739807449441832,
          9.673656950487194,
          9.606273308176576,
          9.537656443958527,
          9.467806279894484,
          9.396722738773727,
          9.324405744024736,
          9.250855219743023,
          9.176071090715446,
          9.100053282421314,
          9.02280172098148,
          8.944316333220788,
          8.864597046670303,
          8.783643789513734,
          8.70145649062294,
          8.618035079560995,
          8.533379486607217,
          8.447489642670272,
          8.360365479402912,
          8.272006929110399,
          8.182413924794854,
          8.091586400135133,
          7.999524289518199,
          7.906227528002278,
          7.81169605131734,
          7.715929795874035,
          7.618928698793995,
          7.520692697845942,
          7.421221731465563,
          7.32051573880924,
          7.218574659666724,
          7.1153984344832955,
          7.010987004397422,
          6.905340311235208,
          6.798458297414491,
          6.69034090605089,
          6.58098808091513,
          6.470399766446448,
          6.358575907677665,
          6.24551645031541,
          6.131221340724482,
          6.015690525860775,
          5.898923953364644,
          5.780921571437023,
          5.661683328991845,
          5.541209175451236,
          5.419499060963724,
          5.296552936211608,
          5.172370752509913,
          5.046952461783398,
          4.920298016509438,
          4.7924073698270195,
          4.663280475420242,
          4.532917287556002,
          4.401317761079712,
          4.2684818514000495,
          4.134409514544483,
          3.999100707020755,
          3.862555385965531,
          3.7247735090564267,
          3.585755034464437,
          3.445499920963141,
          3.304008127830183,
          3.161279614885878,
          3.017314342490133,
          2.8721122715087275,
          2.725673363308967,
          2.57799757980139,
          2.4290848833820515,
          2.278935236934253,
          2.127548603861879,
          1.97492494809164,
          1.8210642339027805,
          1.6659664262211775,
          1.5096314903652428,
          1.3520593920669954,
          1.1932500976296438,
          1.0332035737616625,
          0.8719197875868456,
          0.7093987067682788,
          0.545640299338003,
          0.3806445337969375,
          0.2144113790378075,
          0.04694080446482918,
          -0.12176722019957875,
          -0.2917127247338982,
          -0.46289573854455934,
          -0.6353162906455516,
          -0.8089744095968037,
          -0.9838701236149734,
          -1.160003460469086,
          -1.337374447625784,
          -1.5159831120590428,
          -1.6958294804784857,
          -1.8769135791143339,
          -2.059235433913267,
          -2.242795070414433,
          -2.427592513863146,
          -2.613627789027202,
          -2.8009009204328,
          -2.9894119322054267,
          -3.1791608482057234,
          -3.3701476918451,
          -3.5623724862989254,
          -3.7558352543853495,
          -3.950536018549808,
          -4.146474801034994,
          -4.343651623657772,
          -4.542066507958881,
          -4.7417194752483045,
          -4.942610546394932,
          -5.144739742107152,
          -5.348107082706922,
          -5.552712588297586,
          -5.7585562786257345,
          -5.965638173205038,
          -6.173958291278647,
          -6.383516651737981,
          -6.594313273348086,
          -6.806348174479214,
          -7.019621373345522,
          -7.2341328877420565,
          -7.449882735391468,
          -7.666870933691651,
          -7.8850974997251875,
          -8.104562450429823,
          -8.325265802522166,
          -8.54720757236372,
          -8.770387776145999,
          -8.994806429806278,
          -9.220463549164789,
          -9.447359149701061,
          -9.675493246656018,
          -9.904865855163704,
          -10.135476990078374,
          -10.367326666014701,
          -10.60041489746171,
          -10.834741698589916,
          -11.07030708352206,
          -11.30711106598995,
          -11.545153659746497,
          -11.784434878134318,
          -12.02495473449242,
          -12.266713241844842
         ],
         "yaxis": "y",
         "type": "scatter"
        },
        {
         "hovertemplate": "Speed=1800<br>Flow [l/min]=%{x}<br>Head [m]=%{y}<extra></extra>",
         "legendgroup": "1800",
         "line": {
          "color": "#EF553B",
          "dash": "solid"
         },
         "marker": {
          "symbol": "circle"
         },
         "mode": "lines",
         "name": "1800",
         "orientation": "v",
         "showlegend": true,
         "x": [
          6.0,
          12.0,
          18.000000000000004,
          24.0,
          30.0,
          36.00000000000001,
          42.00000000000001,
          48.0,
          54.00000000000001,
          60.0,
          66.0,
          72.00000000000001,
          78.00000000000001,
          84.00000000000001,
          90.0,
          96.0,
          102.00000000000001,
          108.00000000000001,
          114.00000000000001,
          120.0,
          126.0,
          132.0,
          138.0,
          144.0,
          150.0,
          156.0,
          162.0,
          168.0,
          174.0,
          180.0,
          186.0,
          192.0,
          198.0,
          204.0,
          210.0,
          216.0,
          222.0,
          228.0,
          234.0,
          240.0,
          246.00000000000003,
          252.0,
          258.00000000000006,
          264.0,
          270.00000000000006,
          276.00000000000006,
          282.0,
          288.00000000000006,
          294.0,
          300.0,
          306.00000000000006,
          312.00000000000006,
          318.00000000000006,
          324.0,
          330.00000000000006,
          336.00000000000006,
          342.0,
          348.00000000000006,
          354.0,
          360.0,
          366.00000000000006,
          372.00000000000006,
          378.00000000000006,
          384.0,
          390.00000000000006,
          396.00000000000006,
          402.0,
          408.00000000000006,
          414.0,
          420.00000000000006,
          426.00000000000006,
          432.00000000000006,
          438.00000000000006,
          444.0,
          450.00000000000006,
          456.00000000000006,
          462.0,
          468.00000000000006,
          474.0,
          480.0,
          486.0,
          491.99999999999994,
          498.00000000000006,
          504.0,
          510.0,
          516.0,
          522.0,
          528.0,
          534.0,
          540.0,
          546.0,
          552.0,
          557.9999999999999,
          564.0,
          570.0,
          576.0,
          582.0000000000001,
          587.9999999999999,
          593.9999999999999,
          600.0,
          606.0,
          612.0000000000001,
          618.0,
          624.0,
          630.0,
          636.0,
          642.0,
          648.0,
          654.0,
          660.0,
          666.0,
          672.0,
          677.9999999999999,
          684.0,
          690.0,
          696.0,
          702.0000000000001,
          707.9999999999999,
          713.9999999999999,
          720.0,
          726.0,
          732.0000000000001,
          738.0,
          744.0,
          750.0,
          756.0,
          762.0,
          768.0,
          774.0,
          780.0,
          786.0000000000001,
          792.0,
          797.9999999999999,
          804.0,
          810.0,
          816.0,
          822.0000000000001,
          827.9999999999999,
          834.0,
          840.0,
          846.0,
          852.0000000000001,
          858.0,
          864.0,
          870.0,
          876.0,
          882.0,
          888.0,
          894.0,
          900.0,
          906.0000000000001,
          912.0,
          917.9999999999999,
          924.0,
          930.0,
          936.0,
          942.0000000000002,
          948.0,
          954.0,
          960.0,
          966.0000000000001,
          972.0,
          977.9999999999998,
          984.0000000000001,
          990.0,
          996.0000000000001,
          1002.0,
          1008.0,
          1014.0000000000001,
          1020.0,
          1026.0,
          1032.0,
          1038.0,
          1044.0,
          1050.0,
          1056.0,
          1062.0,
          1068.0,
          1074.0,
          1080.0,
          1086.0,
          1092.0,
          1098.0,
          1104.0,
          1110.0,
          1116.0,
          1122.0000000000002,
          1128.0,
          1134.0,
          1140.0,
          1145.9999999999998,
          1152.0000000000002,
          1158.0,
          1164.0000000000002,
          1170.0,
          1175.9999999999998,
          1182.0,
          1188.0,
          1194.0000000000002
         ],
         "xaxis": "x",
         "y": [
          25.83699580934293,
          25.84025563944391,
          25.84228742166602,
          25.843091157971514,
          25.84266681888068,
          25.84101436078974,
          25.838133732458992,
          25.83402487801679,
          25.828687738551036,
          25.822122253131617,
          25.814328359401966,
          25.80530599393872,
          25.795055092577105,
          25.783575590565995,
          25.770867422762986,
          25.756930523645636,
          25.741764827513812,
          25.725370268471007,
          25.70774678050096,
          25.688894297493004,
          25.668812753287963,
          25.647502081734103,
          25.624962216651646,
          25.6011930918796,
          25.576194641321965,
          25.549966798932516,
          25.522509498680318,
          25.493822674682338,
          25.463906261122045,
          25.43276019224113,
          25.400384402441635,
          25.366778826197805,
          25.331943398159392,
          25.295878053044255,
          25.258582725724654,
          25.220057351266753,
          25.180301864802363,
          25.139316201666425,
          25.09710029733551,
          25.05365408746563,
          25.008977507861182,
          24.96307049453283,
          24.915932983610812,
          24.86756491145706,
          24.817966214613786,
          24.767136829808354,
          24.715076693936098,
          24.661785744119495,
          24.607263917694016,
          24.551511152191594,
          24.494527385304046,
          24.43631255504061,
          24.37686659951829,
          24.316189457138805,
          24.254281066533853,
          24.191141366505267,
          24.126770296130847,
          24.061167794702886,
          23.99433380177498,
          23.926268257098272,
          23.85697110069006,
          23.786442272811104,
          23.714681713992977,
          23.641689364950683,
          23.567465166715515,
          23.492009060529078,
          23.415320987931313,
          23.337400890696532,
          23.258248710858688,
          23.177864390708994,
          23.096247872848522,
          23.013399100093512,
          22.929318015547413,
          22.844004562628687,
          22.757458684948695,
          22.6696803264606,
          22.580669431360846,
          22.490425944142395,
          22.398949809592708,
          22.306240972748277,
          22.212299378942383,
          22.117124973807417,
          22.020717703253982,
          21.92307751346311,
          21.824204350946868,
          21.7240981624964,
          21.62275889512141,
          21.52018649627474,
          21.41638091352401,
          21.311342094904827,
          21.20506998862395,
          21.09756454324983,
          20.98882570762913,
          20.87885343091939,
          20.767647662524528,
          20.655208352246866,
          20.541535450108903,
          20.426628906472413,
          20.310488671977748,
          20.193114697604326,
          20.074506934579354,
          19.954665334502813,
          19.833589849188357,
          19.711280430883594,
          19.587737031991995,
          19.462959605346153,
          19.336948103995077,
          19.209702481391272,
          19.08122269113331,
          18.951508687324832,
          18.820560424172633,
          18.688377856397864,
          18.55496093881801,
          18.420309626698316,
          18.284423875570276,
          18.147303641236615,
          18.008948879871724,
          17.869359547884805,
          17.728535601984756,
          17.58647699928978,
          17.443183697074527,
          17.298655653021726,
          17.152892825112435,
          17.005895171512737,
          16.85766265083904,
          16.708195221886477,
          16.55749284385827,
          16.40555547617473,
          16.25238307859041,
          16.097975611148378,
          15.942333034143232,
          15.785455308273367,
          15.627342394450933,
          15.467994253827904,
          15.307410848010555,
          15.145592138757522,
          14.982538088158034,
          14.818248658619762,
          14.652723812791821,
          14.485963513637724,
          14.317967724441981,
          14.148736408724215,
          13.978269530275707,
          13.80656705324897,
          13.633628941973416,
          13.459455161141527,
          13.284045675710587,
          13.107400450902801,
          12.929519452208515,
          12.75040264542066,
          12.570049996551095,
          12.388461472007709,
          12.205637038312844,
          12.021576662347071,
          11.83628031132601,
          11.649747952591632,
          11.461979553818681,
          11.272975082979588,
          11.082734508253274,
          10.891257798151148,
          10.698544921389917,
          10.504595846969934,
          10.309410544080936,
          10.11298898230189,
          9.915331131401498,
          9.716436961370558,
          9.516306442450755,
          9.314939545248247,
          9.112336240455871,
          8.908496499145322,
          8.70342029261131,
          8.497107592265952,
          8.289558370011134,
          8.080772597744213,
          7.870750247700379,
          7.659491292481431,
          7.446995704688329,
          7.233263457350593,
          7.018294523599971,
          6.802088876936814,
          6.584646490957853,
          6.365967339573428,
          6.146051396897814,
          5.92489863729986,
          5.702509035343661,
          5.478882565789972,
          5.254019203652307,
          5.0279189242464035,
          4.800581702965269,
          4.572007515504179,
          4.342196337749627,
          4.111148145823423,
          3.878862916024577,
          3.645340624912224,
          3.410581249199229,
          3.1745847659081115,
          2.9373511520468334,
          2.6988803851029886,
          2.459172442618426
         ],
         "yaxis": "y",
         "type": "scatter"
        }
       ],
       "layout": {
        "template": {
         "data": {
          "histogram2dcontour": [
           {
            "type": "histogram2dcontour",
            "colorbar": {
             "outlinewidth": 0,
             "ticks": ""
            },
            "colorscale": [
             [
              0.0,
              "#0d0887"
             ],
             [
              0.1111111111111111,
              "#46039f"
             ],
             [
              0.2222222222222222,
              "#7201a8"
             ],
             [
              0.3333333333333333,
              "#9c179e"
             ],
             [
              0.4444444444444444,
              "#bd3786"
             ],
             [
              0.5555555555555556,
              "#d8576b"
             ],
             [
              0.6666666666666666,
              "#ed7953"
             ],
             [
              0.7777777777777778,
              "#fb9f3a"
             ],
             [
              0.8888888888888888,
              "#fdca26"
             ],
             [
              1.0,
              "#f0f921"
             ]
            ]
           }
          ],
          "choropleth": [
           {
            "type": "choropleth",
            "colorbar": {
             "outlinewidth": 0,
             "ticks": ""
            }
           }
          ],
          "histogram2d": [
           {
            "type": "histogram2d",
            "colorbar": {
             "outlinewidth": 0,
             "ticks": ""
            },
            "colorscale": [
             [
              0.0,
              "#0d0887"
             ],
             [
              0.1111111111111111,
              "#46039f"
             ],
             [
              0.2222222222222222,
              "#7201a8"
             ],
             [
              0.3333333333333333,
              "#9c179e"
             ],
             [
              0.4444444444444444,
              "#bd3786"
             ],
             [
              0.5555555555555556,
              "#d8576b"
             ],
             [
              0.6666666666666666,
              "#ed7953"
             ],
             [
              0.7777777777777778,
              "#fb9f3a"
             ],
             [
              0.8888888888888888,
              "#fdca26"
             ],
             [
              1.0,
              "#f0f921"
             ]
            ]
           }
          ],
          "heatmap": [
           {
            "type": "heatmap",
            "colorbar": {
             "outlinewidth": 0,
             "ticks": ""
            },
            "colorscale": [
             [
              0.0,
              "#0d0887"
             ],
             [
              0.1111111111111111,
              "#46039f"
             ],
             [
              0.2222222222222222,
              "#7201a8"
             ],
             [
              0.3333333333333333,
              "#9c179e"
             ],
             [
              0.4444444444444444,
              "#bd3786"
             ],
             [
              0.5555555555555556,
              "#d8576b"
             ],
             [
              0.6666666666666666,
              "#ed7953"
             ],
             [
              0.7777777777777778,
              "#fb9f3a"
             ],
             [
              0.8888888888888888,
              "#fdca26"
             ],
             [
              1.0,
              "#f0f921"
             ]
            ]
           }
          ],
          "heatmapgl": [
           {
            "type": "heatmapgl",
            "colorbar": {
             "outlinewidth": 0,
             "ticks": ""
            },
            "colorscale": [
             [
              0.0,
              "#0d0887"
             ],
             [
              0.1111111111111111,
              "#46039f"
             ],
             [
              0.2222222222222222,
              "#7201a8"
             ],
             [
              0.3333333333333333,
              "#9c179e"
             ],
             [
              0.4444444444444444,
              "#bd3786"
             ],
             [
              0.5555555555555556,
              "#d8576b"
             ],
             [
              0.6666666666666666,
              "#ed7953"
             ],
             [
              0.7777777777777778,
              "#fb9f3a"
             ],
             [
              0.8888888888888888,
              "#fdca26"
             ],
             [
              1.0,
              "#f0f921"
             ]
            ]
           }
          ],
          "contourcarpet": [
           {
            "type": "contourcarpet",
            "colorbar": {
             "outlinewidth": 0,
             "ticks": ""
            }
           }
          ],
          "contour": [
           {
            "type": "contour",
            "colorbar": {
             "outlinewidth": 0,
             "ticks": ""
            },
            "colorscale": [
             [
              0.0,
              "#0d0887"
             ],
             [
              0.1111111111111111,
              "#46039f"
             ],
             [
              0.2222222222222222,
              "#7201a8"
             ],
             [
              0.3333333333333333,
              "#9c179e"
             ],
             [
              0.4444444444444444,
              "#bd3786"
             ],
             [
              0.5555555555555556,
              "#d8576b"
             ],
             [
              0.6666666666666666,
              "#ed7953"
             ],
             [
              0.7777777777777778,
              "#fb9f3a"
             ],
             [
              0.8888888888888888,
              "#fdca26"
             ],
             [
              1.0,
              "#f0f921"
             ]
            ]
           }
          ],
          "surface": [
           {
            "type": "surface",
            "colorbar": {
             "outlinewidth": 0,
             "ticks": ""
            },
            "colorscale": [
             [
              0.0,
              "#0d0887"
             ],
             [
              0.1111111111111111,
              "#46039f"
             ],
             [
              0.2222222222222222,
              "#7201a8"
             ],
             [
              0.3333333333333333,
              "#9c179e"
             ],
             [
              0.4444444444444444,
              "#bd3786"
             ],
             [
              0.5555555555555556,
              "#d8576b"
             ],
             [
              0.6666666666666666,
              "#ed7953"
             ],
             [
              0.7777777777777778,
              "#fb9f3a"
             ],
             [
              0.8888888888888888,
              "#fdca26"
             ],
             [
              1.0,
              "#f0f921"
             ]
            ]
           }
          ],
          "mesh3d": [
           {
            "type": "mesh3d",
            "colorbar": {
             "outlinewidth": 0,
             "ticks": ""
            }
           }
          ],
          "scatter": [
           {
            "marker": {
             "line": {
              "color": "#283442"
             }
            },
            "type": "scatter"
           }
          ],
          "parcoords": [
           {
            "type": "parcoords",
            "line": {
             "colorbar": {
              "outlinewidth": 0,
              "ticks": ""
             }
            }
           }
          ],
          "scatterpolargl": [
           {
            "type": "scatterpolargl",
            "marker": {
             "colorbar": {
              "outlinewidth": 0,
              "ticks": ""
             }
            }
           }
          ],
          "bar": [
           {
            "error_x": {
             "color": "#f2f5fa"
            },
            "error_y": {
             "color": "#f2f5fa"
            },
            "marker": {
             "line": {
              "color": "rgb(17,17,17)",
              "width": 0.5
             },
             "pattern": {
              "fillmode": "overlay",
              "size": 10,
              "solidity": 0.2
             }
            },
            "type": "bar"
           }
          ],
          "scattergeo": [
           {
            "type": "scattergeo",
            "marker": {
             "colorbar": {
              "outlinewidth": 0,
              "ticks": ""
             }
            }
           }
          ],
          "scatterpolar": [
           {
            "type": "scatterpolar",
            "marker": {
             "colorbar": {
              "outlinewidth": 0,
              "ticks": ""
             }
            }
           }
          ],
          "histogram": [
           {
            "marker": {
             "pattern": {
              "fillmode": "overlay",
              "size": 10,
              "solidity": 0.2
             }
            },
            "type": "histogram"
           }
          ],
          "scattergl": [
           {
            "marker": {
             "line": {
              "color": "#283442"
             }
            },
            "type": "scattergl"
           }
          ],
          "scatter3d": [
           {
            "type": "scatter3d",
            "line": {
             "colorbar": {
              "outlinewidth": 0,
              "ticks": ""
             }
            },
            "marker": {
             "colorbar": {
              "outlinewidth": 0,
              "ticks": ""
             }
            }
           }
          ],
          "scattermapbox": [
           {
            "type": "scattermapbox",
            "marker": {
             "colorbar": {
              "outlinewidth": 0,
              "ticks": ""
             }
            }
           }
          ],
          "scatterternary": [
           {
            "type": "scatterternary",
            "marker": {
             "colorbar": {
              "outlinewidth": 0,
              "ticks": ""
             }
            }
           }
          ],
          "scattercarpet": [
           {
            "type": "scattercarpet",
            "marker": {
             "colorbar": {
              "outlinewidth": 0,
              "ticks": ""
             }
            }
           }
          ],
          "carpet": [
           {
            "aaxis": {
             "endlinecolor": "#A2B1C6",
             "gridcolor": "#506784",
             "linecolor": "#506784",
             "minorgridcolor": "#506784",
             "startlinecolor": "#A2B1C6"
            },
            "baxis": {
             "endlinecolor": "#A2B1C6",
             "gridcolor": "#506784",
             "linecolor": "#506784",
             "minorgridcolor": "#506784",
             "startlinecolor": "#A2B1C6"
            },
            "type": "carpet"
           }
          ],
          "table": [
           {
            "cells": {
             "fill": {
              "color": "#506784"
             },
             "line": {
              "color": "rgb(17,17,17)"
             }
            },
            "header": {
             "fill": {
              "color": "#2a3f5f"
             },
             "line": {
              "color": "rgb(17,17,17)"
             }
            },
            "type": "table"
           }
          ],
          "barpolar": [
           {
            "marker": {
             "line": {
              "color": "rgb(17,17,17)",
              "width": 0.5
             },
             "pattern": {
              "fillmode": "overlay",
              "size": 10,
              "solidity": 0.2
             }
            },
            "type": "barpolar"
           }
          ],
          "pie": [
           {
            "automargin": true,
            "type": "pie"
           }
          ]
         },
         "layout": {
          "autotypenumbers": "strict",
          "colorway": [
           "#636efa",
           "#EF553B",
           "#00cc96",
           "#ab63fa",
           "#FFA15A",
           "#19d3f3",
           "#FF6692",
           "#B6E880",
           "#FF97FF",
           "#FECB52"
          ],
          "font": {
           "color": "#f2f5fa"
          },
          "hovermode": "closest",
          "hoverlabel": {
           "align": "left"
          },
          "paper_bgcolor": "rgb(17,17,17)",
          "plot_bgcolor": "rgb(17,17,17)",
          "polar": {
           "bgcolor": "rgb(17,17,17)",
           "angularaxis": {
            "gridcolor": "#506784",
            "linecolor": "#506784",
            "ticks": ""
           },
           "radialaxis": {
            "gridcolor": "#506784",
            "linecolor": "#506784",
            "ticks": ""
           }
          },
          "ternary": {
           "bgcolor": "rgb(17,17,17)",
           "aaxis": {
            "gridcolor": "#506784",
            "linecolor": "#506784",
            "ticks": ""
           },
           "baxis": {
            "gridcolor": "#506784",
            "linecolor": "#506784",
            "ticks": ""
           },
           "caxis": {
            "gridcolor": "#506784",
            "linecolor": "#506784",
            "ticks": ""
           }
          },
          "coloraxis": {
           "colorbar": {
            "outlinewidth": 0,
            "ticks": ""
           }
          },
          "colorscale": {
           "sequential": [
            [
             0.0,
             "#0d0887"
            ],
            [
             0.1111111111111111,
             "#46039f"
            ],
            [
             0.2222222222222222,
             "#7201a8"
            ],
            [
             0.3333333333333333,
             "#9c179e"
            ],
            [
             0.4444444444444444,
             "#bd3786"
            ],
            [
             0.5555555555555556,
             "#d8576b"
            ],
            [
             0.6666666666666666,
             "#ed7953"
            ],
            [
             0.7777777777777778,
             "#fb9f3a"
            ],
            [
             0.8888888888888888,
             "#fdca26"
            ],
            [
             1.0,
             "#f0f921"
            ]
           ],
           "sequentialminus": [
            [
             0.0,
             "#0d0887"
            ],
            [
             0.1111111111111111,
             "#46039f"
            ],
            [
             0.2222222222222222,
             "#7201a8"
            ],
            [
             0.3333333333333333,
             "#9c179e"
            ],
            [
             0.4444444444444444,
             "#bd3786"
            ],
            [
             0.5555555555555556,
             "#d8576b"
            ],
            [
             0.6666666666666666,
             "#ed7953"
            ],
            [
             0.7777777777777778,
             "#fb9f3a"
            ],
            [
             0.8888888888888888,
             "#fdca26"
            ],
            [
             1.0,
             "#f0f921"
            ]
           ],
           "diverging": [
            [
             0,
             "#8e0152"
            ],
            [
             0.1,
             "#c51b7d"
            ],
            [
             0.2,
             "#de77ae"
            ],
            [
             0.3,
             "#f1b6da"
            ],
            [
             0.4,
             "#fde0ef"
            ],
            [
             0.5,
             "#f7f7f7"
            ],
            [
             0.6,
             "#e6f5d0"
            ],
            [
             0.7,
             "#b8e186"
            ],
            [
             0.8,
             "#7fbc41"
            ],
            [
             0.9,
             "#4d9221"
            ],
            [
             1,
             "#276419"
            ]
           ]
          },
          "xaxis": {
           "gridcolor": "#283442",
           "linecolor": "#506784",
           "ticks": "",
           "title": {
            "standoff": 15
           },
           "zerolinecolor": "#283442",
           "automargin": true,
           "zerolinewidth": 2
          },
          "yaxis": {
           "gridcolor": "#283442",
           "linecolor": "#506784",
           "ticks": "",
           "title": {
            "standoff": 15
           },
           "zerolinecolor": "#283442",
           "automargin": true,
           "zerolinewidth": 2
          },
          "scene": {
           "xaxis": {
            "backgroundcolor": "rgb(17,17,17)",
            "gridcolor": "#506784",
            "linecolor": "#506784",
            "showbackground": true,
            "ticks": "",
            "zerolinecolor": "#C8D4E3",
            "gridwidth": 2
           },
           "yaxis": {
            "backgroundcolor": "rgb(17,17,17)",
            "gridcolor": "#506784",
            "linecolor": "#506784",
            "showbackground": true,
            "ticks": "",
            "zerolinecolor": "#C8D4E3",
            "gridwidth": 2
           },
           "zaxis": {
            "backgroundcolor": "rgb(17,17,17)",
            "gridcolor": "#506784",
            "linecolor": "#506784",
            "showbackground": true,
            "ticks": "",
            "zerolinecolor": "#C8D4E3",
            "gridwidth": 2
           }
          },
          "shapedefaults": {
           "line": {
            "color": "#f2f5fa"
           }
          },
          "annotationdefaults": {
           "arrowcolor": "#f2f5fa",
           "arrowhead": 0,
           "arrowwidth": 1
          },
          "geo": {
           "bgcolor": "rgb(17,17,17)",
           "landcolor": "rgb(17,17,17)",
           "subunitcolor": "#506784",
           "showland": true,
           "showlakes": true,
           "lakecolor": "rgb(17,17,17)"
          },
          "title": {
           "x": 0.05
          },
          "updatemenudefaults": {
           "bgcolor": "#506784",
           "borderwidth": 0
          },
          "sliderdefaults": {
           "bgcolor": "#C8D4E3",
           "borderwidth": 1,
           "bordercolor": "rgb(17,17,17)",
           "tickwidth": 0
          },
          "mapbox": {
           "style": "dark"
          }
         }
        },
        "xaxis": {
         "anchor": "y",
         "domain": [
          0.0,
          1.0
         ],
         "title": {
          "text": "Flow [l/min]"
         }
        },
        "yaxis": {
         "anchor": "x",
         "domain": [
          0.0,
          1.0
         ],
         "title": {
          "text": "Head [m]"
         }
        },
        "legend": {
         "title": {
          "text": "Speed"
         },
         "tracegroupgap": 0
        },
        "title": {
         "text": "Pump head"
        }
       },
       "config": {
        "plotlyServerURL": "https://plot.ly"
       }
      },
      "text/html": "<div>                            <div id=\"b4e06e8a-bf35-4835-9221-b822804dae9d\" class=\"plotly-graph-div\" style=\"height:525px; width:100%;\"></div>            <script type=\"text/javascript\">                require([\"plotly\"], function(Plotly) {                    window.PLOTLYENV=window.PLOTLYENV || {};                                    if (document.getElementById(\"b4e06e8a-bf35-4835-9221-b822804dae9d\")) {                    Plotly.newPlot(                        \"b4e06e8a-bf35-4835-9221-b822804dae9d\",                        [{\"hovertemplate\":\"Speed=1200<br>Flow [l/min]=%{x}<br>Head [m]=%{y}<extra></extra>\",\"legendgroup\":\"1200\",\"line\":{\"color\":\"#636efa\",\"dash\":\"solid\"},\"marker\":{\"symbol\":\"circle\"},\"mode\":\"lines\",\"name\":\"1200\",\"orientation\":\"v\",\"showlegend\":true,\"x\":[6.0,12.0,18.000000000000004,24.0,30.0,36.00000000000001,42.00000000000001,48.0,54.00000000000001,60.0,66.0,72.00000000000001,78.00000000000001,84.00000000000001,90.0,96.0,102.00000000000001,108.00000000000001,114.00000000000001,120.0,126.0,132.0,138.0,144.0,150.0,156.0,162.0,168.0,174.0,180.0,186.0,192.0,198.0,204.0,210.0,216.0,222.0,228.0,234.0,240.0,246.00000000000003,252.0,258.00000000000006,264.0,270.00000000000006,276.00000000000006,282.0,288.00000000000006,294.0,300.0,306.00000000000006,312.00000000000006,318.00000000000006,324.0,330.00000000000006,336.00000000000006,342.0,348.00000000000006,354.0,360.0,366.00000000000006,372.00000000000006,378.00000000000006,384.0,390.00000000000006,396.00000000000006,402.0,408.00000000000006,414.0,420.00000000000006,426.00000000000006,432.00000000000006,438.00000000000006,444.0,450.00000000000006,456.00000000000006,462.0,468.00000000000006,474.0,480.0,486.0,491.99999999999994,498.00000000000006,504.0,510.0,516.0,522.0,528.0,534.0,540.0,546.0,552.0,557.9999999999999,564.0,570.0,576.0,582.0000000000001,587.9999999999999,593.9999999999999,600.0,606.0,612.0000000000001,618.0,624.0,630.0,636.0,642.0,648.0,654.0,660.0,666.0,672.0,677.9999999999999,684.0,690.0,696.0,702.0000000000001,707.9999999999999,713.9999999999999,720.0,726.0,732.0000000000001,738.0,744.0,750.0,756.0,762.0,768.0,774.0,780.0,786.0000000000001,792.0,797.9999999999999,804.0,810.0,816.0,822.0000000000001,827.9999999999999,834.0,840.0,846.0,852.0000000000001,858.0,864.0,870.0,876.0,882.0,888.0,894.0,900.0,906.0000000000001,912.0,917.9999999999999,924.0,930.0,936.0,942.0000000000002,948.0,954.0,960.0,966.0000000000001,972.0,977.9999999999998,984.0000000000001,990.0,996.0000000000001,1002.0,1008.0,1014.0000000000001,1020.0,1026.0,1032.0,1038.0,1044.0,1050.0,1056.0,1062.0,1068.0,1074.0,1080.0,1086.0,1092.0,1098.0,1104.0,1110.0,1116.0,1122.0000000000002,1128.0,1134.0,1140.0,1145.9999999999998,1152.0000000000002,1158.0,1164.0000000000002,1170.0,1175.9999999999998,1182.0,1188.0,1194.0000000000002],\"xaxis\":\"x\",\"y\":[11.481589571384944,11.48312520829596,11.48343262144303,11.48251177887863,11.480362617279228,11.4769850592725,11.472379019900725,11.466544409638475,11.459481136075839,11.451189104851265,11.441668220279274,11.43091838577472,11.418939504128158,11.405731477694378,11.391294208585565,11.37562759874596,11.358731550078272,11.340605964493587,11.321250743980837,11.300665790667132,11.278851006835636,11.255806294993873,11.23153155788879,11.206026698516222,11.17929162018732,11.151326226542187,11.122130421529047,11.091704109481825,11.06004719512074,11.027159583534008,10.993041180255291,10.957691891218316,10.921111622826665,10.883300281922617,10.84425777583125,10.803984012361328,10.762478899796703,10.719742346957787,10.67577426317543,10.630574558287746,10.584143142712714,10.536479927381173,10.487584823798551,10.437457744043764,10.386098600753183,10.333507307178238,10.279683777128664,10.224627925038803,10.168339665942245,10.110818915485838,10.052065589933745,9.992079606192236,9.930860881782257,9.868409334874027,9.804724884267818,9.739807449441832,9.673656950487194,9.606273308176576,9.537656443958527,9.467806279894484,9.396722738773727,9.324405744024736,9.250855219743023,9.176071090715446,9.100053282421314,9.02280172098148,8.944316333220788,8.864597046670303,8.783643789513734,8.70145649062294,8.618035079560995,8.533379486607217,8.447489642670272,8.360365479402912,8.272006929110399,8.182413924794854,8.091586400135133,7.999524289518199,7.906227528002278,7.81169605131734,7.715929795874035,7.618928698793995,7.520692697845942,7.421221731465563,7.32051573880924,7.218574659666724,7.1153984344832955,7.010987004397422,6.905340311235208,6.798458297414491,6.69034090605089,6.58098808091513,6.470399766446448,6.358575907677665,6.24551645031541,6.131221340724482,6.015690525860775,5.898923953364644,5.780921571437023,5.661683328991845,5.541209175451236,5.419499060963724,5.296552936211608,5.172370752509913,5.046952461783398,4.920298016509438,4.7924073698270195,4.663280475420242,4.532917287556002,4.401317761079712,4.2684818514000495,4.134409514544483,3.999100707020755,3.862555385965531,3.7247735090564267,3.585755034464437,3.445499920963141,3.304008127830183,3.161279614885878,3.017314342490133,2.8721122715087275,2.725673363308967,2.57799757980139,2.4290848833820515,2.278935236934253,2.127548603861879,1.97492494809164,1.8210642339027805,1.6659664262211775,1.5096314903652428,1.3520593920669954,1.1932500976296438,1.0332035737616625,0.8719197875868456,0.7093987067682788,0.545640299338003,0.3806445337969375,0.2144113790378075,0.04694080446482918,-0.12176722019957875,-0.2917127247338982,-0.46289573854455934,-0.6353162906455516,-0.8089744095968037,-0.9838701236149734,-1.160003460469086,-1.337374447625784,-1.5159831120590428,-1.6958294804784857,-1.8769135791143339,-2.059235433913267,-2.242795070414433,-2.427592513863146,-2.613627789027202,-2.8009009204328,-2.9894119322054267,-3.1791608482057234,-3.3701476918451,-3.5623724862989254,-3.7558352543853495,-3.950536018549808,-4.146474801034994,-4.343651623657772,-4.542066507958881,-4.7417194752483045,-4.942610546394932,-5.144739742107152,-5.348107082706922,-5.552712588297586,-5.7585562786257345,-5.965638173205038,-6.173958291278647,-6.383516651737981,-6.594313273348086,-6.806348174479214,-7.019621373345522,-7.2341328877420565,-7.449882735391468,-7.666870933691651,-7.8850974997251875,-8.104562450429823,-8.325265802522166,-8.54720757236372,-8.770387776145999,-8.994806429806278,-9.220463549164789,-9.447359149701061,-9.675493246656018,-9.904865855163704,-10.135476990078374,-10.367326666014701,-10.60041489746171,-10.834741698589916,-11.07030708352206,-11.30711106598995,-11.545153659746497,-11.784434878134318,-12.02495473449242,-12.266713241844842],\"yaxis\":\"y\",\"type\":\"scatter\"},{\"hovertemplate\":\"Speed=1800<br>Flow [l/min]=%{x}<br>Head [m]=%{y}<extra></extra>\",\"legendgroup\":\"1800\",\"line\":{\"color\":\"#EF553B\",\"dash\":\"solid\"},\"marker\":{\"symbol\":\"circle\"},\"mode\":\"lines\",\"name\":\"1800\",\"orientation\":\"v\",\"showlegend\":true,\"x\":[6.0,12.0,18.000000000000004,24.0,30.0,36.00000000000001,42.00000000000001,48.0,54.00000000000001,60.0,66.0,72.00000000000001,78.00000000000001,84.00000000000001,90.0,96.0,102.00000000000001,108.00000000000001,114.00000000000001,120.0,126.0,132.0,138.0,144.0,150.0,156.0,162.0,168.0,174.0,180.0,186.0,192.0,198.0,204.0,210.0,216.0,222.0,228.0,234.0,240.0,246.00000000000003,252.0,258.00000000000006,264.0,270.00000000000006,276.00000000000006,282.0,288.00000000000006,294.0,300.0,306.00000000000006,312.00000000000006,318.00000000000006,324.0,330.00000000000006,336.00000000000006,342.0,348.00000000000006,354.0,360.0,366.00000000000006,372.00000000000006,378.00000000000006,384.0,390.00000000000006,396.00000000000006,402.0,408.00000000000006,414.0,420.00000000000006,426.00000000000006,432.00000000000006,438.00000000000006,444.0,450.00000000000006,456.00000000000006,462.0,468.00000000000006,474.0,480.0,486.0,491.99999999999994,498.00000000000006,504.0,510.0,516.0,522.0,528.0,534.0,540.0,546.0,552.0,557.9999999999999,564.0,570.0,576.0,582.0000000000001,587.9999999999999,593.9999999999999,600.0,606.0,612.0000000000001,618.0,624.0,630.0,636.0,642.0,648.0,654.0,660.0,666.0,672.0,677.9999999999999,684.0,690.0,696.0,702.0000000000001,707.9999999999999,713.9999999999999,720.0,726.0,732.0000000000001,738.0,744.0,750.0,756.0,762.0,768.0,774.0,780.0,786.0000000000001,792.0,797.9999999999999,804.0,810.0,816.0,822.0000000000001,827.9999999999999,834.0,840.0,846.0,852.0000000000001,858.0,864.0,870.0,876.0,882.0,888.0,894.0,900.0,906.0000000000001,912.0,917.9999999999999,924.0,930.0,936.0,942.0000000000002,948.0,954.0,960.0,966.0000000000001,972.0,977.9999999999998,984.0000000000001,990.0,996.0000000000001,1002.0,1008.0,1014.0000000000001,1020.0,1026.0,1032.0,1038.0,1044.0,1050.0,1056.0,1062.0,1068.0,1074.0,1080.0,1086.0,1092.0,1098.0,1104.0,1110.0,1116.0,1122.0000000000002,1128.0,1134.0,1140.0,1145.9999999999998,1152.0000000000002,1158.0,1164.0000000000002,1170.0,1175.9999999999998,1182.0,1188.0,1194.0000000000002],\"xaxis\":\"x\",\"y\":[25.83699580934293,25.84025563944391,25.84228742166602,25.843091157971514,25.84266681888068,25.84101436078974,25.838133732458992,25.83402487801679,25.828687738551036,25.822122253131617,25.814328359401966,25.80530599393872,25.795055092577105,25.783575590565995,25.770867422762986,25.756930523645636,25.741764827513812,25.725370268471007,25.70774678050096,25.688894297493004,25.668812753287963,25.647502081734103,25.624962216651646,25.6011930918796,25.576194641321965,25.549966798932516,25.522509498680318,25.493822674682338,25.463906261122045,25.43276019224113,25.400384402441635,25.366778826197805,25.331943398159392,25.295878053044255,25.258582725724654,25.220057351266753,25.180301864802363,25.139316201666425,25.09710029733551,25.05365408746563,25.008977507861182,24.96307049453283,24.915932983610812,24.86756491145706,24.817966214613786,24.767136829808354,24.715076693936098,24.661785744119495,24.607263917694016,24.551511152191594,24.494527385304046,24.43631255504061,24.37686659951829,24.316189457138805,24.254281066533853,24.191141366505267,24.126770296130847,24.061167794702886,23.99433380177498,23.926268257098272,23.85697110069006,23.786442272811104,23.714681713992977,23.641689364950683,23.567465166715515,23.492009060529078,23.415320987931313,23.337400890696532,23.258248710858688,23.177864390708994,23.096247872848522,23.013399100093512,22.929318015547413,22.844004562628687,22.757458684948695,22.6696803264606,22.580669431360846,22.490425944142395,22.398949809592708,22.306240972748277,22.212299378942383,22.117124973807417,22.020717703253982,21.92307751346311,21.824204350946868,21.7240981624964,21.62275889512141,21.52018649627474,21.41638091352401,21.311342094904827,21.20506998862395,21.09756454324983,20.98882570762913,20.87885343091939,20.767647662524528,20.655208352246866,20.541535450108903,20.426628906472413,20.310488671977748,20.193114697604326,20.074506934579354,19.954665334502813,19.833589849188357,19.711280430883594,19.587737031991995,19.462959605346153,19.336948103995077,19.209702481391272,19.08122269113331,18.951508687324832,18.820560424172633,18.688377856397864,18.55496093881801,18.420309626698316,18.284423875570276,18.147303641236615,18.008948879871724,17.869359547884805,17.728535601984756,17.58647699928978,17.443183697074527,17.298655653021726,17.152892825112435,17.005895171512737,16.85766265083904,16.708195221886477,16.55749284385827,16.40555547617473,16.25238307859041,16.097975611148378,15.942333034143232,15.785455308273367,15.627342394450933,15.467994253827904,15.307410848010555,15.145592138757522,14.982538088158034,14.818248658619762,14.652723812791821,14.485963513637724,14.317967724441981,14.148736408724215,13.978269530275707,13.80656705324897,13.633628941973416,13.459455161141527,13.284045675710587,13.107400450902801,12.929519452208515,12.75040264542066,12.570049996551095,12.388461472007709,12.205637038312844,12.021576662347071,11.83628031132601,11.649747952591632,11.461979553818681,11.272975082979588,11.082734508253274,10.891257798151148,10.698544921389917,10.504595846969934,10.309410544080936,10.11298898230189,9.915331131401498,9.716436961370558,9.516306442450755,9.314939545248247,9.112336240455871,8.908496499145322,8.70342029261131,8.497107592265952,8.289558370011134,8.080772597744213,7.870750247700379,7.659491292481431,7.446995704688329,7.233263457350593,7.018294523599971,6.802088876936814,6.584646490957853,6.365967339573428,6.146051396897814,5.92489863729986,5.702509035343661,5.478882565789972,5.254019203652307,5.0279189242464035,4.800581702965269,4.572007515504179,4.342196337749627,4.111148145823423,3.878862916024577,3.645340624912224,3.410581249199229,3.1745847659081115,2.9373511520468334,2.6988803851029886,2.459172442618426],\"yaxis\":\"y\",\"type\":\"scatter\"}],                        {\"template\":{\"data\":{\"histogram2dcontour\":[{\"type\":\"histogram2dcontour\",\"colorbar\":{\"outlinewidth\":0,\"ticks\":\"\"},\"colorscale\":[[0.0,\"#0d0887\"],[0.1111111111111111,\"#46039f\"],[0.2222222222222222,\"#7201a8\"],[0.3333333333333333,\"#9c179e\"],[0.4444444444444444,\"#bd3786\"],[0.5555555555555556,\"#d8576b\"],[0.6666666666666666,\"#ed7953\"],[0.7777777777777778,\"#fb9f3a\"],[0.8888888888888888,\"#fdca26\"],[1.0,\"#f0f921\"]]}],\"choropleth\":[{\"type\":\"choropleth\",\"colorbar\":{\"outlinewidth\":0,\"ticks\":\"\"}}],\"histogram2d\":[{\"type\":\"histogram2d\",\"colorbar\":{\"outlinewidth\":0,\"ticks\":\"\"},\"colorscale\":[[0.0,\"#0d0887\"],[0.1111111111111111,\"#46039f\"],[0.2222222222222222,\"#7201a8\"],[0.3333333333333333,\"#9c179e\"],[0.4444444444444444,\"#bd3786\"],[0.5555555555555556,\"#d8576b\"],[0.6666666666666666,\"#ed7953\"],[0.7777777777777778,\"#fb9f3a\"],[0.8888888888888888,\"#fdca26\"],[1.0,\"#f0f921\"]]}],\"heatmap\":[{\"type\":\"heatmap\",\"colorbar\":{\"outlinewidth\":0,\"ticks\":\"\"},\"colorscale\":[[0.0,\"#0d0887\"],[0.1111111111111111,\"#46039f\"],[0.2222222222222222,\"#7201a8\"],[0.3333333333333333,\"#9c179e\"],[0.4444444444444444,\"#bd3786\"],[0.5555555555555556,\"#d8576b\"],[0.6666666666666666,\"#ed7953\"],[0.7777777777777778,\"#fb9f3a\"],[0.8888888888888888,\"#fdca26\"],[1.0,\"#f0f921\"]]}],\"heatmapgl\":[{\"type\":\"heatmapgl\",\"colorbar\":{\"outlinewidth\":0,\"ticks\":\"\"},\"colorscale\":[[0.0,\"#0d0887\"],[0.1111111111111111,\"#46039f\"],[0.2222222222222222,\"#7201a8\"],[0.3333333333333333,\"#9c179e\"],[0.4444444444444444,\"#bd3786\"],[0.5555555555555556,\"#d8576b\"],[0.6666666666666666,\"#ed7953\"],[0.7777777777777778,\"#fb9f3a\"],[0.8888888888888888,\"#fdca26\"],[1.0,\"#f0f921\"]]}],\"contourcarpet\":[{\"type\":\"contourcarpet\",\"colorbar\":{\"outlinewidth\":0,\"ticks\":\"\"}}],\"contour\":[{\"type\":\"contour\",\"colorbar\":{\"outlinewidth\":0,\"ticks\":\"\"},\"colorscale\":[[0.0,\"#0d0887\"],[0.1111111111111111,\"#46039f\"],[0.2222222222222222,\"#7201a8\"],[0.3333333333333333,\"#9c179e\"],[0.4444444444444444,\"#bd3786\"],[0.5555555555555556,\"#d8576b\"],[0.6666666666666666,\"#ed7953\"],[0.7777777777777778,\"#fb9f3a\"],[0.8888888888888888,\"#fdca26\"],[1.0,\"#f0f921\"]]}],\"surface\":[{\"type\":\"surface\",\"colorbar\":{\"outlinewidth\":0,\"ticks\":\"\"},\"colorscale\":[[0.0,\"#0d0887\"],[0.1111111111111111,\"#46039f\"],[0.2222222222222222,\"#7201a8\"],[0.3333333333333333,\"#9c179e\"],[0.4444444444444444,\"#bd3786\"],[0.5555555555555556,\"#d8576b\"],[0.6666666666666666,\"#ed7953\"],[0.7777777777777778,\"#fb9f3a\"],[0.8888888888888888,\"#fdca26\"],[1.0,\"#f0f921\"]]}],\"mesh3d\":[{\"type\":\"mesh3d\",\"colorbar\":{\"outlinewidth\":0,\"ticks\":\"\"}}],\"scatter\":[{\"marker\":{\"line\":{\"color\":\"#283442\"}},\"type\":\"scatter\"}],\"parcoords\":[{\"type\":\"parcoords\",\"line\":{\"colorbar\":{\"outlinewidth\":0,\"ticks\":\"\"}}}],\"scatterpolargl\":[{\"type\":\"scatterpolargl\",\"marker\":{\"colorbar\":{\"outlinewidth\":0,\"ticks\":\"\"}}}],\"bar\":[{\"error_x\":{\"color\":\"#f2f5fa\"},\"error_y\":{\"color\":\"#f2f5fa\"},\"marker\":{\"line\":{\"color\":\"rgb(17,17,17)\",\"width\":0.5},\"pattern\":{\"fillmode\":\"overlay\",\"size\":10,\"solidity\":0.2}},\"type\":\"bar\"}],\"scattergeo\":[{\"type\":\"scattergeo\",\"marker\":{\"colorbar\":{\"outlinewidth\":0,\"ticks\":\"\"}}}],\"scatterpolar\":[{\"type\":\"scatterpolar\",\"marker\":{\"colorbar\":{\"outlinewidth\":0,\"ticks\":\"\"}}}],\"histogram\":[{\"marker\":{\"pattern\":{\"fillmode\":\"overlay\",\"size\":10,\"solidity\":0.2}},\"type\":\"histogram\"}],\"scattergl\":[{\"marker\":{\"line\":{\"color\":\"#283442\"}},\"type\":\"scattergl\"}],\"scatter3d\":[{\"type\":\"scatter3d\",\"line\":{\"colorbar\":{\"outlinewidth\":0,\"ticks\":\"\"}},\"marker\":{\"colorbar\":{\"outlinewidth\":0,\"ticks\":\"\"}}}],\"scattermapbox\":[{\"type\":\"scattermapbox\",\"marker\":{\"colorbar\":{\"outlinewidth\":0,\"ticks\":\"\"}}}],\"scatterternary\":[{\"type\":\"scatterternary\",\"marker\":{\"colorbar\":{\"outlinewidth\":0,\"ticks\":\"\"}}}],\"scattercarpet\":[{\"type\":\"scattercarpet\",\"marker\":{\"colorbar\":{\"outlinewidth\":0,\"ticks\":\"\"}}}],\"carpet\":[{\"aaxis\":{\"endlinecolor\":\"#A2B1C6\",\"gridcolor\":\"#506784\",\"linecolor\":\"#506784\",\"minorgridcolor\":\"#506784\",\"startlinecolor\":\"#A2B1C6\"},\"baxis\":{\"endlinecolor\":\"#A2B1C6\",\"gridcolor\":\"#506784\",\"linecolor\":\"#506784\",\"minorgridcolor\":\"#506784\",\"startlinecolor\":\"#A2B1C6\"},\"type\":\"carpet\"}],\"table\":[{\"cells\":{\"fill\":{\"color\":\"#506784\"},\"line\":{\"color\":\"rgb(17,17,17)\"}},\"header\":{\"fill\":{\"color\":\"#2a3f5f\"},\"line\":{\"color\":\"rgb(17,17,17)\"}},\"type\":\"table\"}],\"barpolar\":[{\"marker\":{\"line\":{\"color\":\"rgb(17,17,17)\",\"width\":0.5},\"pattern\":{\"fillmode\":\"overlay\",\"size\":10,\"solidity\":0.2}},\"type\":\"barpolar\"}],\"pie\":[{\"automargin\":true,\"type\":\"pie\"}]},\"layout\":{\"autotypenumbers\":\"strict\",\"colorway\":[\"#636efa\",\"#EF553B\",\"#00cc96\",\"#ab63fa\",\"#FFA15A\",\"#19d3f3\",\"#FF6692\",\"#B6E880\",\"#FF97FF\",\"#FECB52\"],\"font\":{\"color\":\"#f2f5fa\"},\"hovermode\":\"closest\",\"hoverlabel\":{\"align\":\"left\"},\"paper_bgcolor\":\"rgb(17,17,17)\",\"plot_bgcolor\":\"rgb(17,17,17)\",\"polar\":{\"bgcolor\":\"rgb(17,17,17)\",\"angularaxis\":{\"gridcolor\":\"#506784\",\"linecolor\":\"#506784\",\"ticks\":\"\"},\"radialaxis\":{\"gridcolor\":\"#506784\",\"linecolor\":\"#506784\",\"ticks\":\"\"}},\"ternary\":{\"bgcolor\":\"rgb(17,17,17)\",\"aaxis\":{\"gridcolor\":\"#506784\",\"linecolor\":\"#506784\",\"ticks\":\"\"},\"baxis\":{\"gridcolor\":\"#506784\",\"linecolor\":\"#506784\",\"ticks\":\"\"},\"caxis\":{\"gridcolor\":\"#506784\",\"linecolor\":\"#506784\",\"ticks\":\"\"}},\"coloraxis\":{\"colorbar\":{\"outlinewidth\":0,\"ticks\":\"\"}},\"colorscale\":{\"sequential\":[[0.0,\"#0d0887\"],[0.1111111111111111,\"#46039f\"],[0.2222222222222222,\"#7201a8\"],[0.3333333333333333,\"#9c179e\"],[0.4444444444444444,\"#bd3786\"],[0.5555555555555556,\"#d8576b\"],[0.6666666666666666,\"#ed7953\"],[0.7777777777777778,\"#fb9f3a\"],[0.8888888888888888,\"#fdca26\"],[1.0,\"#f0f921\"]],\"sequentialminus\":[[0.0,\"#0d0887\"],[0.1111111111111111,\"#46039f\"],[0.2222222222222222,\"#7201a8\"],[0.3333333333333333,\"#9c179e\"],[0.4444444444444444,\"#bd3786\"],[0.5555555555555556,\"#d8576b\"],[0.6666666666666666,\"#ed7953\"],[0.7777777777777778,\"#fb9f3a\"],[0.8888888888888888,\"#fdca26\"],[1.0,\"#f0f921\"]],\"diverging\":[[0,\"#8e0152\"],[0.1,\"#c51b7d\"],[0.2,\"#de77ae\"],[0.3,\"#f1b6da\"],[0.4,\"#fde0ef\"],[0.5,\"#f7f7f7\"],[0.6,\"#e6f5d0\"],[0.7,\"#b8e186\"],[0.8,\"#7fbc41\"],[0.9,\"#4d9221\"],[1,\"#276419\"]]},\"xaxis\":{\"gridcolor\":\"#283442\",\"linecolor\":\"#506784\",\"ticks\":\"\",\"title\":{\"standoff\":15},\"zerolinecolor\":\"#283442\",\"automargin\":true,\"zerolinewidth\":2},\"yaxis\":{\"gridcolor\":\"#283442\",\"linecolor\":\"#506784\",\"ticks\":\"\",\"title\":{\"standoff\":15},\"zerolinecolor\":\"#283442\",\"automargin\":true,\"zerolinewidth\":2},\"scene\":{\"xaxis\":{\"backgroundcolor\":\"rgb(17,17,17)\",\"gridcolor\":\"#506784\",\"linecolor\":\"#506784\",\"showbackground\":true,\"ticks\":\"\",\"zerolinecolor\":\"#C8D4E3\",\"gridwidth\":2},\"yaxis\":{\"backgroundcolor\":\"rgb(17,17,17)\",\"gridcolor\":\"#506784\",\"linecolor\":\"#506784\",\"showbackground\":true,\"ticks\":\"\",\"zerolinecolor\":\"#C8D4E3\",\"gridwidth\":2},\"zaxis\":{\"backgroundcolor\":\"rgb(17,17,17)\",\"gridcolor\":\"#506784\",\"linecolor\":\"#506784\",\"showbackground\":true,\"ticks\":\"\",\"zerolinecolor\":\"#C8D4E3\",\"gridwidth\":2}},\"shapedefaults\":{\"line\":{\"color\":\"#f2f5fa\"}},\"annotationdefaults\":{\"arrowcolor\":\"#f2f5fa\",\"arrowhead\":0,\"arrowwidth\":1},\"geo\":{\"bgcolor\":\"rgb(17,17,17)\",\"landcolor\":\"rgb(17,17,17)\",\"subunitcolor\":\"#506784\",\"showland\":true,\"showlakes\":true,\"lakecolor\":\"rgb(17,17,17)\"},\"title\":{\"x\":0.05},\"updatemenudefaults\":{\"bgcolor\":\"#506784\",\"borderwidth\":0},\"sliderdefaults\":{\"bgcolor\":\"#C8D4E3\",\"borderwidth\":1,\"bordercolor\":\"rgb(17,17,17)\",\"tickwidth\":0},\"mapbox\":{\"style\":\"dark\"}}},\"xaxis\":{\"anchor\":\"y\",\"domain\":[0.0,1.0],\"title\":{\"text\":\"Flow [l/min]\"}},\"yaxis\":{\"anchor\":\"x\",\"domain\":[0.0,1.0],\"title\":{\"text\":\"Head [m]\"}},\"legend\":{\"title\":{\"text\":\"Speed\"},\"tracegroupgap\":0},\"title\":{\"text\":\"Pump head\"}},                        {\"responsive\": true}                    ).then(function(){\n                            \nvar gd = document.getElementById('b4e06e8a-bf35-4835-9221-b822804dae9d');\nvar x = new MutationObserver(function (mutations, observer) {{\n        var display = window.getComputedStyle(gd).display;\n        if (!display || display === 'none') {{\n            console.log([gd, 'removed!']);\n            Plotly.purge(gd);\n            observer.disconnect();\n        }}\n}});\n\n// Listen for the removal of the full notebook cells\nvar notebookContainer = gd.closest('#notebook-container');\nif (notebookContainer) {{\n    x.observe(notebookContainer, {childList: true});\n}}\n\n// Listen for the clearing of the current output cell\nvar outputEl = gd.closest('.output');\nif (outputEl) {{\n    x.observe(outputEl, {childList: true});\n}}\n\n                        })                };                });            </script>        </div>"
     },
     "metadata": {},
     "output_type": "display_data"
    },
    {
     "data": {
      "application/vnd.plotly.v1+json": {
       "data": [
        {
         "hovertemplate": "Speed=1200<br>Flow [l/min]=%{x}<br>Power in=%{y}<extra></extra>",
         "legendgroup": "1200",
         "line": {
          "color": "#636efa",
          "dash": "solid"
         },
         "marker": {
          "symbol": "circle"
         },
         "mode": "lines",
         "name": "1200",
         "orientation": "v",
         "showlegend": true,
         "x": [
          6.0,
          12.0,
          18.000000000000004,
          24.0,
          30.0,
          36.00000000000001,
          42.00000000000001,
          48.0,
          54.00000000000001,
          60.0,
          66.0,
          72.00000000000001,
          78.00000000000001,
          84.00000000000001,
          90.0,
          96.0,
          102.00000000000001,
          108.00000000000001,
          114.00000000000001,
          120.0,
          126.0,
          132.0,
          138.0,
          144.0,
          150.0,
          156.0,
          162.0,
          168.0,
          174.0,
          180.0,
          186.0,
          192.0,
          198.0,
          204.0,
          210.0,
          216.0,
          222.0,
          228.0,
          234.0,
          240.0,
          246.00000000000003,
          252.0,
          258.00000000000006,
          264.0,
          270.00000000000006,
          276.00000000000006,
          282.0,
          288.00000000000006,
          294.0,
          300.0,
          306.00000000000006,
          312.00000000000006,
          318.00000000000006,
          324.0,
          330.00000000000006,
          336.00000000000006,
          342.0,
          348.00000000000006,
          354.0,
          360.0,
          366.00000000000006,
          372.00000000000006,
          378.00000000000006,
          384.0,
          390.00000000000006,
          396.00000000000006,
          402.0,
          408.00000000000006,
          414.0,
          420.00000000000006,
          426.00000000000006,
          432.00000000000006,
          438.00000000000006,
          444.0,
          450.00000000000006,
          456.00000000000006,
          462.0,
          468.00000000000006,
          474.0,
          480.0,
          486.0,
          491.99999999999994,
          498.00000000000006,
          504.0,
          510.0,
          516.0,
          522.0,
          528.0,
          534.0,
          540.0,
          546.0,
          552.0,
          557.9999999999999,
          564.0,
          570.0,
          576.0,
          582.0000000000001,
          587.9999999999999,
          593.9999999999999,
          600.0,
          606.0,
          612.0000000000001,
          618.0,
          624.0,
          630.0,
          636.0,
          642.0,
          648.0,
          654.0,
          660.0,
          666.0,
          672.0,
          677.9999999999999,
          684.0,
          690.0,
          696.0,
          702.0000000000001,
          707.9999999999999,
          713.9999999999999,
          720.0,
          726.0,
          732.0000000000001,
          738.0,
          744.0,
          750.0,
          756.0,
          762.0,
          768.0,
          774.0,
          780.0,
          786.0000000000001,
          792.0,
          797.9999999999999,
          804.0,
          810.0,
          816.0,
          822.0000000000001,
          827.9999999999999,
          834.0,
          840.0,
          846.0,
          852.0000000000001,
          858.0,
          864.0,
          870.0,
          876.0,
          882.0,
          888.0,
          894.0,
          900.0,
          906.0000000000001,
          912.0,
          917.9999999999999,
          924.0,
          930.0,
          936.0,
          942.0000000000002,
          948.0,
          954.0,
          960.0,
          966.0000000000001,
          972.0,
          977.9999999999998,
          984.0000000000001,
          990.0,
          996.0000000000001,
          1002.0,
          1008.0,
          1014.0000000000001,
          1020.0,
          1026.0,
          1032.0,
          1038.0,
          1044.0,
          1050.0,
          1056.0,
          1062.0,
          1068.0,
          1074.0,
          1080.0,
          1086.0,
          1092.0,
          1098.0,
          1104.0,
          1110.0,
          1116.0,
          1122.0000000000002,
          1128.0,
          1134.0,
          1140.0,
          1145.9999999999998,
          1152.0000000000002,
          1158.0,
          1164.0000000000002,
          1170.0,
          1175.9999999999998,
          1182.0,
          1188.0,
          1194.0000000000002
         ],
         "xaxis": "x",
         "y": [
          0.14247549596690148,
          0.15580529972539864,
          0.16906616420428985,
          0.18225808940357507,
          0.19538107532325438,
          0.20843512196332767,
          0.22142022932379504,
          0.2343363974046564,
          0.2471836262059119,
          0.2599619157275613,
          0.2726712659696048,
          0.28531167693204235,
          0.297883148614874,
          0.3103856810180996,
          0.32281927414171924,
          0.33518392798573293,
          0.34747964255014074,
          0.3597064178349425,
          0.3718642538401383,
          0.38395315056572815,
          0.39597310801171204,
          0.40792412617809,
          0.41980620506486194,
          0.4316193446720279,
          0.443363544999588,
          0.45503880604754215,
          0.4666451278158903,
          0.47818251030463244,
          0.4896509535137686,
          0.501050457443299,
          0.5123810220932232,
          0.5236426474635416,
          0.5348353335542539,
          0.5459590803653603,
          0.5570138878968608,
          0.5679997561487553,
          0.5789166851210439,
          0.5897646748137265,
          0.600543725226803,
          0.6112538363602736,
          0.6218950082141383,
          0.632467240788397,
          0.6429705340830498,
          0.6534048880980965,
          0.6637703028335374,
          0.6740667782893724,
          0.6842943144656013,
          0.6944529113622243,
          0.7045425689792414,
          0.7145632873166523,
          0.7245150663744573,
          0.7343979061526565,
          0.7442118066512496,
          0.7539567678702369,
          0.7636327898096184,
          0.7732398724693933,
          0.7827780158495627,
          0.7922472199501263,
          0.8016474847710836,
          0.8109788103124347,
          0.8202411965741804,
          0.82943464355632,
          0.8385591512588535,
          0.847614719681781,
          0.8566013488251026,
          0.8655190386888184,
          0.8743677892729279,
          0.8831476005774318,
          0.8918584726023299,
          0.9005004053476214,
          0.9090733988133072,
          0.9175774529993873,
          0.9260125679058613,
          0.934378743532729,
          0.9426759798799913,
          0.9509042769476473,
          0.9590636347356972,
          0.9671540532441413,
          0.9751755324729797,
          0.9831280724222118,
          0.9910116730918378,
          0.9988263344818581,
          1.0065720565922727,
          1.014248839423081,
          1.0218566829742834,
          1.0293955872458798,
          1.0368655522378705,
          1.0442665779502551,
          1.0515986643830335,
          1.0588618115362063,
          1.0660560194097728,
          1.0731812880037335,
          1.0802376173180885,
          1.087225007352837,
          1.0941434581079799,
          1.1009929695835166,
          1.1077735417794479,
          1.1144851746957725,
          1.1211278683324912,
          1.1277016226896046,
          1.1342064377671115,
          1.1406423135650128,
          1.1470092500833078,
          1.1533072473219967,
          1.1595363052810803,
          1.1656964239605574,
          1.1717876033604286,
          1.177809843480694,
          1.1837631443213534,
          1.1896475058824068,
          1.1954629281638542,
          1.2012094111656957,
          1.2068869548879313,
          1.2124955593305609,
          1.2180352244935846,
          1.2235059503770018,
          1.2289077369808137,
          1.234240584305019,
          1.239504492349619,
          1.244699461114613,
          1.2498254906000006,
          1.2548825808057824,
          1.2598707317319584,
          1.2647899433785286,
          1.2696402157454927,
          1.2744215488328507,
          1.2791339426406025,
          1.2837773971687487,
          1.288351912417289,
          1.2928574883862232,
          1.2972941250755514,
          1.3016618224852732,
          1.3059605806153898,
          1.3101903994659003,
          1.3143512790368046,
          1.318443219328103,
          1.3224662203397954,
          1.326420282071882,
          1.3303054045243625,
          1.3341215876972372,
          1.3378688315905056,
          1.3415471362041684,
          1.345156501538225,
          1.3486969275926755,
          1.3521684143675208,
          1.3555709618627592,
          1.358904570078392,
          1.3621692390144189,
          1.3653649686708402,
          1.3684917590476553,
          1.3715496101448639,
          1.3745385219624673,
          1.3774584945004642,
          1.3803095277588553,
          1.3830916217376406,
          1.3858047764368198,
          1.388448991856393,
          1.3910242679963603,
          1.3935306048567213,
          1.395968002437477,
          1.3983364607386264,
          1.4006359797601697,
          1.402866559502107,
          1.405028199964439,
          1.4071209011471644,
          1.409144663050284,
          1.4110994856737977,
          1.4129853690177054,
          1.414802313082007,
          1.4165503178667027,
          1.4182293833717927,
          1.4198395095972762,
          1.4213806965431544,
          1.4228529442094262,
          1.424256252596092,
          1.4255906217031522,
          1.4268560515306061,
          1.4280525420784542,
          1.4291800933466963,
          1.4302387053353325,
          1.4312283780443629,
          1.4321491114737872,
          1.4330009056236053,
          1.4337837604938175,
          1.434497676084424,
          1.4351426523954245,
          1.4357186894268186,
          1.436225787178607,
          1.4366639456507897,
          1.4370331648433665,
          1.4373334447563368,
          1.4375647853897016,
          1.4377271867434602,
          1.4378206488176128,
          1.4378451716121592,
          1.4378007551271004,
          1.4376873993624353,
          1.4375051043181641,
          1.4372538699942867
         ],
         "yaxis": "y",
         "type": "scatter"
        },
        {
         "hovertemplate": "Speed=1800<br>Flow [l/min]=%{x}<br>Power in=%{y}<extra></extra>",
         "legendgroup": "1800",
         "line": {
          "color": "#EF553B",
          "dash": "solid"
         },
         "marker": {
          "symbol": "circle"
         },
         "mode": "lines",
         "name": "1800",
         "orientation": "v",
         "showlegend": true,
         "x": [
          6.0,
          12.0,
          18.000000000000004,
          24.0,
          30.0,
          36.00000000000001,
          42.00000000000001,
          48.0,
          54.00000000000001,
          60.0,
          66.0,
          72.00000000000001,
          78.00000000000001,
          84.00000000000001,
          90.0,
          96.0,
          102.00000000000001,
          108.00000000000001,
          114.00000000000001,
          120.0,
          126.0,
          132.0,
          138.0,
          144.0,
          150.0,
          156.0,
          162.0,
          168.0,
          174.0,
          180.0,
          186.0,
          192.0,
          198.0,
          204.0,
          210.0,
          216.0,
          222.0,
          228.0,
          234.0,
          240.0,
          246.00000000000003,
          252.0,
          258.00000000000006,
          264.0,
          270.00000000000006,
          276.00000000000006,
          282.0,
          288.00000000000006,
          294.0,
          300.0,
          306.00000000000006,
          312.00000000000006,
          318.00000000000006,
          324.0,
          330.00000000000006,
          336.00000000000006,
          342.0,
          348.00000000000006,
          354.0,
          360.0,
          366.00000000000006,
          372.00000000000006,
          378.00000000000006,
          384.0,
          390.00000000000006,
          396.00000000000006,
          402.0,
          408.00000000000006,
          414.0,
          420.00000000000006,
          426.00000000000006,
          432.00000000000006,
          438.00000000000006,
          444.0,
          450.00000000000006,
          456.00000000000006,
          462.0,
          468.00000000000006,
          474.0,
          480.0,
          486.0,
          491.99999999999994,
          498.00000000000006,
          504.0,
          510.0,
          516.0,
          522.0,
          528.0,
          534.0,
          540.0,
          546.0,
          552.0,
          557.9999999999999,
          564.0,
          570.0,
          576.0,
          582.0000000000001,
          587.9999999999999,
          593.9999999999999,
          600.0,
          606.0,
          612.0000000000001,
          618.0,
          624.0,
          630.0,
          636.0,
          642.0,
          648.0,
          654.0,
          660.0,
          666.0,
          672.0,
          677.9999999999999,
          684.0,
          690.0,
          696.0,
          702.0000000000001,
          707.9999999999999,
          713.9999999999999,
          720.0,
          726.0,
          732.0000000000001,
          738.0,
          744.0,
          750.0,
          756.0,
          762.0,
          768.0,
          774.0,
          780.0,
          786.0000000000001,
          792.0,
          797.9999999999999,
          804.0,
          810.0,
          816.0,
          822.0000000000001,
          827.9999999999999,
          834.0,
          840.0,
          846.0,
          852.0000000000001,
          858.0,
          864.0,
          870.0,
          876.0,
          882.0,
          888.0,
          894.0,
          900.0,
          906.0000000000001,
          912.0,
          917.9999999999999,
          924.0,
          930.0,
          936.0,
          942.0000000000002,
          948.0,
          954.0,
          960.0,
          966.0000000000001,
          972.0,
          977.9999999999998,
          984.0000000000001,
          990.0,
          996.0000000000001,
          1002.0,
          1008.0,
          1014.0000000000001,
          1020.0,
          1026.0,
          1032.0,
          1038.0,
          1044.0,
          1050.0,
          1056.0,
          1062.0,
          1068.0,
          1074.0,
          1080.0,
          1086.0,
          1092.0,
          1098.0,
          1104.0,
          1110.0,
          1116.0,
          1122.0000000000002,
          1128.0,
          1134.0,
          1140.0,
          1145.9999999999998,
          1152.0000000000002,
          1158.0,
          1164.0000000000002,
          1170.0,
          1175.9999999999998,
          1182.0,
          1188.0,
          1194.0000000000002
         ],
         "xaxis": "x",
         "y": [
          0.44427795463146696,
          0.47434756977764225,
          0.5043137760044086,
          0.5341765733117662,
          0.5639359616997145,
          0.5935919411682542,
          0.6231445117173846,
          0.6525936733471064,
          0.6819394260574191,
          0.7111817698483228,
          0.7403207047198176,
          0.7693562306719035,
          0.7982883477045805,
          0.8271170558178484,
          0.8558423550117075,
          0.8844642452861576,
          0.9129827266411988,
          0.941397799076831,
          0.9697094625930545,
          0.9979177171898687,
          1.0260225628672741,
          1.0540239996252705,
          1.0819220274638581,
          1.1097166463830368,
          1.1374078563828063,
          1.1649956574631672,
          1.192480049624119,
          1.2198610328656616,
          1.2471386071877955,
          1.2743127725905206,
          1.3013835290738367,
          1.3283508766377436,
          1.3552148152822416,
          1.3819753450073309,
          1.4086324658130114,
          1.4351861776992823,
          1.4616364806661448,
          1.4879833747135982,
          1.5142268598416428,
          1.5403669360502783,
          1.566403603339505,
          1.592336861709323,
          1.6181667111597318,
          1.643893151690731,
          1.669516183302322,
          1.6950358059945043,
          1.7204520197672766,
          1.745764824620641,
          1.770974220554596,
          1.796080207569142,
          1.8210827856642793,
          1.8459819548400072,
          1.8707777150963267,
          1.8954700664332367,
          1.9200590088507385,
          1.944544542348831,
          1.9689266669275145,
          1.9932053825867893,
          2.0173806893266555,
          2.0414525871471114,
          2.0654210760481586,
          2.0892861560297984,
          2.113047827092028,
          2.1367060892348495,
          2.160260942458261,
          2.183712386762264,
          2.2070604221468586,
          2.2303050486120433,
          2.2534462661578196,
          2.276484074784187,
          2.2994184744911452,
          2.3222494652786945,
          2.344977047146835,
          2.3676012200955667,
          2.3901219841248893,
          2.412539339234803,
          2.4348532854253087,
          2.457063822696403,
          2.4791709510480904,
          2.5011746704803683,
          2.523074980993237,
          2.544871882586697,
          2.566565375260748,
          2.58815545901539,
          2.6096421338506235,
          2.6310253997664472,
          2.6523052567628627,
          2.6734817048398694,
          2.6945547439974664,
          2.715524374235655,
          2.7363905955544348,
          2.7571534079538056,
          2.777812811433767,
          2.7983688059943197,
          2.8188213916354634,
          2.839170568357198,
          2.859416336159524,
          2.879558695042441,
          2.8995976450059486,
          2.9195331860500486,
          2.9393653181747386,
          2.95909404138002,
          2.9787193556658913,
          2.998241261032355,
          3.01765975747941,
          3.0369748450070553,
          3.056186523615292,
          3.075294793304119,
          3.0942996540735375,
          3.1132011059235474,
          3.1319991488541485,
          3.15069378286534,
          3.1692850079571224,
          3.1877728241294965,
          3.2061572313824613,
          3.2244382297160175,
          3.242615819130165,
          3.2606899996249026,
          3.278660771200232,
          3.2965281338561527,
          3.314292087592664,
          3.331952632409766,
          3.3495097683074597,
          3.366963495285743,
          3.38431381334462,
          3.4015607224840863,
          3.4187042227041435,
          3.435744314004792,
          3.4526809963860323,
          3.4695142698478634,
          3.486244134390285,
          3.502870590013298,
          3.519393636716902,
          3.535813274501097,
          3.552129503365883,
          3.5683423233112608,
          3.584451734337229,
          3.6004577364437877,
          3.616360329630939,
          3.6321595138986806,
          3.6478552892470115,
          3.663447655675936,
          3.67893661318545,
          3.6943221617755553,
          3.709604301446253,
          3.724783032197541,
          3.7398583540294204,
          3.7548302669418896,
          3.7696987709349505,
          3.784463866008602,
          3.799125552162845,
          3.8136838293976796,
          3.828138697713104,
          3.842490157109121,
          3.8567382075857286,
          3.8708828491429266,
          3.8849240817807167,
          3.898861905499097,
          3.912696320298069,
          3.9264273261776306,
          3.9400549231377844,
          3.953579111178529,
          3.966999890299865,
          3.980317260501792,
          3.99353122178431,
          4.006641774147419,
          4.01964891759112,
          4.0325526521154105,
          4.045352977720292,
          4.058049894405764,
          4.07064340217183,
          4.083133501018485,
          4.095520190945732,
          4.107803471953568,
          4.119983344041999,
          4.132059807211017,
          4.144032861460627,
          4.15590250679083,
          4.167668743201622,
          4.179331570693006,
          4.19089098926498,
          4.202346998917546,
          4.213699599650703,
          4.224948791464452,
          4.236094574358792,
          4.247136948333722,
          4.258075913389242,
          4.268911469525355,
          4.2796436167420575,
          4.290272355039352,
          4.300797684417237,
          4.311219604875715,
          4.321538116414781,
          4.33175321903444,
          4.34186491273469,
          4.351873197515531,
          4.361778073376962,
          4.371579540318985,
          4.381277598341599
         ],
         "yaxis": "y",
         "type": "scatter"
        }
       ],
       "layout": {
        "template": {
         "data": {
          "histogram2dcontour": [
           {
            "type": "histogram2dcontour",
            "colorbar": {
             "outlinewidth": 0,
             "ticks": ""
            },
            "colorscale": [
             [
              0.0,
              "#0d0887"
             ],
             [
              0.1111111111111111,
              "#46039f"
             ],
             [
              0.2222222222222222,
              "#7201a8"
             ],
             [
              0.3333333333333333,
              "#9c179e"
             ],
             [
              0.4444444444444444,
              "#bd3786"
             ],
             [
              0.5555555555555556,
              "#d8576b"
             ],
             [
              0.6666666666666666,
              "#ed7953"
             ],
             [
              0.7777777777777778,
              "#fb9f3a"
             ],
             [
              0.8888888888888888,
              "#fdca26"
             ],
             [
              1.0,
              "#f0f921"
             ]
            ]
           }
          ],
          "choropleth": [
           {
            "type": "choropleth",
            "colorbar": {
             "outlinewidth": 0,
             "ticks": ""
            }
           }
          ],
          "histogram2d": [
           {
            "type": "histogram2d",
            "colorbar": {
             "outlinewidth": 0,
             "ticks": ""
            },
            "colorscale": [
             [
              0.0,
              "#0d0887"
             ],
             [
              0.1111111111111111,
              "#46039f"
             ],
             [
              0.2222222222222222,
              "#7201a8"
             ],
             [
              0.3333333333333333,
              "#9c179e"
             ],
             [
              0.4444444444444444,
              "#bd3786"
             ],
             [
              0.5555555555555556,
              "#d8576b"
             ],
             [
              0.6666666666666666,
              "#ed7953"
             ],
             [
              0.7777777777777778,
              "#fb9f3a"
             ],
             [
              0.8888888888888888,
              "#fdca26"
             ],
             [
              1.0,
              "#f0f921"
             ]
            ]
           }
          ],
          "heatmap": [
           {
            "type": "heatmap",
            "colorbar": {
             "outlinewidth": 0,
             "ticks": ""
            },
            "colorscale": [
             [
              0.0,
              "#0d0887"
             ],
             [
              0.1111111111111111,
              "#46039f"
             ],
             [
              0.2222222222222222,
              "#7201a8"
             ],
             [
              0.3333333333333333,
              "#9c179e"
             ],
             [
              0.4444444444444444,
              "#bd3786"
             ],
             [
              0.5555555555555556,
              "#d8576b"
             ],
             [
              0.6666666666666666,
              "#ed7953"
             ],
             [
              0.7777777777777778,
              "#fb9f3a"
             ],
             [
              0.8888888888888888,
              "#fdca26"
             ],
             [
              1.0,
              "#f0f921"
             ]
            ]
           }
          ],
          "heatmapgl": [
           {
            "type": "heatmapgl",
            "colorbar": {
             "outlinewidth": 0,
             "ticks": ""
            },
            "colorscale": [
             [
              0.0,
              "#0d0887"
             ],
             [
              0.1111111111111111,
              "#46039f"
             ],
             [
              0.2222222222222222,
              "#7201a8"
             ],
             [
              0.3333333333333333,
              "#9c179e"
             ],
             [
              0.4444444444444444,
              "#bd3786"
             ],
             [
              0.5555555555555556,
              "#d8576b"
             ],
             [
              0.6666666666666666,
              "#ed7953"
             ],
             [
              0.7777777777777778,
              "#fb9f3a"
             ],
             [
              0.8888888888888888,
              "#fdca26"
             ],
             [
              1.0,
              "#f0f921"
             ]
            ]
           }
          ],
          "contourcarpet": [
           {
            "type": "contourcarpet",
            "colorbar": {
             "outlinewidth": 0,
             "ticks": ""
            }
           }
          ],
          "contour": [
           {
            "type": "contour",
            "colorbar": {
             "outlinewidth": 0,
             "ticks": ""
            },
            "colorscale": [
             [
              0.0,
              "#0d0887"
             ],
             [
              0.1111111111111111,
              "#46039f"
             ],
             [
              0.2222222222222222,
              "#7201a8"
             ],
             [
              0.3333333333333333,
              "#9c179e"
             ],
             [
              0.4444444444444444,
              "#bd3786"
             ],
             [
              0.5555555555555556,
              "#d8576b"
             ],
             [
              0.6666666666666666,
              "#ed7953"
             ],
             [
              0.7777777777777778,
              "#fb9f3a"
             ],
             [
              0.8888888888888888,
              "#fdca26"
             ],
             [
              1.0,
              "#f0f921"
             ]
            ]
           }
          ],
          "surface": [
           {
            "type": "surface",
            "colorbar": {
             "outlinewidth": 0,
             "ticks": ""
            },
            "colorscale": [
             [
              0.0,
              "#0d0887"
             ],
             [
              0.1111111111111111,
              "#46039f"
             ],
             [
              0.2222222222222222,
              "#7201a8"
             ],
             [
              0.3333333333333333,
              "#9c179e"
             ],
             [
              0.4444444444444444,
              "#bd3786"
             ],
             [
              0.5555555555555556,
              "#d8576b"
             ],
             [
              0.6666666666666666,
              "#ed7953"
             ],
             [
              0.7777777777777778,
              "#fb9f3a"
             ],
             [
              0.8888888888888888,
              "#fdca26"
             ],
             [
              1.0,
              "#f0f921"
             ]
            ]
           }
          ],
          "mesh3d": [
           {
            "type": "mesh3d",
            "colorbar": {
             "outlinewidth": 0,
             "ticks": ""
            }
           }
          ],
          "scatter": [
           {
            "marker": {
             "line": {
              "color": "#283442"
             }
            },
            "type": "scatter"
           }
          ],
          "parcoords": [
           {
            "type": "parcoords",
            "line": {
             "colorbar": {
              "outlinewidth": 0,
              "ticks": ""
             }
            }
           }
          ],
          "scatterpolargl": [
           {
            "type": "scatterpolargl",
            "marker": {
             "colorbar": {
              "outlinewidth": 0,
              "ticks": ""
             }
            }
           }
          ],
          "bar": [
           {
            "error_x": {
             "color": "#f2f5fa"
            },
            "error_y": {
             "color": "#f2f5fa"
            },
            "marker": {
             "line": {
              "color": "rgb(17,17,17)",
              "width": 0.5
             },
             "pattern": {
              "fillmode": "overlay",
              "size": 10,
              "solidity": 0.2
             }
            },
            "type": "bar"
           }
          ],
          "scattergeo": [
           {
            "type": "scattergeo",
            "marker": {
             "colorbar": {
              "outlinewidth": 0,
              "ticks": ""
             }
            }
           }
          ],
          "scatterpolar": [
           {
            "type": "scatterpolar",
            "marker": {
             "colorbar": {
              "outlinewidth": 0,
              "ticks": ""
             }
            }
           }
          ],
          "histogram": [
           {
            "marker": {
             "pattern": {
              "fillmode": "overlay",
              "size": 10,
              "solidity": 0.2
             }
            },
            "type": "histogram"
           }
          ],
          "scattergl": [
           {
            "marker": {
             "line": {
              "color": "#283442"
             }
            },
            "type": "scattergl"
           }
          ],
          "scatter3d": [
           {
            "type": "scatter3d",
            "line": {
             "colorbar": {
              "outlinewidth": 0,
              "ticks": ""
             }
            },
            "marker": {
             "colorbar": {
              "outlinewidth": 0,
              "ticks": ""
             }
            }
           }
          ],
          "scattermapbox": [
           {
            "type": "scattermapbox",
            "marker": {
             "colorbar": {
              "outlinewidth": 0,
              "ticks": ""
             }
            }
           }
          ],
          "scatterternary": [
           {
            "type": "scatterternary",
            "marker": {
             "colorbar": {
              "outlinewidth": 0,
              "ticks": ""
             }
            }
           }
          ],
          "scattercarpet": [
           {
            "type": "scattercarpet",
            "marker": {
             "colorbar": {
              "outlinewidth": 0,
              "ticks": ""
             }
            }
           }
          ],
          "carpet": [
           {
            "aaxis": {
             "endlinecolor": "#A2B1C6",
             "gridcolor": "#506784",
             "linecolor": "#506784",
             "minorgridcolor": "#506784",
             "startlinecolor": "#A2B1C6"
            },
            "baxis": {
             "endlinecolor": "#A2B1C6",
             "gridcolor": "#506784",
             "linecolor": "#506784",
             "minorgridcolor": "#506784",
             "startlinecolor": "#A2B1C6"
            },
            "type": "carpet"
           }
          ],
          "table": [
           {
            "cells": {
             "fill": {
              "color": "#506784"
             },
             "line": {
              "color": "rgb(17,17,17)"
             }
            },
            "header": {
             "fill": {
              "color": "#2a3f5f"
             },
             "line": {
              "color": "rgb(17,17,17)"
             }
            },
            "type": "table"
           }
          ],
          "barpolar": [
           {
            "marker": {
             "line": {
              "color": "rgb(17,17,17)",
              "width": 0.5
             },
             "pattern": {
              "fillmode": "overlay",
              "size": 10,
              "solidity": 0.2
             }
            },
            "type": "barpolar"
           }
          ],
          "pie": [
           {
            "automargin": true,
            "type": "pie"
           }
          ]
         },
         "layout": {
          "autotypenumbers": "strict",
          "colorway": [
           "#636efa",
           "#EF553B",
           "#00cc96",
           "#ab63fa",
           "#FFA15A",
           "#19d3f3",
           "#FF6692",
           "#B6E880",
           "#FF97FF",
           "#FECB52"
          ],
          "font": {
           "color": "#f2f5fa"
          },
          "hovermode": "closest",
          "hoverlabel": {
           "align": "left"
          },
          "paper_bgcolor": "rgb(17,17,17)",
          "plot_bgcolor": "rgb(17,17,17)",
          "polar": {
           "bgcolor": "rgb(17,17,17)",
           "angularaxis": {
            "gridcolor": "#506784",
            "linecolor": "#506784",
            "ticks": ""
           },
           "radialaxis": {
            "gridcolor": "#506784",
            "linecolor": "#506784",
            "ticks": ""
           }
          },
          "ternary": {
           "bgcolor": "rgb(17,17,17)",
           "aaxis": {
            "gridcolor": "#506784",
            "linecolor": "#506784",
            "ticks": ""
           },
           "baxis": {
            "gridcolor": "#506784",
            "linecolor": "#506784",
            "ticks": ""
           },
           "caxis": {
            "gridcolor": "#506784",
            "linecolor": "#506784",
            "ticks": ""
           }
          },
          "coloraxis": {
           "colorbar": {
            "outlinewidth": 0,
            "ticks": ""
           }
          },
          "colorscale": {
           "sequential": [
            [
             0.0,
             "#0d0887"
            ],
            [
             0.1111111111111111,
             "#46039f"
            ],
            [
             0.2222222222222222,
             "#7201a8"
            ],
            [
             0.3333333333333333,
             "#9c179e"
            ],
            [
             0.4444444444444444,
             "#bd3786"
            ],
            [
             0.5555555555555556,
             "#d8576b"
            ],
            [
             0.6666666666666666,
             "#ed7953"
            ],
            [
             0.7777777777777778,
             "#fb9f3a"
            ],
            [
             0.8888888888888888,
             "#fdca26"
            ],
            [
             1.0,
             "#f0f921"
            ]
           ],
           "sequentialminus": [
            [
             0.0,
             "#0d0887"
            ],
            [
             0.1111111111111111,
             "#46039f"
            ],
            [
             0.2222222222222222,
             "#7201a8"
            ],
            [
             0.3333333333333333,
             "#9c179e"
            ],
            [
             0.4444444444444444,
             "#bd3786"
            ],
            [
             0.5555555555555556,
             "#d8576b"
            ],
            [
             0.6666666666666666,
             "#ed7953"
            ],
            [
             0.7777777777777778,
             "#fb9f3a"
            ],
            [
             0.8888888888888888,
             "#fdca26"
            ],
            [
             1.0,
             "#f0f921"
            ]
           ],
           "diverging": [
            [
             0,
             "#8e0152"
            ],
            [
             0.1,
             "#c51b7d"
            ],
            [
             0.2,
             "#de77ae"
            ],
            [
             0.3,
             "#f1b6da"
            ],
            [
             0.4,
             "#fde0ef"
            ],
            [
             0.5,
             "#f7f7f7"
            ],
            [
             0.6,
             "#e6f5d0"
            ],
            [
             0.7,
             "#b8e186"
            ],
            [
             0.8,
             "#7fbc41"
            ],
            [
             0.9,
             "#4d9221"
            ],
            [
             1,
             "#276419"
            ]
           ]
          },
          "xaxis": {
           "gridcolor": "#283442",
           "linecolor": "#506784",
           "ticks": "",
           "title": {
            "standoff": 15
           },
           "zerolinecolor": "#283442",
           "automargin": true,
           "zerolinewidth": 2
          },
          "yaxis": {
           "gridcolor": "#283442",
           "linecolor": "#506784",
           "ticks": "",
           "title": {
            "standoff": 15
           },
           "zerolinecolor": "#283442",
           "automargin": true,
           "zerolinewidth": 2
          },
          "scene": {
           "xaxis": {
            "backgroundcolor": "rgb(17,17,17)",
            "gridcolor": "#506784",
            "linecolor": "#506784",
            "showbackground": true,
            "ticks": "",
            "zerolinecolor": "#C8D4E3",
            "gridwidth": 2
           },
           "yaxis": {
            "backgroundcolor": "rgb(17,17,17)",
            "gridcolor": "#506784",
            "linecolor": "#506784",
            "showbackground": true,
            "ticks": "",
            "zerolinecolor": "#C8D4E3",
            "gridwidth": 2
           },
           "zaxis": {
            "backgroundcolor": "rgb(17,17,17)",
            "gridcolor": "#506784",
            "linecolor": "#506784",
            "showbackground": true,
            "ticks": "",
            "zerolinecolor": "#C8D4E3",
            "gridwidth": 2
           }
          },
          "shapedefaults": {
           "line": {
            "color": "#f2f5fa"
           }
          },
          "annotationdefaults": {
           "arrowcolor": "#f2f5fa",
           "arrowhead": 0,
           "arrowwidth": 1
          },
          "geo": {
           "bgcolor": "rgb(17,17,17)",
           "landcolor": "rgb(17,17,17)",
           "subunitcolor": "#506784",
           "showland": true,
           "showlakes": true,
           "lakecolor": "rgb(17,17,17)"
          },
          "title": {
           "x": 0.05
          },
          "updatemenudefaults": {
           "bgcolor": "#506784",
           "borderwidth": 0
          },
          "sliderdefaults": {
           "bgcolor": "#C8D4E3",
           "borderwidth": 1,
           "bordercolor": "rgb(17,17,17)",
           "tickwidth": 0
          },
          "mapbox": {
           "style": "dark"
          }
         }
        },
        "xaxis": {
         "anchor": "y",
         "domain": [
          0.0,
          1.0
         ],
         "title": {
          "text": "Flow [l/min]"
         }
        },
        "yaxis": {
         "anchor": "x",
         "domain": [
          0.0,
          1.0
         ],
         "title": {
          "text": "Power in"
         }
        },
        "legend": {
         "title": {
          "text": "Speed"
         },
         "tracegroupgap": 0
        },
        "title": {
         "text": "Power in"
        }
       },
       "config": {
        "plotlyServerURL": "https://plot.ly"
       }
      },
      "text/html": "<div>                            <div id=\"8015f716-b8e9-4f67-8867-179272eafd56\" class=\"plotly-graph-div\" style=\"height:525px; width:100%;\"></div>            <script type=\"text/javascript\">                require([\"plotly\"], function(Plotly) {                    window.PLOTLYENV=window.PLOTLYENV || {};                                    if (document.getElementById(\"8015f716-b8e9-4f67-8867-179272eafd56\")) {                    Plotly.newPlot(                        \"8015f716-b8e9-4f67-8867-179272eafd56\",                        [{\"hovertemplate\":\"Speed=1200<br>Flow [l/min]=%{x}<br>Power in=%{y}<extra></extra>\",\"legendgroup\":\"1200\",\"line\":{\"color\":\"#636efa\",\"dash\":\"solid\"},\"marker\":{\"symbol\":\"circle\"},\"mode\":\"lines\",\"name\":\"1200\",\"orientation\":\"v\",\"showlegend\":true,\"x\":[6.0,12.0,18.000000000000004,24.0,30.0,36.00000000000001,42.00000000000001,48.0,54.00000000000001,60.0,66.0,72.00000000000001,78.00000000000001,84.00000000000001,90.0,96.0,102.00000000000001,108.00000000000001,114.00000000000001,120.0,126.0,132.0,138.0,144.0,150.0,156.0,162.0,168.0,174.0,180.0,186.0,192.0,198.0,204.0,210.0,216.0,222.0,228.0,234.0,240.0,246.00000000000003,252.0,258.00000000000006,264.0,270.00000000000006,276.00000000000006,282.0,288.00000000000006,294.0,300.0,306.00000000000006,312.00000000000006,318.00000000000006,324.0,330.00000000000006,336.00000000000006,342.0,348.00000000000006,354.0,360.0,366.00000000000006,372.00000000000006,378.00000000000006,384.0,390.00000000000006,396.00000000000006,402.0,408.00000000000006,414.0,420.00000000000006,426.00000000000006,432.00000000000006,438.00000000000006,444.0,450.00000000000006,456.00000000000006,462.0,468.00000000000006,474.0,480.0,486.0,491.99999999999994,498.00000000000006,504.0,510.0,516.0,522.0,528.0,534.0,540.0,546.0,552.0,557.9999999999999,564.0,570.0,576.0,582.0000000000001,587.9999999999999,593.9999999999999,600.0,606.0,612.0000000000001,618.0,624.0,630.0,636.0,642.0,648.0,654.0,660.0,666.0,672.0,677.9999999999999,684.0,690.0,696.0,702.0000000000001,707.9999999999999,713.9999999999999,720.0,726.0,732.0000000000001,738.0,744.0,750.0,756.0,762.0,768.0,774.0,780.0,786.0000000000001,792.0,797.9999999999999,804.0,810.0,816.0,822.0000000000001,827.9999999999999,834.0,840.0,846.0,852.0000000000001,858.0,864.0,870.0,876.0,882.0,888.0,894.0,900.0,906.0000000000001,912.0,917.9999999999999,924.0,930.0,936.0,942.0000000000002,948.0,954.0,960.0,966.0000000000001,972.0,977.9999999999998,984.0000000000001,990.0,996.0000000000001,1002.0,1008.0,1014.0000000000001,1020.0,1026.0,1032.0,1038.0,1044.0,1050.0,1056.0,1062.0,1068.0,1074.0,1080.0,1086.0,1092.0,1098.0,1104.0,1110.0,1116.0,1122.0000000000002,1128.0,1134.0,1140.0,1145.9999999999998,1152.0000000000002,1158.0,1164.0000000000002,1170.0,1175.9999999999998,1182.0,1188.0,1194.0000000000002],\"xaxis\":\"x\",\"y\":[0.14247549596690148,0.15580529972539864,0.16906616420428985,0.18225808940357507,0.19538107532325438,0.20843512196332767,0.22142022932379504,0.2343363974046564,0.2471836262059119,0.2599619157275613,0.2726712659696048,0.28531167693204235,0.297883148614874,0.3103856810180996,0.32281927414171924,0.33518392798573293,0.34747964255014074,0.3597064178349425,0.3718642538401383,0.38395315056572815,0.39597310801171204,0.40792412617809,0.41980620506486194,0.4316193446720279,0.443363544999588,0.45503880604754215,0.4666451278158903,0.47818251030463244,0.4896509535137686,0.501050457443299,0.5123810220932232,0.5236426474635416,0.5348353335542539,0.5459590803653603,0.5570138878968608,0.5679997561487553,0.5789166851210439,0.5897646748137265,0.600543725226803,0.6112538363602736,0.6218950082141383,0.632467240788397,0.6429705340830498,0.6534048880980965,0.6637703028335374,0.6740667782893724,0.6842943144656013,0.6944529113622243,0.7045425689792414,0.7145632873166523,0.7245150663744573,0.7343979061526565,0.7442118066512496,0.7539567678702369,0.7636327898096184,0.7732398724693933,0.7827780158495627,0.7922472199501263,0.8016474847710836,0.8109788103124347,0.8202411965741804,0.82943464355632,0.8385591512588535,0.847614719681781,0.8566013488251026,0.8655190386888184,0.8743677892729279,0.8831476005774318,0.8918584726023299,0.9005004053476214,0.9090733988133072,0.9175774529993873,0.9260125679058613,0.934378743532729,0.9426759798799913,0.9509042769476473,0.9590636347356972,0.9671540532441413,0.9751755324729797,0.9831280724222118,0.9910116730918378,0.9988263344818581,1.0065720565922727,1.014248839423081,1.0218566829742834,1.0293955872458798,1.0368655522378705,1.0442665779502551,1.0515986643830335,1.0588618115362063,1.0660560194097728,1.0731812880037335,1.0802376173180885,1.087225007352837,1.0941434581079799,1.1009929695835166,1.1077735417794479,1.1144851746957725,1.1211278683324912,1.1277016226896046,1.1342064377671115,1.1406423135650128,1.1470092500833078,1.1533072473219967,1.1595363052810803,1.1656964239605574,1.1717876033604286,1.177809843480694,1.1837631443213534,1.1896475058824068,1.1954629281638542,1.2012094111656957,1.2068869548879313,1.2124955593305609,1.2180352244935846,1.2235059503770018,1.2289077369808137,1.234240584305019,1.239504492349619,1.244699461114613,1.2498254906000006,1.2548825808057824,1.2598707317319584,1.2647899433785286,1.2696402157454927,1.2744215488328507,1.2791339426406025,1.2837773971687487,1.288351912417289,1.2928574883862232,1.2972941250755514,1.3016618224852732,1.3059605806153898,1.3101903994659003,1.3143512790368046,1.318443219328103,1.3224662203397954,1.326420282071882,1.3303054045243625,1.3341215876972372,1.3378688315905056,1.3415471362041684,1.345156501538225,1.3486969275926755,1.3521684143675208,1.3555709618627592,1.358904570078392,1.3621692390144189,1.3653649686708402,1.3684917590476553,1.3715496101448639,1.3745385219624673,1.3774584945004642,1.3803095277588553,1.3830916217376406,1.3858047764368198,1.388448991856393,1.3910242679963603,1.3935306048567213,1.395968002437477,1.3983364607386264,1.4006359797601697,1.402866559502107,1.405028199964439,1.4071209011471644,1.409144663050284,1.4110994856737977,1.4129853690177054,1.414802313082007,1.4165503178667027,1.4182293833717927,1.4198395095972762,1.4213806965431544,1.4228529442094262,1.424256252596092,1.4255906217031522,1.4268560515306061,1.4280525420784542,1.4291800933466963,1.4302387053353325,1.4312283780443629,1.4321491114737872,1.4330009056236053,1.4337837604938175,1.434497676084424,1.4351426523954245,1.4357186894268186,1.436225787178607,1.4366639456507897,1.4370331648433665,1.4373334447563368,1.4375647853897016,1.4377271867434602,1.4378206488176128,1.4378451716121592,1.4378007551271004,1.4376873993624353,1.4375051043181641,1.4372538699942867],\"yaxis\":\"y\",\"type\":\"scatter\"},{\"hovertemplate\":\"Speed=1800<br>Flow [l/min]=%{x}<br>Power in=%{y}<extra></extra>\",\"legendgroup\":\"1800\",\"line\":{\"color\":\"#EF553B\",\"dash\":\"solid\"},\"marker\":{\"symbol\":\"circle\"},\"mode\":\"lines\",\"name\":\"1800\",\"orientation\":\"v\",\"showlegend\":true,\"x\":[6.0,12.0,18.000000000000004,24.0,30.0,36.00000000000001,42.00000000000001,48.0,54.00000000000001,60.0,66.0,72.00000000000001,78.00000000000001,84.00000000000001,90.0,96.0,102.00000000000001,108.00000000000001,114.00000000000001,120.0,126.0,132.0,138.0,144.0,150.0,156.0,162.0,168.0,174.0,180.0,186.0,192.0,198.0,204.0,210.0,216.0,222.0,228.0,234.0,240.0,246.00000000000003,252.0,258.00000000000006,264.0,270.00000000000006,276.00000000000006,282.0,288.00000000000006,294.0,300.0,306.00000000000006,312.00000000000006,318.00000000000006,324.0,330.00000000000006,336.00000000000006,342.0,348.00000000000006,354.0,360.0,366.00000000000006,372.00000000000006,378.00000000000006,384.0,390.00000000000006,396.00000000000006,402.0,408.00000000000006,414.0,420.00000000000006,426.00000000000006,432.00000000000006,438.00000000000006,444.0,450.00000000000006,456.00000000000006,462.0,468.00000000000006,474.0,480.0,486.0,491.99999999999994,498.00000000000006,504.0,510.0,516.0,522.0,528.0,534.0,540.0,546.0,552.0,557.9999999999999,564.0,570.0,576.0,582.0000000000001,587.9999999999999,593.9999999999999,600.0,606.0,612.0000000000001,618.0,624.0,630.0,636.0,642.0,648.0,654.0,660.0,666.0,672.0,677.9999999999999,684.0,690.0,696.0,702.0000000000001,707.9999999999999,713.9999999999999,720.0,726.0,732.0000000000001,738.0,744.0,750.0,756.0,762.0,768.0,774.0,780.0,786.0000000000001,792.0,797.9999999999999,804.0,810.0,816.0,822.0000000000001,827.9999999999999,834.0,840.0,846.0,852.0000000000001,858.0,864.0,870.0,876.0,882.0,888.0,894.0,900.0,906.0000000000001,912.0,917.9999999999999,924.0,930.0,936.0,942.0000000000002,948.0,954.0,960.0,966.0000000000001,972.0,977.9999999999998,984.0000000000001,990.0,996.0000000000001,1002.0,1008.0,1014.0000000000001,1020.0,1026.0,1032.0,1038.0,1044.0,1050.0,1056.0,1062.0,1068.0,1074.0,1080.0,1086.0,1092.0,1098.0,1104.0,1110.0,1116.0,1122.0000000000002,1128.0,1134.0,1140.0,1145.9999999999998,1152.0000000000002,1158.0,1164.0000000000002,1170.0,1175.9999999999998,1182.0,1188.0,1194.0000000000002],\"xaxis\":\"x\",\"y\":[0.44427795463146696,0.47434756977764225,0.5043137760044086,0.5341765733117662,0.5639359616997145,0.5935919411682542,0.6231445117173846,0.6525936733471064,0.6819394260574191,0.7111817698483228,0.7403207047198176,0.7693562306719035,0.7982883477045805,0.8271170558178484,0.8558423550117075,0.8844642452861576,0.9129827266411988,0.941397799076831,0.9697094625930545,0.9979177171898687,1.0260225628672741,1.0540239996252705,1.0819220274638581,1.1097166463830368,1.1374078563828063,1.1649956574631672,1.192480049624119,1.2198610328656616,1.2471386071877955,1.2743127725905206,1.3013835290738367,1.3283508766377436,1.3552148152822416,1.3819753450073309,1.4086324658130114,1.4351861776992823,1.4616364806661448,1.4879833747135982,1.5142268598416428,1.5403669360502783,1.566403603339505,1.592336861709323,1.6181667111597318,1.643893151690731,1.669516183302322,1.6950358059945043,1.7204520197672766,1.745764824620641,1.770974220554596,1.796080207569142,1.8210827856642793,1.8459819548400072,1.8707777150963267,1.8954700664332367,1.9200590088507385,1.944544542348831,1.9689266669275145,1.9932053825867893,2.0173806893266555,2.0414525871471114,2.0654210760481586,2.0892861560297984,2.113047827092028,2.1367060892348495,2.160260942458261,2.183712386762264,2.2070604221468586,2.2303050486120433,2.2534462661578196,2.276484074784187,2.2994184744911452,2.3222494652786945,2.344977047146835,2.3676012200955667,2.3901219841248893,2.412539339234803,2.4348532854253087,2.457063822696403,2.4791709510480904,2.5011746704803683,2.523074980993237,2.544871882586697,2.566565375260748,2.58815545901539,2.6096421338506235,2.6310253997664472,2.6523052567628627,2.6734817048398694,2.6945547439974664,2.715524374235655,2.7363905955544348,2.7571534079538056,2.777812811433767,2.7983688059943197,2.8188213916354634,2.839170568357198,2.859416336159524,2.879558695042441,2.8995976450059486,2.9195331860500486,2.9393653181747386,2.95909404138002,2.9787193556658913,2.998241261032355,3.01765975747941,3.0369748450070553,3.056186523615292,3.075294793304119,3.0942996540735375,3.1132011059235474,3.1319991488541485,3.15069378286534,3.1692850079571224,3.1877728241294965,3.2061572313824613,3.2244382297160175,3.242615819130165,3.2606899996249026,3.278660771200232,3.2965281338561527,3.314292087592664,3.331952632409766,3.3495097683074597,3.366963495285743,3.38431381334462,3.4015607224840863,3.4187042227041435,3.435744314004792,3.4526809963860323,3.4695142698478634,3.486244134390285,3.502870590013298,3.519393636716902,3.535813274501097,3.552129503365883,3.5683423233112608,3.584451734337229,3.6004577364437877,3.616360329630939,3.6321595138986806,3.6478552892470115,3.663447655675936,3.67893661318545,3.6943221617755553,3.709604301446253,3.724783032197541,3.7398583540294204,3.7548302669418896,3.7696987709349505,3.784463866008602,3.799125552162845,3.8136838293976796,3.828138697713104,3.842490157109121,3.8567382075857286,3.8708828491429266,3.8849240817807167,3.898861905499097,3.912696320298069,3.9264273261776306,3.9400549231377844,3.953579111178529,3.966999890299865,3.980317260501792,3.99353122178431,4.006641774147419,4.01964891759112,4.0325526521154105,4.045352977720292,4.058049894405764,4.07064340217183,4.083133501018485,4.095520190945732,4.107803471953568,4.119983344041999,4.132059807211017,4.144032861460627,4.15590250679083,4.167668743201622,4.179331570693006,4.19089098926498,4.202346998917546,4.213699599650703,4.224948791464452,4.236094574358792,4.247136948333722,4.258075913389242,4.268911469525355,4.2796436167420575,4.290272355039352,4.300797684417237,4.311219604875715,4.321538116414781,4.33175321903444,4.34186491273469,4.351873197515531,4.361778073376962,4.371579540318985,4.381277598341599],\"yaxis\":\"y\",\"type\":\"scatter\"}],                        {\"template\":{\"data\":{\"histogram2dcontour\":[{\"type\":\"histogram2dcontour\",\"colorbar\":{\"outlinewidth\":0,\"ticks\":\"\"},\"colorscale\":[[0.0,\"#0d0887\"],[0.1111111111111111,\"#46039f\"],[0.2222222222222222,\"#7201a8\"],[0.3333333333333333,\"#9c179e\"],[0.4444444444444444,\"#bd3786\"],[0.5555555555555556,\"#d8576b\"],[0.6666666666666666,\"#ed7953\"],[0.7777777777777778,\"#fb9f3a\"],[0.8888888888888888,\"#fdca26\"],[1.0,\"#f0f921\"]]}],\"choropleth\":[{\"type\":\"choropleth\",\"colorbar\":{\"outlinewidth\":0,\"ticks\":\"\"}}],\"histogram2d\":[{\"type\":\"histogram2d\",\"colorbar\":{\"outlinewidth\":0,\"ticks\":\"\"},\"colorscale\":[[0.0,\"#0d0887\"],[0.1111111111111111,\"#46039f\"],[0.2222222222222222,\"#7201a8\"],[0.3333333333333333,\"#9c179e\"],[0.4444444444444444,\"#bd3786\"],[0.5555555555555556,\"#d8576b\"],[0.6666666666666666,\"#ed7953\"],[0.7777777777777778,\"#fb9f3a\"],[0.8888888888888888,\"#fdca26\"],[1.0,\"#f0f921\"]]}],\"heatmap\":[{\"type\":\"heatmap\",\"colorbar\":{\"outlinewidth\":0,\"ticks\":\"\"},\"colorscale\":[[0.0,\"#0d0887\"],[0.1111111111111111,\"#46039f\"],[0.2222222222222222,\"#7201a8\"],[0.3333333333333333,\"#9c179e\"],[0.4444444444444444,\"#bd3786\"],[0.5555555555555556,\"#d8576b\"],[0.6666666666666666,\"#ed7953\"],[0.7777777777777778,\"#fb9f3a\"],[0.8888888888888888,\"#fdca26\"],[1.0,\"#f0f921\"]]}],\"heatmapgl\":[{\"type\":\"heatmapgl\",\"colorbar\":{\"outlinewidth\":0,\"ticks\":\"\"},\"colorscale\":[[0.0,\"#0d0887\"],[0.1111111111111111,\"#46039f\"],[0.2222222222222222,\"#7201a8\"],[0.3333333333333333,\"#9c179e\"],[0.4444444444444444,\"#bd3786\"],[0.5555555555555556,\"#d8576b\"],[0.6666666666666666,\"#ed7953\"],[0.7777777777777778,\"#fb9f3a\"],[0.8888888888888888,\"#fdca26\"],[1.0,\"#f0f921\"]]}],\"contourcarpet\":[{\"type\":\"contourcarpet\",\"colorbar\":{\"outlinewidth\":0,\"ticks\":\"\"}}],\"contour\":[{\"type\":\"contour\",\"colorbar\":{\"outlinewidth\":0,\"ticks\":\"\"},\"colorscale\":[[0.0,\"#0d0887\"],[0.1111111111111111,\"#46039f\"],[0.2222222222222222,\"#7201a8\"],[0.3333333333333333,\"#9c179e\"],[0.4444444444444444,\"#bd3786\"],[0.5555555555555556,\"#d8576b\"],[0.6666666666666666,\"#ed7953\"],[0.7777777777777778,\"#fb9f3a\"],[0.8888888888888888,\"#fdca26\"],[1.0,\"#f0f921\"]]}],\"surface\":[{\"type\":\"surface\",\"colorbar\":{\"outlinewidth\":0,\"ticks\":\"\"},\"colorscale\":[[0.0,\"#0d0887\"],[0.1111111111111111,\"#46039f\"],[0.2222222222222222,\"#7201a8\"],[0.3333333333333333,\"#9c179e\"],[0.4444444444444444,\"#bd3786\"],[0.5555555555555556,\"#d8576b\"],[0.6666666666666666,\"#ed7953\"],[0.7777777777777778,\"#fb9f3a\"],[0.8888888888888888,\"#fdca26\"],[1.0,\"#f0f921\"]]}],\"mesh3d\":[{\"type\":\"mesh3d\",\"colorbar\":{\"outlinewidth\":0,\"ticks\":\"\"}}],\"scatter\":[{\"marker\":{\"line\":{\"color\":\"#283442\"}},\"type\":\"scatter\"}],\"parcoords\":[{\"type\":\"parcoords\",\"line\":{\"colorbar\":{\"outlinewidth\":0,\"ticks\":\"\"}}}],\"scatterpolargl\":[{\"type\":\"scatterpolargl\",\"marker\":{\"colorbar\":{\"outlinewidth\":0,\"ticks\":\"\"}}}],\"bar\":[{\"error_x\":{\"color\":\"#f2f5fa\"},\"error_y\":{\"color\":\"#f2f5fa\"},\"marker\":{\"line\":{\"color\":\"rgb(17,17,17)\",\"width\":0.5},\"pattern\":{\"fillmode\":\"overlay\",\"size\":10,\"solidity\":0.2}},\"type\":\"bar\"}],\"scattergeo\":[{\"type\":\"scattergeo\",\"marker\":{\"colorbar\":{\"outlinewidth\":0,\"ticks\":\"\"}}}],\"scatterpolar\":[{\"type\":\"scatterpolar\",\"marker\":{\"colorbar\":{\"outlinewidth\":0,\"ticks\":\"\"}}}],\"histogram\":[{\"marker\":{\"pattern\":{\"fillmode\":\"overlay\",\"size\":10,\"solidity\":0.2}},\"type\":\"histogram\"}],\"scattergl\":[{\"marker\":{\"line\":{\"color\":\"#283442\"}},\"type\":\"scattergl\"}],\"scatter3d\":[{\"type\":\"scatter3d\",\"line\":{\"colorbar\":{\"outlinewidth\":0,\"ticks\":\"\"}},\"marker\":{\"colorbar\":{\"outlinewidth\":0,\"ticks\":\"\"}}}],\"scattermapbox\":[{\"type\":\"scattermapbox\",\"marker\":{\"colorbar\":{\"outlinewidth\":0,\"ticks\":\"\"}}}],\"scatterternary\":[{\"type\":\"scatterternary\",\"marker\":{\"colorbar\":{\"outlinewidth\":0,\"ticks\":\"\"}}}],\"scattercarpet\":[{\"type\":\"scattercarpet\",\"marker\":{\"colorbar\":{\"outlinewidth\":0,\"ticks\":\"\"}}}],\"carpet\":[{\"aaxis\":{\"endlinecolor\":\"#A2B1C6\",\"gridcolor\":\"#506784\",\"linecolor\":\"#506784\",\"minorgridcolor\":\"#506784\",\"startlinecolor\":\"#A2B1C6\"},\"baxis\":{\"endlinecolor\":\"#A2B1C6\",\"gridcolor\":\"#506784\",\"linecolor\":\"#506784\",\"minorgridcolor\":\"#506784\",\"startlinecolor\":\"#A2B1C6\"},\"type\":\"carpet\"}],\"table\":[{\"cells\":{\"fill\":{\"color\":\"#506784\"},\"line\":{\"color\":\"rgb(17,17,17)\"}},\"header\":{\"fill\":{\"color\":\"#2a3f5f\"},\"line\":{\"color\":\"rgb(17,17,17)\"}},\"type\":\"table\"}],\"barpolar\":[{\"marker\":{\"line\":{\"color\":\"rgb(17,17,17)\",\"width\":0.5},\"pattern\":{\"fillmode\":\"overlay\",\"size\":10,\"solidity\":0.2}},\"type\":\"barpolar\"}],\"pie\":[{\"automargin\":true,\"type\":\"pie\"}]},\"layout\":{\"autotypenumbers\":\"strict\",\"colorway\":[\"#636efa\",\"#EF553B\",\"#00cc96\",\"#ab63fa\",\"#FFA15A\",\"#19d3f3\",\"#FF6692\",\"#B6E880\",\"#FF97FF\",\"#FECB52\"],\"font\":{\"color\":\"#f2f5fa\"},\"hovermode\":\"closest\",\"hoverlabel\":{\"align\":\"left\"},\"paper_bgcolor\":\"rgb(17,17,17)\",\"plot_bgcolor\":\"rgb(17,17,17)\",\"polar\":{\"bgcolor\":\"rgb(17,17,17)\",\"angularaxis\":{\"gridcolor\":\"#506784\",\"linecolor\":\"#506784\",\"ticks\":\"\"},\"radialaxis\":{\"gridcolor\":\"#506784\",\"linecolor\":\"#506784\",\"ticks\":\"\"}},\"ternary\":{\"bgcolor\":\"rgb(17,17,17)\",\"aaxis\":{\"gridcolor\":\"#506784\",\"linecolor\":\"#506784\",\"ticks\":\"\"},\"baxis\":{\"gridcolor\":\"#506784\",\"linecolor\":\"#506784\",\"ticks\":\"\"},\"caxis\":{\"gridcolor\":\"#506784\",\"linecolor\":\"#506784\",\"ticks\":\"\"}},\"coloraxis\":{\"colorbar\":{\"outlinewidth\":0,\"ticks\":\"\"}},\"colorscale\":{\"sequential\":[[0.0,\"#0d0887\"],[0.1111111111111111,\"#46039f\"],[0.2222222222222222,\"#7201a8\"],[0.3333333333333333,\"#9c179e\"],[0.4444444444444444,\"#bd3786\"],[0.5555555555555556,\"#d8576b\"],[0.6666666666666666,\"#ed7953\"],[0.7777777777777778,\"#fb9f3a\"],[0.8888888888888888,\"#fdca26\"],[1.0,\"#f0f921\"]],\"sequentialminus\":[[0.0,\"#0d0887\"],[0.1111111111111111,\"#46039f\"],[0.2222222222222222,\"#7201a8\"],[0.3333333333333333,\"#9c179e\"],[0.4444444444444444,\"#bd3786\"],[0.5555555555555556,\"#d8576b\"],[0.6666666666666666,\"#ed7953\"],[0.7777777777777778,\"#fb9f3a\"],[0.8888888888888888,\"#fdca26\"],[1.0,\"#f0f921\"]],\"diverging\":[[0,\"#8e0152\"],[0.1,\"#c51b7d\"],[0.2,\"#de77ae\"],[0.3,\"#f1b6da\"],[0.4,\"#fde0ef\"],[0.5,\"#f7f7f7\"],[0.6,\"#e6f5d0\"],[0.7,\"#b8e186\"],[0.8,\"#7fbc41\"],[0.9,\"#4d9221\"],[1,\"#276419\"]]},\"xaxis\":{\"gridcolor\":\"#283442\",\"linecolor\":\"#506784\",\"ticks\":\"\",\"title\":{\"standoff\":15},\"zerolinecolor\":\"#283442\",\"automargin\":true,\"zerolinewidth\":2},\"yaxis\":{\"gridcolor\":\"#283442\",\"linecolor\":\"#506784\",\"ticks\":\"\",\"title\":{\"standoff\":15},\"zerolinecolor\":\"#283442\",\"automargin\":true,\"zerolinewidth\":2},\"scene\":{\"xaxis\":{\"backgroundcolor\":\"rgb(17,17,17)\",\"gridcolor\":\"#506784\",\"linecolor\":\"#506784\",\"showbackground\":true,\"ticks\":\"\",\"zerolinecolor\":\"#C8D4E3\",\"gridwidth\":2},\"yaxis\":{\"backgroundcolor\":\"rgb(17,17,17)\",\"gridcolor\":\"#506784\",\"linecolor\":\"#506784\",\"showbackground\":true,\"ticks\":\"\",\"zerolinecolor\":\"#C8D4E3\",\"gridwidth\":2},\"zaxis\":{\"backgroundcolor\":\"rgb(17,17,17)\",\"gridcolor\":\"#506784\",\"linecolor\":\"#506784\",\"showbackground\":true,\"ticks\":\"\",\"zerolinecolor\":\"#C8D4E3\",\"gridwidth\":2}},\"shapedefaults\":{\"line\":{\"color\":\"#f2f5fa\"}},\"annotationdefaults\":{\"arrowcolor\":\"#f2f5fa\",\"arrowhead\":0,\"arrowwidth\":1},\"geo\":{\"bgcolor\":\"rgb(17,17,17)\",\"landcolor\":\"rgb(17,17,17)\",\"subunitcolor\":\"#506784\",\"showland\":true,\"showlakes\":true,\"lakecolor\":\"rgb(17,17,17)\"},\"title\":{\"x\":0.05},\"updatemenudefaults\":{\"bgcolor\":\"#506784\",\"borderwidth\":0},\"sliderdefaults\":{\"bgcolor\":\"#C8D4E3\",\"borderwidth\":1,\"bordercolor\":\"rgb(17,17,17)\",\"tickwidth\":0},\"mapbox\":{\"style\":\"dark\"}}},\"xaxis\":{\"anchor\":\"y\",\"domain\":[0.0,1.0],\"title\":{\"text\":\"Flow [l/min]\"}},\"yaxis\":{\"anchor\":\"x\",\"domain\":[0.0,1.0],\"title\":{\"text\":\"Power in\"}},\"legend\":{\"title\":{\"text\":\"Speed\"},\"tracegroupgap\":0},\"title\":{\"text\":\"Power in\"}},                        {\"responsive\": true}                    ).then(function(){\n                            \nvar gd = document.getElementById('8015f716-b8e9-4f67-8867-179272eafd56');\nvar x = new MutationObserver(function (mutations, observer) {{\n        var display = window.getComputedStyle(gd).display;\n        if (!display || display === 'none') {{\n            console.log([gd, 'removed!']);\n            Plotly.purge(gd);\n            observer.disconnect();\n        }}\n}});\n\n// Listen for the removal of the full notebook cells\nvar notebookContainer = gd.closest('#notebook-container');\nif (notebookContainer) {{\n    x.observe(notebookContainer, {childList: true});\n}}\n\n// Listen for the clearing of the current output cell\nvar outputEl = gd.closest('.output');\nif (outputEl) {{\n    x.observe(outputEl, {childList: true});\n}}\n\n                        })                };                });            </script>        </div>"
     },
     "metadata": {},
     "output_type": "display_data"
    },
    {
     "data": {
      "application/vnd.plotly.v1+json": {
       "data": [
        {
         "hovertemplate": "Speed=1200<br>Flow [l/min]=%{x}<br>Power out=%{y}<extra></extra>",
         "legendgroup": "1200",
         "line": {
          "color": "#636efa",
          "dash": "solid"
         },
         "marker": {
          "symbol": "circle"
         },
         "mode": "lines",
         "name": "1200",
         "orientation": "v",
         "showlegend": true,
         "x": [
          6.0,
          12.0,
          18.000000000000004,
          24.0,
          30.0,
          36.00000000000001,
          42.00000000000001,
          48.0,
          54.00000000000001,
          60.0,
          66.0,
          72.00000000000001,
          78.00000000000001,
          84.00000000000001,
          90.0,
          96.0,
          102.00000000000001,
          108.00000000000001,
          114.00000000000001,
          120.0,
          126.0,
          132.0,
          138.0,
          144.0,
          150.0,
          156.0,
          162.0,
          168.0,
          174.0,
          180.0,
          186.0,
          192.0,
          198.0,
          204.0,
          210.0,
          216.0,
          222.0,
          228.0,
          234.0,
          240.0,
          246.00000000000003,
          252.0,
          258.00000000000006,
          264.0,
          270.00000000000006,
          276.00000000000006,
          282.0,
          288.00000000000006,
          294.0,
          300.0,
          306.00000000000006,
          312.00000000000006,
          318.00000000000006,
          324.0,
          330.00000000000006,
          336.00000000000006,
          342.0,
          348.00000000000006,
          354.0,
          360.0,
          366.00000000000006,
          372.00000000000006,
          378.00000000000006,
          384.0,
          390.00000000000006,
          396.00000000000006,
          402.0,
          408.00000000000006,
          414.0,
          420.00000000000006,
          426.00000000000006,
          432.00000000000006,
          438.00000000000006,
          444.0,
          450.00000000000006,
          456.00000000000006,
          462.0,
          468.00000000000006,
          474.0,
          480.0,
          486.0,
          491.99999999999994,
          498.00000000000006,
          504.0,
          510.0,
          516.0,
          522.0,
          528.0,
          534.0,
          540.0,
          546.0,
          552.0,
          557.9999999999999,
          564.0,
          570.0,
          576.0,
          582.0000000000001,
          587.9999999999999,
          593.9999999999999,
          600.0,
          606.0,
          612.0000000000001,
          618.0,
          624.0,
          630.0,
          636.0,
          642.0,
          648.0,
          654.0,
          660.0,
          666.0,
          672.0,
          677.9999999999999,
          684.0,
          690.0,
          696.0,
          702.0000000000001,
          707.9999999999999,
          713.9999999999999,
          720.0,
          726.0,
          732.0000000000001,
          738.0,
          744.0,
          750.0,
          756.0,
          762.0,
          768.0,
          774.0,
          780.0,
          786.0000000000001,
          792.0,
          797.9999999999999,
          804.0,
          810.0,
          816.0,
          822.0000000000001,
          827.9999999999999,
          834.0,
          840.0,
          846.0,
          852.0000000000001,
          858.0,
          864.0,
          870.0,
          876.0,
          882.0,
          888.0,
          894.0,
          900.0,
          906.0000000000001,
          912.0,
          917.9999999999999,
          924.0,
          930.0,
          936.0,
          942.0000000000002,
          948.0,
          954.0,
          960.0,
          966.0000000000001,
          972.0,
          977.9999999999998,
          984.0000000000001,
          990.0,
          996.0000000000001,
          1002.0,
          1008.0,
          1014.0000000000001,
          1020.0,
          1026.0,
          1032.0,
          1038.0,
          1044.0,
          1050.0,
          1056.0,
          1062.0,
          1068.0,
          1074.0,
          1080.0,
          1086.0,
          1092.0,
          1098.0,
          1104.0,
          1110.0,
          1116.0,
          1122.0000000000002,
          1128.0,
          1134.0,
          1140.0,
          1145.9999999999998,
          1152.0000000000002,
          1158.0,
          1164.0000000000002,
          1170.0,
          1175.9999999999998,
          1182.0,
          1188.0,
          1194.0000000000002
         ],
         "xaxis": "x",
         "y": [
          0.01124352530648143,
          0.022490058205659535,
          0.03373599042581739,
          0.04497771357009762,
          0.05621161896287519,
          0.06743409759793786,
          0.07864154011400434,
          0.0898303367812247,
          0.10099687749365024,
          0.11213755176424513,
          0.12324874872209225,
          0.13432685711089637,
          0.1453682652880845,
          0.15636936122433415,
          0.1673265325042767,
          0.17823616632647957,
          0.18909464950472826,
          0.19989836846870274,
          0.21064370926531087,
          0.22132705756025137,
          0.2319447986390581,
          0.24249331740933544,
          0.25296899840219617,
          0.2633682257736564,
          0.2736873833074801,
          0.28392285441707077,
          0.2940710221465307,
          0.30412826917429714,
          0.31409097781504763,
          0.323955530021054,
          0.3337183073863349,
          0.3433756911474155,
          0.352924062187541,
          0.3623598010379401,
          0.37167928788148447,
          0.3808789025550839,
          0.38995502455174336,
          0.3989040330251763,
          0.4077223067914345,
          0.4164062243312828,
          0.4249521637955979,
          0.43335650300545164,
          0.4416156194572213,
          0.44972589032535565,
          0.45768369246447677,
          0.4654854024147038,
          0.4731273964020527,
          0.48060605034428616,
          0.48791773985275533,
          0.49505884023601954,
          0.5020257265030522,
          0.5088147733675251,
          0.5154223552495294,
          0.521844846280414,
          0.5280786203049305,
          0.5341200508869424,
          0.539965511309117,
          0.5456113745798233,
          0.5510540134361424,
          0.5562898003434742,
          0.5613151075054075,
          0.5661263068618998,
          0.5707197700941252,
          0.5750918686292636,
          0.5792389736439569,
          0.5831574560644085,
          0.5868436865736216,
          0.590294035614996,
          0.593504873392164,
          0.5964725698746213,
          0.5991934948013085,
          0.6016640176857607,
          0.6038805078134035,
          0.6058393342529467,
          0.6075368658533039,
          0.6089694712500877,
          0.6101335188675036,
          0.6110253769240597,
          0.611641413433185,
          0.6119779962065522,
          0.6120314928580762,
          0.6117982708096803,
          0.6112746972895842,
          0.6104571393371068,
          0.6093419638104052,
          0.6079255373826482,
          0.606204226547006,
          0.6041743976231053,
          0.6018324167599386,
          0.5991746499307796,
          0.5961974629455308,
          0.592897221450295,
          0.5892702909318038,
          0.5853130367137943,
          0.5810218239673774,
          0.5763930177128689,
          0.5714229828166382,
          0.5661080840029651,
          0.5604446858453794,
          0.5544291527843327,
          0.548057849110432,
          0.541327138988725,
          0.534233386442826,
          0.5267729553676084,
          0.5189422095299375,
          0.5107375125657282,
          0.5021552279940703,
          0.4931917192081486,
          0.48384334948193225,
          0.474106481972569,
          0.463977479721559,
          0.4534527056636032,
          0.4425285226143047,
          0.43120129328911594,
          0.41946738029650993,
          0.4073231461352258,
          0.39476495320919636,
          0.3817891638191143,
          0.3683921401693993,
          0.3545702443704929,
          0.3403198384375056,
          0.32563728429217403,
          0.3105189437703406,
          0.2949611786176046,
          0.27896035049191115,
          0.26251282097005046,
          0.24561495155048563,
          0.2282631036345673,
          0.21045363856541147,
          0.1921829175987182,
          0.17344730190739674,
          0.15424315260396004,
          0.13456683072171174,
          0.11441469721804906,
          0.09378311299288603,
          0.0726684388686085,
          0.05106703560528623,
          0.0289752638925532,
          0.006389484367817416,
          -0.01669394240773408,
          -0.040278655922599535,
          -0.06436829573018546,
          -0.08896650144412974,
          -0.1140769127276908,
          -0.13970316930725596,
          -0.16584891095573953,
          -0.1925177775113003,
          -0.21971340884828275,
          -0.2474394449081182,
          -0.27569952566644207,
          -0.3044972911597081,
          -0.3338363814653444,
          -0.363720436716793,
          -0.3941530970743705,
          -0.4251380027587392,
          -0.45667879402541733,
          -0.4887791111837055,
          -0.5214425945668608,
          -0.5546728845630924,
          -0.5884736215954184,
          -0.6228484461174747,
          -0.6578009986386539,
          -0.6933349196875032,
          -0.7294538498336832,
          -0.7661614296939449,
          -0.8034612998968086,
          -0.8413571011262917,
          -0.8798524740839531,
          -0.9189510595147748,
          -0.9586564981830936,
          -0.9989724308915918,
          -1.0399024984738234,
          -1.081450341779131,
          -1.1236196017093236,
          -1.1664139191720566,
          -1.2098369351200409,
          -1.2538922905046872,
          -1.2985836263344939,
          -1.3439145836304514,
          -1.3898888034261205,
          -1.4365099267963046,
          -1.4837815948427395,
          -1.5317074486690039,
          -1.5802911294121378,
          -1.6295362782265441,
          -1.6794465363077338,
          -1.7300255448507977,
          -1.7812769450675328,
          -1.8332043782096537,
          -1.8858114855360986,
          -1.93910190831918,
          -1.9930792878648325,
          -2.0477472654755458,
          -2.103109482500243,
          -2.1591695802685136,
          -2.215931200167786,
          -2.2733979835602094,
          -2.331573571859495,
          -2.390461606470225
         ],
         "yaxis": "y",
         "type": "scatter"
        },
        {
         "hovertemplate": "Speed=1800<br>Flow [l/min]=%{x}<br>Power out=%{y}<extra></extra>",
         "legendgroup": "1800",
         "line": {
          "color": "#EF553B",
          "dash": "solid"
         },
         "marker": {
          "symbol": "circle"
         },
         "mode": "lines",
         "name": "1800",
         "orientation": "v",
         "showlegend": true,
         "x": [
          6.0,
          12.0,
          18.000000000000004,
          24.0,
          30.0,
          36.00000000000001,
          42.00000000000001,
          48.0,
          54.00000000000001,
          60.0,
          66.0,
          72.00000000000001,
          78.00000000000001,
          84.00000000000001,
          90.0,
          96.0,
          102.00000000000001,
          108.00000000000001,
          114.00000000000001,
          120.0,
          126.0,
          132.0,
          138.0,
          144.0,
          150.0,
          156.0,
          162.0,
          168.0,
          174.0,
          180.0,
          186.0,
          192.0,
          198.0,
          204.0,
          210.0,
          216.0,
          222.0,
          228.0,
          234.0,
          240.0,
          246.00000000000003,
          252.0,
          258.00000000000006,
          264.0,
          270.00000000000006,
          276.00000000000006,
          282.0,
          288.00000000000006,
          294.0,
          300.0,
          306.00000000000006,
          312.00000000000006,
          318.00000000000006,
          324.0,
          330.00000000000006,
          336.00000000000006,
          342.0,
          348.00000000000006,
          354.0,
          360.0,
          366.00000000000006,
          372.00000000000006,
          378.00000000000006,
          384.0,
          390.00000000000006,
          396.00000000000006,
          402.0,
          408.00000000000006,
          414.0,
          420.00000000000006,
          426.00000000000006,
          432.00000000000006,
          438.00000000000006,
          444.0,
          450.00000000000006,
          456.00000000000006,
          462.0,
          468.00000000000006,
          474.0,
          480.0,
          486.0,
          491.99999999999994,
          498.00000000000006,
          504.0,
          510.0,
          516.0,
          522.0,
          528.0,
          534.0,
          540.0,
          546.0,
          552.0,
          557.9999999999999,
          564.0,
          570.0,
          576.0,
          582.0000000000001,
          587.9999999999999,
          593.9999999999999,
          600.0,
          606.0,
          612.0000000000001,
          618.0,
          624.0,
          630.0,
          636.0,
          642.0,
          648.0,
          654.0,
          660.0,
          666.0,
          672.0,
          677.9999999999999,
          684.0,
          690.0,
          696.0,
          702.0000000000001,
          707.9999999999999,
          713.9999999999999,
          720.0,
          726.0,
          732.0000000000001,
          738.0,
          744.0,
          750.0,
          756.0,
          762.0,
          768.0,
          774.0,
          780.0,
          786.0000000000001,
          792.0,
          797.9999999999999,
          804.0,
          810.0,
          816.0,
          822.0000000000001,
          827.9999999999999,
          834.0,
          840.0,
          846.0,
          852.0000000000001,
          858.0,
          864.0,
          870.0,
          876.0,
          882.0,
          888.0,
          894.0,
          900.0,
          906.0000000000001,
          912.0,
          917.9999999999999,
          924.0,
          930.0,
          936.0,
          942.0000000000002,
          948.0,
          954.0,
          960.0,
          966.0000000000001,
          972.0,
          977.9999999999998,
          984.0000000000001,
          990.0,
          996.0000000000001,
          1002.0,
          1008.0,
          1014.0000000000001,
          1020.0,
          1026.0,
          1032.0,
          1038.0,
          1044.0,
          1050.0,
          1056.0,
          1062.0,
          1068.0,
          1074.0,
          1080.0,
          1086.0,
          1092.0,
          1098.0,
          1104.0,
          1110.0,
          1116.0,
          1122.0000000000002,
          1128.0,
          1134.0,
          1140.0,
          1145.9999999999998,
          1152.0000000000002,
          1158.0,
          1164.0000000000002,
          1170.0,
          1175.9999999999998,
          1182.0,
          1188.0,
          1194.0000000000002
         ],
         "xaxis": "x",
         "y": [
          0.0253012803166035,
          0.05060894511194268,
          0.07591938663101523,
          0.10122899712650503,
          0.1265341687048322,
          0.15183129327395553,
          0.17711676251869213,
          0.20238696788686258,
          0.2276383005806382,
          0.25286715155166617,
          0.27806991149756094,
          0.30324297085914637,
          0.32838271981937445,
          0.3534855483018212,
          0.3785478459706808,
          0.40356600222902606,
          0.42853640622031647,
          0.4534554468271981,
          0.4783195126719685,
          0.5031249921164863,
          0.5278682732626531,
          0.5525457439533812,
          0.5771537917718303,
          0.6016888040423722,
          0.6261471678318125,
          0.6505252699493219,
          0.6748194969457686,
          0.6990262351174286,
          0.7231418705043983,
          0.747162788890678,
          0.7710853758075554,
          0.7949060165316303,
          0.818621096088505,
          0.8422269992500686,
          0.8657201105377886,
          0.889096814224858,
          0.9123534943324992,
          0.9354865346354003,
          0.9584923186603614,
          0.9813672296884699,
          1.0041076507547302,
          1.0267099646511728,
          1.0491705539242135,
          1.0714858008800678,
          1.0936520875836235,
          1.1156657958595395,
          1.137523307292362,
          1.159221003230131,
          1.18075526478481,
          1.2021224728325217,
          1.2233190080126826,
          1.2443412507368077,
          1.2651855811791832,
          1.2858483792867519,
          1.306326024777559,
          1.3266148971385965,
          1.3467113756325417,
          1.366611839295621,
          1.3863126669413601,
          1.4058102371581198,
          1.4251009283141627,
          1.4441811185575755,
          1.4630471858191503,
          1.481695507808234,
          1.5001224620220832,
          1.518324425740563,
          1.5362977760329521,
          1.5540388897551451,
          1.571544143552506,
          1.5888099138609764,
          1.6058325769119939,
          1.6226085087273314,
          1.6391340851253011,
          1.6554056817241751,
          1.6714196739347604,
          1.687172436972424,
          1.702660345851337,
          1.717879775389736,
          1.7328271002112132,
          1.7474986947426017,
          1.7618909332189787,
          1.7760001896853084,
          1.7898228379962058,
          1.803355251816659,
          1.8165938046283991,
          1.829534869727144,
          1.8421748202188104,
          1.8545100290399357,
          1.8665368689312307,
          1.87825171246927,
          1.8896509320423336,
          1.900730899868409,
          1.9114879879893591,
          1.9219185682752964,
          1.9320190124200967,
          1.9417856919569036,
          1.951214978243148,
          1.9603032424730542,
          1.969046855673418,
          1.977442188710895,
          1.9854856122846312,
          1.9931734969399606,
          2.0005022130541836,
          2.007468130860048,
          2.0140676204192784,
          2.0202970516517027,
          2.026152794315071,
          2.0316312180258946,
          2.0367286922339476,
          2.0414415862616533,
          2.045766269262867,
          2.0496991102684827,
          2.0532364781426966,
          2.0563747416227076,
          2.0591102693004664,
          2.0614394296245524,
          2.0633585909130034,
          2.0648641213393213,
          2.065952388941186,
          2.0666197616348025,
          2.0668626071869407,
          2.066677293245766,
          2.0660601873296205,
          2.06500765681472,
          2.0635160689685406,
          2.061581790918505,
          2.0592011896813895,
          2.056370632141378,
          2.053086485065923,
          2.0493451151015636,
          2.0451428887705916,
          2.0404761724919664,
          2.0353413325585397,
          2.0297347351415262,
          2.0236527463200273,
          2.017091732043046,
          2.0100480581541427,
          2.0025180903914146,
          1.994498194378571,
          1.9859847356361175,
          1.976974079583811,
          1.9674625915302817,
          1.9574466366793069,
          1.9469225801437724,
          1.935886786921263,
          1.924335621921551,
          1.9122654499542235,
          1.8996726357300018,
          1.8865535438625012,
          1.8729045388746095,
          1.8587219851875951,
          1.8440022471485424,
          1.8287416889900998,
          1.8129366748678064,
          1.7965835688583254,
          1.779678734929204,
          1.7622185369712289,
          1.7441993387946235,
          1.7256175041163113,
          1.7064693965806632,
          1.6867513797410774,
          1.6664598170734093,
          1.6455910719623177,
          1.624141507734285,
          1.6021074876272896,
          1.5794853747969961,
          1.5562715323225504,
          1.5324623232264953,
          1.5080541104305807,
          1.4830432568048284,
          1.457426125143293,
          1.431199078147361,
          1.4043584784894154,
          1.3769006887310018,
          1.348822071381484,
          1.3201189889046518,
          1.2907878036568312,
          1.260824877961725,
          1.2302265740553118,
          1.1989892541332976,
          1.167109280304671,
          1.1345830146308897,
          1.1014068191077642,
          1.0675770556755786,
          1.0330900862095906,
          0.9979422725212432,
          0.9621299763694021,
          0.9256495594706994,
          0.8884973834593781,
          0.8506698099295347,
          0.8121632004158281,
          0.7729739164027065,
          0.7330983193145767,
          0.6925327705324248,
          0.6512736313747737,
          0.6093172631283624,
          0.5666600269871181,
          0.5232982841479045,
          0.4792283957299755
         ],
         "yaxis": "y",
         "type": "scatter"
        }
       ],
       "layout": {
        "template": {
         "data": {
          "histogram2dcontour": [
           {
            "type": "histogram2dcontour",
            "colorbar": {
             "outlinewidth": 0,
             "ticks": ""
            },
            "colorscale": [
             [
              0.0,
              "#0d0887"
             ],
             [
              0.1111111111111111,
              "#46039f"
             ],
             [
              0.2222222222222222,
              "#7201a8"
             ],
             [
              0.3333333333333333,
              "#9c179e"
             ],
             [
              0.4444444444444444,
              "#bd3786"
             ],
             [
              0.5555555555555556,
              "#d8576b"
             ],
             [
              0.6666666666666666,
              "#ed7953"
             ],
             [
              0.7777777777777778,
              "#fb9f3a"
             ],
             [
              0.8888888888888888,
              "#fdca26"
             ],
             [
              1.0,
              "#f0f921"
             ]
            ]
           }
          ],
          "choropleth": [
           {
            "type": "choropleth",
            "colorbar": {
             "outlinewidth": 0,
             "ticks": ""
            }
           }
          ],
          "histogram2d": [
           {
            "type": "histogram2d",
            "colorbar": {
             "outlinewidth": 0,
             "ticks": ""
            },
            "colorscale": [
             [
              0.0,
              "#0d0887"
             ],
             [
              0.1111111111111111,
              "#46039f"
             ],
             [
              0.2222222222222222,
              "#7201a8"
             ],
             [
              0.3333333333333333,
              "#9c179e"
             ],
             [
              0.4444444444444444,
              "#bd3786"
             ],
             [
              0.5555555555555556,
              "#d8576b"
             ],
             [
              0.6666666666666666,
              "#ed7953"
             ],
             [
              0.7777777777777778,
              "#fb9f3a"
             ],
             [
              0.8888888888888888,
              "#fdca26"
             ],
             [
              1.0,
              "#f0f921"
             ]
            ]
           }
          ],
          "heatmap": [
           {
            "type": "heatmap",
            "colorbar": {
             "outlinewidth": 0,
             "ticks": ""
            },
            "colorscale": [
             [
              0.0,
              "#0d0887"
             ],
             [
              0.1111111111111111,
              "#46039f"
             ],
             [
              0.2222222222222222,
              "#7201a8"
             ],
             [
              0.3333333333333333,
              "#9c179e"
             ],
             [
              0.4444444444444444,
              "#bd3786"
             ],
             [
              0.5555555555555556,
              "#d8576b"
             ],
             [
              0.6666666666666666,
              "#ed7953"
             ],
             [
              0.7777777777777778,
              "#fb9f3a"
             ],
             [
              0.8888888888888888,
              "#fdca26"
             ],
             [
              1.0,
              "#f0f921"
             ]
            ]
           }
          ],
          "heatmapgl": [
           {
            "type": "heatmapgl",
            "colorbar": {
             "outlinewidth": 0,
             "ticks": ""
            },
            "colorscale": [
             [
              0.0,
              "#0d0887"
             ],
             [
              0.1111111111111111,
              "#46039f"
             ],
             [
              0.2222222222222222,
              "#7201a8"
             ],
             [
              0.3333333333333333,
              "#9c179e"
             ],
             [
              0.4444444444444444,
              "#bd3786"
             ],
             [
              0.5555555555555556,
              "#d8576b"
             ],
             [
              0.6666666666666666,
              "#ed7953"
             ],
             [
              0.7777777777777778,
              "#fb9f3a"
             ],
             [
              0.8888888888888888,
              "#fdca26"
             ],
             [
              1.0,
              "#f0f921"
             ]
            ]
           }
          ],
          "contourcarpet": [
           {
            "type": "contourcarpet",
            "colorbar": {
             "outlinewidth": 0,
             "ticks": ""
            }
           }
          ],
          "contour": [
           {
            "type": "contour",
            "colorbar": {
             "outlinewidth": 0,
             "ticks": ""
            },
            "colorscale": [
             [
              0.0,
              "#0d0887"
             ],
             [
              0.1111111111111111,
              "#46039f"
             ],
             [
              0.2222222222222222,
              "#7201a8"
             ],
             [
              0.3333333333333333,
              "#9c179e"
             ],
             [
              0.4444444444444444,
              "#bd3786"
             ],
             [
              0.5555555555555556,
              "#d8576b"
             ],
             [
              0.6666666666666666,
              "#ed7953"
             ],
             [
              0.7777777777777778,
              "#fb9f3a"
             ],
             [
              0.8888888888888888,
              "#fdca26"
             ],
             [
              1.0,
              "#f0f921"
             ]
            ]
           }
          ],
          "surface": [
           {
            "type": "surface",
            "colorbar": {
             "outlinewidth": 0,
             "ticks": ""
            },
            "colorscale": [
             [
              0.0,
              "#0d0887"
             ],
             [
              0.1111111111111111,
              "#46039f"
             ],
             [
              0.2222222222222222,
              "#7201a8"
             ],
             [
              0.3333333333333333,
              "#9c179e"
             ],
             [
              0.4444444444444444,
              "#bd3786"
             ],
             [
              0.5555555555555556,
              "#d8576b"
             ],
             [
              0.6666666666666666,
              "#ed7953"
             ],
             [
              0.7777777777777778,
              "#fb9f3a"
             ],
             [
              0.8888888888888888,
              "#fdca26"
             ],
             [
              1.0,
              "#f0f921"
             ]
            ]
           }
          ],
          "mesh3d": [
           {
            "type": "mesh3d",
            "colorbar": {
             "outlinewidth": 0,
             "ticks": ""
            }
           }
          ],
          "scatter": [
           {
            "marker": {
             "line": {
              "color": "#283442"
             }
            },
            "type": "scatter"
           }
          ],
          "parcoords": [
           {
            "type": "parcoords",
            "line": {
             "colorbar": {
              "outlinewidth": 0,
              "ticks": ""
             }
            }
           }
          ],
          "scatterpolargl": [
           {
            "type": "scatterpolargl",
            "marker": {
             "colorbar": {
              "outlinewidth": 0,
              "ticks": ""
             }
            }
           }
          ],
          "bar": [
           {
            "error_x": {
             "color": "#f2f5fa"
            },
            "error_y": {
             "color": "#f2f5fa"
            },
            "marker": {
             "line": {
              "color": "rgb(17,17,17)",
              "width": 0.5
             },
             "pattern": {
              "fillmode": "overlay",
              "size": 10,
              "solidity": 0.2
             }
            },
            "type": "bar"
           }
          ],
          "scattergeo": [
           {
            "type": "scattergeo",
            "marker": {
             "colorbar": {
              "outlinewidth": 0,
              "ticks": ""
             }
            }
           }
          ],
          "scatterpolar": [
           {
            "type": "scatterpolar",
            "marker": {
             "colorbar": {
              "outlinewidth": 0,
              "ticks": ""
             }
            }
           }
          ],
          "histogram": [
           {
            "marker": {
             "pattern": {
              "fillmode": "overlay",
              "size": 10,
              "solidity": 0.2
             }
            },
            "type": "histogram"
           }
          ],
          "scattergl": [
           {
            "marker": {
             "line": {
              "color": "#283442"
             }
            },
            "type": "scattergl"
           }
          ],
          "scatter3d": [
           {
            "type": "scatter3d",
            "line": {
             "colorbar": {
              "outlinewidth": 0,
              "ticks": ""
             }
            },
            "marker": {
             "colorbar": {
              "outlinewidth": 0,
              "ticks": ""
             }
            }
           }
          ],
          "scattermapbox": [
           {
            "type": "scattermapbox",
            "marker": {
             "colorbar": {
              "outlinewidth": 0,
              "ticks": ""
             }
            }
           }
          ],
          "scatterternary": [
           {
            "type": "scatterternary",
            "marker": {
             "colorbar": {
              "outlinewidth": 0,
              "ticks": ""
             }
            }
           }
          ],
          "scattercarpet": [
           {
            "type": "scattercarpet",
            "marker": {
             "colorbar": {
              "outlinewidth": 0,
              "ticks": ""
             }
            }
           }
          ],
          "carpet": [
           {
            "aaxis": {
             "endlinecolor": "#A2B1C6",
             "gridcolor": "#506784",
             "linecolor": "#506784",
             "minorgridcolor": "#506784",
             "startlinecolor": "#A2B1C6"
            },
            "baxis": {
             "endlinecolor": "#A2B1C6",
             "gridcolor": "#506784",
             "linecolor": "#506784",
             "minorgridcolor": "#506784",
             "startlinecolor": "#A2B1C6"
            },
            "type": "carpet"
           }
          ],
          "table": [
           {
            "cells": {
             "fill": {
              "color": "#506784"
             },
             "line": {
              "color": "rgb(17,17,17)"
             }
            },
            "header": {
             "fill": {
              "color": "#2a3f5f"
             },
             "line": {
              "color": "rgb(17,17,17)"
             }
            },
            "type": "table"
           }
          ],
          "barpolar": [
           {
            "marker": {
             "line": {
              "color": "rgb(17,17,17)",
              "width": 0.5
             },
             "pattern": {
              "fillmode": "overlay",
              "size": 10,
              "solidity": 0.2
             }
            },
            "type": "barpolar"
           }
          ],
          "pie": [
           {
            "automargin": true,
            "type": "pie"
           }
          ]
         },
         "layout": {
          "autotypenumbers": "strict",
          "colorway": [
           "#636efa",
           "#EF553B",
           "#00cc96",
           "#ab63fa",
           "#FFA15A",
           "#19d3f3",
           "#FF6692",
           "#B6E880",
           "#FF97FF",
           "#FECB52"
          ],
          "font": {
           "color": "#f2f5fa"
          },
          "hovermode": "closest",
          "hoverlabel": {
           "align": "left"
          },
          "paper_bgcolor": "rgb(17,17,17)",
          "plot_bgcolor": "rgb(17,17,17)",
          "polar": {
           "bgcolor": "rgb(17,17,17)",
           "angularaxis": {
            "gridcolor": "#506784",
            "linecolor": "#506784",
            "ticks": ""
           },
           "radialaxis": {
            "gridcolor": "#506784",
            "linecolor": "#506784",
            "ticks": ""
           }
          },
          "ternary": {
           "bgcolor": "rgb(17,17,17)",
           "aaxis": {
            "gridcolor": "#506784",
            "linecolor": "#506784",
            "ticks": ""
           },
           "baxis": {
            "gridcolor": "#506784",
            "linecolor": "#506784",
            "ticks": ""
           },
           "caxis": {
            "gridcolor": "#506784",
            "linecolor": "#506784",
            "ticks": ""
           }
          },
          "coloraxis": {
           "colorbar": {
            "outlinewidth": 0,
            "ticks": ""
           }
          },
          "colorscale": {
           "sequential": [
            [
             0.0,
             "#0d0887"
            ],
            [
             0.1111111111111111,
             "#46039f"
            ],
            [
             0.2222222222222222,
             "#7201a8"
            ],
            [
             0.3333333333333333,
             "#9c179e"
            ],
            [
             0.4444444444444444,
             "#bd3786"
            ],
            [
             0.5555555555555556,
             "#d8576b"
            ],
            [
             0.6666666666666666,
             "#ed7953"
            ],
            [
             0.7777777777777778,
             "#fb9f3a"
            ],
            [
             0.8888888888888888,
             "#fdca26"
            ],
            [
             1.0,
             "#f0f921"
            ]
           ],
           "sequentialminus": [
            [
             0.0,
             "#0d0887"
            ],
            [
             0.1111111111111111,
             "#46039f"
            ],
            [
             0.2222222222222222,
             "#7201a8"
            ],
            [
             0.3333333333333333,
             "#9c179e"
            ],
            [
             0.4444444444444444,
             "#bd3786"
            ],
            [
             0.5555555555555556,
             "#d8576b"
            ],
            [
             0.6666666666666666,
             "#ed7953"
            ],
            [
             0.7777777777777778,
             "#fb9f3a"
            ],
            [
             0.8888888888888888,
             "#fdca26"
            ],
            [
             1.0,
             "#f0f921"
            ]
           ],
           "diverging": [
            [
             0,
             "#8e0152"
            ],
            [
             0.1,
             "#c51b7d"
            ],
            [
             0.2,
             "#de77ae"
            ],
            [
             0.3,
             "#f1b6da"
            ],
            [
             0.4,
             "#fde0ef"
            ],
            [
             0.5,
             "#f7f7f7"
            ],
            [
             0.6,
             "#e6f5d0"
            ],
            [
             0.7,
             "#b8e186"
            ],
            [
             0.8,
             "#7fbc41"
            ],
            [
             0.9,
             "#4d9221"
            ],
            [
             1,
             "#276419"
            ]
           ]
          },
          "xaxis": {
           "gridcolor": "#283442",
           "linecolor": "#506784",
           "ticks": "",
           "title": {
            "standoff": 15
           },
           "zerolinecolor": "#283442",
           "automargin": true,
           "zerolinewidth": 2
          },
          "yaxis": {
           "gridcolor": "#283442",
           "linecolor": "#506784",
           "ticks": "",
           "title": {
            "standoff": 15
           },
           "zerolinecolor": "#283442",
           "automargin": true,
           "zerolinewidth": 2
          },
          "scene": {
           "xaxis": {
            "backgroundcolor": "rgb(17,17,17)",
            "gridcolor": "#506784",
            "linecolor": "#506784",
            "showbackground": true,
            "ticks": "",
            "zerolinecolor": "#C8D4E3",
            "gridwidth": 2
           },
           "yaxis": {
            "backgroundcolor": "rgb(17,17,17)",
            "gridcolor": "#506784",
            "linecolor": "#506784",
            "showbackground": true,
            "ticks": "",
            "zerolinecolor": "#C8D4E3",
            "gridwidth": 2
           },
           "zaxis": {
            "backgroundcolor": "rgb(17,17,17)",
            "gridcolor": "#506784",
            "linecolor": "#506784",
            "showbackground": true,
            "ticks": "",
            "zerolinecolor": "#C8D4E3",
            "gridwidth": 2
           }
          },
          "shapedefaults": {
           "line": {
            "color": "#f2f5fa"
           }
          },
          "annotationdefaults": {
           "arrowcolor": "#f2f5fa",
           "arrowhead": 0,
           "arrowwidth": 1
          },
          "geo": {
           "bgcolor": "rgb(17,17,17)",
           "landcolor": "rgb(17,17,17)",
           "subunitcolor": "#506784",
           "showland": true,
           "showlakes": true,
           "lakecolor": "rgb(17,17,17)"
          },
          "title": {
           "x": 0.05
          },
          "updatemenudefaults": {
           "bgcolor": "#506784",
           "borderwidth": 0
          },
          "sliderdefaults": {
           "bgcolor": "#C8D4E3",
           "borderwidth": 1,
           "bordercolor": "rgb(17,17,17)",
           "tickwidth": 0
          },
          "mapbox": {
           "style": "dark"
          }
         }
        },
        "xaxis": {
         "anchor": "y",
         "domain": [
          0.0,
          1.0
         ],
         "title": {
          "text": "Flow [l/min]"
         }
        },
        "yaxis": {
         "anchor": "x",
         "domain": [
          0.0,
          1.0
         ],
         "title": {
          "text": "Power out"
         }
        },
        "legend": {
         "title": {
          "text": "Speed"
         },
         "tracegroupgap": 0
        },
        "title": {
         "text": "Power out"
        }
       },
       "config": {
        "plotlyServerURL": "https://plot.ly"
       }
      },
      "text/html": "<div>                            <div id=\"16a76336-ea42-401b-bc44-9ac7f393d377\" class=\"plotly-graph-div\" style=\"height:525px; width:100%;\"></div>            <script type=\"text/javascript\">                require([\"plotly\"], function(Plotly) {                    window.PLOTLYENV=window.PLOTLYENV || {};                                    if (document.getElementById(\"16a76336-ea42-401b-bc44-9ac7f393d377\")) {                    Plotly.newPlot(                        \"16a76336-ea42-401b-bc44-9ac7f393d377\",                        [{\"hovertemplate\":\"Speed=1200<br>Flow [l/min]=%{x}<br>Power out=%{y}<extra></extra>\",\"legendgroup\":\"1200\",\"line\":{\"color\":\"#636efa\",\"dash\":\"solid\"},\"marker\":{\"symbol\":\"circle\"},\"mode\":\"lines\",\"name\":\"1200\",\"orientation\":\"v\",\"showlegend\":true,\"x\":[6.0,12.0,18.000000000000004,24.0,30.0,36.00000000000001,42.00000000000001,48.0,54.00000000000001,60.0,66.0,72.00000000000001,78.00000000000001,84.00000000000001,90.0,96.0,102.00000000000001,108.00000000000001,114.00000000000001,120.0,126.0,132.0,138.0,144.0,150.0,156.0,162.0,168.0,174.0,180.0,186.0,192.0,198.0,204.0,210.0,216.0,222.0,228.0,234.0,240.0,246.00000000000003,252.0,258.00000000000006,264.0,270.00000000000006,276.00000000000006,282.0,288.00000000000006,294.0,300.0,306.00000000000006,312.00000000000006,318.00000000000006,324.0,330.00000000000006,336.00000000000006,342.0,348.00000000000006,354.0,360.0,366.00000000000006,372.00000000000006,378.00000000000006,384.0,390.00000000000006,396.00000000000006,402.0,408.00000000000006,414.0,420.00000000000006,426.00000000000006,432.00000000000006,438.00000000000006,444.0,450.00000000000006,456.00000000000006,462.0,468.00000000000006,474.0,480.0,486.0,491.99999999999994,498.00000000000006,504.0,510.0,516.0,522.0,528.0,534.0,540.0,546.0,552.0,557.9999999999999,564.0,570.0,576.0,582.0000000000001,587.9999999999999,593.9999999999999,600.0,606.0,612.0000000000001,618.0,624.0,630.0,636.0,642.0,648.0,654.0,660.0,666.0,672.0,677.9999999999999,684.0,690.0,696.0,702.0000000000001,707.9999999999999,713.9999999999999,720.0,726.0,732.0000000000001,738.0,744.0,750.0,756.0,762.0,768.0,774.0,780.0,786.0000000000001,792.0,797.9999999999999,804.0,810.0,816.0,822.0000000000001,827.9999999999999,834.0,840.0,846.0,852.0000000000001,858.0,864.0,870.0,876.0,882.0,888.0,894.0,900.0,906.0000000000001,912.0,917.9999999999999,924.0,930.0,936.0,942.0000000000002,948.0,954.0,960.0,966.0000000000001,972.0,977.9999999999998,984.0000000000001,990.0,996.0000000000001,1002.0,1008.0,1014.0000000000001,1020.0,1026.0,1032.0,1038.0,1044.0,1050.0,1056.0,1062.0,1068.0,1074.0,1080.0,1086.0,1092.0,1098.0,1104.0,1110.0,1116.0,1122.0000000000002,1128.0,1134.0,1140.0,1145.9999999999998,1152.0000000000002,1158.0,1164.0000000000002,1170.0,1175.9999999999998,1182.0,1188.0,1194.0000000000002],\"xaxis\":\"x\",\"y\":[0.01124352530648143,0.022490058205659535,0.03373599042581739,0.04497771357009762,0.05621161896287519,0.06743409759793786,0.07864154011400434,0.0898303367812247,0.10099687749365024,0.11213755176424513,0.12324874872209225,0.13432685711089637,0.1453682652880845,0.15636936122433415,0.1673265325042767,0.17823616632647957,0.18909464950472826,0.19989836846870274,0.21064370926531087,0.22132705756025137,0.2319447986390581,0.24249331740933544,0.25296899840219617,0.2633682257736564,0.2736873833074801,0.28392285441707077,0.2940710221465307,0.30412826917429714,0.31409097781504763,0.323955530021054,0.3337183073863349,0.3433756911474155,0.352924062187541,0.3623598010379401,0.37167928788148447,0.3808789025550839,0.38995502455174336,0.3989040330251763,0.4077223067914345,0.4164062243312828,0.4249521637955979,0.43335650300545164,0.4416156194572213,0.44972589032535565,0.45768369246447677,0.4654854024147038,0.4731273964020527,0.48060605034428616,0.48791773985275533,0.49505884023601954,0.5020257265030522,0.5088147733675251,0.5154223552495294,0.521844846280414,0.5280786203049305,0.5341200508869424,0.539965511309117,0.5456113745798233,0.5510540134361424,0.5562898003434742,0.5613151075054075,0.5661263068618998,0.5707197700941252,0.5750918686292636,0.5792389736439569,0.5831574560644085,0.5868436865736216,0.590294035614996,0.593504873392164,0.5964725698746213,0.5991934948013085,0.6016640176857607,0.6038805078134035,0.6058393342529467,0.6075368658533039,0.6089694712500877,0.6101335188675036,0.6110253769240597,0.611641413433185,0.6119779962065522,0.6120314928580762,0.6117982708096803,0.6112746972895842,0.6104571393371068,0.6093419638104052,0.6079255373826482,0.606204226547006,0.6041743976231053,0.6018324167599386,0.5991746499307796,0.5961974629455308,0.592897221450295,0.5892702909318038,0.5853130367137943,0.5810218239673774,0.5763930177128689,0.5714229828166382,0.5661080840029651,0.5604446858453794,0.5544291527843327,0.548057849110432,0.541327138988725,0.534233386442826,0.5267729553676084,0.5189422095299375,0.5107375125657282,0.5021552279940703,0.4931917192081486,0.48384334948193225,0.474106481972569,0.463977479721559,0.4534527056636032,0.4425285226143047,0.43120129328911594,0.41946738029650993,0.4073231461352258,0.39476495320919636,0.3817891638191143,0.3683921401693993,0.3545702443704929,0.3403198384375056,0.32563728429217403,0.3105189437703406,0.2949611786176046,0.27896035049191115,0.26251282097005046,0.24561495155048563,0.2282631036345673,0.21045363856541147,0.1921829175987182,0.17344730190739674,0.15424315260396004,0.13456683072171174,0.11441469721804906,0.09378311299288603,0.0726684388686085,0.05106703560528623,0.0289752638925532,0.006389484367817416,-0.01669394240773408,-0.040278655922599535,-0.06436829573018546,-0.08896650144412974,-0.1140769127276908,-0.13970316930725596,-0.16584891095573953,-0.1925177775113003,-0.21971340884828275,-0.2474394449081182,-0.27569952566644207,-0.3044972911597081,-0.3338363814653444,-0.363720436716793,-0.3941530970743705,-0.4251380027587392,-0.45667879402541733,-0.4887791111837055,-0.5214425945668608,-0.5546728845630924,-0.5884736215954184,-0.6228484461174747,-0.6578009986386539,-0.6933349196875032,-0.7294538498336832,-0.7661614296939449,-0.8034612998968086,-0.8413571011262917,-0.8798524740839531,-0.9189510595147748,-0.9586564981830936,-0.9989724308915918,-1.0399024984738234,-1.081450341779131,-1.1236196017093236,-1.1664139191720566,-1.2098369351200409,-1.2538922905046872,-1.2985836263344939,-1.3439145836304514,-1.3898888034261205,-1.4365099267963046,-1.4837815948427395,-1.5317074486690039,-1.5802911294121378,-1.6295362782265441,-1.6794465363077338,-1.7300255448507977,-1.7812769450675328,-1.8332043782096537,-1.8858114855360986,-1.93910190831918,-1.9930792878648325,-2.0477472654755458,-2.103109482500243,-2.1591695802685136,-2.215931200167786,-2.2733979835602094,-2.331573571859495,-2.390461606470225],\"yaxis\":\"y\",\"type\":\"scatter\"},{\"hovertemplate\":\"Speed=1800<br>Flow [l/min]=%{x}<br>Power out=%{y}<extra></extra>\",\"legendgroup\":\"1800\",\"line\":{\"color\":\"#EF553B\",\"dash\":\"solid\"},\"marker\":{\"symbol\":\"circle\"},\"mode\":\"lines\",\"name\":\"1800\",\"orientation\":\"v\",\"showlegend\":true,\"x\":[6.0,12.0,18.000000000000004,24.0,30.0,36.00000000000001,42.00000000000001,48.0,54.00000000000001,60.0,66.0,72.00000000000001,78.00000000000001,84.00000000000001,90.0,96.0,102.00000000000001,108.00000000000001,114.00000000000001,120.0,126.0,132.0,138.0,144.0,150.0,156.0,162.0,168.0,174.0,180.0,186.0,192.0,198.0,204.0,210.0,216.0,222.0,228.0,234.0,240.0,246.00000000000003,252.0,258.00000000000006,264.0,270.00000000000006,276.00000000000006,282.0,288.00000000000006,294.0,300.0,306.00000000000006,312.00000000000006,318.00000000000006,324.0,330.00000000000006,336.00000000000006,342.0,348.00000000000006,354.0,360.0,366.00000000000006,372.00000000000006,378.00000000000006,384.0,390.00000000000006,396.00000000000006,402.0,408.00000000000006,414.0,420.00000000000006,426.00000000000006,432.00000000000006,438.00000000000006,444.0,450.00000000000006,456.00000000000006,462.0,468.00000000000006,474.0,480.0,486.0,491.99999999999994,498.00000000000006,504.0,510.0,516.0,522.0,528.0,534.0,540.0,546.0,552.0,557.9999999999999,564.0,570.0,576.0,582.0000000000001,587.9999999999999,593.9999999999999,600.0,606.0,612.0000000000001,618.0,624.0,630.0,636.0,642.0,648.0,654.0,660.0,666.0,672.0,677.9999999999999,684.0,690.0,696.0,702.0000000000001,707.9999999999999,713.9999999999999,720.0,726.0,732.0000000000001,738.0,744.0,750.0,756.0,762.0,768.0,774.0,780.0,786.0000000000001,792.0,797.9999999999999,804.0,810.0,816.0,822.0000000000001,827.9999999999999,834.0,840.0,846.0,852.0000000000001,858.0,864.0,870.0,876.0,882.0,888.0,894.0,900.0,906.0000000000001,912.0,917.9999999999999,924.0,930.0,936.0,942.0000000000002,948.0,954.0,960.0,966.0000000000001,972.0,977.9999999999998,984.0000000000001,990.0,996.0000000000001,1002.0,1008.0,1014.0000000000001,1020.0,1026.0,1032.0,1038.0,1044.0,1050.0,1056.0,1062.0,1068.0,1074.0,1080.0,1086.0,1092.0,1098.0,1104.0,1110.0,1116.0,1122.0000000000002,1128.0,1134.0,1140.0,1145.9999999999998,1152.0000000000002,1158.0,1164.0000000000002,1170.0,1175.9999999999998,1182.0,1188.0,1194.0000000000002],\"xaxis\":\"x\",\"y\":[0.0253012803166035,0.05060894511194268,0.07591938663101523,0.10122899712650503,0.1265341687048322,0.15183129327395553,0.17711676251869213,0.20238696788686258,0.2276383005806382,0.25286715155166617,0.27806991149756094,0.30324297085914637,0.32838271981937445,0.3534855483018212,0.3785478459706808,0.40356600222902606,0.42853640622031647,0.4534554468271981,0.4783195126719685,0.5031249921164863,0.5278682732626531,0.5525457439533812,0.5771537917718303,0.6016888040423722,0.6261471678318125,0.6505252699493219,0.6748194969457686,0.6990262351174286,0.7231418705043983,0.747162788890678,0.7710853758075554,0.7949060165316303,0.818621096088505,0.8422269992500686,0.8657201105377886,0.889096814224858,0.9123534943324992,0.9354865346354003,0.9584923186603614,0.9813672296884699,1.0041076507547302,1.0267099646511728,1.0491705539242135,1.0714858008800678,1.0936520875836235,1.1156657958595395,1.137523307292362,1.159221003230131,1.18075526478481,1.2021224728325217,1.2233190080126826,1.2443412507368077,1.2651855811791832,1.2858483792867519,1.306326024777559,1.3266148971385965,1.3467113756325417,1.366611839295621,1.3863126669413601,1.4058102371581198,1.4251009283141627,1.4441811185575755,1.4630471858191503,1.481695507808234,1.5001224620220832,1.518324425740563,1.5362977760329521,1.5540388897551451,1.571544143552506,1.5888099138609764,1.6058325769119939,1.6226085087273314,1.6391340851253011,1.6554056817241751,1.6714196739347604,1.687172436972424,1.702660345851337,1.717879775389736,1.7328271002112132,1.7474986947426017,1.7618909332189787,1.7760001896853084,1.7898228379962058,1.803355251816659,1.8165938046283991,1.829534869727144,1.8421748202188104,1.8545100290399357,1.8665368689312307,1.87825171246927,1.8896509320423336,1.900730899868409,1.9114879879893591,1.9219185682752964,1.9320190124200967,1.9417856919569036,1.951214978243148,1.9603032424730542,1.969046855673418,1.977442188710895,1.9854856122846312,1.9931734969399606,2.0005022130541836,2.007468130860048,2.0140676204192784,2.0202970516517027,2.026152794315071,2.0316312180258946,2.0367286922339476,2.0414415862616533,2.045766269262867,2.0496991102684827,2.0532364781426966,2.0563747416227076,2.0591102693004664,2.0614394296245524,2.0633585909130034,2.0648641213393213,2.065952388941186,2.0666197616348025,2.0668626071869407,2.066677293245766,2.0660601873296205,2.06500765681472,2.0635160689685406,2.061581790918505,2.0592011896813895,2.056370632141378,2.053086485065923,2.0493451151015636,2.0451428887705916,2.0404761724919664,2.0353413325585397,2.0297347351415262,2.0236527463200273,2.017091732043046,2.0100480581541427,2.0025180903914146,1.994498194378571,1.9859847356361175,1.976974079583811,1.9674625915302817,1.9574466366793069,1.9469225801437724,1.935886786921263,1.924335621921551,1.9122654499542235,1.8996726357300018,1.8865535438625012,1.8729045388746095,1.8587219851875951,1.8440022471485424,1.8287416889900998,1.8129366748678064,1.7965835688583254,1.779678734929204,1.7622185369712289,1.7441993387946235,1.7256175041163113,1.7064693965806632,1.6867513797410774,1.6664598170734093,1.6455910719623177,1.624141507734285,1.6021074876272896,1.5794853747969961,1.5562715323225504,1.5324623232264953,1.5080541104305807,1.4830432568048284,1.457426125143293,1.431199078147361,1.4043584784894154,1.3769006887310018,1.348822071381484,1.3201189889046518,1.2907878036568312,1.260824877961725,1.2302265740553118,1.1989892541332976,1.167109280304671,1.1345830146308897,1.1014068191077642,1.0675770556755786,1.0330900862095906,0.9979422725212432,0.9621299763694021,0.9256495594706994,0.8884973834593781,0.8506698099295347,0.8121632004158281,0.7729739164027065,0.7330983193145767,0.6925327705324248,0.6512736313747737,0.6093172631283624,0.5666600269871181,0.5232982841479045,0.4792283957299755],\"yaxis\":\"y\",\"type\":\"scatter\"}],                        {\"template\":{\"data\":{\"histogram2dcontour\":[{\"type\":\"histogram2dcontour\",\"colorbar\":{\"outlinewidth\":0,\"ticks\":\"\"},\"colorscale\":[[0.0,\"#0d0887\"],[0.1111111111111111,\"#46039f\"],[0.2222222222222222,\"#7201a8\"],[0.3333333333333333,\"#9c179e\"],[0.4444444444444444,\"#bd3786\"],[0.5555555555555556,\"#d8576b\"],[0.6666666666666666,\"#ed7953\"],[0.7777777777777778,\"#fb9f3a\"],[0.8888888888888888,\"#fdca26\"],[1.0,\"#f0f921\"]]}],\"choropleth\":[{\"type\":\"choropleth\",\"colorbar\":{\"outlinewidth\":0,\"ticks\":\"\"}}],\"histogram2d\":[{\"type\":\"histogram2d\",\"colorbar\":{\"outlinewidth\":0,\"ticks\":\"\"},\"colorscale\":[[0.0,\"#0d0887\"],[0.1111111111111111,\"#46039f\"],[0.2222222222222222,\"#7201a8\"],[0.3333333333333333,\"#9c179e\"],[0.4444444444444444,\"#bd3786\"],[0.5555555555555556,\"#d8576b\"],[0.6666666666666666,\"#ed7953\"],[0.7777777777777778,\"#fb9f3a\"],[0.8888888888888888,\"#fdca26\"],[1.0,\"#f0f921\"]]}],\"heatmap\":[{\"type\":\"heatmap\",\"colorbar\":{\"outlinewidth\":0,\"ticks\":\"\"},\"colorscale\":[[0.0,\"#0d0887\"],[0.1111111111111111,\"#46039f\"],[0.2222222222222222,\"#7201a8\"],[0.3333333333333333,\"#9c179e\"],[0.4444444444444444,\"#bd3786\"],[0.5555555555555556,\"#d8576b\"],[0.6666666666666666,\"#ed7953\"],[0.7777777777777778,\"#fb9f3a\"],[0.8888888888888888,\"#fdca26\"],[1.0,\"#f0f921\"]]}],\"heatmapgl\":[{\"type\":\"heatmapgl\",\"colorbar\":{\"outlinewidth\":0,\"ticks\":\"\"},\"colorscale\":[[0.0,\"#0d0887\"],[0.1111111111111111,\"#46039f\"],[0.2222222222222222,\"#7201a8\"],[0.3333333333333333,\"#9c179e\"],[0.4444444444444444,\"#bd3786\"],[0.5555555555555556,\"#d8576b\"],[0.6666666666666666,\"#ed7953\"],[0.7777777777777778,\"#fb9f3a\"],[0.8888888888888888,\"#fdca26\"],[1.0,\"#f0f921\"]]}],\"contourcarpet\":[{\"type\":\"contourcarpet\",\"colorbar\":{\"outlinewidth\":0,\"ticks\":\"\"}}],\"contour\":[{\"type\":\"contour\",\"colorbar\":{\"outlinewidth\":0,\"ticks\":\"\"},\"colorscale\":[[0.0,\"#0d0887\"],[0.1111111111111111,\"#46039f\"],[0.2222222222222222,\"#7201a8\"],[0.3333333333333333,\"#9c179e\"],[0.4444444444444444,\"#bd3786\"],[0.5555555555555556,\"#d8576b\"],[0.6666666666666666,\"#ed7953\"],[0.7777777777777778,\"#fb9f3a\"],[0.8888888888888888,\"#fdca26\"],[1.0,\"#f0f921\"]]}],\"surface\":[{\"type\":\"surface\",\"colorbar\":{\"outlinewidth\":0,\"ticks\":\"\"},\"colorscale\":[[0.0,\"#0d0887\"],[0.1111111111111111,\"#46039f\"],[0.2222222222222222,\"#7201a8\"],[0.3333333333333333,\"#9c179e\"],[0.4444444444444444,\"#bd3786\"],[0.5555555555555556,\"#d8576b\"],[0.6666666666666666,\"#ed7953\"],[0.7777777777777778,\"#fb9f3a\"],[0.8888888888888888,\"#fdca26\"],[1.0,\"#f0f921\"]]}],\"mesh3d\":[{\"type\":\"mesh3d\",\"colorbar\":{\"outlinewidth\":0,\"ticks\":\"\"}}],\"scatter\":[{\"marker\":{\"line\":{\"color\":\"#283442\"}},\"type\":\"scatter\"}],\"parcoords\":[{\"type\":\"parcoords\",\"line\":{\"colorbar\":{\"outlinewidth\":0,\"ticks\":\"\"}}}],\"scatterpolargl\":[{\"type\":\"scatterpolargl\",\"marker\":{\"colorbar\":{\"outlinewidth\":0,\"ticks\":\"\"}}}],\"bar\":[{\"error_x\":{\"color\":\"#f2f5fa\"},\"error_y\":{\"color\":\"#f2f5fa\"},\"marker\":{\"line\":{\"color\":\"rgb(17,17,17)\",\"width\":0.5},\"pattern\":{\"fillmode\":\"overlay\",\"size\":10,\"solidity\":0.2}},\"type\":\"bar\"}],\"scattergeo\":[{\"type\":\"scattergeo\",\"marker\":{\"colorbar\":{\"outlinewidth\":0,\"ticks\":\"\"}}}],\"scatterpolar\":[{\"type\":\"scatterpolar\",\"marker\":{\"colorbar\":{\"outlinewidth\":0,\"ticks\":\"\"}}}],\"histogram\":[{\"marker\":{\"pattern\":{\"fillmode\":\"overlay\",\"size\":10,\"solidity\":0.2}},\"type\":\"histogram\"}],\"scattergl\":[{\"marker\":{\"line\":{\"color\":\"#283442\"}},\"type\":\"scattergl\"}],\"scatter3d\":[{\"type\":\"scatter3d\",\"line\":{\"colorbar\":{\"outlinewidth\":0,\"ticks\":\"\"}},\"marker\":{\"colorbar\":{\"outlinewidth\":0,\"ticks\":\"\"}}}],\"scattermapbox\":[{\"type\":\"scattermapbox\",\"marker\":{\"colorbar\":{\"outlinewidth\":0,\"ticks\":\"\"}}}],\"scatterternary\":[{\"type\":\"scatterternary\",\"marker\":{\"colorbar\":{\"outlinewidth\":0,\"ticks\":\"\"}}}],\"scattercarpet\":[{\"type\":\"scattercarpet\",\"marker\":{\"colorbar\":{\"outlinewidth\":0,\"ticks\":\"\"}}}],\"carpet\":[{\"aaxis\":{\"endlinecolor\":\"#A2B1C6\",\"gridcolor\":\"#506784\",\"linecolor\":\"#506784\",\"minorgridcolor\":\"#506784\",\"startlinecolor\":\"#A2B1C6\"},\"baxis\":{\"endlinecolor\":\"#A2B1C6\",\"gridcolor\":\"#506784\",\"linecolor\":\"#506784\",\"minorgridcolor\":\"#506784\",\"startlinecolor\":\"#A2B1C6\"},\"type\":\"carpet\"}],\"table\":[{\"cells\":{\"fill\":{\"color\":\"#506784\"},\"line\":{\"color\":\"rgb(17,17,17)\"}},\"header\":{\"fill\":{\"color\":\"#2a3f5f\"},\"line\":{\"color\":\"rgb(17,17,17)\"}},\"type\":\"table\"}],\"barpolar\":[{\"marker\":{\"line\":{\"color\":\"rgb(17,17,17)\",\"width\":0.5},\"pattern\":{\"fillmode\":\"overlay\",\"size\":10,\"solidity\":0.2}},\"type\":\"barpolar\"}],\"pie\":[{\"automargin\":true,\"type\":\"pie\"}]},\"layout\":{\"autotypenumbers\":\"strict\",\"colorway\":[\"#636efa\",\"#EF553B\",\"#00cc96\",\"#ab63fa\",\"#FFA15A\",\"#19d3f3\",\"#FF6692\",\"#B6E880\",\"#FF97FF\",\"#FECB52\"],\"font\":{\"color\":\"#f2f5fa\"},\"hovermode\":\"closest\",\"hoverlabel\":{\"align\":\"left\"},\"paper_bgcolor\":\"rgb(17,17,17)\",\"plot_bgcolor\":\"rgb(17,17,17)\",\"polar\":{\"bgcolor\":\"rgb(17,17,17)\",\"angularaxis\":{\"gridcolor\":\"#506784\",\"linecolor\":\"#506784\",\"ticks\":\"\"},\"radialaxis\":{\"gridcolor\":\"#506784\",\"linecolor\":\"#506784\",\"ticks\":\"\"}},\"ternary\":{\"bgcolor\":\"rgb(17,17,17)\",\"aaxis\":{\"gridcolor\":\"#506784\",\"linecolor\":\"#506784\",\"ticks\":\"\"},\"baxis\":{\"gridcolor\":\"#506784\",\"linecolor\":\"#506784\",\"ticks\":\"\"},\"caxis\":{\"gridcolor\":\"#506784\",\"linecolor\":\"#506784\",\"ticks\":\"\"}},\"coloraxis\":{\"colorbar\":{\"outlinewidth\":0,\"ticks\":\"\"}},\"colorscale\":{\"sequential\":[[0.0,\"#0d0887\"],[0.1111111111111111,\"#46039f\"],[0.2222222222222222,\"#7201a8\"],[0.3333333333333333,\"#9c179e\"],[0.4444444444444444,\"#bd3786\"],[0.5555555555555556,\"#d8576b\"],[0.6666666666666666,\"#ed7953\"],[0.7777777777777778,\"#fb9f3a\"],[0.8888888888888888,\"#fdca26\"],[1.0,\"#f0f921\"]],\"sequentialminus\":[[0.0,\"#0d0887\"],[0.1111111111111111,\"#46039f\"],[0.2222222222222222,\"#7201a8\"],[0.3333333333333333,\"#9c179e\"],[0.4444444444444444,\"#bd3786\"],[0.5555555555555556,\"#d8576b\"],[0.6666666666666666,\"#ed7953\"],[0.7777777777777778,\"#fb9f3a\"],[0.8888888888888888,\"#fdca26\"],[1.0,\"#f0f921\"]],\"diverging\":[[0,\"#8e0152\"],[0.1,\"#c51b7d\"],[0.2,\"#de77ae\"],[0.3,\"#f1b6da\"],[0.4,\"#fde0ef\"],[0.5,\"#f7f7f7\"],[0.6,\"#e6f5d0\"],[0.7,\"#b8e186\"],[0.8,\"#7fbc41\"],[0.9,\"#4d9221\"],[1,\"#276419\"]]},\"xaxis\":{\"gridcolor\":\"#283442\",\"linecolor\":\"#506784\",\"ticks\":\"\",\"title\":{\"standoff\":15},\"zerolinecolor\":\"#283442\",\"automargin\":true,\"zerolinewidth\":2},\"yaxis\":{\"gridcolor\":\"#283442\",\"linecolor\":\"#506784\",\"ticks\":\"\",\"title\":{\"standoff\":15},\"zerolinecolor\":\"#283442\",\"automargin\":true,\"zerolinewidth\":2},\"scene\":{\"xaxis\":{\"backgroundcolor\":\"rgb(17,17,17)\",\"gridcolor\":\"#506784\",\"linecolor\":\"#506784\",\"showbackground\":true,\"ticks\":\"\",\"zerolinecolor\":\"#C8D4E3\",\"gridwidth\":2},\"yaxis\":{\"backgroundcolor\":\"rgb(17,17,17)\",\"gridcolor\":\"#506784\",\"linecolor\":\"#506784\",\"showbackground\":true,\"ticks\":\"\",\"zerolinecolor\":\"#C8D4E3\",\"gridwidth\":2},\"zaxis\":{\"backgroundcolor\":\"rgb(17,17,17)\",\"gridcolor\":\"#506784\",\"linecolor\":\"#506784\",\"showbackground\":true,\"ticks\":\"\",\"zerolinecolor\":\"#C8D4E3\",\"gridwidth\":2}},\"shapedefaults\":{\"line\":{\"color\":\"#f2f5fa\"}},\"annotationdefaults\":{\"arrowcolor\":\"#f2f5fa\",\"arrowhead\":0,\"arrowwidth\":1},\"geo\":{\"bgcolor\":\"rgb(17,17,17)\",\"landcolor\":\"rgb(17,17,17)\",\"subunitcolor\":\"#506784\",\"showland\":true,\"showlakes\":true,\"lakecolor\":\"rgb(17,17,17)\"},\"title\":{\"x\":0.05},\"updatemenudefaults\":{\"bgcolor\":\"#506784\",\"borderwidth\":0},\"sliderdefaults\":{\"bgcolor\":\"#C8D4E3\",\"borderwidth\":1,\"bordercolor\":\"rgb(17,17,17)\",\"tickwidth\":0},\"mapbox\":{\"style\":\"dark\"}}},\"xaxis\":{\"anchor\":\"y\",\"domain\":[0.0,1.0],\"title\":{\"text\":\"Flow [l/min]\"}},\"yaxis\":{\"anchor\":\"x\",\"domain\":[0.0,1.0],\"title\":{\"text\":\"Power out\"}},\"legend\":{\"title\":{\"text\":\"Speed\"},\"tracegroupgap\":0},\"title\":{\"text\":\"Power out\"}},                        {\"responsive\": true}                    ).then(function(){\n                            \nvar gd = document.getElementById('16a76336-ea42-401b-bc44-9ac7f393d377');\nvar x = new MutationObserver(function (mutations, observer) {{\n        var display = window.getComputedStyle(gd).display;\n        if (!display || display === 'none') {{\n            console.log([gd, 'removed!']);\n            Plotly.purge(gd);\n            observer.disconnect();\n        }}\n}});\n\n// Listen for the removal of the full notebook cells\nvar notebookContainer = gd.closest('#notebook-container');\nif (notebookContainer) {{\n    x.observe(notebookContainer, {childList: true});\n}}\n\n// Listen for the clearing of the current output cell\nvar outputEl = gd.closest('.output');\nif (outputEl) {{\n    x.observe(outputEl, {childList: true});\n}}\n\n                        })                };                });            </script>        </div>"
     },
     "metadata": {},
     "output_type": "display_data"
    },
    {
     "data": {
      "application/vnd.plotly.v1+json": {
       "data": [
        {
         "hovertemplate": "Speed=1200<br>Flow [l/min]=%{x}<br>Pump efficiency=%{y}<extra></extra>",
         "legendgroup": "1200",
         "line": {
          "color": "#636efa",
          "dash": "solid"
         },
         "marker": {
          "symbol": "circle"
         },
         "mode": "lines",
         "name": "1200",
         "orientation": "v",
         "showlegend": true,
         "x": [
          6.0,
          12.0,
          18.000000000000004,
          24.0,
          30.0,
          36.00000000000001,
          42.00000000000001,
          48.0,
          54.00000000000001,
          60.0,
          66.0,
          72.00000000000001,
          78.00000000000001,
          84.00000000000001,
          90.0,
          96.0,
          102.00000000000001,
          108.00000000000001,
          114.00000000000001,
          120.0,
          126.0,
          132.0,
          138.0,
          144.0,
          150.0,
          156.0,
          162.0,
          168.0,
          174.0,
          180.0,
          186.0,
          192.0,
          198.0,
          204.0,
          210.0,
          216.0,
          222.0,
          228.0,
          234.0,
          240.0,
          246.00000000000003,
          252.0,
          258.00000000000006,
          264.0,
          270.00000000000006,
          276.00000000000006,
          282.0,
          288.00000000000006,
          294.0,
          300.0,
          306.00000000000006,
          312.00000000000006,
          318.00000000000006,
          324.0,
          330.00000000000006,
          336.00000000000006,
          342.0,
          348.00000000000006,
          354.0,
          360.0,
          366.00000000000006,
          372.00000000000006,
          378.00000000000006,
          384.0,
          390.00000000000006,
          396.00000000000006,
          402.0,
          408.00000000000006,
          414.0,
          420.00000000000006,
          426.00000000000006,
          432.00000000000006,
          438.00000000000006,
          444.0,
          450.00000000000006,
          456.00000000000006,
          462.0,
          468.00000000000006,
          474.0,
          480.0,
          486.0,
          491.99999999999994,
          498.00000000000006,
          504.0,
          510.0,
          516.0,
          522.0,
          528.0,
          534.0,
          540.0,
          546.0,
          552.0,
          557.9999999999999,
          564.0,
          570.0,
          576.0,
          582.0000000000001,
          587.9999999999999,
          593.9999999999999,
          600.0,
          606.0,
          612.0000000000001,
          618.0,
          624.0,
          630.0,
          636.0,
          642.0,
          648.0,
          654.0,
          660.0,
          666.0,
          672.0,
          677.9999999999999,
          684.0,
          690.0,
          696.0,
          702.0000000000001,
          707.9999999999999,
          713.9999999999999,
          720.0,
          726.0,
          732.0000000000001,
          738.0,
          744.0,
          750.0,
          756.0,
          762.0,
          768.0,
          774.0,
          780.0,
          786.0000000000001,
          792.0,
          797.9999999999999,
          804.0,
          810.0,
          816.0,
          822.0000000000001,
          827.9999999999999,
          834.0,
          840.0,
          846.0,
          852.0000000000001,
          858.0,
          864.0,
          870.0,
          876.0,
          882.0,
          888.0,
          894.0,
          900.0,
          906.0000000000001,
          912.0,
          917.9999999999999,
          924.0,
          930.0,
          936.0,
          942.0000000000002,
          948.0,
          954.0,
          960.0,
          966.0000000000001,
          972.0,
          977.9999999999998,
          984.0000000000001,
          990.0,
          996.0000000000001,
          1002.0,
          1008.0,
          1014.0000000000001,
          1020.0,
          1026.0,
          1032.0,
          1038.0,
          1044.0,
          1050.0,
          1056.0,
          1062.0,
          1068.0,
          1074.0,
          1080.0,
          1086.0,
          1092.0,
          1098.0,
          1104.0,
          1110.0,
          1116.0,
          1122.0000000000002,
          1128.0,
          1134.0,
          1140.0,
          1145.9999999999998,
          1152.0000000000002,
          1158.0,
          1164.0000000000002,
          1170.0,
          1175.9999999999998,
          1182.0,
          1188.0,
          1194.0000000000002
         ],
         "xaxis": "x",
         "y": [
          0.07891550213724761,
          0.1443471964387442,
          0.19954312315888798,
          0.24678034164235765,
          0.2877024751239295,
          0.3235255985783543,
          0.35516872308447694,
          0.38333924126222707,
          0.40859048410235965,
          0.43136146096786226,
          0.4520049015206136,
          0.4708074291081024,
          0.4880043264079622,
          0.5037905122150778,
          0.5183288171040852,
          0.5317563028680367,
          0.544189144771099,
          0.5557264440036472,
          0.5664532341843888,
          0.5764428739135007,
          0.5857589668240745,
          0.5944569145279449,
          0.6025851818057604,
          0.6101863343817003,
          0.6172978955852908,
          0.6239530577253816,
          0.6301812761292842,
          0.6360087678249634,
          0.6414589322477765,
          0.6465527078332508,
          0.6513088756156503,
          0.6557443187843536,
          0.6598742454844567,
          0.6637123807803432,
          0.6672711326549658,
          0.670561736042954,
          0.6735943782138684,
          0.6763783082653563,
          0.6789219330157067,
          0.6812329012293553,
          0.6833181777996734,
          0.6851841092437524,
          0.6868364816857682,
          0.6882805723024186,
          0.6895211950740981,
          0.6905627415669401,
          0.6914092173504918,
          0.6920642745978837,
          0.6925312413125904,
          0.692813147587078,
          0.6929127492341007,
          0.6928325490919356,
          0.6925748162593517,
          0.692141603496062,
          0.6915347629802356,
          0.6907559606066281,
          0.689806688966709,
          0.6886882791638836,
          0.6874019115690233,
          0.6859486256233502,
          0.6843293287996218,
          0.6825448047775676,
          0.6805957209307834,
          0.6784826351826095,
          0.6762060022884969,
          0.6737661795953539,
          0.6711634323373301,
          0.6683979384975306,
          0.6654697932738051,
          0.66237901319363,
          0.6591255398997352,
          0.6557092436382724,
          0.6521299264642315,
          0.6483873252107276,
          0.6444811142113192,
          0.6404109078201307,
          0.6361762627311448,
          0.631776680120904,
          0.6272116076190954,
          0.6224804411278511,
          0.6175825264990182,
          0.6125171610809111,
          0.6072835951347995,
          0.6018810331440393,
          0.5963086350199465,
          0.5905655171974621,
          0.5846507536475036,
          0.5785633768046207,
          0.5723023784107124,
          0.5658667102759063,
          0.5592552849855099,
          0.552466976528417,
          0.5455006208678311,
          0.5383550164458669,
          0.5310289246458549,
          0.5235210701943962,
          0.5158301415095592,
          0.5079547910159494,
          0.49989363539678705,
          0.49164525582751345,
          0.4832081981384112,
          0.47458097297551394,
          0.4657620558892829,
          0.45674988741359773,
          0.44754287310059,
          0.4381393835201552,
          0.428537754243175,
          0.4187362857748375,
          0.40873324347271994,
          0.3985268574332077,
          0.38811532234980745,
          0.3774967973515599,
          0.3666694057981568,
          0.35563123507618405,
          0.3443803363493937,
          0.3329147242886038,
          0.32123237679262784,
          0.30933123466693785,
          0.29720920129226064,
          0.2848641422669049,
          0.27229388502400365,
          0.2594962184295176,
          0.24646889236284328,
          0.23320961726632589,
          0.21971606367880717,
          0.20598586175074232,
          0.19201660073490512,
          0.17780582843877785,
          0.16335105070053785,
          0.1486497307902093,
          0.13369928881570753,
          0.11849710112067541,
          0.10304049962848165,
          0.08732677118126515,
          0.07135315686808862,
          0.055116851301068054,
          0.038615001895598536,
          0.021844708109629882,
          0.004803020679376938,
          -0.012513059200660029,
          -0.03010658068378411,
          -0.047980644133244474,
          -0.0661384019944103,
          -0.08458305968807216,
          -0.10331787654765058,
          -0.12234616676049044,
          -0.1416713003623164,
          -0.16129670422395803,
          -0.18122586311042996,
          -0.20146232072183148,
          -0.22200968080735112,
          -0.24287160827527543,
          -0.26405183035928526,
          -0.285554137784109,
          -0.30738238600897544,
          -0.3295404964612905,
          -0.35203245783642,
          -0.3748623273970266,
          -0.39803423235194907,
          -0.42155237123479494,
          -0.44542101533165707,
          -0.4696445101683658,
          -0.49422727699316993,
          -0.5191738143420506,
          -0.5444886996343574,
          -0.5701765907821047,
          -0.5962422278997183,
          -0.6226904350011908,
          -0.6495261217893621,
          -0.6767542854579368,
          -0.7043800125735432,
          -0.7324084809900675,
          -0.7608449618101996,
          -0.7896948214375279,
          -0.8189635236257183,
          -0.8486566316455206,
          -0.878779810450831,
          -0.9093388289792718,
          -0.9403395624434009,
          -0.9717879947181604,
          -1.0036902208151843,
          -1.036052449396012,
          -1.068881005349012,
          -1.1021823324793836,
          -1.1359629962416486,
          -1.1702296865782207,
          -1.2049892207932984,
          -1.2402485465511388,
          -1.276014744964757,
          -1.312295033734763,
          -1.3490967704073047,
          -1.386427455736918,
          -1.4242947371078225,
          -1.4627064121173448,
          -1.5016704321840033,
          -1.5411949063637125,
          -1.5812881051669387,
          -1.6219584646034386,
          -1.663214590251705
         ],
         "yaxis": "y",
         "type": "scatter"
        },
        {
         "hovertemplate": "Speed=1800<br>Flow [l/min]=%{x}<br>Pump efficiency=%{y}<extra></extra>",
         "legendgroup": "1800",
         "line": {
          "color": "#EF553B",
          "dash": "solid"
         },
         "marker": {
          "symbol": "circle"
         },
         "mode": "lines",
         "name": "1800",
         "orientation": "v",
         "showlegend": true,
         "x": [
          6.0,
          12.0,
          18.000000000000004,
          24.0,
          30.0,
          36.00000000000001,
          42.00000000000001,
          48.0,
          54.00000000000001,
          60.0,
          66.0,
          72.00000000000001,
          78.00000000000001,
          84.00000000000001,
          90.0,
          96.0,
          102.00000000000001,
          108.00000000000001,
          114.00000000000001,
          120.0,
          126.0,
          132.0,
          138.0,
          144.0,
          150.0,
          156.0,
          162.0,
          168.0,
          174.0,
          180.0,
          186.0,
          192.0,
          198.0,
          204.0,
          210.0,
          216.0,
          222.0,
          228.0,
          234.0,
          240.0,
          246.00000000000003,
          252.0,
          258.00000000000006,
          264.0,
          270.00000000000006,
          276.00000000000006,
          282.0,
          288.00000000000006,
          294.0,
          300.0,
          306.00000000000006,
          312.00000000000006,
          318.00000000000006,
          324.0,
          330.00000000000006,
          336.00000000000006,
          342.0,
          348.00000000000006,
          354.0,
          360.0,
          366.00000000000006,
          372.00000000000006,
          378.00000000000006,
          384.0,
          390.00000000000006,
          396.00000000000006,
          402.0,
          408.00000000000006,
          414.0,
          420.00000000000006,
          426.00000000000006,
          432.00000000000006,
          438.00000000000006,
          444.0,
          450.00000000000006,
          456.00000000000006,
          462.0,
          468.00000000000006,
          474.0,
          480.0,
          486.0,
          491.99999999999994,
          498.00000000000006,
          504.0,
          510.0,
          516.0,
          522.0,
          528.0,
          534.0,
          540.0,
          546.0,
          552.0,
          557.9999999999999,
          564.0,
          570.0,
          576.0,
          582.0000000000001,
          587.9999999999999,
          593.9999999999999,
          600.0,
          606.0,
          612.0000000000001,
          618.0,
          624.0,
          630.0,
          636.0,
          642.0,
          648.0,
          654.0,
          660.0,
          666.0,
          672.0,
          677.9999999999999,
          684.0,
          690.0,
          696.0,
          702.0000000000001,
          707.9999999999999,
          713.9999999999999,
          720.0,
          726.0,
          732.0000000000001,
          738.0,
          744.0,
          750.0,
          756.0,
          762.0,
          768.0,
          774.0,
          780.0,
          786.0000000000001,
          792.0,
          797.9999999999999,
          804.0,
          810.0,
          816.0,
          822.0000000000001,
          827.9999999999999,
          834.0,
          840.0,
          846.0,
          852.0000000000001,
          858.0,
          864.0,
          870.0,
          876.0,
          882.0,
          888.0,
          894.0,
          900.0,
          906.0000000000001,
          912.0,
          917.9999999999999,
          924.0,
          930.0,
          936.0,
          942.0000000000002,
          948.0,
          954.0,
          960.0,
          966.0000000000001,
          972.0,
          977.9999999999998,
          984.0000000000001,
          990.0,
          996.0000000000001,
          1002.0,
          1008.0,
          1014.0000000000001,
          1020.0,
          1026.0,
          1032.0,
          1038.0,
          1044.0,
          1050.0,
          1056.0,
          1062.0,
          1068.0,
          1074.0,
          1080.0,
          1086.0,
          1092.0,
          1098.0,
          1104.0,
          1110.0,
          1116.0,
          1122.0000000000002,
          1128.0,
          1134.0,
          1140.0,
          1145.9999999999998,
          1152.0000000000002,
          1158.0,
          1164.0000000000002,
          1170.0,
          1175.9999999999998,
          1182.0,
          1188.0,
          1194.0000000000002
         ],
         "xaxis": "x",
         "y": [
          0.05694921400633341,
          0.106691692624601,
          0.1505399817401608,
          0.18950474839978404,
          0.2243768393905145,
          0.25578395315666663,
          0.28423063862114234,
          0.3101270762384721,
          0.333810147767393,
          0.35555910214852154,
          0.3756073681645842,
          0.3941515760447075,
          0.41135852823558666,
          0.42737064338770864,
          0.44231024995894536,
          0.45628300338863015,
          0.46938062869696634,
          0.48168313891521,
          0.4932606426185806,
          0.5041748266914068,
          0.5144801804236131,
          0.5242250120963314,
          0.5334522979671106,
          0.542200395031913,
          0.5505036423988583,
          0.5583928710651774,
          0.5658958379710236,
          0.5730375971394845,
          0.5798408182832454,
          0.5863260613575961,
          0.5925120140073683,
          0.5984156976232494,
          0.6040526467518111,
          0.609437065786149,
          0.6145819662321402,
          0.6194992872981476,
          0.6242000021213836,
          0.628694211597263,
          0.6329912274575555,
          0.6370996460134597,
          0.6410274137610612,
          0.6447818858812528,
          0.6483698785104028,
          0.6517977155498539,
          0.6550712706602025,
          0.65819600501298,
          0.6611770012895991,
          0.6640189943579787,
          0.6667263989958286,
          0.6693033349883094,
          0.671753649884978,
          0.6740809396723794,
          0.6762885675672261,
          0.6783796811449371,
          0.6803572279580445,
          0.6822239698022898,
          0.6839824957696713,
          0.6856352341985085,
          0.687184463634413,
          0.6886323228905901,
          0.6899808202988116,
          0.6912318422201702,
          0.692387160887216,
          0.6934484416332741,
          0.6944172495731116,
          0.6952950557704831,
          0.6960832429492619,
          0.6967831107777163,
          0.697395880768893,
          0.6979227008260962,
          0.6983646494652783,
          0.698722739734855,
          0.6989979228665192,
          0.6991910916726745,
          0.6993030837071389,
          0.6993346842201348,
          0.6992866289082894,
          0.699159606486949,
          0.6989542610922599,
          0.6986711945259634,
          0.6983109683586931,
          0.6978741058980618,
          0.6973610940318908,
          0.6967723849566239,
          0.6961083978008693,
          0.6953695201458525,
          0.6945561094529458,
          0.6936684944141083,
          0.6927069762042235,
          0.6916718296803893,
          0.6905633044903304,
          0.6893816261312126,
          0.6881269969385538,
          0.6867995970218078,
          0.6853995851433321,
          0.6839270995544521,
          0.682382258773768,
          0.6807651623312931,
          0.6790758914654099,
          0.6773145097851258,
          0.6754810638908813,
          0.6735755839684002,
          0.6715980843408367,
          0.6695485640034305,
          0.6674270071128191,
          0.6652333834681496,
          0.662967648950382,
          0.6606297459513127,
          0.6582196037648342,
          0.6557371389780644,
          0.6531822558161667,
          0.6505548464961968,
          0.6478547915342535,
          0.6450819600622745,
          0.6422362101101946,
          0.6393173888792738,
          0.6363253330042971,
          0.6332598687936772,
          0.6301208124635886,
          0.6269079703613358,
          0.6236211391640519,
          0.6202601060841265,
          0.616824649051142,
          0.6133145368834686,
          0.6097295294638256,
          0.6060693778863298,
          0.6023338246128215,
          0.5985226036056274,
          0.594635440463488,
          0.5906720525439506,
          0.5866321490787593,
          0.582515431289233,
          0.5783215924823989,
          0.5740503181486363,
          0.5697012860602294,
          0.5652741663449138,
          0.5607686215715788,
          0.5561843068235329,
          0.5515208697641354,
          0.546777950703053,
          0.5419551826552574,
          0.5370521913919004,
          0.5320685954913555,
          0.527004006388021,
          0.5218580284065674,
          0.5166302588063055,
          0.5113202878108737,
          0.5059276986379426,
          0.5004520675254387,
          0.49489296375550396,
          0.4892499496705034,
          0.4835225806958879,
          0.4777104053420462,
          0.47181296522351035,
          0.4658297950648211,
          0.4597604226961434,
          0.45360436906233903,
          0.44736114821982825,
          0.44103026732850403,
          0.434611226649624,
          0.4281035195310884,
          0.4215066323983717,
          0.41482004473610606,
          0.40804322907906393,
          0.4011756509847613,
          0.39421676901302166,
          0.387166034703147,
          0.3800228925523368,
          0.3727867799759777,
          0.36545712728896745,
          0.3580333576666788,
          0.35051488710578943,
          0.3429011244027399,
          0.335191471094449,
          0.3273853214314679,
          0.31948206233628595,
          0.3114810733430992,
          0.3033817265687805,
          0.29518338665040983,
          0.2868854107056369,
          0.2784871482685272,
          0.26998794124405695,
          0.2613871238469553,
          0.25268402254540345,
          0.24387795599817721,
          0.23496823499246136,
          0.22595416238213298,
          0.2168350330239149,
          0.20761013369981493,
          0.19827874305703191,
          0.18884013153152474,
          0.17929356127637808,
          0.169638286083837,
          0.1598735513115847,
          0.14999859379885083,
          0.1400126417920953,
          0.12991491484765075,
          0.11970462376848816,
          0.10938097049850777
         ],
         "yaxis": "y",
         "type": "scatter"
        }
       ],
       "layout": {
        "template": {
         "data": {
          "histogram2dcontour": [
           {
            "type": "histogram2dcontour",
            "colorbar": {
             "outlinewidth": 0,
             "ticks": ""
            },
            "colorscale": [
             [
              0.0,
              "#0d0887"
             ],
             [
              0.1111111111111111,
              "#46039f"
             ],
             [
              0.2222222222222222,
              "#7201a8"
             ],
             [
              0.3333333333333333,
              "#9c179e"
             ],
             [
              0.4444444444444444,
              "#bd3786"
             ],
             [
              0.5555555555555556,
              "#d8576b"
             ],
             [
              0.6666666666666666,
              "#ed7953"
             ],
             [
              0.7777777777777778,
              "#fb9f3a"
             ],
             [
              0.8888888888888888,
              "#fdca26"
             ],
             [
              1.0,
              "#f0f921"
             ]
            ]
           }
          ],
          "choropleth": [
           {
            "type": "choropleth",
            "colorbar": {
             "outlinewidth": 0,
             "ticks": ""
            }
           }
          ],
          "histogram2d": [
           {
            "type": "histogram2d",
            "colorbar": {
             "outlinewidth": 0,
             "ticks": ""
            },
            "colorscale": [
             [
              0.0,
              "#0d0887"
             ],
             [
              0.1111111111111111,
              "#46039f"
             ],
             [
              0.2222222222222222,
              "#7201a8"
             ],
             [
              0.3333333333333333,
              "#9c179e"
             ],
             [
              0.4444444444444444,
              "#bd3786"
             ],
             [
              0.5555555555555556,
              "#d8576b"
             ],
             [
              0.6666666666666666,
              "#ed7953"
             ],
             [
              0.7777777777777778,
              "#fb9f3a"
             ],
             [
              0.8888888888888888,
              "#fdca26"
             ],
             [
              1.0,
              "#f0f921"
             ]
            ]
           }
          ],
          "heatmap": [
           {
            "type": "heatmap",
            "colorbar": {
             "outlinewidth": 0,
             "ticks": ""
            },
            "colorscale": [
             [
              0.0,
              "#0d0887"
             ],
             [
              0.1111111111111111,
              "#46039f"
             ],
             [
              0.2222222222222222,
              "#7201a8"
             ],
             [
              0.3333333333333333,
              "#9c179e"
             ],
             [
              0.4444444444444444,
              "#bd3786"
             ],
             [
              0.5555555555555556,
              "#d8576b"
             ],
             [
              0.6666666666666666,
              "#ed7953"
             ],
             [
              0.7777777777777778,
              "#fb9f3a"
             ],
             [
              0.8888888888888888,
              "#fdca26"
             ],
             [
              1.0,
              "#f0f921"
             ]
            ]
           }
          ],
          "heatmapgl": [
           {
            "type": "heatmapgl",
            "colorbar": {
             "outlinewidth": 0,
             "ticks": ""
            },
            "colorscale": [
             [
              0.0,
              "#0d0887"
             ],
             [
              0.1111111111111111,
              "#46039f"
             ],
             [
              0.2222222222222222,
              "#7201a8"
             ],
             [
              0.3333333333333333,
              "#9c179e"
             ],
             [
              0.4444444444444444,
              "#bd3786"
             ],
             [
              0.5555555555555556,
              "#d8576b"
             ],
             [
              0.6666666666666666,
              "#ed7953"
             ],
             [
              0.7777777777777778,
              "#fb9f3a"
             ],
             [
              0.8888888888888888,
              "#fdca26"
             ],
             [
              1.0,
              "#f0f921"
             ]
            ]
           }
          ],
          "contourcarpet": [
           {
            "type": "contourcarpet",
            "colorbar": {
             "outlinewidth": 0,
             "ticks": ""
            }
           }
          ],
          "contour": [
           {
            "type": "contour",
            "colorbar": {
             "outlinewidth": 0,
             "ticks": ""
            },
            "colorscale": [
             [
              0.0,
              "#0d0887"
             ],
             [
              0.1111111111111111,
              "#46039f"
             ],
             [
              0.2222222222222222,
              "#7201a8"
             ],
             [
              0.3333333333333333,
              "#9c179e"
             ],
             [
              0.4444444444444444,
              "#bd3786"
             ],
             [
              0.5555555555555556,
              "#d8576b"
             ],
             [
              0.6666666666666666,
              "#ed7953"
             ],
             [
              0.7777777777777778,
              "#fb9f3a"
             ],
             [
              0.8888888888888888,
              "#fdca26"
             ],
             [
              1.0,
              "#f0f921"
             ]
            ]
           }
          ],
          "surface": [
           {
            "type": "surface",
            "colorbar": {
             "outlinewidth": 0,
             "ticks": ""
            },
            "colorscale": [
             [
              0.0,
              "#0d0887"
             ],
             [
              0.1111111111111111,
              "#46039f"
             ],
             [
              0.2222222222222222,
              "#7201a8"
             ],
             [
              0.3333333333333333,
              "#9c179e"
             ],
             [
              0.4444444444444444,
              "#bd3786"
             ],
             [
              0.5555555555555556,
              "#d8576b"
             ],
             [
              0.6666666666666666,
              "#ed7953"
             ],
             [
              0.7777777777777778,
              "#fb9f3a"
             ],
             [
              0.8888888888888888,
              "#fdca26"
             ],
             [
              1.0,
              "#f0f921"
             ]
            ]
           }
          ],
          "mesh3d": [
           {
            "type": "mesh3d",
            "colorbar": {
             "outlinewidth": 0,
             "ticks": ""
            }
           }
          ],
          "scatter": [
           {
            "marker": {
             "line": {
              "color": "#283442"
             }
            },
            "type": "scatter"
           }
          ],
          "parcoords": [
           {
            "type": "parcoords",
            "line": {
             "colorbar": {
              "outlinewidth": 0,
              "ticks": ""
             }
            }
           }
          ],
          "scatterpolargl": [
           {
            "type": "scatterpolargl",
            "marker": {
             "colorbar": {
              "outlinewidth": 0,
              "ticks": ""
             }
            }
           }
          ],
          "bar": [
           {
            "error_x": {
             "color": "#f2f5fa"
            },
            "error_y": {
             "color": "#f2f5fa"
            },
            "marker": {
             "line": {
              "color": "rgb(17,17,17)",
              "width": 0.5
             },
             "pattern": {
              "fillmode": "overlay",
              "size": 10,
              "solidity": 0.2
             }
            },
            "type": "bar"
           }
          ],
          "scattergeo": [
           {
            "type": "scattergeo",
            "marker": {
             "colorbar": {
              "outlinewidth": 0,
              "ticks": ""
             }
            }
           }
          ],
          "scatterpolar": [
           {
            "type": "scatterpolar",
            "marker": {
             "colorbar": {
              "outlinewidth": 0,
              "ticks": ""
             }
            }
           }
          ],
          "histogram": [
           {
            "marker": {
             "pattern": {
              "fillmode": "overlay",
              "size": 10,
              "solidity": 0.2
             }
            },
            "type": "histogram"
           }
          ],
          "scattergl": [
           {
            "marker": {
             "line": {
              "color": "#283442"
             }
            },
            "type": "scattergl"
           }
          ],
          "scatter3d": [
           {
            "type": "scatter3d",
            "line": {
             "colorbar": {
              "outlinewidth": 0,
              "ticks": ""
             }
            },
            "marker": {
             "colorbar": {
              "outlinewidth": 0,
              "ticks": ""
             }
            }
           }
          ],
          "scattermapbox": [
           {
            "type": "scattermapbox",
            "marker": {
             "colorbar": {
              "outlinewidth": 0,
              "ticks": ""
             }
            }
           }
          ],
          "scatterternary": [
           {
            "type": "scatterternary",
            "marker": {
             "colorbar": {
              "outlinewidth": 0,
              "ticks": ""
             }
            }
           }
          ],
          "scattercarpet": [
           {
            "type": "scattercarpet",
            "marker": {
             "colorbar": {
              "outlinewidth": 0,
              "ticks": ""
             }
            }
           }
          ],
          "carpet": [
           {
            "aaxis": {
             "endlinecolor": "#A2B1C6",
             "gridcolor": "#506784",
             "linecolor": "#506784",
             "minorgridcolor": "#506784",
             "startlinecolor": "#A2B1C6"
            },
            "baxis": {
             "endlinecolor": "#A2B1C6",
             "gridcolor": "#506784",
             "linecolor": "#506784",
             "minorgridcolor": "#506784",
             "startlinecolor": "#A2B1C6"
            },
            "type": "carpet"
           }
          ],
          "table": [
           {
            "cells": {
             "fill": {
              "color": "#506784"
             },
             "line": {
              "color": "rgb(17,17,17)"
             }
            },
            "header": {
             "fill": {
              "color": "#2a3f5f"
             },
             "line": {
              "color": "rgb(17,17,17)"
             }
            },
            "type": "table"
           }
          ],
          "barpolar": [
           {
            "marker": {
             "line": {
              "color": "rgb(17,17,17)",
              "width": 0.5
             },
             "pattern": {
              "fillmode": "overlay",
              "size": 10,
              "solidity": 0.2
             }
            },
            "type": "barpolar"
           }
          ],
          "pie": [
           {
            "automargin": true,
            "type": "pie"
           }
          ]
         },
         "layout": {
          "autotypenumbers": "strict",
          "colorway": [
           "#636efa",
           "#EF553B",
           "#00cc96",
           "#ab63fa",
           "#FFA15A",
           "#19d3f3",
           "#FF6692",
           "#B6E880",
           "#FF97FF",
           "#FECB52"
          ],
          "font": {
           "color": "#f2f5fa"
          },
          "hovermode": "closest",
          "hoverlabel": {
           "align": "left"
          },
          "paper_bgcolor": "rgb(17,17,17)",
          "plot_bgcolor": "rgb(17,17,17)",
          "polar": {
           "bgcolor": "rgb(17,17,17)",
           "angularaxis": {
            "gridcolor": "#506784",
            "linecolor": "#506784",
            "ticks": ""
           },
           "radialaxis": {
            "gridcolor": "#506784",
            "linecolor": "#506784",
            "ticks": ""
           }
          },
          "ternary": {
           "bgcolor": "rgb(17,17,17)",
           "aaxis": {
            "gridcolor": "#506784",
            "linecolor": "#506784",
            "ticks": ""
           },
           "baxis": {
            "gridcolor": "#506784",
            "linecolor": "#506784",
            "ticks": ""
           },
           "caxis": {
            "gridcolor": "#506784",
            "linecolor": "#506784",
            "ticks": ""
           }
          },
          "coloraxis": {
           "colorbar": {
            "outlinewidth": 0,
            "ticks": ""
           }
          },
          "colorscale": {
           "sequential": [
            [
             0.0,
             "#0d0887"
            ],
            [
             0.1111111111111111,
             "#46039f"
            ],
            [
             0.2222222222222222,
             "#7201a8"
            ],
            [
             0.3333333333333333,
             "#9c179e"
            ],
            [
             0.4444444444444444,
             "#bd3786"
            ],
            [
             0.5555555555555556,
             "#d8576b"
            ],
            [
             0.6666666666666666,
             "#ed7953"
            ],
            [
             0.7777777777777778,
             "#fb9f3a"
            ],
            [
             0.8888888888888888,
             "#fdca26"
            ],
            [
             1.0,
             "#f0f921"
            ]
           ],
           "sequentialminus": [
            [
             0.0,
             "#0d0887"
            ],
            [
             0.1111111111111111,
             "#46039f"
            ],
            [
             0.2222222222222222,
             "#7201a8"
            ],
            [
             0.3333333333333333,
             "#9c179e"
            ],
            [
             0.4444444444444444,
             "#bd3786"
            ],
            [
             0.5555555555555556,
             "#d8576b"
            ],
            [
             0.6666666666666666,
             "#ed7953"
            ],
            [
             0.7777777777777778,
             "#fb9f3a"
            ],
            [
             0.8888888888888888,
             "#fdca26"
            ],
            [
             1.0,
             "#f0f921"
            ]
           ],
           "diverging": [
            [
             0,
             "#8e0152"
            ],
            [
             0.1,
             "#c51b7d"
            ],
            [
             0.2,
             "#de77ae"
            ],
            [
             0.3,
             "#f1b6da"
            ],
            [
             0.4,
             "#fde0ef"
            ],
            [
             0.5,
             "#f7f7f7"
            ],
            [
             0.6,
             "#e6f5d0"
            ],
            [
             0.7,
             "#b8e186"
            ],
            [
             0.8,
             "#7fbc41"
            ],
            [
             0.9,
             "#4d9221"
            ],
            [
             1,
             "#276419"
            ]
           ]
          },
          "xaxis": {
           "gridcolor": "#283442",
           "linecolor": "#506784",
           "ticks": "",
           "title": {
            "standoff": 15
           },
           "zerolinecolor": "#283442",
           "automargin": true,
           "zerolinewidth": 2
          },
          "yaxis": {
           "gridcolor": "#283442",
           "linecolor": "#506784",
           "ticks": "",
           "title": {
            "standoff": 15
           },
           "zerolinecolor": "#283442",
           "automargin": true,
           "zerolinewidth": 2
          },
          "scene": {
           "xaxis": {
            "backgroundcolor": "rgb(17,17,17)",
            "gridcolor": "#506784",
            "linecolor": "#506784",
            "showbackground": true,
            "ticks": "",
            "zerolinecolor": "#C8D4E3",
            "gridwidth": 2
           },
           "yaxis": {
            "backgroundcolor": "rgb(17,17,17)",
            "gridcolor": "#506784",
            "linecolor": "#506784",
            "showbackground": true,
            "ticks": "",
            "zerolinecolor": "#C8D4E3",
            "gridwidth": 2
           },
           "zaxis": {
            "backgroundcolor": "rgb(17,17,17)",
            "gridcolor": "#506784",
            "linecolor": "#506784",
            "showbackground": true,
            "ticks": "",
            "zerolinecolor": "#C8D4E3",
            "gridwidth": 2
           }
          },
          "shapedefaults": {
           "line": {
            "color": "#f2f5fa"
           }
          },
          "annotationdefaults": {
           "arrowcolor": "#f2f5fa",
           "arrowhead": 0,
           "arrowwidth": 1
          },
          "geo": {
           "bgcolor": "rgb(17,17,17)",
           "landcolor": "rgb(17,17,17)",
           "subunitcolor": "#506784",
           "showland": true,
           "showlakes": true,
           "lakecolor": "rgb(17,17,17)"
          },
          "title": {
           "x": 0.05
          },
          "updatemenudefaults": {
           "bgcolor": "#506784",
           "borderwidth": 0
          },
          "sliderdefaults": {
           "bgcolor": "#C8D4E3",
           "borderwidth": 1,
           "bordercolor": "rgb(17,17,17)",
           "tickwidth": 0
          },
          "mapbox": {
           "style": "dark"
          }
         }
        },
        "xaxis": {
         "anchor": "y",
         "domain": [
          0.0,
          1.0
         ],
         "title": {
          "text": "Flow [l/min]"
         }
        },
        "yaxis": {
         "anchor": "x",
         "domain": [
          0.0,
          1.0
         ],
         "title": {
          "text": "Pump efficiency"
         },
         "range": [
          0,
          1
         ]
        },
        "legend": {
         "title": {
          "text": "Speed"
         },
         "tracegroupgap": 0
        },
        "title": {
         "text": "Pump efficiency"
        }
       },
       "config": {
        "plotlyServerURL": "https://plot.ly"
       }
      },
      "text/html": "<div>                            <div id=\"6e4a673c-5a99-4c2b-b95b-4768c8b571db\" class=\"plotly-graph-div\" style=\"height:525px; width:100%;\"></div>            <script type=\"text/javascript\">                require([\"plotly\"], function(Plotly) {                    window.PLOTLYENV=window.PLOTLYENV || {};                                    if (document.getElementById(\"6e4a673c-5a99-4c2b-b95b-4768c8b571db\")) {                    Plotly.newPlot(                        \"6e4a673c-5a99-4c2b-b95b-4768c8b571db\",                        [{\"hovertemplate\":\"Speed=1200<br>Flow [l/min]=%{x}<br>Pump efficiency=%{y}<extra></extra>\",\"legendgroup\":\"1200\",\"line\":{\"color\":\"#636efa\",\"dash\":\"solid\"},\"marker\":{\"symbol\":\"circle\"},\"mode\":\"lines\",\"name\":\"1200\",\"orientation\":\"v\",\"showlegend\":true,\"x\":[6.0,12.0,18.000000000000004,24.0,30.0,36.00000000000001,42.00000000000001,48.0,54.00000000000001,60.0,66.0,72.00000000000001,78.00000000000001,84.00000000000001,90.0,96.0,102.00000000000001,108.00000000000001,114.00000000000001,120.0,126.0,132.0,138.0,144.0,150.0,156.0,162.0,168.0,174.0,180.0,186.0,192.0,198.0,204.0,210.0,216.0,222.0,228.0,234.0,240.0,246.00000000000003,252.0,258.00000000000006,264.0,270.00000000000006,276.00000000000006,282.0,288.00000000000006,294.0,300.0,306.00000000000006,312.00000000000006,318.00000000000006,324.0,330.00000000000006,336.00000000000006,342.0,348.00000000000006,354.0,360.0,366.00000000000006,372.00000000000006,378.00000000000006,384.0,390.00000000000006,396.00000000000006,402.0,408.00000000000006,414.0,420.00000000000006,426.00000000000006,432.00000000000006,438.00000000000006,444.0,450.00000000000006,456.00000000000006,462.0,468.00000000000006,474.0,480.0,486.0,491.99999999999994,498.00000000000006,504.0,510.0,516.0,522.0,528.0,534.0,540.0,546.0,552.0,557.9999999999999,564.0,570.0,576.0,582.0000000000001,587.9999999999999,593.9999999999999,600.0,606.0,612.0000000000001,618.0,624.0,630.0,636.0,642.0,648.0,654.0,660.0,666.0,672.0,677.9999999999999,684.0,690.0,696.0,702.0000000000001,707.9999999999999,713.9999999999999,720.0,726.0,732.0000000000001,738.0,744.0,750.0,756.0,762.0,768.0,774.0,780.0,786.0000000000001,792.0,797.9999999999999,804.0,810.0,816.0,822.0000000000001,827.9999999999999,834.0,840.0,846.0,852.0000000000001,858.0,864.0,870.0,876.0,882.0,888.0,894.0,900.0,906.0000000000001,912.0,917.9999999999999,924.0,930.0,936.0,942.0000000000002,948.0,954.0,960.0,966.0000000000001,972.0,977.9999999999998,984.0000000000001,990.0,996.0000000000001,1002.0,1008.0,1014.0000000000001,1020.0,1026.0,1032.0,1038.0,1044.0,1050.0,1056.0,1062.0,1068.0,1074.0,1080.0,1086.0,1092.0,1098.0,1104.0,1110.0,1116.0,1122.0000000000002,1128.0,1134.0,1140.0,1145.9999999999998,1152.0000000000002,1158.0,1164.0000000000002,1170.0,1175.9999999999998,1182.0,1188.0,1194.0000000000002],\"xaxis\":\"x\",\"y\":[0.07891550213724761,0.1443471964387442,0.19954312315888798,0.24678034164235765,0.2877024751239295,0.3235255985783543,0.35516872308447694,0.38333924126222707,0.40859048410235965,0.43136146096786226,0.4520049015206136,0.4708074291081024,0.4880043264079622,0.5037905122150778,0.5183288171040852,0.5317563028680367,0.544189144771099,0.5557264440036472,0.5664532341843888,0.5764428739135007,0.5857589668240745,0.5944569145279449,0.6025851818057604,0.6101863343817003,0.6172978955852908,0.6239530577253816,0.6301812761292842,0.6360087678249634,0.6414589322477765,0.6465527078332508,0.6513088756156503,0.6557443187843536,0.6598742454844567,0.6637123807803432,0.6672711326549658,0.670561736042954,0.6735943782138684,0.6763783082653563,0.6789219330157067,0.6812329012293553,0.6833181777996734,0.6851841092437524,0.6868364816857682,0.6882805723024186,0.6895211950740981,0.6905627415669401,0.6914092173504918,0.6920642745978837,0.6925312413125904,0.692813147587078,0.6929127492341007,0.6928325490919356,0.6925748162593517,0.692141603496062,0.6915347629802356,0.6907559606066281,0.689806688966709,0.6886882791638836,0.6874019115690233,0.6859486256233502,0.6843293287996218,0.6825448047775676,0.6805957209307834,0.6784826351826095,0.6762060022884969,0.6737661795953539,0.6711634323373301,0.6683979384975306,0.6654697932738051,0.66237901319363,0.6591255398997352,0.6557092436382724,0.6521299264642315,0.6483873252107276,0.6444811142113192,0.6404109078201307,0.6361762627311448,0.631776680120904,0.6272116076190954,0.6224804411278511,0.6175825264990182,0.6125171610809111,0.6072835951347995,0.6018810331440393,0.5963086350199465,0.5905655171974621,0.5846507536475036,0.5785633768046207,0.5723023784107124,0.5658667102759063,0.5592552849855099,0.552466976528417,0.5455006208678311,0.5383550164458669,0.5310289246458549,0.5235210701943962,0.5158301415095592,0.5079547910159494,0.49989363539678705,0.49164525582751345,0.4832081981384112,0.47458097297551394,0.4657620558892829,0.45674988741359773,0.44754287310059,0.4381393835201552,0.428537754243175,0.4187362857748375,0.40873324347271994,0.3985268574332077,0.38811532234980745,0.3774967973515599,0.3666694057981568,0.35563123507618405,0.3443803363493937,0.3329147242886038,0.32123237679262784,0.30933123466693785,0.29720920129226064,0.2848641422669049,0.27229388502400365,0.2594962184295176,0.24646889236284328,0.23320961726632589,0.21971606367880717,0.20598586175074232,0.19201660073490512,0.17780582843877785,0.16335105070053785,0.1486497307902093,0.13369928881570753,0.11849710112067541,0.10304049962848165,0.08732677118126515,0.07135315686808862,0.055116851301068054,0.038615001895598536,0.021844708109629882,0.004803020679376938,-0.012513059200660029,-0.03010658068378411,-0.047980644133244474,-0.0661384019944103,-0.08458305968807216,-0.10331787654765058,-0.12234616676049044,-0.1416713003623164,-0.16129670422395803,-0.18122586311042996,-0.20146232072183148,-0.22200968080735112,-0.24287160827527543,-0.26405183035928526,-0.285554137784109,-0.30738238600897544,-0.3295404964612905,-0.35203245783642,-0.3748623273970266,-0.39803423235194907,-0.42155237123479494,-0.44542101533165707,-0.4696445101683658,-0.49422727699316993,-0.5191738143420506,-0.5444886996343574,-0.5701765907821047,-0.5962422278997183,-0.6226904350011908,-0.6495261217893621,-0.6767542854579368,-0.7043800125735432,-0.7324084809900675,-0.7608449618101996,-0.7896948214375279,-0.8189635236257183,-0.8486566316455206,-0.878779810450831,-0.9093388289792718,-0.9403395624434009,-0.9717879947181604,-1.0036902208151843,-1.036052449396012,-1.068881005349012,-1.1021823324793836,-1.1359629962416486,-1.1702296865782207,-1.2049892207932984,-1.2402485465511388,-1.276014744964757,-1.312295033734763,-1.3490967704073047,-1.386427455736918,-1.4242947371078225,-1.4627064121173448,-1.5016704321840033,-1.5411949063637125,-1.5812881051669387,-1.6219584646034386,-1.663214590251705],\"yaxis\":\"y\",\"type\":\"scatter\"},{\"hovertemplate\":\"Speed=1800<br>Flow [l/min]=%{x}<br>Pump efficiency=%{y}<extra></extra>\",\"legendgroup\":\"1800\",\"line\":{\"color\":\"#EF553B\",\"dash\":\"solid\"},\"marker\":{\"symbol\":\"circle\"},\"mode\":\"lines\",\"name\":\"1800\",\"orientation\":\"v\",\"showlegend\":true,\"x\":[6.0,12.0,18.000000000000004,24.0,30.0,36.00000000000001,42.00000000000001,48.0,54.00000000000001,60.0,66.0,72.00000000000001,78.00000000000001,84.00000000000001,90.0,96.0,102.00000000000001,108.00000000000001,114.00000000000001,120.0,126.0,132.0,138.0,144.0,150.0,156.0,162.0,168.0,174.0,180.0,186.0,192.0,198.0,204.0,210.0,216.0,222.0,228.0,234.0,240.0,246.00000000000003,252.0,258.00000000000006,264.0,270.00000000000006,276.00000000000006,282.0,288.00000000000006,294.0,300.0,306.00000000000006,312.00000000000006,318.00000000000006,324.0,330.00000000000006,336.00000000000006,342.0,348.00000000000006,354.0,360.0,366.00000000000006,372.00000000000006,378.00000000000006,384.0,390.00000000000006,396.00000000000006,402.0,408.00000000000006,414.0,420.00000000000006,426.00000000000006,432.00000000000006,438.00000000000006,444.0,450.00000000000006,456.00000000000006,462.0,468.00000000000006,474.0,480.0,486.0,491.99999999999994,498.00000000000006,504.0,510.0,516.0,522.0,528.0,534.0,540.0,546.0,552.0,557.9999999999999,564.0,570.0,576.0,582.0000000000001,587.9999999999999,593.9999999999999,600.0,606.0,612.0000000000001,618.0,624.0,630.0,636.0,642.0,648.0,654.0,660.0,666.0,672.0,677.9999999999999,684.0,690.0,696.0,702.0000000000001,707.9999999999999,713.9999999999999,720.0,726.0,732.0000000000001,738.0,744.0,750.0,756.0,762.0,768.0,774.0,780.0,786.0000000000001,792.0,797.9999999999999,804.0,810.0,816.0,822.0000000000001,827.9999999999999,834.0,840.0,846.0,852.0000000000001,858.0,864.0,870.0,876.0,882.0,888.0,894.0,900.0,906.0000000000001,912.0,917.9999999999999,924.0,930.0,936.0,942.0000000000002,948.0,954.0,960.0,966.0000000000001,972.0,977.9999999999998,984.0000000000001,990.0,996.0000000000001,1002.0,1008.0,1014.0000000000001,1020.0,1026.0,1032.0,1038.0,1044.0,1050.0,1056.0,1062.0,1068.0,1074.0,1080.0,1086.0,1092.0,1098.0,1104.0,1110.0,1116.0,1122.0000000000002,1128.0,1134.0,1140.0,1145.9999999999998,1152.0000000000002,1158.0,1164.0000000000002,1170.0,1175.9999999999998,1182.0,1188.0,1194.0000000000002],\"xaxis\":\"x\",\"y\":[0.05694921400633341,0.106691692624601,0.1505399817401608,0.18950474839978404,0.2243768393905145,0.25578395315666663,0.28423063862114234,0.3101270762384721,0.333810147767393,0.35555910214852154,0.3756073681645842,0.3941515760447075,0.41135852823558666,0.42737064338770864,0.44231024995894536,0.45628300338863015,0.46938062869696634,0.48168313891521,0.4932606426185806,0.5041748266914068,0.5144801804236131,0.5242250120963314,0.5334522979671106,0.542200395031913,0.5505036423988583,0.5583928710651774,0.5658958379710236,0.5730375971394845,0.5798408182832454,0.5863260613575961,0.5925120140073683,0.5984156976232494,0.6040526467518111,0.609437065786149,0.6145819662321402,0.6194992872981476,0.6242000021213836,0.628694211597263,0.6329912274575555,0.6370996460134597,0.6410274137610612,0.6447818858812528,0.6483698785104028,0.6517977155498539,0.6550712706602025,0.65819600501298,0.6611770012895991,0.6640189943579787,0.6667263989958286,0.6693033349883094,0.671753649884978,0.6740809396723794,0.6762885675672261,0.6783796811449371,0.6803572279580445,0.6822239698022898,0.6839824957696713,0.6856352341985085,0.687184463634413,0.6886323228905901,0.6899808202988116,0.6912318422201702,0.692387160887216,0.6934484416332741,0.6944172495731116,0.6952950557704831,0.6960832429492619,0.6967831107777163,0.697395880768893,0.6979227008260962,0.6983646494652783,0.698722739734855,0.6989979228665192,0.6991910916726745,0.6993030837071389,0.6993346842201348,0.6992866289082894,0.699159606486949,0.6989542610922599,0.6986711945259634,0.6983109683586931,0.6978741058980618,0.6973610940318908,0.6967723849566239,0.6961083978008693,0.6953695201458525,0.6945561094529458,0.6936684944141083,0.6927069762042235,0.6916718296803893,0.6905633044903304,0.6893816261312126,0.6881269969385538,0.6867995970218078,0.6853995851433321,0.6839270995544521,0.682382258773768,0.6807651623312931,0.6790758914654099,0.6773145097851258,0.6754810638908813,0.6735755839684002,0.6715980843408367,0.6695485640034305,0.6674270071128191,0.6652333834681496,0.662967648950382,0.6606297459513127,0.6582196037648342,0.6557371389780644,0.6531822558161667,0.6505548464961968,0.6478547915342535,0.6450819600622745,0.6422362101101946,0.6393173888792738,0.6363253330042971,0.6332598687936772,0.6301208124635886,0.6269079703613358,0.6236211391640519,0.6202601060841265,0.616824649051142,0.6133145368834686,0.6097295294638256,0.6060693778863298,0.6023338246128215,0.5985226036056274,0.594635440463488,0.5906720525439506,0.5866321490787593,0.582515431289233,0.5783215924823989,0.5740503181486363,0.5697012860602294,0.5652741663449138,0.5607686215715788,0.5561843068235329,0.5515208697641354,0.546777950703053,0.5419551826552574,0.5370521913919004,0.5320685954913555,0.527004006388021,0.5218580284065674,0.5166302588063055,0.5113202878108737,0.5059276986379426,0.5004520675254387,0.49489296375550396,0.4892499496705034,0.4835225806958879,0.4777104053420462,0.47181296522351035,0.4658297950648211,0.4597604226961434,0.45360436906233903,0.44736114821982825,0.44103026732850403,0.434611226649624,0.4281035195310884,0.4215066323983717,0.41482004473610606,0.40804322907906393,0.4011756509847613,0.39421676901302166,0.387166034703147,0.3800228925523368,0.3727867799759777,0.36545712728896745,0.3580333576666788,0.35051488710578943,0.3429011244027399,0.335191471094449,0.3273853214314679,0.31948206233628595,0.3114810733430992,0.3033817265687805,0.29518338665040983,0.2868854107056369,0.2784871482685272,0.26998794124405695,0.2613871238469553,0.25268402254540345,0.24387795599817721,0.23496823499246136,0.22595416238213298,0.2168350330239149,0.20761013369981493,0.19827874305703191,0.18884013153152474,0.17929356127637808,0.169638286083837,0.1598735513115847,0.14999859379885083,0.1400126417920953,0.12991491484765075,0.11970462376848816,0.10938097049850777],\"yaxis\":\"y\",\"type\":\"scatter\"}],                        {\"template\":{\"data\":{\"histogram2dcontour\":[{\"type\":\"histogram2dcontour\",\"colorbar\":{\"outlinewidth\":0,\"ticks\":\"\"},\"colorscale\":[[0.0,\"#0d0887\"],[0.1111111111111111,\"#46039f\"],[0.2222222222222222,\"#7201a8\"],[0.3333333333333333,\"#9c179e\"],[0.4444444444444444,\"#bd3786\"],[0.5555555555555556,\"#d8576b\"],[0.6666666666666666,\"#ed7953\"],[0.7777777777777778,\"#fb9f3a\"],[0.8888888888888888,\"#fdca26\"],[1.0,\"#f0f921\"]]}],\"choropleth\":[{\"type\":\"choropleth\",\"colorbar\":{\"outlinewidth\":0,\"ticks\":\"\"}}],\"histogram2d\":[{\"type\":\"histogram2d\",\"colorbar\":{\"outlinewidth\":0,\"ticks\":\"\"},\"colorscale\":[[0.0,\"#0d0887\"],[0.1111111111111111,\"#46039f\"],[0.2222222222222222,\"#7201a8\"],[0.3333333333333333,\"#9c179e\"],[0.4444444444444444,\"#bd3786\"],[0.5555555555555556,\"#d8576b\"],[0.6666666666666666,\"#ed7953\"],[0.7777777777777778,\"#fb9f3a\"],[0.8888888888888888,\"#fdca26\"],[1.0,\"#f0f921\"]]}],\"heatmap\":[{\"type\":\"heatmap\",\"colorbar\":{\"outlinewidth\":0,\"ticks\":\"\"},\"colorscale\":[[0.0,\"#0d0887\"],[0.1111111111111111,\"#46039f\"],[0.2222222222222222,\"#7201a8\"],[0.3333333333333333,\"#9c179e\"],[0.4444444444444444,\"#bd3786\"],[0.5555555555555556,\"#d8576b\"],[0.6666666666666666,\"#ed7953\"],[0.7777777777777778,\"#fb9f3a\"],[0.8888888888888888,\"#fdca26\"],[1.0,\"#f0f921\"]]}],\"heatmapgl\":[{\"type\":\"heatmapgl\",\"colorbar\":{\"outlinewidth\":0,\"ticks\":\"\"},\"colorscale\":[[0.0,\"#0d0887\"],[0.1111111111111111,\"#46039f\"],[0.2222222222222222,\"#7201a8\"],[0.3333333333333333,\"#9c179e\"],[0.4444444444444444,\"#bd3786\"],[0.5555555555555556,\"#d8576b\"],[0.6666666666666666,\"#ed7953\"],[0.7777777777777778,\"#fb9f3a\"],[0.8888888888888888,\"#fdca26\"],[1.0,\"#f0f921\"]]}],\"contourcarpet\":[{\"type\":\"contourcarpet\",\"colorbar\":{\"outlinewidth\":0,\"ticks\":\"\"}}],\"contour\":[{\"type\":\"contour\",\"colorbar\":{\"outlinewidth\":0,\"ticks\":\"\"},\"colorscale\":[[0.0,\"#0d0887\"],[0.1111111111111111,\"#46039f\"],[0.2222222222222222,\"#7201a8\"],[0.3333333333333333,\"#9c179e\"],[0.4444444444444444,\"#bd3786\"],[0.5555555555555556,\"#d8576b\"],[0.6666666666666666,\"#ed7953\"],[0.7777777777777778,\"#fb9f3a\"],[0.8888888888888888,\"#fdca26\"],[1.0,\"#f0f921\"]]}],\"surface\":[{\"type\":\"surface\",\"colorbar\":{\"outlinewidth\":0,\"ticks\":\"\"},\"colorscale\":[[0.0,\"#0d0887\"],[0.1111111111111111,\"#46039f\"],[0.2222222222222222,\"#7201a8\"],[0.3333333333333333,\"#9c179e\"],[0.4444444444444444,\"#bd3786\"],[0.5555555555555556,\"#d8576b\"],[0.6666666666666666,\"#ed7953\"],[0.7777777777777778,\"#fb9f3a\"],[0.8888888888888888,\"#fdca26\"],[1.0,\"#f0f921\"]]}],\"mesh3d\":[{\"type\":\"mesh3d\",\"colorbar\":{\"outlinewidth\":0,\"ticks\":\"\"}}],\"scatter\":[{\"marker\":{\"line\":{\"color\":\"#283442\"}},\"type\":\"scatter\"}],\"parcoords\":[{\"type\":\"parcoords\",\"line\":{\"colorbar\":{\"outlinewidth\":0,\"ticks\":\"\"}}}],\"scatterpolargl\":[{\"type\":\"scatterpolargl\",\"marker\":{\"colorbar\":{\"outlinewidth\":0,\"ticks\":\"\"}}}],\"bar\":[{\"error_x\":{\"color\":\"#f2f5fa\"},\"error_y\":{\"color\":\"#f2f5fa\"},\"marker\":{\"line\":{\"color\":\"rgb(17,17,17)\",\"width\":0.5},\"pattern\":{\"fillmode\":\"overlay\",\"size\":10,\"solidity\":0.2}},\"type\":\"bar\"}],\"scattergeo\":[{\"type\":\"scattergeo\",\"marker\":{\"colorbar\":{\"outlinewidth\":0,\"ticks\":\"\"}}}],\"scatterpolar\":[{\"type\":\"scatterpolar\",\"marker\":{\"colorbar\":{\"outlinewidth\":0,\"ticks\":\"\"}}}],\"histogram\":[{\"marker\":{\"pattern\":{\"fillmode\":\"overlay\",\"size\":10,\"solidity\":0.2}},\"type\":\"histogram\"}],\"scattergl\":[{\"marker\":{\"line\":{\"color\":\"#283442\"}},\"type\":\"scattergl\"}],\"scatter3d\":[{\"type\":\"scatter3d\",\"line\":{\"colorbar\":{\"outlinewidth\":0,\"ticks\":\"\"}},\"marker\":{\"colorbar\":{\"outlinewidth\":0,\"ticks\":\"\"}}}],\"scattermapbox\":[{\"type\":\"scattermapbox\",\"marker\":{\"colorbar\":{\"outlinewidth\":0,\"ticks\":\"\"}}}],\"scatterternary\":[{\"type\":\"scatterternary\",\"marker\":{\"colorbar\":{\"outlinewidth\":0,\"ticks\":\"\"}}}],\"scattercarpet\":[{\"type\":\"scattercarpet\",\"marker\":{\"colorbar\":{\"outlinewidth\":0,\"ticks\":\"\"}}}],\"carpet\":[{\"aaxis\":{\"endlinecolor\":\"#A2B1C6\",\"gridcolor\":\"#506784\",\"linecolor\":\"#506784\",\"minorgridcolor\":\"#506784\",\"startlinecolor\":\"#A2B1C6\"},\"baxis\":{\"endlinecolor\":\"#A2B1C6\",\"gridcolor\":\"#506784\",\"linecolor\":\"#506784\",\"minorgridcolor\":\"#506784\",\"startlinecolor\":\"#A2B1C6\"},\"type\":\"carpet\"}],\"table\":[{\"cells\":{\"fill\":{\"color\":\"#506784\"},\"line\":{\"color\":\"rgb(17,17,17)\"}},\"header\":{\"fill\":{\"color\":\"#2a3f5f\"},\"line\":{\"color\":\"rgb(17,17,17)\"}},\"type\":\"table\"}],\"barpolar\":[{\"marker\":{\"line\":{\"color\":\"rgb(17,17,17)\",\"width\":0.5},\"pattern\":{\"fillmode\":\"overlay\",\"size\":10,\"solidity\":0.2}},\"type\":\"barpolar\"}],\"pie\":[{\"automargin\":true,\"type\":\"pie\"}]},\"layout\":{\"autotypenumbers\":\"strict\",\"colorway\":[\"#636efa\",\"#EF553B\",\"#00cc96\",\"#ab63fa\",\"#FFA15A\",\"#19d3f3\",\"#FF6692\",\"#B6E880\",\"#FF97FF\",\"#FECB52\"],\"font\":{\"color\":\"#f2f5fa\"},\"hovermode\":\"closest\",\"hoverlabel\":{\"align\":\"left\"},\"paper_bgcolor\":\"rgb(17,17,17)\",\"plot_bgcolor\":\"rgb(17,17,17)\",\"polar\":{\"bgcolor\":\"rgb(17,17,17)\",\"angularaxis\":{\"gridcolor\":\"#506784\",\"linecolor\":\"#506784\",\"ticks\":\"\"},\"radialaxis\":{\"gridcolor\":\"#506784\",\"linecolor\":\"#506784\",\"ticks\":\"\"}},\"ternary\":{\"bgcolor\":\"rgb(17,17,17)\",\"aaxis\":{\"gridcolor\":\"#506784\",\"linecolor\":\"#506784\",\"ticks\":\"\"},\"baxis\":{\"gridcolor\":\"#506784\",\"linecolor\":\"#506784\",\"ticks\":\"\"},\"caxis\":{\"gridcolor\":\"#506784\",\"linecolor\":\"#506784\",\"ticks\":\"\"}},\"coloraxis\":{\"colorbar\":{\"outlinewidth\":0,\"ticks\":\"\"}},\"colorscale\":{\"sequential\":[[0.0,\"#0d0887\"],[0.1111111111111111,\"#46039f\"],[0.2222222222222222,\"#7201a8\"],[0.3333333333333333,\"#9c179e\"],[0.4444444444444444,\"#bd3786\"],[0.5555555555555556,\"#d8576b\"],[0.6666666666666666,\"#ed7953\"],[0.7777777777777778,\"#fb9f3a\"],[0.8888888888888888,\"#fdca26\"],[1.0,\"#f0f921\"]],\"sequentialminus\":[[0.0,\"#0d0887\"],[0.1111111111111111,\"#46039f\"],[0.2222222222222222,\"#7201a8\"],[0.3333333333333333,\"#9c179e\"],[0.4444444444444444,\"#bd3786\"],[0.5555555555555556,\"#d8576b\"],[0.6666666666666666,\"#ed7953\"],[0.7777777777777778,\"#fb9f3a\"],[0.8888888888888888,\"#fdca26\"],[1.0,\"#f0f921\"]],\"diverging\":[[0,\"#8e0152\"],[0.1,\"#c51b7d\"],[0.2,\"#de77ae\"],[0.3,\"#f1b6da\"],[0.4,\"#fde0ef\"],[0.5,\"#f7f7f7\"],[0.6,\"#e6f5d0\"],[0.7,\"#b8e186\"],[0.8,\"#7fbc41\"],[0.9,\"#4d9221\"],[1,\"#276419\"]]},\"xaxis\":{\"gridcolor\":\"#283442\",\"linecolor\":\"#506784\",\"ticks\":\"\",\"title\":{\"standoff\":15},\"zerolinecolor\":\"#283442\",\"automargin\":true,\"zerolinewidth\":2},\"yaxis\":{\"gridcolor\":\"#283442\",\"linecolor\":\"#506784\",\"ticks\":\"\",\"title\":{\"standoff\":15},\"zerolinecolor\":\"#283442\",\"automargin\":true,\"zerolinewidth\":2},\"scene\":{\"xaxis\":{\"backgroundcolor\":\"rgb(17,17,17)\",\"gridcolor\":\"#506784\",\"linecolor\":\"#506784\",\"showbackground\":true,\"ticks\":\"\",\"zerolinecolor\":\"#C8D4E3\",\"gridwidth\":2},\"yaxis\":{\"backgroundcolor\":\"rgb(17,17,17)\",\"gridcolor\":\"#506784\",\"linecolor\":\"#506784\",\"showbackground\":true,\"ticks\":\"\",\"zerolinecolor\":\"#C8D4E3\",\"gridwidth\":2},\"zaxis\":{\"backgroundcolor\":\"rgb(17,17,17)\",\"gridcolor\":\"#506784\",\"linecolor\":\"#506784\",\"showbackground\":true,\"ticks\":\"\",\"zerolinecolor\":\"#C8D4E3\",\"gridwidth\":2}},\"shapedefaults\":{\"line\":{\"color\":\"#f2f5fa\"}},\"annotationdefaults\":{\"arrowcolor\":\"#f2f5fa\",\"arrowhead\":0,\"arrowwidth\":1},\"geo\":{\"bgcolor\":\"rgb(17,17,17)\",\"landcolor\":\"rgb(17,17,17)\",\"subunitcolor\":\"#506784\",\"showland\":true,\"showlakes\":true,\"lakecolor\":\"rgb(17,17,17)\"},\"title\":{\"x\":0.05},\"updatemenudefaults\":{\"bgcolor\":\"#506784\",\"borderwidth\":0},\"sliderdefaults\":{\"bgcolor\":\"#C8D4E3\",\"borderwidth\":1,\"bordercolor\":\"rgb(17,17,17)\",\"tickwidth\":0},\"mapbox\":{\"style\":\"dark\"}}},\"xaxis\":{\"anchor\":\"y\",\"domain\":[0.0,1.0],\"title\":{\"text\":\"Flow [l/min]\"}},\"yaxis\":{\"anchor\":\"x\",\"domain\":[0.0,1.0],\"title\":{\"text\":\"Pump efficiency\"},\"range\":[0,1]},\"legend\":{\"title\":{\"text\":\"Speed\"},\"tracegroupgap\":0},\"title\":{\"text\":\"Pump efficiency\"}},                        {\"responsive\": true}                    ).then(function(){\n                            \nvar gd = document.getElementById('6e4a673c-5a99-4c2b-b95b-4768c8b571db');\nvar x = new MutationObserver(function (mutations, observer) {{\n        var display = window.getComputedStyle(gd).display;\n        if (!display || display === 'none') {{\n            console.log([gd, 'removed!']);\n            Plotly.purge(gd);\n            observer.disconnect();\n        }}\n}});\n\n// Listen for the removal of the full notebook cells\nvar notebookContainer = gd.closest('#notebook-container');\nif (notebookContainer) {{\n    x.observe(notebookContainer, {childList: true});\n}}\n\n// Listen for the clearing of the current output cell\nvar outputEl = gd.closest('.output');\nif (outputEl) {{\n    x.observe(outputEl, {childList: true});\n}}\n\n                        })                };                });            </script>        </div>"
     },
     "metadata": {},
     "output_type": "display_data"
    },
    {
     "data": {
      "application/vnd.plotly.v1+json": {
       "data": [
        {
         "hovertemplate": "Speed=1200<br>Flow [l/min]=%{x}<br>Incidence loss=%{y}<extra></extra>",
         "legendgroup": "1200",
         "line": {
          "color": "#636efa",
          "dash": "solid"
         },
         "marker": {
          "symbol": "circle"
         },
         "mode": "lines",
         "name": "1200",
         "orientation": "v",
         "showlegend": true,
         "x": [
          6.0,
          12.0,
          18.000000000000004,
          24.0,
          30.0,
          36.00000000000001,
          42.00000000000001,
          48.0,
          54.00000000000001,
          60.0,
          66.0,
          72.00000000000001,
          78.00000000000001,
          84.00000000000001,
          90.0,
          96.0,
          102.00000000000001,
          108.00000000000001,
          114.00000000000001,
          120.0,
          126.0,
          132.0,
          138.0,
          144.0,
          150.0,
          156.0,
          162.0,
          168.0,
          174.0,
          180.0,
          186.0,
          192.0,
          198.0,
          204.0,
          210.0,
          216.0,
          222.0,
          228.0,
          234.0,
          240.0,
          246.00000000000003,
          252.0,
          258.00000000000006,
          264.0,
          270.00000000000006,
          276.00000000000006,
          282.0,
          288.00000000000006,
          294.0,
          300.0,
          306.00000000000006,
          312.00000000000006,
          318.00000000000006,
          324.0,
          330.00000000000006,
          336.00000000000006,
          342.0,
          348.00000000000006,
          354.0,
          360.0,
          366.00000000000006,
          372.00000000000006,
          378.00000000000006,
          384.0,
          390.00000000000006,
          396.00000000000006,
          402.0,
          408.00000000000006,
          414.0,
          420.00000000000006,
          426.00000000000006,
          432.00000000000006,
          438.00000000000006,
          444.0,
          450.00000000000006,
          456.00000000000006,
          462.0,
          468.00000000000006,
          474.0,
          480.0,
          486.0,
          491.99999999999994,
          498.00000000000006,
          504.0,
          510.0,
          516.0,
          522.0,
          528.0,
          534.0,
          540.0,
          546.0,
          552.0,
          557.9999999999999,
          564.0,
          570.0,
          576.0,
          582.0000000000001,
          587.9999999999999,
          593.9999999999999,
          600.0,
          606.0,
          612.0000000000001,
          618.0,
          624.0,
          630.0,
          636.0,
          642.0,
          648.0,
          654.0,
          660.0,
          666.0,
          672.0,
          677.9999999999999,
          684.0,
          690.0,
          696.0,
          702.0000000000001,
          707.9999999999999,
          713.9999999999999,
          720.0,
          726.0,
          732.0000000000001,
          738.0,
          744.0,
          750.0,
          756.0,
          762.0,
          768.0,
          774.0,
          780.0,
          786.0000000000001,
          792.0,
          797.9999999999999,
          804.0,
          810.0,
          816.0,
          822.0000000000001,
          827.9999999999999,
          834.0,
          840.0,
          846.0,
          852.0000000000001,
          858.0,
          864.0,
          870.0,
          876.0,
          882.0,
          888.0,
          894.0,
          900.0,
          906.0000000000001,
          912.0,
          917.9999999999999,
          924.0,
          930.0,
          936.0,
          942.0000000000002,
          948.0,
          954.0,
          960.0,
          966.0000000000001,
          972.0,
          977.9999999999998,
          984.0000000000001,
          990.0,
          996.0000000000001,
          1002.0,
          1008.0,
          1014.0000000000001,
          1020.0,
          1026.0,
          1032.0,
          1038.0,
          1044.0,
          1050.0,
          1056.0,
          1062.0,
          1068.0,
          1074.0,
          1080.0,
          1086.0,
          1092.0,
          1098.0,
          1104.0,
          1110.0,
          1116.0,
          1122.0000000000002,
          1128.0,
          1134.0,
          1140.0,
          1145.9999999999998,
          1152.0000000000002,
          1158.0,
          1164.0000000000002,
          1170.0,
          1175.9999999999998,
          1182.0,
          1188.0,
          1194.0000000000002
         ],
         "xaxis": "x",
         "y": [
          0.9731625199132539,
          0.9367858504255739,
          0.901102069880517,
          0.8661111782780824,
          0.8318131756182704,
          0.7982080619010811,
          0.7652958371265135,
          0.733076501294569,
          0.7015500544052469,
          0.6707164964585473,
          0.6405758274544702,
          0.6111280473930151,
          0.5823731562741826,
          0.5543111540979728,
          0.5269420408643856,
          0.5002658165734207,
          0.47428248122507805,
          0.44899203481935795,
          0.4243944773562605,
          0.40048980883578544,
          0.3772780292579329,
          0.35475913862270275,
          0.332933136930095,
          0.31180002418010977,
          0.29135980037274695,
          0.2716124655080066,
          0.2525580195858884,
          0.23419646260639407,
          0.21652779456952054,
          0.19955201547527,
          0.18326912532364212,
          0.16767912411463679,
          0.1527820118482541,
          0.13857778852449315,
          0.12506645414335485,
          0.11224800870483942,
          0.10012245220894643,
          0.08868978465567573,
          0.07795000604502729,
          0.06790311637700176,
          0.05854911565159855,
          0.049888003868817365,
          0.04191978102865909,
          0.03464444713112337,
          0.02806200217620985,
          0.022172446163918863,
          0.016975779094250548,
          0.012472000967204327,
          0.00866111178278088,
          0.005543111540979713,
          0.0031180002418011153,
          0.0013857778852448426,
          3.4644447131111986E-4,
          0.0,
          3.4644447131109676E-4,
          0.0013857778852447429,
          0.0031180002418013408,
          0.00554311154098003,
          0.008661111782780648,
          0.01247200096720455,
          0.016975779094250392,
          0.022172446163918898,
          0.02806200217621008,
          0.034644447131123766,
          0.041919781028659175,
          0.04988800386881796,
          0.05854911565159873,
          0.06790311637700154,
          0.0779500060450279,
          0.08868978465567634,
          0.10012245220894686,
          0.11224800870483952,
          0.12506645414335554,
          0.13857778852449382,
          0.15278201184825446,
          0.1676791241146371,
          0.18326912532364242,
          0.1995520154752706,
          0.21652779456952084,
          0.23419646260639368,
          0.2525580195858888,
          0.27161246550800733,
          0.2913598003727477,
          0.311800024180111,
          0.33293313693009613,
          0.35475913862270264,
          0.377278029257932,
          0.40048980883578567,
          0.4243944773562613,
          0.44899203481935684,
          0.4742824812250791,
          0.5002658165734198,
          0.5269420408643846,
          0.5543111540979726,
          0.5823731562741828,
          0.6111280473930155,
          0.6405758274544711,
          0.6707164964585474,
          0.701550054405247,
          0.7330765012945697,
          0.7652958371265141,
          0.7982080619010816,
          0.8318131756182733,
          0.8661111782780835,
          0.9011020698805166,
          0.9367858504255744,
          0.9731625199132536,
          1.0102320783435552,
          1.0479945257164804,
          1.0864498620320266,
          1.1255980872901963,
          1.1654392014909876,
          1.2059732046344036,
          1.2472000967204384,
          1.2891198777490995,
          1.331732547720378,
          1.3750381066342843,
          1.4190365544908077,
          1.4637278912899614,
          1.5091121170317328,
          1.5551892317161273,
          1.6019592353431436,
          1.6494221279127805,
          1.69757790942504,
          1.7464265798799277,
          1.795968139277431,
          1.8462025876175583,
          1.897129924900311,
          1.9487501511256868,
          2.001063266293682,
          2.054069270404303,
          2.1077681634575467,
          2.162159945453405,
          2.217244616391888,
          2.2730221762730016,
          2.329492625096731,
          2.386655962863085,
          2.4445121895720603,
          2.503061305223662,
          2.5623033098178802,
          2.622238203354721,
          2.6828659858341917,
          2.744186657256281,
          2.80620021762099,
          2.8689066669283174,
          2.9323060051782734,
          2.9963982323708556,
          3.0611833485060616,
          3.1266613535838803,
          3.192832247604325,
          3.2596960305673948,
          3.327252702473079,
          3.395502263321399,
          3.4644447131123335,
          3.534080051845889,
          3.604408279522064,
          3.6754293961408795,
          3.7471434017022935,
          3.819550296206351,
          3.8926500796530177,
          3.9664427520423002,
          4.040928313374217,
          4.116106763648758,
          4.1919781028659235,
          4.268542331025702,
          4.3457994481281075,
          4.423749454173133,
          4.5023923491607825,
          4.581728133091058,
          4.661756805963953,
          4.742478367779475,
          4.823892818537608,
          4.9060001582383705,
          4.988800386881748,
          5.072293504467769,
          5.156479510996399,
          5.241358406467662,
          5.32693019088151,
          5.413194864238019,
          5.50015242653714,
          5.587802877778875,
          5.676146217963243,
          5.765182447090247,
          5.854911565159852,
          5.9453335721720775,
          6.036448468126925,
          6.12825625302441,
          6.2207569268644995,
          6.313950489647241,
          6.407836941372582,
          6.502416282040516,
          6.597688511651115,
          6.693653630204339,
          6.790311637700181,
          6.887662534138631,
          6.985706319519706,
          7.084442993843403,
          7.183872557109713,
          7.283995009318672
         ],
         "yaxis": "y",
         "type": "scatter"
        },
        {
         "hovertemplate": "Speed=1800<br>Flow [l/min]=%{x}<br>Incidence loss=%{y}<extra></extra>",
         "legendgroup": "1800",
         "line": {
          "color": "#EF553B",
          "dash": "solid"
         },
         "marker": {
          "symbol": "circle"
         },
         "mode": "lines",
         "name": "1800",
         "orientation": "v",
         "showlegend": true,
         "x": [
          6.0,
          12.0,
          18.000000000000004,
          24.0,
          30.0,
          36.00000000000001,
          42.00000000000001,
          48.0,
          54.00000000000001,
          60.0,
          66.0,
          72.00000000000001,
          78.00000000000001,
          84.00000000000001,
          90.0,
          96.0,
          102.00000000000001,
          108.00000000000001,
          114.00000000000001,
          120.0,
          126.0,
          132.0,
          138.0,
          144.0,
          150.0,
          156.0,
          162.0,
          168.0,
          174.0,
          180.0,
          186.0,
          192.0,
          198.0,
          204.0,
          210.0,
          216.0,
          222.0,
          228.0,
          234.0,
          240.0,
          246.00000000000003,
          252.0,
          258.00000000000006,
          264.0,
          270.00000000000006,
          276.00000000000006,
          282.0,
          288.00000000000006,
          294.0,
          300.0,
          306.00000000000006,
          312.00000000000006,
          318.00000000000006,
          324.0,
          330.00000000000006,
          336.00000000000006,
          342.0,
          348.00000000000006,
          354.0,
          360.0,
          366.00000000000006,
          372.00000000000006,
          378.00000000000006,
          384.0,
          390.00000000000006,
          396.00000000000006,
          402.0,
          408.00000000000006,
          414.0,
          420.00000000000006,
          426.00000000000006,
          432.00000000000006,
          438.00000000000006,
          444.0,
          450.00000000000006,
          456.00000000000006,
          462.0,
          468.00000000000006,
          474.0,
          480.0,
          486.0,
          491.99999999999994,
          498.00000000000006,
          504.0,
          510.0,
          516.0,
          522.0,
          528.0,
          534.0,
          540.0,
          546.0,
          552.0,
          557.9999999999999,
          564.0,
          570.0,
          576.0,
          582.0000000000001,
          587.9999999999999,
          593.9999999999999,
          600.0,
          606.0,
          612.0000000000001,
          618.0,
          624.0,
          630.0,
          636.0,
          642.0,
          648.0,
          654.0,
          660.0,
          666.0,
          672.0,
          677.9999999999999,
          684.0,
          690.0,
          696.0,
          702.0000000000001,
          707.9999999999999,
          713.9999999999999,
          720.0,
          726.0,
          732.0000000000001,
          738.0,
          744.0,
          750.0,
          756.0,
          762.0,
          768.0,
          774.0,
          780.0,
          786.0000000000001,
          792.0,
          797.9999999999999,
          804.0,
          810.0,
          816.0,
          822.0000000000001,
          827.9999999999999,
          834.0,
          840.0,
          846.0,
          852.0000000000001,
          858.0,
          864.0,
          870.0,
          876.0,
          882.0,
          888.0,
          894.0,
          900.0,
          906.0000000000001,
          912.0,
          917.9999999999999,
          924.0,
          930.0,
          936.0,
          942.0000000000002,
          948.0,
          954.0,
          960.0,
          966.0000000000001,
          972.0,
          977.9999999999998,
          984.0000000000001,
          990.0,
          996.0000000000001,
          1002.0,
          1008.0,
          1014.0000000000001,
          1020.0,
          1026.0,
          1032.0,
          1038.0,
          1044.0,
          1050.0,
          1056.0,
          1062.0,
          1068.0,
          1074.0,
          1080.0,
          1086.0,
          1092.0,
          1098.0,
          1104.0,
          1110.0,
          1116.0,
          1122.0000000000002,
          1128.0,
          1134.0,
          1140.0,
          1145.9999999999998,
          1152.0000000000002,
          1158.0,
          1164.0000000000002,
          1170.0,
          1175.9999999999998,
          1182.0,
          1188.0,
          1194.0000000000002
         ],
         "xaxis": "x",
         "y": [
          2.2172446163918926,
          2.162159945453405,
          2.107768163457542,
          2.0540692704042995,
          2.0010632662936825,
          1.948750151125686,
          1.897129924900313,
          1.8462025876175614,
          1.7959681392774327,
          1.7464265798799254,
          1.697577909425042,
          1.6494221279127805,
          1.6019592353431418,
          1.5551892317161256,
          1.5091121170317316,
          1.4637278912899594,
          1.419036554490811,
          1.375038106634284,
          1.3317325477203794,
          1.289119877749098,
          1.2472000967204393,
          1.205973204634402,
          1.1654392014909878,
          1.1255980872901963,
          1.086449862032027,
          1.0479945257164804,
          1.0102320783435557,
          0.9731625199132538,
          0.9367858504255743,
          0.9011020698805174,
          0.8661111782780831,
          0.8318131756182704,
          0.7982080619010812,
          0.7652958371265142,
          0.7330765012945694,
          0.7015500544052469,
          0.6707164964585471,
          0.6405758274544703,
          0.6111280473930151,
          0.5823731562741812,
          0.554311154097976,
          0.5269420408643846,
          0.5002658165734198,
          0.4742824812250767,
          0.4489920348193576,
          0.42439447735626046,
          0.4004898088357856,
          0.37727802925793286,
          0.354759138622702,
          0.33293313693009535,
          0.31180002418010966,
          0.29135980037274645,
          0.27161246550800644,
          0.2525580195858887,
          0.23419646260639293,
          0.21652779456952062,
          0.19955201547527046,
          0.18326912532364226,
          0.16767912411463687,
          0.152782011848254,
          0.138577788524493,
          0.12506645414335532,
          0.11224800870483909,
          0.10012245220894607,
          0.0886897846556756,
          0.07795000604502725,
          0.06790311637700146,
          0.05854911565159885,
          0.04988800386881778,
          0.041919781028659966,
          0.03464444713112307,
          0.028062002176209747,
          0.022172446163919127,
          0.016975779094250777,
          0.012472000967204359,
          0.008661111782779838,
          0.005543111540980047,
          0.0031180002418008954,
          0.0013857778852454843,
          3.464444713116535E-4,
          0.0,
          3.464444713106678E-4,
          0.0013857778852452531,
          0.0031180002418006924,
          0.005543111540979327,
          0.008661111782780872,
          0.012472000967204539,
          0.016975779094249757,
          0.022172446163919248,
          0.02806200217620969,
          0.03464444713112363,
          0.04191978102865947,
          0.049888003868817525,
          0.0585491156515992,
          0.06790311637700287,
          0.07795000604502801,
          0.08868978465567558,
          0.1001224522089461,
          0.11224800870483916,
          0.125066454143355,
          0.1385777885244936,
          0.15278201184825346,
          0.16767912411463795,
          0.18326912532364234,
          0.1995520154752705,
          0.21652779456952134,
          0.2341964626063933,
          0.25255801958588925,
          0.2716124655080072,
          0.29135980037274695,
          0.31180002418011105,
          0.33293313693009435,
          0.35475913862270286,
          0.377278029257933,
          0.40048980883578555,
          0.42439447735626123,
          0.4489920348193584,
          0.47428248122507777,
          0.500265816573421,
          0.5269420408643858,
          0.5543111540979725,
          0.5823731562741825,
          0.6111280473930152,
          0.6405758274544673,
          0.6707164964585483,
          0.7015500544052496,
          0.7330765012945696,
          0.7652958371265146,
          0.7982080619010797,
          0.831813175618272,
          0.8661111782780845,
          0.9011020698805177,
          0.9367858504255743,
          0.9731625199132555,
          1.0102320783435574,
          1.0479945257164793,
          1.0864498620320278,
          1.1255980872901945,
          1.1654392014909885,
          1.2059732046344034,
          1.2472000967204386,
          1.2891198777490982,
          1.3317325477203814,
          1.375038106634285,
          1.419036554490811,
          1.4637278912899598,
          1.5091121170317319,
          1.5551892317161244,
          1.6019592353431422,
          1.649422127912782,
          1.6975779094250414,
          1.746426579879926,
          1.7959681392774334,
          1.846202587617559,
          1.8971299249003175,
          1.9487501511256877,
          2.00106326629368,
          2.054069270404301,
          2.1077681634575423,
          2.1621599454534075,
          2.2172446163918957,
          2.2730221762729985,
          2.329492625096731,
          2.386655962863087,
          2.4445121895720665,
          2.5030613052236594,
          2.562303309817881,
          2.622238203354722,
          2.6828659858341837,
          2.744186657256278,
          2.8062002176209866,
          2.8689066669283214,
          2.9323060051782783,
          2.9963982323708502,
          3.0611833485060607,
          3.1266613535838776,
          3.19283224760433,
          3.259696030567397,
          3.3272527024730847,
          3.395502263321399,
          3.464444713112331,
          3.534080051845896,
          3.604408279522073,
          3.675429396140871,
          3.747143401702302,
          3.8195502962063523,
          3.892650079653019,
          3.9664427520423087,
          4.04092831337422,
          4.116106763648766,
          4.191978102865927,
          4.2685423310257,
          4.345799448128114,
          4.4237494541731355,
          4.502392349160792,
          4.581728133091065,
          4.66175680596396,
          4.742478367779483,
          4.823892818537609
         ],
         "yaxis": "y",
         "type": "scatter"
        }
       ],
       "layout": {
        "template": {
         "data": {
          "histogram2dcontour": [
           {
            "type": "histogram2dcontour",
            "colorbar": {
             "outlinewidth": 0,
             "ticks": ""
            },
            "colorscale": [
             [
              0.0,
              "#0d0887"
             ],
             [
              0.1111111111111111,
              "#46039f"
             ],
             [
              0.2222222222222222,
              "#7201a8"
             ],
             [
              0.3333333333333333,
              "#9c179e"
             ],
             [
              0.4444444444444444,
              "#bd3786"
             ],
             [
              0.5555555555555556,
              "#d8576b"
             ],
             [
              0.6666666666666666,
              "#ed7953"
             ],
             [
              0.7777777777777778,
              "#fb9f3a"
             ],
             [
              0.8888888888888888,
              "#fdca26"
             ],
             [
              1.0,
              "#f0f921"
             ]
            ]
           }
          ],
          "choropleth": [
           {
            "type": "choropleth",
            "colorbar": {
             "outlinewidth": 0,
             "ticks": ""
            }
           }
          ],
          "histogram2d": [
           {
            "type": "histogram2d",
            "colorbar": {
             "outlinewidth": 0,
             "ticks": ""
            },
            "colorscale": [
             [
              0.0,
              "#0d0887"
             ],
             [
              0.1111111111111111,
              "#46039f"
             ],
             [
              0.2222222222222222,
              "#7201a8"
             ],
             [
              0.3333333333333333,
              "#9c179e"
             ],
             [
              0.4444444444444444,
              "#bd3786"
             ],
             [
              0.5555555555555556,
              "#d8576b"
             ],
             [
              0.6666666666666666,
              "#ed7953"
             ],
             [
              0.7777777777777778,
              "#fb9f3a"
             ],
             [
              0.8888888888888888,
              "#fdca26"
             ],
             [
              1.0,
              "#f0f921"
             ]
            ]
           }
          ],
          "heatmap": [
           {
            "type": "heatmap",
            "colorbar": {
             "outlinewidth": 0,
             "ticks": ""
            },
            "colorscale": [
             [
              0.0,
              "#0d0887"
             ],
             [
              0.1111111111111111,
              "#46039f"
             ],
             [
              0.2222222222222222,
              "#7201a8"
             ],
             [
              0.3333333333333333,
              "#9c179e"
             ],
             [
              0.4444444444444444,
              "#bd3786"
             ],
             [
              0.5555555555555556,
              "#d8576b"
             ],
             [
              0.6666666666666666,
              "#ed7953"
             ],
             [
              0.7777777777777778,
              "#fb9f3a"
             ],
             [
              0.8888888888888888,
              "#fdca26"
             ],
             [
              1.0,
              "#f0f921"
             ]
            ]
           }
          ],
          "heatmapgl": [
           {
            "type": "heatmapgl",
            "colorbar": {
             "outlinewidth": 0,
             "ticks": ""
            },
            "colorscale": [
             [
              0.0,
              "#0d0887"
             ],
             [
              0.1111111111111111,
              "#46039f"
             ],
             [
              0.2222222222222222,
              "#7201a8"
             ],
             [
              0.3333333333333333,
              "#9c179e"
             ],
             [
              0.4444444444444444,
              "#bd3786"
             ],
             [
              0.5555555555555556,
              "#d8576b"
             ],
             [
              0.6666666666666666,
              "#ed7953"
             ],
             [
              0.7777777777777778,
              "#fb9f3a"
             ],
             [
              0.8888888888888888,
              "#fdca26"
             ],
             [
              1.0,
              "#f0f921"
             ]
            ]
           }
          ],
          "contourcarpet": [
           {
            "type": "contourcarpet",
            "colorbar": {
             "outlinewidth": 0,
             "ticks": ""
            }
           }
          ],
          "contour": [
           {
            "type": "contour",
            "colorbar": {
             "outlinewidth": 0,
             "ticks": ""
            },
            "colorscale": [
             [
              0.0,
              "#0d0887"
             ],
             [
              0.1111111111111111,
              "#46039f"
             ],
             [
              0.2222222222222222,
              "#7201a8"
             ],
             [
              0.3333333333333333,
              "#9c179e"
             ],
             [
              0.4444444444444444,
              "#bd3786"
             ],
             [
              0.5555555555555556,
              "#d8576b"
             ],
             [
              0.6666666666666666,
              "#ed7953"
             ],
             [
              0.7777777777777778,
              "#fb9f3a"
             ],
             [
              0.8888888888888888,
              "#fdca26"
             ],
             [
              1.0,
              "#f0f921"
             ]
            ]
           }
          ],
          "surface": [
           {
            "type": "surface",
            "colorbar": {
             "outlinewidth": 0,
             "ticks": ""
            },
            "colorscale": [
             [
              0.0,
              "#0d0887"
             ],
             [
              0.1111111111111111,
              "#46039f"
             ],
             [
              0.2222222222222222,
              "#7201a8"
             ],
             [
              0.3333333333333333,
              "#9c179e"
             ],
             [
              0.4444444444444444,
              "#bd3786"
             ],
             [
              0.5555555555555556,
              "#d8576b"
             ],
             [
              0.6666666666666666,
              "#ed7953"
             ],
             [
              0.7777777777777778,
              "#fb9f3a"
             ],
             [
              0.8888888888888888,
              "#fdca26"
             ],
             [
              1.0,
              "#f0f921"
             ]
            ]
           }
          ],
          "mesh3d": [
           {
            "type": "mesh3d",
            "colorbar": {
             "outlinewidth": 0,
             "ticks": ""
            }
           }
          ],
          "scatter": [
           {
            "marker": {
             "line": {
              "color": "#283442"
             }
            },
            "type": "scatter"
           }
          ],
          "parcoords": [
           {
            "type": "parcoords",
            "line": {
             "colorbar": {
              "outlinewidth": 0,
              "ticks": ""
             }
            }
           }
          ],
          "scatterpolargl": [
           {
            "type": "scatterpolargl",
            "marker": {
             "colorbar": {
              "outlinewidth": 0,
              "ticks": ""
             }
            }
           }
          ],
          "bar": [
           {
            "error_x": {
             "color": "#f2f5fa"
            },
            "error_y": {
             "color": "#f2f5fa"
            },
            "marker": {
             "line": {
              "color": "rgb(17,17,17)",
              "width": 0.5
             },
             "pattern": {
              "fillmode": "overlay",
              "size": 10,
              "solidity": 0.2
             }
            },
            "type": "bar"
           }
          ],
          "scattergeo": [
           {
            "type": "scattergeo",
            "marker": {
             "colorbar": {
              "outlinewidth": 0,
              "ticks": ""
             }
            }
           }
          ],
          "scatterpolar": [
           {
            "type": "scatterpolar",
            "marker": {
             "colorbar": {
              "outlinewidth": 0,
              "ticks": ""
             }
            }
           }
          ],
          "histogram": [
           {
            "marker": {
             "pattern": {
              "fillmode": "overlay",
              "size": 10,
              "solidity": 0.2
             }
            },
            "type": "histogram"
           }
          ],
          "scattergl": [
           {
            "marker": {
             "line": {
              "color": "#283442"
             }
            },
            "type": "scattergl"
           }
          ],
          "scatter3d": [
           {
            "type": "scatter3d",
            "line": {
             "colorbar": {
              "outlinewidth": 0,
              "ticks": ""
             }
            },
            "marker": {
             "colorbar": {
              "outlinewidth": 0,
              "ticks": ""
             }
            }
           }
          ],
          "scattermapbox": [
           {
            "type": "scattermapbox",
            "marker": {
             "colorbar": {
              "outlinewidth": 0,
              "ticks": ""
             }
            }
           }
          ],
          "scatterternary": [
           {
            "type": "scatterternary",
            "marker": {
             "colorbar": {
              "outlinewidth": 0,
              "ticks": ""
             }
            }
           }
          ],
          "scattercarpet": [
           {
            "type": "scattercarpet",
            "marker": {
             "colorbar": {
              "outlinewidth": 0,
              "ticks": ""
             }
            }
           }
          ],
          "carpet": [
           {
            "aaxis": {
             "endlinecolor": "#A2B1C6",
             "gridcolor": "#506784",
             "linecolor": "#506784",
             "minorgridcolor": "#506784",
             "startlinecolor": "#A2B1C6"
            },
            "baxis": {
             "endlinecolor": "#A2B1C6",
             "gridcolor": "#506784",
             "linecolor": "#506784",
             "minorgridcolor": "#506784",
             "startlinecolor": "#A2B1C6"
            },
            "type": "carpet"
           }
          ],
          "table": [
           {
            "cells": {
             "fill": {
              "color": "#506784"
             },
             "line": {
              "color": "rgb(17,17,17)"
             }
            },
            "header": {
             "fill": {
              "color": "#2a3f5f"
             },
             "line": {
              "color": "rgb(17,17,17)"
             }
            },
            "type": "table"
           }
          ],
          "barpolar": [
           {
            "marker": {
             "line": {
              "color": "rgb(17,17,17)",
              "width": 0.5
             },
             "pattern": {
              "fillmode": "overlay",
              "size": 10,
              "solidity": 0.2
             }
            },
            "type": "barpolar"
           }
          ],
          "pie": [
           {
            "automargin": true,
            "type": "pie"
           }
          ]
         },
         "layout": {
          "autotypenumbers": "strict",
          "colorway": [
           "#636efa",
           "#EF553B",
           "#00cc96",
           "#ab63fa",
           "#FFA15A",
           "#19d3f3",
           "#FF6692",
           "#B6E880",
           "#FF97FF",
           "#FECB52"
          ],
          "font": {
           "color": "#f2f5fa"
          },
          "hovermode": "closest",
          "hoverlabel": {
           "align": "left"
          },
          "paper_bgcolor": "rgb(17,17,17)",
          "plot_bgcolor": "rgb(17,17,17)",
          "polar": {
           "bgcolor": "rgb(17,17,17)",
           "angularaxis": {
            "gridcolor": "#506784",
            "linecolor": "#506784",
            "ticks": ""
           },
           "radialaxis": {
            "gridcolor": "#506784",
            "linecolor": "#506784",
            "ticks": ""
           }
          },
          "ternary": {
           "bgcolor": "rgb(17,17,17)",
           "aaxis": {
            "gridcolor": "#506784",
            "linecolor": "#506784",
            "ticks": ""
           },
           "baxis": {
            "gridcolor": "#506784",
            "linecolor": "#506784",
            "ticks": ""
           },
           "caxis": {
            "gridcolor": "#506784",
            "linecolor": "#506784",
            "ticks": ""
           }
          },
          "coloraxis": {
           "colorbar": {
            "outlinewidth": 0,
            "ticks": ""
           }
          },
          "colorscale": {
           "sequential": [
            [
             0.0,
             "#0d0887"
            ],
            [
             0.1111111111111111,
             "#46039f"
            ],
            [
             0.2222222222222222,
             "#7201a8"
            ],
            [
             0.3333333333333333,
             "#9c179e"
            ],
            [
             0.4444444444444444,
             "#bd3786"
            ],
            [
             0.5555555555555556,
             "#d8576b"
            ],
            [
             0.6666666666666666,
             "#ed7953"
            ],
            [
             0.7777777777777778,
             "#fb9f3a"
            ],
            [
             0.8888888888888888,
             "#fdca26"
            ],
            [
             1.0,
             "#f0f921"
            ]
           ],
           "sequentialminus": [
            [
             0.0,
             "#0d0887"
            ],
            [
             0.1111111111111111,
             "#46039f"
            ],
            [
             0.2222222222222222,
             "#7201a8"
            ],
            [
             0.3333333333333333,
             "#9c179e"
            ],
            [
             0.4444444444444444,
             "#bd3786"
            ],
            [
             0.5555555555555556,
             "#d8576b"
            ],
            [
             0.6666666666666666,
             "#ed7953"
            ],
            [
             0.7777777777777778,
             "#fb9f3a"
            ],
            [
             0.8888888888888888,
             "#fdca26"
            ],
            [
             1.0,
             "#f0f921"
            ]
           ],
           "diverging": [
            [
             0,
             "#8e0152"
            ],
            [
             0.1,
             "#c51b7d"
            ],
            [
             0.2,
             "#de77ae"
            ],
            [
             0.3,
             "#f1b6da"
            ],
            [
             0.4,
             "#fde0ef"
            ],
            [
             0.5,
             "#f7f7f7"
            ],
            [
             0.6,
             "#e6f5d0"
            ],
            [
             0.7,
             "#b8e186"
            ],
            [
             0.8,
             "#7fbc41"
            ],
            [
             0.9,
             "#4d9221"
            ],
            [
             1,
             "#276419"
            ]
           ]
          },
          "xaxis": {
           "gridcolor": "#283442",
           "linecolor": "#506784",
           "ticks": "",
           "title": {
            "standoff": 15
           },
           "zerolinecolor": "#283442",
           "automargin": true,
           "zerolinewidth": 2
          },
          "yaxis": {
           "gridcolor": "#283442",
           "linecolor": "#506784",
           "ticks": "",
           "title": {
            "standoff": 15
           },
           "zerolinecolor": "#283442",
           "automargin": true,
           "zerolinewidth": 2
          },
          "scene": {
           "xaxis": {
            "backgroundcolor": "rgb(17,17,17)",
            "gridcolor": "#506784",
            "linecolor": "#506784",
            "showbackground": true,
            "ticks": "",
            "zerolinecolor": "#C8D4E3",
            "gridwidth": 2
           },
           "yaxis": {
            "backgroundcolor": "rgb(17,17,17)",
            "gridcolor": "#506784",
            "linecolor": "#506784",
            "showbackground": true,
            "ticks": "",
            "zerolinecolor": "#C8D4E3",
            "gridwidth": 2
           },
           "zaxis": {
            "backgroundcolor": "rgb(17,17,17)",
            "gridcolor": "#506784",
            "linecolor": "#506784",
            "showbackground": true,
            "ticks": "",
            "zerolinecolor": "#C8D4E3",
            "gridwidth": 2
           }
          },
          "shapedefaults": {
           "line": {
            "color": "#f2f5fa"
           }
          },
          "annotationdefaults": {
           "arrowcolor": "#f2f5fa",
           "arrowhead": 0,
           "arrowwidth": 1
          },
          "geo": {
           "bgcolor": "rgb(17,17,17)",
           "landcolor": "rgb(17,17,17)",
           "subunitcolor": "#506784",
           "showland": true,
           "showlakes": true,
           "lakecolor": "rgb(17,17,17)"
          },
          "title": {
           "x": 0.05
          },
          "updatemenudefaults": {
           "bgcolor": "#506784",
           "borderwidth": 0
          },
          "sliderdefaults": {
           "bgcolor": "#C8D4E3",
           "borderwidth": 1,
           "bordercolor": "rgb(17,17,17)",
           "tickwidth": 0
          },
          "mapbox": {
           "style": "dark"
          }
         }
        },
        "xaxis": {
         "anchor": "y",
         "domain": [
          0.0,
          1.0
         ],
         "title": {
          "text": "Flow [l/min]"
         }
        },
        "yaxis": {
         "anchor": "x",
         "domain": [
          0.0,
          1.0
         ],
         "title": {
          "text": "Incidence loss"
         }
        },
        "legend": {
         "title": {
          "text": "Speed"
         },
         "tracegroupgap": 0
        },
        "title": {
         "text": "Incidence loss"
        }
       },
       "config": {
        "plotlyServerURL": "https://plot.ly"
       }
      },
      "text/html": "<div>                            <div id=\"595e8f94-f477-4d3f-91bf-0c34a7f9c8d7\" class=\"plotly-graph-div\" style=\"height:525px; width:100%;\"></div>            <script type=\"text/javascript\">                require([\"plotly\"], function(Plotly) {                    window.PLOTLYENV=window.PLOTLYENV || {};                                    if (document.getElementById(\"595e8f94-f477-4d3f-91bf-0c34a7f9c8d7\")) {                    Plotly.newPlot(                        \"595e8f94-f477-4d3f-91bf-0c34a7f9c8d7\",                        [{\"hovertemplate\":\"Speed=1200<br>Flow [l/min]=%{x}<br>Incidence loss=%{y}<extra></extra>\",\"legendgroup\":\"1200\",\"line\":{\"color\":\"#636efa\",\"dash\":\"solid\"},\"marker\":{\"symbol\":\"circle\"},\"mode\":\"lines\",\"name\":\"1200\",\"orientation\":\"v\",\"showlegend\":true,\"x\":[6.0,12.0,18.000000000000004,24.0,30.0,36.00000000000001,42.00000000000001,48.0,54.00000000000001,60.0,66.0,72.00000000000001,78.00000000000001,84.00000000000001,90.0,96.0,102.00000000000001,108.00000000000001,114.00000000000001,120.0,126.0,132.0,138.0,144.0,150.0,156.0,162.0,168.0,174.0,180.0,186.0,192.0,198.0,204.0,210.0,216.0,222.0,228.0,234.0,240.0,246.00000000000003,252.0,258.00000000000006,264.0,270.00000000000006,276.00000000000006,282.0,288.00000000000006,294.0,300.0,306.00000000000006,312.00000000000006,318.00000000000006,324.0,330.00000000000006,336.00000000000006,342.0,348.00000000000006,354.0,360.0,366.00000000000006,372.00000000000006,378.00000000000006,384.0,390.00000000000006,396.00000000000006,402.0,408.00000000000006,414.0,420.00000000000006,426.00000000000006,432.00000000000006,438.00000000000006,444.0,450.00000000000006,456.00000000000006,462.0,468.00000000000006,474.0,480.0,486.0,491.99999999999994,498.00000000000006,504.0,510.0,516.0,522.0,528.0,534.0,540.0,546.0,552.0,557.9999999999999,564.0,570.0,576.0,582.0000000000001,587.9999999999999,593.9999999999999,600.0,606.0,612.0000000000001,618.0,624.0,630.0,636.0,642.0,648.0,654.0,660.0,666.0,672.0,677.9999999999999,684.0,690.0,696.0,702.0000000000001,707.9999999999999,713.9999999999999,720.0,726.0,732.0000000000001,738.0,744.0,750.0,756.0,762.0,768.0,774.0,780.0,786.0000000000001,792.0,797.9999999999999,804.0,810.0,816.0,822.0000000000001,827.9999999999999,834.0,840.0,846.0,852.0000000000001,858.0,864.0,870.0,876.0,882.0,888.0,894.0,900.0,906.0000000000001,912.0,917.9999999999999,924.0,930.0,936.0,942.0000000000002,948.0,954.0,960.0,966.0000000000001,972.0,977.9999999999998,984.0000000000001,990.0,996.0000000000001,1002.0,1008.0,1014.0000000000001,1020.0,1026.0,1032.0,1038.0,1044.0,1050.0,1056.0,1062.0,1068.0,1074.0,1080.0,1086.0,1092.0,1098.0,1104.0,1110.0,1116.0,1122.0000000000002,1128.0,1134.0,1140.0,1145.9999999999998,1152.0000000000002,1158.0,1164.0000000000002,1170.0,1175.9999999999998,1182.0,1188.0,1194.0000000000002],\"xaxis\":\"x\",\"y\":[0.9731625199132539,0.9367858504255739,0.901102069880517,0.8661111782780824,0.8318131756182704,0.7982080619010811,0.7652958371265135,0.733076501294569,0.7015500544052469,0.6707164964585473,0.6405758274544702,0.6111280473930151,0.5823731562741826,0.5543111540979728,0.5269420408643856,0.5002658165734207,0.47428248122507805,0.44899203481935795,0.4243944773562605,0.40048980883578544,0.3772780292579329,0.35475913862270275,0.332933136930095,0.31180002418010977,0.29135980037274695,0.2716124655080066,0.2525580195858884,0.23419646260639407,0.21652779456952054,0.19955201547527,0.18326912532364212,0.16767912411463679,0.1527820118482541,0.13857778852449315,0.12506645414335485,0.11224800870483942,0.10012245220894643,0.08868978465567573,0.07795000604502729,0.06790311637700176,0.05854911565159855,0.049888003868817365,0.04191978102865909,0.03464444713112337,0.02806200217620985,0.022172446163918863,0.016975779094250548,0.012472000967204327,0.00866111178278088,0.005543111540979713,0.0031180002418011153,0.0013857778852448426,0.00034644447131111986,0.0,0.00034644447131109676,0.0013857778852447429,0.0031180002418013408,0.00554311154098003,0.008661111782780648,0.01247200096720455,0.016975779094250392,0.022172446163918898,0.02806200217621008,0.034644447131123766,0.041919781028659175,0.04988800386881796,0.05854911565159873,0.06790311637700154,0.0779500060450279,0.08868978465567634,0.10012245220894686,0.11224800870483952,0.12506645414335554,0.13857778852449382,0.15278201184825446,0.1676791241146371,0.18326912532364242,0.1995520154752706,0.21652779456952084,0.23419646260639368,0.2525580195858888,0.27161246550800733,0.2913598003727477,0.311800024180111,0.33293313693009613,0.35475913862270264,0.377278029257932,0.40048980883578567,0.4243944773562613,0.44899203481935684,0.4742824812250791,0.5002658165734198,0.5269420408643846,0.5543111540979726,0.5823731562741828,0.6111280473930155,0.6405758274544711,0.6707164964585474,0.701550054405247,0.7330765012945697,0.7652958371265141,0.7982080619010816,0.8318131756182733,0.8661111782780835,0.9011020698805166,0.9367858504255744,0.9731625199132536,1.0102320783435552,1.0479945257164804,1.0864498620320266,1.1255980872901963,1.1654392014909876,1.2059732046344036,1.2472000967204384,1.2891198777490995,1.331732547720378,1.3750381066342843,1.4190365544908077,1.4637278912899614,1.5091121170317328,1.5551892317161273,1.6019592353431436,1.6494221279127805,1.69757790942504,1.7464265798799277,1.795968139277431,1.8462025876175583,1.897129924900311,1.9487501511256868,2.001063266293682,2.054069270404303,2.1077681634575467,2.162159945453405,2.217244616391888,2.2730221762730016,2.329492625096731,2.386655962863085,2.4445121895720603,2.503061305223662,2.5623033098178802,2.622238203354721,2.6828659858341917,2.744186657256281,2.80620021762099,2.8689066669283174,2.9323060051782734,2.9963982323708556,3.0611833485060616,3.1266613535838803,3.192832247604325,3.2596960305673948,3.327252702473079,3.395502263321399,3.4644447131123335,3.534080051845889,3.604408279522064,3.6754293961408795,3.7471434017022935,3.819550296206351,3.8926500796530177,3.9664427520423002,4.040928313374217,4.116106763648758,4.1919781028659235,4.268542331025702,4.3457994481281075,4.423749454173133,4.5023923491607825,4.581728133091058,4.661756805963953,4.742478367779475,4.823892818537608,4.9060001582383705,4.988800386881748,5.072293504467769,5.156479510996399,5.241358406467662,5.32693019088151,5.413194864238019,5.50015242653714,5.587802877778875,5.676146217963243,5.765182447090247,5.854911565159852,5.9453335721720775,6.036448468126925,6.12825625302441,6.2207569268644995,6.313950489647241,6.407836941372582,6.502416282040516,6.597688511651115,6.693653630204339,6.790311637700181,6.887662534138631,6.985706319519706,7.084442993843403,7.183872557109713,7.283995009318672],\"yaxis\":\"y\",\"type\":\"scatter\"},{\"hovertemplate\":\"Speed=1800<br>Flow [l/min]=%{x}<br>Incidence loss=%{y}<extra></extra>\",\"legendgroup\":\"1800\",\"line\":{\"color\":\"#EF553B\",\"dash\":\"solid\"},\"marker\":{\"symbol\":\"circle\"},\"mode\":\"lines\",\"name\":\"1800\",\"orientation\":\"v\",\"showlegend\":true,\"x\":[6.0,12.0,18.000000000000004,24.0,30.0,36.00000000000001,42.00000000000001,48.0,54.00000000000001,60.0,66.0,72.00000000000001,78.00000000000001,84.00000000000001,90.0,96.0,102.00000000000001,108.00000000000001,114.00000000000001,120.0,126.0,132.0,138.0,144.0,150.0,156.0,162.0,168.0,174.0,180.0,186.0,192.0,198.0,204.0,210.0,216.0,222.0,228.0,234.0,240.0,246.00000000000003,252.0,258.00000000000006,264.0,270.00000000000006,276.00000000000006,282.0,288.00000000000006,294.0,300.0,306.00000000000006,312.00000000000006,318.00000000000006,324.0,330.00000000000006,336.00000000000006,342.0,348.00000000000006,354.0,360.0,366.00000000000006,372.00000000000006,378.00000000000006,384.0,390.00000000000006,396.00000000000006,402.0,408.00000000000006,414.0,420.00000000000006,426.00000000000006,432.00000000000006,438.00000000000006,444.0,450.00000000000006,456.00000000000006,462.0,468.00000000000006,474.0,480.0,486.0,491.99999999999994,498.00000000000006,504.0,510.0,516.0,522.0,528.0,534.0,540.0,546.0,552.0,557.9999999999999,564.0,570.0,576.0,582.0000000000001,587.9999999999999,593.9999999999999,600.0,606.0,612.0000000000001,618.0,624.0,630.0,636.0,642.0,648.0,654.0,660.0,666.0,672.0,677.9999999999999,684.0,690.0,696.0,702.0000000000001,707.9999999999999,713.9999999999999,720.0,726.0,732.0000000000001,738.0,744.0,750.0,756.0,762.0,768.0,774.0,780.0,786.0000000000001,792.0,797.9999999999999,804.0,810.0,816.0,822.0000000000001,827.9999999999999,834.0,840.0,846.0,852.0000000000001,858.0,864.0,870.0,876.0,882.0,888.0,894.0,900.0,906.0000000000001,912.0,917.9999999999999,924.0,930.0,936.0,942.0000000000002,948.0,954.0,960.0,966.0000000000001,972.0,977.9999999999998,984.0000000000001,990.0,996.0000000000001,1002.0,1008.0,1014.0000000000001,1020.0,1026.0,1032.0,1038.0,1044.0,1050.0,1056.0,1062.0,1068.0,1074.0,1080.0,1086.0,1092.0,1098.0,1104.0,1110.0,1116.0,1122.0000000000002,1128.0,1134.0,1140.0,1145.9999999999998,1152.0000000000002,1158.0,1164.0000000000002,1170.0,1175.9999999999998,1182.0,1188.0,1194.0000000000002],\"xaxis\":\"x\",\"y\":[2.2172446163918926,2.162159945453405,2.107768163457542,2.0540692704042995,2.0010632662936825,1.948750151125686,1.897129924900313,1.8462025876175614,1.7959681392774327,1.7464265798799254,1.697577909425042,1.6494221279127805,1.6019592353431418,1.5551892317161256,1.5091121170317316,1.4637278912899594,1.419036554490811,1.375038106634284,1.3317325477203794,1.289119877749098,1.2472000967204393,1.205973204634402,1.1654392014909878,1.1255980872901963,1.086449862032027,1.0479945257164804,1.0102320783435557,0.9731625199132538,0.9367858504255743,0.9011020698805174,0.8661111782780831,0.8318131756182704,0.7982080619010812,0.7652958371265142,0.7330765012945694,0.7015500544052469,0.6707164964585471,0.6405758274544703,0.6111280473930151,0.5823731562741812,0.554311154097976,0.5269420408643846,0.5002658165734198,0.4742824812250767,0.4489920348193576,0.42439447735626046,0.4004898088357856,0.37727802925793286,0.354759138622702,0.33293313693009535,0.31180002418010966,0.29135980037274645,0.27161246550800644,0.2525580195858887,0.23419646260639293,0.21652779456952062,0.19955201547527046,0.18326912532364226,0.16767912411463687,0.152782011848254,0.138577788524493,0.12506645414335532,0.11224800870483909,0.10012245220894607,0.0886897846556756,0.07795000604502725,0.06790311637700146,0.05854911565159885,0.04988800386881778,0.041919781028659966,0.03464444713112307,0.028062002176209747,0.022172446163919127,0.016975779094250777,0.012472000967204359,0.008661111782779838,0.005543111540980047,0.0031180002418008954,0.0013857778852454843,0.0003464444713116535,0.0,0.0003464444713106678,0.0013857778852452531,0.0031180002418006924,0.005543111540979327,0.008661111782780872,0.012472000967204539,0.016975779094249757,0.022172446163919248,0.02806200217620969,0.03464444713112363,0.04191978102865947,0.049888003868817525,0.0585491156515992,0.06790311637700287,0.07795000604502801,0.08868978465567558,0.1001224522089461,0.11224800870483916,0.125066454143355,0.1385777885244936,0.15278201184825346,0.16767912411463795,0.18326912532364234,0.1995520154752705,0.21652779456952134,0.2341964626063933,0.25255801958588925,0.2716124655080072,0.29135980037274695,0.31180002418011105,0.33293313693009435,0.35475913862270286,0.377278029257933,0.40048980883578555,0.42439447735626123,0.4489920348193584,0.47428248122507777,0.500265816573421,0.5269420408643858,0.5543111540979725,0.5823731562741825,0.6111280473930152,0.6405758274544673,0.6707164964585483,0.7015500544052496,0.7330765012945696,0.7652958371265146,0.7982080619010797,0.831813175618272,0.8661111782780845,0.9011020698805177,0.9367858504255743,0.9731625199132555,1.0102320783435574,1.0479945257164793,1.0864498620320278,1.1255980872901945,1.1654392014909885,1.2059732046344034,1.2472000967204386,1.2891198777490982,1.3317325477203814,1.375038106634285,1.419036554490811,1.4637278912899598,1.5091121170317319,1.5551892317161244,1.6019592353431422,1.649422127912782,1.6975779094250414,1.746426579879926,1.7959681392774334,1.846202587617559,1.8971299249003175,1.9487501511256877,2.00106326629368,2.054069270404301,2.1077681634575423,2.1621599454534075,2.2172446163918957,2.2730221762729985,2.329492625096731,2.386655962863087,2.4445121895720665,2.5030613052236594,2.562303309817881,2.622238203354722,2.6828659858341837,2.744186657256278,2.8062002176209866,2.8689066669283214,2.9323060051782783,2.9963982323708502,3.0611833485060607,3.1266613535838776,3.19283224760433,3.259696030567397,3.3272527024730847,3.395502263321399,3.464444713112331,3.534080051845896,3.604408279522073,3.675429396140871,3.747143401702302,3.8195502962063523,3.892650079653019,3.9664427520423087,4.04092831337422,4.116106763648766,4.191978102865927,4.2685423310257,4.345799448128114,4.4237494541731355,4.502392349160792,4.581728133091065,4.66175680596396,4.742478367779483,4.823892818537609],\"yaxis\":\"y\",\"type\":\"scatter\"}],                        {\"template\":{\"data\":{\"histogram2dcontour\":[{\"type\":\"histogram2dcontour\",\"colorbar\":{\"outlinewidth\":0,\"ticks\":\"\"},\"colorscale\":[[0.0,\"#0d0887\"],[0.1111111111111111,\"#46039f\"],[0.2222222222222222,\"#7201a8\"],[0.3333333333333333,\"#9c179e\"],[0.4444444444444444,\"#bd3786\"],[0.5555555555555556,\"#d8576b\"],[0.6666666666666666,\"#ed7953\"],[0.7777777777777778,\"#fb9f3a\"],[0.8888888888888888,\"#fdca26\"],[1.0,\"#f0f921\"]]}],\"choropleth\":[{\"type\":\"choropleth\",\"colorbar\":{\"outlinewidth\":0,\"ticks\":\"\"}}],\"histogram2d\":[{\"type\":\"histogram2d\",\"colorbar\":{\"outlinewidth\":0,\"ticks\":\"\"},\"colorscale\":[[0.0,\"#0d0887\"],[0.1111111111111111,\"#46039f\"],[0.2222222222222222,\"#7201a8\"],[0.3333333333333333,\"#9c179e\"],[0.4444444444444444,\"#bd3786\"],[0.5555555555555556,\"#d8576b\"],[0.6666666666666666,\"#ed7953\"],[0.7777777777777778,\"#fb9f3a\"],[0.8888888888888888,\"#fdca26\"],[1.0,\"#f0f921\"]]}],\"heatmap\":[{\"type\":\"heatmap\",\"colorbar\":{\"outlinewidth\":0,\"ticks\":\"\"},\"colorscale\":[[0.0,\"#0d0887\"],[0.1111111111111111,\"#46039f\"],[0.2222222222222222,\"#7201a8\"],[0.3333333333333333,\"#9c179e\"],[0.4444444444444444,\"#bd3786\"],[0.5555555555555556,\"#d8576b\"],[0.6666666666666666,\"#ed7953\"],[0.7777777777777778,\"#fb9f3a\"],[0.8888888888888888,\"#fdca26\"],[1.0,\"#f0f921\"]]}],\"heatmapgl\":[{\"type\":\"heatmapgl\",\"colorbar\":{\"outlinewidth\":0,\"ticks\":\"\"},\"colorscale\":[[0.0,\"#0d0887\"],[0.1111111111111111,\"#46039f\"],[0.2222222222222222,\"#7201a8\"],[0.3333333333333333,\"#9c179e\"],[0.4444444444444444,\"#bd3786\"],[0.5555555555555556,\"#d8576b\"],[0.6666666666666666,\"#ed7953\"],[0.7777777777777778,\"#fb9f3a\"],[0.8888888888888888,\"#fdca26\"],[1.0,\"#f0f921\"]]}],\"contourcarpet\":[{\"type\":\"contourcarpet\",\"colorbar\":{\"outlinewidth\":0,\"ticks\":\"\"}}],\"contour\":[{\"type\":\"contour\",\"colorbar\":{\"outlinewidth\":0,\"ticks\":\"\"},\"colorscale\":[[0.0,\"#0d0887\"],[0.1111111111111111,\"#46039f\"],[0.2222222222222222,\"#7201a8\"],[0.3333333333333333,\"#9c179e\"],[0.4444444444444444,\"#bd3786\"],[0.5555555555555556,\"#d8576b\"],[0.6666666666666666,\"#ed7953\"],[0.7777777777777778,\"#fb9f3a\"],[0.8888888888888888,\"#fdca26\"],[1.0,\"#f0f921\"]]}],\"surface\":[{\"type\":\"surface\",\"colorbar\":{\"outlinewidth\":0,\"ticks\":\"\"},\"colorscale\":[[0.0,\"#0d0887\"],[0.1111111111111111,\"#46039f\"],[0.2222222222222222,\"#7201a8\"],[0.3333333333333333,\"#9c179e\"],[0.4444444444444444,\"#bd3786\"],[0.5555555555555556,\"#d8576b\"],[0.6666666666666666,\"#ed7953\"],[0.7777777777777778,\"#fb9f3a\"],[0.8888888888888888,\"#fdca26\"],[1.0,\"#f0f921\"]]}],\"mesh3d\":[{\"type\":\"mesh3d\",\"colorbar\":{\"outlinewidth\":0,\"ticks\":\"\"}}],\"scatter\":[{\"marker\":{\"line\":{\"color\":\"#283442\"}},\"type\":\"scatter\"}],\"parcoords\":[{\"type\":\"parcoords\",\"line\":{\"colorbar\":{\"outlinewidth\":0,\"ticks\":\"\"}}}],\"scatterpolargl\":[{\"type\":\"scatterpolargl\",\"marker\":{\"colorbar\":{\"outlinewidth\":0,\"ticks\":\"\"}}}],\"bar\":[{\"error_x\":{\"color\":\"#f2f5fa\"},\"error_y\":{\"color\":\"#f2f5fa\"},\"marker\":{\"line\":{\"color\":\"rgb(17,17,17)\",\"width\":0.5},\"pattern\":{\"fillmode\":\"overlay\",\"size\":10,\"solidity\":0.2}},\"type\":\"bar\"}],\"scattergeo\":[{\"type\":\"scattergeo\",\"marker\":{\"colorbar\":{\"outlinewidth\":0,\"ticks\":\"\"}}}],\"scatterpolar\":[{\"type\":\"scatterpolar\",\"marker\":{\"colorbar\":{\"outlinewidth\":0,\"ticks\":\"\"}}}],\"histogram\":[{\"marker\":{\"pattern\":{\"fillmode\":\"overlay\",\"size\":10,\"solidity\":0.2}},\"type\":\"histogram\"}],\"scattergl\":[{\"marker\":{\"line\":{\"color\":\"#283442\"}},\"type\":\"scattergl\"}],\"scatter3d\":[{\"type\":\"scatter3d\",\"line\":{\"colorbar\":{\"outlinewidth\":0,\"ticks\":\"\"}},\"marker\":{\"colorbar\":{\"outlinewidth\":0,\"ticks\":\"\"}}}],\"scattermapbox\":[{\"type\":\"scattermapbox\",\"marker\":{\"colorbar\":{\"outlinewidth\":0,\"ticks\":\"\"}}}],\"scatterternary\":[{\"type\":\"scatterternary\",\"marker\":{\"colorbar\":{\"outlinewidth\":0,\"ticks\":\"\"}}}],\"scattercarpet\":[{\"type\":\"scattercarpet\",\"marker\":{\"colorbar\":{\"outlinewidth\":0,\"ticks\":\"\"}}}],\"carpet\":[{\"aaxis\":{\"endlinecolor\":\"#A2B1C6\",\"gridcolor\":\"#506784\",\"linecolor\":\"#506784\",\"minorgridcolor\":\"#506784\",\"startlinecolor\":\"#A2B1C6\"},\"baxis\":{\"endlinecolor\":\"#A2B1C6\",\"gridcolor\":\"#506784\",\"linecolor\":\"#506784\",\"minorgridcolor\":\"#506784\",\"startlinecolor\":\"#A2B1C6\"},\"type\":\"carpet\"}],\"table\":[{\"cells\":{\"fill\":{\"color\":\"#506784\"},\"line\":{\"color\":\"rgb(17,17,17)\"}},\"header\":{\"fill\":{\"color\":\"#2a3f5f\"},\"line\":{\"color\":\"rgb(17,17,17)\"}},\"type\":\"table\"}],\"barpolar\":[{\"marker\":{\"line\":{\"color\":\"rgb(17,17,17)\",\"width\":0.5},\"pattern\":{\"fillmode\":\"overlay\",\"size\":10,\"solidity\":0.2}},\"type\":\"barpolar\"}],\"pie\":[{\"automargin\":true,\"type\":\"pie\"}]},\"layout\":{\"autotypenumbers\":\"strict\",\"colorway\":[\"#636efa\",\"#EF553B\",\"#00cc96\",\"#ab63fa\",\"#FFA15A\",\"#19d3f3\",\"#FF6692\",\"#B6E880\",\"#FF97FF\",\"#FECB52\"],\"font\":{\"color\":\"#f2f5fa\"},\"hovermode\":\"closest\",\"hoverlabel\":{\"align\":\"left\"},\"paper_bgcolor\":\"rgb(17,17,17)\",\"plot_bgcolor\":\"rgb(17,17,17)\",\"polar\":{\"bgcolor\":\"rgb(17,17,17)\",\"angularaxis\":{\"gridcolor\":\"#506784\",\"linecolor\":\"#506784\",\"ticks\":\"\"},\"radialaxis\":{\"gridcolor\":\"#506784\",\"linecolor\":\"#506784\",\"ticks\":\"\"}},\"ternary\":{\"bgcolor\":\"rgb(17,17,17)\",\"aaxis\":{\"gridcolor\":\"#506784\",\"linecolor\":\"#506784\",\"ticks\":\"\"},\"baxis\":{\"gridcolor\":\"#506784\",\"linecolor\":\"#506784\",\"ticks\":\"\"},\"caxis\":{\"gridcolor\":\"#506784\",\"linecolor\":\"#506784\",\"ticks\":\"\"}},\"coloraxis\":{\"colorbar\":{\"outlinewidth\":0,\"ticks\":\"\"}},\"colorscale\":{\"sequential\":[[0.0,\"#0d0887\"],[0.1111111111111111,\"#46039f\"],[0.2222222222222222,\"#7201a8\"],[0.3333333333333333,\"#9c179e\"],[0.4444444444444444,\"#bd3786\"],[0.5555555555555556,\"#d8576b\"],[0.6666666666666666,\"#ed7953\"],[0.7777777777777778,\"#fb9f3a\"],[0.8888888888888888,\"#fdca26\"],[1.0,\"#f0f921\"]],\"sequentialminus\":[[0.0,\"#0d0887\"],[0.1111111111111111,\"#46039f\"],[0.2222222222222222,\"#7201a8\"],[0.3333333333333333,\"#9c179e\"],[0.4444444444444444,\"#bd3786\"],[0.5555555555555556,\"#d8576b\"],[0.6666666666666666,\"#ed7953\"],[0.7777777777777778,\"#fb9f3a\"],[0.8888888888888888,\"#fdca26\"],[1.0,\"#f0f921\"]],\"diverging\":[[0,\"#8e0152\"],[0.1,\"#c51b7d\"],[0.2,\"#de77ae\"],[0.3,\"#f1b6da\"],[0.4,\"#fde0ef\"],[0.5,\"#f7f7f7\"],[0.6,\"#e6f5d0\"],[0.7,\"#b8e186\"],[0.8,\"#7fbc41\"],[0.9,\"#4d9221\"],[1,\"#276419\"]]},\"xaxis\":{\"gridcolor\":\"#283442\",\"linecolor\":\"#506784\",\"ticks\":\"\",\"title\":{\"standoff\":15},\"zerolinecolor\":\"#283442\",\"automargin\":true,\"zerolinewidth\":2},\"yaxis\":{\"gridcolor\":\"#283442\",\"linecolor\":\"#506784\",\"ticks\":\"\",\"title\":{\"standoff\":15},\"zerolinecolor\":\"#283442\",\"automargin\":true,\"zerolinewidth\":2},\"scene\":{\"xaxis\":{\"backgroundcolor\":\"rgb(17,17,17)\",\"gridcolor\":\"#506784\",\"linecolor\":\"#506784\",\"showbackground\":true,\"ticks\":\"\",\"zerolinecolor\":\"#C8D4E3\",\"gridwidth\":2},\"yaxis\":{\"backgroundcolor\":\"rgb(17,17,17)\",\"gridcolor\":\"#506784\",\"linecolor\":\"#506784\",\"showbackground\":true,\"ticks\":\"\",\"zerolinecolor\":\"#C8D4E3\",\"gridwidth\":2},\"zaxis\":{\"backgroundcolor\":\"rgb(17,17,17)\",\"gridcolor\":\"#506784\",\"linecolor\":\"#506784\",\"showbackground\":true,\"ticks\":\"\",\"zerolinecolor\":\"#C8D4E3\",\"gridwidth\":2}},\"shapedefaults\":{\"line\":{\"color\":\"#f2f5fa\"}},\"annotationdefaults\":{\"arrowcolor\":\"#f2f5fa\",\"arrowhead\":0,\"arrowwidth\":1},\"geo\":{\"bgcolor\":\"rgb(17,17,17)\",\"landcolor\":\"rgb(17,17,17)\",\"subunitcolor\":\"#506784\",\"showland\":true,\"showlakes\":true,\"lakecolor\":\"rgb(17,17,17)\"},\"title\":{\"x\":0.05},\"updatemenudefaults\":{\"bgcolor\":\"#506784\",\"borderwidth\":0},\"sliderdefaults\":{\"bgcolor\":\"#C8D4E3\",\"borderwidth\":1,\"bordercolor\":\"rgb(17,17,17)\",\"tickwidth\":0},\"mapbox\":{\"style\":\"dark\"}}},\"xaxis\":{\"anchor\":\"y\",\"domain\":[0.0,1.0],\"title\":{\"text\":\"Flow [l/min]\"}},\"yaxis\":{\"anchor\":\"x\",\"domain\":[0.0,1.0],\"title\":{\"text\":\"Incidence loss\"}},\"legend\":{\"title\":{\"text\":\"Speed\"},\"tracegroupgap\":0},\"title\":{\"text\":\"Incidence loss\"}},                        {\"responsive\": true}                    ).then(function(){\n                            \nvar gd = document.getElementById('595e8f94-f477-4d3f-91bf-0c34a7f9c8d7');\nvar x = new MutationObserver(function (mutations, observer) {{\n        var display = window.getComputedStyle(gd).display;\n        if (!display || display === 'none') {{\n            console.log([gd, 'removed!']);\n            Plotly.purge(gd);\n            observer.disconnect();\n        }}\n}});\n\n// Listen for the removal of the full notebook cells\nvar notebookContainer = gd.closest('#notebook-container');\nif (notebookContainer) {{\n    x.observe(notebookContainer, {childList: true});\n}}\n\n// Listen for the clearing of the current output cell\nvar outputEl = gd.closest('.output');\nif (outputEl) {{\n    x.observe(outputEl, {childList: true});\n}}\n\n                        })                };                });            </script>        </div>"
     },
     "metadata": {},
     "output_type": "display_data"
    },
    {
     "data": {
      "application/vnd.plotly.v1+json": {
       "data": [
        {
         "hovertemplate": "Speed=1200<br>Flow [l/min]=%{x}<br>Head loss friction=%{y}<extra></extra>",
         "legendgroup": "1200",
         "line": {
          "color": "#636efa",
          "dash": "solid"
         },
         "marker": {
          "symbol": "circle"
         },
         "mode": "lines",
         "name": "1200",
         "orientation": "v",
         "showlegend": true,
         "x": [
          6.0,
          12.0,
          18.000000000000004,
          24.0,
          30.0,
          36.00000000000001,
          42.00000000000001,
          48.0,
          54.00000000000001,
          60.0,
          66.0,
          72.00000000000001,
          78.00000000000001,
          84.00000000000001,
          90.0,
          96.0,
          102.00000000000001,
          108.00000000000001,
          114.00000000000001,
          120.0,
          126.0,
          132.0,
          138.0,
          144.0,
          150.0,
          156.0,
          162.0,
          168.0,
          174.0,
          180.0,
          186.0,
          192.0,
          198.0,
          204.0,
          210.0,
          216.0,
          222.0,
          228.0,
          234.0,
          240.0,
          246.00000000000003,
          252.0,
          258.00000000000006,
          264.0,
          270.00000000000006,
          276.00000000000006,
          282.0,
          288.00000000000006,
          294.0,
          300.0,
          306.00000000000006,
          312.00000000000006,
          318.00000000000006,
          324.0,
          330.00000000000006,
          336.00000000000006,
          342.0,
          348.00000000000006,
          354.0,
          360.0,
          366.00000000000006,
          372.00000000000006,
          378.00000000000006,
          384.0,
          390.00000000000006,
          396.00000000000006,
          402.0,
          408.00000000000006,
          414.0,
          420.00000000000006,
          426.00000000000006,
          432.00000000000006,
          438.00000000000006,
          444.0,
          450.00000000000006,
          456.00000000000006,
          462.0,
          468.00000000000006,
          474.0,
          480.0,
          486.0,
          491.99999999999994,
          498.00000000000006,
          504.0,
          510.0,
          516.0,
          522.0,
          528.0,
          534.0,
          540.0,
          546.0,
          552.0,
          557.9999999999999,
          564.0,
          570.0,
          576.0,
          582.0000000000001,
          587.9999999999999,
          593.9999999999999,
          600.0,
          606.0,
          612.0000000000001,
          618.0,
          624.0,
          630.0,
          636.0,
          642.0,
          648.0,
          654.0,
          660.0,
          666.0,
          672.0,
          677.9999999999999,
          684.0,
          690.0,
          696.0,
          702.0000000000001,
          707.9999999999999,
          713.9999999999999,
          720.0,
          726.0,
          732.0000000000001,
          738.0,
          744.0,
          750.0,
          756.0,
          762.0,
          768.0,
          774.0,
          780.0,
          786.0000000000001,
          792.0,
          797.9999999999999,
          804.0,
          810.0,
          816.0,
          822.0000000000001,
          827.9999999999999,
          834.0,
          840.0,
          846.0,
          852.0000000000001,
          858.0,
          864.0,
          870.0,
          876.0,
          882.0,
          888.0,
          894.0,
          900.0,
          906.0000000000001,
          912.0,
          917.9999999999999,
          924.0,
          930.0,
          936.0,
          942.0000000000002,
          948.0,
          954.0,
          960.0,
          966.0000000000001,
          972.0,
          977.9999999999998,
          984.0000000000001,
          990.0,
          996.0000000000001,
          1002.0,
          1008.0,
          1014.0000000000001,
          1020.0,
          1026.0,
          1032.0,
          1038.0,
          1044.0,
          1050.0,
          1056.0,
          1062.0,
          1068.0,
          1074.0,
          1080.0,
          1086.0,
          1092.0,
          1098.0,
          1104.0,
          1110.0,
          1116.0,
          1122.0000000000002,
          1128.0,
          1134.0,
          1140.0,
          1145.9999999999998,
          1152.0000000000002,
          1158.0,
          1164.0000000000002,
          1170.0,
          1175.9999999999998,
          1182.0,
          1188.0,
          1194.0000000000002
         ],
         "xaxis": "x",
         "y": [
          0.07378963965733366,
          0.07496616710224638,
          0.07615633701130285,
          0.07736025142889259,
          0.07857801231780918,
          0.0798097215590747,
          0.08105548092443483,
          0.08231539208273089,
          0.08358955654290816,
          0.08487807567754138,
          0.08618105069490084,
          0.08749858260971392,
          0.08883077223793459,
          0.09017772019895105,
          0.09153952686054735,
          0.09291629236642843,
          0.09430811658685448,
          0.0957150991276798,
          0.09713733930689634,
          0.09857493613035406,
          0.10002798830251,
          0.10149659418127732,
          0.10298085178182004,
          0.10448085878210611,
          0.10599671246928749,
          0.10752850973662977,
          0.10907634711296477,
          0.1106403206924593,
          0.11222052614014391,
          0.11381705871569915,
          0.11543001320061741,
          0.11705948394683248,
          0.11870556481084597,
          0.12036834918756599,
          0.12204792996887974,
          0.12374439954445318,
          0.12545784981282626,
          0.12718837212081235,
          0.12893605729213875,
          0.13070099563123141,
          0.1324832768513776,
          0.1342829901439376,
          0.13610022411609254,
          0.13793506679431958,
          0.1397876056392854,
          0.14165792749073852,
          0.143546118623534,
          0.14545226468212644,
          0.14737645070697256,
          0.14931876112043022,
          0.15127927972325123,
          0.15325808966914678,
          0.1552552734946327,
          0.15727091308310578,
          0.15930508968479687,
          0.16135788386822067,
          0.1634293755877983,
          0.16551964411222567,
          0.16762876803344712,
          0.16975682532665617,
          0.17190389323926245,
          0.17407004837556145,
          0.17625536667234273,
          0.17845992337292413,
          0.180683793026057,
          0.18292704953887443,
          0.1851897661119054,
          0.18747201523817386,
          0.18977386875838617,
          0.1920953978217938,
          0.19443667288714658,
          0.19679776369500665,
          0.19917873935548877,
          0.20157966823503656,
          0.20400061804514258,
          0.20644165580105,
          0.2089028478390326,
          0.2113842597883171,
          0.21388595660413012,
          0.21640800257135057,
          0.21895046129228596,
          0.22151339565720285,
          0.2240968679120841,
          0.22670093963082857,
          0.22932567166839354,
          0.23197112424779348,
          0.23463735693185428,
          0.2373244285927943,
          0.2400323974150998,
          0.24276132098846626,
          0.24551125620714834,
          0.2482822593091831,
          0.25107438586247777,
          0.2538876908439284,
          0.2567222285525078,
          0.2595780526316321,
          0.2624552161319317,
          0.26535377142054467,
          0.2682737703031063,
          0.2712152638718328,
          0.274178302709734,
          0.27716293667587,
          0.28016921509239073,
          0.28319718664916876,
          0.28624689942945036,
          0.28931840095854217,
          0.2924117381030715,
          0.2955269571833367,
          0.2986641039371604,
          0.30182322352598023,
          0.3050043605410442,
          0.30820755896375457,
          0.3114328622857203,
          0.31468031337810765,
          0.3179499545656646,
          0.32124182768132,
          0.3245559739543116,
          0.32789243411115443,
          0.33125124833433417,
          0.334632456268007,
          0.3380360970490138,
          0.3414622093140006,
          0.3449108311550337,
          0.3483820001763213,
          0.35187575350152356,
          0.35539212772794476,
          0.3589311589312703,
          0.3624928828331494,
          0.36607733451266045,
          0.36968454865349004,
          0.3733145595263402,
          0.37696740082852404,
          0.3806431058558711,
          0.384341707483072,
          0.3880632380550904,
          0.39180772953623316,
          0.3955752134304243,
          0.3993657208461685,
          0.4031792823834561,
          0.40701592831922384,
          0.41087568843318806,
          0.4147585921345689,
          0.4186646684387015,
          0.4225939459101281,
          0.4265464527623678,
          0.4305222167689656,
          0.4345212653977671,
          0.43854362562276306,
          0.4425893241576248,
          0.44665838723180695,
          0.4507508407945111,
          0.45486671038757553,
          0.4590060212527029,
          0.46316879816539375,
          0.4673550656464646,
          0.4715648478299021,
          0.47579816857392354,
          0.4800550512884774,
          0.4843355191544899,
          0.4886395949865629,
          0.4929673012364389,
          0.49731866014646436,
          0.5016936935326572,
          0.5060924229374908,
          0.5105148696751954,
          0.5149610546070612,
          0.5194309984533618,
          0.5239247215284069,
          0.528442243939961,
          0.5329835854367576,
          0.5375487655318887,
          0.5421378034686476,
          0.5467507181429395,
          0.5513875283131446,
          0.556048252358295,
          0.5607329084897098,
          0.5654415145030584,
          0.5701740881211189,
          0.574930646745115,
          0.5797112074560612,
          0.5845157871929991,
          0.5893444026724688,
          0.594197070258564,
          0.5990738061437224,
          0.6039746262640899,
          0.6088995464409437,
          0.6138485821569623,
          0.6188217486492272,
          0.6238190610540459,
          0.6288405342251215,
          0.6338861827826693,
          0.6389560212132784,
          0.6440500636814616,
          0.6491683243240532,
          0.6543108168640466,
          0.6594775550558156,
          0.6646685522441609,
          0.6698838217658434,
          0.6751233766531135
         ],
         "yaxis": "y",
         "type": "scatter"
        },
        {
         "hovertemplate": "Speed=1800<br>Flow [l/min]=%{x}<br>Head loss friction=%{y}<extra></extra>",
         "legendgroup": "1800",
         "line": {
          "color": "#EF553B",
          "dash": "solid"
         },
         "marker": {
          "symbol": "circle"
         },
         "mode": "lines",
         "name": "1800",
         "orientation": "v",
         "showlegend": true,
         "x": [
          6.0,
          12.0,
          18.000000000000004,
          24.0,
          30.0,
          36.00000000000001,
          42.00000000000001,
          48.0,
          54.00000000000001,
          60.0,
          66.0,
          72.00000000000001,
          78.00000000000001,
          84.00000000000001,
          90.0,
          96.0,
          102.00000000000001,
          108.00000000000001,
          114.00000000000001,
          120.0,
          126.0,
          132.0,
          138.0,
          144.0,
          150.0,
          156.0,
          162.0,
          168.0,
          174.0,
          180.0,
          186.0,
          192.0,
          198.0,
          204.0,
          210.0,
          216.0,
          222.0,
          228.0,
          234.0,
          240.0,
          246.00000000000003,
          252.0,
          258.00000000000006,
          264.0,
          270.00000000000006,
          276.00000000000006,
          282.0,
          288.00000000000006,
          294.0,
          300.0,
          306.00000000000006,
          312.00000000000006,
          318.00000000000006,
          324.0,
          330.00000000000006,
          336.00000000000006,
          342.0,
          348.00000000000006,
          354.0,
          360.0,
          366.00000000000006,
          372.00000000000006,
          378.00000000000006,
          384.0,
          390.00000000000006,
          396.00000000000006,
          402.0,
          408.00000000000006,
          414.0,
          420.00000000000006,
          426.00000000000006,
          432.00000000000006,
          438.00000000000006,
          444.0,
          450.00000000000006,
          456.00000000000006,
          462.0,
          468.00000000000006,
          474.0,
          480.0,
          486.0,
          491.99999999999994,
          498.00000000000006,
          504.0,
          510.0,
          516.0,
          522.0,
          528.0,
          534.0,
          540.0,
          546.0,
          552.0,
          557.9999999999999,
          564.0,
          570.0,
          576.0,
          582.0000000000001,
          587.9999999999999,
          593.9999999999999,
          600.0,
          606.0,
          612.0000000000001,
          618.0,
          624.0,
          630.0,
          636.0,
          642.0,
          648.0,
          654.0,
          660.0,
          666.0,
          672.0,
          677.9999999999999,
          684.0,
          690.0,
          696.0,
          702.0000000000001,
          707.9999999999999,
          713.9999999999999,
          720.0,
          726.0,
          732.0000000000001,
          738.0,
          744.0,
          750.0,
          756.0,
          762.0,
          768.0,
          774.0,
          780.0,
          786.0000000000001,
          792.0,
          797.9999999999999,
          804.0,
          810.0,
          816.0,
          822.0000000000001,
          827.9999999999999,
          834.0,
          840.0,
          846.0,
          852.0000000000001,
          858.0,
          864.0,
          870.0,
          876.0,
          882.0,
          888.0,
          894.0,
          900.0,
          906.0000000000001,
          912.0,
          917.9999999999999,
          924.0,
          930.0,
          936.0,
          942.0000000000002,
          948.0,
          954.0,
          960.0,
          966.0000000000001,
          972.0,
          977.9999999999998,
          984.0000000000001,
          990.0,
          996.0000000000001,
          1002.0,
          1008.0,
          1014.0000000000001,
          1020.0,
          1026.0,
          1032.0,
          1038.0,
          1044.0,
          1050.0,
          1056.0,
          1062.0,
          1068.0,
          1074.0,
          1080.0,
          1086.0,
          1092.0,
          1098.0,
          1104.0,
          1110.0,
          1116.0,
          1122.0000000000002,
          1128.0,
          1134.0,
          1140.0,
          1145.9999999999998,
          1152.0000000000002,
          1158.0,
          1164.0000000000002,
          1170.0,
          1175.9999999999998,
          1182.0,
          1188.0,
          1194.0000000000002
         ],
         "xaxis": "x",
         "y": [
          0.15996606337185573,
          0.16168571845066107,
          0.16341884010851948,
          0.1651654964800594,
          0.1669257556842463,
          0.16869968583357978,
          0.17048735498175388,
          0.17228883114385438,
          0.17410418233099226,
          0.1759334764843204,
          0.17777678148319048,
          0.1796341651805416,
          0.18150569534766145,
          0.18339143970985372,
          0.18529146588949502,
          0.1872058414969617,
          0.18913463400536867,
          0.19107791082816472,
          0.1930357392885262,
          0.1950081866300822,
          0.19699531999962455,
          0.19899720641434512,
          0.20101391281610392,
          0.20304550603971627,
          0.2050920527794832,
          0.2071536196149829,
          0.20923027305422406,
          0.21132207940832778,
          0.21342910487905978,
          0.21555141557264593,
          0.21768907740219204,
          0.21984215617910688,
          0.2220107175137239,
          0.22419482692537987,
          0.2263945497587846,
          0.22860995114617289,
          0.23084109613816434,
          0.23308804956702092,
          0.2353508761107498,
          0.23762964025588107,
          0.2399244063292923,
          0.24223523844252307,
          0.2445622005779171,
          0.24690535647894643,
          0.2492647697004572,
          0.25164050360624785,
          0.254032621385571,
          0.2564411859947441,
          0.2588662601723635,
          0.26130790645568897,
          0.2637661872178078,
          0.26624116450947044,
          0.26873290027115204,
          0.27124145615471984,
          0.27376689357900336,
          0.2763092737888789,
          0.27886865775208297,
          0.2814451062177016,
          0.28403867967262414,
          0.28664943840234225,
          0.28927744242625225,
          0.29192275151636204,
          0.2945854251734129,
          0.29726552271255335,
          0.299963103130562,
          0.30267822521383453,
          0.30541094744779396,
          0.30816132808219315,
          0.31092942510752936,
          0.3137152962536844,
          0.3165189989414197,
          0.3193405903743483,
          0.3221801274678306,
          0.3250376668225962,
          0.3279132648440267,
          0.33080697759633926,
          0.3337188608982053,
          0.33664897027284263,
          0.33959736094626664,
          0.34256408789682896,
          0.34554920580420917,
          0.3485527690478905,
          0.35157483173200116,
          0.3546154476850848,
          0.3576746704064202,
          0.36075255311761256,
          0.3638491488170794,
          0.36696451006267367,
          0.3700986892973354,
          0.3732517384930164,
          0.37642370945281534,
          0.3796146536170627,
          0.3828246221462213,
          0.386053665892478,
          0.3893018354575139,
          0.3925691810472145,
          0.39585575264561423,
          0.39916159989843636,
          0.4024867721718867,
          0.40583131849270543,
          0.4091952876388225,
          0.41257872801783596,
          0.41598168782053857,
          0.41940421480423096,
          0.4228463565734438,
          0.42630816029825935,
          0.4297896729352931,
          0.43329094103643095,
          0.43681201100783157,
          0.44035292875267984,
          0.44391374006413,
          0.4474944902298932,
          0.45109522443183175,
          0.45471598741253166,
          0.4583568236428699,
          0.46201777732404675,
          0.46569889228447736,
          0.4694002121191337,
          0.4731217801219027,
          0.47686363917865177,
          0.48062583201735315,
          0.48440840095923327,
          0.4882113880258277,
          0.4920348350513168,
          0.4958787834262665,
          0.4997432743567153,
          0.5036283486418576,
          0.5075340468622604,
          0.5114604092683498,
          0.5154074758191205,
          0.5193752862227071,
          0.5233638797812596,
          0.5273732955869009,
          0.5314035724861575,
          0.5354547488808135,
          0.5395268630085658,
          0.5436199527850173,
          0.5477340558037496,
          0.55186920941985,
          0.5560254506691502,
          0.5602028162683849,
          0.5644013427007261,
          0.5686210661762175,
          0.5728620225469713,
          0.5771242474804418,
          0.5814077762886631,
          0.58571264401556,
          0.5900388854389342,
          0.5943865350724811,
          0.5987556271225132,
          0.6031461955797011,
          0.6075582740388276,
          0.6119918959739532,
          0.6164470945122135,
          0.6209239024325861,
          0.6254223524016164,
          0.6299424767421575,
          0.634484307480262,
          0.6390478764426191,
          0.6436332151142363,
          0.6482403547847205,
          0.6528693264533948,
          0.6575201609296618,
          0.6621928886362809,
          0.6668875398087911,
          0.6716041444488161,
          0.6763427323265508,
          0.6811033328281799,
          0.6858859752652938,
          0.6906906885683339,
          0.6955175014420352,
          0.70036644247438,
          0.7052375397679976,
          0.71013082141887,
          0.71504631520058,
          0.7199840485084776,
          0.7249440487422473,
          0.7299263428724572,
          0.7349309577707496,
          0.7399579199351662,
          0.7450072557702723,
          0.7500789913656654,
          0.7551731526096878,
          0.7602897651343753,
          0.7654288543744981,
          0.7705904455703664,
          0.7757745637116309,
          0.7809812334786868,
          0.7862104794808217,
          0.7914623260221527,
          0.7967367972217417,
          0.8020339169554156,
          0.8073537089180816,
          0.8126961965647477,
          0.8180614031736756,
          0.8234493517238622,
          0.8288600652095047,
          0.8342935661407538,
          0.8397498769840389
         ],
         "yaxis": "y",
         "type": "scatter"
        }
       ],
       "layout": {
        "template": {
         "data": {
          "histogram2dcontour": [
           {
            "type": "histogram2dcontour",
            "colorbar": {
             "outlinewidth": 0,
             "ticks": ""
            },
            "colorscale": [
             [
              0.0,
              "#0d0887"
             ],
             [
              0.1111111111111111,
              "#46039f"
             ],
             [
              0.2222222222222222,
              "#7201a8"
             ],
             [
              0.3333333333333333,
              "#9c179e"
             ],
             [
              0.4444444444444444,
              "#bd3786"
             ],
             [
              0.5555555555555556,
              "#d8576b"
             ],
             [
              0.6666666666666666,
              "#ed7953"
             ],
             [
              0.7777777777777778,
              "#fb9f3a"
             ],
             [
              0.8888888888888888,
              "#fdca26"
             ],
             [
              1.0,
              "#f0f921"
             ]
            ]
           }
          ],
          "choropleth": [
           {
            "type": "choropleth",
            "colorbar": {
             "outlinewidth": 0,
             "ticks": ""
            }
           }
          ],
          "histogram2d": [
           {
            "type": "histogram2d",
            "colorbar": {
             "outlinewidth": 0,
             "ticks": ""
            },
            "colorscale": [
             [
              0.0,
              "#0d0887"
             ],
             [
              0.1111111111111111,
              "#46039f"
             ],
             [
              0.2222222222222222,
              "#7201a8"
             ],
             [
              0.3333333333333333,
              "#9c179e"
             ],
             [
              0.4444444444444444,
              "#bd3786"
             ],
             [
              0.5555555555555556,
              "#d8576b"
             ],
             [
              0.6666666666666666,
              "#ed7953"
             ],
             [
              0.7777777777777778,
              "#fb9f3a"
             ],
             [
              0.8888888888888888,
              "#fdca26"
             ],
             [
              1.0,
              "#f0f921"
             ]
            ]
           }
          ],
          "heatmap": [
           {
            "type": "heatmap",
            "colorbar": {
             "outlinewidth": 0,
             "ticks": ""
            },
            "colorscale": [
             [
              0.0,
              "#0d0887"
             ],
             [
              0.1111111111111111,
              "#46039f"
             ],
             [
              0.2222222222222222,
              "#7201a8"
             ],
             [
              0.3333333333333333,
              "#9c179e"
             ],
             [
              0.4444444444444444,
              "#bd3786"
             ],
             [
              0.5555555555555556,
              "#d8576b"
             ],
             [
              0.6666666666666666,
              "#ed7953"
             ],
             [
              0.7777777777777778,
              "#fb9f3a"
             ],
             [
              0.8888888888888888,
              "#fdca26"
             ],
             [
              1.0,
              "#f0f921"
             ]
            ]
           }
          ],
          "heatmapgl": [
           {
            "type": "heatmapgl",
            "colorbar": {
             "outlinewidth": 0,
             "ticks": ""
            },
            "colorscale": [
             [
              0.0,
              "#0d0887"
             ],
             [
              0.1111111111111111,
              "#46039f"
             ],
             [
              0.2222222222222222,
              "#7201a8"
             ],
             [
              0.3333333333333333,
              "#9c179e"
             ],
             [
              0.4444444444444444,
              "#bd3786"
             ],
             [
              0.5555555555555556,
              "#d8576b"
             ],
             [
              0.6666666666666666,
              "#ed7953"
             ],
             [
              0.7777777777777778,
              "#fb9f3a"
             ],
             [
              0.8888888888888888,
              "#fdca26"
             ],
             [
              1.0,
              "#f0f921"
             ]
            ]
           }
          ],
          "contourcarpet": [
           {
            "type": "contourcarpet",
            "colorbar": {
             "outlinewidth": 0,
             "ticks": ""
            }
           }
          ],
          "contour": [
           {
            "type": "contour",
            "colorbar": {
             "outlinewidth": 0,
             "ticks": ""
            },
            "colorscale": [
             [
              0.0,
              "#0d0887"
             ],
             [
              0.1111111111111111,
              "#46039f"
             ],
             [
              0.2222222222222222,
              "#7201a8"
             ],
             [
              0.3333333333333333,
              "#9c179e"
             ],
             [
              0.4444444444444444,
              "#bd3786"
             ],
             [
              0.5555555555555556,
              "#d8576b"
             ],
             [
              0.6666666666666666,
              "#ed7953"
             ],
             [
              0.7777777777777778,
              "#fb9f3a"
             ],
             [
              0.8888888888888888,
              "#fdca26"
             ],
             [
              1.0,
              "#f0f921"
             ]
            ]
           }
          ],
          "surface": [
           {
            "type": "surface",
            "colorbar": {
             "outlinewidth": 0,
             "ticks": ""
            },
            "colorscale": [
             [
              0.0,
              "#0d0887"
             ],
             [
              0.1111111111111111,
              "#46039f"
             ],
             [
              0.2222222222222222,
              "#7201a8"
             ],
             [
              0.3333333333333333,
              "#9c179e"
             ],
             [
              0.4444444444444444,
              "#bd3786"
             ],
             [
              0.5555555555555556,
              "#d8576b"
             ],
             [
              0.6666666666666666,
              "#ed7953"
             ],
             [
              0.7777777777777778,
              "#fb9f3a"
             ],
             [
              0.8888888888888888,
              "#fdca26"
             ],
             [
              1.0,
              "#f0f921"
             ]
            ]
           }
          ],
          "mesh3d": [
           {
            "type": "mesh3d",
            "colorbar": {
             "outlinewidth": 0,
             "ticks": ""
            }
           }
          ],
          "scatter": [
           {
            "marker": {
             "line": {
              "color": "#283442"
             }
            },
            "type": "scatter"
           }
          ],
          "parcoords": [
           {
            "type": "parcoords",
            "line": {
             "colorbar": {
              "outlinewidth": 0,
              "ticks": ""
             }
            }
           }
          ],
          "scatterpolargl": [
           {
            "type": "scatterpolargl",
            "marker": {
             "colorbar": {
              "outlinewidth": 0,
              "ticks": ""
             }
            }
           }
          ],
          "bar": [
           {
            "error_x": {
             "color": "#f2f5fa"
            },
            "error_y": {
             "color": "#f2f5fa"
            },
            "marker": {
             "line": {
              "color": "rgb(17,17,17)",
              "width": 0.5
             },
             "pattern": {
              "fillmode": "overlay",
              "size": 10,
              "solidity": 0.2
             }
            },
            "type": "bar"
           }
          ],
          "scattergeo": [
           {
            "type": "scattergeo",
            "marker": {
             "colorbar": {
              "outlinewidth": 0,
              "ticks": ""
             }
            }
           }
          ],
          "scatterpolar": [
           {
            "type": "scatterpolar",
            "marker": {
             "colorbar": {
              "outlinewidth": 0,
              "ticks": ""
             }
            }
           }
          ],
          "histogram": [
           {
            "marker": {
             "pattern": {
              "fillmode": "overlay",
              "size": 10,
              "solidity": 0.2
             }
            },
            "type": "histogram"
           }
          ],
          "scattergl": [
           {
            "marker": {
             "line": {
              "color": "#283442"
             }
            },
            "type": "scattergl"
           }
          ],
          "scatter3d": [
           {
            "type": "scatter3d",
            "line": {
             "colorbar": {
              "outlinewidth": 0,
              "ticks": ""
             }
            },
            "marker": {
             "colorbar": {
              "outlinewidth": 0,
              "ticks": ""
             }
            }
           }
          ],
          "scattermapbox": [
           {
            "type": "scattermapbox",
            "marker": {
             "colorbar": {
              "outlinewidth": 0,
              "ticks": ""
             }
            }
           }
          ],
          "scatterternary": [
           {
            "type": "scatterternary",
            "marker": {
             "colorbar": {
              "outlinewidth": 0,
              "ticks": ""
             }
            }
           }
          ],
          "scattercarpet": [
           {
            "type": "scattercarpet",
            "marker": {
             "colorbar": {
              "outlinewidth": 0,
              "ticks": ""
             }
            }
           }
          ],
          "carpet": [
           {
            "aaxis": {
             "endlinecolor": "#A2B1C6",
             "gridcolor": "#506784",
             "linecolor": "#506784",
             "minorgridcolor": "#506784",
             "startlinecolor": "#A2B1C6"
            },
            "baxis": {
             "endlinecolor": "#A2B1C6",
             "gridcolor": "#506784",
             "linecolor": "#506784",
             "minorgridcolor": "#506784",
             "startlinecolor": "#A2B1C6"
            },
            "type": "carpet"
           }
          ],
          "table": [
           {
            "cells": {
             "fill": {
              "color": "#506784"
             },
             "line": {
              "color": "rgb(17,17,17)"
             }
            },
            "header": {
             "fill": {
              "color": "#2a3f5f"
             },
             "line": {
              "color": "rgb(17,17,17)"
             }
            },
            "type": "table"
           }
          ],
          "barpolar": [
           {
            "marker": {
             "line": {
              "color": "rgb(17,17,17)",
              "width": 0.5
             },
             "pattern": {
              "fillmode": "overlay",
              "size": 10,
              "solidity": 0.2
             }
            },
            "type": "barpolar"
           }
          ],
          "pie": [
           {
            "automargin": true,
            "type": "pie"
           }
          ]
         },
         "layout": {
          "autotypenumbers": "strict",
          "colorway": [
           "#636efa",
           "#EF553B",
           "#00cc96",
           "#ab63fa",
           "#FFA15A",
           "#19d3f3",
           "#FF6692",
           "#B6E880",
           "#FF97FF",
           "#FECB52"
          ],
          "font": {
           "color": "#f2f5fa"
          },
          "hovermode": "closest",
          "hoverlabel": {
           "align": "left"
          },
          "paper_bgcolor": "rgb(17,17,17)",
          "plot_bgcolor": "rgb(17,17,17)",
          "polar": {
           "bgcolor": "rgb(17,17,17)",
           "angularaxis": {
            "gridcolor": "#506784",
            "linecolor": "#506784",
            "ticks": ""
           },
           "radialaxis": {
            "gridcolor": "#506784",
            "linecolor": "#506784",
            "ticks": ""
           }
          },
          "ternary": {
           "bgcolor": "rgb(17,17,17)",
           "aaxis": {
            "gridcolor": "#506784",
            "linecolor": "#506784",
            "ticks": ""
           },
           "baxis": {
            "gridcolor": "#506784",
            "linecolor": "#506784",
            "ticks": ""
           },
           "caxis": {
            "gridcolor": "#506784",
            "linecolor": "#506784",
            "ticks": ""
           }
          },
          "coloraxis": {
           "colorbar": {
            "outlinewidth": 0,
            "ticks": ""
           }
          },
          "colorscale": {
           "sequential": [
            [
             0.0,
             "#0d0887"
            ],
            [
             0.1111111111111111,
             "#46039f"
            ],
            [
             0.2222222222222222,
             "#7201a8"
            ],
            [
             0.3333333333333333,
             "#9c179e"
            ],
            [
             0.4444444444444444,
             "#bd3786"
            ],
            [
             0.5555555555555556,
             "#d8576b"
            ],
            [
             0.6666666666666666,
             "#ed7953"
            ],
            [
             0.7777777777777778,
             "#fb9f3a"
            ],
            [
             0.8888888888888888,
             "#fdca26"
            ],
            [
             1.0,
             "#f0f921"
            ]
           ],
           "sequentialminus": [
            [
             0.0,
             "#0d0887"
            ],
            [
             0.1111111111111111,
             "#46039f"
            ],
            [
             0.2222222222222222,
             "#7201a8"
            ],
            [
             0.3333333333333333,
             "#9c179e"
            ],
            [
             0.4444444444444444,
             "#bd3786"
            ],
            [
             0.5555555555555556,
             "#d8576b"
            ],
            [
             0.6666666666666666,
             "#ed7953"
            ],
            [
             0.7777777777777778,
             "#fb9f3a"
            ],
            [
             0.8888888888888888,
             "#fdca26"
            ],
            [
             1.0,
             "#f0f921"
            ]
           ],
           "diverging": [
            [
             0,
             "#8e0152"
            ],
            [
             0.1,
             "#c51b7d"
            ],
            [
             0.2,
             "#de77ae"
            ],
            [
             0.3,
             "#f1b6da"
            ],
            [
             0.4,
             "#fde0ef"
            ],
            [
             0.5,
             "#f7f7f7"
            ],
            [
             0.6,
             "#e6f5d0"
            ],
            [
             0.7,
             "#b8e186"
            ],
            [
             0.8,
             "#7fbc41"
            ],
            [
             0.9,
             "#4d9221"
            ],
            [
             1,
             "#276419"
            ]
           ]
          },
          "xaxis": {
           "gridcolor": "#283442",
           "linecolor": "#506784",
           "ticks": "",
           "title": {
            "standoff": 15
           },
           "zerolinecolor": "#283442",
           "automargin": true,
           "zerolinewidth": 2
          },
          "yaxis": {
           "gridcolor": "#283442",
           "linecolor": "#506784",
           "ticks": "",
           "title": {
            "standoff": 15
           },
           "zerolinecolor": "#283442",
           "automargin": true,
           "zerolinewidth": 2
          },
          "scene": {
           "xaxis": {
            "backgroundcolor": "rgb(17,17,17)",
            "gridcolor": "#506784",
            "linecolor": "#506784",
            "showbackground": true,
            "ticks": "",
            "zerolinecolor": "#C8D4E3",
            "gridwidth": 2
           },
           "yaxis": {
            "backgroundcolor": "rgb(17,17,17)",
            "gridcolor": "#506784",
            "linecolor": "#506784",
            "showbackground": true,
            "ticks": "",
            "zerolinecolor": "#C8D4E3",
            "gridwidth": 2
           },
           "zaxis": {
            "backgroundcolor": "rgb(17,17,17)",
            "gridcolor": "#506784",
            "linecolor": "#506784",
            "showbackground": true,
            "ticks": "",
            "zerolinecolor": "#C8D4E3",
            "gridwidth": 2
           }
          },
          "shapedefaults": {
           "line": {
            "color": "#f2f5fa"
           }
          },
          "annotationdefaults": {
           "arrowcolor": "#f2f5fa",
           "arrowhead": 0,
           "arrowwidth": 1
          },
          "geo": {
           "bgcolor": "rgb(17,17,17)",
           "landcolor": "rgb(17,17,17)",
           "subunitcolor": "#506784",
           "showland": true,
           "showlakes": true,
           "lakecolor": "rgb(17,17,17)"
          },
          "title": {
           "x": 0.05
          },
          "updatemenudefaults": {
           "bgcolor": "#506784",
           "borderwidth": 0
          },
          "sliderdefaults": {
           "bgcolor": "#C8D4E3",
           "borderwidth": 1,
           "bordercolor": "rgb(17,17,17)",
           "tickwidth": 0
          },
          "mapbox": {
           "style": "dark"
          }
         }
        },
        "xaxis": {
         "anchor": "y",
         "domain": [
          0.0,
          1.0
         ],
         "title": {
          "text": "Flow [l/min]"
         }
        },
        "yaxis": {
         "anchor": "x",
         "domain": [
          0.0,
          1.0
         ],
         "title": {
          "text": "Head loss friction"
         }
        },
        "legend": {
         "title": {
          "text": "Speed"
         },
         "tracegroupgap": 0
        },
        "title": {
         "text": "Friction loss"
        }
       },
       "config": {
        "plotlyServerURL": "https://plot.ly"
       }
      },
      "text/html": "<div>                            <div id=\"d0975928-6b2c-4f0d-bb4e-b623729647e6\" class=\"plotly-graph-div\" style=\"height:525px; width:100%;\"></div>            <script type=\"text/javascript\">                require([\"plotly\"], function(Plotly) {                    window.PLOTLYENV=window.PLOTLYENV || {};                                    if (document.getElementById(\"d0975928-6b2c-4f0d-bb4e-b623729647e6\")) {                    Plotly.newPlot(                        \"d0975928-6b2c-4f0d-bb4e-b623729647e6\",                        [{\"hovertemplate\":\"Speed=1200<br>Flow [l/min]=%{x}<br>Head loss friction=%{y}<extra></extra>\",\"legendgroup\":\"1200\",\"line\":{\"color\":\"#636efa\",\"dash\":\"solid\"},\"marker\":{\"symbol\":\"circle\"},\"mode\":\"lines\",\"name\":\"1200\",\"orientation\":\"v\",\"showlegend\":true,\"x\":[6.0,12.0,18.000000000000004,24.0,30.0,36.00000000000001,42.00000000000001,48.0,54.00000000000001,60.0,66.0,72.00000000000001,78.00000000000001,84.00000000000001,90.0,96.0,102.00000000000001,108.00000000000001,114.00000000000001,120.0,126.0,132.0,138.0,144.0,150.0,156.0,162.0,168.0,174.0,180.0,186.0,192.0,198.0,204.0,210.0,216.0,222.0,228.0,234.0,240.0,246.00000000000003,252.0,258.00000000000006,264.0,270.00000000000006,276.00000000000006,282.0,288.00000000000006,294.0,300.0,306.00000000000006,312.00000000000006,318.00000000000006,324.0,330.00000000000006,336.00000000000006,342.0,348.00000000000006,354.0,360.0,366.00000000000006,372.00000000000006,378.00000000000006,384.0,390.00000000000006,396.00000000000006,402.0,408.00000000000006,414.0,420.00000000000006,426.00000000000006,432.00000000000006,438.00000000000006,444.0,450.00000000000006,456.00000000000006,462.0,468.00000000000006,474.0,480.0,486.0,491.99999999999994,498.00000000000006,504.0,510.0,516.0,522.0,528.0,534.0,540.0,546.0,552.0,557.9999999999999,564.0,570.0,576.0,582.0000000000001,587.9999999999999,593.9999999999999,600.0,606.0,612.0000000000001,618.0,624.0,630.0,636.0,642.0,648.0,654.0,660.0,666.0,672.0,677.9999999999999,684.0,690.0,696.0,702.0000000000001,707.9999999999999,713.9999999999999,720.0,726.0,732.0000000000001,738.0,744.0,750.0,756.0,762.0,768.0,774.0,780.0,786.0000000000001,792.0,797.9999999999999,804.0,810.0,816.0,822.0000000000001,827.9999999999999,834.0,840.0,846.0,852.0000000000001,858.0,864.0,870.0,876.0,882.0,888.0,894.0,900.0,906.0000000000001,912.0,917.9999999999999,924.0,930.0,936.0,942.0000000000002,948.0,954.0,960.0,966.0000000000001,972.0,977.9999999999998,984.0000000000001,990.0,996.0000000000001,1002.0,1008.0,1014.0000000000001,1020.0,1026.0,1032.0,1038.0,1044.0,1050.0,1056.0,1062.0,1068.0,1074.0,1080.0,1086.0,1092.0,1098.0,1104.0,1110.0,1116.0,1122.0000000000002,1128.0,1134.0,1140.0,1145.9999999999998,1152.0000000000002,1158.0,1164.0000000000002,1170.0,1175.9999999999998,1182.0,1188.0,1194.0000000000002],\"xaxis\":\"x\",\"y\":[0.07378963965733366,0.07496616710224638,0.07615633701130285,0.07736025142889259,0.07857801231780918,0.0798097215590747,0.08105548092443483,0.08231539208273089,0.08358955654290816,0.08487807567754138,0.08618105069490084,0.08749858260971392,0.08883077223793459,0.09017772019895105,0.09153952686054735,0.09291629236642843,0.09430811658685448,0.0957150991276798,0.09713733930689634,0.09857493613035406,0.10002798830251,0.10149659418127732,0.10298085178182004,0.10448085878210611,0.10599671246928749,0.10752850973662977,0.10907634711296477,0.1106403206924593,0.11222052614014391,0.11381705871569915,0.11543001320061741,0.11705948394683248,0.11870556481084597,0.12036834918756599,0.12204792996887974,0.12374439954445318,0.12545784981282626,0.12718837212081235,0.12893605729213875,0.13070099563123141,0.1324832768513776,0.1342829901439376,0.13610022411609254,0.13793506679431958,0.1397876056392854,0.14165792749073852,0.143546118623534,0.14545226468212644,0.14737645070697256,0.14931876112043022,0.15127927972325123,0.15325808966914678,0.1552552734946327,0.15727091308310578,0.15930508968479687,0.16135788386822067,0.1634293755877983,0.16551964411222567,0.16762876803344712,0.16975682532665617,0.17190389323926245,0.17407004837556145,0.17625536667234273,0.17845992337292413,0.180683793026057,0.18292704953887443,0.1851897661119054,0.18747201523817386,0.18977386875838617,0.1920953978217938,0.19443667288714658,0.19679776369500665,0.19917873935548877,0.20157966823503656,0.20400061804514258,0.20644165580105,0.2089028478390326,0.2113842597883171,0.21388595660413012,0.21640800257135057,0.21895046129228596,0.22151339565720285,0.2240968679120841,0.22670093963082857,0.22932567166839354,0.23197112424779348,0.23463735693185428,0.2373244285927943,0.2400323974150998,0.24276132098846626,0.24551125620714834,0.2482822593091831,0.25107438586247777,0.2538876908439284,0.2567222285525078,0.2595780526316321,0.2624552161319317,0.26535377142054467,0.2682737703031063,0.2712152638718328,0.274178302709734,0.27716293667587,0.28016921509239073,0.28319718664916876,0.28624689942945036,0.28931840095854217,0.2924117381030715,0.2955269571833367,0.2986641039371604,0.30182322352598023,0.3050043605410442,0.30820755896375457,0.3114328622857203,0.31468031337810765,0.3179499545656646,0.32124182768132,0.3245559739543116,0.32789243411115443,0.33125124833433417,0.334632456268007,0.3380360970490138,0.3414622093140006,0.3449108311550337,0.3483820001763213,0.35187575350152356,0.35539212772794476,0.3589311589312703,0.3624928828331494,0.36607733451266045,0.36968454865349004,0.3733145595263402,0.37696740082852404,0.3806431058558711,0.384341707483072,0.3880632380550904,0.39180772953623316,0.3955752134304243,0.3993657208461685,0.4031792823834561,0.40701592831922384,0.41087568843318806,0.4147585921345689,0.4186646684387015,0.4225939459101281,0.4265464527623678,0.4305222167689656,0.4345212653977671,0.43854362562276306,0.4425893241576248,0.44665838723180695,0.4507508407945111,0.45486671038757553,0.4590060212527029,0.46316879816539375,0.4673550656464646,0.4715648478299021,0.47579816857392354,0.4800550512884774,0.4843355191544899,0.4886395949865629,0.4929673012364389,0.49731866014646436,0.5016936935326572,0.5060924229374908,0.5105148696751954,0.5149610546070612,0.5194309984533618,0.5239247215284069,0.528442243939961,0.5329835854367576,0.5375487655318887,0.5421378034686476,0.5467507181429395,0.5513875283131446,0.556048252358295,0.5607329084897098,0.5654415145030584,0.5701740881211189,0.574930646745115,0.5797112074560612,0.5845157871929991,0.5893444026724688,0.594197070258564,0.5990738061437224,0.6039746262640899,0.6088995464409437,0.6138485821569623,0.6188217486492272,0.6238190610540459,0.6288405342251215,0.6338861827826693,0.6389560212132784,0.6440500636814616,0.6491683243240532,0.6543108168640466,0.6594775550558156,0.6646685522441609,0.6698838217658434,0.6751233766531135],\"yaxis\":\"y\",\"type\":\"scatter\"},{\"hovertemplate\":\"Speed=1800<br>Flow [l/min]=%{x}<br>Head loss friction=%{y}<extra></extra>\",\"legendgroup\":\"1800\",\"line\":{\"color\":\"#EF553B\",\"dash\":\"solid\"},\"marker\":{\"symbol\":\"circle\"},\"mode\":\"lines\",\"name\":\"1800\",\"orientation\":\"v\",\"showlegend\":true,\"x\":[6.0,12.0,18.000000000000004,24.0,30.0,36.00000000000001,42.00000000000001,48.0,54.00000000000001,60.0,66.0,72.00000000000001,78.00000000000001,84.00000000000001,90.0,96.0,102.00000000000001,108.00000000000001,114.00000000000001,120.0,126.0,132.0,138.0,144.0,150.0,156.0,162.0,168.0,174.0,180.0,186.0,192.0,198.0,204.0,210.0,216.0,222.0,228.0,234.0,240.0,246.00000000000003,252.0,258.00000000000006,264.0,270.00000000000006,276.00000000000006,282.0,288.00000000000006,294.0,300.0,306.00000000000006,312.00000000000006,318.00000000000006,324.0,330.00000000000006,336.00000000000006,342.0,348.00000000000006,354.0,360.0,366.00000000000006,372.00000000000006,378.00000000000006,384.0,390.00000000000006,396.00000000000006,402.0,408.00000000000006,414.0,420.00000000000006,426.00000000000006,432.00000000000006,438.00000000000006,444.0,450.00000000000006,456.00000000000006,462.0,468.00000000000006,474.0,480.0,486.0,491.99999999999994,498.00000000000006,504.0,510.0,516.0,522.0,528.0,534.0,540.0,546.0,552.0,557.9999999999999,564.0,570.0,576.0,582.0000000000001,587.9999999999999,593.9999999999999,600.0,606.0,612.0000000000001,618.0,624.0,630.0,636.0,642.0,648.0,654.0,660.0,666.0,672.0,677.9999999999999,684.0,690.0,696.0,702.0000000000001,707.9999999999999,713.9999999999999,720.0,726.0,732.0000000000001,738.0,744.0,750.0,756.0,762.0,768.0,774.0,780.0,786.0000000000001,792.0,797.9999999999999,804.0,810.0,816.0,822.0000000000001,827.9999999999999,834.0,840.0,846.0,852.0000000000001,858.0,864.0,870.0,876.0,882.0,888.0,894.0,900.0,906.0000000000001,912.0,917.9999999999999,924.0,930.0,936.0,942.0000000000002,948.0,954.0,960.0,966.0000000000001,972.0,977.9999999999998,984.0000000000001,990.0,996.0000000000001,1002.0,1008.0,1014.0000000000001,1020.0,1026.0,1032.0,1038.0,1044.0,1050.0,1056.0,1062.0,1068.0,1074.0,1080.0,1086.0,1092.0,1098.0,1104.0,1110.0,1116.0,1122.0000000000002,1128.0,1134.0,1140.0,1145.9999999999998,1152.0000000000002,1158.0,1164.0000000000002,1170.0,1175.9999999999998,1182.0,1188.0,1194.0000000000002],\"xaxis\":\"x\",\"y\":[0.15996606337185573,0.16168571845066107,0.16341884010851948,0.1651654964800594,0.1669257556842463,0.16869968583357978,0.17048735498175388,0.17228883114385438,0.17410418233099226,0.1759334764843204,0.17777678148319048,0.1796341651805416,0.18150569534766145,0.18339143970985372,0.18529146588949502,0.1872058414969617,0.18913463400536867,0.19107791082816472,0.1930357392885262,0.1950081866300822,0.19699531999962455,0.19899720641434512,0.20101391281610392,0.20304550603971627,0.2050920527794832,0.2071536196149829,0.20923027305422406,0.21132207940832778,0.21342910487905978,0.21555141557264593,0.21768907740219204,0.21984215617910688,0.2220107175137239,0.22419482692537987,0.2263945497587846,0.22860995114617289,0.23084109613816434,0.23308804956702092,0.2353508761107498,0.23762964025588107,0.2399244063292923,0.24223523844252307,0.2445622005779171,0.24690535647894643,0.2492647697004572,0.25164050360624785,0.254032621385571,0.2564411859947441,0.2588662601723635,0.26130790645568897,0.2637661872178078,0.26624116450947044,0.26873290027115204,0.27124145615471984,0.27376689357900336,0.2763092737888789,0.27886865775208297,0.2814451062177016,0.28403867967262414,0.28664943840234225,0.28927744242625225,0.29192275151636204,0.2945854251734129,0.29726552271255335,0.299963103130562,0.30267822521383453,0.30541094744779396,0.30816132808219315,0.31092942510752936,0.3137152962536844,0.3165189989414197,0.3193405903743483,0.3221801274678306,0.3250376668225962,0.3279132648440267,0.33080697759633926,0.3337188608982053,0.33664897027284263,0.33959736094626664,0.34256408789682896,0.34554920580420917,0.3485527690478905,0.35157483173200116,0.3546154476850848,0.3576746704064202,0.36075255311761256,0.3638491488170794,0.36696451006267367,0.3700986892973354,0.3732517384930164,0.37642370945281534,0.3796146536170627,0.3828246221462213,0.386053665892478,0.3893018354575139,0.3925691810472145,0.39585575264561423,0.39916159989843636,0.4024867721718867,0.40583131849270543,0.4091952876388225,0.41257872801783596,0.41598168782053857,0.41940421480423096,0.4228463565734438,0.42630816029825935,0.4297896729352931,0.43329094103643095,0.43681201100783157,0.44035292875267984,0.44391374006413,0.4474944902298932,0.45109522443183175,0.45471598741253166,0.4583568236428699,0.46201777732404675,0.46569889228447736,0.4694002121191337,0.4731217801219027,0.47686363917865177,0.48062583201735315,0.48440840095923327,0.4882113880258277,0.4920348350513168,0.4958787834262665,0.4997432743567153,0.5036283486418576,0.5075340468622604,0.5114604092683498,0.5154074758191205,0.5193752862227071,0.5233638797812596,0.5273732955869009,0.5314035724861575,0.5354547488808135,0.5395268630085658,0.5436199527850173,0.5477340558037496,0.55186920941985,0.5560254506691502,0.5602028162683849,0.5644013427007261,0.5686210661762175,0.5728620225469713,0.5771242474804418,0.5814077762886631,0.58571264401556,0.5900388854389342,0.5943865350724811,0.5987556271225132,0.6031461955797011,0.6075582740388276,0.6119918959739532,0.6164470945122135,0.6209239024325861,0.6254223524016164,0.6299424767421575,0.634484307480262,0.6390478764426191,0.6436332151142363,0.6482403547847205,0.6528693264533948,0.6575201609296618,0.6621928886362809,0.6668875398087911,0.6716041444488161,0.6763427323265508,0.6811033328281799,0.6858859752652938,0.6906906885683339,0.6955175014420352,0.70036644247438,0.7052375397679976,0.71013082141887,0.71504631520058,0.7199840485084776,0.7249440487422473,0.7299263428724572,0.7349309577707496,0.7399579199351662,0.7450072557702723,0.7500789913656654,0.7551731526096878,0.7602897651343753,0.7654288543744981,0.7705904455703664,0.7757745637116309,0.7809812334786868,0.7862104794808217,0.7914623260221527,0.7967367972217417,0.8020339169554156,0.8073537089180816,0.8126961965647477,0.8180614031736756,0.8234493517238622,0.8288600652095047,0.8342935661407538,0.8397498769840389],\"yaxis\":\"y\",\"type\":\"scatter\"}],                        {\"template\":{\"data\":{\"histogram2dcontour\":[{\"type\":\"histogram2dcontour\",\"colorbar\":{\"outlinewidth\":0,\"ticks\":\"\"},\"colorscale\":[[0.0,\"#0d0887\"],[0.1111111111111111,\"#46039f\"],[0.2222222222222222,\"#7201a8\"],[0.3333333333333333,\"#9c179e\"],[0.4444444444444444,\"#bd3786\"],[0.5555555555555556,\"#d8576b\"],[0.6666666666666666,\"#ed7953\"],[0.7777777777777778,\"#fb9f3a\"],[0.8888888888888888,\"#fdca26\"],[1.0,\"#f0f921\"]]}],\"choropleth\":[{\"type\":\"choropleth\",\"colorbar\":{\"outlinewidth\":0,\"ticks\":\"\"}}],\"histogram2d\":[{\"type\":\"histogram2d\",\"colorbar\":{\"outlinewidth\":0,\"ticks\":\"\"},\"colorscale\":[[0.0,\"#0d0887\"],[0.1111111111111111,\"#46039f\"],[0.2222222222222222,\"#7201a8\"],[0.3333333333333333,\"#9c179e\"],[0.4444444444444444,\"#bd3786\"],[0.5555555555555556,\"#d8576b\"],[0.6666666666666666,\"#ed7953\"],[0.7777777777777778,\"#fb9f3a\"],[0.8888888888888888,\"#fdca26\"],[1.0,\"#f0f921\"]]}],\"heatmap\":[{\"type\":\"heatmap\",\"colorbar\":{\"outlinewidth\":0,\"ticks\":\"\"},\"colorscale\":[[0.0,\"#0d0887\"],[0.1111111111111111,\"#46039f\"],[0.2222222222222222,\"#7201a8\"],[0.3333333333333333,\"#9c179e\"],[0.4444444444444444,\"#bd3786\"],[0.5555555555555556,\"#d8576b\"],[0.6666666666666666,\"#ed7953\"],[0.7777777777777778,\"#fb9f3a\"],[0.8888888888888888,\"#fdca26\"],[1.0,\"#f0f921\"]]}],\"heatmapgl\":[{\"type\":\"heatmapgl\",\"colorbar\":{\"outlinewidth\":0,\"ticks\":\"\"},\"colorscale\":[[0.0,\"#0d0887\"],[0.1111111111111111,\"#46039f\"],[0.2222222222222222,\"#7201a8\"],[0.3333333333333333,\"#9c179e\"],[0.4444444444444444,\"#bd3786\"],[0.5555555555555556,\"#d8576b\"],[0.6666666666666666,\"#ed7953\"],[0.7777777777777778,\"#fb9f3a\"],[0.8888888888888888,\"#fdca26\"],[1.0,\"#f0f921\"]]}],\"contourcarpet\":[{\"type\":\"contourcarpet\",\"colorbar\":{\"outlinewidth\":0,\"ticks\":\"\"}}],\"contour\":[{\"type\":\"contour\",\"colorbar\":{\"outlinewidth\":0,\"ticks\":\"\"},\"colorscale\":[[0.0,\"#0d0887\"],[0.1111111111111111,\"#46039f\"],[0.2222222222222222,\"#7201a8\"],[0.3333333333333333,\"#9c179e\"],[0.4444444444444444,\"#bd3786\"],[0.5555555555555556,\"#d8576b\"],[0.6666666666666666,\"#ed7953\"],[0.7777777777777778,\"#fb9f3a\"],[0.8888888888888888,\"#fdca26\"],[1.0,\"#f0f921\"]]}],\"surface\":[{\"type\":\"surface\",\"colorbar\":{\"outlinewidth\":0,\"ticks\":\"\"},\"colorscale\":[[0.0,\"#0d0887\"],[0.1111111111111111,\"#46039f\"],[0.2222222222222222,\"#7201a8\"],[0.3333333333333333,\"#9c179e\"],[0.4444444444444444,\"#bd3786\"],[0.5555555555555556,\"#d8576b\"],[0.6666666666666666,\"#ed7953\"],[0.7777777777777778,\"#fb9f3a\"],[0.8888888888888888,\"#fdca26\"],[1.0,\"#f0f921\"]]}],\"mesh3d\":[{\"type\":\"mesh3d\",\"colorbar\":{\"outlinewidth\":0,\"ticks\":\"\"}}],\"scatter\":[{\"marker\":{\"line\":{\"color\":\"#283442\"}},\"type\":\"scatter\"}],\"parcoords\":[{\"type\":\"parcoords\",\"line\":{\"colorbar\":{\"outlinewidth\":0,\"ticks\":\"\"}}}],\"scatterpolargl\":[{\"type\":\"scatterpolargl\",\"marker\":{\"colorbar\":{\"outlinewidth\":0,\"ticks\":\"\"}}}],\"bar\":[{\"error_x\":{\"color\":\"#f2f5fa\"},\"error_y\":{\"color\":\"#f2f5fa\"},\"marker\":{\"line\":{\"color\":\"rgb(17,17,17)\",\"width\":0.5},\"pattern\":{\"fillmode\":\"overlay\",\"size\":10,\"solidity\":0.2}},\"type\":\"bar\"}],\"scattergeo\":[{\"type\":\"scattergeo\",\"marker\":{\"colorbar\":{\"outlinewidth\":0,\"ticks\":\"\"}}}],\"scatterpolar\":[{\"type\":\"scatterpolar\",\"marker\":{\"colorbar\":{\"outlinewidth\":0,\"ticks\":\"\"}}}],\"histogram\":[{\"marker\":{\"pattern\":{\"fillmode\":\"overlay\",\"size\":10,\"solidity\":0.2}},\"type\":\"histogram\"}],\"scattergl\":[{\"marker\":{\"line\":{\"color\":\"#283442\"}},\"type\":\"scattergl\"}],\"scatter3d\":[{\"type\":\"scatter3d\",\"line\":{\"colorbar\":{\"outlinewidth\":0,\"ticks\":\"\"}},\"marker\":{\"colorbar\":{\"outlinewidth\":0,\"ticks\":\"\"}}}],\"scattermapbox\":[{\"type\":\"scattermapbox\",\"marker\":{\"colorbar\":{\"outlinewidth\":0,\"ticks\":\"\"}}}],\"scatterternary\":[{\"type\":\"scatterternary\",\"marker\":{\"colorbar\":{\"outlinewidth\":0,\"ticks\":\"\"}}}],\"scattercarpet\":[{\"type\":\"scattercarpet\",\"marker\":{\"colorbar\":{\"outlinewidth\":0,\"ticks\":\"\"}}}],\"carpet\":[{\"aaxis\":{\"endlinecolor\":\"#A2B1C6\",\"gridcolor\":\"#506784\",\"linecolor\":\"#506784\",\"minorgridcolor\":\"#506784\",\"startlinecolor\":\"#A2B1C6\"},\"baxis\":{\"endlinecolor\":\"#A2B1C6\",\"gridcolor\":\"#506784\",\"linecolor\":\"#506784\",\"minorgridcolor\":\"#506784\",\"startlinecolor\":\"#A2B1C6\"},\"type\":\"carpet\"}],\"table\":[{\"cells\":{\"fill\":{\"color\":\"#506784\"},\"line\":{\"color\":\"rgb(17,17,17)\"}},\"header\":{\"fill\":{\"color\":\"#2a3f5f\"},\"line\":{\"color\":\"rgb(17,17,17)\"}},\"type\":\"table\"}],\"barpolar\":[{\"marker\":{\"line\":{\"color\":\"rgb(17,17,17)\",\"width\":0.5},\"pattern\":{\"fillmode\":\"overlay\",\"size\":10,\"solidity\":0.2}},\"type\":\"barpolar\"}],\"pie\":[{\"automargin\":true,\"type\":\"pie\"}]},\"layout\":{\"autotypenumbers\":\"strict\",\"colorway\":[\"#636efa\",\"#EF553B\",\"#00cc96\",\"#ab63fa\",\"#FFA15A\",\"#19d3f3\",\"#FF6692\",\"#B6E880\",\"#FF97FF\",\"#FECB52\"],\"font\":{\"color\":\"#f2f5fa\"},\"hovermode\":\"closest\",\"hoverlabel\":{\"align\":\"left\"},\"paper_bgcolor\":\"rgb(17,17,17)\",\"plot_bgcolor\":\"rgb(17,17,17)\",\"polar\":{\"bgcolor\":\"rgb(17,17,17)\",\"angularaxis\":{\"gridcolor\":\"#506784\",\"linecolor\":\"#506784\",\"ticks\":\"\"},\"radialaxis\":{\"gridcolor\":\"#506784\",\"linecolor\":\"#506784\",\"ticks\":\"\"}},\"ternary\":{\"bgcolor\":\"rgb(17,17,17)\",\"aaxis\":{\"gridcolor\":\"#506784\",\"linecolor\":\"#506784\",\"ticks\":\"\"},\"baxis\":{\"gridcolor\":\"#506784\",\"linecolor\":\"#506784\",\"ticks\":\"\"},\"caxis\":{\"gridcolor\":\"#506784\",\"linecolor\":\"#506784\",\"ticks\":\"\"}},\"coloraxis\":{\"colorbar\":{\"outlinewidth\":0,\"ticks\":\"\"}},\"colorscale\":{\"sequential\":[[0.0,\"#0d0887\"],[0.1111111111111111,\"#46039f\"],[0.2222222222222222,\"#7201a8\"],[0.3333333333333333,\"#9c179e\"],[0.4444444444444444,\"#bd3786\"],[0.5555555555555556,\"#d8576b\"],[0.6666666666666666,\"#ed7953\"],[0.7777777777777778,\"#fb9f3a\"],[0.8888888888888888,\"#fdca26\"],[1.0,\"#f0f921\"]],\"sequentialminus\":[[0.0,\"#0d0887\"],[0.1111111111111111,\"#46039f\"],[0.2222222222222222,\"#7201a8\"],[0.3333333333333333,\"#9c179e\"],[0.4444444444444444,\"#bd3786\"],[0.5555555555555556,\"#d8576b\"],[0.6666666666666666,\"#ed7953\"],[0.7777777777777778,\"#fb9f3a\"],[0.8888888888888888,\"#fdca26\"],[1.0,\"#f0f921\"]],\"diverging\":[[0,\"#8e0152\"],[0.1,\"#c51b7d\"],[0.2,\"#de77ae\"],[0.3,\"#f1b6da\"],[0.4,\"#fde0ef\"],[0.5,\"#f7f7f7\"],[0.6,\"#e6f5d0\"],[0.7,\"#b8e186\"],[0.8,\"#7fbc41\"],[0.9,\"#4d9221\"],[1,\"#276419\"]]},\"xaxis\":{\"gridcolor\":\"#283442\",\"linecolor\":\"#506784\",\"ticks\":\"\",\"title\":{\"standoff\":15},\"zerolinecolor\":\"#283442\",\"automargin\":true,\"zerolinewidth\":2},\"yaxis\":{\"gridcolor\":\"#283442\",\"linecolor\":\"#506784\",\"ticks\":\"\",\"title\":{\"standoff\":15},\"zerolinecolor\":\"#283442\",\"automargin\":true,\"zerolinewidth\":2},\"scene\":{\"xaxis\":{\"backgroundcolor\":\"rgb(17,17,17)\",\"gridcolor\":\"#506784\",\"linecolor\":\"#506784\",\"showbackground\":true,\"ticks\":\"\",\"zerolinecolor\":\"#C8D4E3\",\"gridwidth\":2},\"yaxis\":{\"backgroundcolor\":\"rgb(17,17,17)\",\"gridcolor\":\"#506784\",\"linecolor\":\"#506784\",\"showbackground\":true,\"ticks\":\"\",\"zerolinecolor\":\"#C8D4E3\",\"gridwidth\":2},\"zaxis\":{\"backgroundcolor\":\"rgb(17,17,17)\",\"gridcolor\":\"#506784\",\"linecolor\":\"#506784\",\"showbackground\":true,\"ticks\":\"\",\"zerolinecolor\":\"#C8D4E3\",\"gridwidth\":2}},\"shapedefaults\":{\"line\":{\"color\":\"#f2f5fa\"}},\"annotationdefaults\":{\"arrowcolor\":\"#f2f5fa\",\"arrowhead\":0,\"arrowwidth\":1},\"geo\":{\"bgcolor\":\"rgb(17,17,17)\",\"landcolor\":\"rgb(17,17,17)\",\"subunitcolor\":\"#506784\",\"showland\":true,\"showlakes\":true,\"lakecolor\":\"rgb(17,17,17)\"},\"title\":{\"x\":0.05},\"updatemenudefaults\":{\"bgcolor\":\"#506784\",\"borderwidth\":0},\"sliderdefaults\":{\"bgcolor\":\"#C8D4E3\",\"borderwidth\":1,\"bordercolor\":\"rgb(17,17,17)\",\"tickwidth\":0},\"mapbox\":{\"style\":\"dark\"}}},\"xaxis\":{\"anchor\":\"y\",\"domain\":[0.0,1.0],\"title\":{\"text\":\"Flow [l/min]\"}},\"yaxis\":{\"anchor\":\"x\",\"domain\":[0.0,1.0],\"title\":{\"text\":\"Head loss friction\"}},\"legend\":{\"title\":{\"text\":\"Speed\"},\"tracegroupgap\":0},\"title\":{\"text\":\"Friction loss\"}},                        {\"responsive\": true}                    ).then(function(){\n                            \nvar gd = document.getElementById('d0975928-6b2c-4f0d-bb4e-b623729647e6');\nvar x = new MutationObserver(function (mutations, observer) {{\n        var display = window.getComputedStyle(gd).display;\n        if (!display || display === 'none') {{\n            console.log([gd, 'removed!']);\n            Plotly.purge(gd);\n            observer.disconnect();\n        }}\n}});\n\n// Listen for the removal of the full notebook cells\nvar notebookContainer = gd.closest('#notebook-container');\nif (notebookContainer) {{\n    x.observe(notebookContainer, {childList: true});\n}}\n\n// Listen for the clearing of the current output cell\nvar outputEl = gd.closest('.output');\nif (outputEl) {{\n    x.observe(outputEl, {childList: true});\n}}\n\n                        })                };                });            </script>        </div>"
     },
     "metadata": {},
     "output_type": "display_data"
    },
    {
     "data": {
      "application/vnd.plotly.v1+json": {
       "data": [
        {
         "hovertemplate": "Speed=1200<br>Flow [l/min]=%{x}<br>Head loss volute friction=%{y}<extra></extra>",
         "legendgroup": "1200",
         "line": {
          "color": "#636efa",
          "dash": "solid"
         },
         "marker": {
          "symbol": "circle"
         },
         "mode": "lines",
         "name": "1200",
         "orientation": "v",
         "showlegend": true,
         "x": [
          6.0,
          12.0,
          18.000000000000004,
          24.0,
          30.0,
          36.00000000000001,
          42.00000000000001,
          48.0,
          54.00000000000001,
          60.0,
          66.0,
          72.00000000000001,
          78.00000000000001,
          84.00000000000001,
          90.0,
          96.0,
          102.00000000000001,
          108.00000000000001,
          114.00000000000001,
          120.0,
          126.0,
          132.0,
          138.0,
          144.0,
          150.0,
          156.0,
          162.0,
          168.0,
          174.0,
          180.0,
          186.0,
          192.0,
          198.0,
          204.0,
          210.0,
          216.0,
          222.0,
          228.0,
          234.0,
          240.0,
          246.00000000000003,
          252.0,
          258.00000000000006,
          264.0,
          270.00000000000006,
          276.00000000000006,
          282.0,
          288.00000000000006,
          294.0,
          300.0,
          306.00000000000006,
          312.00000000000006,
          318.00000000000006,
          324.0,
          330.00000000000006,
          336.00000000000006,
          342.0,
          348.00000000000006,
          354.0,
          360.0,
          366.00000000000006,
          372.00000000000006,
          378.00000000000006,
          384.0,
          390.00000000000006,
          396.00000000000006,
          402.0,
          408.00000000000006,
          414.0,
          420.00000000000006,
          426.00000000000006,
          432.00000000000006,
          438.00000000000006,
          444.0,
          450.00000000000006,
          456.00000000000006,
          462.0,
          468.00000000000006,
          474.0,
          480.0,
          486.0,
          491.99999999999994,
          498.00000000000006,
          504.0,
          510.0,
          516.0,
          522.0,
          528.0,
          534.0,
          540.0,
          546.0,
          552.0,
          557.9999999999999,
          564.0,
          570.0,
          576.0,
          582.0000000000001,
          587.9999999999999,
          593.9999999999999,
          600.0,
          606.0,
          612.0000000000001,
          618.0,
          624.0,
          630.0,
          636.0,
          642.0,
          648.0,
          654.0,
          660.0,
          666.0,
          672.0,
          677.9999999999999,
          684.0,
          690.0,
          696.0,
          702.0000000000001,
          707.9999999999999,
          713.9999999999999,
          720.0,
          726.0,
          732.0000000000001,
          738.0,
          744.0,
          750.0,
          756.0,
          762.0,
          768.0,
          774.0,
          780.0,
          786.0000000000001,
          792.0,
          797.9999999999999,
          804.0,
          810.0,
          816.0,
          822.0000000000001,
          827.9999999999999,
          834.0,
          840.0,
          846.0,
          852.0000000000001,
          858.0,
          864.0,
          870.0,
          876.0,
          882.0,
          888.0,
          894.0,
          900.0,
          906.0000000000001,
          912.0,
          917.9999999999999,
          924.0,
          930.0,
          936.0,
          942.0000000000002,
          948.0,
          954.0,
          960.0,
          966.0000000000001,
          972.0,
          977.9999999999998,
          984.0000000000001,
          990.0,
          996.0000000000001,
          1002.0,
          1008.0,
          1014.0000000000001,
          1020.0,
          1026.0,
          1032.0,
          1038.0,
          1044.0,
          1050.0,
          1056.0,
          1062.0,
          1068.0,
          1074.0,
          1080.0,
          1086.0,
          1092.0,
          1098.0,
          1104.0,
          1110.0,
          1116.0,
          1122.0000000000002,
          1128.0,
          1134.0,
          1140.0,
          1145.9999999999998,
          1152.0000000000002,
          1158.0,
          1164.0000000000002,
          1170.0,
          1175.9999999999998,
          1182.0,
          1188.0,
          1194.0000000000002
         ],
         "xaxis": "x",
         "y": [
          1.1511331877539774E-6,
          3.9719714601843504E-6,
          8.26980720792196E-6,
          1.3974543564332151E-5,
          2.1047541274755723E-5,
          2.9464291628897654E-5,
          3.920798060839975E-5,
          5.0266464797159084E-5,
          6.263064516702431E-5,
          7.629351069007992E-5,
          9.124953857488644E-5,
          1.0749429924291027E-4,
          1.250241861872101E-4,
          1.4383622522121526E-4,
          1.6392793638200998E-4,
          1.8529723172423972E-4,
          2.0794233827603806E-4,
          2.3186173909809624E-4,
          2.570541272649203E-4,
          2.8351836981856083E-4,
          3.1125347914058425E-4,
          3.402585897859614E-4,
          3.705329396510419E-4,
          4.0207585492873165E-4,
          4.3488673731868863E-4,
          4.689650534533393E-4,
          5.043103262710919E-4,
          5.409221276835661E-4,
          5.788000724453314E-4,
          6.179438126529159E-4,
          6.583530331577767E-4,
          7.0002744829411E-4,
          7.429667979816321E-4,
          7.871708450313769E-4,
          8.326393724768179E-4,
          8.793721818943929E-4,
          9.273690908810199E-4,
          9.766299322250898E-4,
          0.0010271545513373254,
          0.001078942805685902,
          0.0011319945640008591,
          0.0011863097040827,
          0.00124188811332499,
          0.0012987296863317041,
          0.00135683432606498,
          0.0014162019413457693,
          0.0014768324475872142,
          0.00153872576599495,
          0.0016018818225136892,
          0.001666300547942896,
          0.0017319818773649696,
          0.0017989257508080566,
          0.0018671321107961883,
          0.0019366009037282497,
          0.002007332079091396,
          0.002079325590164349,
          0.002152581391416259,
          0.0022270994414672085,
          0.0023028796998292612,
          0.0023799221298677494,
          0.002458226694895178,
          0.002537793362139008,
          0.0026186220992939027,
          0.002700712876186539,
          0.0027840656647544148,
          0.0028686804370111076,
          0.0029545571675796997,
          0.0030416958323865474,
          0.003130096406999925,
          0.003219758870314919,
          0.003310683200512777,
          0.0034028693777093466,
          0.003496317383117203,
          0.0035910271975468813,
          0.0036869988042486424,
          0.003784232185850661,
          0.003882727327225601,
          0.003982484212182426,
          0.004083502827275842,
          0.004185783157652914,
          0.004289325190348404,
          0.004394128913472585,
          0.004500194312314806,
          0.004607521377296787,
          0.004716110097068755,
          0.004825960458875345,
          0.004937072454608897,
          0.005049446073572175,
          0.005163081305189,
          0.00527797814192315,
          0.0053941365738907066,
          0.005511556592342392,
          0.005630238190131033,
          0.005750181357529134,
          0.005871386088945085,
          0.005993852376164808,
          0.006117580212661655,
          0.006242569590935777,
          0.006368820504427236,
          0.0064963329469858505,
          0.006625106913469351,
          0.006755142396292928,
          0.006886439391006943,
          0.007018997892722712,
          0.00715281789342242,
          0.007287899390430365,
          0.007424242378132199,
          0.007561846852129962,
          0.007700712807700763,
          0.007840840238002553,
          0.007982229143101276,
          0.008124879514131201,
          0.008268791351741137,
          0.008413964648094496,
          0.008560399400834449,
          0.008708095606033582,
          0.008857053260874817,
          0.009007272361198743,
          0.009158752904203444,
          0.009311494885826423,
          0.009465498303454051,
          0.00962076315312577,
          0.009777289432243876,
          0.009935077140540148,
          0.010094126271047343,
          0.010254436822594831,
          0.010416008792771565,
          0.010578842180681568,
          0.010742936981377042,
          0.010908293192763483,
          0.011074910812107383,
          0.011242789838895127,
          0.01141193026883312,
          0.01158233210341974,
          0.011753995334603624,
          0.011926919966053592,
          0.012101105992912831,
          0.012276553413958283,
          0.012453262224973321,
          0.012631232426620776,
          0.012810464017653662,
          0.012990956995277018,
          0.013172711358157235,
          0.013355727101676571,
          0.013540004228978816,
          0.013725542735531044,
          0.013912342620134096,
          0.014100403882774353,
          0.014289726519416153,
          0.014480310530811794,
          0.01467215591443594,
          0.014865262667620357,
          0.015059630793944043,
          0.015255260285726933,
          0.015452151148347413,
          0.015650303373304898,
          0.01584971696299838,
          0.016050391918941503,
          0.016252328235525592,
          0.016455525916334243,
          0.016659984955052394,
          0.016865705352007765,
          0.017072687108061632,
          0.017280930221471306,
          0.017490434688009596,
          0.01770120051525903,
          0.017913227691342074,
          0.01812651622390101,
          0.018341066108507168,
          0.018556877343036075,
          0.018773949928057636,
          0.01899228386343537,
          0.01921187914467118,
          0.01943273577844683,
          0.019654853755948023,
          0.019878233080050843,
          0.020102873750112864,
          0.020328775766050057,
          0.02055593912445631,
          0.020784363826946824,
          0.021014049872219366,
          0.0212449972603392,
          0.02147720598870096,
          0.02171067605641794,
          0.021945407464600993,
          0.022181400212198634,
          0.02241865429605165,
          0.022657169720036955,
          0.022896946481841044,
          0.023137984582067485,
          0.02338028401517674,
          0.0236238447835332,
          0.023868666893192825,
          0.024114750330054852,
          0.02436209510294296,
          0.024610701210388327,
          0.024860568650206628,
          0.025111697424641585,
          0.025364087525459177
         ],
         "yaxis": "y",
         "type": "scatter"
        },
        {
         "hovertemplate": "Speed=1800<br>Flow [l/min]=%{x}<br>Head loss volute friction=%{y}<extra></extra>",
         "legendgroup": "1800",
         "line": {
          "color": "#EF553B",
          "dash": "solid"
         },
         "marker": {
          "symbol": "circle"
         },
         "mode": "lines",
         "name": "1800",
         "orientation": "v",
         "showlegend": true,
         "x": [
          6.0,
          12.0,
          18.000000000000004,
          24.0,
          30.0,
          36.00000000000001,
          42.00000000000001,
          48.0,
          54.00000000000001,
          60.0,
          66.0,
          72.00000000000001,
          78.00000000000001,
          84.00000000000001,
          90.0,
          96.0,
          102.00000000000001,
          108.00000000000001,
          114.00000000000001,
          120.0,
          126.0,
          132.0,
          138.0,
          144.0,
          150.0,
          156.0,
          162.0,
          168.0,
          174.0,
          180.0,
          186.0,
          192.0,
          198.0,
          204.0,
          210.0,
          216.0,
          222.0,
          228.0,
          234.0,
          240.0,
          246.00000000000003,
          252.0,
          258.00000000000006,
          264.0,
          270.00000000000006,
          276.00000000000006,
          282.0,
          288.00000000000006,
          294.0,
          300.0,
          306.00000000000006,
          312.00000000000006,
          318.00000000000006,
          324.0,
          330.00000000000006,
          336.00000000000006,
          342.0,
          348.00000000000006,
          354.0,
          360.0,
          366.00000000000006,
          372.00000000000006,
          378.00000000000006,
          384.0,
          390.00000000000006,
          396.00000000000006,
          402.0,
          408.00000000000006,
          414.0,
          420.00000000000006,
          426.00000000000006,
          432.00000000000006,
          438.00000000000006,
          444.0,
          450.00000000000006,
          456.00000000000006,
          462.0,
          468.00000000000006,
          474.0,
          480.0,
          486.0,
          491.99999999999994,
          498.00000000000006,
          504.0,
          510.0,
          516.0,
          522.0,
          528.0,
          534.0,
          540.0,
          546.0,
          552.0,
          557.9999999999999,
          564.0,
          570.0,
          576.0,
          582.0000000000001,
          587.9999999999999,
          593.9999999999999,
          600.0,
          606.0,
          612.0000000000001,
          618.0,
          624.0,
          630.0,
          636.0,
          642.0,
          648.0,
          654.0,
          660.0,
          666.0,
          672.0,
          677.9999999999999,
          684.0,
          690.0,
          696.0,
          702.0000000000001,
          707.9999999999999,
          713.9999999999999,
          720.0,
          726.0,
          732.0000000000001,
          738.0,
          744.0,
          750.0,
          756.0,
          762.0,
          768.0,
          774.0,
          780.0,
          786.0000000000001,
          792.0,
          797.9999999999999,
          804.0,
          810.0,
          816.0,
          822.0000000000001,
          827.9999999999999,
          834.0,
          840.0,
          846.0,
          852.0000000000001,
          858.0,
          864.0,
          870.0,
          876.0,
          882.0,
          888.0,
          894.0,
          900.0,
          906.0000000000001,
          912.0,
          917.9999999999999,
          924.0,
          930.0,
          936.0,
          942.0000000000002,
          948.0,
          954.0,
          960.0,
          966.0000000000001,
          972.0,
          977.9999999999998,
          984.0000000000001,
          990.0,
          996.0000000000001,
          1002.0,
          1008.0,
          1014.0000000000001,
          1020.0,
          1026.0,
          1032.0,
          1038.0,
          1044.0,
          1050.0,
          1056.0,
          1062.0,
          1068.0,
          1074.0,
          1080.0,
          1086.0,
          1092.0,
          1098.0,
          1104.0,
          1110.0,
          1116.0,
          1122.0000000000002,
          1128.0,
          1134.0,
          1140.0,
          1145.9999999999998,
          1152.0000000000002,
          1158.0,
          1164.0000000000002,
          1170.0,
          1175.9999999999998,
          1182.0,
          1188.0,
          1194.0000000000002
         ],
         "xaxis": "x",
         "y": [
          1.1511331877539774E-6,
          3.9719714601843504E-6,
          8.26980720792196E-6,
          1.3974543564332151E-5,
          2.1047541274755723E-5,
          2.9464291628897654E-5,
          3.920798060839975E-5,
          5.0266464797159084E-5,
          6.263064516702431E-5,
          7.629351069007992E-5,
          9.124953857488644E-5,
          1.0749429924291027E-4,
          1.250241861872101E-4,
          1.4383622522121526E-4,
          1.6392793638200998E-4,
          1.8529723172423972E-4,
          2.0794233827603806E-4,
          2.3186173909809624E-4,
          2.570541272649203E-4,
          2.8351836981856083E-4,
          3.1125347914058425E-4,
          3.402585897859614E-4,
          3.705329396510419E-4,
          4.0207585492873165E-4,
          4.3488673731868863E-4,
          4.689650534533393E-4,
          5.043103262710919E-4,
          5.409221276835661E-4,
          5.788000724453314E-4,
          6.179438126529159E-4,
          6.583530331577767E-4,
          7.0002744829411E-4,
          7.429667979816321E-4,
          7.871708450313769E-4,
          8.326393724768179E-4,
          8.793721818943929E-4,
          9.273690908810199E-4,
          9.766299322250898E-4,
          0.0010271545513373254,
          0.001078942805685902,
          0.0011319945640008591,
          0.0011863097040827,
          0.00124188811332499,
          0.0012987296863317041,
          0.00135683432606498,
          0.0014162019413457693,
          0.0014768324475872142,
          0.00153872576599495,
          0.0016018818225136892,
          0.001666300547942896,
          0.0017319818773649696,
          0.0017989257508080566,
          0.0018671321107961883,
          0.0019366009037282497,
          0.002007332079091396,
          0.002079325590164349,
          0.002152581391416259,
          0.0022270994414672085,
          0.0023028796998292612,
          0.0023799221298677494,
          0.002458226694895178,
          0.002537793362139008,
          0.0026186220992939027,
          0.002700712876186539,
          0.0027840656647544148,
          0.0028686804370111076,
          0.0029545571675796997,
          0.0030416958323865474,
          0.003130096406999925,
          0.003219758870314919,
          0.003310683200512777,
          0.0034028693777093466,
          0.003496317383117203,
          0.0035910271975468813,
          0.0036869988042486424,
          0.003784232185850661,
          0.003882727327225601,
          0.003982484212182426,
          0.004083502827275842,
          0.004185783157652914,
          0.004289325190348404,
          0.004394128913472585,
          0.004500194312314806,
          0.004607521377296787,
          0.004716110097068755,
          0.004825960458875345,
          0.004937072454608897,
          0.005049446073572175,
          0.005163081305189,
          0.00527797814192315,
          0.0053941365738907066,
          0.005511556592342392,
          0.005630238190131033,
          0.005750181357529134,
          0.005871386088945085,
          0.005993852376164808,
          0.006117580212661655,
          0.006242569590935777,
          0.006368820504427236,
          0.0064963329469858505,
          0.006625106913469351,
          0.006755142396292928,
          0.006886439391006943,
          0.007018997892722712,
          0.00715281789342242,
          0.007287899390430365,
          0.007424242378132199,
          0.007561846852129962,
          0.007700712807700763,
          0.007840840238002553,
          0.007982229143101276,
          0.008124879514131201,
          0.008268791351741137,
          0.008413964648094496,
          0.008560399400834449,
          0.008708095606033582,
          0.008857053260874817,
          0.009007272361198743,
          0.009158752904203444,
          0.009311494885826423,
          0.009465498303454051,
          0.00962076315312577,
          0.009777289432243876,
          0.009935077140540148,
          0.010094126271047343,
          0.010254436822594831,
          0.010416008792771565,
          0.010578842180681568,
          0.010742936981377042,
          0.010908293192763483,
          0.011074910812107383,
          0.011242789838895127,
          0.01141193026883312,
          0.01158233210341974,
          0.011753995334603624,
          0.011926919966053592,
          0.012101105992912831,
          0.012276553413958283,
          0.012453262224973321,
          0.012631232426620776,
          0.012810464017653662,
          0.012990956995277018,
          0.013172711358157235,
          0.013355727101676571,
          0.013540004228978816,
          0.013725542735531044,
          0.013912342620134096,
          0.014100403882774353,
          0.014289726519416153,
          0.014480310530811794,
          0.01467215591443594,
          0.014865262667620357,
          0.015059630793944043,
          0.015255260285726933,
          0.015452151148347413,
          0.015650303373304898,
          0.01584971696299838,
          0.016050391918941503,
          0.016252328235525592,
          0.016455525916334243,
          0.016659984955052394,
          0.016865705352007765,
          0.017072687108061632,
          0.017280930221471306,
          0.017490434688009596,
          0.01770120051525903,
          0.017913227691342074,
          0.01812651622390101,
          0.018341066108507168,
          0.018556877343036075,
          0.018773949928057636,
          0.01899228386343537,
          0.01921187914467118,
          0.01943273577844683,
          0.019654853755948023,
          0.019878233080050843,
          0.020102873750112864,
          0.020328775766050057,
          0.02055593912445631,
          0.020784363826946824,
          0.021014049872219366,
          0.0212449972603392,
          0.02147720598870096,
          0.02171067605641794,
          0.021945407464600993,
          0.022181400212198634,
          0.02241865429605165,
          0.022657169720036955,
          0.022896946481841044,
          0.023137984582067485,
          0.02338028401517674,
          0.0236238447835332,
          0.023868666893192825,
          0.024114750330054852,
          0.02436209510294296,
          0.024610701210388327,
          0.024860568650206628,
          0.025111697424641585,
          0.025364087525459177
         ],
         "yaxis": "y",
         "type": "scatter"
        }
       ],
       "layout": {
        "template": {
         "data": {
          "histogram2dcontour": [
           {
            "type": "histogram2dcontour",
            "colorbar": {
             "outlinewidth": 0,
             "ticks": ""
            },
            "colorscale": [
             [
              0.0,
              "#0d0887"
             ],
             [
              0.1111111111111111,
              "#46039f"
             ],
             [
              0.2222222222222222,
              "#7201a8"
             ],
             [
              0.3333333333333333,
              "#9c179e"
             ],
             [
              0.4444444444444444,
              "#bd3786"
             ],
             [
              0.5555555555555556,
              "#d8576b"
             ],
             [
              0.6666666666666666,
              "#ed7953"
             ],
             [
              0.7777777777777778,
              "#fb9f3a"
             ],
             [
              0.8888888888888888,
              "#fdca26"
             ],
             [
              1.0,
              "#f0f921"
             ]
            ]
           }
          ],
          "choropleth": [
           {
            "type": "choropleth",
            "colorbar": {
             "outlinewidth": 0,
             "ticks": ""
            }
           }
          ],
          "histogram2d": [
           {
            "type": "histogram2d",
            "colorbar": {
             "outlinewidth": 0,
             "ticks": ""
            },
            "colorscale": [
             [
              0.0,
              "#0d0887"
             ],
             [
              0.1111111111111111,
              "#46039f"
             ],
             [
              0.2222222222222222,
              "#7201a8"
             ],
             [
              0.3333333333333333,
              "#9c179e"
             ],
             [
              0.4444444444444444,
              "#bd3786"
             ],
             [
              0.5555555555555556,
              "#d8576b"
             ],
             [
              0.6666666666666666,
              "#ed7953"
             ],
             [
              0.7777777777777778,
              "#fb9f3a"
             ],
             [
              0.8888888888888888,
              "#fdca26"
             ],
             [
              1.0,
              "#f0f921"
             ]
            ]
           }
          ],
          "heatmap": [
           {
            "type": "heatmap",
            "colorbar": {
             "outlinewidth": 0,
             "ticks": ""
            },
            "colorscale": [
             [
              0.0,
              "#0d0887"
             ],
             [
              0.1111111111111111,
              "#46039f"
             ],
             [
              0.2222222222222222,
              "#7201a8"
             ],
             [
              0.3333333333333333,
              "#9c179e"
             ],
             [
              0.4444444444444444,
              "#bd3786"
             ],
             [
              0.5555555555555556,
              "#d8576b"
             ],
             [
              0.6666666666666666,
              "#ed7953"
             ],
             [
              0.7777777777777778,
              "#fb9f3a"
             ],
             [
              0.8888888888888888,
              "#fdca26"
             ],
             [
              1.0,
              "#f0f921"
             ]
            ]
           }
          ],
          "heatmapgl": [
           {
            "type": "heatmapgl",
            "colorbar": {
             "outlinewidth": 0,
             "ticks": ""
            },
            "colorscale": [
             [
              0.0,
              "#0d0887"
             ],
             [
              0.1111111111111111,
              "#46039f"
             ],
             [
              0.2222222222222222,
              "#7201a8"
             ],
             [
              0.3333333333333333,
              "#9c179e"
             ],
             [
              0.4444444444444444,
              "#bd3786"
             ],
             [
              0.5555555555555556,
              "#d8576b"
             ],
             [
              0.6666666666666666,
              "#ed7953"
             ],
             [
              0.7777777777777778,
              "#fb9f3a"
             ],
             [
              0.8888888888888888,
              "#fdca26"
             ],
             [
              1.0,
              "#f0f921"
             ]
            ]
           }
          ],
          "contourcarpet": [
           {
            "type": "contourcarpet",
            "colorbar": {
             "outlinewidth": 0,
             "ticks": ""
            }
           }
          ],
          "contour": [
           {
            "type": "contour",
            "colorbar": {
             "outlinewidth": 0,
             "ticks": ""
            },
            "colorscale": [
             [
              0.0,
              "#0d0887"
             ],
             [
              0.1111111111111111,
              "#46039f"
             ],
             [
              0.2222222222222222,
              "#7201a8"
             ],
             [
              0.3333333333333333,
              "#9c179e"
             ],
             [
              0.4444444444444444,
              "#bd3786"
             ],
             [
              0.5555555555555556,
              "#d8576b"
             ],
             [
              0.6666666666666666,
              "#ed7953"
             ],
             [
              0.7777777777777778,
              "#fb9f3a"
             ],
             [
              0.8888888888888888,
              "#fdca26"
             ],
             [
              1.0,
              "#f0f921"
             ]
            ]
           }
          ],
          "surface": [
           {
            "type": "surface",
            "colorbar": {
             "outlinewidth": 0,
             "ticks": ""
            },
            "colorscale": [
             [
              0.0,
              "#0d0887"
             ],
             [
              0.1111111111111111,
              "#46039f"
             ],
             [
              0.2222222222222222,
              "#7201a8"
             ],
             [
              0.3333333333333333,
              "#9c179e"
             ],
             [
              0.4444444444444444,
              "#bd3786"
             ],
             [
              0.5555555555555556,
              "#d8576b"
             ],
             [
              0.6666666666666666,
              "#ed7953"
             ],
             [
              0.7777777777777778,
              "#fb9f3a"
             ],
             [
              0.8888888888888888,
              "#fdca26"
             ],
             [
              1.0,
              "#f0f921"
             ]
            ]
           }
          ],
          "mesh3d": [
           {
            "type": "mesh3d",
            "colorbar": {
             "outlinewidth": 0,
             "ticks": ""
            }
           }
          ],
          "scatter": [
           {
            "marker": {
             "line": {
              "color": "#283442"
             }
            },
            "type": "scatter"
           }
          ],
          "parcoords": [
           {
            "type": "parcoords",
            "line": {
             "colorbar": {
              "outlinewidth": 0,
              "ticks": ""
             }
            }
           }
          ],
          "scatterpolargl": [
           {
            "type": "scatterpolargl",
            "marker": {
             "colorbar": {
              "outlinewidth": 0,
              "ticks": ""
             }
            }
           }
          ],
          "bar": [
           {
            "error_x": {
             "color": "#f2f5fa"
            },
            "error_y": {
             "color": "#f2f5fa"
            },
            "marker": {
             "line": {
              "color": "rgb(17,17,17)",
              "width": 0.5
             },
             "pattern": {
              "fillmode": "overlay",
              "size": 10,
              "solidity": 0.2
             }
            },
            "type": "bar"
           }
          ],
          "scattergeo": [
           {
            "type": "scattergeo",
            "marker": {
             "colorbar": {
              "outlinewidth": 0,
              "ticks": ""
             }
            }
           }
          ],
          "scatterpolar": [
           {
            "type": "scatterpolar",
            "marker": {
             "colorbar": {
              "outlinewidth": 0,
              "ticks": ""
             }
            }
           }
          ],
          "histogram": [
           {
            "marker": {
             "pattern": {
              "fillmode": "overlay",
              "size": 10,
              "solidity": 0.2
             }
            },
            "type": "histogram"
           }
          ],
          "scattergl": [
           {
            "marker": {
             "line": {
              "color": "#283442"
             }
            },
            "type": "scattergl"
           }
          ],
          "scatter3d": [
           {
            "type": "scatter3d",
            "line": {
             "colorbar": {
              "outlinewidth": 0,
              "ticks": ""
             }
            },
            "marker": {
             "colorbar": {
              "outlinewidth": 0,
              "ticks": ""
             }
            }
           }
          ],
          "scattermapbox": [
           {
            "type": "scattermapbox",
            "marker": {
             "colorbar": {
              "outlinewidth": 0,
              "ticks": ""
             }
            }
           }
          ],
          "scatterternary": [
           {
            "type": "scatterternary",
            "marker": {
             "colorbar": {
              "outlinewidth": 0,
              "ticks": ""
             }
            }
           }
          ],
          "scattercarpet": [
           {
            "type": "scattercarpet",
            "marker": {
             "colorbar": {
              "outlinewidth": 0,
              "ticks": ""
             }
            }
           }
          ],
          "carpet": [
           {
            "aaxis": {
             "endlinecolor": "#A2B1C6",
             "gridcolor": "#506784",
             "linecolor": "#506784",
             "minorgridcolor": "#506784",
             "startlinecolor": "#A2B1C6"
            },
            "baxis": {
             "endlinecolor": "#A2B1C6",
             "gridcolor": "#506784",
             "linecolor": "#506784",
             "minorgridcolor": "#506784",
             "startlinecolor": "#A2B1C6"
            },
            "type": "carpet"
           }
          ],
          "table": [
           {
            "cells": {
             "fill": {
              "color": "#506784"
             },
             "line": {
              "color": "rgb(17,17,17)"
             }
            },
            "header": {
             "fill": {
              "color": "#2a3f5f"
             },
             "line": {
              "color": "rgb(17,17,17)"
             }
            },
            "type": "table"
           }
          ],
          "barpolar": [
           {
            "marker": {
             "line": {
              "color": "rgb(17,17,17)",
              "width": 0.5
             },
             "pattern": {
              "fillmode": "overlay",
              "size": 10,
              "solidity": 0.2
             }
            },
            "type": "barpolar"
           }
          ],
          "pie": [
           {
            "automargin": true,
            "type": "pie"
           }
          ]
         },
         "layout": {
          "autotypenumbers": "strict",
          "colorway": [
           "#636efa",
           "#EF553B",
           "#00cc96",
           "#ab63fa",
           "#FFA15A",
           "#19d3f3",
           "#FF6692",
           "#B6E880",
           "#FF97FF",
           "#FECB52"
          ],
          "font": {
           "color": "#f2f5fa"
          },
          "hovermode": "closest",
          "hoverlabel": {
           "align": "left"
          },
          "paper_bgcolor": "rgb(17,17,17)",
          "plot_bgcolor": "rgb(17,17,17)",
          "polar": {
           "bgcolor": "rgb(17,17,17)",
           "angularaxis": {
            "gridcolor": "#506784",
            "linecolor": "#506784",
            "ticks": ""
           },
           "radialaxis": {
            "gridcolor": "#506784",
            "linecolor": "#506784",
            "ticks": ""
           }
          },
          "ternary": {
           "bgcolor": "rgb(17,17,17)",
           "aaxis": {
            "gridcolor": "#506784",
            "linecolor": "#506784",
            "ticks": ""
           },
           "baxis": {
            "gridcolor": "#506784",
            "linecolor": "#506784",
            "ticks": ""
           },
           "caxis": {
            "gridcolor": "#506784",
            "linecolor": "#506784",
            "ticks": ""
           }
          },
          "coloraxis": {
           "colorbar": {
            "outlinewidth": 0,
            "ticks": ""
           }
          },
          "colorscale": {
           "sequential": [
            [
             0.0,
             "#0d0887"
            ],
            [
             0.1111111111111111,
             "#46039f"
            ],
            [
             0.2222222222222222,
             "#7201a8"
            ],
            [
             0.3333333333333333,
             "#9c179e"
            ],
            [
             0.4444444444444444,
             "#bd3786"
            ],
            [
             0.5555555555555556,
             "#d8576b"
            ],
            [
             0.6666666666666666,
             "#ed7953"
            ],
            [
             0.7777777777777778,
             "#fb9f3a"
            ],
            [
             0.8888888888888888,
             "#fdca26"
            ],
            [
             1.0,
             "#f0f921"
            ]
           ],
           "sequentialminus": [
            [
             0.0,
             "#0d0887"
            ],
            [
             0.1111111111111111,
             "#46039f"
            ],
            [
             0.2222222222222222,
             "#7201a8"
            ],
            [
             0.3333333333333333,
             "#9c179e"
            ],
            [
             0.4444444444444444,
             "#bd3786"
            ],
            [
             0.5555555555555556,
             "#d8576b"
            ],
            [
             0.6666666666666666,
             "#ed7953"
            ],
            [
             0.7777777777777778,
             "#fb9f3a"
            ],
            [
             0.8888888888888888,
             "#fdca26"
            ],
            [
             1.0,
             "#f0f921"
            ]
           ],
           "diverging": [
            [
             0,
             "#8e0152"
            ],
            [
             0.1,
             "#c51b7d"
            ],
            [
             0.2,
             "#de77ae"
            ],
            [
             0.3,
             "#f1b6da"
            ],
            [
             0.4,
             "#fde0ef"
            ],
            [
             0.5,
             "#f7f7f7"
            ],
            [
             0.6,
             "#e6f5d0"
            ],
            [
             0.7,
             "#b8e186"
            ],
            [
             0.8,
             "#7fbc41"
            ],
            [
             0.9,
             "#4d9221"
            ],
            [
             1,
             "#276419"
            ]
           ]
          },
          "xaxis": {
           "gridcolor": "#283442",
           "linecolor": "#506784",
           "ticks": "",
           "title": {
            "standoff": 15
           },
           "zerolinecolor": "#283442",
           "automargin": true,
           "zerolinewidth": 2
          },
          "yaxis": {
           "gridcolor": "#283442",
           "linecolor": "#506784",
           "ticks": "",
           "title": {
            "standoff": 15
           },
           "zerolinecolor": "#283442",
           "automargin": true,
           "zerolinewidth": 2
          },
          "scene": {
           "xaxis": {
            "backgroundcolor": "rgb(17,17,17)",
            "gridcolor": "#506784",
            "linecolor": "#506784",
            "showbackground": true,
            "ticks": "",
            "zerolinecolor": "#C8D4E3",
            "gridwidth": 2
           },
           "yaxis": {
            "backgroundcolor": "rgb(17,17,17)",
            "gridcolor": "#506784",
            "linecolor": "#506784",
            "showbackground": true,
            "ticks": "",
            "zerolinecolor": "#C8D4E3",
            "gridwidth": 2
           },
           "zaxis": {
            "backgroundcolor": "rgb(17,17,17)",
            "gridcolor": "#506784",
            "linecolor": "#506784",
            "showbackground": true,
            "ticks": "",
            "zerolinecolor": "#C8D4E3",
            "gridwidth": 2
           }
          },
          "shapedefaults": {
           "line": {
            "color": "#f2f5fa"
           }
          },
          "annotationdefaults": {
           "arrowcolor": "#f2f5fa",
           "arrowhead": 0,
           "arrowwidth": 1
          },
          "geo": {
           "bgcolor": "rgb(17,17,17)",
           "landcolor": "rgb(17,17,17)",
           "subunitcolor": "#506784",
           "showland": true,
           "showlakes": true,
           "lakecolor": "rgb(17,17,17)"
          },
          "title": {
           "x": 0.05
          },
          "updatemenudefaults": {
           "bgcolor": "#506784",
           "borderwidth": 0
          },
          "sliderdefaults": {
           "bgcolor": "#C8D4E3",
           "borderwidth": 1,
           "bordercolor": "rgb(17,17,17)",
           "tickwidth": 0
          },
          "mapbox": {
           "style": "dark"
          }
         }
        },
        "xaxis": {
         "anchor": "y",
         "domain": [
          0.0,
          1.0
         ],
         "title": {
          "text": "Flow [l/min]"
         }
        },
        "yaxis": {
         "anchor": "x",
         "domain": [
          0.0,
          1.0
         ],
         "title": {
          "text": "Head loss volute friction"
         }
        },
        "legend": {
         "title": {
          "text": "Speed"
         },
         "tracegroupgap": 0
        },
        "title": {
         "text": "Volute friction loss"
        }
       },
       "config": {
        "plotlyServerURL": "https://plot.ly"
       }
      },
      "text/html": "<div>                            <div id=\"f55eebb1-01d2-42af-ba7a-42c54ea9c09f\" class=\"plotly-graph-div\" style=\"height:525px; width:100%;\"></div>            <script type=\"text/javascript\">                require([\"plotly\"], function(Plotly) {                    window.PLOTLYENV=window.PLOTLYENV || {};                                    if (document.getElementById(\"f55eebb1-01d2-42af-ba7a-42c54ea9c09f\")) {                    Plotly.newPlot(                        \"f55eebb1-01d2-42af-ba7a-42c54ea9c09f\",                        [{\"hovertemplate\":\"Speed=1200<br>Flow [l/min]=%{x}<br>Head loss volute friction=%{y}<extra></extra>\",\"legendgroup\":\"1200\",\"line\":{\"color\":\"#636efa\",\"dash\":\"solid\"},\"marker\":{\"symbol\":\"circle\"},\"mode\":\"lines\",\"name\":\"1200\",\"orientation\":\"v\",\"showlegend\":true,\"x\":[6.0,12.0,18.000000000000004,24.0,30.0,36.00000000000001,42.00000000000001,48.0,54.00000000000001,60.0,66.0,72.00000000000001,78.00000000000001,84.00000000000001,90.0,96.0,102.00000000000001,108.00000000000001,114.00000000000001,120.0,126.0,132.0,138.0,144.0,150.0,156.0,162.0,168.0,174.0,180.0,186.0,192.0,198.0,204.0,210.0,216.0,222.0,228.0,234.0,240.0,246.00000000000003,252.0,258.00000000000006,264.0,270.00000000000006,276.00000000000006,282.0,288.00000000000006,294.0,300.0,306.00000000000006,312.00000000000006,318.00000000000006,324.0,330.00000000000006,336.00000000000006,342.0,348.00000000000006,354.0,360.0,366.00000000000006,372.00000000000006,378.00000000000006,384.0,390.00000000000006,396.00000000000006,402.0,408.00000000000006,414.0,420.00000000000006,426.00000000000006,432.00000000000006,438.00000000000006,444.0,450.00000000000006,456.00000000000006,462.0,468.00000000000006,474.0,480.0,486.0,491.99999999999994,498.00000000000006,504.0,510.0,516.0,522.0,528.0,534.0,540.0,546.0,552.0,557.9999999999999,564.0,570.0,576.0,582.0000000000001,587.9999999999999,593.9999999999999,600.0,606.0,612.0000000000001,618.0,624.0,630.0,636.0,642.0,648.0,654.0,660.0,666.0,672.0,677.9999999999999,684.0,690.0,696.0,702.0000000000001,707.9999999999999,713.9999999999999,720.0,726.0,732.0000000000001,738.0,744.0,750.0,756.0,762.0,768.0,774.0,780.0,786.0000000000001,792.0,797.9999999999999,804.0,810.0,816.0,822.0000000000001,827.9999999999999,834.0,840.0,846.0,852.0000000000001,858.0,864.0,870.0,876.0,882.0,888.0,894.0,900.0,906.0000000000001,912.0,917.9999999999999,924.0,930.0,936.0,942.0000000000002,948.0,954.0,960.0,966.0000000000001,972.0,977.9999999999998,984.0000000000001,990.0,996.0000000000001,1002.0,1008.0,1014.0000000000001,1020.0,1026.0,1032.0,1038.0,1044.0,1050.0,1056.0,1062.0,1068.0,1074.0,1080.0,1086.0,1092.0,1098.0,1104.0,1110.0,1116.0,1122.0000000000002,1128.0,1134.0,1140.0,1145.9999999999998,1152.0000000000002,1158.0,1164.0000000000002,1170.0,1175.9999999999998,1182.0,1188.0,1194.0000000000002],\"xaxis\":\"x\",\"y\":[1.1511331877539774e-06,3.9719714601843504e-06,8.26980720792196e-06,1.3974543564332151e-05,2.1047541274755723e-05,2.9464291628897654e-05,3.920798060839975e-05,5.0266464797159084e-05,6.263064516702431e-05,7.629351069007992e-05,9.124953857488644e-05,0.00010749429924291027,0.0001250241861872101,0.00014383622522121526,0.00016392793638200998,0.00018529723172423972,0.00020794233827603806,0.00023186173909809624,0.0002570541272649203,0.00028351836981856083,0.00031125347914058425,0.0003402585897859614,0.0003705329396510419,0.00040207585492873165,0.00043488673731868863,0.0004689650534533393,0.0005043103262710919,0.0005409221276835661,0.0005788000724453314,0.0006179438126529159,0.0006583530331577767,0.00070002744829411,0.0007429667979816321,0.0007871708450313769,0.0008326393724768179,0.0008793721818943929,0.0009273690908810199,0.0009766299322250898,0.0010271545513373254,0.001078942805685902,0.0011319945640008591,0.0011863097040827,0.00124188811332499,0.0012987296863317041,0.00135683432606498,0.0014162019413457693,0.0014768324475872142,0.00153872576599495,0.0016018818225136892,0.001666300547942896,0.0017319818773649696,0.0017989257508080566,0.0018671321107961883,0.0019366009037282497,0.002007332079091396,0.002079325590164349,0.002152581391416259,0.0022270994414672085,0.0023028796998292612,0.0023799221298677494,0.002458226694895178,0.002537793362139008,0.0026186220992939027,0.002700712876186539,0.0027840656647544148,0.0028686804370111076,0.0029545571675796997,0.0030416958323865474,0.003130096406999925,0.003219758870314919,0.003310683200512777,0.0034028693777093466,0.003496317383117203,0.0035910271975468813,0.0036869988042486424,0.003784232185850661,0.003882727327225601,0.003982484212182426,0.004083502827275842,0.004185783157652914,0.004289325190348404,0.004394128913472585,0.004500194312314806,0.004607521377296787,0.004716110097068755,0.004825960458875345,0.004937072454608897,0.005049446073572175,0.005163081305189,0.00527797814192315,0.0053941365738907066,0.005511556592342392,0.005630238190131033,0.005750181357529134,0.005871386088945085,0.005993852376164808,0.006117580212661655,0.006242569590935777,0.006368820504427236,0.0064963329469858505,0.006625106913469351,0.006755142396292928,0.006886439391006943,0.007018997892722712,0.00715281789342242,0.007287899390430365,0.007424242378132199,0.007561846852129962,0.007700712807700763,0.007840840238002553,0.007982229143101276,0.008124879514131201,0.008268791351741137,0.008413964648094496,0.008560399400834449,0.008708095606033582,0.008857053260874817,0.009007272361198743,0.009158752904203444,0.009311494885826423,0.009465498303454051,0.00962076315312577,0.009777289432243876,0.009935077140540148,0.010094126271047343,0.010254436822594831,0.010416008792771565,0.010578842180681568,0.010742936981377042,0.010908293192763483,0.011074910812107383,0.011242789838895127,0.01141193026883312,0.01158233210341974,0.011753995334603624,0.011926919966053592,0.012101105992912831,0.012276553413958283,0.012453262224973321,0.012631232426620776,0.012810464017653662,0.012990956995277018,0.013172711358157235,0.013355727101676571,0.013540004228978816,0.013725542735531044,0.013912342620134096,0.014100403882774353,0.014289726519416153,0.014480310530811794,0.01467215591443594,0.014865262667620357,0.015059630793944043,0.015255260285726933,0.015452151148347413,0.015650303373304898,0.01584971696299838,0.016050391918941503,0.016252328235525592,0.016455525916334243,0.016659984955052394,0.016865705352007765,0.017072687108061632,0.017280930221471306,0.017490434688009596,0.01770120051525903,0.017913227691342074,0.01812651622390101,0.018341066108507168,0.018556877343036075,0.018773949928057636,0.01899228386343537,0.01921187914467118,0.01943273577844683,0.019654853755948023,0.019878233080050843,0.020102873750112864,0.020328775766050057,0.02055593912445631,0.020784363826946824,0.021014049872219366,0.0212449972603392,0.02147720598870096,0.02171067605641794,0.021945407464600993,0.022181400212198634,0.02241865429605165,0.022657169720036955,0.022896946481841044,0.023137984582067485,0.02338028401517674,0.0236238447835332,0.023868666893192825,0.024114750330054852,0.02436209510294296,0.024610701210388327,0.024860568650206628,0.025111697424641585,0.025364087525459177],\"yaxis\":\"y\",\"type\":\"scatter\"},{\"hovertemplate\":\"Speed=1800<br>Flow [l/min]=%{x}<br>Head loss volute friction=%{y}<extra></extra>\",\"legendgroup\":\"1800\",\"line\":{\"color\":\"#EF553B\",\"dash\":\"solid\"},\"marker\":{\"symbol\":\"circle\"},\"mode\":\"lines\",\"name\":\"1800\",\"orientation\":\"v\",\"showlegend\":true,\"x\":[6.0,12.0,18.000000000000004,24.0,30.0,36.00000000000001,42.00000000000001,48.0,54.00000000000001,60.0,66.0,72.00000000000001,78.00000000000001,84.00000000000001,90.0,96.0,102.00000000000001,108.00000000000001,114.00000000000001,120.0,126.0,132.0,138.0,144.0,150.0,156.0,162.0,168.0,174.0,180.0,186.0,192.0,198.0,204.0,210.0,216.0,222.0,228.0,234.0,240.0,246.00000000000003,252.0,258.00000000000006,264.0,270.00000000000006,276.00000000000006,282.0,288.00000000000006,294.0,300.0,306.00000000000006,312.00000000000006,318.00000000000006,324.0,330.00000000000006,336.00000000000006,342.0,348.00000000000006,354.0,360.0,366.00000000000006,372.00000000000006,378.00000000000006,384.0,390.00000000000006,396.00000000000006,402.0,408.00000000000006,414.0,420.00000000000006,426.00000000000006,432.00000000000006,438.00000000000006,444.0,450.00000000000006,456.00000000000006,462.0,468.00000000000006,474.0,480.0,486.0,491.99999999999994,498.00000000000006,504.0,510.0,516.0,522.0,528.0,534.0,540.0,546.0,552.0,557.9999999999999,564.0,570.0,576.0,582.0000000000001,587.9999999999999,593.9999999999999,600.0,606.0,612.0000000000001,618.0,624.0,630.0,636.0,642.0,648.0,654.0,660.0,666.0,672.0,677.9999999999999,684.0,690.0,696.0,702.0000000000001,707.9999999999999,713.9999999999999,720.0,726.0,732.0000000000001,738.0,744.0,750.0,756.0,762.0,768.0,774.0,780.0,786.0000000000001,792.0,797.9999999999999,804.0,810.0,816.0,822.0000000000001,827.9999999999999,834.0,840.0,846.0,852.0000000000001,858.0,864.0,870.0,876.0,882.0,888.0,894.0,900.0,906.0000000000001,912.0,917.9999999999999,924.0,930.0,936.0,942.0000000000002,948.0,954.0,960.0,966.0000000000001,972.0,977.9999999999998,984.0000000000001,990.0,996.0000000000001,1002.0,1008.0,1014.0000000000001,1020.0,1026.0,1032.0,1038.0,1044.0,1050.0,1056.0,1062.0,1068.0,1074.0,1080.0,1086.0,1092.0,1098.0,1104.0,1110.0,1116.0,1122.0000000000002,1128.0,1134.0,1140.0,1145.9999999999998,1152.0000000000002,1158.0,1164.0000000000002,1170.0,1175.9999999999998,1182.0,1188.0,1194.0000000000002],\"xaxis\":\"x\",\"y\":[1.1511331877539774e-06,3.9719714601843504e-06,8.26980720792196e-06,1.3974543564332151e-05,2.1047541274755723e-05,2.9464291628897654e-05,3.920798060839975e-05,5.0266464797159084e-05,6.263064516702431e-05,7.629351069007992e-05,9.124953857488644e-05,0.00010749429924291027,0.0001250241861872101,0.00014383622522121526,0.00016392793638200998,0.00018529723172423972,0.00020794233827603806,0.00023186173909809624,0.0002570541272649203,0.00028351836981856083,0.00031125347914058425,0.0003402585897859614,0.0003705329396510419,0.00040207585492873165,0.00043488673731868863,0.0004689650534533393,0.0005043103262710919,0.0005409221276835661,0.0005788000724453314,0.0006179438126529159,0.0006583530331577767,0.00070002744829411,0.0007429667979816321,0.0007871708450313769,0.0008326393724768179,0.0008793721818943929,0.0009273690908810199,0.0009766299322250898,0.0010271545513373254,0.001078942805685902,0.0011319945640008591,0.0011863097040827,0.00124188811332499,0.0012987296863317041,0.00135683432606498,0.0014162019413457693,0.0014768324475872142,0.00153872576599495,0.0016018818225136892,0.001666300547942896,0.0017319818773649696,0.0017989257508080566,0.0018671321107961883,0.0019366009037282497,0.002007332079091396,0.002079325590164349,0.002152581391416259,0.0022270994414672085,0.0023028796998292612,0.0023799221298677494,0.002458226694895178,0.002537793362139008,0.0026186220992939027,0.002700712876186539,0.0027840656647544148,0.0028686804370111076,0.0029545571675796997,0.0030416958323865474,0.003130096406999925,0.003219758870314919,0.003310683200512777,0.0034028693777093466,0.003496317383117203,0.0035910271975468813,0.0036869988042486424,0.003784232185850661,0.003882727327225601,0.003982484212182426,0.004083502827275842,0.004185783157652914,0.004289325190348404,0.004394128913472585,0.004500194312314806,0.004607521377296787,0.004716110097068755,0.004825960458875345,0.004937072454608897,0.005049446073572175,0.005163081305189,0.00527797814192315,0.0053941365738907066,0.005511556592342392,0.005630238190131033,0.005750181357529134,0.005871386088945085,0.005993852376164808,0.006117580212661655,0.006242569590935777,0.006368820504427236,0.0064963329469858505,0.006625106913469351,0.006755142396292928,0.006886439391006943,0.007018997892722712,0.00715281789342242,0.007287899390430365,0.007424242378132199,0.007561846852129962,0.007700712807700763,0.007840840238002553,0.007982229143101276,0.008124879514131201,0.008268791351741137,0.008413964648094496,0.008560399400834449,0.008708095606033582,0.008857053260874817,0.009007272361198743,0.009158752904203444,0.009311494885826423,0.009465498303454051,0.00962076315312577,0.009777289432243876,0.009935077140540148,0.010094126271047343,0.010254436822594831,0.010416008792771565,0.010578842180681568,0.010742936981377042,0.010908293192763483,0.011074910812107383,0.011242789838895127,0.01141193026883312,0.01158233210341974,0.011753995334603624,0.011926919966053592,0.012101105992912831,0.012276553413958283,0.012453262224973321,0.012631232426620776,0.012810464017653662,0.012990956995277018,0.013172711358157235,0.013355727101676571,0.013540004228978816,0.013725542735531044,0.013912342620134096,0.014100403882774353,0.014289726519416153,0.014480310530811794,0.01467215591443594,0.014865262667620357,0.015059630793944043,0.015255260285726933,0.015452151148347413,0.015650303373304898,0.01584971696299838,0.016050391918941503,0.016252328235525592,0.016455525916334243,0.016659984955052394,0.016865705352007765,0.017072687108061632,0.017280930221471306,0.017490434688009596,0.01770120051525903,0.017913227691342074,0.01812651622390101,0.018341066108507168,0.018556877343036075,0.018773949928057636,0.01899228386343537,0.01921187914467118,0.01943273577844683,0.019654853755948023,0.019878233080050843,0.020102873750112864,0.020328775766050057,0.02055593912445631,0.020784363826946824,0.021014049872219366,0.0212449972603392,0.02147720598870096,0.02171067605641794,0.021945407464600993,0.022181400212198634,0.02241865429605165,0.022657169720036955,0.022896946481841044,0.023137984582067485,0.02338028401517674,0.0236238447835332,0.023868666893192825,0.024114750330054852,0.02436209510294296,0.024610701210388327,0.024860568650206628,0.025111697424641585,0.025364087525459177],\"yaxis\":\"y\",\"type\":\"scatter\"}],                        {\"template\":{\"data\":{\"histogram2dcontour\":[{\"type\":\"histogram2dcontour\",\"colorbar\":{\"outlinewidth\":0,\"ticks\":\"\"},\"colorscale\":[[0.0,\"#0d0887\"],[0.1111111111111111,\"#46039f\"],[0.2222222222222222,\"#7201a8\"],[0.3333333333333333,\"#9c179e\"],[0.4444444444444444,\"#bd3786\"],[0.5555555555555556,\"#d8576b\"],[0.6666666666666666,\"#ed7953\"],[0.7777777777777778,\"#fb9f3a\"],[0.8888888888888888,\"#fdca26\"],[1.0,\"#f0f921\"]]}],\"choropleth\":[{\"type\":\"choropleth\",\"colorbar\":{\"outlinewidth\":0,\"ticks\":\"\"}}],\"histogram2d\":[{\"type\":\"histogram2d\",\"colorbar\":{\"outlinewidth\":0,\"ticks\":\"\"},\"colorscale\":[[0.0,\"#0d0887\"],[0.1111111111111111,\"#46039f\"],[0.2222222222222222,\"#7201a8\"],[0.3333333333333333,\"#9c179e\"],[0.4444444444444444,\"#bd3786\"],[0.5555555555555556,\"#d8576b\"],[0.6666666666666666,\"#ed7953\"],[0.7777777777777778,\"#fb9f3a\"],[0.8888888888888888,\"#fdca26\"],[1.0,\"#f0f921\"]]}],\"heatmap\":[{\"type\":\"heatmap\",\"colorbar\":{\"outlinewidth\":0,\"ticks\":\"\"},\"colorscale\":[[0.0,\"#0d0887\"],[0.1111111111111111,\"#46039f\"],[0.2222222222222222,\"#7201a8\"],[0.3333333333333333,\"#9c179e\"],[0.4444444444444444,\"#bd3786\"],[0.5555555555555556,\"#d8576b\"],[0.6666666666666666,\"#ed7953\"],[0.7777777777777778,\"#fb9f3a\"],[0.8888888888888888,\"#fdca26\"],[1.0,\"#f0f921\"]]}],\"heatmapgl\":[{\"type\":\"heatmapgl\",\"colorbar\":{\"outlinewidth\":0,\"ticks\":\"\"},\"colorscale\":[[0.0,\"#0d0887\"],[0.1111111111111111,\"#46039f\"],[0.2222222222222222,\"#7201a8\"],[0.3333333333333333,\"#9c179e\"],[0.4444444444444444,\"#bd3786\"],[0.5555555555555556,\"#d8576b\"],[0.6666666666666666,\"#ed7953\"],[0.7777777777777778,\"#fb9f3a\"],[0.8888888888888888,\"#fdca26\"],[1.0,\"#f0f921\"]]}],\"contourcarpet\":[{\"type\":\"contourcarpet\",\"colorbar\":{\"outlinewidth\":0,\"ticks\":\"\"}}],\"contour\":[{\"type\":\"contour\",\"colorbar\":{\"outlinewidth\":0,\"ticks\":\"\"},\"colorscale\":[[0.0,\"#0d0887\"],[0.1111111111111111,\"#46039f\"],[0.2222222222222222,\"#7201a8\"],[0.3333333333333333,\"#9c179e\"],[0.4444444444444444,\"#bd3786\"],[0.5555555555555556,\"#d8576b\"],[0.6666666666666666,\"#ed7953\"],[0.7777777777777778,\"#fb9f3a\"],[0.8888888888888888,\"#fdca26\"],[1.0,\"#f0f921\"]]}],\"surface\":[{\"type\":\"surface\",\"colorbar\":{\"outlinewidth\":0,\"ticks\":\"\"},\"colorscale\":[[0.0,\"#0d0887\"],[0.1111111111111111,\"#46039f\"],[0.2222222222222222,\"#7201a8\"],[0.3333333333333333,\"#9c179e\"],[0.4444444444444444,\"#bd3786\"],[0.5555555555555556,\"#d8576b\"],[0.6666666666666666,\"#ed7953\"],[0.7777777777777778,\"#fb9f3a\"],[0.8888888888888888,\"#fdca26\"],[1.0,\"#f0f921\"]]}],\"mesh3d\":[{\"type\":\"mesh3d\",\"colorbar\":{\"outlinewidth\":0,\"ticks\":\"\"}}],\"scatter\":[{\"marker\":{\"line\":{\"color\":\"#283442\"}},\"type\":\"scatter\"}],\"parcoords\":[{\"type\":\"parcoords\",\"line\":{\"colorbar\":{\"outlinewidth\":0,\"ticks\":\"\"}}}],\"scatterpolargl\":[{\"type\":\"scatterpolargl\",\"marker\":{\"colorbar\":{\"outlinewidth\":0,\"ticks\":\"\"}}}],\"bar\":[{\"error_x\":{\"color\":\"#f2f5fa\"},\"error_y\":{\"color\":\"#f2f5fa\"},\"marker\":{\"line\":{\"color\":\"rgb(17,17,17)\",\"width\":0.5},\"pattern\":{\"fillmode\":\"overlay\",\"size\":10,\"solidity\":0.2}},\"type\":\"bar\"}],\"scattergeo\":[{\"type\":\"scattergeo\",\"marker\":{\"colorbar\":{\"outlinewidth\":0,\"ticks\":\"\"}}}],\"scatterpolar\":[{\"type\":\"scatterpolar\",\"marker\":{\"colorbar\":{\"outlinewidth\":0,\"ticks\":\"\"}}}],\"histogram\":[{\"marker\":{\"pattern\":{\"fillmode\":\"overlay\",\"size\":10,\"solidity\":0.2}},\"type\":\"histogram\"}],\"scattergl\":[{\"marker\":{\"line\":{\"color\":\"#283442\"}},\"type\":\"scattergl\"}],\"scatter3d\":[{\"type\":\"scatter3d\",\"line\":{\"colorbar\":{\"outlinewidth\":0,\"ticks\":\"\"}},\"marker\":{\"colorbar\":{\"outlinewidth\":0,\"ticks\":\"\"}}}],\"scattermapbox\":[{\"type\":\"scattermapbox\",\"marker\":{\"colorbar\":{\"outlinewidth\":0,\"ticks\":\"\"}}}],\"scatterternary\":[{\"type\":\"scatterternary\",\"marker\":{\"colorbar\":{\"outlinewidth\":0,\"ticks\":\"\"}}}],\"scattercarpet\":[{\"type\":\"scattercarpet\",\"marker\":{\"colorbar\":{\"outlinewidth\":0,\"ticks\":\"\"}}}],\"carpet\":[{\"aaxis\":{\"endlinecolor\":\"#A2B1C6\",\"gridcolor\":\"#506784\",\"linecolor\":\"#506784\",\"minorgridcolor\":\"#506784\",\"startlinecolor\":\"#A2B1C6\"},\"baxis\":{\"endlinecolor\":\"#A2B1C6\",\"gridcolor\":\"#506784\",\"linecolor\":\"#506784\",\"minorgridcolor\":\"#506784\",\"startlinecolor\":\"#A2B1C6\"},\"type\":\"carpet\"}],\"table\":[{\"cells\":{\"fill\":{\"color\":\"#506784\"},\"line\":{\"color\":\"rgb(17,17,17)\"}},\"header\":{\"fill\":{\"color\":\"#2a3f5f\"},\"line\":{\"color\":\"rgb(17,17,17)\"}},\"type\":\"table\"}],\"barpolar\":[{\"marker\":{\"line\":{\"color\":\"rgb(17,17,17)\",\"width\":0.5},\"pattern\":{\"fillmode\":\"overlay\",\"size\":10,\"solidity\":0.2}},\"type\":\"barpolar\"}],\"pie\":[{\"automargin\":true,\"type\":\"pie\"}]},\"layout\":{\"autotypenumbers\":\"strict\",\"colorway\":[\"#636efa\",\"#EF553B\",\"#00cc96\",\"#ab63fa\",\"#FFA15A\",\"#19d3f3\",\"#FF6692\",\"#B6E880\",\"#FF97FF\",\"#FECB52\"],\"font\":{\"color\":\"#f2f5fa\"},\"hovermode\":\"closest\",\"hoverlabel\":{\"align\":\"left\"},\"paper_bgcolor\":\"rgb(17,17,17)\",\"plot_bgcolor\":\"rgb(17,17,17)\",\"polar\":{\"bgcolor\":\"rgb(17,17,17)\",\"angularaxis\":{\"gridcolor\":\"#506784\",\"linecolor\":\"#506784\",\"ticks\":\"\"},\"radialaxis\":{\"gridcolor\":\"#506784\",\"linecolor\":\"#506784\",\"ticks\":\"\"}},\"ternary\":{\"bgcolor\":\"rgb(17,17,17)\",\"aaxis\":{\"gridcolor\":\"#506784\",\"linecolor\":\"#506784\",\"ticks\":\"\"},\"baxis\":{\"gridcolor\":\"#506784\",\"linecolor\":\"#506784\",\"ticks\":\"\"},\"caxis\":{\"gridcolor\":\"#506784\",\"linecolor\":\"#506784\",\"ticks\":\"\"}},\"coloraxis\":{\"colorbar\":{\"outlinewidth\":0,\"ticks\":\"\"}},\"colorscale\":{\"sequential\":[[0.0,\"#0d0887\"],[0.1111111111111111,\"#46039f\"],[0.2222222222222222,\"#7201a8\"],[0.3333333333333333,\"#9c179e\"],[0.4444444444444444,\"#bd3786\"],[0.5555555555555556,\"#d8576b\"],[0.6666666666666666,\"#ed7953\"],[0.7777777777777778,\"#fb9f3a\"],[0.8888888888888888,\"#fdca26\"],[1.0,\"#f0f921\"]],\"sequentialminus\":[[0.0,\"#0d0887\"],[0.1111111111111111,\"#46039f\"],[0.2222222222222222,\"#7201a8\"],[0.3333333333333333,\"#9c179e\"],[0.4444444444444444,\"#bd3786\"],[0.5555555555555556,\"#d8576b\"],[0.6666666666666666,\"#ed7953\"],[0.7777777777777778,\"#fb9f3a\"],[0.8888888888888888,\"#fdca26\"],[1.0,\"#f0f921\"]],\"diverging\":[[0,\"#8e0152\"],[0.1,\"#c51b7d\"],[0.2,\"#de77ae\"],[0.3,\"#f1b6da\"],[0.4,\"#fde0ef\"],[0.5,\"#f7f7f7\"],[0.6,\"#e6f5d0\"],[0.7,\"#b8e186\"],[0.8,\"#7fbc41\"],[0.9,\"#4d9221\"],[1,\"#276419\"]]},\"xaxis\":{\"gridcolor\":\"#283442\",\"linecolor\":\"#506784\",\"ticks\":\"\",\"title\":{\"standoff\":15},\"zerolinecolor\":\"#283442\",\"automargin\":true,\"zerolinewidth\":2},\"yaxis\":{\"gridcolor\":\"#283442\",\"linecolor\":\"#506784\",\"ticks\":\"\",\"title\":{\"standoff\":15},\"zerolinecolor\":\"#283442\",\"automargin\":true,\"zerolinewidth\":2},\"scene\":{\"xaxis\":{\"backgroundcolor\":\"rgb(17,17,17)\",\"gridcolor\":\"#506784\",\"linecolor\":\"#506784\",\"showbackground\":true,\"ticks\":\"\",\"zerolinecolor\":\"#C8D4E3\",\"gridwidth\":2},\"yaxis\":{\"backgroundcolor\":\"rgb(17,17,17)\",\"gridcolor\":\"#506784\",\"linecolor\":\"#506784\",\"showbackground\":true,\"ticks\":\"\",\"zerolinecolor\":\"#C8D4E3\",\"gridwidth\":2},\"zaxis\":{\"backgroundcolor\":\"rgb(17,17,17)\",\"gridcolor\":\"#506784\",\"linecolor\":\"#506784\",\"showbackground\":true,\"ticks\":\"\",\"zerolinecolor\":\"#C8D4E3\",\"gridwidth\":2}},\"shapedefaults\":{\"line\":{\"color\":\"#f2f5fa\"}},\"annotationdefaults\":{\"arrowcolor\":\"#f2f5fa\",\"arrowhead\":0,\"arrowwidth\":1},\"geo\":{\"bgcolor\":\"rgb(17,17,17)\",\"landcolor\":\"rgb(17,17,17)\",\"subunitcolor\":\"#506784\",\"showland\":true,\"showlakes\":true,\"lakecolor\":\"rgb(17,17,17)\"},\"title\":{\"x\":0.05},\"updatemenudefaults\":{\"bgcolor\":\"#506784\",\"borderwidth\":0},\"sliderdefaults\":{\"bgcolor\":\"#C8D4E3\",\"borderwidth\":1,\"bordercolor\":\"rgb(17,17,17)\",\"tickwidth\":0},\"mapbox\":{\"style\":\"dark\"}}},\"xaxis\":{\"anchor\":\"y\",\"domain\":[0.0,1.0],\"title\":{\"text\":\"Flow [l/min]\"}},\"yaxis\":{\"anchor\":\"x\",\"domain\":[0.0,1.0],\"title\":{\"text\":\"Head loss volute friction\"}},\"legend\":{\"title\":{\"text\":\"Speed\"},\"tracegroupgap\":0},\"title\":{\"text\":\"Volute friction loss\"}},                        {\"responsive\": true}                    ).then(function(){\n                            \nvar gd = document.getElementById('f55eebb1-01d2-42af-ba7a-42c54ea9c09f');\nvar x = new MutationObserver(function (mutations, observer) {{\n        var display = window.getComputedStyle(gd).display;\n        if (!display || display === 'none') {{\n            console.log([gd, 'removed!']);\n            Plotly.purge(gd);\n            observer.disconnect();\n        }}\n}});\n\n// Listen for the removal of the full notebook cells\nvar notebookContainer = gd.closest('#notebook-container');\nif (notebookContainer) {{\n    x.observe(notebookContainer, {childList: true});\n}}\n\n// Listen for the clearing of the current output cell\nvar outputEl = gd.closest('.output');\nif (outputEl) {{\n    x.observe(outputEl, {childList: true});\n}}\n\n                        })                };                });            </script>        </div>"
     },
     "metadata": {},
     "output_type": "display_data"
    },
    {
     "data": {
      "application/vnd.plotly.v1+json": {
       "data": [
        {
         "hovertemplate": "Speed=1200<br>Flow [l/min]=%{x}<br>Head loss volute radial=%{y}<extra></extra>",
         "legendgroup": "1200",
         "line": {
          "color": "#636efa",
          "dash": "solid"
         },
         "marker": {
          "symbol": "circle"
         },
         "mode": "lines",
         "name": "1200",
         "orientation": "v",
         "showlegend": true,
         "x": [
          6.0,
          12.0,
          18.000000000000004,
          24.0,
          30.0,
          36.00000000000001,
          42.00000000000001,
          48.0,
          54.00000000000001,
          60.0,
          66.0,
          72.00000000000001,
          78.00000000000001,
          84.00000000000001,
          90.0,
          96.0,
          102.00000000000001,
          108.00000000000001,
          114.00000000000001,
          120.0,
          126.0,
          132.0,
          138.0,
          144.0,
          150.0,
          156.0,
          162.0,
          168.0,
          174.0,
          180.0,
          186.0,
          192.0,
          198.0,
          204.0,
          210.0,
          216.0,
          222.0,
          228.0,
          234.0,
          240.0,
          246.00000000000003,
          252.0,
          258.00000000000006,
          264.0,
          270.00000000000006,
          276.00000000000006,
          282.0,
          288.00000000000006,
          294.0,
          300.0,
          306.00000000000006,
          312.00000000000006,
          318.00000000000006,
          324.0,
          330.00000000000006,
          336.00000000000006,
          342.0,
          348.00000000000006,
          354.0,
          360.0,
          366.00000000000006,
          372.00000000000006,
          378.00000000000006,
          384.0,
          390.00000000000006,
          396.00000000000006,
          402.0,
          408.00000000000006,
          414.0,
          420.00000000000006,
          426.00000000000006,
          432.00000000000006,
          438.00000000000006,
          444.0,
          450.00000000000006,
          456.00000000000006,
          462.0,
          468.00000000000006,
          474.0,
          480.0,
          486.0,
          491.99999999999994,
          498.00000000000006,
          504.0,
          510.0,
          516.0,
          522.0,
          528.0,
          534.0,
          540.0,
          546.0,
          552.0,
          557.9999999999999,
          564.0,
          570.0,
          576.0,
          582.0000000000001,
          587.9999999999999,
          593.9999999999999,
          600.0,
          606.0,
          612.0000000000001,
          618.0,
          624.0,
          630.0,
          636.0,
          642.0,
          648.0,
          654.0,
          660.0,
          666.0,
          672.0,
          677.9999999999999,
          684.0,
          690.0,
          696.0,
          702.0000000000001,
          707.9999999999999,
          713.9999999999999,
          720.0,
          726.0,
          732.0000000000001,
          738.0,
          744.0,
          750.0,
          756.0,
          762.0,
          768.0,
          774.0,
          780.0,
          786.0000000000001,
          792.0,
          797.9999999999999,
          804.0,
          810.0,
          816.0,
          822.0000000000001,
          827.9999999999999,
          834.0,
          840.0,
          846.0,
          852.0000000000001,
          858.0,
          864.0,
          870.0,
          876.0,
          882.0,
          888.0,
          894.0,
          900.0,
          906.0000000000001,
          912.0,
          917.9999999999999,
          924.0,
          930.0,
          936.0,
          942.0000000000002,
          948.0,
          954.0,
          960.0,
          966.0000000000001,
          972.0,
          977.9999999999998,
          984.0000000000001,
          990.0,
          996.0000000000001,
          1002.0,
          1008.0,
          1014.0000000000001,
          1020.0,
          1026.0,
          1032.0,
          1038.0,
          1044.0,
          1050.0,
          1056.0,
          1062.0,
          1068.0,
          1074.0,
          1080.0,
          1086.0,
          1092.0,
          1098.0,
          1104.0,
          1110.0,
          1116.0,
          1122.0000000000002,
          1128.0,
          1134.0,
          1140.0,
          1145.9999999999998,
          1152.0000000000002,
          1158.0,
          1164.0000000000002,
          1170.0,
          1175.9999999999998,
          1182.0,
          1188.0,
          1194.0000000000002
         ],
         "xaxis": "x",
         "y": [
          1.7558299039780518E-5,
          7.023319615912207E-5,
          1.5802469135802467E-4,
          2.809327846364883E-4,
          4.3895747599451287E-4,
          6.320987654320987E-4,
          8.603566529492454E-4,
          0.0011237311385459531,
          0.0014222222222222219,
          0.0017558299039780515,
          0.0021245541838134426,
          0.0025283950617283947,
          0.002967352537722908,
          0.0034414266117969816,
          0.0039506172839506165,
          0.0044949245541838125,
          0.005074348422496569,
          0.005688888888888887,
          0.006338545953360768,
          0.007023319615912206,
          0.007743209876543208,
          0.00849821673525377,
          0.009288340192043892,
          0.010113580246913577,
          0.010973936899862823,
          0.011869410150891628,
          0.012799999999999997,
          0.013765706447187921,
          0.014766529492455412,
          0.015802469135802466,
          0.016873525377229075,
          0.01797969821673525,
          0.01912098765432098,
          0.02029739368998627,
          0.02150891632373113,
          0.02275555555555555,
          0.02403731138545953,
          0.025354183813443065,
          0.026706172839506156,
          0.028093278463648824,
          0.029515500685871048,
          0.030972839506172835,
          0.03246529492455418,
          0.03399286694101508,
          0.035555555555555556,
          0.03715336076817558,
          0.03878628257887516,
          0.040454320987654314,
          0.04215747599451303,
          0.04389574759945129,
          0.04566913580246913,
          0.047477640603566525,
          0.04932126200274349,
          0.05119999999999999,
          0.05311385459533606,
          0.055062825788751706,
          0.05704691358024689,
          0.05906611796982165,
          0.06112043895747598,
          0.06320987654320986,
          0.06533443072702332,
          0.06749410150891633,
          0.0696888888888889,
          0.071918792866941,
          0.07418381344307269,
          0.07648395061728396,
          0.07881920438957474,
          0.08118957475994511,
          0.08359506172839505,
          0.08603566529492454,
          0.08851138545953358,
          0.0910222222222222,
          0.09356817558299037,
          0.09614924554183812,
          0.09876543209876543,
          0.10141673525377229,
          0.10410315500685868,
          0.10682469135802468,
          0.10958134430727022,
          0.1123731138545953,
          0.11519999999999993,
          0.11806200274348418,
          0.12095912208504794,
          0.12389135802469133,
          0.1268587105624142,
          0.1298611796982167,
          0.1328987654320987,
          0.13597146776406033,
          0.13907928669410147,
          0.14222222222222214,
          0.14540027434842245,
          0.14861344307270227,
          0.15186172839506162,
          0.15514513031550065,
          0.15846364883401912,
          0.16181728395061723,
          0.16520603566529485,
          0.16862990397805208,
          0.1720888888888888,
          0.17558299039780517,
          0.17911220850480103,
          0.18267654320987653,
          0.18627599451303148,
          0.18991056241426604,
          0.1935802469135802,
          0.19728504801097385,
          0.20102496570644707,
          0.20479999999999995,
          0.20861015089163226,
          0.21245541838134416,
          0.2163358024691357,
          0.22025130315500674,
          0.22420192043895742,
          0.22818765432098756,
          0.23220850480109728,
          0.2362644718792866,
          0.24035555555555546,
          0.24448175582990392,
          0.24864307270233188,
          0.25283950617283946,
          0.2570710562414265,
          0.26133772290809326,
          0.26563950617283943,
          0.2699764060356652,
          0.27434842249657065,
          0.2787555555555555,
          0.28319780521261995,
          0.287675171467764,
          0.29218765432098753,
          0.2967352537722907,
          0.3013179698216734,
          0.30593580246913565,
          0.3105887517146775,
          0.31527681755829895,
          0.3199999999999999,
          0.3247582990397803,
          0.32955171467764044,
          0.3343802469135801,
          0.33924389574759933,
          0.3441426611796981,
          0.34907654320987647,
          0.3540455418381343,
          0.35904965706447184,
          0.3640888888888888,
          0.36916323731138545,
          0.37427270233196147,
          0.37941728395061713,
          0.3845969821673525,
          0.3898117969821672,
          0.3950617283950616,
          0.4003467764060356,
          0.40566694101508904,
          0.411022222222222,
          0.41641262002743473,
          0.4218381344307269,
          0.4272987654320985,
          0.4327945130315501,
          0.4383253772290809,
          0.44389135802469126,
          0.4494924554183812,
          0.45512866941015073,
          0.4607999999999997,
          0.46650644718792844,
          0.47224801097393676,
          0.4780246913580245,
          0.4838364883401918,
          0.48968340192043885,
          0.4955654320987653,
          0.5014825788751713,
          0.5074348422496568,
          0.5134222222222221,
          0.5194447187928668,
          0.525502331961591,
          0.5315950617283948,
          0.5377229080932784,
          0.5438858710562413,
          0.5500839506172838,
          0.5563171467764059,
          0.5625854595336074,
          0.5688888888888886,
          0.5752274348422496,
          0.5816010973936898,
          0.5880098765432097,
          0.5944537722908091,
          0.600932784636488,
          0.6074469135802468,
          0.6139961591220849,
          0.6205805212620026,
          0.6271999999999998,
          0.6338545953360765,
          0.6405443072702329,
          0.647269135802469,
          0.6540290809327844,
          0.6608241426611794,
          0.6676543209876542,
          0.6745196159122083,
          0.6814200274348419,
          0.6883555555555554,
          0.6953262002743483
         ],
         "yaxis": "y",
         "type": "scatter"
        },
        {
         "hovertemplate": "Speed=1800<br>Flow [l/min]=%{x}<br>Head loss volute radial=%{y}<extra></extra>",
         "legendgroup": "1800",
         "line": {
          "color": "#EF553B",
          "dash": "solid"
         },
         "marker": {
          "symbol": "circle"
         },
         "mode": "lines",
         "name": "1800",
         "orientation": "v",
         "showlegend": true,
         "x": [
          6.0,
          12.0,
          18.000000000000004,
          24.0,
          30.0,
          36.00000000000001,
          42.00000000000001,
          48.0,
          54.00000000000001,
          60.0,
          66.0,
          72.00000000000001,
          78.00000000000001,
          84.00000000000001,
          90.0,
          96.0,
          102.00000000000001,
          108.00000000000001,
          114.00000000000001,
          120.0,
          126.0,
          132.0,
          138.0,
          144.0,
          150.0,
          156.0,
          162.0,
          168.0,
          174.0,
          180.0,
          186.0,
          192.0,
          198.0,
          204.0,
          210.0,
          216.0,
          222.0,
          228.0,
          234.0,
          240.0,
          246.00000000000003,
          252.0,
          258.00000000000006,
          264.0,
          270.00000000000006,
          276.00000000000006,
          282.0,
          288.00000000000006,
          294.0,
          300.0,
          306.00000000000006,
          312.00000000000006,
          318.00000000000006,
          324.0,
          330.00000000000006,
          336.00000000000006,
          342.0,
          348.00000000000006,
          354.0,
          360.0,
          366.00000000000006,
          372.00000000000006,
          378.00000000000006,
          384.0,
          390.00000000000006,
          396.00000000000006,
          402.0,
          408.00000000000006,
          414.0,
          420.00000000000006,
          426.00000000000006,
          432.00000000000006,
          438.00000000000006,
          444.0,
          450.00000000000006,
          456.00000000000006,
          462.0,
          468.00000000000006,
          474.0,
          480.0,
          486.0,
          491.99999999999994,
          498.00000000000006,
          504.0,
          510.0,
          516.0,
          522.0,
          528.0,
          534.0,
          540.0,
          546.0,
          552.0,
          557.9999999999999,
          564.0,
          570.0,
          576.0,
          582.0000000000001,
          587.9999999999999,
          593.9999999999999,
          600.0,
          606.0,
          612.0000000000001,
          618.0,
          624.0,
          630.0,
          636.0,
          642.0,
          648.0,
          654.0,
          660.0,
          666.0,
          672.0,
          677.9999999999999,
          684.0,
          690.0,
          696.0,
          702.0000000000001,
          707.9999999999999,
          713.9999999999999,
          720.0,
          726.0,
          732.0000000000001,
          738.0,
          744.0,
          750.0,
          756.0,
          762.0,
          768.0,
          774.0,
          780.0,
          786.0000000000001,
          792.0,
          797.9999999999999,
          804.0,
          810.0,
          816.0,
          822.0000000000001,
          827.9999999999999,
          834.0,
          840.0,
          846.0,
          852.0000000000001,
          858.0,
          864.0,
          870.0,
          876.0,
          882.0,
          888.0,
          894.0,
          900.0,
          906.0000000000001,
          912.0,
          917.9999999999999,
          924.0,
          930.0,
          936.0,
          942.0000000000002,
          948.0,
          954.0,
          960.0,
          966.0000000000001,
          972.0,
          977.9999999999998,
          984.0000000000001,
          990.0,
          996.0000000000001,
          1002.0,
          1008.0,
          1014.0000000000001,
          1020.0,
          1026.0,
          1032.0,
          1038.0,
          1044.0,
          1050.0,
          1056.0,
          1062.0,
          1068.0,
          1074.0,
          1080.0,
          1086.0,
          1092.0,
          1098.0,
          1104.0,
          1110.0,
          1116.0,
          1122.0000000000002,
          1128.0,
          1134.0,
          1140.0,
          1145.9999999999998,
          1152.0000000000002,
          1158.0,
          1164.0000000000002,
          1170.0,
          1175.9999999999998,
          1182.0,
          1188.0,
          1194.0000000000002
         ],
         "xaxis": "x",
         "y": [
          1.7558299039780518E-5,
          7.023319615912207E-5,
          1.5802469135802467E-4,
          2.809327846364883E-4,
          4.3895747599451287E-4,
          6.320987654320987E-4,
          8.603566529492454E-4,
          0.0011237311385459531,
          0.0014222222222222219,
          0.0017558299039780515,
          0.0021245541838134426,
          0.0025283950617283947,
          0.002967352537722908,
          0.0034414266117969816,
          0.0039506172839506165,
          0.0044949245541838125,
          0.005074348422496569,
          0.005688888888888887,
          0.006338545953360768,
          0.007023319615912206,
          0.007743209876543208,
          0.00849821673525377,
          0.009288340192043892,
          0.010113580246913577,
          0.010973936899862823,
          0.011869410150891628,
          0.012799999999999997,
          0.013765706447187921,
          0.014766529492455412,
          0.015802469135802466,
          0.016873525377229075,
          0.01797969821673525,
          0.01912098765432098,
          0.02029739368998627,
          0.02150891632373113,
          0.02275555555555555,
          0.02403731138545953,
          0.025354183813443065,
          0.026706172839506156,
          0.028093278463648824,
          0.029515500685871048,
          0.030972839506172835,
          0.03246529492455418,
          0.03399286694101508,
          0.035555555555555556,
          0.03715336076817558,
          0.03878628257887516,
          0.040454320987654314,
          0.04215747599451303,
          0.04389574759945129,
          0.04566913580246913,
          0.047477640603566525,
          0.04932126200274349,
          0.05119999999999999,
          0.05311385459533606,
          0.055062825788751706,
          0.05704691358024689,
          0.05906611796982165,
          0.06112043895747598,
          0.06320987654320986,
          0.06533443072702332,
          0.06749410150891633,
          0.0696888888888889,
          0.071918792866941,
          0.07418381344307269,
          0.07648395061728396,
          0.07881920438957474,
          0.08118957475994511,
          0.08359506172839505,
          0.08603566529492454,
          0.08851138545953358,
          0.0910222222222222,
          0.09356817558299037,
          0.09614924554183812,
          0.09876543209876543,
          0.10141673525377229,
          0.10410315500685868,
          0.10682469135802468,
          0.10958134430727022,
          0.1123731138545953,
          0.11519999999999993,
          0.11806200274348418,
          0.12095912208504794,
          0.12389135802469133,
          0.1268587105624142,
          0.1298611796982167,
          0.1328987654320987,
          0.13597146776406033,
          0.13907928669410147,
          0.14222222222222214,
          0.14540027434842245,
          0.14861344307270227,
          0.15186172839506162,
          0.15514513031550065,
          0.15846364883401912,
          0.16181728395061723,
          0.16520603566529485,
          0.16862990397805208,
          0.1720888888888888,
          0.17558299039780517,
          0.17911220850480103,
          0.18267654320987653,
          0.18627599451303148,
          0.18991056241426604,
          0.1935802469135802,
          0.19728504801097385,
          0.20102496570644707,
          0.20479999999999995,
          0.20861015089163226,
          0.21245541838134416,
          0.2163358024691357,
          0.22025130315500674,
          0.22420192043895742,
          0.22818765432098756,
          0.23220850480109728,
          0.2362644718792866,
          0.24035555555555546,
          0.24448175582990392,
          0.24864307270233188,
          0.25283950617283946,
          0.2570710562414265,
          0.26133772290809326,
          0.26563950617283943,
          0.2699764060356652,
          0.27434842249657065,
          0.2787555555555555,
          0.28319780521261995,
          0.287675171467764,
          0.29218765432098753,
          0.2967352537722907,
          0.3013179698216734,
          0.30593580246913565,
          0.3105887517146775,
          0.31527681755829895,
          0.3199999999999999,
          0.3247582990397803,
          0.32955171467764044,
          0.3343802469135801,
          0.33924389574759933,
          0.3441426611796981,
          0.34907654320987647,
          0.3540455418381343,
          0.35904965706447184,
          0.3640888888888888,
          0.36916323731138545,
          0.37427270233196147,
          0.37941728395061713,
          0.3845969821673525,
          0.3898117969821672,
          0.3950617283950616,
          0.4003467764060356,
          0.40566694101508904,
          0.411022222222222,
          0.41641262002743473,
          0.4218381344307269,
          0.4272987654320985,
          0.4327945130315501,
          0.4383253772290809,
          0.44389135802469126,
          0.4494924554183812,
          0.45512866941015073,
          0.4607999999999997,
          0.46650644718792844,
          0.47224801097393676,
          0.4780246913580245,
          0.4838364883401918,
          0.48968340192043885,
          0.4955654320987653,
          0.5014825788751713,
          0.5074348422496568,
          0.5134222222222221,
          0.5194447187928668,
          0.525502331961591,
          0.5315950617283948,
          0.5377229080932784,
          0.5438858710562413,
          0.5500839506172838,
          0.5563171467764059,
          0.5625854595336074,
          0.5688888888888886,
          0.5752274348422496,
          0.5816010973936898,
          0.5880098765432097,
          0.5944537722908091,
          0.600932784636488,
          0.6074469135802468,
          0.6139961591220849,
          0.6205805212620026,
          0.6271999999999998,
          0.6338545953360765,
          0.6405443072702329,
          0.647269135802469,
          0.6540290809327844,
          0.6608241426611794,
          0.6676543209876542,
          0.6745196159122083,
          0.6814200274348419,
          0.6883555555555554,
          0.6953262002743483
         ],
         "yaxis": "y",
         "type": "scatter"
        }
       ],
       "layout": {
        "template": {
         "data": {
          "histogram2dcontour": [
           {
            "type": "histogram2dcontour",
            "colorbar": {
             "outlinewidth": 0,
             "ticks": ""
            },
            "colorscale": [
             [
              0.0,
              "#0d0887"
             ],
             [
              0.1111111111111111,
              "#46039f"
             ],
             [
              0.2222222222222222,
              "#7201a8"
             ],
             [
              0.3333333333333333,
              "#9c179e"
             ],
             [
              0.4444444444444444,
              "#bd3786"
             ],
             [
              0.5555555555555556,
              "#d8576b"
             ],
             [
              0.6666666666666666,
              "#ed7953"
             ],
             [
              0.7777777777777778,
              "#fb9f3a"
             ],
             [
              0.8888888888888888,
              "#fdca26"
             ],
             [
              1.0,
              "#f0f921"
             ]
            ]
           }
          ],
          "choropleth": [
           {
            "type": "choropleth",
            "colorbar": {
             "outlinewidth": 0,
             "ticks": ""
            }
           }
          ],
          "histogram2d": [
           {
            "type": "histogram2d",
            "colorbar": {
             "outlinewidth": 0,
             "ticks": ""
            },
            "colorscale": [
             [
              0.0,
              "#0d0887"
             ],
             [
              0.1111111111111111,
              "#46039f"
             ],
             [
              0.2222222222222222,
              "#7201a8"
             ],
             [
              0.3333333333333333,
              "#9c179e"
             ],
             [
              0.4444444444444444,
              "#bd3786"
             ],
             [
              0.5555555555555556,
              "#d8576b"
             ],
             [
              0.6666666666666666,
              "#ed7953"
             ],
             [
              0.7777777777777778,
              "#fb9f3a"
             ],
             [
              0.8888888888888888,
              "#fdca26"
             ],
             [
              1.0,
              "#f0f921"
             ]
            ]
           }
          ],
          "heatmap": [
           {
            "type": "heatmap",
            "colorbar": {
             "outlinewidth": 0,
             "ticks": ""
            },
            "colorscale": [
             [
              0.0,
              "#0d0887"
             ],
             [
              0.1111111111111111,
              "#46039f"
             ],
             [
              0.2222222222222222,
              "#7201a8"
             ],
             [
              0.3333333333333333,
              "#9c179e"
             ],
             [
              0.4444444444444444,
              "#bd3786"
             ],
             [
              0.5555555555555556,
              "#d8576b"
             ],
             [
              0.6666666666666666,
              "#ed7953"
             ],
             [
              0.7777777777777778,
              "#fb9f3a"
             ],
             [
              0.8888888888888888,
              "#fdca26"
             ],
             [
              1.0,
              "#f0f921"
             ]
            ]
           }
          ],
          "heatmapgl": [
           {
            "type": "heatmapgl",
            "colorbar": {
             "outlinewidth": 0,
             "ticks": ""
            },
            "colorscale": [
             [
              0.0,
              "#0d0887"
             ],
             [
              0.1111111111111111,
              "#46039f"
             ],
             [
              0.2222222222222222,
              "#7201a8"
             ],
             [
              0.3333333333333333,
              "#9c179e"
             ],
             [
              0.4444444444444444,
              "#bd3786"
             ],
             [
              0.5555555555555556,
              "#d8576b"
             ],
             [
              0.6666666666666666,
              "#ed7953"
             ],
             [
              0.7777777777777778,
              "#fb9f3a"
             ],
             [
              0.8888888888888888,
              "#fdca26"
             ],
             [
              1.0,
              "#f0f921"
             ]
            ]
           }
          ],
          "contourcarpet": [
           {
            "type": "contourcarpet",
            "colorbar": {
             "outlinewidth": 0,
             "ticks": ""
            }
           }
          ],
          "contour": [
           {
            "type": "contour",
            "colorbar": {
             "outlinewidth": 0,
             "ticks": ""
            },
            "colorscale": [
             [
              0.0,
              "#0d0887"
             ],
             [
              0.1111111111111111,
              "#46039f"
             ],
             [
              0.2222222222222222,
              "#7201a8"
             ],
             [
              0.3333333333333333,
              "#9c179e"
             ],
             [
              0.4444444444444444,
              "#bd3786"
             ],
             [
              0.5555555555555556,
              "#d8576b"
             ],
             [
              0.6666666666666666,
              "#ed7953"
             ],
             [
              0.7777777777777778,
              "#fb9f3a"
             ],
             [
              0.8888888888888888,
              "#fdca26"
             ],
             [
              1.0,
              "#f0f921"
             ]
            ]
           }
          ],
          "surface": [
           {
            "type": "surface",
            "colorbar": {
             "outlinewidth": 0,
             "ticks": ""
            },
            "colorscale": [
             [
              0.0,
              "#0d0887"
             ],
             [
              0.1111111111111111,
              "#46039f"
             ],
             [
              0.2222222222222222,
              "#7201a8"
             ],
             [
              0.3333333333333333,
              "#9c179e"
             ],
             [
              0.4444444444444444,
              "#bd3786"
             ],
             [
              0.5555555555555556,
              "#d8576b"
             ],
             [
              0.6666666666666666,
              "#ed7953"
             ],
             [
              0.7777777777777778,
              "#fb9f3a"
             ],
             [
              0.8888888888888888,
              "#fdca26"
             ],
             [
              1.0,
              "#f0f921"
             ]
            ]
           }
          ],
          "mesh3d": [
           {
            "type": "mesh3d",
            "colorbar": {
             "outlinewidth": 0,
             "ticks": ""
            }
           }
          ],
          "scatter": [
           {
            "marker": {
             "line": {
              "color": "#283442"
             }
            },
            "type": "scatter"
           }
          ],
          "parcoords": [
           {
            "type": "parcoords",
            "line": {
             "colorbar": {
              "outlinewidth": 0,
              "ticks": ""
             }
            }
           }
          ],
          "scatterpolargl": [
           {
            "type": "scatterpolargl",
            "marker": {
             "colorbar": {
              "outlinewidth": 0,
              "ticks": ""
             }
            }
           }
          ],
          "bar": [
           {
            "error_x": {
             "color": "#f2f5fa"
            },
            "error_y": {
             "color": "#f2f5fa"
            },
            "marker": {
             "line": {
              "color": "rgb(17,17,17)",
              "width": 0.5
             },
             "pattern": {
              "fillmode": "overlay",
              "size": 10,
              "solidity": 0.2
             }
            },
            "type": "bar"
           }
          ],
          "scattergeo": [
           {
            "type": "scattergeo",
            "marker": {
             "colorbar": {
              "outlinewidth": 0,
              "ticks": ""
             }
            }
           }
          ],
          "scatterpolar": [
           {
            "type": "scatterpolar",
            "marker": {
             "colorbar": {
              "outlinewidth": 0,
              "ticks": ""
             }
            }
           }
          ],
          "histogram": [
           {
            "marker": {
             "pattern": {
              "fillmode": "overlay",
              "size": 10,
              "solidity": 0.2
             }
            },
            "type": "histogram"
           }
          ],
          "scattergl": [
           {
            "marker": {
             "line": {
              "color": "#283442"
             }
            },
            "type": "scattergl"
           }
          ],
          "scatter3d": [
           {
            "type": "scatter3d",
            "line": {
             "colorbar": {
              "outlinewidth": 0,
              "ticks": ""
             }
            },
            "marker": {
             "colorbar": {
              "outlinewidth": 0,
              "ticks": ""
             }
            }
           }
          ],
          "scattermapbox": [
           {
            "type": "scattermapbox",
            "marker": {
             "colorbar": {
              "outlinewidth": 0,
              "ticks": ""
             }
            }
           }
          ],
          "scatterternary": [
           {
            "type": "scatterternary",
            "marker": {
             "colorbar": {
              "outlinewidth": 0,
              "ticks": ""
             }
            }
           }
          ],
          "scattercarpet": [
           {
            "type": "scattercarpet",
            "marker": {
             "colorbar": {
              "outlinewidth": 0,
              "ticks": ""
             }
            }
           }
          ],
          "carpet": [
           {
            "aaxis": {
             "endlinecolor": "#A2B1C6",
             "gridcolor": "#506784",
             "linecolor": "#506784",
             "minorgridcolor": "#506784",
             "startlinecolor": "#A2B1C6"
            },
            "baxis": {
             "endlinecolor": "#A2B1C6",
             "gridcolor": "#506784",
             "linecolor": "#506784",
             "minorgridcolor": "#506784",
             "startlinecolor": "#A2B1C6"
            },
            "type": "carpet"
           }
          ],
          "table": [
           {
            "cells": {
             "fill": {
              "color": "#506784"
             },
             "line": {
              "color": "rgb(17,17,17)"
             }
            },
            "header": {
             "fill": {
              "color": "#2a3f5f"
             },
             "line": {
              "color": "rgb(17,17,17)"
             }
            },
            "type": "table"
           }
          ],
          "barpolar": [
           {
            "marker": {
             "line": {
              "color": "rgb(17,17,17)",
              "width": 0.5
             },
             "pattern": {
              "fillmode": "overlay",
              "size": 10,
              "solidity": 0.2
             }
            },
            "type": "barpolar"
           }
          ],
          "pie": [
           {
            "automargin": true,
            "type": "pie"
           }
          ]
         },
         "layout": {
          "autotypenumbers": "strict",
          "colorway": [
           "#636efa",
           "#EF553B",
           "#00cc96",
           "#ab63fa",
           "#FFA15A",
           "#19d3f3",
           "#FF6692",
           "#B6E880",
           "#FF97FF",
           "#FECB52"
          ],
          "font": {
           "color": "#f2f5fa"
          },
          "hovermode": "closest",
          "hoverlabel": {
           "align": "left"
          },
          "paper_bgcolor": "rgb(17,17,17)",
          "plot_bgcolor": "rgb(17,17,17)",
          "polar": {
           "bgcolor": "rgb(17,17,17)",
           "angularaxis": {
            "gridcolor": "#506784",
            "linecolor": "#506784",
            "ticks": ""
           },
           "radialaxis": {
            "gridcolor": "#506784",
            "linecolor": "#506784",
            "ticks": ""
           }
          },
          "ternary": {
           "bgcolor": "rgb(17,17,17)",
           "aaxis": {
            "gridcolor": "#506784",
            "linecolor": "#506784",
            "ticks": ""
           },
           "baxis": {
            "gridcolor": "#506784",
            "linecolor": "#506784",
            "ticks": ""
           },
           "caxis": {
            "gridcolor": "#506784",
            "linecolor": "#506784",
            "ticks": ""
           }
          },
          "coloraxis": {
           "colorbar": {
            "outlinewidth": 0,
            "ticks": ""
           }
          },
          "colorscale": {
           "sequential": [
            [
             0.0,
             "#0d0887"
            ],
            [
             0.1111111111111111,
             "#46039f"
            ],
            [
             0.2222222222222222,
             "#7201a8"
            ],
            [
             0.3333333333333333,
             "#9c179e"
            ],
            [
             0.4444444444444444,
             "#bd3786"
            ],
            [
             0.5555555555555556,
             "#d8576b"
            ],
            [
             0.6666666666666666,
             "#ed7953"
            ],
            [
             0.7777777777777778,
             "#fb9f3a"
            ],
            [
             0.8888888888888888,
             "#fdca26"
            ],
            [
             1.0,
             "#f0f921"
            ]
           ],
           "sequentialminus": [
            [
             0.0,
             "#0d0887"
            ],
            [
             0.1111111111111111,
             "#46039f"
            ],
            [
             0.2222222222222222,
             "#7201a8"
            ],
            [
             0.3333333333333333,
             "#9c179e"
            ],
            [
             0.4444444444444444,
             "#bd3786"
            ],
            [
             0.5555555555555556,
             "#d8576b"
            ],
            [
             0.6666666666666666,
             "#ed7953"
            ],
            [
             0.7777777777777778,
             "#fb9f3a"
            ],
            [
             0.8888888888888888,
             "#fdca26"
            ],
            [
             1.0,
             "#f0f921"
            ]
           ],
           "diverging": [
            [
             0,
             "#8e0152"
            ],
            [
             0.1,
             "#c51b7d"
            ],
            [
             0.2,
             "#de77ae"
            ],
            [
             0.3,
             "#f1b6da"
            ],
            [
             0.4,
             "#fde0ef"
            ],
            [
             0.5,
             "#f7f7f7"
            ],
            [
             0.6,
             "#e6f5d0"
            ],
            [
             0.7,
             "#b8e186"
            ],
            [
             0.8,
             "#7fbc41"
            ],
            [
             0.9,
             "#4d9221"
            ],
            [
             1,
             "#276419"
            ]
           ]
          },
          "xaxis": {
           "gridcolor": "#283442",
           "linecolor": "#506784",
           "ticks": "",
           "title": {
            "standoff": 15
           },
           "zerolinecolor": "#283442",
           "automargin": true,
           "zerolinewidth": 2
          },
          "yaxis": {
           "gridcolor": "#283442",
           "linecolor": "#506784",
           "ticks": "",
           "title": {
            "standoff": 15
           },
           "zerolinecolor": "#283442",
           "automargin": true,
           "zerolinewidth": 2
          },
          "scene": {
           "xaxis": {
            "backgroundcolor": "rgb(17,17,17)",
            "gridcolor": "#506784",
            "linecolor": "#506784",
            "showbackground": true,
            "ticks": "",
            "zerolinecolor": "#C8D4E3",
            "gridwidth": 2
           },
           "yaxis": {
            "backgroundcolor": "rgb(17,17,17)",
            "gridcolor": "#506784",
            "linecolor": "#506784",
            "showbackground": true,
            "ticks": "",
            "zerolinecolor": "#C8D4E3",
            "gridwidth": 2
           },
           "zaxis": {
            "backgroundcolor": "rgb(17,17,17)",
            "gridcolor": "#506784",
            "linecolor": "#506784",
            "showbackground": true,
            "ticks": "",
            "zerolinecolor": "#C8D4E3",
            "gridwidth": 2
           }
          },
          "shapedefaults": {
           "line": {
            "color": "#f2f5fa"
           }
          },
          "annotationdefaults": {
           "arrowcolor": "#f2f5fa",
           "arrowhead": 0,
           "arrowwidth": 1
          },
          "geo": {
           "bgcolor": "rgb(17,17,17)",
           "landcolor": "rgb(17,17,17)",
           "subunitcolor": "#506784",
           "showland": true,
           "showlakes": true,
           "lakecolor": "rgb(17,17,17)"
          },
          "title": {
           "x": 0.05
          },
          "updatemenudefaults": {
           "bgcolor": "#506784",
           "borderwidth": 0
          },
          "sliderdefaults": {
           "bgcolor": "#C8D4E3",
           "borderwidth": 1,
           "bordercolor": "rgb(17,17,17)",
           "tickwidth": 0
          },
          "mapbox": {
           "style": "dark"
          }
         }
        },
        "xaxis": {
         "anchor": "y",
         "domain": [
          0.0,
          1.0
         ],
         "title": {
          "text": "Flow [l/min]"
         }
        },
        "yaxis": {
         "anchor": "x",
         "domain": [
          0.0,
          1.0
         ],
         "title": {
          "text": "Head loss volute radial"
         }
        },
        "legend": {
         "title": {
          "text": "Speed"
         },
         "tracegroupgap": 0
        },
        "title": {
         "text": "Volute radial loss"
        }
       },
       "config": {
        "plotlyServerURL": "https://plot.ly"
       }
      },
      "text/html": "<div>                            <div id=\"239ac44f-b061-4fb7-8382-57a30de6f84e\" class=\"plotly-graph-div\" style=\"height:525px; width:100%;\"></div>            <script type=\"text/javascript\">                require([\"plotly\"], function(Plotly) {                    window.PLOTLYENV=window.PLOTLYENV || {};                                    if (document.getElementById(\"239ac44f-b061-4fb7-8382-57a30de6f84e\")) {                    Plotly.newPlot(                        \"239ac44f-b061-4fb7-8382-57a30de6f84e\",                        [{\"hovertemplate\":\"Speed=1200<br>Flow [l/min]=%{x}<br>Head loss volute radial=%{y}<extra></extra>\",\"legendgroup\":\"1200\",\"line\":{\"color\":\"#636efa\",\"dash\":\"solid\"},\"marker\":{\"symbol\":\"circle\"},\"mode\":\"lines\",\"name\":\"1200\",\"orientation\":\"v\",\"showlegend\":true,\"x\":[6.0,12.0,18.000000000000004,24.0,30.0,36.00000000000001,42.00000000000001,48.0,54.00000000000001,60.0,66.0,72.00000000000001,78.00000000000001,84.00000000000001,90.0,96.0,102.00000000000001,108.00000000000001,114.00000000000001,120.0,126.0,132.0,138.0,144.0,150.0,156.0,162.0,168.0,174.0,180.0,186.0,192.0,198.0,204.0,210.0,216.0,222.0,228.0,234.0,240.0,246.00000000000003,252.0,258.00000000000006,264.0,270.00000000000006,276.00000000000006,282.0,288.00000000000006,294.0,300.0,306.00000000000006,312.00000000000006,318.00000000000006,324.0,330.00000000000006,336.00000000000006,342.0,348.00000000000006,354.0,360.0,366.00000000000006,372.00000000000006,378.00000000000006,384.0,390.00000000000006,396.00000000000006,402.0,408.00000000000006,414.0,420.00000000000006,426.00000000000006,432.00000000000006,438.00000000000006,444.0,450.00000000000006,456.00000000000006,462.0,468.00000000000006,474.0,480.0,486.0,491.99999999999994,498.00000000000006,504.0,510.0,516.0,522.0,528.0,534.0,540.0,546.0,552.0,557.9999999999999,564.0,570.0,576.0,582.0000000000001,587.9999999999999,593.9999999999999,600.0,606.0,612.0000000000001,618.0,624.0,630.0,636.0,642.0,648.0,654.0,660.0,666.0,672.0,677.9999999999999,684.0,690.0,696.0,702.0000000000001,707.9999999999999,713.9999999999999,720.0,726.0,732.0000000000001,738.0,744.0,750.0,756.0,762.0,768.0,774.0,780.0,786.0000000000001,792.0,797.9999999999999,804.0,810.0,816.0,822.0000000000001,827.9999999999999,834.0,840.0,846.0,852.0000000000001,858.0,864.0,870.0,876.0,882.0,888.0,894.0,900.0,906.0000000000001,912.0,917.9999999999999,924.0,930.0,936.0,942.0000000000002,948.0,954.0,960.0,966.0000000000001,972.0,977.9999999999998,984.0000000000001,990.0,996.0000000000001,1002.0,1008.0,1014.0000000000001,1020.0,1026.0,1032.0,1038.0,1044.0,1050.0,1056.0,1062.0,1068.0,1074.0,1080.0,1086.0,1092.0,1098.0,1104.0,1110.0,1116.0,1122.0000000000002,1128.0,1134.0,1140.0,1145.9999999999998,1152.0000000000002,1158.0,1164.0000000000002,1170.0,1175.9999999999998,1182.0,1188.0,1194.0000000000002],\"xaxis\":\"x\",\"y\":[1.7558299039780518e-05,7.023319615912207e-05,0.00015802469135802467,0.0002809327846364883,0.00043895747599451287,0.0006320987654320987,0.0008603566529492454,0.0011237311385459531,0.0014222222222222219,0.0017558299039780515,0.0021245541838134426,0.0025283950617283947,0.002967352537722908,0.0034414266117969816,0.0039506172839506165,0.0044949245541838125,0.005074348422496569,0.005688888888888887,0.006338545953360768,0.007023319615912206,0.007743209876543208,0.00849821673525377,0.009288340192043892,0.010113580246913577,0.010973936899862823,0.011869410150891628,0.012799999999999997,0.013765706447187921,0.014766529492455412,0.015802469135802466,0.016873525377229075,0.01797969821673525,0.01912098765432098,0.02029739368998627,0.02150891632373113,0.02275555555555555,0.02403731138545953,0.025354183813443065,0.026706172839506156,0.028093278463648824,0.029515500685871048,0.030972839506172835,0.03246529492455418,0.03399286694101508,0.035555555555555556,0.03715336076817558,0.03878628257887516,0.040454320987654314,0.04215747599451303,0.04389574759945129,0.04566913580246913,0.047477640603566525,0.04932126200274349,0.05119999999999999,0.05311385459533606,0.055062825788751706,0.05704691358024689,0.05906611796982165,0.06112043895747598,0.06320987654320986,0.06533443072702332,0.06749410150891633,0.0696888888888889,0.071918792866941,0.07418381344307269,0.07648395061728396,0.07881920438957474,0.08118957475994511,0.08359506172839505,0.08603566529492454,0.08851138545953358,0.0910222222222222,0.09356817558299037,0.09614924554183812,0.09876543209876543,0.10141673525377229,0.10410315500685868,0.10682469135802468,0.10958134430727022,0.1123731138545953,0.11519999999999993,0.11806200274348418,0.12095912208504794,0.12389135802469133,0.1268587105624142,0.1298611796982167,0.1328987654320987,0.13597146776406033,0.13907928669410147,0.14222222222222214,0.14540027434842245,0.14861344307270227,0.15186172839506162,0.15514513031550065,0.15846364883401912,0.16181728395061723,0.16520603566529485,0.16862990397805208,0.1720888888888888,0.17558299039780517,0.17911220850480103,0.18267654320987653,0.18627599451303148,0.18991056241426604,0.1935802469135802,0.19728504801097385,0.20102496570644707,0.20479999999999995,0.20861015089163226,0.21245541838134416,0.2163358024691357,0.22025130315500674,0.22420192043895742,0.22818765432098756,0.23220850480109728,0.2362644718792866,0.24035555555555546,0.24448175582990392,0.24864307270233188,0.25283950617283946,0.2570710562414265,0.26133772290809326,0.26563950617283943,0.2699764060356652,0.27434842249657065,0.2787555555555555,0.28319780521261995,0.287675171467764,0.29218765432098753,0.2967352537722907,0.3013179698216734,0.30593580246913565,0.3105887517146775,0.31527681755829895,0.3199999999999999,0.3247582990397803,0.32955171467764044,0.3343802469135801,0.33924389574759933,0.3441426611796981,0.34907654320987647,0.3540455418381343,0.35904965706447184,0.3640888888888888,0.36916323731138545,0.37427270233196147,0.37941728395061713,0.3845969821673525,0.3898117969821672,0.3950617283950616,0.4003467764060356,0.40566694101508904,0.411022222222222,0.41641262002743473,0.4218381344307269,0.4272987654320985,0.4327945130315501,0.4383253772290809,0.44389135802469126,0.4494924554183812,0.45512866941015073,0.4607999999999997,0.46650644718792844,0.47224801097393676,0.4780246913580245,0.4838364883401918,0.48968340192043885,0.4955654320987653,0.5014825788751713,0.5074348422496568,0.5134222222222221,0.5194447187928668,0.525502331961591,0.5315950617283948,0.5377229080932784,0.5438858710562413,0.5500839506172838,0.5563171467764059,0.5625854595336074,0.5688888888888886,0.5752274348422496,0.5816010973936898,0.5880098765432097,0.5944537722908091,0.600932784636488,0.6074469135802468,0.6139961591220849,0.6205805212620026,0.6271999999999998,0.6338545953360765,0.6405443072702329,0.647269135802469,0.6540290809327844,0.6608241426611794,0.6676543209876542,0.6745196159122083,0.6814200274348419,0.6883555555555554,0.6953262002743483],\"yaxis\":\"y\",\"type\":\"scatter\"},{\"hovertemplate\":\"Speed=1800<br>Flow [l/min]=%{x}<br>Head loss volute radial=%{y}<extra></extra>\",\"legendgroup\":\"1800\",\"line\":{\"color\":\"#EF553B\",\"dash\":\"solid\"},\"marker\":{\"symbol\":\"circle\"},\"mode\":\"lines\",\"name\":\"1800\",\"orientation\":\"v\",\"showlegend\":true,\"x\":[6.0,12.0,18.000000000000004,24.0,30.0,36.00000000000001,42.00000000000001,48.0,54.00000000000001,60.0,66.0,72.00000000000001,78.00000000000001,84.00000000000001,90.0,96.0,102.00000000000001,108.00000000000001,114.00000000000001,120.0,126.0,132.0,138.0,144.0,150.0,156.0,162.0,168.0,174.0,180.0,186.0,192.0,198.0,204.0,210.0,216.0,222.0,228.0,234.0,240.0,246.00000000000003,252.0,258.00000000000006,264.0,270.00000000000006,276.00000000000006,282.0,288.00000000000006,294.0,300.0,306.00000000000006,312.00000000000006,318.00000000000006,324.0,330.00000000000006,336.00000000000006,342.0,348.00000000000006,354.0,360.0,366.00000000000006,372.00000000000006,378.00000000000006,384.0,390.00000000000006,396.00000000000006,402.0,408.00000000000006,414.0,420.00000000000006,426.00000000000006,432.00000000000006,438.00000000000006,444.0,450.00000000000006,456.00000000000006,462.0,468.00000000000006,474.0,480.0,486.0,491.99999999999994,498.00000000000006,504.0,510.0,516.0,522.0,528.0,534.0,540.0,546.0,552.0,557.9999999999999,564.0,570.0,576.0,582.0000000000001,587.9999999999999,593.9999999999999,600.0,606.0,612.0000000000001,618.0,624.0,630.0,636.0,642.0,648.0,654.0,660.0,666.0,672.0,677.9999999999999,684.0,690.0,696.0,702.0000000000001,707.9999999999999,713.9999999999999,720.0,726.0,732.0000000000001,738.0,744.0,750.0,756.0,762.0,768.0,774.0,780.0,786.0000000000001,792.0,797.9999999999999,804.0,810.0,816.0,822.0000000000001,827.9999999999999,834.0,840.0,846.0,852.0000000000001,858.0,864.0,870.0,876.0,882.0,888.0,894.0,900.0,906.0000000000001,912.0,917.9999999999999,924.0,930.0,936.0,942.0000000000002,948.0,954.0,960.0,966.0000000000001,972.0,977.9999999999998,984.0000000000001,990.0,996.0000000000001,1002.0,1008.0,1014.0000000000001,1020.0,1026.0,1032.0,1038.0,1044.0,1050.0,1056.0,1062.0,1068.0,1074.0,1080.0,1086.0,1092.0,1098.0,1104.0,1110.0,1116.0,1122.0000000000002,1128.0,1134.0,1140.0,1145.9999999999998,1152.0000000000002,1158.0,1164.0000000000002,1170.0,1175.9999999999998,1182.0,1188.0,1194.0000000000002],\"xaxis\":\"x\",\"y\":[1.7558299039780518e-05,7.023319615912207e-05,0.00015802469135802467,0.0002809327846364883,0.00043895747599451287,0.0006320987654320987,0.0008603566529492454,0.0011237311385459531,0.0014222222222222219,0.0017558299039780515,0.0021245541838134426,0.0025283950617283947,0.002967352537722908,0.0034414266117969816,0.0039506172839506165,0.0044949245541838125,0.005074348422496569,0.005688888888888887,0.006338545953360768,0.007023319615912206,0.007743209876543208,0.00849821673525377,0.009288340192043892,0.010113580246913577,0.010973936899862823,0.011869410150891628,0.012799999999999997,0.013765706447187921,0.014766529492455412,0.015802469135802466,0.016873525377229075,0.01797969821673525,0.01912098765432098,0.02029739368998627,0.02150891632373113,0.02275555555555555,0.02403731138545953,0.025354183813443065,0.026706172839506156,0.028093278463648824,0.029515500685871048,0.030972839506172835,0.03246529492455418,0.03399286694101508,0.035555555555555556,0.03715336076817558,0.03878628257887516,0.040454320987654314,0.04215747599451303,0.04389574759945129,0.04566913580246913,0.047477640603566525,0.04932126200274349,0.05119999999999999,0.05311385459533606,0.055062825788751706,0.05704691358024689,0.05906611796982165,0.06112043895747598,0.06320987654320986,0.06533443072702332,0.06749410150891633,0.0696888888888889,0.071918792866941,0.07418381344307269,0.07648395061728396,0.07881920438957474,0.08118957475994511,0.08359506172839505,0.08603566529492454,0.08851138545953358,0.0910222222222222,0.09356817558299037,0.09614924554183812,0.09876543209876543,0.10141673525377229,0.10410315500685868,0.10682469135802468,0.10958134430727022,0.1123731138545953,0.11519999999999993,0.11806200274348418,0.12095912208504794,0.12389135802469133,0.1268587105624142,0.1298611796982167,0.1328987654320987,0.13597146776406033,0.13907928669410147,0.14222222222222214,0.14540027434842245,0.14861344307270227,0.15186172839506162,0.15514513031550065,0.15846364883401912,0.16181728395061723,0.16520603566529485,0.16862990397805208,0.1720888888888888,0.17558299039780517,0.17911220850480103,0.18267654320987653,0.18627599451303148,0.18991056241426604,0.1935802469135802,0.19728504801097385,0.20102496570644707,0.20479999999999995,0.20861015089163226,0.21245541838134416,0.2163358024691357,0.22025130315500674,0.22420192043895742,0.22818765432098756,0.23220850480109728,0.2362644718792866,0.24035555555555546,0.24448175582990392,0.24864307270233188,0.25283950617283946,0.2570710562414265,0.26133772290809326,0.26563950617283943,0.2699764060356652,0.27434842249657065,0.2787555555555555,0.28319780521261995,0.287675171467764,0.29218765432098753,0.2967352537722907,0.3013179698216734,0.30593580246913565,0.3105887517146775,0.31527681755829895,0.3199999999999999,0.3247582990397803,0.32955171467764044,0.3343802469135801,0.33924389574759933,0.3441426611796981,0.34907654320987647,0.3540455418381343,0.35904965706447184,0.3640888888888888,0.36916323731138545,0.37427270233196147,0.37941728395061713,0.3845969821673525,0.3898117969821672,0.3950617283950616,0.4003467764060356,0.40566694101508904,0.411022222222222,0.41641262002743473,0.4218381344307269,0.4272987654320985,0.4327945130315501,0.4383253772290809,0.44389135802469126,0.4494924554183812,0.45512866941015073,0.4607999999999997,0.46650644718792844,0.47224801097393676,0.4780246913580245,0.4838364883401918,0.48968340192043885,0.4955654320987653,0.5014825788751713,0.5074348422496568,0.5134222222222221,0.5194447187928668,0.525502331961591,0.5315950617283948,0.5377229080932784,0.5438858710562413,0.5500839506172838,0.5563171467764059,0.5625854595336074,0.5688888888888886,0.5752274348422496,0.5816010973936898,0.5880098765432097,0.5944537722908091,0.600932784636488,0.6074469135802468,0.6139961591220849,0.6205805212620026,0.6271999999999998,0.6338545953360765,0.6405443072702329,0.647269135802469,0.6540290809327844,0.6608241426611794,0.6676543209876542,0.6745196159122083,0.6814200274348419,0.6883555555555554,0.6953262002743483],\"yaxis\":\"y\",\"type\":\"scatter\"}],                        {\"template\":{\"data\":{\"histogram2dcontour\":[{\"type\":\"histogram2dcontour\",\"colorbar\":{\"outlinewidth\":0,\"ticks\":\"\"},\"colorscale\":[[0.0,\"#0d0887\"],[0.1111111111111111,\"#46039f\"],[0.2222222222222222,\"#7201a8\"],[0.3333333333333333,\"#9c179e\"],[0.4444444444444444,\"#bd3786\"],[0.5555555555555556,\"#d8576b\"],[0.6666666666666666,\"#ed7953\"],[0.7777777777777778,\"#fb9f3a\"],[0.8888888888888888,\"#fdca26\"],[1.0,\"#f0f921\"]]}],\"choropleth\":[{\"type\":\"choropleth\",\"colorbar\":{\"outlinewidth\":0,\"ticks\":\"\"}}],\"histogram2d\":[{\"type\":\"histogram2d\",\"colorbar\":{\"outlinewidth\":0,\"ticks\":\"\"},\"colorscale\":[[0.0,\"#0d0887\"],[0.1111111111111111,\"#46039f\"],[0.2222222222222222,\"#7201a8\"],[0.3333333333333333,\"#9c179e\"],[0.4444444444444444,\"#bd3786\"],[0.5555555555555556,\"#d8576b\"],[0.6666666666666666,\"#ed7953\"],[0.7777777777777778,\"#fb9f3a\"],[0.8888888888888888,\"#fdca26\"],[1.0,\"#f0f921\"]]}],\"heatmap\":[{\"type\":\"heatmap\",\"colorbar\":{\"outlinewidth\":0,\"ticks\":\"\"},\"colorscale\":[[0.0,\"#0d0887\"],[0.1111111111111111,\"#46039f\"],[0.2222222222222222,\"#7201a8\"],[0.3333333333333333,\"#9c179e\"],[0.4444444444444444,\"#bd3786\"],[0.5555555555555556,\"#d8576b\"],[0.6666666666666666,\"#ed7953\"],[0.7777777777777778,\"#fb9f3a\"],[0.8888888888888888,\"#fdca26\"],[1.0,\"#f0f921\"]]}],\"heatmapgl\":[{\"type\":\"heatmapgl\",\"colorbar\":{\"outlinewidth\":0,\"ticks\":\"\"},\"colorscale\":[[0.0,\"#0d0887\"],[0.1111111111111111,\"#46039f\"],[0.2222222222222222,\"#7201a8\"],[0.3333333333333333,\"#9c179e\"],[0.4444444444444444,\"#bd3786\"],[0.5555555555555556,\"#d8576b\"],[0.6666666666666666,\"#ed7953\"],[0.7777777777777778,\"#fb9f3a\"],[0.8888888888888888,\"#fdca26\"],[1.0,\"#f0f921\"]]}],\"contourcarpet\":[{\"type\":\"contourcarpet\",\"colorbar\":{\"outlinewidth\":0,\"ticks\":\"\"}}],\"contour\":[{\"type\":\"contour\",\"colorbar\":{\"outlinewidth\":0,\"ticks\":\"\"},\"colorscale\":[[0.0,\"#0d0887\"],[0.1111111111111111,\"#46039f\"],[0.2222222222222222,\"#7201a8\"],[0.3333333333333333,\"#9c179e\"],[0.4444444444444444,\"#bd3786\"],[0.5555555555555556,\"#d8576b\"],[0.6666666666666666,\"#ed7953\"],[0.7777777777777778,\"#fb9f3a\"],[0.8888888888888888,\"#fdca26\"],[1.0,\"#f0f921\"]]}],\"surface\":[{\"type\":\"surface\",\"colorbar\":{\"outlinewidth\":0,\"ticks\":\"\"},\"colorscale\":[[0.0,\"#0d0887\"],[0.1111111111111111,\"#46039f\"],[0.2222222222222222,\"#7201a8\"],[0.3333333333333333,\"#9c179e\"],[0.4444444444444444,\"#bd3786\"],[0.5555555555555556,\"#d8576b\"],[0.6666666666666666,\"#ed7953\"],[0.7777777777777778,\"#fb9f3a\"],[0.8888888888888888,\"#fdca26\"],[1.0,\"#f0f921\"]]}],\"mesh3d\":[{\"type\":\"mesh3d\",\"colorbar\":{\"outlinewidth\":0,\"ticks\":\"\"}}],\"scatter\":[{\"marker\":{\"line\":{\"color\":\"#283442\"}},\"type\":\"scatter\"}],\"parcoords\":[{\"type\":\"parcoords\",\"line\":{\"colorbar\":{\"outlinewidth\":0,\"ticks\":\"\"}}}],\"scatterpolargl\":[{\"type\":\"scatterpolargl\",\"marker\":{\"colorbar\":{\"outlinewidth\":0,\"ticks\":\"\"}}}],\"bar\":[{\"error_x\":{\"color\":\"#f2f5fa\"},\"error_y\":{\"color\":\"#f2f5fa\"},\"marker\":{\"line\":{\"color\":\"rgb(17,17,17)\",\"width\":0.5},\"pattern\":{\"fillmode\":\"overlay\",\"size\":10,\"solidity\":0.2}},\"type\":\"bar\"}],\"scattergeo\":[{\"type\":\"scattergeo\",\"marker\":{\"colorbar\":{\"outlinewidth\":0,\"ticks\":\"\"}}}],\"scatterpolar\":[{\"type\":\"scatterpolar\",\"marker\":{\"colorbar\":{\"outlinewidth\":0,\"ticks\":\"\"}}}],\"histogram\":[{\"marker\":{\"pattern\":{\"fillmode\":\"overlay\",\"size\":10,\"solidity\":0.2}},\"type\":\"histogram\"}],\"scattergl\":[{\"marker\":{\"line\":{\"color\":\"#283442\"}},\"type\":\"scattergl\"}],\"scatter3d\":[{\"type\":\"scatter3d\",\"line\":{\"colorbar\":{\"outlinewidth\":0,\"ticks\":\"\"}},\"marker\":{\"colorbar\":{\"outlinewidth\":0,\"ticks\":\"\"}}}],\"scattermapbox\":[{\"type\":\"scattermapbox\",\"marker\":{\"colorbar\":{\"outlinewidth\":0,\"ticks\":\"\"}}}],\"scatterternary\":[{\"type\":\"scatterternary\",\"marker\":{\"colorbar\":{\"outlinewidth\":0,\"ticks\":\"\"}}}],\"scattercarpet\":[{\"type\":\"scattercarpet\",\"marker\":{\"colorbar\":{\"outlinewidth\":0,\"ticks\":\"\"}}}],\"carpet\":[{\"aaxis\":{\"endlinecolor\":\"#A2B1C6\",\"gridcolor\":\"#506784\",\"linecolor\":\"#506784\",\"minorgridcolor\":\"#506784\",\"startlinecolor\":\"#A2B1C6\"},\"baxis\":{\"endlinecolor\":\"#A2B1C6\",\"gridcolor\":\"#506784\",\"linecolor\":\"#506784\",\"minorgridcolor\":\"#506784\",\"startlinecolor\":\"#A2B1C6\"},\"type\":\"carpet\"}],\"table\":[{\"cells\":{\"fill\":{\"color\":\"#506784\"},\"line\":{\"color\":\"rgb(17,17,17)\"}},\"header\":{\"fill\":{\"color\":\"#2a3f5f\"},\"line\":{\"color\":\"rgb(17,17,17)\"}},\"type\":\"table\"}],\"barpolar\":[{\"marker\":{\"line\":{\"color\":\"rgb(17,17,17)\",\"width\":0.5},\"pattern\":{\"fillmode\":\"overlay\",\"size\":10,\"solidity\":0.2}},\"type\":\"barpolar\"}],\"pie\":[{\"automargin\":true,\"type\":\"pie\"}]},\"layout\":{\"autotypenumbers\":\"strict\",\"colorway\":[\"#636efa\",\"#EF553B\",\"#00cc96\",\"#ab63fa\",\"#FFA15A\",\"#19d3f3\",\"#FF6692\",\"#B6E880\",\"#FF97FF\",\"#FECB52\"],\"font\":{\"color\":\"#f2f5fa\"},\"hovermode\":\"closest\",\"hoverlabel\":{\"align\":\"left\"},\"paper_bgcolor\":\"rgb(17,17,17)\",\"plot_bgcolor\":\"rgb(17,17,17)\",\"polar\":{\"bgcolor\":\"rgb(17,17,17)\",\"angularaxis\":{\"gridcolor\":\"#506784\",\"linecolor\":\"#506784\",\"ticks\":\"\"},\"radialaxis\":{\"gridcolor\":\"#506784\",\"linecolor\":\"#506784\",\"ticks\":\"\"}},\"ternary\":{\"bgcolor\":\"rgb(17,17,17)\",\"aaxis\":{\"gridcolor\":\"#506784\",\"linecolor\":\"#506784\",\"ticks\":\"\"},\"baxis\":{\"gridcolor\":\"#506784\",\"linecolor\":\"#506784\",\"ticks\":\"\"},\"caxis\":{\"gridcolor\":\"#506784\",\"linecolor\":\"#506784\",\"ticks\":\"\"}},\"coloraxis\":{\"colorbar\":{\"outlinewidth\":0,\"ticks\":\"\"}},\"colorscale\":{\"sequential\":[[0.0,\"#0d0887\"],[0.1111111111111111,\"#46039f\"],[0.2222222222222222,\"#7201a8\"],[0.3333333333333333,\"#9c179e\"],[0.4444444444444444,\"#bd3786\"],[0.5555555555555556,\"#d8576b\"],[0.6666666666666666,\"#ed7953\"],[0.7777777777777778,\"#fb9f3a\"],[0.8888888888888888,\"#fdca26\"],[1.0,\"#f0f921\"]],\"sequentialminus\":[[0.0,\"#0d0887\"],[0.1111111111111111,\"#46039f\"],[0.2222222222222222,\"#7201a8\"],[0.3333333333333333,\"#9c179e\"],[0.4444444444444444,\"#bd3786\"],[0.5555555555555556,\"#d8576b\"],[0.6666666666666666,\"#ed7953\"],[0.7777777777777778,\"#fb9f3a\"],[0.8888888888888888,\"#fdca26\"],[1.0,\"#f0f921\"]],\"diverging\":[[0,\"#8e0152\"],[0.1,\"#c51b7d\"],[0.2,\"#de77ae\"],[0.3,\"#f1b6da\"],[0.4,\"#fde0ef\"],[0.5,\"#f7f7f7\"],[0.6,\"#e6f5d0\"],[0.7,\"#b8e186\"],[0.8,\"#7fbc41\"],[0.9,\"#4d9221\"],[1,\"#276419\"]]},\"xaxis\":{\"gridcolor\":\"#283442\",\"linecolor\":\"#506784\",\"ticks\":\"\",\"title\":{\"standoff\":15},\"zerolinecolor\":\"#283442\",\"automargin\":true,\"zerolinewidth\":2},\"yaxis\":{\"gridcolor\":\"#283442\",\"linecolor\":\"#506784\",\"ticks\":\"\",\"title\":{\"standoff\":15},\"zerolinecolor\":\"#283442\",\"automargin\":true,\"zerolinewidth\":2},\"scene\":{\"xaxis\":{\"backgroundcolor\":\"rgb(17,17,17)\",\"gridcolor\":\"#506784\",\"linecolor\":\"#506784\",\"showbackground\":true,\"ticks\":\"\",\"zerolinecolor\":\"#C8D4E3\",\"gridwidth\":2},\"yaxis\":{\"backgroundcolor\":\"rgb(17,17,17)\",\"gridcolor\":\"#506784\",\"linecolor\":\"#506784\",\"showbackground\":true,\"ticks\":\"\",\"zerolinecolor\":\"#C8D4E3\",\"gridwidth\":2},\"zaxis\":{\"backgroundcolor\":\"rgb(17,17,17)\",\"gridcolor\":\"#506784\",\"linecolor\":\"#506784\",\"showbackground\":true,\"ticks\":\"\",\"zerolinecolor\":\"#C8D4E3\",\"gridwidth\":2}},\"shapedefaults\":{\"line\":{\"color\":\"#f2f5fa\"}},\"annotationdefaults\":{\"arrowcolor\":\"#f2f5fa\",\"arrowhead\":0,\"arrowwidth\":1},\"geo\":{\"bgcolor\":\"rgb(17,17,17)\",\"landcolor\":\"rgb(17,17,17)\",\"subunitcolor\":\"#506784\",\"showland\":true,\"showlakes\":true,\"lakecolor\":\"rgb(17,17,17)\"},\"title\":{\"x\":0.05},\"updatemenudefaults\":{\"bgcolor\":\"#506784\",\"borderwidth\":0},\"sliderdefaults\":{\"bgcolor\":\"#C8D4E3\",\"borderwidth\":1,\"bordercolor\":\"rgb(17,17,17)\",\"tickwidth\":0},\"mapbox\":{\"style\":\"dark\"}}},\"xaxis\":{\"anchor\":\"y\",\"domain\":[0.0,1.0],\"title\":{\"text\":\"Flow [l/min]\"}},\"yaxis\":{\"anchor\":\"x\",\"domain\":[0.0,1.0],\"title\":{\"text\":\"Head loss volute radial\"}},\"legend\":{\"title\":{\"text\":\"Speed\"},\"tracegroupgap\":0},\"title\":{\"text\":\"Volute radial loss\"}},                        {\"responsive\": true}                    ).then(function(){\n                            \nvar gd = document.getElementById('239ac44f-b061-4fb7-8382-57a30de6f84e');\nvar x = new MutationObserver(function (mutations, observer) {{\n        var display = window.getComputedStyle(gd).display;\n        if (!display || display === 'none') {{\n            console.log([gd, 'removed!']);\n            Plotly.purge(gd);\n            observer.disconnect();\n        }}\n}});\n\n// Listen for the removal of the full notebook cells\nvar notebookContainer = gd.closest('#notebook-container');\nif (notebookContainer) {{\n    x.observe(notebookContainer, {childList: true});\n}}\n\n// Listen for the clearing of the current output cell\nvar outputEl = gd.closest('.output');\nif (outputEl) {{\n    x.observe(outputEl, {childList: true});\n}}\n\n                        })                };                });            </script>        </div>"
     },
     "metadata": {},
     "output_type": "display_data"
    },
    {
     "data": {
      "application/vnd.plotly.v1+json": {
       "data": [
        {
         "hovertemplate": "Speed=1200<br>Flow [l/min]=%{x}<br>Head loss volute=%{y}<extra></extra>",
         "legendgroup": "1200",
         "line": {
          "color": "#636efa",
          "dash": "solid"
         },
         "marker": {
          "symbol": "circle"
         },
         "mode": "lines",
         "name": "1200",
         "orientation": "v",
         "showlegend": true,
         "x": [
          6.0,
          12.0,
          18.000000000000004,
          24.0,
          30.0,
          36.00000000000001,
          42.00000000000001,
          48.0,
          54.00000000000001,
          60.0,
          66.0,
          72.00000000000001,
          78.00000000000001,
          84.00000000000001,
          90.0,
          96.0,
          102.00000000000001,
          108.00000000000001,
          114.00000000000001,
          120.0,
          126.0,
          132.0,
          138.0,
          144.0,
          150.0,
          156.0,
          162.0,
          168.0,
          174.0,
          180.0,
          186.0,
          192.0,
          198.0,
          204.0,
          210.0,
          216.0,
          222.0,
          228.0,
          234.0,
          240.0,
          246.00000000000003,
          252.0,
          258.00000000000006,
          264.0,
          270.00000000000006,
          276.00000000000006,
          282.0,
          288.00000000000006,
          294.0,
          300.0,
          306.00000000000006,
          312.00000000000006,
          318.00000000000006,
          324.0,
          330.00000000000006,
          336.00000000000006,
          342.0,
          348.00000000000006,
          354.0,
          360.0,
          366.00000000000006,
          372.00000000000006,
          378.00000000000006,
          384.0,
          390.00000000000006,
          396.00000000000006,
          402.0,
          408.00000000000006,
          414.0,
          420.00000000000006,
          426.00000000000006,
          432.00000000000006,
          438.00000000000006,
          444.0,
          450.00000000000006,
          456.00000000000006,
          462.0,
          468.00000000000006,
          474.0,
          480.0,
          486.0,
          491.99999999999994,
          498.00000000000006,
          504.0,
          510.0,
          516.0,
          522.0,
          528.0,
          534.0,
          540.0,
          546.0,
          552.0,
          557.9999999999999,
          564.0,
          570.0,
          576.0,
          582.0000000000001,
          587.9999999999999,
          593.9999999999999,
          600.0,
          606.0,
          612.0000000000001,
          618.0,
          624.0,
          630.0,
          636.0,
          642.0,
          648.0,
          654.0,
          660.0,
          666.0,
          672.0,
          677.9999999999999,
          684.0,
          690.0,
          696.0,
          702.0000000000001,
          707.9999999999999,
          713.9999999999999,
          720.0,
          726.0,
          732.0000000000001,
          738.0,
          744.0,
          750.0,
          756.0,
          762.0,
          768.0,
          774.0,
          780.0,
          786.0000000000001,
          792.0,
          797.9999999999999,
          804.0,
          810.0,
          816.0,
          822.0000000000001,
          827.9999999999999,
          834.0,
          840.0,
          846.0,
          852.0000000000001,
          858.0,
          864.0,
          870.0,
          876.0,
          882.0,
          888.0,
          894.0,
          900.0,
          906.0000000000001,
          912.0,
          917.9999999999999,
          924.0,
          930.0,
          936.0,
          942.0000000000002,
          948.0,
          954.0,
          960.0,
          966.0000000000001,
          972.0,
          977.9999999999998,
          984.0000000000001,
          990.0,
          996.0000000000001,
          1002.0,
          1008.0,
          1014.0000000000001,
          1020.0,
          1026.0,
          1032.0,
          1038.0,
          1044.0,
          1050.0,
          1056.0,
          1062.0,
          1068.0,
          1074.0,
          1080.0,
          1086.0,
          1092.0,
          1098.0,
          1104.0,
          1110.0,
          1116.0,
          1122.0000000000002,
          1128.0,
          1134.0,
          1140.0,
          1145.9999999999998,
          1152.0000000000002,
          1158.0,
          1164.0000000000002,
          1170.0,
          1175.9999999999998,
          1182.0,
          1188.0,
          1194.0000000000002
         ],
         "xaxis": "x",
         "y": [
          3.20809525801112,
          3.190482179098015,
          3.1721608530278096,
          3.153131279800502,
          3.1333934594160966,
          3.1129473918745902,
          3.0917930771759847,
          3.069930515320275,
          3.047359706307469,
          3.0240806501375608,
          3.0000933468105524,
          2.975397796326443,
          2.949993998685235,
          2.923881953886924,
          2.897061661931515,
          2.8695331228190044,
          2.841296336549395,
          2.812351303122682,
          2.78269802253887,
          2.752336494797958,
          2.721266719899947,
          2.689488697844834,
          2.657002428632621,
          2.6238079122633082,
          2.589905148736893,
          2.55529413805338,
          2.5199748802127653,
          2.4839473752150503,
          2.4472116230602343,
          2.40976762374832,
          2.3716153772793036,
          2.332754883653187,
          2.2931861428699696,
          2.2529091549296534,
          2.2119239198322354,
          2.170230437577716,
          2.1278287081660983,
          2.0847187315973805,
          2.0409005078715587,
          1.9963740369886405,
          1.9511393189486204,
          1.9051963537515002,
          1.8585451413972784,
          1.811185681885958,
          1.7631179752175363,
          1.714342021392014,
          1.6648578204093913,
          1.614665372269669,
          1.563764676972846,
          1.5121557345189236,
          1.4598385449078985,
          1.406813108139775,
          1.3530794242145499,
          1.2986374931322253,
          1.2434873148928007,
          1.1876288894962734,
          1.1310622169426476,
          1.0737872972319216,
          1.0158041303640954,
          0.9571127163391665,
          0.8977130551571387,
          0.8376051468180111,
          0.7767889913217823,
          0.7152645886684538,
          0.6530319388580244,
          0.5900910418904954,
          0.5264418977658655,
          0.4620845064841341,
          0.39701886804530356,
          0.3312449824493711,
          0.26476284969634084,
          0.1975724697862086,
          0.12967384271897656,
          0.061066968494643215,
          -0.00824815288678885,
          -0.07827152142532337,
          -0.1490031371209563,
          -0.22044299997369113,
          -0.29259110998352555,
          -0.3654474671504601,
          -0.43901207147449534,
          -0.5132849229556306,
          -0.5882660215938675,
          -0.6639553673892038,
          -0.740352960341642,
          -0.8174588004511782,
          -0.8952728877178159,
          -0.9737952221415558,
          -1.0530258037223925,
          -1.1329646324603317,
          -1.213611708355372,
          -1.2949670314075108,
          -1.3770306016167493,
          -1.4598024189830923,
          -1.5432824835065322,
          -1.627470795187073,
          -1.7123673540247137,
          -1.7979721600194571,
          -1.8842852131712997,
          -1.9713065134802414,
          -2.059036060946285,
          -2.147473855569429,
          -2.2366198973496734,
          -2.326474186287016,
          -2.417036722381462,
          -2.508307505633007,
          -2.600286536041652,
          -2.6929738136073973,
          -2.786369338330245,
          -2.8804731102101893,
          -2.9752851292472378,
          -3.070805395441386,
          -3.1670339087926322,
          -3.2639706693009813,
          -3.3616156769664287,
          -3.459968931788979,
          -3.559030433768627,
          -3.6588001829053782,
          -3.7592781791992262,
          -3.8604644226501788,
          -3.9623589132582278,
          -4.064961651023382,
          -4.168272635945631,
          -4.272291868024984,
          -4.377019347261438,
          -4.482455073654989,
          -4.588599047205642,
          -4.695451267913396,
          -4.8030117357782505,
          -4.911280450800203,
          -5.02025741297926,
          -5.129942622315414,
          -5.240336078808669,
          -5.351437782459025,
          -5.463247733266482,
          -5.575765931231038,
          -5.6889923763526955,
          -5.802927068631453,
          -5.917570008067312,
          -6.03292119466027,
          -6.148980628410327,
          -6.265748309317488,
          -6.383224237381746,
          -6.501408412603104,
          -6.620300834981567,
          -6.7399015045171256,
          -6.860210421209785,
          -6.98122758505955,
          -7.102952996066411,
          -7.22538665423037,
          -7.348528559551437,
          -7.472378712029597,
          -7.596937111664861,
          -7.722203758457224,
          -7.848178652406687,
          -7.974861793513252,
          -8.10225318177692,
          -8.230352817197684,
          -8.35916069977555,
          -8.488676829510512,
          -8.61890120640258,
          -8.749833830451747,
          -8.88147470165801,
          -9.013823820021383,
          -9.146881185541849,
          -9.280646798219417,
          -9.415120658054084,
          -9.550302765045851,
          -9.686193119194728,
          -9.822791720500698,
          -9.960098568963764,
          -10.098113664583932,
          -10.236837007361206,
          -10.376268597295576,
          -10.51640843438705,
          -10.657256518635624,
          -10.798812850041294,
          -10.941077428604066,
          -11.084050254323937,
          -11.22773132720091,
          -11.372120647234992,
          -11.517218214426162,
          -11.663024028774434,
          -11.809538090279812,
          -11.956760398942286,
          -12.104690954761864,
          -12.253329757738543,
          -12.402676807872318,
          -12.552732105163194,
          -12.703495649611169,
          -12.854967441216248,
          -13.007147479978432,
          -13.160035765897705,
          -13.313632298974085,
          -13.467937079207568,
          -13.622950106598141,
          -13.778671381145822,
          -13.935100902850605,
          -14.092238671712485
         ],
         "yaxis": "y",
         "type": "scatter"
        },
        {
         "hovertemplate": "Speed=1800<br>Flow [l/min]=%{x}<br>Head loss volute=%{y}<extra></extra>",
         "legendgroup": "1800",
         "line": {
          "color": "#EF553B",
          "dash": "solid"
         },
         "marker": {
          "symbol": "circle"
         },
         "mode": "lines",
         "name": "1800",
         "orientation": "v",
         "showlegend": true,
         "x": [
          6.0,
          12.0,
          18.000000000000004,
          24.0,
          30.0,
          36.00000000000001,
          42.00000000000001,
          48.0,
          54.00000000000001,
          60.0,
          66.0,
          72.00000000000001,
          78.00000000000001,
          84.00000000000001,
          90.0,
          96.0,
          102.00000000000001,
          108.00000000000001,
          114.00000000000001,
          120.0,
          126.0,
          132.0,
          138.0,
          144.0,
          150.0,
          156.0,
          162.0,
          168.0,
          174.0,
          180.0,
          186.0,
          192.0,
          198.0,
          204.0,
          210.0,
          216.0,
          222.0,
          228.0,
          234.0,
          240.0,
          246.00000000000003,
          252.0,
          258.00000000000006,
          264.0,
          270.00000000000006,
          276.00000000000006,
          282.0,
          288.00000000000006,
          294.0,
          300.0,
          306.00000000000006,
          312.00000000000006,
          318.00000000000006,
          324.0,
          330.00000000000006,
          336.00000000000006,
          342.0,
          348.00000000000006,
          354.0,
          360.0,
          366.00000000000006,
          372.00000000000006,
          378.00000000000006,
          384.0,
          390.00000000000006,
          396.00000000000006,
          402.0,
          408.00000000000006,
          414.0,
          420.00000000000006,
          426.00000000000006,
          432.00000000000006,
          438.00000000000006,
          444.0,
          450.00000000000006,
          456.00000000000006,
          462.0,
          468.00000000000006,
          474.0,
          480.0,
          486.0,
          491.99999999999994,
          498.00000000000006,
          504.0,
          510.0,
          516.0,
          522.0,
          528.0,
          534.0,
          540.0,
          546.0,
          552.0,
          557.9999999999999,
          564.0,
          570.0,
          576.0,
          582.0000000000001,
          587.9999999999999,
          593.9999999999999,
          600.0,
          606.0,
          612.0000000000001,
          618.0,
          624.0,
          630.0,
          636.0,
          642.0,
          648.0,
          654.0,
          660.0,
          666.0,
          672.0,
          677.9999999999999,
          684.0,
          690.0,
          696.0,
          702.0000000000001,
          707.9999999999999,
          713.9999999999999,
          720.0,
          726.0,
          732.0000000000001,
          738.0,
          744.0,
          750.0,
          756.0,
          762.0,
          768.0,
          774.0,
          780.0,
          786.0000000000001,
          792.0,
          797.9999999999999,
          804.0,
          810.0,
          816.0,
          822.0000000000001,
          827.9999999999999,
          834.0,
          840.0,
          846.0,
          852.0000000000001,
          858.0,
          864.0,
          870.0,
          876.0,
          882.0,
          888.0,
          894.0,
          900.0,
          906.0000000000001,
          912.0,
          917.9999999999999,
          924.0,
          930.0,
          936.0,
          942.0000000000002,
          948.0,
          954.0,
          960.0,
          966.0000000000001,
          972.0,
          977.9999999999998,
          984.0000000000001,
          990.0,
          996.0000000000001,
          1002.0,
          1008.0,
          1014.0000000000001,
          1020.0,
          1026.0,
          1032.0,
          1038.0,
          1044.0,
          1050.0,
          1056.0,
          1062.0,
          1068.0,
          1074.0,
          1080.0,
          1086.0,
          1092.0,
          1098.0,
          1104.0,
          1110.0,
          1116.0,
          1122.0000000000002,
          1128.0,
          1134.0,
          1140.0,
          1145.9999999999998,
          1152.0000000000002,
          1158.0,
          1164.0000000000002,
          1170.0,
          1175.9999999999998,
          1182.0,
          1188.0,
          1194.0000000000002
         ],
         "xaxis": "x",
         "y": [
          7.231070016131296,
          7.205181583129466,
          7.17858490297053,
          7.151279975654496,
          7.123266801181364,
          7.09454537955113,
          7.065115710763796,
          7.034977794819364,
          7.004131631717828,
          6.972577221459194,
          6.940314564043455,
          6.9073436594706195,
          6.873664507740682,
          6.839277108853648,
          6.8041814628095105,
          6.76837756960827,
          6.731865429249934,
          6.694645041734498,
          6.656716407061957,
          6.618079525232319,
          6.57873439624558,
          6.53868102010174,
          6.497919396800798,
          6.456449526342758,
          6.414271408727619,
          6.371385043955376,
          6.327790432026034,
          6.283487572939591,
          6.238476466696049,
          6.192757113295405,
          6.1463295127376645,
          6.0991936650228205,
          6.051349570150877,
          6.002797228121832,
          5.953536638935688,
          5.903567802592441,
          5.852890719092095,
          5.801505388434649,
          5.749411810620103,
          5.696609985648456,
          5.643099913519708,
          5.588881594233862,
          5.533955027790916,
          5.478320214190861,
          5.421977153433715,
          5.364925845519466,
          5.307166290448117,
          5.2486984882196674,
          5.189522438834117,
          5.129638142291467,
          5.069045598591716,
          5.007744807734862,
          4.945735769720912,
          4.8830184845498605,
          4.819592952221706,
          4.7554591727364555,
          4.690617146094102,
          4.6250668722946475,
          4.5588083513380955,
          4.491841583224437,
          4.424166567953682,
          4.3557833055258275,
          4.2866917959408735,
          4.216892039198819,
          4.1463840352996595,
          4.075167784243404,
          4.003243286030049,
          3.9306105406595906,
          3.8572695481320283,
          3.7832203084473726,
          3.7084628216056146,
          3.6329970876067557,
          3.556823106450794,
          3.4799408781377354,
          3.402350402667576,
          3.324051680040317,
          3.245044710255955,
          3.1653294933144918,
          3.0849060292159303,
          3.0037743179602705,
          2.921934359547508,
          2.839386153977645,
          2.756129701250679,
          2.672165001366617,
          2.587492054325452,
          2.5021108601271878,
          2.416021418771824,
          2.3292237302593555,
          2.2417177945897904,
          2.1535036117631257,
          2.0645811817793582,
          1.9749505046384932,
          1.8846115803405266,
          1.7935644088854554,
          1.7018089902732885,
          1.609345324504021,
          1.5161734115776537,
          1.422293251494184,
          1.3277048442536128,
          1.2324081898559425,
          1.1364032883011734,
          1.0396901395893023,
          0.9422687437203301,
          0.8441391006942615,
          0.7453012105110879,
          0.6457550731708166,
          0.5455006886734433,
          0.44453805701897,
          0.3428671782073974,
          0.2404880522387233,
          0.1374006791129476,
          0.03360505883007374,
          -0.07089880860989997,
          -0.17611092320697702,
          -0.28203128496115043,
          -0.3886598938724284,
          -0.4959967499408056,
          -0.6040418531662827,
          -0.7127952035488578,
          -0.8222568010885352,
          -0.9324266457853136,
          -1.0433047376391948,
          -1.1548910766501703,
          -1.2671856628182518,
          -1.3801884961434314,
          -1.4938995766257086,
          -1.6083189042650912,
          -1.7234464790615722,
          -1.8392823010151529,
          -1.9558263701258314,
          -2.0730786863936173,
          -2.1910392498184996,
          -2.309708060400481,
          -2.429085118139564,
          -2.5491704230357475,
          -2.669963975089032,
          -2.791465774299414,
          -2.913675820666901,
          -3.036594114191486,
          -3.160220654873171,
          -3.284555442711957,
          -3.409598477707844,
          -3.5353497598608303,
          -3.6618092891709155,
          -3.7889770656381043,
          -3.9168530892623905,
          -4.045437360043776,
          -4.174729877982268,
          -4.304730643077859,
          -4.435439655330545,
          -4.566856914740337,
          -4.698982421307225,
          -4.831816175031215,
          -4.965358175912304,
          -5.099608423950498,
          -5.234566919145789,
          -5.370233661498185,
          -5.506608651007674,
          -5.643691887674266,
          -5.781483371497958,
          -5.919983102478751,
          -6.059191080616646,
          -6.199107305911638,
          -6.3397317783637375,
          -6.481064497972934,
          -6.623105464739227,
          -6.7658546786626195,
          -6.909312139743113,
          -7.0534778479807185,
          -7.198351803375413,
          -7.343934005927207,
          -7.490224455636104,
          -7.637223152502105,
          -7.784930096525202,
          -7.9333452877054,
          -8.082468726042705,
          -8.232300411537102,
          -8.382840344188601,
          -8.534088523997198,
          -8.686044950962902,
          -8.83870962508571,
          -8.992082546365605,
          -9.146163714802608,
          -9.30095313039671,
          -9.45645079314791,
          -9.612656703056215,
          -9.769570860121622,
          -9.927193264344124,
          -10.085523915723726,
          -10.24456281426043,
          -10.404309959954238,
          -10.564765352805145,
          -10.725928992813149,
          -10.887800879978252,
          -11.050381014300461,
          -11.213669395779768,
          -11.377666024416172,
          -11.542370900209683,
          -11.707784023160295
         ],
         "yaxis": "y",
         "type": "scatter"
        }
       ],
       "layout": {
        "template": {
         "data": {
          "histogram2dcontour": [
           {
            "type": "histogram2dcontour",
            "colorbar": {
             "outlinewidth": 0,
             "ticks": ""
            },
            "colorscale": [
             [
              0.0,
              "#0d0887"
             ],
             [
              0.1111111111111111,
              "#46039f"
             ],
             [
              0.2222222222222222,
              "#7201a8"
             ],
             [
              0.3333333333333333,
              "#9c179e"
             ],
             [
              0.4444444444444444,
              "#bd3786"
             ],
             [
              0.5555555555555556,
              "#d8576b"
             ],
             [
              0.6666666666666666,
              "#ed7953"
             ],
             [
              0.7777777777777778,
              "#fb9f3a"
             ],
             [
              0.8888888888888888,
              "#fdca26"
             ],
             [
              1.0,
              "#f0f921"
             ]
            ]
           }
          ],
          "choropleth": [
           {
            "type": "choropleth",
            "colorbar": {
             "outlinewidth": 0,
             "ticks": ""
            }
           }
          ],
          "histogram2d": [
           {
            "type": "histogram2d",
            "colorbar": {
             "outlinewidth": 0,
             "ticks": ""
            },
            "colorscale": [
             [
              0.0,
              "#0d0887"
             ],
             [
              0.1111111111111111,
              "#46039f"
             ],
             [
              0.2222222222222222,
              "#7201a8"
             ],
             [
              0.3333333333333333,
              "#9c179e"
             ],
             [
              0.4444444444444444,
              "#bd3786"
             ],
             [
              0.5555555555555556,
              "#d8576b"
             ],
             [
              0.6666666666666666,
              "#ed7953"
             ],
             [
              0.7777777777777778,
              "#fb9f3a"
             ],
             [
              0.8888888888888888,
              "#fdca26"
             ],
             [
              1.0,
              "#f0f921"
             ]
            ]
           }
          ],
          "heatmap": [
           {
            "type": "heatmap",
            "colorbar": {
             "outlinewidth": 0,
             "ticks": ""
            },
            "colorscale": [
             [
              0.0,
              "#0d0887"
             ],
             [
              0.1111111111111111,
              "#46039f"
             ],
             [
              0.2222222222222222,
              "#7201a8"
             ],
             [
              0.3333333333333333,
              "#9c179e"
             ],
             [
              0.4444444444444444,
              "#bd3786"
             ],
             [
              0.5555555555555556,
              "#d8576b"
             ],
             [
              0.6666666666666666,
              "#ed7953"
             ],
             [
              0.7777777777777778,
              "#fb9f3a"
             ],
             [
              0.8888888888888888,
              "#fdca26"
             ],
             [
              1.0,
              "#f0f921"
             ]
            ]
           }
          ],
          "heatmapgl": [
           {
            "type": "heatmapgl",
            "colorbar": {
             "outlinewidth": 0,
             "ticks": ""
            },
            "colorscale": [
             [
              0.0,
              "#0d0887"
             ],
             [
              0.1111111111111111,
              "#46039f"
             ],
             [
              0.2222222222222222,
              "#7201a8"
             ],
             [
              0.3333333333333333,
              "#9c179e"
             ],
             [
              0.4444444444444444,
              "#bd3786"
             ],
             [
              0.5555555555555556,
              "#d8576b"
             ],
             [
              0.6666666666666666,
              "#ed7953"
             ],
             [
              0.7777777777777778,
              "#fb9f3a"
             ],
             [
              0.8888888888888888,
              "#fdca26"
             ],
             [
              1.0,
              "#f0f921"
             ]
            ]
           }
          ],
          "contourcarpet": [
           {
            "type": "contourcarpet",
            "colorbar": {
             "outlinewidth": 0,
             "ticks": ""
            }
           }
          ],
          "contour": [
           {
            "type": "contour",
            "colorbar": {
             "outlinewidth": 0,
             "ticks": ""
            },
            "colorscale": [
             [
              0.0,
              "#0d0887"
             ],
             [
              0.1111111111111111,
              "#46039f"
             ],
             [
              0.2222222222222222,
              "#7201a8"
             ],
             [
              0.3333333333333333,
              "#9c179e"
             ],
             [
              0.4444444444444444,
              "#bd3786"
             ],
             [
              0.5555555555555556,
              "#d8576b"
             ],
             [
              0.6666666666666666,
              "#ed7953"
             ],
             [
              0.7777777777777778,
              "#fb9f3a"
             ],
             [
              0.8888888888888888,
              "#fdca26"
             ],
             [
              1.0,
              "#f0f921"
             ]
            ]
           }
          ],
          "surface": [
           {
            "type": "surface",
            "colorbar": {
             "outlinewidth": 0,
             "ticks": ""
            },
            "colorscale": [
             [
              0.0,
              "#0d0887"
             ],
             [
              0.1111111111111111,
              "#46039f"
             ],
             [
              0.2222222222222222,
              "#7201a8"
             ],
             [
              0.3333333333333333,
              "#9c179e"
             ],
             [
              0.4444444444444444,
              "#bd3786"
             ],
             [
              0.5555555555555556,
              "#d8576b"
             ],
             [
              0.6666666666666666,
              "#ed7953"
             ],
             [
              0.7777777777777778,
              "#fb9f3a"
             ],
             [
              0.8888888888888888,
              "#fdca26"
             ],
             [
              1.0,
              "#f0f921"
             ]
            ]
           }
          ],
          "mesh3d": [
           {
            "type": "mesh3d",
            "colorbar": {
             "outlinewidth": 0,
             "ticks": ""
            }
           }
          ],
          "scatter": [
           {
            "marker": {
             "line": {
              "color": "#283442"
             }
            },
            "type": "scatter"
           }
          ],
          "parcoords": [
           {
            "type": "parcoords",
            "line": {
             "colorbar": {
              "outlinewidth": 0,
              "ticks": ""
             }
            }
           }
          ],
          "scatterpolargl": [
           {
            "type": "scatterpolargl",
            "marker": {
             "colorbar": {
              "outlinewidth": 0,
              "ticks": ""
             }
            }
           }
          ],
          "bar": [
           {
            "error_x": {
             "color": "#f2f5fa"
            },
            "error_y": {
             "color": "#f2f5fa"
            },
            "marker": {
             "line": {
              "color": "rgb(17,17,17)",
              "width": 0.5
             },
             "pattern": {
              "fillmode": "overlay",
              "size": 10,
              "solidity": 0.2
             }
            },
            "type": "bar"
           }
          ],
          "scattergeo": [
           {
            "type": "scattergeo",
            "marker": {
             "colorbar": {
              "outlinewidth": 0,
              "ticks": ""
             }
            }
           }
          ],
          "scatterpolar": [
           {
            "type": "scatterpolar",
            "marker": {
             "colorbar": {
              "outlinewidth": 0,
              "ticks": ""
             }
            }
           }
          ],
          "histogram": [
           {
            "marker": {
             "pattern": {
              "fillmode": "overlay",
              "size": 10,
              "solidity": 0.2
             }
            },
            "type": "histogram"
           }
          ],
          "scattergl": [
           {
            "marker": {
             "line": {
              "color": "#283442"
             }
            },
            "type": "scattergl"
           }
          ],
          "scatter3d": [
           {
            "type": "scatter3d",
            "line": {
             "colorbar": {
              "outlinewidth": 0,
              "ticks": ""
             }
            },
            "marker": {
             "colorbar": {
              "outlinewidth": 0,
              "ticks": ""
             }
            }
           }
          ],
          "scattermapbox": [
           {
            "type": "scattermapbox",
            "marker": {
             "colorbar": {
              "outlinewidth": 0,
              "ticks": ""
             }
            }
           }
          ],
          "scatterternary": [
           {
            "type": "scatterternary",
            "marker": {
             "colorbar": {
              "outlinewidth": 0,
              "ticks": ""
             }
            }
           }
          ],
          "scattercarpet": [
           {
            "type": "scattercarpet",
            "marker": {
             "colorbar": {
              "outlinewidth": 0,
              "ticks": ""
             }
            }
           }
          ],
          "carpet": [
           {
            "aaxis": {
             "endlinecolor": "#A2B1C6",
             "gridcolor": "#506784",
             "linecolor": "#506784",
             "minorgridcolor": "#506784",
             "startlinecolor": "#A2B1C6"
            },
            "baxis": {
             "endlinecolor": "#A2B1C6",
             "gridcolor": "#506784",
             "linecolor": "#506784",
             "minorgridcolor": "#506784",
             "startlinecolor": "#A2B1C6"
            },
            "type": "carpet"
           }
          ],
          "table": [
           {
            "cells": {
             "fill": {
              "color": "#506784"
             },
             "line": {
              "color": "rgb(17,17,17)"
             }
            },
            "header": {
             "fill": {
              "color": "#2a3f5f"
             },
             "line": {
              "color": "rgb(17,17,17)"
             }
            },
            "type": "table"
           }
          ],
          "barpolar": [
           {
            "marker": {
             "line": {
              "color": "rgb(17,17,17)",
              "width": 0.5
             },
             "pattern": {
              "fillmode": "overlay",
              "size": 10,
              "solidity": 0.2
             }
            },
            "type": "barpolar"
           }
          ],
          "pie": [
           {
            "automargin": true,
            "type": "pie"
           }
          ]
         },
         "layout": {
          "autotypenumbers": "strict",
          "colorway": [
           "#636efa",
           "#EF553B",
           "#00cc96",
           "#ab63fa",
           "#FFA15A",
           "#19d3f3",
           "#FF6692",
           "#B6E880",
           "#FF97FF",
           "#FECB52"
          ],
          "font": {
           "color": "#f2f5fa"
          },
          "hovermode": "closest",
          "hoverlabel": {
           "align": "left"
          },
          "paper_bgcolor": "rgb(17,17,17)",
          "plot_bgcolor": "rgb(17,17,17)",
          "polar": {
           "bgcolor": "rgb(17,17,17)",
           "angularaxis": {
            "gridcolor": "#506784",
            "linecolor": "#506784",
            "ticks": ""
           },
           "radialaxis": {
            "gridcolor": "#506784",
            "linecolor": "#506784",
            "ticks": ""
           }
          },
          "ternary": {
           "bgcolor": "rgb(17,17,17)",
           "aaxis": {
            "gridcolor": "#506784",
            "linecolor": "#506784",
            "ticks": ""
           },
           "baxis": {
            "gridcolor": "#506784",
            "linecolor": "#506784",
            "ticks": ""
           },
           "caxis": {
            "gridcolor": "#506784",
            "linecolor": "#506784",
            "ticks": ""
           }
          },
          "coloraxis": {
           "colorbar": {
            "outlinewidth": 0,
            "ticks": ""
           }
          },
          "colorscale": {
           "sequential": [
            [
             0.0,
             "#0d0887"
            ],
            [
             0.1111111111111111,
             "#46039f"
            ],
            [
             0.2222222222222222,
             "#7201a8"
            ],
            [
             0.3333333333333333,
             "#9c179e"
            ],
            [
             0.4444444444444444,
             "#bd3786"
            ],
            [
             0.5555555555555556,
             "#d8576b"
            ],
            [
             0.6666666666666666,
             "#ed7953"
            ],
            [
             0.7777777777777778,
             "#fb9f3a"
            ],
            [
             0.8888888888888888,
             "#fdca26"
            ],
            [
             1.0,
             "#f0f921"
            ]
           ],
           "sequentialminus": [
            [
             0.0,
             "#0d0887"
            ],
            [
             0.1111111111111111,
             "#46039f"
            ],
            [
             0.2222222222222222,
             "#7201a8"
            ],
            [
             0.3333333333333333,
             "#9c179e"
            ],
            [
             0.4444444444444444,
             "#bd3786"
            ],
            [
             0.5555555555555556,
             "#d8576b"
            ],
            [
             0.6666666666666666,
             "#ed7953"
            ],
            [
             0.7777777777777778,
             "#fb9f3a"
            ],
            [
             0.8888888888888888,
             "#fdca26"
            ],
            [
             1.0,
             "#f0f921"
            ]
           ],
           "diverging": [
            [
             0,
             "#8e0152"
            ],
            [
             0.1,
             "#c51b7d"
            ],
            [
             0.2,
             "#de77ae"
            ],
            [
             0.3,
             "#f1b6da"
            ],
            [
             0.4,
             "#fde0ef"
            ],
            [
             0.5,
             "#f7f7f7"
            ],
            [
             0.6,
             "#e6f5d0"
            ],
            [
             0.7,
             "#b8e186"
            ],
            [
             0.8,
             "#7fbc41"
            ],
            [
             0.9,
             "#4d9221"
            ],
            [
             1,
             "#276419"
            ]
           ]
          },
          "xaxis": {
           "gridcolor": "#283442",
           "linecolor": "#506784",
           "ticks": "",
           "title": {
            "standoff": 15
           },
           "zerolinecolor": "#283442",
           "automargin": true,
           "zerolinewidth": 2
          },
          "yaxis": {
           "gridcolor": "#283442",
           "linecolor": "#506784",
           "ticks": "",
           "title": {
            "standoff": 15
           },
           "zerolinecolor": "#283442",
           "automargin": true,
           "zerolinewidth": 2
          },
          "scene": {
           "xaxis": {
            "backgroundcolor": "rgb(17,17,17)",
            "gridcolor": "#506784",
            "linecolor": "#506784",
            "showbackground": true,
            "ticks": "",
            "zerolinecolor": "#C8D4E3",
            "gridwidth": 2
           },
           "yaxis": {
            "backgroundcolor": "rgb(17,17,17)",
            "gridcolor": "#506784",
            "linecolor": "#506784",
            "showbackground": true,
            "ticks": "",
            "zerolinecolor": "#C8D4E3",
            "gridwidth": 2
           },
           "zaxis": {
            "backgroundcolor": "rgb(17,17,17)",
            "gridcolor": "#506784",
            "linecolor": "#506784",
            "showbackground": true,
            "ticks": "",
            "zerolinecolor": "#C8D4E3",
            "gridwidth": 2
           }
          },
          "shapedefaults": {
           "line": {
            "color": "#f2f5fa"
           }
          },
          "annotationdefaults": {
           "arrowcolor": "#f2f5fa",
           "arrowhead": 0,
           "arrowwidth": 1
          },
          "geo": {
           "bgcolor": "rgb(17,17,17)",
           "landcolor": "rgb(17,17,17)",
           "subunitcolor": "#506784",
           "showland": true,
           "showlakes": true,
           "lakecolor": "rgb(17,17,17)"
          },
          "title": {
           "x": 0.05
          },
          "updatemenudefaults": {
           "bgcolor": "#506784",
           "borderwidth": 0
          },
          "sliderdefaults": {
           "bgcolor": "#C8D4E3",
           "borderwidth": 1,
           "bordercolor": "rgb(17,17,17)",
           "tickwidth": 0
          },
          "mapbox": {
           "style": "dark"
          }
         }
        },
        "xaxis": {
         "anchor": "y",
         "domain": [
          0.0,
          1.0
         ],
         "title": {
          "text": "Flow [l/min]"
         }
        },
        "yaxis": {
         "anchor": "x",
         "domain": [
          0.0,
          1.0
         ],
         "title": {
          "text": "Head loss volute"
         }
        },
        "legend": {
         "title": {
          "text": "Speed"
         },
         "tracegroupgap": 0
        },
        "title": {
         "text": "Volute head loss"
        }
       },
       "config": {
        "plotlyServerURL": "https://plot.ly"
       }
      },
      "text/html": "<div>                            <div id=\"9713c275-c442-48c2-a202-1b0f0c012b07\" class=\"plotly-graph-div\" style=\"height:525px; width:100%;\"></div>            <script type=\"text/javascript\">                require([\"plotly\"], function(Plotly) {                    window.PLOTLYENV=window.PLOTLYENV || {};                                    if (document.getElementById(\"9713c275-c442-48c2-a202-1b0f0c012b07\")) {                    Plotly.newPlot(                        \"9713c275-c442-48c2-a202-1b0f0c012b07\",                        [{\"hovertemplate\":\"Speed=1200<br>Flow [l/min]=%{x}<br>Head loss volute=%{y}<extra></extra>\",\"legendgroup\":\"1200\",\"line\":{\"color\":\"#636efa\",\"dash\":\"solid\"},\"marker\":{\"symbol\":\"circle\"},\"mode\":\"lines\",\"name\":\"1200\",\"orientation\":\"v\",\"showlegend\":true,\"x\":[6.0,12.0,18.000000000000004,24.0,30.0,36.00000000000001,42.00000000000001,48.0,54.00000000000001,60.0,66.0,72.00000000000001,78.00000000000001,84.00000000000001,90.0,96.0,102.00000000000001,108.00000000000001,114.00000000000001,120.0,126.0,132.0,138.0,144.0,150.0,156.0,162.0,168.0,174.0,180.0,186.0,192.0,198.0,204.0,210.0,216.0,222.0,228.0,234.0,240.0,246.00000000000003,252.0,258.00000000000006,264.0,270.00000000000006,276.00000000000006,282.0,288.00000000000006,294.0,300.0,306.00000000000006,312.00000000000006,318.00000000000006,324.0,330.00000000000006,336.00000000000006,342.0,348.00000000000006,354.0,360.0,366.00000000000006,372.00000000000006,378.00000000000006,384.0,390.00000000000006,396.00000000000006,402.0,408.00000000000006,414.0,420.00000000000006,426.00000000000006,432.00000000000006,438.00000000000006,444.0,450.00000000000006,456.00000000000006,462.0,468.00000000000006,474.0,480.0,486.0,491.99999999999994,498.00000000000006,504.0,510.0,516.0,522.0,528.0,534.0,540.0,546.0,552.0,557.9999999999999,564.0,570.0,576.0,582.0000000000001,587.9999999999999,593.9999999999999,600.0,606.0,612.0000000000001,618.0,624.0,630.0,636.0,642.0,648.0,654.0,660.0,666.0,672.0,677.9999999999999,684.0,690.0,696.0,702.0000000000001,707.9999999999999,713.9999999999999,720.0,726.0,732.0000000000001,738.0,744.0,750.0,756.0,762.0,768.0,774.0,780.0,786.0000000000001,792.0,797.9999999999999,804.0,810.0,816.0,822.0000000000001,827.9999999999999,834.0,840.0,846.0,852.0000000000001,858.0,864.0,870.0,876.0,882.0,888.0,894.0,900.0,906.0000000000001,912.0,917.9999999999999,924.0,930.0,936.0,942.0000000000002,948.0,954.0,960.0,966.0000000000001,972.0,977.9999999999998,984.0000000000001,990.0,996.0000000000001,1002.0,1008.0,1014.0000000000001,1020.0,1026.0,1032.0,1038.0,1044.0,1050.0,1056.0,1062.0,1068.0,1074.0,1080.0,1086.0,1092.0,1098.0,1104.0,1110.0,1116.0,1122.0000000000002,1128.0,1134.0,1140.0,1145.9999999999998,1152.0000000000002,1158.0,1164.0000000000002,1170.0,1175.9999999999998,1182.0,1188.0,1194.0000000000002],\"xaxis\":\"x\",\"y\":[3.20809525801112,3.190482179098015,3.1721608530278096,3.153131279800502,3.1333934594160966,3.1129473918745902,3.0917930771759847,3.069930515320275,3.047359706307469,3.0240806501375608,3.0000933468105524,2.975397796326443,2.949993998685235,2.923881953886924,2.897061661931515,2.8695331228190044,2.841296336549395,2.812351303122682,2.78269802253887,2.752336494797958,2.721266719899947,2.689488697844834,2.657002428632621,2.6238079122633082,2.589905148736893,2.55529413805338,2.5199748802127653,2.4839473752150503,2.4472116230602343,2.40976762374832,2.3716153772793036,2.332754883653187,2.2931861428699696,2.2529091549296534,2.2119239198322354,2.170230437577716,2.1278287081660983,2.0847187315973805,2.0409005078715587,1.9963740369886405,1.9511393189486204,1.9051963537515002,1.8585451413972784,1.811185681885958,1.7631179752175363,1.714342021392014,1.6648578204093913,1.614665372269669,1.563764676972846,1.5121557345189236,1.4598385449078985,1.406813108139775,1.3530794242145499,1.2986374931322253,1.2434873148928007,1.1876288894962734,1.1310622169426476,1.0737872972319216,1.0158041303640954,0.9571127163391665,0.8977130551571387,0.8376051468180111,0.7767889913217823,0.7152645886684538,0.6530319388580244,0.5900910418904954,0.5264418977658655,0.4620845064841341,0.39701886804530356,0.3312449824493711,0.26476284969634084,0.1975724697862086,0.12967384271897656,0.061066968494643215,-0.00824815288678885,-0.07827152142532337,-0.1490031371209563,-0.22044299997369113,-0.29259110998352555,-0.3654474671504601,-0.43901207147449534,-0.5132849229556306,-0.5882660215938675,-0.6639553673892038,-0.740352960341642,-0.8174588004511782,-0.8952728877178159,-0.9737952221415558,-1.0530258037223925,-1.1329646324603317,-1.213611708355372,-1.2949670314075108,-1.3770306016167493,-1.4598024189830923,-1.5432824835065322,-1.627470795187073,-1.7123673540247137,-1.7979721600194571,-1.8842852131712997,-1.9713065134802414,-2.059036060946285,-2.147473855569429,-2.2366198973496734,-2.326474186287016,-2.417036722381462,-2.508307505633007,-2.600286536041652,-2.6929738136073973,-2.786369338330245,-2.8804731102101893,-2.9752851292472378,-3.070805395441386,-3.1670339087926322,-3.2639706693009813,-3.3616156769664287,-3.459968931788979,-3.559030433768627,-3.6588001829053782,-3.7592781791992262,-3.8604644226501788,-3.9623589132582278,-4.064961651023382,-4.168272635945631,-4.272291868024984,-4.377019347261438,-4.482455073654989,-4.588599047205642,-4.695451267913396,-4.8030117357782505,-4.911280450800203,-5.02025741297926,-5.129942622315414,-5.240336078808669,-5.351437782459025,-5.463247733266482,-5.575765931231038,-5.6889923763526955,-5.802927068631453,-5.917570008067312,-6.03292119466027,-6.148980628410327,-6.265748309317488,-6.383224237381746,-6.501408412603104,-6.620300834981567,-6.7399015045171256,-6.860210421209785,-6.98122758505955,-7.102952996066411,-7.22538665423037,-7.348528559551437,-7.472378712029597,-7.596937111664861,-7.722203758457224,-7.848178652406687,-7.974861793513252,-8.10225318177692,-8.230352817197684,-8.35916069977555,-8.488676829510512,-8.61890120640258,-8.749833830451747,-8.88147470165801,-9.013823820021383,-9.146881185541849,-9.280646798219417,-9.415120658054084,-9.550302765045851,-9.686193119194728,-9.822791720500698,-9.960098568963764,-10.098113664583932,-10.236837007361206,-10.376268597295576,-10.51640843438705,-10.657256518635624,-10.798812850041294,-10.941077428604066,-11.084050254323937,-11.22773132720091,-11.372120647234992,-11.517218214426162,-11.663024028774434,-11.809538090279812,-11.956760398942286,-12.104690954761864,-12.253329757738543,-12.402676807872318,-12.552732105163194,-12.703495649611169,-12.854967441216248,-13.007147479978432,-13.160035765897705,-13.313632298974085,-13.467937079207568,-13.622950106598141,-13.778671381145822,-13.935100902850605,-14.092238671712485],\"yaxis\":\"y\",\"type\":\"scatter\"},{\"hovertemplate\":\"Speed=1800<br>Flow [l/min]=%{x}<br>Head loss volute=%{y}<extra></extra>\",\"legendgroup\":\"1800\",\"line\":{\"color\":\"#EF553B\",\"dash\":\"solid\"},\"marker\":{\"symbol\":\"circle\"},\"mode\":\"lines\",\"name\":\"1800\",\"orientation\":\"v\",\"showlegend\":true,\"x\":[6.0,12.0,18.000000000000004,24.0,30.0,36.00000000000001,42.00000000000001,48.0,54.00000000000001,60.0,66.0,72.00000000000001,78.00000000000001,84.00000000000001,90.0,96.0,102.00000000000001,108.00000000000001,114.00000000000001,120.0,126.0,132.0,138.0,144.0,150.0,156.0,162.0,168.0,174.0,180.0,186.0,192.0,198.0,204.0,210.0,216.0,222.0,228.0,234.0,240.0,246.00000000000003,252.0,258.00000000000006,264.0,270.00000000000006,276.00000000000006,282.0,288.00000000000006,294.0,300.0,306.00000000000006,312.00000000000006,318.00000000000006,324.0,330.00000000000006,336.00000000000006,342.0,348.00000000000006,354.0,360.0,366.00000000000006,372.00000000000006,378.00000000000006,384.0,390.00000000000006,396.00000000000006,402.0,408.00000000000006,414.0,420.00000000000006,426.00000000000006,432.00000000000006,438.00000000000006,444.0,450.00000000000006,456.00000000000006,462.0,468.00000000000006,474.0,480.0,486.0,491.99999999999994,498.00000000000006,504.0,510.0,516.0,522.0,528.0,534.0,540.0,546.0,552.0,557.9999999999999,564.0,570.0,576.0,582.0000000000001,587.9999999999999,593.9999999999999,600.0,606.0,612.0000000000001,618.0,624.0,630.0,636.0,642.0,648.0,654.0,660.0,666.0,672.0,677.9999999999999,684.0,690.0,696.0,702.0000000000001,707.9999999999999,713.9999999999999,720.0,726.0,732.0000000000001,738.0,744.0,750.0,756.0,762.0,768.0,774.0,780.0,786.0000000000001,792.0,797.9999999999999,804.0,810.0,816.0,822.0000000000001,827.9999999999999,834.0,840.0,846.0,852.0000000000001,858.0,864.0,870.0,876.0,882.0,888.0,894.0,900.0,906.0000000000001,912.0,917.9999999999999,924.0,930.0,936.0,942.0000000000002,948.0,954.0,960.0,966.0000000000001,972.0,977.9999999999998,984.0000000000001,990.0,996.0000000000001,1002.0,1008.0,1014.0000000000001,1020.0,1026.0,1032.0,1038.0,1044.0,1050.0,1056.0,1062.0,1068.0,1074.0,1080.0,1086.0,1092.0,1098.0,1104.0,1110.0,1116.0,1122.0000000000002,1128.0,1134.0,1140.0,1145.9999999999998,1152.0000000000002,1158.0,1164.0000000000002,1170.0,1175.9999999999998,1182.0,1188.0,1194.0000000000002],\"xaxis\":\"x\",\"y\":[7.231070016131296,7.205181583129466,7.17858490297053,7.151279975654496,7.123266801181364,7.09454537955113,7.065115710763796,7.034977794819364,7.004131631717828,6.972577221459194,6.940314564043455,6.9073436594706195,6.873664507740682,6.839277108853648,6.8041814628095105,6.76837756960827,6.731865429249934,6.694645041734498,6.656716407061957,6.618079525232319,6.57873439624558,6.53868102010174,6.497919396800798,6.456449526342758,6.414271408727619,6.371385043955376,6.327790432026034,6.283487572939591,6.238476466696049,6.192757113295405,6.1463295127376645,6.0991936650228205,6.051349570150877,6.002797228121832,5.953536638935688,5.903567802592441,5.852890719092095,5.801505388434649,5.749411810620103,5.696609985648456,5.643099913519708,5.588881594233862,5.533955027790916,5.478320214190861,5.421977153433715,5.364925845519466,5.307166290448117,5.2486984882196674,5.189522438834117,5.129638142291467,5.069045598591716,5.007744807734862,4.945735769720912,4.8830184845498605,4.819592952221706,4.7554591727364555,4.690617146094102,4.6250668722946475,4.5588083513380955,4.491841583224437,4.424166567953682,4.3557833055258275,4.2866917959408735,4.216892039198819,4.1463840352996595,4.075167784243404,4.003243286030049,3.9306105406595906,3.8572695481320283,3.7832203084473726,3.7084628216056146,3.6329970876067557,3.556823106450794,3.4799408781377354,3.402350402667576,3.324051680040317,3.245044710255955,3.1653294933144918,3.0849060292159303,3.0037743179602705,2.921934359547508,2.839386153977645,2.756129701250679,2.672165001366617,2.587492054325452,2.5021108601271878,2.416021418771824,2.3292237302593555,2.2417177945897904,2.1535036117631257,2.0645811817793582,1.9749505046384932,1.8846115803405266,1.7935644088854554,1.7018089902732885,1.609345324504021,1.5161734115776537,1.422293251494184,1.3277048442536128,1.2324081898559425,1.1364032883011734,1.0396901395893023,0.9422687437203301,0.8441391006942615,0.7453012105110879,0.6457550731708166,0.5455006886734433,0.44453805701897,0.3428671782073974,0.2404880522387233,0.1374006791129476,0.03360505883007374,-0.07089880860989997,-0.17611092320697702,-0.28203128496115043,-0.3886598938724284,-0.4959967499408056,-0.6040418531662827,-0.7127952035488578,-0.8222568010885352,-0.9324266457853136,-1.0433047376391948,-1.1548910766501703,-1.2671856628182518,-1.3801884961434314,-1.4938995766257086,-1.6083189042650912,-1.7234464790615722,-1.8392823010151529,-1.9558263701258314,-2.0730786863936173,-2.1910392498184996,-2.309708060400481,-2.429085118139564,-2.5491704230357475,-2.669963975089032,-2.791465774299414,-2.913675820666901,-3.036594114191486,-3.160220654873171,-3.284555442711957,-3.409598477707844,-3.5353497598608303,-3.6618092891709155,-3.7889770656381043,-3.9168530892623905,-4.045437360043776,-4.174729877982268,-4.304730643077859,-4.435439655330545,-4.566856914740337,-4.698982421307225,-4.831816175031215,-4.965358175912304,-5.099608423950498,-5.234566919145789,-5.370233661498185,-5.506608651007674,-5.643691887674266,-5.781483371497958,-5.919983102478751,-6.059191080616646,-6.199107305911638,-6.3397317783637375,-6.481064497972934,-6.623105464739227,-6.7658546786626195,-6.909312139743113,-7.0534778479807185,-7.198351803375413,-7.343934005927207,-7.490224455636104,-7.637223152502105,-7.784930096525202,-7.9333452877054,-8.082468726042705,-8.232300411537102,-8.382840344188601,-8.534088523997198,-8.686044950962902,-8.83870962508571,-8.992082546365605,-9.146163714802608,-9.30095313039671,-9.45645079314791,-9.612656703056215,-9.769570860121622,-9.927193264344124,-10.085523915723726,-10.24456281426043,-10.404309959954238,-10.564765352805145,-10.725928992813149,-10.887800879978252,-11.050381014300461,-11.213669395779768,-11.377666024416172,-11.542370900209683,-11.707784023160295],\"yaxis\":\"y\",\"type\":\"scatter\"}],                        {\"template\":{\"data\":{\"histogram2dcontour\":[{\"type\":\"histogram2dcontour\",\"colorbar\":{\"outlinewidth\":0,\"ticks\":\"\"},\"colorscale\":[[0.0,\"#0d0887\"],[0.1111111111111111,\"#46039f\"],[0.2222222222222222,\"#7201a8\"],[0.3333333333333333,\"#9c179e\"],[0.4444444444444444,\"#bd3786\"],[0.5555555555555556,\"#d8576b\"],[0.6666666666666666,\"#ed7953\"],[0.7777777777777778,\"#fb9f3a\"],[0.8888888888888888,\"#fdca26\"],[1.0,\"#f0f921\"]]}],\"choropleth\":[{\"type\":\"choropleth\",\"colorbar\":{\"outlinewidth\":0,\"ticks\":\"\"}}],\"histogram2d\":[{\"type\":\"histogram2d\",\"colorbar\":{\"outlinewidth\":0,\"ticks\":\"\"},\"colorscale\":[[0.0,\"#0d0887\"],[0.1111111111111111,\"#46039f\"],[0.2222222222222222,\"#7201a8\"],[0.3333333333333333,\"#9c179e\"],[0.4444444444444444,\"#bd3786\"],[0.5555555555555556,\"#d8576b\"],[0.6666666666666666,\"#ed7953\"],[0.7777777777777778,\"#fb9f3a\"],[0.8888888888888888,\"#fdca26\"],[1.0,\"#f0f921\"]]}],\"heatmap\":[{\"type\":\"heatmap\",\"colorbar\":{\"outlinewidth\":0,\"ticks\":\"\"},\"colorscale\":[[0.0,\"#0d0887\"],[0.1111111111111111,\"#46039f\"],[0.2222222222222222,\"#7201a8\"],[0.3333333333333333,\"#9c179e\"],[0.4444444444444444,\"#bd3786\"],[0.5555555555555556,\"#d8576b\"],[0.6666666666666666,\"#ed7953\"],[0.7777777777777778,\"#fb9f3a\"],[0.8888888888888888,\"#fdca26\"],[1.0,\"#f0f921\"]]}],\"heatmapgl\":[{\"type\":\"heatmapgl\",\"colorbar\":{\"outlinewidth\":0,\"ticks\":\"\"},\"colorscale\":[[0.0,\"#0d0887\"],[0.1111111111111111,\"#46039f\"],[0.2222222222222222,\"#7201a8\"],[0.3333333333333333,\"#9c179e\"],[0.4444444444444444,\"#bd3786\"],[0.5555555555555556,\"#d8576b\"],[0.6666666666666666,\"#ed7953\"],[0.7777777777777778,\"#fb9f3a\"],[0.8888888888888888,\"#fdca26\"],[1.0,\"#f0f921\"]]}],\"contourcarpet\":[{\"type\":\"contourcarpet\",\"colorbar\":{\"outlinewidth\":0,\"ticks\":\"\"}}],\"contour\":[{\"type\":\"contour\",\"colorbar\":{\"outlinewidth\":0,\"ticks\":\"\"},\"colorscale\":[[0.0,\"#0d0887\"],[0.1111111111111111,\"#46039f\"],[0.2222222222222222,\"#7201a8\"],[0.3333333333333333,\"#9c179e\"],[0.4444444444444444,\"#bd3786\"],[0.5555555555555556,\"#d8576b\"],[0.6666666666666666,\"#ed7953\"],[0.7777777777777778,\"#fb9f3a\"],[0.8888888888888888,\"#fdca26\"],[1.0,\"#f0f921\"]]}],\"surface\":[{\"type\":\"surface\",\"colorbar\":{\"outlinewidth\":0,\"ticks\":\"\"},\"colorscale\":[[0.0,\"#0d0887\"],[0.1111111111111111,\"#46039f\"],[0.2222222222222222,\"#7201a8\"],[0.3333333333333333,\"#9c179e\"],[0.4444444444444444,\"#bd3786\"],[0.5555555555555556,\"#d8576b\"],[0.6666666666666666,\"#ed7953\"],[0.7777777777777778,\"#fb9f3a\"],[0.8888888888888888,\"#fdca26\"],[1.0,\"#f0f921\"]]}],\"mesh3d\":[{\"type\":\"mesh3d\",\"colorbar\":{\"outlinewidth\":0,\"ticks\":\"\"}}],\"scatter\":[{\"marker\":{\"line\":{\"color\":\"#283442\"}},\"type\":\"scatter\"}],\"parcoords\":[{\"type\":\"parcoords\",\"line\":{\"colorbar\":{\"outlinewidth\":0,\"ticks\":\"\"}}}],\"scatterpolargl\":[{\"type\":\"scatterpolargl\",\"marker\":{\"colorbar\":{\"outlinewidth\":0,\"ticks\":\"\"}}}],\"bar\":[{\"error_x\":{\"color\":\"#f2f5fa\"},\"error_y\":{\"color\":\"#f2f5fa\"},\"marker\":{\"line\":{\"color\":\"rgb(17,17,17)\",\"width\":0.5},\"pattern\":{\"fillmode\":\"overlay\",\"size\":10,\"solidity\":0.2}},\"type\":\"bar\"}],\"scattergeo\":[{\"type\":\"scattergeo\",\"marker\":{\"colorbar\":{\"outlinewidth\":0,\"ticks\":\"\"}}}],\"scatterpolar\":[{\"type\":\"scatterpolar\",\"marker\":{\"colorbar\":{\"outlinewidth\":0,\"ticks\":\"\"}}}],\"histogram\":[{\"marker\":{\"pattern\":{\"fillmode\":\"overlay\",\"size\":10,\"solidity\":0.2}},\"type\":\"histogram\"}],\"scattergl\":[{\"marker\":{\"line\":{\"color\":\"#283442\"}},\"type\":\"scattergl\"}],\"scatter3d\":[{\"type\":\"scatter3d\",\"line\":{\"colorbar\":{\"outlinewidth\":0,\"ticks\":\"\"}},\"marker\":{\"colorbar\":{\"outlinewidth\":0,\"ticks\":\"\"}}}],\"scattermapbox\":[{\"type\":\"scattermapbox\",\"marker\":{\"colorbar\":{\"outlinewidth\":0,\"ticks\":\"\"}}}],\"scatterternary\":[{\"type\":\"scatterternary\",\"marker\":{\"colorbar\":{\"outlinewidth\":0,\"ticks\":\"\"}}}],\"scattercarpet\":[{\"type\":\"scattercarpet\",\"marker\":{\"colorbar\":{\"outlinewidth\":0,\"ticks\":\"\"}}}],\"carpet\":[{\"aaxis\":{\"endlinecolor\":\"#A2B1C6\",\"gridcolor\":\"#506784\",\"linecolor\":\"#506784\",\"minorgridcolor\":\"#506784\",\"startlinecolor\":\"#A2B1C6\"},\"baxis\":{\"endlinecolor\":\"#A2B1C6\",\"gridcolor\":\"#506784\",\"linecolor\":\"#506784\",\"minorgridcolor\":\"#506784\",\"startlinecolor\":\"#A2B1C6\"},\"type\":\"carpet\"}],\"table\":[{\"cells\":{\"fill\":{\"color\":\"#506784\"},\"line\":{\"color\":\"rgb(17,17,17)\"}},\"header\":{\"fill\":{\"color\":\"#2a3f5f\"},\"line\":{\"color\":\"rgb(17,17,17)\"}},\"type\":\"table\"}],\"barpolar\":[{\"marker\":{\"line\":{\"color\":\"rgb(17,17,17)\",\"width\":0.5},\"pattern\":{\"fillmode\":\"overlay\",\"size\":10,\"solidity\":0.2}},\"type\":\"barpolar\"}],\"pie\":[{\"automargin\":true,\"type\":\"pie\"}]},\"layout\":{\"autotypenumbers\":\"strict\",\"colorway\":[\"#636efa\",\"#EF553B\",\"#00cc96\",\"#ab63fa\",\"#FFA15A\",\"#19d3f3\",\"#FF6692\",\"#B6E880\",\"#FF97FF\",\"#FECB52\"],\"font\":{\"color\":\"#f2f5fa\"},\"hovermode\":\"closest\",\"hoverlabel\":{\"align\":\"left\"},\"paper_bgcolor\":\"rgb(17,17,17)\",\"plot_bgcolor\":\"rgb(17,17,17)\",\"polar\":{\"bgcolor\":\"rgb(17,17,17)\",\"angularaxis\":{\"gridcolor\":\"#506784\",\"linecolor\":\"#506784\",\"ticks\":\"\"},\"radialaxis\":{\"gridcolor\":\"#506784\",\"linecolor\":\"#506784\",\"ticks\":\"\"}},\"ternary\":{\"bgcolor\":\"rgb(17,17,17)\",\"aaxis\":{\"gridcolor\":\"#506784\",\"linecolor\":\"#506784\",\"ticks\":\"\"},\"baxis\":{\"gridcolor\":\"#506784\",\"linecolor\":\"#506784\",\"ticks\":\"\"},\"caxis\":{\"gridcolor\":\"#506784\",\"linecolor\":\"#506784\",\"ticks\":\"\"}},\"coloraxis\":{\"colorbar\":{\"outlinewidth\":0,\"ticks\":\"\"}},\"colorscale\":{\"sequential\":[[0.0,\"#0d0887\"],[0.1111111111111111,\"#46039f\"],[0.2222222222222222,\"#7201a8\"],[0.3333333333333333,\"#9c179e\"],[0.4444444444444444,\"#bd3786\"],[0.5555555555555556,\"#d8576b\"],[0.6666666666666666,\"#ed7953\"],[0.7777777777777778,\"#fb9f3a\"],[0.8888888888888888,\"#fdca26\"],[1.0,\"#f0f921\"]],\"sequentialminus\":[[0.0,\"#0d0887\"],[0.1111111111111111,\"#46039f\"],[0.2222222222222222,\"#7201a8\"],[0.3333333333333333,\"#9c179e\"],[0.4444444444444444,\"#bd3786\"],[0.5555555555555556,\"#d8576b\"],[0.6666666666666666,\"#ed7953\"],[0.7777777777777778,\"#fb9f3a\"],[0.8888888888888888,\"#fdca26\"],[1.0,\"#f0f921\"]],\"diverging\":[[0,\"#8e0152\"],[0.1,\"#c51b7d\"],[0.2,\"#de77ae\"],[0.3,\"#f1b6da\"],[0.4,\"#fde0ef\"],[0.5,\"#f7f7f7\"],[0.6,\"#e6f5d0\"],[0.7,\"#b8e186\"],[0.8,\"#7fbc41\"],[0.9,\"#4d9221\"],[1,\"#276419\"]]},\"xaxis\":{\"gridcolor\":\"#283442\",\"linecolor\":\"#506784\",\"ticks\":\"\",\"title\":{\"standoff\":15},\"zerolinecolor\":\"#283442\",\"automargin\":true,\"zerolinewidth\":2},\"yaxis\":{\"gridcolor\":\"#283442\",\"linecolor\":\"#506784\",\"ticks\":\"\",\"title\":{\"standoff\":15},\"zerolinecolor\":\"#283442\",\"automargin\":true,\"zerolinewidth\":2},\"scene\":{\"xaxis\":{\"backgroundcolor\":\"rgb(17,17,17)\",\"gridcolor\":\"#506784\",\"linecolor\":\"#506784\",\"showbackground\":true,\"ticks\":\"\",\"zerolinecolor\":\"#C8D4E3\",\"gridwidth\":2},\"yaxis\":{\"backgroundcolor\":\"rgb(17,17,17)\",\"gridcolor\":\"#506784\",\"linecolor\":\"#506784\",\"showbackground\":true,\"ticks\":\"\",\"zerolinecolor\":\"#C8D4E3\",\"gridwidth\":2},\"zaxis\":{\"backgroundcolor\":\"rgb(17,17,17)\",\"gridcolor\":\"#506784\",\"linecolor\":\"#506784\",\"showbackground\":true,\"ticks\":\"\",\"zerolinecolor\":\"#C8D4E3\",\"gridwidth\":2}},\"shapedefaults\":{\"line\":{\"color\":\"#f2f5fa\"}},\"annotationdefaults\":{\"arrowcolor\":\"#f2f5fa\",\"arrowhead\":0,\"arrowwidth\":1},\"geo\":{\"bgcolor\":\"rgb(17,17,17)\",\"landcolor\":\"rgb(17,17,17)\",\"subunitcolor\":\"#506784\",\"showland\":true,\"showlakes\":true,\"lakecolor\":\"rgb(17,17,17)\"},\"title\":{\"x\":0.05},\"updatemenudefaults\":{\"bgcolor\":\"#506784\",\"borderwidth\":0},\"sliderdefaults\":{\"bgcolor\":\"#C8D4E3\",\"borderwidth\":1,\"bordercolor\":\"rgb(17,17,17)\",\"tickwidth\":0},\"mapbox\":{\"style\":\"dark\"}}},\"xaxis\":{\"anchor\":\"y\",\"domain\":[0.0,1.0],\"title\":{\"text\":\"Flow [l/min]\"}},\"yaxis\":{\"anchor\":\"x\",\"domain\":[0.0,1.0],\"title\":{\"text\":\"Head loss volute\"}},\"legend\":{\"title\":{\"text\":\"Speed\"},\"tracegroupgap\":0},\"title\":{\"text\":\"Volute head loss\"}},                        {\"responsive\": true}                    ).then(function(){\n                            \nvar gd = document.getElementById('9713c275-c442-48c2-a202-1b0f0c012b07');\nvar x = new MutationObserver(function (mutations, observer) {{\n        var display = window.getComputedStyle(gd).display;\n        if (!display || display === 'none') {{\n            console.log([gd, 'removed!']);\n            Plotly.purge(gd);\n            observer.disconnect();\n        }}\n}});\n\n// Listen for the removal of the full notebook cells\nvar notebookContainer = gd.closest('#notebook-container');\nif (notebookContainer) {{\n    x.observe(notebookContainer, {childList: true});\n}}\n\n// Listen for the clearing of the current output cell\nvar outputEl = gd.closest('.output');\nif (outputEl) {{\n    x.observe(outputEl, {childList: true});\n}}\n\n                        })                };                });            </script>        </div>"
     },
     "metadata": {},
     "output_type": "display_data"
    },
    {
     "data": {
      "application/vnd.plotly.v1+json": {
       "data": [
        {
         "hovertemplate": "Speed=1200<br>Flow [l/min]=%{x}<br>Head loss volute diffusor=%{y}<extra></extra>",
         "legendgroup": "1200",
         "line": {
          "color": "#636efa",
          "dash": "solid"
         },
         "marker": {
          "symbol": "circle"
         },
         "mode": "lines",
         "name": "1200",
         "orientation": "v",
         "showlegend": true,
         "x": [
          6.0,
          12.0,
          18.000000000000004,
          24.0,
          30.0,
          36.00000000000001,
          42.00000000000001,
          48.0,
          54.00000000000001,
          60.0,
          66.0,
          72.00000000000001,
          78.00000000000001,
          84.00000000000001,
          90.0,
          96.0,
          102.00000000000001,
          108.00000000000001,
          114.00000000000001,
          120.0,
          126.0,
          132.0,
          138.0,
          144.0,
          150.0,
          156.0,
          162.0,
          168.0,
          174.0,
          180.0,
          186.0,
          192.0,
          198.0,
          204.0,
          210.0,
          216.0,
          222.0,
          228.0,
          234.0,
          240.0,
          246.00000000000003,
          252.0,
          258.00000000000006,
          264.0,
          270.00000000000006,
          276.00000000000006,
          282.0,
          288.00000000000006,
          294.0,
          300.0,
          306.00000000000006,
          312.00000000000006,
          318.00000000000006,
          324.0,
          330.00000000000006,
          336.00000000000006,
          342.0,
          348.00000000000006,
          354.0,
          360.0,
          366.00000000000006,
          372.00000000000006,
          378.00000000000006,
          384.0,
          390.00000000000006,
          396.00000000000006,
          402.0,
          408.00000000000006,
          414.0,
          420.00000000000006,
          426.00000000000006,
          432.00000000000006,
          438.00000000000006,
          444.0,
          450.00000000000006,
          456.00000000000006,
          462.0,
          468.00000000000006,
          474.0,
          480.0,
          486.0,
          491.99999999999994,
          498.00000000000006,
          504.0,
          510.0,
          516.0,
          522.0,
          528.0,
          534.0,
          540.0,
          546.0,
          552.0,
          557.9999999999999,
          564.0,
          570.0,
          576.0,
          582.0000000000001,
          587.9999999999999,
          593.9999999999999,
          600.0,
          606.0,
          612.0000000000001,
          618.0,
          624.0,
          630.0,
          636.0,
          642.0,
          648.0,
          654.0,
          660.0,
          666.0,
          672.0,
          677.9999999999999,
          684.0,
          690.0,
          696.0,
          702.0000000000001,
          707.9999999999999,
          713.9999999999999,
          720.0,
          726.0,
          732.0000000000001,
          738.0,
          744.0,
          750.0,
          756.0,
          762.0,
          768.0,
          774.0,
          780.0,
          786.0000000000001,
          792.0,
          797.9999999999999,
          804.0,
          810.0,
          816.0,
          822.0000000000001,
          827.9999999999999,
          834.0,
          840.0,
          846.0,
          852.0000000000001,
          858.0,
          864.0,
          870.0,
          876.0,
          882.0,
          888.0,
          894.0,
          900.0,
          906.0000000000001,
          912.0,
          917.9999999999999,
          924.0,
          930.0,
          936.0,
          942.0000000000002,
          948.0,
          954.0,
          960.0,
          966.0000000000001,
          972.0,
          977.9999999999998,
          984.0000000000001,
          990.0,
          996.0000000000001,
          1002.0,
          1008.0,
          1014.0000000000001,
          1020.0,
          1026.0,
          1032.0,
          1038.0,
          1044.0,
          1050.0,
          1056.0,
          1062.0,
          1068.0,
          1074.0,
          1080.0,
          1086.0,
          1092.0,
          1098.0,
          1104.0,
          1110.0,
          1116.0,
          1122.0000000000002,
          1128.0,
          1134.0,
          1140.0,
          1145.9999999999998,
          1152.0000000000002,
          1158.0,
          1164.0000000000002,
          1170.0,
          1175.9999999999998,
          1182.0,
          1188.0,
          1194.0000000000002
         ],
         "xaxis": "x",
         "y": [
          2.345988419015542E-4,
          9.383953676062168E-4,
          0.0021113895771139885,
          0.0037535814704248672,
          0.005864971047538855,
          0.008445558308455954,
          0.011495343253176157,
          0.015014325881699469,
          0.019002506194025895,
          0.02345988419015542,
          0.02838645987008807,
          0.033782233233823816,
          0.03964720428136267,
          0.04598137301270463,
          0.0527847394278497,
          0.060057303526797876,
          0.06779906530954917,
          0.07601002477610358,
          0.08469018192646109,
          0.09383953676062168,
          0.10345808927858537,
          0.11354583948035228,
          0.12410278736592217,
          0.1351289329352952,
          0.14662427618847138,
          0.15858881712545062,
          0.171022555746233,
          0.1839254920508185,
          0.19729762603920706,
          0.2111389577113988,
          0.2254494870673936,
          0.2402292141071915,
          0.2554781388307925,
          0.2711962612381967,
          0.28738358132940395,
          0.3040400991044142,
          0.32116581456322774,
          0.33876072770584426,
          0.3568248385322639,
          0.3753581470424867,
          0.3943606532365127,
          0.4138323571143417,
          0.4337732586759738,
          0.4541833579214091,
          0.4750626548506474,
          0.49641114946368897,
          0.5182288417605333,
          0.5405157317411811,
          0.5632718194056319,
          0.5864971047538855,
          0.6101915877859425,
          0.6343552685018027,
          0.6589881469014659,
          0.684090222984932,
          0.7096614967522015,
          0.735701968203274,
          0.7622116373381498,
          0.7891905041568286,
          0.8166385686593104,
          0.8445558308455952,
          0.8729422907156833,
          0.9017979482695745,
          0.931122803507269,
          0.960916856428766,
          0.9911801070340667,
          1.0219125553231703,
          1.0531142012960768,
          1.0847850449527867,
          1.1169250862933,
          1.149534325317616,
          1.182612762025735,
          1.2161603964176573,
          1.2501772284933828,
          1.284663258252911,
          1.3196184856962425,
          1.3550429108233775,
          1.390936533634315,
          1.427299354129056,
          1.4641313723076,
          1.5014325881699468,
          1.5392030017160971,
          1.5774426129460501,
          1.616151421859807,
          1.6553294284573659,
          1.6949766327387297,
          1.7350930347038946,
          1.7756786343528637,
          1.8167334316856365,
          1.8582574267022107,
          1.900250619402589,
          1.9427130097867704,
          1.9856445978547548,
          2.0290453836065416,
          2.072915367042133,
          2.1172545481615264,
          2.1620629269647234,
          2.2073405034517233,
          2.2530872776225266,
          2.299303249477133,
          2.345988419015542,
          2.3931427862377546,
          2.44076635114377,
          2.488859113733589,
          2.53742107400721,
          2.586452231964636,
          2.6359525876058627,
          2.6859221409308938,
          2.736360891939728,
          2.7872688406323656,
          2.8386459870088054,
          2.8904923310690496,
          2.942807872813096,
          2.9955926122409453,
          3.048846549352599,
          3.102569684148054,
          3.156762016627313,
          3.2114235467903756,
          3.2665542746372407,
          3.3221542001679087,
          3.3782233233823806,
          3.434761644280654,
          3.491769162862733,
          3.5492458791286134,
          3.6071917930782975,
          3.6656069047117854,
          3.7244912140290745,
          3.783844721030168,
          3.843667425715064,
          3.903959328083764,
          3.9647204281362654,
          4.025950725872573,
          4.08765022129268,
          4.149818914396592,
          4.212456805184307,
          4.275563893655826,
          4.339140179811147,
          4.40318566365027,
          4.467700345173198,
          4.5326842243799295,
          4.598137301270463,
          4.6640595758447985,
          4.73045104810294,
          4.797311718044882,
          4.864641585670627,
          4.932440650980177,
          5.000708913973529,
          5.069446374650684,
          5.138653033011644,
          5.208328889056405,
          5.278473942784969,
          5.349088194197338,
          5.420171643293508,
          5.491724290073482,
          5.56374613453726,
          5.63623717668484,
          5.709197416516222,
          5.782626854031411,
          5.8565254892304,
          5.930893322113192,
          6.005730352679787,
          6.081036580930186,
          6.156812006864389,
          6.233056630482392,
          6.309770451784203,
          6.3869534707698135,
          6.464605687439228,
          6.542727101792444,
          6.621317713829463,
          6.700377523550292,
          6.779906530954919,
          6.859904736043346,
          6.940372138815579,
          7.021308739271616,
          7.102714537411455,
          7.184589533235098,
          7.266933726742546,
          7.349747117933792,
          7.433029706808843,
          7.516781493367697,
          7.601002477610356,
          7.685692659536819,
          7.770852039147082,
          7.856480616441148,
          7.942578391419019,
          8.029145364080692,
          8.11618153442617,
          8.203686902455452,
          8.291661468168533,
          8.380105231565418,
          8.469018192646105,
          8.558400351410599,
          8.648251707858897,
          8.738572261990992,
          8.829362013806893,
          8.9206209633066,
          9.012349110490106,
          9.104546455357415,
          9.197212997908531,
          9.29034873814345
         ],
         "yaxis": "y",
         "type": "scatter"
        },
        {
         "hovertemplate": "Speed=1800<br>Flow [l/min]=%{x}<br>Head loss volute diffusor=%{y}<extra></extra>",
         "legendgroup": "1800",
         "line": {
          "color": "#EF553B",
          "dash": "solid"
         },
         "marker": {
          "symbol": "circle"
         },
         "mode": "lines",
         "name": "1800",
         "orientation": "v",
         "showlegend": true,
         "x": [
          6.0,
          12.0,
          18.000000000000004,
          24.0,
          30.0,
          36.00000000000001,
          42.00000000000001,
          48.0,
          54.00000000000001,
          60.0,
          66.0,
          72.00000000000001,
          78.00000000000001,
          84.00000000000001,
          90.0,
          96.0,
          102.00000000000001,
          108.00000000000001,
          114.00000000000001,
          120.0,
          126.0,
          132.0,
          138.0,
          144.0,
          150.0,
          156.0,
          162.0,
          168.0,
          174.0,
          180.0,
          186.0,
          192.0,
          198.0,
          204.0,
          210.0,
          216.0,
          222.0,
          228.0,
          234.0,
          240.0,
          246.00000000000003,
          252.0,
          258.00000000000006,
          264.0,
          270.00000000000006,
          276.00000000000006,
          282.0,
          288.00000000000006,
          294.0,
          300.0,
          306.00000000000006,
          312.00000000000006,
          318.00000000000006,
          324.0,
          330.00000000000006,
          336.00000000000006,
          342.0,
          348.00000000000006,
          354.0,
          360.0,
          366.00000000000006,
          372.00000000000006,
          378.00000000000006,
          384.0,
          390.00000000000006,
          396.00000000000006,
          402.0,
          408.00000000000006,
          414.0,
          420.00000000000006,
          426.00000000000006,
          432.00000000000006,
          438.00000000000006,
          444.0,
          450.00000000000006,
          456.00000000000006,
          462.0,
          468.00000000000006,
          474.0,
          480.0,
          486.0,
          491.99999999999994,
          498.00000000000006,
          504.0,
          510.0,
          516.0,
          522.0,
          528.0,
          534.0,
          540.0,
          546.0,
          552.0,
          557.9999999999999,
          564.0,
          570.0,
          576.0,
          582.0000000000001,
          587.9999999999999,
          593.9999999999999,
          600.0,
          606.0,
          612.0000000000001,
          618.0,
          624.0,
          630.0,
          636.0,
          642.0,
          648.0,
          654.0,
          660.0,
          666.0,
          672.0,
          677.9999999999999,
          684.0,
          690.0,
          696.0,
          702.0000000000001,
          707.9999999999999,
          713.9999999999999,
          720.0,
          726.0,
          732.0000000000001,
          738.0,
          744.0,
          750.0,
          756.0,
          762.0,
          768.0,
          774.0,
          780.0,
          786.0000000000001,
          792.0,
          797.9999999999999,
          804.0,
          810.0,
          816.0,
          822.0000000000001,
          827.9999999999999,
          834.0,
          840.0,
          846.0,
          852.0000000000001,
          858.0,
          864.0,
          870.0,
          876.0,
          882.0,
          888.0,
          894.0,
          900.0,
          906.0000000000001,
          912.0,
          917.9999999999999,
          924.0,
          930.0,
          936.0,
          942.0000000000002,
          948.0,
          954.0,
          960.0,
          966.0000000000001,
          972.0,
          977.9999999999998,
          984.0000000000001,
          990.0,
          996.0000000000001,
          1002.0,
          1008.0,
          1014.0000000000001,
          1020.0,
          1026.0,
          1032.0,
          1038.0,
          1044.0,
          1050.0,
          1056.0,
          1062.0,
          1068.0,
          1074.0,
          1080.0,
          1086.0,
          1092.0,
          1098.0,
          1104.0,
          1110.0,
          1116.0,
          1122.0000000000002,
          1128.0,
          1134.0,
          1140.0,
          1145.9999999999998,
          1152.0000000000002,
          1158.0,
          1164.0000000000002,
          1170.0,
          1175.9999999999998,
          1182.0,
          1188.0,
          1194.0000000000002
         ],
         "xaxis": "x",
         "y": [
          2.345988419015542E-4,
          9.383953676062168E-4,
          0.0021113895771139885,
          0.0037535814704248672,
          0.005864971047538855,
          0.008445558308455954,
          0.011495343253176157,
          0.015014325881699469,
          0.019002506194025895,
          0.02345988419015542,
          0.02838645987008807,
          0.033782233233823816,
          0.03964720428136267,
          0.04598137301270463,
          0.0527847394278497,
          0.060057303526797876,
          0.06779906530954917,
          0.07601002477610358,
          0.08469018192646109,
          0.09383953676062168,
          0.10345808927858537,
          0.11354583948035228,
          0.12410278736592217,
          0.1351289329352952,
          0.14662427618847138,
          0.15858881712545062,
          0.171022555746233,
          0.1839254920508185,
          0.19729762603920706,
          0.2111389577113988,
          0.2254494870673936,
          0.2402292141071915,
          0.2554781388307925,
          0.2711962612381967,
          0.28738358132940395,
          0.3040400991044142,
          0.32116581456322774,
          0.33876072770584426,
          0.3568248385322639,
          0.3753581470424867,
          0.3943606532365127,
          0.4138323571143417,
          0.4337732586759738,
          0.4541833579214091,
          0.4750626548506474,
          0.49641114946368897,
          0.5182288417605333,
          0.5405157317411811,
          0.5632718194056319,
          0.5864971047538855,
          0.6101915877859425,
          0.6343552685018027,
          0.6589881469014659,
          0.684090222984932,
          0.7096614967522015,
          0.735701968203274,
          0.7622116373381498,
          0.7891905041568286,
          0.8166385686593104,
          0.8445558308455952,
          0.8729422907156833,
          0.9017979482695745,
          0.931122803507269,
          0.960916856428766,
          0.9911801070340667,
          1.0219125553231703,
          1.0531142012960768,
          1.0847850449527867,
          1.1169250862933,
          1.149534325317616,
          1.182612762025735,
          1.2161603964176573,
          1.2501772284933828,
          1.284663258252911,
          1.3196184856962425,
          1.3550429108233775,
          1.390936533634315,
          1.427299354129056,
          1.4641313723076,
          1.5014325881699468,
          1.5392030017160971,
          1.5774426129460501,
          1.616151421859807,
          1.6553294284573659,
          1.6949766327387297,
          1.7350930347038946,
          1.7756786343528637,
          1.8167334316856365,
          1.8582574267022107,
          1.900250619402589,
          1.9427130097867704,
          1.9856445978547548,
          2.0290453836065416,
          2.072915367042133,
          2.1172545481615264,
          2.1620629269647234,
          2.2073405034517233,
          2.2530872776225266,
          2.299303249477133,
          2.345988419015542,
          2.3931427862377546,
          2.44076635114377,
          2.488859113733589,
          2.53742107400721,
          2.586452231964636,
          2.6359525876058627,
          2.6859221409308938,
          2.736360891939728,
          2.7872688406323656,
          2.8386459870088054,
          2.8904923310690496,
          2.942807872813096,
          2.9955926122409453,
          3.048846549352599,
          3.102569684148054,
          3.156762016627313,
          3.2114235467903756,
          3.2665542746372407,
          3.3221542001679087,
          3.3782233233823806,
          3.434761644280654,
          3.491769162862733,
          3.5492458791286134,
          3.6071917930782975,
          3.6656069047117854,
          3.7244912140290745,
          3.783844721030168,
          3.843667425715064,
          3.903959328083764,
          3.9647204281362654,
          4.025950725872573,
          4.08765022129268,
          4.149818914396592,
          4.212456805184307,
          4.275563893655826,
          4.339140179811147,
          4.40318566365027,
          4.467700345173198,
          4.5326842243799295,
          4.598137301270463,
          4.6640595758447985,
          4.73045104810294,
          4.797311718044882,
          4.864641585670627,
          4.932440650980177,
          5.000708913973529,
          5.069446374650684,
          5.138653033011644,
          5.208328889056405,
          5.278473942784969,
          5.349088194197338,
          5.420171643293508,
          5.491724290073482,
          5.56374613453726,
          5.63623717668484,
          5.709197416516222,
          5.782626854031411,
          5.8565254892304,
          5.930893322113192,
          6.005730352679787,
          6.081036580930186,
          6.156812006864389,
          6.233056630482392,
          6.309770451784203,
          6.3869534707698135,
          6.464605687439228,
          6.542727101792444,
          6.621317713829463,
          6.700377523550292,
          6.779906530954919,
          6.859904736043346,
          6.940372138815579,
          7.021308739271616,
          7.102714537411455,
          7.184589533235098,
          7.266933726742546,
          7.349747117933792,
          7.433029706808843,
          7.516781493367697,
          7.601002477610356,
          7.685692659536819,
          7.770852039147082,
          7.856480616441148,
          7.942578391419019,
          8.029145364080692,
          8.11618153442617,
          8.203686902455452,
          8.291661468168533,
          8.380105231565418,
          8.469018192646105,
          8.558400351410599,
          8.648251707858897,
          8.738572261990992,
          8.829362013806893,
          8.9206209633066,
          9.012349110490106,
          9.104546455357415,
          9.197212997908531,
          9.29034873814345
         ],
         "yaxis": "y",
         "type": "scatter"
        }
       ],
       "layout": {
        "template": {
         "data": {
          "histogram2dcontour": [
           {
            "type": "histogram2dcontour",
            "colorbar": {
             "outlinewidth": 0,
             "ticks": ""
            },
            "colorscale": [
             [
              0.0,
              "#0d0887"
             ],
             [
              0.1111111111111111,
              "#46039f"
             ],
             [
              0.2222222222222222,
              "#7201a8"
             ],
             [
              0.3333333333333333,
              "#9c179e"
             ],
             [
              0.4444444444444444,
              "#bd3786"
             ],
             [
              0.5555555555555556,
              "#d8576b"
             ],
             [
              0.6666666666666666,
              "#ed7953"
             ],
             [
              0.7777777777777778,
              "#fb9f3a"
             ],
             [
              0.8888888888888888,
              "#fdca26"
             ],
             [
              1.0,
              "#f0f921"
             ]
            ]
           }
          ],
          "choropleth": [
           {
            "type": "choropleth",
            "colorbar": {
             "outlinewidth": 0,
             "ticks": ""
            }
           }
          ],
          "histogram2d": [
           {
            "type": "histogram2d",
            "colorbar": {
             "outlinewidth": 0,
             "ticks": ""
            },
            "colorscale": [
             [
              0.0,
              "#0d0887"
             ],
             [
              0.1111111111111111,
              "#46039f"
             ],
             [
              0.2222222222222222,
              "#7201a8"
             ],
             [
              0.3333333333333333,
              "#9c179e"
             ],
             [
              0.4444444444444444,
              "#bd3786"
             ],
             [
              0.5555555555555556,
              "#d8576b"
             ],
             [
              0.6666666666666666,
              "#ed7953"
             ],
             [
              0.7777777777777778,
              "#fb9f3a"
             ],
             [
              0.8888888888888888,
              "#fdca26"
             ],
             [
              1.0,
              "#f0f921"
             ]
            ]
           }
          ],
          "heatmap": [
           {
            "type": "heatmap",
            "colorbar": {
             "outlinewidth": 0,
             "ticks": ""
            },
            "colorscale": [
             [
              0.0,
              "#0d0887"
             ],
             [
              0.1111111111111111,
              "#46039f"
             ],
             [
              0.2222222222222222,
              "#7201a8"
             ],
             [
              0.3333333333333333,
              "#9c179e"
             ],
             [
              0.4444444444444444,
              "#bd3786"
             ],
             [
              0.5555555555555556,
              "#d8576b"
             ],
             [
              0.6666666666666666,
              "#ed7953"
             ],
             [
              0.7777777777777778,
              "#fb9f3a"
             ],
             [
              0.8888888888888888,
              "#fdca26"
             ],
             [
              1.0,
              "#f0f921"
             ]
            ]
           }
          ],
          "heatmapgl": [
           {
            "type": "heatmapgl",
            "colorbar": {
             "outlinewidth": 0,
             "ticks": ""
            },
            "colorscale": [
             [
              0.0,
              "#0d0887"
             ],
             [
              0.1111111111111111,
              "#46039f"
             ],
             [
              0.2222222222222222,
              "#7201a8"
             ],
             [
              0.3333333333333333,
              "#9c179e"
             ],
             [
              0.4444444444444444,
              "#bd3786"
             ],
             [
              0.5555555555555556,
              "#d8576b"
             ],
             [
              0.6666666666666666,
              "#ed7953"
             ],
             [
              0.7777777777777778,
              "#fb9f3a"
             ],
             [
              0.8888888888888888,
              "#fdca26"
             ],
             [
              1.0,
              "#f0f921"
             ]
            ]
           }
          ],
          "contourcarpet": [
           {
            "type": "contourcarpet",
            "colorbar": {
             "outlinewidth": 0,
             "ticks": ""
            }
           }
          ],
          "contour": [
           {
            "type": "contour",
            "colorbar": {
             "outlinewidth": 0,
             "ticks": ""
            },
            "colorscale": [
             [
              0.0,
              "#0d0887"
             ],
             [
              0.1111111111111111,
              "#46039f"
             ],
             [
              0.2222222222222222,
              "#7201a8"
             ],
             [
              0.3333333333333333,
              "#9c179e"
             ],
             [
              0.4444444444444444,
              "#bd3786"
             ],
             [
              0.5555555555555556,
              "#d8576b"
             ],
             [
              0.6666666666666666,
              "#ed7953"
             ],
             [
              0.7777777777777778,
              "#fb9f3a"
             ],
             [
              0.8888888888888888,
              "#fdca26"
             ],
             [
              1.0,
              "#f0f921"
             ]
            ]
           }
          ],
          "surface": [
           {
            "type": "surface",
            "colorbar": {
             "outlinewidth": 0,
             "ticks": ""
            },
            "colorscale": [
             [
              0.0,
              "#0d0887"
             ],
             [
              0.1111111111111111,
              "#46039f"
             ],
             [
              0.2222222222222222,
              "#7201a8"
             ],
             [
              0.3333333333333333,
              "#9c179e"
             ],
             [
              0.4444444444444444,
              "#bd3786"
             ],
             [
              0.5555555555555556,
              "#d8576b"
             ],
             [
              0.6666666666666666,
              "#ed7953"
             ],
             [
              0.7777777777777778,
              "#fb9f3a"
             ],
             [
              0.8888888888888888,
              "#fdca26"
             ],
             [
              1.0,
              "#f0f921"
             ]
            ]
           }
          ],
          "mesh3d": [
           {
            "type": "mesh3d",
            "colorbar": {
             "outlinewidth": 0,
             "ticks": ""
            }
           }
          ],
          "scatter": [
           {
            "marker": {
             "line": {
              "color": "#283442"
             }
            },
            "type": "scatter"
           }
          ],
          "parcoords": [
           {
            "type": "parcoords",
            "line": {
             "colorbar": {
              "outlinewidth": 0,
              "ticks": ""
             }
            }
           }
          ],
          "scatterpolargl": [
           {
            "type": "scatterpolargl",
            "marker": {
             "colorbar": {
              "outlinewidth": 0,
              "ticks": ""
             }
            }
           }
          ],
          "bar": [
           {
            "error_x": {
             "color": "#f2f5fa"
            },
            "error_y": {
             "color": "#f2f5fa"
            },
            "marker": {
             "line": {
              "color": "rgb(17,17,17)",
              "width": 0.5
             },
             "pattern": {
              "fillmode": "overlay",
              "size": 10,
              "solidity": 0.2
             }
            },
            "type": "bar"
           }
          ],
          "scattergeo": [
           {
            "type": "scattergeo",
            "marker": {
             "colorbar": {
              "outlinewidth": 0,
              "ticks": ""
             }
            }
           }
          ],
          "scatterpolar": [
           {
            "type": "scatterpolar",
            "marker": {
             "colorbar": {
              "outlinewidth": 0,
              "ticks": ""
             }
            }
           }
          ],
          "histogram": [
           {
            "marker": {
             "pattern": {
              "fillmode": "overlay",
              "size": 10,
              "solidity": 0.2
             }
            },
            "type": "histogram"
           }
          ],
          "scattergl": [
           {
            "marker": {
             "line": {
              "color": "#283442"
             }
            },
            "type": "scattergl"
           }
          ],
          "scatter3d": [
           {
            "type": "scatter3d",
            "line": {
             "colorbar": {
              "outlinewidth": 0,
              "ticks": ""
             }
            },
            "marker": {
             "colorbar": {
              "outlinewidth": 0,
              "ticks": ""
             }
            }
           }
          ],
          "scattermapbox": [
           {
            "type": "scattermapbox",
            "marker": {
             "colorbar": {
              "outlinewidth": 0,
              "ticks": ""
             }
            }
           }
          ],
          "scatterternary": [
           {
            "type": "scatterternary",
            "marker": {
             "colorbar": {
              "outlinewidth": 0,
              "ticks": ""
             }
            }
           }
          ],
          "scattercarpet": [
           {
            "type": "scattercarpet",
            "marker": {
             "colorbar": {
              "outlinewidth": 0,
              "ticks": ""
             }
            }
           }
          ],
          "carpet": [
           {
            "aaxis": {
             "endlinecolor": "#A2B1C6",
             "gridcolor": "#506784",
             "linecolor": "#506784",
             "minorgridcolor": "#506784",
             "startlinecolor": "#A2B1C6"
            },
            "baxis": {
             "endlinecolor": "#A2B1C6",
             "gridcolor": "#506784",
             "linecolor": "#506784",
             "minorgridcolor": "#506784",
             "startlinecolor": "#A2B1C6"
            },
            "type": "carpet"
           }
          ],
          "table": [
           {
            "cells": {
             "fill": {
              "color": "#506784"
             },
             "line": {
              "color": "rgb(17,17,17)"
             }
            },
            "header": {
             "fill": {
              "color": "#2a3f5f"
             },
             "line": {
              "color": "rgb(17,17,17)"
             }
            },
            "type": "table"
           }
          ],
          "barpolar": [
           {
            "marker": {
             "line": {
              "color": "rgb(17,17,17)",
              "width": 0.5
             },
             "pattern": {
              "fillmode": "overlay",
              "size": 10,
              "solidity": 0.2
             }
            },
            "type": "barpolar"
           }
          ],
          "pie": [
           {
            "automargin": true,
            "type": "pie"
           }
          ]
         },
         "layout": {
          "autotypenumbers": "strict",
          "colorway": [
           "#636efa",
           "#EF553B",
           "#00cc96",
           "#ab63fa",
           "#FFA15A",
           "#19d3f3",
           "#FF6692",
           "#B6E880",
           "#FF97FF",
           "#FECB52"
          ],
          "font": {
           "color": "#f2f5fa"
          },
          "hovermode": "closest",
          "hoverlabel": {
           "align": "left"
          },
          "paper_bgcolor": "rgb(17,17,17)",
          "plot_bgcolor": "rgb(17,17,17)",
          "polar": {
           "bgcolor": "rgb(17,17,17)",
           "angularaxis": {
            "gridcolor": "#506784",
            "linecolor": "#506784",
            "ticks": ""
           },
           "radialaxis": {
            "gridcolor": "#506784",
            "linecolor": "#506784",
            "ticks": ""
           }
          },
          "ternary": {
           "bgcolor": "rgb(17,17,17)",
           "aaxis": {
            "gridcolor": "#506784",
            "linecolor": "#506784",
            "ticks": ""
           },
           "baxis": {
            "gridcolor": "#506784",
            "linecolor": "#506784",
            "ticks": ""
           },
           "caxis": {
            "gridcolor": "#506784",
            "linecolor": "#506784",
            "ticks": ""
           }
          },
          "coloraxis": {
           "colorbar": {
            "outlinewidth": 0,
            "ticks": ""
           }
          },
          "colorscale": {
           "sequential": [
            [
             0.0,
             "#0d0887"
            ],
            [
             0.1111111111111111,
             "#46039f"
            ],
            [
             0.2222222222222222,
             "#7201a8"
            ],
            [
             0.3333333333333333,
             "#9c179e"
            ],
            [
             0.4444444444444444,
             "#bd3786"
            ],
            [
             0.5555555555555556,
             "#d8576b"
            ],
            [
             0.6666666666666666,
             "#ed7953"
            ],
            [
             0.7777777777777778,
             "#fb9f3a"
            ],
            [
             0.8888888888888888,
             "#fdca26"
            ],
            [
             1.0,
             "#f0f921"
            ]
           ],
           "sequentialminus": [
            [
             0.0,
             "#0d0887"
            ],
            [
             0.1111111111111111,
             "#46039f"
            ],
            [
             0.2222222222222222,
             "#7201a8"
            ],
            [
             0.3333333333333333,
             "#9c179e"
            ],
            [
             0.4444444444444444,
             "#bd3786"
            ],
            [
             0.5555555555555556,
             "#d8576b"
            ],
            [
             0.6666666666666666,
             "#ed7953"
            ],
            [
             0.7777777777777778,
             "#fb9f3a"
            ],
            [
             0.8888888888888888,
             "#fdca26"
            ],
            [
             1.0,
             "#f0f921"
            ]
           ],
           "diverging": [
            [
             0,
             "#8e0152"
            ],
            [
             0.1,
             "#c51b7d"
            ],
            [
             0.2,
             "#de77ae"
            ],
            [
             0.3,
             "#f1b6da"
            ],
            [
             0.4,
             "#fde0ef"
            ],
            [
             0.5,
             "#f7f7f7"
            ],
            [
             0.6,
             "#e6f5d0"
            ],
            [
             0.7,
             "#b8e186"
            ],
            [
             0.8,
             "#7fbc41"
            ],
            [
             0.9,
             "#4d9221"
            ],
            [
             1,
             "#276419"
            ]
           ]
          },
          "xaxis": {
           "gridcolor": "#283442",
           "linecolor": "#506784",
           "ticks": "",
           "title": {
            "standoff": 15
           },
           "zerolinecolor": "#283442",
           "automargin": true,
           "zerolinewidth": 2
          },
          "yaxis": {
           "gridcolor": "#283442",
           "linecolor": "#506784",
           "ticks": "",
           "title": {
            "standoff": 15
           },
           "zerolinecolor": "#283442",
           "automargin": true,
           "zerolinewidth": 2
          },
          "scene": {
           "xaxis": {
            "backgroundcolor": "rgb(17,17,17)",
            "gridcolor": "#506784",
            "linecolor": "#506784",
            "showbackground": true,
            "ticks": "",
            "zerolinecolor": "#C8D4E3",
            "gridwidth": 2
           },
           "yaxis": {
            "backgroundcolor": "rgb(17,17,17)",
            "gridcolor": "#506784",
            "linecolor": "#506784",
            "showbackground": true,
            "ticks": "",
            "zerolinecolor": "#C8D4E3",
            "gridwidth": 2
           },
           "zaxis": {
            "backgroundcolor": "rgb(17,17,17)",
            "gridcolor": "#506784",
            "linecolor": "#506784",
            "showbackground": true,
            "ticks": "",
            "zerolinecolor": "#C8D4E3",
            "gridwidth": 2
           }
          },
          "shapedefaults": {
           "line": {
            "color": "#f2f5fa"
           }
          },
          "annotationdefaults": {
           "arrowcolor": "#f2f5fa",
           "arrowhead": 0,
           "arrowwidth": 1
          },
          "geo": {
           "bgcolor": "rgb(17,17,17)",
           "landcolor": "rgb(17,17,17)",
           "subunitcolor": "#506784",
           "showland": true,
           "showlakes": true,
           "lakecolor": "rgb(17,17,17)"
          },
          "title": {
           "x": 0.05
          },
          "updatemenudefaults": {
           "bgcolor": "#506784",
           "borderwidth": 0
          },
          "sliderdefaults": {
           "bgcolor": "#C8D4E3",
           "borderwidth": 1,
           "bordercolor": "rgb(17,17,17)",
           "tickwidth": 0
          },
          "mapbox": {
           "style": "dark"
          }
         }
        },
        "xaxis": {
         "anchor": "y",
         "domain": [
          0.0,
          1.0
         ],
         "title": {
          "text": "Flow [l/min]"
         }
        },
        "yaxis": {
         "anchor": "x",
         "domain": [
          0.0,
          1.0
         ],
         "title": {
          "text": "Head loss volute diffusor"
         }
        },
        "legend": {
         "title": {
          "text": "Speed"
         },
         "tracegroupgap": 0
        },
        "title": {
         "text": "Volute diffusor loss"
        }
       },
       "config": {
        "plotlyServerURL": "https://plot.ly"
       }
      },
      "text/html": "<div>                            <div id=\"75431cbb-b7b1-408e-aa34-d953cba32ec5\" class=\"plotly-graph-div\" style=\"height:525px; width:100%;\"></div>            <script type=\"text/javascript\">                require([\"plotly\"], function(Plotly) {                    window.PLOTLYENV=window.PLOTLYENV || {};                                    if (document.getElementById(\"75431cbb-b7b1-408e-aa34-d953cba32ec5\")) {                    Plotly.newPlot(                        \"75431cbb-b7b1-408e-aa34-d953cba32ec5\",                        [{\"hovertemplate\":\"Speed=1200<br>Flow [l/min]=%{x}<br>Head loss volute diffusor=%{y}<extra></extra>\",\"legendgroup\":\"1200\",\"line\":{\"color\":\"#636efa\",\"dash\":\"solid\"},\"marker\":{\"symbol\":\"circle\"},\"mode\":\"lines\",\"name\":\"1200\",\"orientation\":\"v\",\"showlegend\":true,\"x\":[6.0,12.0,18.000000000000004,24.0,30.0,36.00000000000001,42.00000000000001,48.0,54.00000000000001,60.0,66.0,72.00000000000001,78.00000000000001,84.00000000000001,90.0,96.0,102.00000000000001,108.00000000000001,114.00000000000001,120.0,126.0,132.0,138.0,144.0,150.0,156.0,162.0,168.0,174.0,180.0,186.0,192.0,198.0,204.0,210.0,216.0,222.0,228.0,234.0,240.0,246.00000000000003,252.0,258.00000000000006,264.0,270.00000000000006,276.00000000000006,282.0,288.00000000000006,294.0,300.0,306.00000000000006,312.00000000000006,318.00000000000006,324.0,330.00000000000006,336.00000000000006,342.0,348.00000000000006,354.0,360.0,366.00000000000006,372.00000000000006,378.00000000000006,384.0,390.00000000000006,396.00000000000006,402.0,408.00000000000006,414.0,420.00000000000006,426.00000000000006,432.00000000000006,438.00000000000006,444.0,450.00000000000006,456.00000000000006,462.0,468.00000000000006,474.0,480.0,486.0,491.99999999999994,498.00000000000006,504.0,510.0,516.0,522.0,528.0,534.0,540.0,546.0,552.0,557.9999999999999,564.0,570.0,576.0,582.0000000000001,587.9999999999999,593.9999999999999,600.0,606.0,612.0000000000001,618.0,624.0,630.0,636.0,642.0,648.0,654.0,660.0,666.0,672.0,677.9999999999999,684.0,690.0,696.0,702.0000000000001,707.9999999999999,713.9999999999999,720.0,726.0,732.0000000000001,738.0,744.0,750.0,756.0,762.0,768.0,774.0,780.0,786.0000000000001,792.0,797.9999999999999,804.0,810.0,816.0,822.0000000000001,827.9999999999999,834.0,840.0,846.0,852.0000000000001,858.0,864.0,870.0,876.0,882.0,888.0,894.0,900.0,906.0000000000001,912.0,917.9999999999999,924.0,930.0,936.0,942.0000000000002,948.0,954.0,960.0,966.0000000000001,972.0,977.9999999999998,984.0000000000001,990.0,996.0000000000001,1002.0,1008.0,1014.0000000000001,1020.0,1026.0,1032.0,1038.0,1044.0,1050.0,1056.0,1062.0,1068.0,1074.0,1080.0,1086.0,1092.0,1098.0,1104.0,1110.0,1116.0,1122.0000000000002,1128.0,1134.0,1140.0,1145.9999999999998,1152.0000000000002,1158.0,1164.0000000000002,1170.0,1175.9999999999998,1182.0,1188.0,1194.0000000000002],\"xaxis\":\"x\",\"y\":[0.0002345988419015542,0.0009383953676062168,0.0021113895771139885,0.0037535814704248672,0.005864971047538855,0.008445558308455954,0.011495343253176157,0.015014325881699469,0.019002506194025895,0.02345988419015542,0.02838645987008807,0.033782233233823816,0.03964720428136267,0.04598137301270463,0.0527847394278497,0.060057303526797876,0.06779906530954917,0.07601002477610358,0.08469018192646109,0.09383953676062168,0.10345808927858537,0.11354583948035228,0.12410278736592217,0.1351289329352952,0.14662427618847138,0.15858881712545062,0.171022555746233,0.1839254920508185,0.19729762603920706,0.2111389577113988,0.2254494870673936,0.2402292141071915,0.2554781388307925,0.2711962612381967,0.28738358132940395,0.3040400991044142,0.32116581456322774,0.33876072770584426,0.3568248385322639,0.3753581470424867,0.3943606532365127,0.4138323571143417,0.4337732586759738,0.4541833579214091,0.4750626548506474,0.49641114946368897,0.5182288417605333,0.5405157317411811,0.5632718194056319,0.5864971047538855,0.6101915877859425,0.6343552685018027,0.6589881469014659,0.684090222984932,0.7096614967522015,0.735701968203274,0.7622116373381498,0.7891905041568286,0.8166385686593104,0.8445558308455952,0.8729422907156833,0.9017979482695745,0.931122803507269,0.960916856428766,0.9911801070340667,1.0219125553231703,1.0531142012960768,1.0847850449527867,1.1169250862933,1.149534325317616,1.182612762025735,1.2161603964176573,1.2501772284933828,1.284663258252911,1.3196184856962425,1.3550429108233775,1.390936533634315,1.427299354129056,1.4641313723076,1.5014325881699468,1.5392030017160971,1.5774426129460501,1.616151421859807,1.6553294284573659,1.6949766327387297,1.7350930347038946,1.7756786343528637,1.8167334316856365,1.8582574267022107,1.900250619402589,1.9427130097867704,1.9856445978547548,2.0290453836065416,2.072915367042133,2.1172545481615264,2.1620629269647234,2.2073405034517233,2.2530872776225266,2.299303249477133,2.345988419015542,2.3931427862377546,2.44076635114377,2.488859113733589,2.53742107400721,2.586452231964636,2.6359525876058627,2.6859221409308938,2.736360891939728,2.7872688406323656,2.8386459870088054,2.8904923310690496,2.942807872813096,2.9955926122409453,3.048846549352599,3.102569684148054,3.156762016627313,3.2114235467903756,3.2665542746372407,3.3221542001679087,3.3782233233823806,3.434761644280654,3.491769162862733,3.5492458791286134,3.6071917930782975,3.6656069047117854,3.7244912140290745,3.783844721030168,3.843667425715064,3.903959328083764,3.9647204281362654,4.025950725872573,4.08765022129268,4.149818914396592,4.212456805184307,4.275563893655826,4.339140179811147,4.40318566365027,4.467700345173198,4.5326842243799295,4.598137301270463,4.6640595758447985,4.73045104810294,4.797311718044882,4.864641585670627,4.932440650980177,5.000708913973529,5.069446374650684,5.138653033011644,5.208328889056405,5.278473942784969,5.349088194197338,5.420171643293508,5.491724290073482,5.56374613453726,5.63623717668484,5.709197416516222,5.782626854031411,5.8565254892304,5.930893322113192,6.005730352679787,6.081036580930186,6.156812006864389,6.233056630482392,6.309770451784203,6.3869534707698135,6.464605687439228,6.542727101792444,6.621317713829463,6.700377523550292,6.779906530954919,6.859904736043346,6.940372138815579,7.021308739271616,7.102714537411455,7.184589533235098,7.266933726742546,7.349747117933792,7.433029706808843,7.516781493367697,7.601002477610356,7.685692659536819,7.770852039147082,7.856480616441148,7.942578391419019,8.029145364080692,8.11618153442617,8.203686902455452,8.291661468168533,8.380105231565418,8.469018192646105,8.558400351410599,8.648251707858897,8.738572261990992,8.829362013806893,8.9206209633066,9.012349110490106,9.104546455357415,9.197212997908531,9.29034873814345],\"yaxis\":\"y\",\"type\":\"scatter\"},{\"hovertemplate\":\"Speed=1800<br>Flow [l/min]=%{x}<br>Head loss volute diffusor=%{y}<extra></extra>\",\"legendgroup\":\"1800\",\"line\":{\"color\":\"#EF553B\",\"dash\":\"solid\"},\"marker\":{\"symbol\":\"circle\"},\"mode\":\"lines\",\"name\":\"1800\",\"orientation\":\"v\",\"showlegend\":true,\"x\":[6.0,12.0,18.000000000000004,24.0,30.0,36.00000000000001,42.00000000000001,48.0,54.00000000000001,60.0,66.0,72.00000000000001,78.00000000000001,84.00000000000001,90.0,96.0,102.00000000000001,108.00000000000001,114.00000000000001,120.0,126.0,132.0,138.0,144.0,150.0,156.0,162.0,168.0,174.0,180.0,186.0,192.0,198.0,204.0,210.0,216.0,222.0,228.0,234.0,240.0,246.00000000000003,252.0,258.00000000000006,264.0,270.00000000000006,276.00000000000006,282.0,288.00000000000006,294.0,300.0,306.00000000000006,312.00000000000006,318.00000000000006,324.0,330.00000000000006,336.00000000000006,342.0,348.00000000000006,354.0,360.0,366.00000000000006,372.00000000000006,378.00000000000006,384.0,390.00000000000006,396.00000000000006,402.0,408.00000000000006,414.0,420.00000000000006,426.00000000000006,432.00000000000006,438.00000000000006,444.0,450.00000000000006,456.00000000000006,462.0,468.00000000000006,474.0,480.0,486.0,491.99999999999994,498.00000000000006,504.0,510.0,516.0,522.0,528.0,534.0,540.0,546.0,552.0,557.9999999999999,564.0,570.0,576.0,582.0000000000001,587.9999999999999,593.9999999999999,600.0,606.0,612.0000000000001,618.0,624.0,630.0,636.0,642.0,648.0,654.0,660.0,666.0,672.0,677.9999999999999,684.0,690.0,696.0,702.0000000000001,707.9999999999999,713.9999999999999,720.0,726.0,732.0000000000001,738.0,744.0,750.0,756.0,762.0,768.0,774.0,780.0,786.0000000000001,792.0,797.9999999999999,804.0,810.0,816.0,822.0000000000001,827.9999999999999,834.0,840.0,846.0,852.0000000000001,858.0,864.0,870.0,876.0,882.0,888.0,894.0,900.0,906.0000000000001,912.0,917.9999999999999,924.0,930.0,936.0,942.0000000000002,948.0,954.0,960.0,966.0000000000001,972.0,977.9999999999998,984.0000000000001,990.0,996.0000000000001,1002.0,1008.0,1014.0000000000001,1020.0,1026.0,1032.0,1038.0,1044.0,1050.0,1056.0,1062.0,1068.0,1074.0,1080.0,1086.0,1092.0,1098.0,1104.0,1110.0,1116.0,1122.0000000000002,1128.0,1134.0,1140.0,1145.9999999999998,1152.0000000000002,1158.0,1164.0000000000002,1170.0,1175.9999999999998,1182.0,1188.0,1194.0000000000002],\"xaxis\":\"x\",\"y\":[0.0002345988419015542,0.0009383953676062168,0.0021113895771139885,0.0037535814704248672,0.005864971047538855,0.008445558308455954,0.011495343253176157,0.015014325881699469,0.019002506194025895,0.02345988419015542,0.02838645987008807,0.033782233233823816,0.03964720428136267,0.04598137301270463,0.0527847394278497,0.060057303526797876,0.06779906530954917,0.07601002477610358,0.08469018192646109,0.09383953676062168,0.10345808927858537,0.11354583948035228,0.12410278736592217,0.1351289329352952,0.14662427618847138,0.15858881712545062,0.171022555746233,0.1839254920508185,0.19729762603920706,0.2111389577113988,0.2254494870673936,0.2402292141071915,0.2554781388307925,0.2711962612381967,0.28738358132940395,0.3040400991044142,0.32116581456322774,0.33876072770584426,0.3568248385322639,0.3753581470424867,0.3943606532365127,0.4138323571143417,0.4337732586759738,0.4541833579214091,0.4750626548506474,0.49641114946368897,0.5182288417605333,0.5405157317411811,0.5632718194056319,0.5864971047538855,0.6101915877859425,0.6343552685018027,0.6589881469014659,0.684090222984932,0.7096614967522015,0.735701968203274,0.7622116373381498,0.7891905041568286,0.8166385686593104,0.8445558308455952,0.8729422907156833,0.9017979482695745,0.931122803507269,0.960916856428766,0.9911801070340667,1.0219125553231703,1.0531142012960768,1.0847850449527867,1.1169250862933,1.149534325317616,1.182612762025735,1.2161603964176573,1.2501772284933828,1.284663258252911,1.3196184856962425,1.3550429108233775,1.390936533634315,1.427299354129056,1.4641313723076,1.5014325881699468,1.5392030017160971,1.5774426129460501,1.616151421859807,1.6553294284573659,1.6949766327387297,1.7350930347038946,1.7756786343528637,1.8167334316856365,1.8582574267022107,1.900250619402589,1.9427130097867704,1.9856445978547548,2.0290453836065416,2.072915367042133,2.1172545481615264,2.1620629269647234,2.2073405034517233,2.2530872776225266,2.299303249477133,2.345988419015542,2.3931427862377546,2.44076635114377,2.488859113733589,2.53742107400721,2.586452231964636,2.6359525876058627,2.6859221409308938,2.736360891939728,2.7872688406323656,2.8386459870088054,2.8904923310690496,2.942807872813096,2.9955926122409453,3.048846549352599,3.102569684148054,3.156762016627313,3.2114235467903756,3.2665542746372407,3.3221542001679087,3.3782233233823806,3.434761644280654,3.491769162862733,3.5492458791286134,3.6071917930782975,3.6656069047117854,3.7244912140290745,3.783844721030168,3.843667425715064,3.903959328083764,3.9647204281362654,4.025950725872573,4.08765022129268,4.149818914396592,4.212456805184307,4.275563893655826,4.339140179811147,4.40318566365027,4.467700345173198,4.5326842243799295,4.598137301270463,4.6640595758447985,4.73045104810294,4.797311718044882,4.864641585670627,4.932440650980177,5.000708913973529,5.069446374650684,5.138653033011644,5.208328889056405,5.278473942784969,5.349088194197338,5.420171643293508,5.491724290073482,5.56374613453726,5.63623717668484,5.709197416516222,5.782626854031411,5.8565254892304,5.930893322113192,6.005730352679787,6.081036580930186,6.156812006864389,6.233056630482392,6.309770451784203,6.3869534707698135,6.464605687439228,6.542727101792444,6.621317713829463,6.700377523550292,6.779906530954919,6.859904736043346,6.940372138815579,7.021308739271616,7.102714537411455,7.184589533235098,7.266933726742546,7.349747117933792,7.433029706808843,7.516781493367697,7.601002477610356,7.685692659536819,7.770852039147082,7.856480616441148,7.942578391419019,8.029145364080692,8.11618153442617,8.203686902455452,8.291661468168533,8.380105231565418,8.469018192646105,8.558400351410599,8.648251707858897,8.738572261990992,8.829362013806893,8.9206209633066,9.012349110490106,9.104546455357415,9.197212997908531,9.29034873814345],\"yaxis\":\"y\",\"type\":\"scatter\"}],                        {\"template\":{\"data\":{\"histogram2dcontour\":[{\"type\":\"histogram2dcontour\",\"colorbar\":{\"outlinewidth\":0,\"ticks\":\"\"},\"colorscale\":[[0.0,\"#0d0887\"],[0.1111111111111111,\"#46039f\"],[0.2222222222222222,\"#7201a8\"],[0.3333333333333333,\"#9c179e\"],[0.4444444444444444,\"#bd3786\"],[0.5555555555555556,\"#d8576b\"],[0.6666666666666666,\"#ed7953\"],[0.7777777777777778,\"#fb9f3a\"],[0.8888888888888888,\"#fdca26\"],[1.0,\"#f0f921\"]]}],\"choropleth\":[{\"type\":\"choropleth\",\"colorbar\":{\"outlinewidth\":0,\"ticks\":\"\"}}],\"histogram2d\":[{\"type\":\"histogram2d\",\"colorbar\":{\"outlinewidth\":0,\"ticks\":\"\"},\"colorscale\":[[0.0,\"#0d0887\"],[0.1111111111111111,\"#46039f\"],[0.2222222222222222,\"#7201a8\"],[0.3333333333333333,\"#9c179e\"],[0.4444444444444444,\"#bd3786\"],[0.5555555555555556,\"#d8576b\"],[0.6666666666666666,\"#ed7953\"],[0.7777777777777778,\"#fb9f3a\"],[0.8888888888888888,\"#fdca26\"],[1.0,\"#f0f921\"]]}],\"heatmap\":[{\"type\":\"heatmap\",\"colorbar\":{\"outlinewidth\":0,\"ticks\":\"\"},\"colorscale\":[[0.0,\"#0d0887\"],[0.1111111111111111,\"#46039f\"],[0.2222222222222222,\"#7201a8\"],[0.3333333333333333,\"#9c179e\"],[0.4444444444444444,\"#bd3786\"],[0.5555555555555556,\"#d8576b\"],[0.6666666666666666,\"#ed7953\"],[0.7777777777777778,\"#fb9f3a\"],[0.8888888888888888,\"#fdca26\"],[1.0,\"#f0f921\"]]}],\"heatmapgl\":[{\"type\":\"heatmapgl\",\"colorbar\":{\"outlinewidth\":0,\"ticks\":\"\"},\"colorscale\":[[0.0,\"#0d0887\"],[0.1111111111111111,\"#46039f\"],[0.2222222222222222,\"#7201a8\"],[0.3333333333333333,\"#9c179e\"],[0.4444444444444444,\"#bd3786\"],[0.5555555555555556,\"#d8576b\"],[0.6666666666666666,\"#ed7953\"],[0.7777777777777778,\"#fb9f3a\"],[0.8888888888888888,\"#fdca26\"],[1.0,\"#f0f921\"]]}],\"contourcarpet\":[{\"type\":\"contourcarpet\",\"colorbar\":{\"outlinewidth\":0,\"ticks\":\"\"}}],\"contour\":[{\"type\":\"contour\",\"colorbar\":{\"outlinewidth\":0,\"ticks\":\"\"},\"colorscale\":[[0.0,\"#0d0887\"],[0.1111111111111111,\"#46039f\"],[0.2222222222222222,\"#7201a8\"],[0.3333333333333333,\"#9c179e\"],[0.4444444444444444,\"#bd3786\"],[0.5555555555555556,\"#d8576b\"],[0.6666666666666666,\"#ed7953\"],[0.7777777777777778,\"#fb9f3a\"],[0.8888888888888888,\"#fdca26\"],[1.0,\"#f0f921\"]]}],\"surface\":[{\"type\":\"surface\",\"colorbar\":{\"outlinewidth\":0,\"ticks\":\"\"},\"colorscale\":[[0.0,\"#0d0887\"],[0.1111111111111111,\"#46039f\"],[0.2222222222222222,\"#7201a8\"],[0.3333333333333333,\"#9c179e\"],[0.4444444444444444,\"#bd3786\"],[0.5555555555555556,\"#d8576b\"],[0.6666666666666666,\"#ed7953\"],[0.7777777777777778,\"#fb9f3a\"],[0.8888888888888888,\"#fdca26\"],[1.0,\"#f0f921\"]]}],\"mesh3d\":[{\"type\":\"mesh3d\",\"colorbar\":{\"outlinewidth\":0,\"ticks\":\"\"}}],\"scatter\":[{\"marker\":{\"line\":{\"color\":\"#283442\"}},\"type\":\"scatter\"}],\"parcoords\":[{\"type\":\"parcoords\",\"line\":{\"colorbar\":{\"outlinewidth\":0,\"ticks\":\"\"}}}],\"scatterpolargl\":[{\"type\":\"scatterpolargl\",\"marker\":{\"colorbar\":{\"outlinewidth\":0,\"ticks\":\"\"}}}],\"bar\":[{\"error_x\":{\"color\":\"#f2f5fa\"},\"error_y\":{\"color\":\"#f2f5fa\"},\"marker\":{\"line\":{\"color\":\"rgb(17,17,17)\",\"width\":0.5},\"pattern\":{\"fillmode\":\"overlay\",\"size\":10,\"solidity\":0.2}},\"type\":\"bar\"}],\"scattergeo\":[{\"type\":\"scattergeo\",\"marker\":{\"colorbar\":{\"outlinewidth\":0,\"ticks\":\"\"}}}],\"scatterpolar\":[{\"type\":\"scatterpolar\",\"marker\":{\"colorbar\":{\"outlinewidth\":0,\"ticks\":\"\"}}}],\"histogram\":[{\"marker\":{\"pattern\":{\"fillmode\":\"overlay\",\"size\":10,\"solidity\":0.2}},\"type\":\"histogram\"}],\"scattergl\":[{\"marker\":{\"line\":{\"color\":\"#283442\"}},\"type\":\"scattergl\"}],\"scatter3d\":[{\"type\":\"scatter3d\",\"line\":{\"colorbar\":{\"outlinewidth\":0,\"ticks\":\"\"}},\"marker\":{\"colorbar\":{\"outlinewidth\":0,\"ticks\":\"\"}}}],\"scattermapbox\":[{\"type\":\"scattermapbox\",\"marker\":{\"colorbar\":{\"outlinewidth\":0,\"ticks\":\"\"}}}],\"scatterternary\":[{\"type\":\"scatterternary\",\"marker\":{\"colorbar\":{\"outlinewidth\":0,\"ticks\":\"\"}}}],\"scattercarpet\":[{\"type\":\"scattercarpet\",\"marker\":{\"colorbar\":{\"outlinewidth\":0,\"ticks\":\"\"}}}],\"carpet\":[{\"aaxis\":{\"endlinecolor\":\"#A2B1C6\",\"gridcolor\":\"#506784\",\"linecolor\":\"#506784\",\"minorgridcolor\":\"#506784\",\"startlinecolor\":\"#A2B1C6\"},\"baxis\":{\"endlinecolor\":\"#A2B1C6\",\"gridcolor\":\"#506784\",\"linecolor\":\"#506784\",\"minorgridcolor\":\"#506784\",\"startlinecolor\":\"#A2B1C6\"},\"type\":\"carpet\"}],\"table\":[{\"cells\":{\"fill\":{\"color\":\"#506784\"},\"line\":{\"color\":\"rgb(17,17,17)\"}},\"header\":{\"fill\":{\"color\":\"#2a3f5f\"},\"line\":{\"color\":\"rgb(17,17,17)\"}},\"type\":\"table\"}],\"barpolar\":[{\"marker\":{\"line\":{\"color\":\"rgb(17,17,17)\",\"width\":0.5},\"pattern\":{\"fillmode\":\"overlay\",\"size\":10,\"solidity\":0.2}},\"type\":\"barpolar\"}],\"pie\":[{\"automargin\":true,\"type\":\"pie\"}]},\"layout\":{\"autotypenumbers\":\"strict\",\"colorway\":[\"#636efa\",\"#EF553B\",\"#00cc96\",\"#ab63fa\",\"#FFA15A\",\"#19d3f3\",\"#FF6692\",\"#B6E880\",\"#FF97FF\",\"#FECB52\"],\"font\":{\"color\":\"#f2f5fa\"},\"hovermode\":\"closest\",\"hoverlabel\":{\"align\":\"left\"},\"paper_bgcolor\":\"rgb(17,17,17)\",\"plot_bgcolor\":\"rgb(17,17,17)\",\"polar\":{\"bgcolor\":\"rgb(17,17,17)\",\"angularaxis\":{\"gridcolor\":\"#506784\",\"linecolor\":\"#506784\",\"ticks\":\"\"},\"radialaxis\":{\"gridcolor\":\"#506784\",\"linecolor\":\"#506784\",\"ticks\":\"\"}},\"ternary\":{\"bgcolor\":\"rgb(17,17,17)\",\"aaxis\":{\"gridcolor\":\"#506784\",\"linecolor\":\"#506784\",\"ticks\":\"\"},\"baxis\":{\"gridcolor\":\"#506784\",\"linecolor\":\"#506784\",\"ticks\":\"\"},\"caxis\":{\"gridcolor\":\"#506784\",\"linecolor\":\"#506784\",\"ticks\":\"\"}},\"coloraxis\":{\"colorbar\":{\"outlinewidth\":0,\"ticks\":\"\"}},\"colorscale\":{\"sequential\":[[0.0,\"#0d0887\"],[0.1111111111111111,\"#46039f\"],[0.2222222222222222,\"#7201a8\"],[0.3333333333333333,\"#9c179e\"],[0.4444444444444444,\"#bd3786\"],[0.5555555555555556,\"#d8576b\"],[0.6666666666666666,\"#ed7953\"],[0.7777777777777778,\"#fb9f3a\"],[0.8888888888888888,\"#fdca26\"],[1.0,\"#f0f921\"]],\"sequentialminus\":[[0.0,\"#0d0887\"],[0.1111111111111111,\"#46039f\"],[0.2222222222222222,\"#7201a8\"],[0.3333333333333333,\"#9c179e\"],[0.4444444444444444,\"#bd3786\"],[0.5555555555555556,\"#d8576b\"],[0.6666666666666666,\"#ed7953\"],[0.7777777777777778,\"#fb9f3a\"],[0.8888888888888888,\"#fdca26\"],[1.0,\"#f0f921\"]],\"diverging\":[[0,\"#8e0152\"],[0.1,\"#c51b7d\"],[0.2,\"#de77ae\"],[0.3,\"#f1b6da\"],[0.4,\"#fde0ef\"],[0.5,\"#f7f7f7\"],[0.6,\"#e6f5d0\"],[0.7,\"#b8e186\"],[0.8,\"#7fbc41\"],[0.9,\"#4d9221\"],[1,\"#276419\"]]},\"xaxis\":{\"gridcolor\":\"#283442\",\"linecolor\":\"#506784\",\"ticks\":\"\",\"title\":{\"standoff\":15},\"zerolinecolor\":\"#283442\",\"automargin\":true,\"zerolinewidth\":2},\"yaxis\":{\"gridcolor\":\"#283442\",\"linecolor\":\"#506784\",\"ticks\":\"\",\"title\":{\"standoff\":15},\"zerolinecolor\":\"#283442\",\"automargin\":true,\"zerolinewidth\":2},\"scene\":{\"xaxis\":{\"backgroundcolor\":\"rgb(17,17,17)\",\"gridcolor\":\"#506784\",\"linecolor\":\"#506784\",\"showbackground\":true,\"ticks\":\"\",\"zerolinecolor\":\"#C8D4E3\",\"gridwidth\":2},\"yaxis\":{\"backgroundcolor\":\"rgb(17,17,17)\",\"gridcolor\":\"#506784\",\"linecolor\":\"#506784\",\"showbackground\":true,\"ticks\":\"\",\"zerolinecolor\":\"#C8D4E3\",\"gridwidth\":2},\"zaxis\":{\"backgroundcolor\":\"rgb(17,17,17)\",\"gridcolor\":\"#506784\",\"linecolor\":\"#506784\",\"showbackground\":true,\"ticks\":\"\",\"zerolinecolor\":\"#C8D4E3\",\"gridwidth\":2}},\"shapedefaults\":{\"line\":{\"color\":\"#f2f5fa\"}},\"annotationdefaults\":{\"arrowcolor\":\"#f2f5fa\",\"arrowhead\":0,\"arrowwidth\":1},\"geo\":{\"bgcolor\":\"rgb(17,17,17)\",\"landcolor\":\"rgb(17,17,17)\",\"subunitcolor\":\"#506784\",\"showland\":true,\"showlakes\":true,\"lakecolor\":\"rgb(17,17,17)\"},\"title\":{\"x\":0.05},\"updatemenudefaults\":{\"bgcolor\":\"#506784\",\"borderwidth\":0},\"sliderdefaults\":{\"bgcolor\":\"#C8D4E3\",\"borderwidth\":1,\"bordercolor\":\"rgb(17,17,17)\",\"tickwidth\":0},\"mapbox\":{\"style\":\"dark\"}}},\"xaxis\":{\"anchor\":\"y\",\"domain\":[0.0,1.0],\"title\":{\"text\":\"Flow [l/min]\"}},\"yaxis\":{\"anchor\":\"x\",\"domain\":[0.0,1.0],\"title\":{\"text\":\"Head loss volute diffusor\"}},\"legend\":{\"title\":{\"text\":\"Speed\"},\"tracegroupgap\":0},\"title\":{\"text\":\"Volute diffusor loss\"}},                        {\"responsive\": true}                    ).then(function(){\n                            \nvar gd = document.getElementById('75431cbb-b7b1-408e-aa34-d953cba32ec5');\nvar x = new MutationObserver(function (mutations, observer) {{\n        var display = window.getComputedStyle(gd).display;\n        if (!display || display === 'none') {{\n            console.log([gd, 'removed!']);\n            Plotly.purge(gd);\n            observer.disconnect();\n        }}\n}});\n\n// Listen for the removal of the full notebook cells\nvar notebookContainer = gd.closest('#notebook-container');\nif (notebookContainer) {{\n    x.observe(notebookContainer, {childList: true});\n}}\n\n// Listen for the clearing of the current output cell\nvar outputEl = gd.closest('.output');\nif (outputEl) {{\n    x.observe(outputEl, {childList: true});\n}}\n\n                        })                };                });            </script>        </div>"
     },
     "metadata": {},
     "output_type": "display_data"
    }
   ],
   "source": [
    "pump = CentrifugalPump(fluid=\"INCOMP::Water\", temperature=300, data=pump)\n",
    "pump.create_performance_figures(0.0001,0.02,0.0001,1200,1900,600)"
   ],
   "metadata": {
    "collapsed": false,
    "pycharm": {
     "name": "#%%\n"
    }
   }
  },
  {
   "cell_type": "code",
   "execution_count": 898,
   "outputs": [],
   "source": [
    "#|export\n",
    "from CoolProp.CoolProp import PropsSI\n",
    "from scipy.optimize import root_scalar\n",
    "from collections import namedtuple\n",
    "import pandas as pd\n",
    "import plotly.express as px\n",
    "\n",
    "class CentrifugalPump:\n",
    "    def __init__(self, fluid: str, temperature: float, data: CentrifugalPumpSpecification):\n",
    "        self.g = 9.81\n",
    "        self.P = 101325\n",
    "        self.T = temperature\n",
    "        self.fluid = fluid\n",
    "        self.d1 = data.impeller_inner_diameter\n",
    "        self.d2 = data.impeller_outer_diameter\n",
    "        self.b1 = data.inlet_blade_height\n",
    "        self.b2 = data.outlet_blade_height\n",
    "        self.b3 = data.volute_height\n",
    "        self.s = data.blade_clearance\n",
    "        self.t = data.blade_thickness\n",
    "        self.z = data.number_of_impeller_blades\n",
    "        self.epsilon = data.roughness\n",
    "        self.beta1 = data.blade_inlet_angle_rad\n",
    "        self.beta2 = data.blade_outlet_angle_rad\n",
    "        self.alpha1 = data.inlet_flow_angle_rad\n",
    "        self.r1 = self.d1 / 2\n",
    "        self.r2 = self.d2 / 2\n",
    "        self.A1 = np.pi * self.d1 * self.b1\n",
    "        self.A2 = np.pi * self.d2 * self.b2\n",
    "        self.A1r = self.A1 - self.t * self.z * self.b1\n",
    "        self.A2r = self.A2 - self.t * self.z * self.b2\n",
    "        self.A4 = data.volute_throat_area\n",
    "        self.A5 = self.A4 * data.diffuser_area_ratio\n",
    "\n",
    "    def _friction_colebrook(self, f, dh, Re):\n",
    "        res = 1 / np.sqrt(f) + 2 * np.log10(\n",
    "            (self.epsilon / dh) / 3.7 + 2.51 / (Re * np.sqrt(f))\n",
    "        )\n",
    "        return res\n",
    "\n",
    "    def _friction_factor(self, a1, a2, temperature, v_avg):\n",
    "        dh = 2 * (a2 * self.b2 + a1 * self.b1) / (a1 + a2 + self.b1 + self.b1)\n",
    "        v = PropsSI(\"V\", \"T\", temperature, \"P\", self.P, self.fluid)\n",
    "        rho = PropsSI('D', 'T', temperature, 'P', self.P, self.fluid)\n",
    "        Re = rho * v_avg * dh / v\n",
    "        f0 = 0.25 * (np.log((self.epsilon / dh) / 3.7 + 5.74 / Re ** 0.9)) ** (-2)\n",
    "        f = root_scalar(\n",
    "            method=\"bisect\",\n",
    "            f=self._friction_colebrook,\n",
    "            x0=f0,\n",
    "            args=(dh, Re),\n",
    "            bracket=[0.0001, 300],\n",
    "        ).root\n",
    "        return f\n",
    "\n",
    "    def _pump_friction_loss(self, v1: float, v2: float, temperature: float):\n",
    "        L = (self.d2 - self.d1) / (2 * np.sin(self.beta2))\n",
    "        a1 = np.pi * self.d1 / self.z * np.sin(self.beta1)\n",
    "        a2 = np.pi * self.d2 / self.z * np.sin(self.beta2)\n",
    "        dh = 2 * (a2 * self.b2 + a1 * self.b1) / (a1 + a2 + self.b1 + self.b1)\n",
    "        v_avg = (v1 + v2) / 2\n",
    "        f = self._friction_factor(a1=a1, a2=a2, temperature=temperature, v_avg=v_avg)\n",
    "        Hl_f = f * L * v_avg ** 2 / (dh * 2 * self.g)\n",
    "\n",
    "        return Hl_f\n",
    "\n",
    "    def _pump_incidence_loss(self, beta1, beta1_fl, w1):\n",
    "        lmda = np.sin(beta1_fl) / np.sin(2 * beta1_fl - beta1) - np.sqrt(\n",
    "            (np.sin(beta1_fl) ** 2 - np.sin(beta1) * np.sin(2 * beta1_fl - beta1))\n",
    "            / (np.sin(2 * beta1_fl - beta1)) ** 2\n",
    "        )\n",
    "        Hl_inc = (\n",
    "            w1 ** 2\n",
    "            / (2 * self.g)\n",
    "            * (1 / lmda) ** 2\n",
    "            * (1 - lmda * np.sin(beta1_fl) / np.sin(beta1)) ** 2\n",
    "        )\n",
    "        return Hl_inc\n",
    "\n",
    "    def _pump_leak_loss_open(self, Hth):\n",
    "        a2 = np.pi * self.d2 / self.z * np.sin(self.beta2)\n",
    "        nq = 20\n",
    "        Hl_leak_ratio = (2.5 * self.s / self.d2) / (\n",
    "            np.sqrt(self.b2 / self.d2 * (1 - self.d1 / self.d2))\n",
    "            * (self.t / a2)\n",
    "            * nq ** 0.1\n",
    "            * np.sin(self.beta2) ** 1.2\n",
    "            * np.sin(self.beta1) ** 0.4\n",
    "        )\n",
    "        return Hl_leak_ratio * Hth\n",
    "\n",
    "    def _pump_leak_loss_closed(self, Q, Hth, omega, w1: float, w2: float, temperature: float):\n",
    "        Hl_stat = Hth - (omega / 2) ** 2 * (self.d2 ** 2 - self.d1 ** 2) / (8 * self.g)\n",
    "        a1 = np.pi * self.d1 / self.z * np.sin(self.beta1)\n",
    "        a2 = np.pi * self.d2 / self.z * np.sin(self.beta2)\n",
    "        w_avg = (w1 + w2) / 2\n",
    "        f = self._friction_factor(a1=a1, a2=a2, temperature=temperature, v_avg=w_avg)\n",
    "        L_gap = (self.d2 - self.d1) / 2\n",
    "        v_gap = np.sqrt(2 * self.g * Hl_stat / (f * L_gap / self.s + 0.5 + 0.5))\n",
    "        A_gap = np.pi * self.d2 * self.s\n",
    "        Q_leak = v_gap * A_gap\n",
    "        eta_vol = Q / (Q + Q_leak)\n",
    "        return eta_vol\n",
    "\n",
    "    def _pump_diffusion_loss(self, w1):\n",
    "        Hl_d = 0.25 * w1 ** 2 / (2 * self.g)\n",
    "        return Hl_d\n",
    "\n",
    "    def _volute_friction_loss(self, Q, temperature):\n",
    "        dh_volute = 4 * self.A4 / (4 * self.b3)\n",
    "        d3 = self.d2 + 2 * self.b3\n",
    "        c4m = Q / self.A4\n",
    "        v = PropsSI(\"V\", \"T\", temperature, \"P\", self.P, self.fluid)\n",
    "        rho = PropsSI('D', 'T', temperature, 'P', self.P, self.fluid)\n",
    "        Re = rho * c4m * dh_volute / v\n",
    "        f0 = 0.25 * (np.log((self.epsilon / dh_volute) / 3.7 + 5.74 / Re ** 0.9)) ** (\n",
    "            -2\n",
    "        )\n",
    "        f = root_scalar(\n",
    "            method=\"bisect\",\n",
    "            f=self._friction_colebrook,\n",
    "            x0=f0,\n",
    "            args=(dh_volute, Re),\n",
    "            bracket=[0.0001, 100],\n",
    "        ).root\n",
    "\n",
    "        Hl_f_v = f * (4 * d3 * self.b3 * c4m ** 2) / (dh_volute ** 2 * 2 * self.g)\n",
    "        return Hl_f_v\n",
    "\n",
    "    def _volute_radial_loss(self, c2r):\n",
    "        Hl_radial_v = c2r ** 2 / (2 * self.g)\n",
    "        return Hl_radial_v\n",
    "\n",
    "    def _volute_head_loss(self, Q, c_theta_2):\n",
    "        c4m = Q / self.A4\n",
    "        d4 = self.d2 + self.b3 + np.sqrt(self.A4 / np.pi) / 2\n",
    "        c_theta_4 = c_theta_2 * self.d2 / d4\n",
    "        Hl_h_v = 0.8 * (c_theta_4 ** 2 - c4m ** 2) / (2 * self.g)\n",
    "        return Hl_h_v\n",
    "\n",
    "    def _volute_diffuser_loss(self, Q):\n",
    "        cp = 2 * ((self.A4 / self.A5) - (self.A4 / self.A5) ** 2)\n",
    "        delta_diff = 1 - cp\n",
    "        c4m = Q / self.A4\n",
    "        Hl_diff_v = delta_diff * c4m ** 2 / (2 * self.g)\n",
    "        return Hl_diff_v\n",
    "\n",
    "    def _power_disk_friction(self, temperature, u2):\n",
    "        v = PropsSI(\"V\", \"T\", temperature, \"P\", self.P, self.fluid)\n",
    "        rho = PropsSI('D', 'T', temperature, 'P', self.P, self.fluid)\n",
    "        k = 7.3e-4 * (2 * v * 1e6 / (u2 * self.d2)) ** (1 / 8)\n",
    "        P_disk = k * rho * u2 ** 3 * self.d2 * (self.d2 + 5 * self.s)\n",
    "        return P_disk\n",
    "\n",
    "    def pump_head(self, Q, n, temperature):\n",
    "        omega = n / 60 * 2 * np.pi\n",
    "\n",
    "        c1m = Q / self.A1r\n",
    "        c2m = Q / self.A2r\n",
    "\n",
    "        u1 = omega * self.r1\n",
    "        u2 = omega * self.r2\n",
    "\n",
    "        c_theta_1 = c1m / np.tan(self.alpha1)\n",
    "        c1 = np.sqrt(c1m ** 2 + c_theta_1 ** 2)\n",
    "        w_theta_1 = u1 - c_theta_1\n",
    "        w1 = np.sqrt(c1m ** 2 + w_theta_1 ** 2)\n",
    "        beta1_fl = np.arctan(c1m / w_theta_1)\n",
    "        incidence = self.beta1 - beta1_fl\n",
    "\n",
    "        sigma = 1 - np.sin(self.beta2) / (self.z ** 0.7)\n",
    "\n",
    "        w_theta_2 = c2m / np.tan(self.beta2)\n",
    "        w2 = np.sqrt(c2m ** 2 + w_theta_2 ** 2)\n",
    "        c_theta_2_slip = sigma * (u2 - w_theta_2)\n",
    "        w_theta_2_slip = u2 - c_theta_2_slip\n",
    "        beta2_fl = np.arctan(c2m / w_theta_2_slip)\n",
    "\n",
    "        Hth = 1 / self.g * (u2 * c_theta_2_slip - u1 * c_theta_1)\n",
    "        Hl_f = self._pump_friction_loss(v1=w1, v2=w2, temperature=temperature)\n",
    "        Hl_inc = self._pump_incidence_loss(beta1=self.beta1, beta1_fl=beta1_fl, w1=w1)\n",
    "        Hl_leak = self._pump_leak_loss_open(Hth=Hth)\n",
    "        Hl_d = self._pump_diffusion_loss(w1=w1)\n",
    "        Hl_f_v = self._volute_friction_loss(Q=Q, temperature=temperature)\n",
    "        Hl_r_v = self._volute_radial_loss(c2r=c2m)\n",
    "        Hl_h_v = self._volute_head_loss(Q=Q, c_theta_2=c_theta_2_slip)\n",
    "        Hl_diff_v = self._volute_diffuser_loss(Q=Q)\n",
    "        H_out = (\n",
    "            Hth - Hl_f - Hl_inc - Hl_leak - Hl_d - Hl_f_v - Hl_r_v - Hl_h_v - Hl_diff_v\n",
    "        )\n",
    "\n",
    "        rho = PropsSI('D', 'T', temperature, 'P', self.P, self.fluid)\n",
    "\n",
    "        P_disk = self._power_disk_friction(temperature=temperature, u2=u2)\n",
    "        P_hyd = Hth * self.g * rho * Q\n",
    "        P_out = H_out * self.g * rho * Q\n",
    "        P_in = P_hyd + P_disk\n",
    "        eta = P_out / P_in\n",
    "\n",
    "        PumpPerformance = namedtuple('PumpPerformance', ['head',\n",
    "                                                         'head_incidence',\n",
    "                                                         'head_theoretical',\n",
    "                                                         'pump_friction_loss',\n",
    "                                                         'pump_incidence_loss',\n",
    "                                                         'pump_diffusion_loss',\n",
    "                                                         'volute_friction_loss',\n",
    "                                                         'volute_radial_loss',\n",
    "                                                         'volute_head_loss',\n",
    "                                                         'volute_diffuser_loss',\n",
    "                                                         'power_in',\n",
    "                                                         'power_out',\n",
    "                                                         'pump_efficiency'])\n",
    "\n",
    "        return PumpPerformance(H_out,\n",
    "                               np.rad2deg(self.beta1 - beta1_fl),\n",
    "                               Hth,\n",
    "                               Hl_f,\n",
    "                               Hl_inc,\n",
    "                               Hl_d,\n",
    "                               Hl_f_v,\n",
    "                               Hl_r_v,\n",
    "                               Hl_h_v,\n",
    "                               Hl_diff_v,\n",
    "                               P_in,\n",
    "                               P_out,\n",
    "                               eta)\n",
    "\n",
    "    def create_performance_figures(self, min_Q, max_Q, dQ, min_n, max_n, dn):\n",
    "        n = []\n",
    "        Q = []\n",
    "        H = []\n",
    "        Hth = []\n",
    "        inc_loss = []\n",
    "        inc = []\n",
    "        Hl_f = []\n",
    "        Hl_d = []\n",
    "        Hl_f_v = []\n",
    "        Hl_r_v = []\n",
    "        Hl_h_v = []\n",
    "        Hl_diff_v = []\n",
    "        power_in = []\n",
    "        power_out = []\n",
    "        eta = []\n",
    "        for speed in np.arange(min_n, max_n, dn):\n",
    "            for flow in np.arange(min_Q, max_Q, dQ):\n",
    "                pump_performance = pump.pump_head(Q=flow, n=speed, temperature=self.T)\n",
    "                n.append(speed)\n",
    "                Q.append(flow * 1000 * 60)\n",
    "                H.append(pump_performance.head)\n",
    "                Hth.append(pump_performance.head_theoretical)\n",
    "                inc_loss.append(pump_performance.pump_incidence_loss)\n",
    "                inc.append(pump_performance.head_incidence)\n",
    "                Hl_f.append(pump_performance.pump_friction_loss)\n",
    "                Hl_d.append(pump_performance.pump_diffusion_loss)\n",
    "                Hl_f_v.append(pump_performance.volute_friction_loss)\n",
    "                Hl_r_v.append(pump_performance.volute_radial_loss)\n",
    "                Hl_h_v.append(pump_performance.volute_head_loss)\n",
    "                Hl_diff_v.append(pump_performance.volute_diffuser_loss)\n",
    "                power_in.append(pump_performance.power_in / 1000)\n",
    "                power_out.append(pump_performance.power_out / 1000)\n",
    "                eta.append(pump_performance.pump_efficiency)\n",
    "        pump_dict = {'Speed':n, 'Flow [l/min]':Q, 'Head [m]':H, 'Head theoretical':Hth, 'Incidence loss':inc_loss, 'Incidence':inc, 'Head loss friction':Hl_f, 'Head loss volute friction':Hl_f_v, 'Head loss volute radial':Hl_r_v, 'Head loss volute':Hl_h_v, 'Head loss volute diffusor': Hl_diff_v, 'Power in':power_in, 'Power out': power_out, 'Pump efficiency':eta}\n",
    "        pump_df = pd.DataFrame(data=pump_dict)\n",
    "\n",
    "        self.fig_flow_head_th = px.line(pump_df, x=\"Flow [l/min]\", y='Head theoretical', color=\"Speed\", title=\"Pump theoretical head\")\n",
    "        self.fig_flow_head_th.show()\n",
    "\n",
    "        self.fig_flow_head = px.line(pump_df, x=\"Flow [l/min]\", y=\"Head [m]\", color=\"Speed\", title=\"Pump head\")\n",
    "        self.fig_flow_head.show()\n",
    "\n",
    "        self.fig_flow_eta = px.line(pump_df, x=\"Flow [l/min]\", y='Pump efficiency', color=\"Speed\", title=\"Pump efficiency\")\n",
    "        self.fig_flow_eta.update_yaxes(range=[0, 1])\n",
    "        self.fig_flow_eta.show()\n",
    "\n",
    "        self.fig_flow_incloss = px.line(pump_df, x=\"Flow [l/min]\", y='Incidence loss', color=\"Speed\", title=\"Incidence loss\")\n",
    "        self.fig_flow_incloss.show()\n",
    "\n",
    "        self.fig_flow_friction = px.line(pump_df, x=\"Flow [l/min]\", y='Head loss friction', color=\"Speed\", title=\"Friction loss\")\n",
    "        self.fig_flow_friction.show()\n",
    "\n",
    "        self.fig_flow_volute_friction = px.line(pump_df, x=\"Flow [l/min]\", y='Head loss volute friction', color=\"Speed\", title=\"Volute friction loss\")\n",
    "        self.fig_flow_volute_friction.show()\n",
    "\n",
    "        self.fig_flow_volute_radial= px.line(pump_df, x=\"Flow [l/min]\", y='Head loss volute radial', color=\"Speed\", title=\"Volute radial loss\")\n",
    "        self.fig_flow_volute_radial.show()\n",
    "\n",
    "        self.fig_flow_volute_head= px.line(pump_df, x=\"Flow [l/min]\", y='Head loss volute', color=\"Speed\", title=\"Volute head loss\")\n",
    "        self.fig_flow_volute_head.show()\n",
    "\n",
    "        self.fig_flow_volute_diffusor= px.line(pump_df, x=\"Flow [l/min]\", y='Head loss volute diffusor', color=\"Speed\", title=\"Volute diffusor loss\")\n",
    "        self.fig_flow_volute_diffusor.show()\n",
    "\n",
    "\n",
    "\n"
   ],
   "metadata": {
    "collapsed": false,
    "pycharm": {
     "name": "#%%\n"
    }
   }
  },
  {
   "cell_type": "code",
   "execution_count": 898,
   "outputs": [],
   "source": [
    "pump = CentrifugalPump(fluid=\"INCOMP::Water\", temperature=300, data=pump)\n",
    "pump.create_performance_figures(0.0001,0.01,0.0001,500,3000,500)"
   ],
   "metadata": {
    "collapsed": false,
    "pycharm": {
     "name": "#%%\n"
    }
   }
  },
  {
   "cell_type": "code",
   "execution_count": null,
   "outputs": [],
   "source": [
    "\n",
    "\n",
    "\n",
    "\n",
    "results = pump.pump_head(Q=pump_flow, n=pump_rpm, temperature=300)\n",
    "\n"
   ],
   "metadata": {
    "collapsed": false,
    "pycharm": {
     "name": "#%%\n"
    }
   }
  },
  {
   "cell_type": "code",
   "execution_count": null,
   "outputs": [],
   "source": [
    "\n"
   ],
   "metadata": {
    "collapsed": false,
    "pycharm": {
     "name": "#%%\n"
    }
   }
  }
 ],
 "metadata": {
  "kernelspec": {
   "display_name": "Python 3 (ipykernel)",
   "language": "python",
   "name": "python3"
  }
 },
 "nbformat": 4,
 "nbformat_minor": 4
}