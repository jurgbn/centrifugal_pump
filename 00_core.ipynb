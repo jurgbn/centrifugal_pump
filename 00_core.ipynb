{
 "cells": [
  {
   "cell_type": "code",
   "execution_count": 1450,
   "metadata": {},
   "outputs": [],
   "source": [
    "#| default_exp centrifugal_pump"
   ]
  },
  {
   "cell_type": "markdown",
   "metadata": {},
   "source": [
    "# centrifugal_pump--Design and performance\n",
    "\n",
    "> A basic API for preliminary design and performance evaluation of centrifugal pumps"
   ]
  },
  {
   "cell_type": "code",
   "execution_count": 1451,
   "metadata": {},
   "outputs": [],
   "source": [
    "#|hide\n",
    "from nbdev.showdoc import *"
   ]
  },
  {
   "cell_type": "markdown",
   "source": [
    "> Pump initial parameters"
   ],
   "metadata": {
    "collapsed": false,
    "pycharm": {
     "name": "#%% md\n"
    }
   }
  },
  {
   "cell_type": "markdown",
   "source": [
    "Pump performance specification:"
   ],
   "metadata": {
    "collapsed": false,
    "pycharm": {
     "name": "#%% md\n"
    }
   }
  },
  {
   "cell_type": "code",
   "execution_count": 1452,
   "outputs": [],
   "source": [
    "pump_flow = 0.04\n",
    "pump_head = 10\n",
    "pump_rpm = 500"
   ],
   "metadata": {
    "collapsed": false,
    "pycharm": {
     "name": "#%%\n"
    }
   }
  },
  {
   "cell_type": "markdown",
   "source": [
    "Pump design input parameters"
   ],
   "metadata": {
    "collapsed": false,
    "pycharm": {
     "name": "#%% md\n"
    }
   }
  },
  {
   "cell_type": "code",
   "execution_count": 1453,
   "outputs": [],
   "source": [
    "blade_outlet_angle = 10\n",
    "number_of_blades = 6\n",
    "inlet_impeller_hydraulic_diameter = 0.15\n",
    "incidence = 0"
   ],
   "metadata": {
    "collapsed": false,
    "pycharm": {
     "name": "#%%\n"
    }
   }
  },
  {
   "cell_type": "code",
   "execution_count": 1454,
   "metadata": {},
   "outputs": [],
   "source": [
    "#|export\n",
    "from dataclasses import dataclass\n",
    "import numpy as np\n",
    "\n",
    "@dataclass\n",
    "class CentrifugalPumpSpecification:\n",
    "        impeller_inner_diameter: float\n",
    "        impeller_outer_diameter: float\n",
    "        inlet_blade_height: float\n",
    "        outlet_blade_height: float\n",
    "        blade_clearance: float\n",
    "        blade_thickness: float\n",
    "        number_of_impeller_blades: int\n",
    "        roughness: float\n",
    "        blade_inlet_angle_rad: float\n",
    "        blade_outlet_angle_rad: float\n",
    "        volute_throat_area: float\n",
    "        volute_height: float\n",
    "        diffuser_area_ratio: float\n",
    "        inlet_flow_angle_rad: float\n",
    "        diameter_size_check: bool = False\n",
    "        blade_height_size_check: bool = False\n",
    "        Kw: float = 0.0\n",
    "        Ks: float = 0.0\n",
    "        Kw_check: bool = False\n",
    "        Ks_check: bool = False\n"
   ]
  },
  {
   "cell_type": "code",
   "execution_count": 1455,
   "outputs": [],
   "source": [
    "#|export\n",
    "import matplotlib.pyplot as plt\n",
    "\n",
    "\n",
    "class PumpDesign:\n",
    "    def __init__(self,\n",
    "                 fluid: str,\n",
    "                 n_d: float,\n",
    "                 Q_d: float,\n",
    "                 H_d: float,\n",
    "                 head_coefficient: float = 0.5,\n",
    "                 flow_coefficient_phi: float = 0,\n",
    "                 epsilon: float=0.045e-3):\n",
    "        self.fluid = fluid\n",
    "        self.n_d = n_d\n",
    "        self.Q_d = Q_d\n",
    "        self.H_d = H_d\n",
    "        self.nq = n_d * np.sqrt(Q_d) / H_d ** (3 / 4)\n",
    "        if flow_coefficient_phi == 0:\n",
    "            self.flow_coefficient_phi = 3.7838e-3 * self.nq - 0.02919\n",
    "        self.epsilon = epsilon\n",
    "        self.head_coefficient_psi = head_coefficient\n",
    "\n",
    "    def pump_design(self,\n",
    "                    blade_outlet_angle_deg,\n",
    "                    number_of_blades,\n",
    "                    inlet_impeller_hydraulic_diameter,\n",
    "                    incidence,\n",
    "                    flow_inlet_angle_deg = 90,\n",
    "                    blade_thickness = 8e-3,\n",
    "                    volute_height=5e-3,\n",
    "                    diffusor_area_ratio=2,\n",
    "                    blade_clearance = 0.05e-3) -> CentrifugalPumpSpecification:\n",
    "\n",
    "        t = blade_thickness\n",
    "        z = number_of_blades\n",
    "        dh1 = inlet_impeller_hydraulic_diameter\n",
    "        i = incidence\n",
    "        b3 = volute_height\n",
    "        AR = diffusor_area_ratio\n",
    "        s = blade_clearance\n",
    "        beta2 = np.deg2rad(blade_outlet_angle_deg)\n",
    "        alpha1 = np.deg2rad(flow_inlet_angle_deg)\n",
    "\n",
    "        g = 9.81\n",
    "        omega_d = self.n_d / 60 * 2 * np.pi\n",
    "        d2 = 2 / omega_d * np.sqrt(g * self.H_d / self.head_coefficient_psi)\n",
    "        u2 = omega_d * d2 / 2\n",
    "        b2 = self.Q_d / (self.flow_coefficient_phi * u2 * (np.pi * d2 - t * z))\n",
    "        A2 = np.pi * d2 * b2 - t * z * b2\n",
    "        c2m = self.Q_d / A2\n",
    "        w_theta_2 = c2m / np.tan(beta2)\n",
    "\n",
    "        ns = 51.55 * self.nq\n",
    "        Kd = 1e-13 * ns ** 3 - 7e-9 * ns ** 2 + 1e-4 * ns + 0.2661\n",
    "        d1 = Kd * d2\n",
    "        b1 = (d1 - dh1) / 2\n",
    "        A1 = np.pi * ((dh1 + d1) / 2) * b1 - t * z * b1\n",
    "        c1m = self.Q_d / A1\n",
    "        beta1 = np.arctan(c1m / w_theta_2) + i\n",
    "\n",
    "        u1 = omega_d * d1 / 2\n",
    "        c_theta_1 = c1m / np.tan(alpha1)\n",
    "        w_theta_1 = u1 - c_theta_1\n",
    "        w1 = np.sqrt(c1m ** 2 + w_theta_1 ** 2)\n",
    "        sigma = 1 - np.sin(beta2) / (z ** 0.7)\n",
    "        w_theta_2 = c2m / np.tan(beta2)\n",
    "        w2 = np.sqrt(c2m ** 2 + w_theta_2 ** 2)\n",
    "        c_theta_2_slip = sigma * (u2 - w_theta_2)\n",
    "\n",
    "        diameter_size_check = d1 < d2\n",
    "        blade_height_size_check = b2 < b1\n",
    "\n",
    "        Kw = (w1 - w2) / w1\n",
    "        Ks = (u2 - u1) / c_theta_2_slip\n",
    "\n",
    "        L0 = 1/360 * c_theta_2_slip * d2/2\n",
    "        A4 = 0\n",
    "        fig, ax = plt.subplots(subplot_kw={'projection': 'polar'})\n",
    "        theta_list = []\n",
    "        d_n_list = []\n",
    "        d_1_list = []\n",
    "        d_2_list = []\n",
    "        for theta in range(1, 360, 1):\n",
    "            coeff_1 = np.pi * L0 * 360**2 /(16 * self.Q_d * theta)\n",
    "            coeff_2 = -(2 * np.pi * L0 * 360**2 * d2 / (16 * self.Q_d * theta) + 1 / 4)\n",
    "            coeff_3 = (d2**2 * np.pi * L0 * 360**2 / (16 * self.Q_d * theta) - d2/4)\n",
    "            d_n_root = np.roots([coeff_1, coeff_2, coeff_3])\n",
    "            d_n = d_n_root[0]\n",
    "            c_theta_n = L0 * 360 / (d2/2 + (d_n - d2) / 4)\n",
    "            d_v = (d_n - d2) / 2\n",
    "            A4 = np.pi * (d_v/2)**2\n",
    "            theta_list.append(theta/(360/(2*np.pi)))\n",
    "            d_n_list.append(max(d_n/2, d2/2 + b3))\n",
    "            d_2_list.append(d2/2)\n",
    "            d_1_list.append(d1/2)\n",
    "\n",
    "        ax.plot(theta_list, d_n_list)\n",
    "        ax.plot(theta_list, d_1_list)\n",
    "        ax.plot(theta_list, d_2_list)\n",
    "        # ax.set_rmax(0.25)\n",
    "        ax.set_rlabel_position(-22.5)  # Move radial labels away from plotted line\n",
    "        ax.grid(True)\n",
    "\n",
    "        ax.set_title(\"A line plot on a polar axis\", va='bottom')\n",
    "        plt.show()\n",
    "\n",
    "        pump_design_parameters = CentrifugalPumpSpecification(\n",
    "        impeller_inner_diameter = d1,\n",
    "        impeller_outer_diameter = d2,\n",
    "        inlet_blade_height = b1,\n",
    "        outlet_blade_height = b2,\n",
    "        volute_height = b3,\n",
    "        blade_clearance = s,\n",
    "        blade_thickness = t,\n",
    "        number_of_impeller_blades = z,\n",
    "        roughness = self.epsilon,\n",
    "        blade_inlet_angle_rad= beta1,\n",
    "        blade_outlet_angle_rad = beta2,\n",
    "        inlet_flow_angle_rad = alpha1,\n",
    "        volute_throat_area = A4,\n",
    "        diffuser_area_ratio=AR,\n",
    "        diameter_size_check=diameter_size_check,\n",
    "        blade_height_size_check=blade_height_size_check,\n",
    "        Kw=Kw,\n",
    "        Ks=Ks,\n",
    "        Kw_check=Kw<0.25,\n",
    "        Ks_check=Ks<0.9)\n",
    "\n",
    "\n",
    "        return pump_design_parameters\n"
   ],
   "metadata": {
    "collapsed": false,
    "pycharm": {
     "name": "#%%\n"
    }
   }
  },
  {
   "cell_type": "code",
   "execution_count": 1456,
   "outputs": [
    {
     "data": {
      "text/plain": "<Figure size 432x288 with 1 Axes>",
      "image/png": "[encoded data removed]"
     },
     "metadata": {
      "needs_background": "light"
     },
     "output_type": "display_data"
    }
   ],
   "source": [
    "design = PumpDesign(fluid=\"INCOMP::Water\", Q_d=pump_flow, H_d=pump_head, n_d=pump_rpm)\n",
    "pump = design.pump_design(blade_outlet_angle_deg=blade_outlet_angle,\n",
    "                        number_of_blades=number_of_blades,\n",
    "                        inlet_impeller_hydraulic_diameter=inlet_impeller_hydraulic_diameter,\n",
    "                        incidence=0)"
   ],
   "metadata": {
    "collapsed": false,
    "pycharm": {
     "name": "#%%\n"
    }
   }
  },
  {
   "cell_type": "markdown",
   "source": [
    "> Pump design evaluation\n",
    "\n",
    "\n",
    "Requirements:\n",
    "Pipe flow velocity into the pump should stay below 3 m/s"
   ],
   "metadata": {
    "collapsed": false,
    "pycharm": {
     "name": "#%% md\n"
    }
   }
  },
  {
   "cell_type": "code",
   "execution_count": 1457,
   "outputs": [
    {
     "name": "stdout",
     "output_type": "stream",
     "text": [
      "2.264 < 3 is True\n",
      "Minimum inlet hydraulic diameter: 0.13\n"
     ]
    }
   ],
   "source": [
    "flow_velocity = pump_flow / (np.pi * inlet_impeller_hydraulic_diameter**2 / 4)\n",
    "print('{} < 3 is {}'.format(round(flow_velocity, 3), flow_velocity < 3))\n",
    "min_diameter = round(np.sqrt(4 * pump_flow / (np.pi * 3)), 3)\n",
    "print('Minimum inlet hydraulic diameter: {}'.format(min_diameter))"
   ],
   "metadata": {
    "collapsed": false,
    "pycharm": {
     "name": "#%%\n"
    }
   }
  },
  {
   "cell_type": "markdown",
   "source": [
    "Inner blade diameter should be smaller than outer blade diameter"
   ],
   "metadata": {
    "collapsed": false,
    "pycharm": {
     "name": "#%% md\n"
    }
   }
  },
  {
   "cell_type": "code",
   "execution_count": 1458,
   "outputs": [
    {
     "name": "stdout",
     "output_type": "stream",
     "text": [
      "0.188 < 0.535 is True\n"
     ]
    }
   ],
   "source": [
    "print('{} < {} is {}'.format(round(pump.impeller_inner_diameter, 3), round(pump.impeller_outer_diameter, 3), pump.diameter_size_check))"
   ],
   "metadata": {
    "collapsed": false,
    "pycharm": {
     "name": "#%%\n"
    }
   }
  },
  {
   "cell_type": "markdown",
   "source": [
    "Inlet blade height have to be larger than the outlet blade height"
   ],
   "metadata": {
    "collapsed": false,
    "pycharm": {
     "name": "#%% md\n"
    }
   }
  },
  {
   "cell_type": "code",
   "execution_count": 1459,
   "outputs": [
    {
     "name": "stdout",
     "output_type": "stream",
     "text": [
      "0.019 > 0.046 is False\n"
     ]
    }
   ],
   "source": [
    "print('{} > {} is {}'.format(round(pump.inlet_blade_height, 3), round(pump.outlet_blade_height, 3), pump.blade_height_size_check))"
   ],
   "metadata": {
    "collapsed": false,
    "pycharm": {
     "name": "#%%\n"
    }
   }
  },
  {
   "cell_type": "markdown",
   "source": [
    "Small relative velocities: Kw < 0.25"
   ],
   "metadata": {
    "collapsed": false,
    "pycharm": {
     "name": "#%% md\n"
    }
   }
  },
  {
   "cell_type": "code",
   "execution_count": 1460,
   "outputs": [
    {
     "name": "stdout",
     "output_type": "stream",
     "text": [
      "0.531 < 0.25 is False\n"
     ]
    }
   ],
   "source": [
    "print('{} < 0.25 is {}'.format(round(pump.Kw, 3), pump.Kw_check))"
   ],
   "metadata": {
    "collapsed": false,
    "pycharm": {
     "name": "#%%\n"
    }
   }
  },
  {
   "cell_type": "markdown",
   "source": [
    "Stability factor: Ks < 0.9"
   ],
   "metadata": {
    "collapsed": false,
    "pycharm": {
     "name": "#%% md\n"
    }
   }
  },
  {
   "cell_type": "code",
   "execution_count": 1461,
   "outputs": [
    {
     "name": "stdout",
     "output_type": "stream",
     "text": [
      "0.87 < 0.9 is True\n"
     ]
    }
   ],
   "source": [
    "print('{} < 0.9 is {}'.format(round(pump.Ks, 3), pump.Ks_check))\n",
    "\n"
   ],
   "metadata": {
    "collapsed": false,
    "pycharm": {
     "name": "#%%\n"
    }
   }
  },
  {
   "cell_type": "code",
   "execution_count": 1462,
   "outputs": [],
   "source": [
    "#|export\n",
    "from CoolProp.CoolProp import PropsSI\n",
    "from scipy.optimize import root_scalar\n",
    "from collections import namedtuple\n",
    "\n",
    "class CentrifugalPump:\n",
    "    def __init__(self, fluid: str, temperature: float, data: CentrifugalPumpSpecification):\n",
    "        self.g = 9.81\n",
    "        self.P = 101325\n",
    "        self.T = temperature\n",
    "        self.fluid = fluid\n",
    "        self.d1 = data.impeller_inner_diameter\n",
    "        self.d2 = data.impeller_outer_diameter\n",
    "        self.b1 = data.inlet_blade_height\n",
    "        self.b2 = data.outlet_blade_height\n",
    "        self.b3 = data.volute_height\n",
    "        self.s = data.blade_clearance\n",
    "        self.t = data.blade_thickness\n",
    "        self.z = data.number_of_impeller_blades\n",
    "        self.epsilon = data.roughness\n",
    "        self.beta1 = data.blade_inlet_angle_rad\n",
    "        self.beta2 = data.blade_outlet_angle_rad\n",
    "        self.alpha1 = data.inlet_flow_angle_rad\n",
    "        self.r1 = self.d1 / 2\n",
    "        self.r2 = self.d2 / 2\n",
    "        self.A1 = np.pi * self.d1 * self.b1\n",
    "        self.A2 = np.pi * self.d2 * self.b2\n",
    "        self.A1r = self.A1 - self.t * self.z * self.b1\n",
    "        self.A2r = self.A2 - self.t * self.z * self.b2\n",
    "        self.A4 = data.volute_throat_area\n",
    "        self.A5 = self.A4 * data.diffuser_area_ratio\n",
    "\n",
    "    def _friction_colebrook(self, f, dh, Re):\n",
    "        res = 1 / np.sqrt(f) + 2 * np.log10(\n",
    "            (self.epsilon / dh) / 3.7 + 2.51 / (Re * np.sqrt(f))\n",
    "        )\n",
    "        return res\n",
    "\n",
    "    def _friction_factor(self, a1, a2, temperature, v_avg):\n",
    "        dh = 2 * (a2 * self.b2 + a1 * self.b1) / (a1 + a2 + self.b1 + self.b1)\n",
    "        v = PropsSI(\"V\", \"T\", temperature, \"P\", self.P, self.fluid)\n",
    "        rho = PropsSI('D', 'T', temperature, 'P', self.P, self.fluid)\n",
    "        Re = rho * v_avg * dh / v\n",
    "        f0 = 0.25 * (np.log((self.epsilon / dh) / 3.7 + 5.74 / Re ** 0.9)) ** (-2)\n",
    "        f = root_scalar(\n",
    "            method=\"bisect\",\n",
    "            f=self._friction_colebrook,\n",
    "            x0=f0,\n",
    "            args=(dh, Re),\n",
    "            bracket=[0.0001, 300],\n",
    "        ).root\n",
    "        return f\n",
    "\n",
    "    def _pump_friction_loss(self, v1: float, v2: float, temperature: float):\n",
    "        L = (self.d2 - self.d1) / (2 * np.sin(self.beta2))\n",
    "        a1 = np.pi * self.d1 / self.z * np.sin(self.beta1)\n",
    "        a2 = np.pi * self.d2 / self.z * np.sin(self.beta2)\n",
    "        dh = 2 * (a2 * self.b2 + a1 * self.b1) / (a1 + a2 + self.b1 + self.b1)\n",
    "        v_avg = (v1 + v2) / 2\n",
    "        f = self._friction_factor(a1=a1, a2=a2, temperature=temperature, v_avg=v_avg)\n",
    "        Hl_f = f * L * v_avg ** 2 / (dh * 2 * self.g)\n",
    "\n",
    "        return Hl_f\n",
    "\n",
    "    def _pump_incidence_loss(self, beta1, beta1_fl, w1):\n",
    "        lmda = np.sin(beta1_fl) / np.sin(2 * beta1_fl - beta1) - np.sqrt(\n",
    "            (np.sin(beta1_fl) ** 2 - np.sin(beta1) * np.sin(2 * beta1_fl - beta1))\n",
    "            / (np.sin(2 * beta1_fl - beta1)) ** 2\n",
    "        )\n",
    "        Hl_inc = (\n",
    "            w1 ** 2\n",
    "            / (2 * self.g)\n",
    "            * (1 / lmda) ** 2\n",
    "            * (1 - lmda * np.sin(beta1_fl) / np.sin(beta1)) ** 2\n",
    "        )\n",
    "        return Hl_inc\n",
    "\n",
    "    def _pump_leak_loss_open(self, Hth):\n",
    "        a2 = np.pi * self.d2 / self.z * np.sin(self.beta2)\n",
    "        nq = 20\n",
    "        Hl_leak_ratio = (2.5 * self.s / self.d2) / (\n",
    "            np.sqrt(self.b2 / self.d2 * (1 - self.d1 / self.d2))\n",
    "            * (self.t / a2)\n",
    "            * nq ** 0.1\n",
    "            * np.sin(self.beta2) ** 1.2\n",
    "            * np.sin(self.beta1) ** 0.4\n",
    "        )\n",
    "        return Hl_leak_ratio * Hth\n",
    "\n",
    "    def _pump_leak_loss_closed(self, Q, Hth, omega, w1: float, w2: float, temperature: float):\n",
    "        Hl_stat = Hth - (omega / 2) ** 2 * (self.d2 ** 2 - self.d1 ** 2) / (8 * self.g)\n",
    "        a1 = np.pi * self.d1 / self.z * np.sin(self.beta1)\n",
    "        a2 = np.pi * self.d2 / self.z * np.sin(self.beta2)\n",
    "        w_avg = (w1 + w2) / 2\n",
    "        f = self._friction_factor(a1=a1, a2=a2, temperature=temperature, v_avg=w_avg)\n",
    "        L_gap = (self.d2 - self.d1) / 2\n",
    "        v_gap = np.sqrt(2 * self.g * Hl_stat / (f * L_gap / self.s + 0.5 + 0.5))\n",
    "        A_gap = np.pi * self.d2 * self.s\n",
    "        Q_leak = v_gap * A_gap\n",
    "        eta_vol = Q / (Q + Q_leak)\n",
    "        return eta_vol\n",
    "\n",
    "    def _pump_diffusion_loss(self, w1):\n",
    "        Hl_d = 0.25 * w1 ** 2 / (2 * self.g)\n",
    "        return Hl_d\n",
    "\n",
    "    def _volute_friction_loss(self, Q, temperature):\n",
    "        dh_volute = 4 * self.A4 / (4 * self.b3)\n",
    "        d3 = self.d2 + 2 * self.b3\n",
    "        c4m = Q / self.A4\n",
    "        v = PropsSI(\"V\", \"T\", temperature, \"P\", self.P, self.fluid)\n",
    "        rho = PropsSI('D', 'T', temperature, 'P', self.P, self.fluid)\n",
    "        Re = rho * c4m * dh_volute / v\n",
    "        f0 = 0.25 * (np.log((self.epsilon / dh_volute) / 3.7 + 5.74 / Re ** 0.9)) ** (\n",
    "            -2\n",
    "        )\n",
    "        f = root_scalar(\n",
    "            method=\"bisect\",\n",
    "            f=self._friction_colebrook,\n",
    "            x0=f0,\n",
    "            args=(dh_volute, Re),\n",
    "            bracket=[0.0001, 100],\n",
    "        ).root\n",
    "\n",
    "        Hl_f_v = f * (4 * d3 * self.b3 * c4m ** 2) / (dh_volute ** 2 * 2 * self.g)\n",
    "        return Hl_f_v\n",
    "\n",
    "    def _volute_radial_loss(self, c2r):\n",
    "        Hl_radial_v = c2r ** 2 / (2 * self.g)\n",
    "        return Hl_radial_v\n",
    "\n",
    "    def _volute_head_loss(self, Q, c_theta_2):\n",
    "        c4m = Q / self.A4\n",
    "        d4 = self.d2 + self.b3 + np.sqrt(self.A4 / np.pi) / 2\n",
    "        c_theta_4 = c_theta_2 * self.d2 / d4\n",
    "        Hl_h_v = 0.8 * (c_theta_4 ** 2 - c4m ** 2) / (2 * self.g)\n",
    "        return Hl_h_v\n",
    "\n",
    "    def _volute_diffuser_loss(self, Q):\n",
    "        cp = 2 * ((self.A4 / self.A5) - (self.A4 / self.A5) ** 2)\n",
    "        delta_diff = 1 - cp\n",
    "        c4m = Q / self.A4\n",
    "        Hl_diff_v = delta_diff * c4m ** 2 / (2 * self.g)\n",
    "        return Hl_diff_v\n",
    "\n",
    "    def _power_disk_friction(self, temperature, u2):\n",
    "        v = PropsSI(\"V\", \"T\", temperature, \"P\", self.P, self.fluid)\n",
    "        rho = PropsSI('D', 'T', temperature, 'P', self.P, self.fluid)\n",
    "        k = 7.3e-4 * (2 * v * 1e6 / (u2 * self.d2)) ** (1 / 8)\n",
    "        P_disk = k * rho * u2 ** 3 * self.d2 * (self.d2 + 5 * self.s)\n",
    "        return P_disk\n",
    "\n",
    "    def pump_head(self, Q, n, temperature):\n",
    "        omega = n / 60 * 2 * np.pi\n",
    "\n",
    "        c1m = Q / self.A1r\n",
    "        c2m = Q / self.A2r\n",
    "\n",
    "        u1 = omega * self.r1\n",
    "        u2 = omega * self.r2\n",
    "\n",
    "        c_theta_1 = c1m / np.tan(self.alpha1)\n",
    "        c1 = np.sqrt(c1m ** 2 + c_theta_1 ** 2)\n",
    "        w_theta_1 = u1 - c_theta_1\n",
    "        w1 = np.sqrt(c1m ** 2 + w_theta_1 ** 2)\n",
    "        beta1_fl = np.arctan(c1m / w_theta_1)\n",
    "        incidence = self.beta1 - beta1_fl\n",
    "\n",
    "        sigma = 1 - np.sin(self.beta2) / (self.z ** 0.7)\n",
    "\n",
    "        w_theta_2 = c2m / np.tan(self.beta2)\n",
    "        w2 = np.sqrt(c2m ** 2 + w_theta_2 ** 2)\n",
    "        c_theta_2_slip = sigma * (u2 - w_theta_2)\n",
    "        w_theta_2_slip = u2 - c_theta_2_slip\n",
    "        beta2_fl = np.arctan(c2m / w_theta_2_slip)\n",
    "\n",
    "        Hth = 1 / self.g * (u2 * c_theta_2_slip - u1 * c_theta_1)\n",
    "        Hl_f = self._pump_friction_loss(v1=w1, v2=w2, temperature=temperature)\n",
    "        Hl_inc = self._pump_incidence_loss(beta1=self.beta1, beta1_fl=beta1_fl, w1=w1)\n",
    "        Hl_leak = self._pump_leak_loss_open(Hth=Hth)\n",
    "        Hl_d = self._pump_diffusion_loss(w1=w1)\n",
    "        Hl_f_v = self._volute_friction_loss(Q=Q, temperature=temperature)\n",
    "        Hl_r_v = self._volute_radial_loss(c2r=c2m)\n",
    "        Hl_h_v = self._volute_head_loss(Q=Q, c_theta_2=c_theta_2_slip)\n",
    "        Hl_diff_v = self._volute_diffuser_loss(Q=Q)\n",
    "        H_out = (\n",
    "            Hth - Hl_f - Hl_inc - Hl_leak - Hl_d - Hl_f_v - Hl_r_v - Hl_h_v - Hl_diff_v\n",
    "        )\n",
    "\n",
    "        rho = PropsSI('D', 'T', temperature, 'P', self.P, self.fluid)\n",
    "\n",
    "        P_disk = self._power_disk_friction(temperature=temperature, u2=u2)\n",
    "        P_hyd = Hth * self.g * rho * Q\n",
    "        P_out = H_out * self.g * rho * Q\n",
    "        P_in = P_hyd + P_disk\n",
    "        eta = P_out / P_in\n",
    "\n",
    "        PumpPerformance = namedtuple('PumpPerformance', ['head',\n",
    "                                                         'head_incidence',\n",
    "                                                         'head_theoretical',\n",
    "                                                         'pump_friction_loss',\n",
    "                                                         'pump_incidence_loss',\n",
    "                                                         'pump_diffusion_loss',\n",
    "                                                         'volute_friction_loss',\n",
    "                                                         'volute_radial_loss',\n",
    "                                                         'volute_head_loss',\n",
    "                                                         'volute_diffuser_loss',\n",
    "                                                         'power_in',\n",
    "                                                         'power_out',\n",
    "                                                         'pump_efficiency'])\n",
    "\n",
    "        return PumpPerformance(H_out,\n",
    "                               np.rad2deg(self.beta1 - beta1_fl),\n",
    "                               Hth,\n",
    "                               Hl_f,\n",
    "                               Hl_inc,\n",
    "                               Hl_d,\n",
    "                               Hl_f_v,\n",
    "                               Hl_r_v,\n",
    "                               Hl_h_v,\n",
    "                               Hl_diff_v,\n",
    "                               P_in,\n",
    "                               P_out,\n",
    "                               eta)\n"
   ],
   "metadata": {
    "collapsed": false,
    "pycharm": {
     "name": "#%%\n"
    }
   }
  },
  {
   "cell_type": "code",
   "execution_count": 1463,
   "outputs": [],
   "source": [
    "pump = CentrifugalPump(fluid=\"INCOMP::Water\", temperature=300, data=pump)"
   ],
   "metadata": {
    "collapsed": false,
    "pycharm": {
     "name": "#%%\n"
    }
   }
  },
  {
   "cell_type": "code",
   "execution_count": 1464,
   "outputs": [
    {
     "name": "stdout",
     "output_type": "stream",
     "text": [
      "PumpPerformance(head=10.251368095634326, head_incidence=17.059758935754, head_theoretical=14.902129662218318, pump_friction_loss=0.5100544748491974, pump_incidence_loss=0.25545044372743275, pump_diffusion_loss=0.49770174006882706, volute_friction_loss=0.000676385426805344, volute_radial_loss=0.014513460793565205, volute_head_loss=0.6322158957987962, volute_diffuser_loss=2.1510715424371445, power_in=6968.5213158773695, power_out=4015.524710849517, pump_efficiency=0.5762377022081253)\n"
     ]
    }
   ],
   "source": [
    "\n",
    "\n",
    "\n",
    "\n",
    "results = pump.pump_head(Q=pump_flow, n=pump_rpm, temperature=300)\n",
    "print(results)"
   ],
   "metadata": {
    "collapsed": false,
    "pycharm": {
     "name": "#%%\n"
    }
   }
  }
 ],
 "metadata": {
  "kernelspec": {
   "display_name": "Python 3 (ipykernel)",
   "language": "python",
   "name": "python3"
  }
 },
 "nbformat": 4,
 "nbformat_minor": 4
}